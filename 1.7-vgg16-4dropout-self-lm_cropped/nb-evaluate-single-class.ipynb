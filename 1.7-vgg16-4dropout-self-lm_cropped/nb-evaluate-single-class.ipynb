{
 "cells": [
  {
   "cell_type": "markdown",
   "metadata": {},
   "source": [
    "# Arguments"
   ]
  },
  {
   "cell_type": "code",
   "execution_count": 11,
   "metadata": {},
   "outputs": [],
   "source": [
    "# inceptionv3-ft-pv-self-eb,ap,lm,ct\n",
    "\n",
    "num_of_epochs = 100\n",
    "batch_size = 32\n",
    "\n",
    "final_model_path= 'model-final.h5'\n",
    "\n",
    "input_width = 224\n",
    "input_height = 224\n",
    "input_depth = 3\n"
   ]
  },
  {
   "cell_type": "markdown",
   "metadata": {},
   "source": [
    "# Select validation classes"
   ]
  },
  {
   "cell_type": "code",
   "execution_count": 12,
   "metadata": {},
   "outputs": [],
   "source": [
    "class_paths_validation = ['../datasets/validation/___Early_blight', '../datasets/validation/___Appids', '../datasets/validation/___Leaf_miner', '../datasets/validation/___Curly_top_virus']"
   ]
  },
  {
   "cell_type": "code",
   "execution_count": 13,
   "metadata": {},
   "outputs": [
    {
     "name": "stdout",
     "output_type": "stream",
     "text": [
      "3\n"
     ]
    }
   ],
   "source": [
    "class_labels = ['___Appids', '___Curly_top_virus', '___Early_blight', '___Leaf_miner']\n",
    "\n",
    "class_path = '../datasets/validation/___Curly_top_virus'\n",
    "\n",
    "\n",
    "\n",
    "index = class_paths_validation.index(class_path)\n",
    "print(index)\n"
   ]
  },
  {
   "cell_type": "markdown",
   "metadata": {},
   "source": [
    "# Load dataset"
   ]
  },
  {
   "cell_type": "code",
   "execution_count": 14,
   "metadata": {},
   "outputs": [
    {
     "name": "stdout",
     "output_type": "stream",
     "text": [
      "[INFO] loading images...\n"
     ]
    }
   ],
   "source": [
    "from imutils import paths\n",
    "import numpy as np\n",
    "import os\n",
    "from sklearn.preprocessing import LabelBinarizer\n",
    "\n",
    "import sys\n",
    "sys.path.append('..')\n",
    "\n",
    "from utils.preprocessors.resize_image_preprocessor import resizeImagePreprocessor\n",
    "from utils.preprocessors.img_to_array_preprocessor import ImgToArrayPreprocessor\n",
    "from utils.io.dataset_loader import DatasetLoader\n",
    "\n",
    "print(\"[INFO] loading images...\")\n",
    "image_paths = list(paths.list_images(class_path))\n",
    "\n",
    "# Initial image preprocessing\n",
    "aap = resizeImagePreprocessor(input_width, input_height)\n",
    "iap= ImgToArrayPreprocessor()\n",
    "\n",
    "#Load image data and perform image data preprocessing\n",
    "dl = DatasetLoader(preprocessors=[aap,iap])\n",
    "(test_x,test_y)  = dl.load(image_paths,verbose=500)\n",
    "\n",
    "\n",
    "from sklearn.preprocessing import LabelEncoder\n",
    "\n",
    "# Encode labels as integers\n",
    "le = LabelEncoder()\n",
    "test_y = le.fit_transform(test_y)\n",
    "test_x = test_x.astype(\"float\") / 255.0\n"
   ]
  },
  {
   "cell_type": "markdown",
   "metadata": {},
   "source": [
    "# Load model from disk"
   ]
  },
  {
   "cell_type": "code",
   "execution_count": 15,
   "metadata": {},
   "outputs": [],
   "source": [
    "# import tensorflow as tf\n",
    "# print(tf.__version__)\n",
    "\n",
    "\n",
    "# model = tf.keras.models.load_model(\n",
    "#     final_model_path,\n",
    "#     custom_objects=None,\n",
    "#     compile=False\n",
    "# )\n",
    "\n",
    "from keras.models import load_model\n",
    "\n",
    "model = load_model(final_model_path)"
   ]
  },
  {
   "cell_type": "markdown",
   "metadata": {},
   "source": [
    "# Make predictions"
   ]
  },
  {
   "cell_type": "code",
   "execution_count": 16,
   "metadata": {},
   "outputs": [
    {
     "name": "stdout",
     "output_type": "stream",
     "text": [
      "[INFO] Predicting...\n",
      "[0 0 0 0 0 0 0 0 0 0 0 0 0 0]\n",
      "[1 0 1 0 1 1 1 0 0 1 1 1 1 1]\n",
      "14\n",
      "correct_count : 0\n",
      "wrong_count : 14\n",
      "dict_keys(['___Appids', '___Curly_top_virus'])\n",
      "dict_values([4, 10])\n"
     ]
    }
   ],
   "source": [
    "# Make predictions on the images\n",
    "print(\"[INFO] Predicting...\")\n",
    "predictions = model.predict(test_x, batch_size=batch_size).argmax(axis=1)\n",
    "\n",
    "print(test_y)\n",
    "print(predictions)\n",
    "\n",
    "correct_count = 0\n",
    "wrong_count = 0\n",
    "wrong_list = []\n",
    "\n",
    "for (i, prediction) in enumerate(predictions):\n",
    "    if(prediction == index):\n",
    "        correct_count += 1\n",
    "    else:\n",
    "        wrong_count +=1\n",
    "        wrong_list.append(class_labels[prediction])\n",
    "\n",
    "print(len(predictions))\n",
    "print('correct_count : ' + str(correct_count))\n",
    "print('wrong_count : ' + str(wrong_count))\n",
    "\n",
    "from collections import Counter\n",
    "keys = Counter(wrong_list).keys() # equals to list(set(words))\n",
    "values = Counter(wrong_list).values() # counts the elements' frequency\n",
    "\n",
    "print(keys)\n",
    "print(values)\n",
    "    "
   ]
  },
  {
   "cell_type": "code",
   "execution_count": 19,
   "metadata": {},
   "outputs": [],
   "source": [
    "import cv2\n",
    "import matplotlib.pyplot as plt\n",
    "import time\n",
    "\n",
    "# loop over the sample images\n",
    "for (i, image_path) in enumerate(image_paths):\n",
    "    # Load the example image, draw the prediction, and display it\n",
    "    image = plt.imread(image_path)\n",
    "    color = (0, 255, 0)\n",
    "    if(predictions[i] == index):\n",
    "        color = (255, 0, 0)\n",
    "        font_size = int(image.shape[1] * (0.2/100))\n",
    "        font_thickness = int(image.shape[1] * (0.2/30))\n",
    "        cv2.putText(image, \"Label: {}\".format(class_labels[predictions[i]]), (100, 100), cv2.FONT_HERSHEY_SIMPLEX, font_size, color, font_thickness)\n",
    "        plt.subplots(1, 1)\n",
    "        plt.imshow(image)\n",
    "        print(image_path)\n"
   ]
  },
  {
   "cell_type": "code",
   "execution_count": 18,
   "metadata": {},
   "outputs": [],
   "source": [
    "# import cv2\n",
    "# import matplotlib.pyplot as plt\n",
    "# import time\n",
    "\n",
    "# # loop over the sample images\n",
    "# for (i, image_path) in enumerate(image_paths):\n",
    "#     # Load the example image, draw the prediction, and display it\n",
    "#     image = plt.imread(image_path)\n",
    "#     color = (0, 255, 0)\n",
    "#     if(predictions[i] != 2):\n",
    "#         color = (255, 0, 0)\n",
    "#         font_size = int(image.shape[1] * (0.2/100))\n",
    "#         font_thickness = int(image.shape[1] * (0.2/30))\n",
    "#         x_pos = int(image.shape[0]/3)\n",
    "#         y_pos = int(image.shape[1]/2)\n",
    "#         image_pos = (x_pos, y_pos)\n",
    "#         cv2.putText(image, \"Label: {}\".format(class_labels[predictions[i]]), image_pos, cv2.FONT_HERSHEY_SIMPLEX, font_size, color, font_thickness)\n",
    "#         plt.subplots(1, 1)\n",
    "#         plt.imshow(image)\n"
   ]
  },
  {
   "cell_type": "code",
   "execution_count": null,
   "metadata": {},
   "outputs": [],
   "source": []
  }
 ],
 "metadata": {
  "file_extension": ".py",
  "kernelspec": {
   "display_name": "Python 3",
   "language": "python",
   "name": "python3"
  },
  "language_info": {
   "codemirror_mode": {
    "name": "ipython",
    "version": 3
   },
   "file_extension": ".py",
   "mimetype": "text/x-python",
   "name": "python",
   "nbconvert_exporter": "python",
   "pygments_lexer": "ipython3",
   "version": "3.5.3"
  },
  "mimetype": "text/x-python",
  "name": "python",
  "npconvert_exporter": "python",
  "pygments_lexer": "ipython3",
  "version": 3
 },
 "nbformat": 4,
 "nbformat_minor": 4
}

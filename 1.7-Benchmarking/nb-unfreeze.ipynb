{
 "cells": [
  {
   "cell_type": "markdown",
   "metadata": {},
   "source": [
    "# Arguments"
   ]
  },
  {
   "cell_type": "code",
   "execution_count": 4,
   "metadata": {},
   "outputs": [],
   "source": [
    "batch_size = 32\n",
    "dataset_path_plantvillage = '../datasets/plantvillage'\n",
    "dataset_path_self = '../datasets/self'\n",
    "dataset_path_validation = '../datasets/validation'\n",
    "\n",
    "dataset_paths = [dataset_path_plantvillage, dataset_path_self, dataset_path_validation]\n",
    "\n",
    "warmup_model_path = 'model-warmup.h5'\n",
    "model_save_path = 'model-final.h5'\n",
    "checkpoint_path = 'checkpoints-finetuning.hdf5'\n",
    "\n",
    "input_width = 224\n",
    "input_height = 224\n",
    "input_depth = 3\n",
    "\n",
    "# --------------------------------------------------\n",
    "num_of_epochs = 120\n",
    "start_epoch = 0\n",
    "# --------------------------------------------------\n"
   ]
  },
  {
   "cell_type": "markdown",
   "metadata": {},
   "source": [
    "# Select training classes"
   ]
  },
  {
   "cell_type": "code",
   "execution_count": 5,
   "metadata": {},
   "outputs": [],
   "source": [
    "class_paths_training = ['../datasets/plantvillage/___Late_blight', '../datasets/plantvillage/___Early_blight', '../datasets/plantvillage/___Septoria_leaf_spot', '../datasets/plantvillage/___Bacterial_spot']"
   ]
  },
  {
   "cell_type": "markdown",
   "metadata": {},
   "source": [
    "# Load dataset"
   ]
  },
  {
   "cell_type": "code",
   "execution_count": 6,
   "metadata": {},
   "outputs": [
    {
     "name": "stderr",
     "output_type": "stream",
     "text": [
      "Using TensorFlow backend.\n"
     ]
    },
    {
     "name": "stdout",
     "output_type": "stream",
     "text": [
      "[INFO] loading images...\n",
      "[INFO]: Processed 500/6807\n",
      "[INFO]: Processed 1000/6807\n",
      "[INFO]: Processed 1500/6807\n",
      "[INFO]: Processed 2000/6807\n",
      "[INFO]: Processed 2500/6807\n",
      "[INFO]: Processed 3000/6807\n",
      "[INFO]: Processed 3500/6807\n",
      "[INFO]: Processed 4000/6807\n",
      "[INFO]: Processed 4500/6807\n",
      "[INFO]: Processed 5000/6807\n",
      "[INFO]: Processed 5500/6807\n",
      "[INFO]: Processed 6000/6807\n",
      "[INFO]: Processed 6500/6807\n"
     ]
    }
   ],
   "source": [
    "from sklearn.preprocessing import LabelBinarizer\n",
    "from sklearn.model_selection import train_test_split\n",
    "from sklearn.metrics import classification_report\n",
    "from keras.preprocessing.image   import ImageDataGenerator\n",
    "from keras.optimizers import RMSprop\n",
    "from keras.layers import Input\n",
    "from keras.models import Model\n",
    "from keras .applications import VGG16\n",
    "from keras.optimizers import SGD\n",
    "from keras.models import Model\n",
    "from imutils import paths\n",
    "import numpy as np\n",
    "import os\n",
    "\n",
    "import sys\n",
    "sys.path.append('..')\n",
    "\n",
    "from utils.preprocessors.resize_image_preprocessor import resizeImagePreprocessor\n",
    "from utils.preprocessors.img_to_array_preprocessor import ImgToArrayPreprocessor\n",
    "from utils.io.dataset_loader import DatasetLoader\n",
    "\n",
    "# construct the image generator for data augmentation\n",
    "aug = ImageDataGenerator(   rotation_range=30,\n",
    "                            width_shift_range=0.1,\n",
    "                            height_shift_range=0.1,\n",
    "                            shear_range=0.2,\n",
    "                            zoom_range=0.2,\n",
    "                            horizontal_flip=True,\n",
    "                            fill_mode='nearest')\n",
    "\n",
    "def load_datasets(path_list):\n",
    "    # Load image paths\n",
    "    image_paths = []\n",
    "    print(\"[INFO] loading images...\")\n",
    "    for path in path_list:\n",
    "        image_paths.extend(list(paths.list_images(path)))\n",
    "        \n",
    "    # Get unique classnames\n",
    "\n",
    "    class_names = [pt.split(os.path.sep)[-2] for pt in image_paths]\n",
    "    class_names = [str(x) for x in np.unique(class_names)]\n",
    "\n",
    "    # Initial image preprocessing\n",
    "    aap = resizeImagePreprocessor(input_width, input_height)\n",
    "    iap= ImgToArrayPreprocessor()\n",
    "\n",
    "    #Load image data and perform image data preprocessing\n",
    "    dl = DatasetLoader(preprocessors=[aap,iap])\n",
    "    (data,labels)  = dl.load(image_paths,verbose=500)\n",
    "    data = data.astype(\"float\") / 255.0\n",
    "\n",
    "\n",
    "    # train test split\n",
    "    (train_x,test_x,train_y,test_y) = train_test_split(data,labels,test_size=0.25,random_state=42)\n",
    "\n",
    "    # convert the labels from integers to vectors\n",
    "    train_y = LabelBinarizer().fit_transform(train_y)\n",
    "    test_y = LabelBinarizer().fit_transform(test_y)\n",
    "    \n",
    "    return (train_x,test_x,train_y,test_y, class_names)\n",
    "\n",
    "(train_x,test_x,train_y,test_y, class_names) = load_datasets(class_paths_training)\n",
    "\n"
   ]
  },
  {
   "cell_type": "code",
   "execution_count": 7,
   "metadata": {},
   "outputs": [
    {
     "name": "stdout",
     "output_type": "stream",
     "text": [
      "4\n",
      "['___Bacterial_spot', '___Early_blight', '___Late_blight', '___Septoria_leaf_spot']\n"
     ]
    }
   ],
   "source": [
    "print(len(class_names))\n",
    "print(class_names)"
   ]
  },
  {
   "cell_type": "markdown",
   "metadata": {},
   "source": [
    "# Load model from disk"
   ]
  },
  {
   "cell_type": "code",
   "execution_count": 8,
   "metadata": {},
   "outputs": [],
   "source": [
    "# import tensorflow as tf\n",
    "# print(tf.__version__)\n",
    "\n",
    "\n",
    "# model = tf.keras.models.load_model(\n",
    "#     warmup_model_path,\n",
    "#     custom_objects=None,\n",
    "#     compile=False\n",
    "# )\n",
    "\n",
    "from keras.models import load_model\n",
    "\n",
    "model = load_model(warmup_model_path)"
   ]
  },
  {
   "cell_type": "markdown",
   "metadata": {},
   "source": [
    "# Print index of layers"
   ]
  },
  {
   "cell_type": "code",
   "execution_count": 9,
   "metadata": {},
   "outputs": [
    {
     "name": "stdout",
     "output_type": "stream",
     "text": [
      "[INFO]     0\tinput_1                       InputLayer\n",
      "[INFO]     1\tblock1_conv1                  Conv2D\n",
      "[INFO]     2\tblock1_conv2                  Conv2D\n",
      "[INFO]     3\tblock1_pool                   MaxPooling2D\n",
      "[INFO]     4\tblock2_conv1                  Conv2D\n",
      "[INFO]     5\tblock2_conv2                  Conv2D\n",
      "[INFO]     6\tblock2_pool                   MaxPooling2D\n",
      "[INFO]     7\tblock3_conv1                  Conv2D\n",
      "[INFO]     8\tblock3_conv2                  Conv2D\n",
      "[INFO]     9\tblock3_conv3                  Conv2D\n",
      "[INFO]    10\tblock3_pool                   MaxPooling2D\n",
      "[INFO]    11\tblock4_conv1                  Conv2D\n",
      "[INFO]    12\tblock4_conv2                  Conv2D\n",
      "[INFO]    13\tblock4_conv3                  Conv2D\n",
      "[INFO]    14\tblock4_pool                   MaxPooling2D\n",
      "[INFO]    15\tblock5_conv1                  Conv2D\n",
      "[INFO]    16\tblock5_conv2                  Conv2D\n",
      "[INFO]    17\tdropout_2                     Dropout\n",
      "[INFO]    18\tblock5_conv3                  Conv2D\n",
      "[INFO]    19\tdropout_3                     Dropout\n",
      "[INFO]    20\tblock5_pool                   MaxPooling2D\n",
      "[INFO]    21\tflatten                       Flatten\n",
      "[INFO]    22\tdense_1                       Dense\n",
      "[INFO]    23\tdropout_1                     Dropout\n",
      "[INFO]    24\tdense_2                       Dense\n"
     ]
    }
   ],
   "source": [
    "# iterate for all layers in the network and print its' index value\n",
    "for (i,layer) in enumerate(model.layers):\n",
    "    print(\"[INFO] {:5}\\t{:30}{}\".format(i, layer.name, layer.__class__.__name__))"
   ]
  },
  {
   "cell_type": "markdown",
   "metadata": {},
   "source": [
    "# Unfreeze final CONV layers"
   ]
  },
  {
   "cell_type": "code",
   "execution_count": 10,
   "metadata": {},
   "outputs": [
    {
     "name": "stdout",
     "output_type": "stream",
     "text": [
      "unfrozen\n"
     ]
    }
   ],
   "source": [
    "for layer in model.layers[:15]:\n",
    "   layer.trainable = False\n",
    "for layer in model.layers[15:]:\n",
    "   layer.trainable = True\n",
    "print('unfrozen')"
   ]
  },
  {
   "cell_type": "markdown",
   "metadata": {},
   "source": [
    "# Compile model"
   ]
  },
  {
   "cell_type": "code",
   "execution_count": 11,
   "metadata": {},
   "outputs": [
    {
     "name": "stdout",
     "output_type": "stream",
     "text": [
      "[INFO] re-compiling model ...\n"
     ]
    }
   ],
   "source": [
    "from keras.optimizers import SGD\n",
    "\n",
    "# Build the model from the new\n",
    "print(\"[INFO] re-compiling model ...\")\n",
    "opt = SGD(lr=0.0001, momentum=0.09)\n",
    "# Fine-tuning with a small learning rate\n",
    "model.compile(loss = 'categorical_crossentropy',optimizer = opt,\n",
    "              metrics=['accuracy'])\n"
   ]
  },
  {
   "cell_type": "markdown",
   "metadata": {},
   "source": [
    "# Checkpoints"
   ]
  },
  {
   "cell_type": "code",
   "execution_count": 12,
   "metadata": {},
   "outputs": [],
   "source": [
    "from keras.callbacks import ModelCheckpoint\n",
    "\n",
    "\n",
    "checkpoint = ModelCheckpoint(checkpoint_path, monitor='val_loss', mode='min', \n",
    "save_best_only=True, verbose=1)\n",
    "\n",
    "callbacks = [checkpoint]\n",
    "\n"
   ]
  },
  {
   "cell_type": "code",
   "execution_count": 13,
   "metadata": {},
   "outputs": [],
   "source": [
    "#load checkpoints if existing\n",
    "\n",
    "import os\n",
    "\n",
    "if(os.path.exists(checkpoint_path)):\n",
    "    model.load_weights(checkpoint_path)"
   ]
  },
  {
   "cell_type": "markdown",
   "metadata": {},
   "source": [
    "# Training Monitor"
   ]
  },
  {
   "cell_type": "code",
   "execution_count": 14,
   "metadata": {},
   "outputs": [],
   "source": [
    "from utils.callbacks.monitor import Monitor\n",
    "import pathlib\n",
    "import json\n",
    "import os\n",
    "\n",
    "fig_path = \"plot\"\n",
    "json_path = \"values.json\"\n",
    "values_path = 'values.json'\n",
    "\n",
    "callbacks.append(Monitor(fig_path, json_path, start_epoch))"
   ]
  },
  {
   "cell_type": "markdown",
   "metadata": {},
   "source": [
    "# Fit model"
   ]
  },
  {
   "cell_type": "code",
   "execution_count": null,
   "metadata": {},
   "outputs": [
    {
     "name": "stdout",
     "output_type": "stream",
     "text": [
      "Epoch 1/100\n",
      "159/159 [==============================] - 534s 3s/step - loss: 0.6057 - accuracy: 0.7465 - val_loss: 0.5568 - val_accuracy: 0.7826\n",
      "\n",
      "Epoch 00001: val_loss improved from inf to 0.55682, saving model to checkpoints-finetuning.hdf5\n",
      "Epoch 2/100\n",
      "159/159 [==============================] - 532s 3s/step - loss: 0.5885 - accuracy: 0.7556 - val_loss: 0.5328 - val_accuracy: 0.7703\n",
      "\n",
      "Epoch 00002: val_loss improved from 0.55682 to 0.53281, saving model to checkpoints-finetuning.hdf5\n",
      "Epoch 3/100\n",
      "159/159 [==============================] - 533s 3s/step - loss: 0.5823 - accuracy: 0.7613 - val_loss: 0.5759 - val_accuracy: 0.7879\n",
      "\n",
      "Epoch 00003: val_loss did not improve from 0.53281\n",
      "Epoch 4/100\n",
      "159/159 [==============================] - 534s 3s/step - loss: 0.5736 - accuracy: 0.7552 - val_loss: 0.5377 - val_accuracy: 0.8020\n",
      "\n",
      "Epoch 00004: val_loss did not improve from 0.53281\n",
      "Epoch 5/100\n",
      "159/159 [==============================] - 534s 3s/step - loss: 0.5621 - accuracy: 0.7692 - val_loss: 0.5143 - val_accuracy: 0.8073\n",
      "\n",
      "Epoch 00005: val_loss improved from 0.53281 to 0.51433, saving model to checkpoints-finetuning.hdf5\n",
      "Epoch 6/100\n",
      "159/159 [==============================] - 534s 3s/step - loss: 0.5530 - accuracy: 0.7666 - val_loss: 0.5051 - val_accuracy: 0.8126\n",
      "\n",
      "Epoch 00006: val_loss improved from 0.51433 to 0.50505, saving model to checkpoints-finetuning.hdf5\n",
      "Epoch 7/100\n",
      "159/159 [==============================] - 534s 3s/step - loss: 0.5471 - accuracy: 0.7660 - val_loss: 0.4968 - val_accuracy: 0.8049\n",
      "\n",
      "Epoch 00007: val_loss improved from 0.50505 to 0.49678, saving model to checkpoints-finetuning.hdf5\n",
      "Epoch 8/100\n",
      "159/159 [==============================] - 534s 3s/step - loss: 0.5517 - accuracy: 0.7719 - val_loss: 0.5048 - val_accuracy: 0.8355\n",
      "\n",
      "Epoch 00008: val_loss did not improve from 0.49678\n",
      "Epoch 9/100\n",
      "159/159 [==============================] - 534s 3s/step - loss: 0.5379 - accuracy: 0.7715 - val_loss: 0.4743 - val_accuracy: 0.8390\n",
      "\n",
      "Epoch 00009: val_loss improved from 0.49678 to 0.47430, saving model to checkpoints-finetuning.hdf5\n",
      "Epoch 10/100\n",
      "159/159 [==============================] - 535s 3s/step - loss: 0.5414 - accuracy: 0.7748 - val_loss: 0.4991 - val_accuracy: 0.8208\n",
      "\n",
      "Epoch 00010: val_loss did not improve from 0.47430\n",
      "Epoch 11/100\n",
      "159/159 [==============================] - 534s 3s/step - loss: 0.5324 - accuracy: 0.7745 - val_loss: 0.4684 - val_accuracy: 0.8167\n",
      "\n",
      "Epoch 00011: val_loss improved from 0.47430 to 0.46841, saving model to checkpoints-finetuning.hdf5\n",
      "Epoch 12/100\n",
      "159/159 [==============================] - 533s 3s/step - loss: 0.5548 - accuracy: 0.7716 - val_loss: 0.4733 - val_accuracy: 0.8373\n",
      "\n",
      "Epoch 00012: val_loss did not improve from 0.46841\n",
      "Epoch 13/100\n",
      "159/159 [==============================] - 535s 3s/step - loss: 0.5304 - accuracy: 0.7773 - val_loss: 0.4892 - val_accuracy: 0.8155\n",
      "\n",
      "Epoch 00013: val_loss did not improve from 0.46841\n",
      "Epoch 14/100\n",
      "159/159 [==============================] - 534s 3s/step - loss: 0.5243 - accuracy: 0.7818 - val_loss: 0.4581 - val_accuracy: 0.8449\n",
      "\n",
      "Epoch 00014: val_loss improved from 0.46841 to 0.45811, saving model to checkpoints-finetuning.hdf5\n",
      "Epoch 15/100\n",
      "159/159 [==============================] - 531s 3s/step - loss: 0.5133 - accuracy: 0.7821 - val_loss: 0.4627 - val_accuracy: 0.8384\n",
      "\n",
      "Epoch 00015: val_loss did not improve from 0.45811\n",
      "Epoch 16/100\n",
      "159/159 [==============================] - 532s 3s/step - loss: 0.5185 - accuracy: 0.7857 - val_loss: 0.4682 - val_accuracy: 0.8337\n",
      "\n",
      "Epoch 00016: val_loss did not improve from 0.45811\n",
      "Epoch 17/100\n",
      "159/159 [==============================] - 534s 3s/step - loss: 0.5068 - accuracy: 0.7921 - val_loss: 0.4404 - val_accuracy: 0.8531\n",
      "\n",
      "Epoch 00017: val_loss improved from 0.45811 to 0.44041, saving model to checkpoints-finetuning.hdf5\n",
      "Epoch 18/100\n",
      "159/159 [==============================] - 531s 3s/step - loss: 0.5205 - accuracy: 0.7833 - val_loss: 0.4510 - val_accuracy: 0.8484\n",
      "\n",
      "Epoch 00018: val_loss did not improve from 0.44041\n",
      "Epoch 19/100\n",
      "159/159 [==============================] - 532s 3s/step - loss: 0.5092 - accuracy: 0.7843 - val_loss: 0.4512 - val_accuracy: 0.8267\n",
      "\n",
      "Epoch 00019: val_loss did not improve from 0.44041\n",
      "Epoch 20/100\n",
      "159/159 [==============================] - 533s 3s/step - loss: 0.5165 - accuracy: 0.7780 - val_loss: 0.4430 - val_accuracy: 0.8531\n",
      "\n",
      "Epoch 00020: val_loss did not improve from 0.44041\n",
      "Epoch 21/100\n",
      "159/159 [==============================] - 533s 3s/step - loss: 0.5014 - accuracy: 0.7786 - val_loss: 0.4277 - val_accuracy: 0.8408\n",
      "\n",
      "Epoch 00021: val_loss improved from 0.44041 to 0.42767, saving model to checkpoints-finetuning.hdf5\n",
      "Epoch 22/100\n",
      "159/159 [==============================] - 534s 3s/step - loss: 0.5072 - accuracy: 0.7769 - val_loss: 0.4211 - val_accuracy: 0.8613\n",
      "\n",
      "Epoch 00022: val_loss improved from 0.42767 to 0.42110, saving model to checkpoints-finetuning.hdf5\n",
      "Epoch 23/100\n",
      "159/159 [==============================] - 531s 3s/step - loss: 0.5008 - accuracy: 0.7843 - val_loss: 0.4320 - val_accuracy: 0.8472\n",
      "\n",
      "Epoch 00023: val_loss did not improve from 0.42110\n",
      "Epoch 24/100\n",
      "159/159 [==============================] - 533s 3s/step - loss: 0.4843 - accuracy: 0.7964 - val_loss: 0.4224 - val_accuracy: 0.8425\n",
      "\n",
      "Epoch 00024: val_loss did not improve from 0.42110\n",
      "Epoch 25/100\n",
      "159/159 [==============================] - 532s 3s/step - loss: 0.4982 - accuracy: 0.7950 - val_loss: 0.4128 - val_accuracy: 0.8431\n",
      "\n",
      "Epoch 00025: val_loss improved from 0.42110 to 0.41280, saving model to checkpoints-finetuning.hdf5\n",
      "Epoch 26/100\n",
      "159/159 [==============================] - 533s 3s/step - loss: 0.4875 - accuracy: 0.7912 - val_loss: 0.4260 - val_accuracy: 0.8543\n",
      "\n",
      "Epoch 00026: val_loss did not improve from 0.41280\n",
      "Epoch 27/100\n",
      "159/159 [==============================] - 532s 3s/step - loss: 0.4812 - accuracy: 0.7950 - val_loss: 0.4082 - val_accuracy: 0.8490\n",
      "\n",
      "Epoch 00027: val_loss improved from 0.41280 to 0.40815, saving model to checkpoints-finetuning.hdf5\n",
      "Epoch 28/100\n",
      "159/159 [==============================] - 532s 3s/step - loss: 0.4866 - accuracy: 0.7897 - val_loss: 0.3720 - val_accuracy: 0.8707\n",
      "\n",
      "Epoch 00028: val_loss improved from 0.40815 to 0.37197, saving model to checkpoints-finetuning.hdf5\n",
      "Epoch 29/100\n",
      "159/159 [==============================] - 532s 3s/step - loss: 0.5068 - accuracy: 0.7851 - val_loss: 0.3997 - val_accuracy: 0.8543\n",
      "\n",
      "Epoch 00029: val_loss did not improve from 0.37197\n",
      "Epoch 30/100\n",
      "159/159 [==============================] - 532s 3s/step - loss: 0.4801 - accuracy: 0.7956 - val_loss: 0.4143 - val_accuracy: 0.8596\n",
      "\n",
      "Epoch 00030: val_loss did not improve from 0.37197\n",
      "Epoch 31/100\n",
      "159/159 [==============================] - 532s 3s/step - loss: 0.4881 - accuracy: 0.7911 - val_loss: 0.4036 - val_accuracy: 0.8461\n",
      "\n",
      "Epoch 00031: val_loss did not improve from 0.37197\n",
      "Epoch 32/100\n",
      "159/159 [==============================] - 532s 3s/step - loss: 0.4934 - accuracy: 0.7891 - val_loss: 0.3913 - val_accuracy: 0.8766\n",
      "\n",
      "Epoch 00032: val_loss did not improve from 0.37197\n",
      "Epoch 33/100\n",
      "159/159 [==============================] - 534s 3s/step - loss: 0.4747 - accuracy: 0.7982 - val_loss: 0.3777 - val_accuracy: 0.8725\n",
      "\n",
      "Epoch 00033: val_loss did not improve from 0.37197\n",
      "Epoch 34/100\n",
      "159/159 [==============================] - 530s 3s/step - loss: 0.4865 - accuracy: 0.8033 - val_loss: 0.4151 - val_accuracy: 0.8602\n",
      "\n",
      "Epoch 00034: val_loss did not improve from 0.37197\n",
      "Epoch 35/100\n",
      "159/159 [==============================] - 533s 3s/step - loss: 0.4713 - accuracy: 0.8013 - val_loss: 0.3766 - val_accuracy: 0.8749\n",
      "\n",
      "Epoch 00035: val_loss did not improve from 0.37197\n",
      "Epoch 36/100\n",
      "159/159 [==============================] - 531s 3s/step - loss: 0.4703 - accuracy: 0.7964 - val_loss: 0.3825 - val_accuracy: 0.8813\n",
      "\n",
      "Epoch 00036: val_loss did not improve from 0.37197\n",
      "Epoch 37/100\n",
      "159/159 [==============================] - 534s 3s/step - loss: 0.5022 - accuracy: 0.7903 - val_loss: 0.4265 - val_accuracy: 0.8502\n",
      "\n",
      "Epoch 00037: val_loss did not improve from 0.37197\n",
      "Epoch 38/100\n",
      "159/159 [==============================] - 531s 3s/step - loss: 0.4688 - accuracy: 0.7948 - val_loss: 0.3888 - val_accuracy: 0.8719\n",
      "\n",
      "Epoch 00038: val_loss did not improve from 0.37197\n",
      "Epoch 39/100\n",
      "159/159 [==============================] - 532s 3s/step - loss: 0.4728 - accuracy: 0.7956 - val_loss: 0.3714 - val_accuracy: 0.8707\n",
      "\n",
      "Epoch 00039: val_loss improved from 0.37197 to 0.37142, saving model to checkpoints-finetuning.hdf5\n",
      "Epoch 40/100\n",
      "159/159 [==============================] - 532s 3s/step - loss: 0.4904 - accuracy: 0.7869 - val_loss: 0.3859 - val_accuracy: 0.8543\n",
      "\n",
      "Epoch 00040: val_loss did not improve from 0.37142\n",
      "Epoch 41/100\n",
      "159/159 [==============================] - 532s 3s/step - loss: 0.4619 - accuracy: 0.7976 - val_loss: 0.4042 - val_accuracy: 0.8749\n",
      "\n",
      "Epoch 00041: val_loss did not improve from 0.37142\n",
      "Epoch 42/100\n",
      "159/159 [==============================] - 532s 3s/step - loss: 0.4715 - accuracy: 0.7974 - val_loss: 0.3784 - val_accuracy: 0.8696\n",
      "\n",
      "Epoch 00042: val_loss did not improve from 0.37142\n",
      "Epoch 43/100\n",
      "159/159 [==============================] - 532s 3s/step - loss: 0.4530 - accuracy: 0.8045 - val_loss: 0.3823 - val_accuracy: 0.8749\n",
      "\n",
      "Epoch 00043: val_loss did not improve from 0.37142\n",
      "Epoch 44/100\n",
      "159/159 [==============================] - 532s 3s/step - loss: 0.4542 - accuracy: 0.8021 - val_loss: 0.4148 - val_accuracy: 0.8531\n",
      "\n",
      "Epoch 00044: val_loss did not improve from 0.37142\n",
      "Epoch 45/100\n",
      "159/159 [==============================] - 533s 3s/step - loss: 0.4710 - accuracy: 0.7976 - val_loss: 0.4032 - val_accuracy: 0.8584\n",
      "\n",
      "Epoch 00045: val_loss did not improve from 0.37142\n",
      "Epoch 46/100\n",
      "159/159 [==============================] - 533s 3s/step - loss: 0.4678 - accuracy: 0.8003 - val_loss: 0.3588 - val_accuracy: 0.8919\n",
      "\n",
      "Epoch 00046: val_loss improved from 0.37142 to 0.35876, saving model to checkpoints-finetuning.hdf5\n",
      "Epoch 47/100\n",
      "159/159 [==============================] - 533s 3s/step - loss: 0.4640 - accuracy: 0.7928 - val_loss: 0.3852 - val_accuracy: 0.8602\n",
      "\n",
      "Epoch 00047: val_loss did not improve from 0.35876\n",
      "Epoch 48/100\n",
      " 79/159 [=============>................] - ETA: 3:29 - loss: 0.4733 - accuracy: 0.7998"
     ]
    }
   ],
   "source": [
    "num_of_epochs = 100\n",
    "\n",
    "H = model.fit_generator(\n",
    "    aug.flow(train_x,train_y, batch_size = 32),\n",
    "             validation_data = (test_x,test_y),\n",
    "             epochs=num_of_epochs,\n",
    "             steps_per_epoch = len(train_x) //32,\n",
    "             verbose = 1,\n",
    "             callbacks=callbacks)"
   ]
  },
  {
   "cell_type": "markdown",
   "metadata": {},
   "source": [
    "# Save model"
   ]
  },
  {
   "cell_type": "code",
   "execution_count": null,
   "metadata": {},
   "outputs": [],
   "source": [
    "model.save(model_save_path)"
   ]
  },
  {
   "cell_type": "markdown",
   "metadata": {},
   "source": [
    "# Evaluate with 20%"
   ]
  },
  {
   "cell_type": "code",
   "execution_count": null,
   "metadata": {},
   "outputs": [],
   "source": [
    "from sklearn.metrics import classification_report\n",
    "\n",
    "print(\"[INFO] evaluating after initialization...\")\n",
    "predictions = model.predict(test_x,batch_size=batch_size)\n",
    "\n",
    "print(classification_report(test_y.argmax(axis =1),\n",
    "                            predictions.argmax(axis =1),\n",
    "                            target_names=class_names, \n",
    "                            digits=4))"
   ]
  },
  {
   "cell_type": "markdown",
   "metadata": {},
   "source": [
    "# Evaluate with validation images"
   ]
  },
  {
   "cell_type": "code",
   "execution_count": null,
   "metadata": {},
   "outputs": [],
   "source": [
    "class_paths_validation = ['../datasets/validation/___Early_blight', '../datasets/validation/___Appids', '../datasets/validation/___Leaf_miner', '../datasets/self/___Curly_top_virus']"
   ]
  },
  {
   "cell_type": "code",
   "execution_count": null,
   "metadata": {},
   "outputs": [],
   "source": [
    "(train_x,test_x,train_y,test_y, class_names) = load_datasets(class_paths_validation)\n",
    "\n",
    "from sklearn.metrics import classification_report\n",
    "\n",
    "print(\"[INFO] evaluating with validation set...\")\n",
    "predictions = model.predict(test_x,batch_size=batch_size)\n",
    "\n",
    "print(classification_report(test_y.argmax(axis =1),\n",
    "                            predictions.argmax(axis =1),\n",
    "                            target_names=class_names, \n",
    "                            digits=4))"
   ]
  }
 ],
 "metadata": {
  "file_extension": ".py",
  "kernelspec": {
   "display_name": "Python 3",
   "language": "python",
   "name": "python3"
  },
  "language_info": {
   "codemirror_mode": {
    "name": "ipython",
    "version": 3
   },
   "file_extension": ".py",
   "mimetype": "text/x-python",
   "name": "python",
   "nbconvert_exporter": "python",
   "pygments_lexer": "ipython3",
   "version": "3.5.3"
  },
  "mimetype": "text/x-python",
  "name": "python",
  "npconvert_exporter": "python",
  "pygments_lexer": "ipython3",
  "version": 3
 },
 "nbformat": 4,
 "nbformat_minor": 4
}

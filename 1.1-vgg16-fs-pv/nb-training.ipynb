{
 "cells": [
  {
   "cell_type": "markdown",
   "metadata": {},
   "source": [
    "\n",
    "# Arguments"
   ]
  },
  {
   "cell_type": "code",
   "execution_count": 1,
   "metadata": {},
   "outputs": [],
   "source": [
    "#vgg16-fs-pv\n",
    "num_of_epochs = 25\n",
    "batch_size = 32\n",
    "dataset_path_plantvillage = '../datasets/plantvillage'\n",
    "dataset_path_self = '../datasets/self'\n",
    "dataset_path_validation = '../datasets/validation'\n",
    "\n",
    "dataset_paths = [dataset_path_plantvillage, dataset_path_self, dataset_path_validation]\n",
    "\n",
    "model_save_path = 'model-warmup.h5'\n",
    "\n",
    "checkpoint_path = 'checkpoints-warmup.hdf5'\n",
    "\n",
    "input_width = 224\n",
    "input_height = 224\n",
    "input_depth = 3"
   ]
  },
  {
   "cell_type": "markdown",
   "metadata": {},
   "source": [
    "# Print class names"
   ]
  },
  {
   "cell_type": "code",
   "execution_count": 2,
   "metadata": {},
   "outputs": [
    {
     "name": "stdout",
     "output_type": "stream",
     "text": [
      "['___Yellow_Leaf_Curl_Virus', '___Late_blight', '___Early_blight', '___Two-spotted_spider_mite', '___Septoria_leaf_spot', '___Bacterial_spot', '___healthy', '___Target_Spot', '___Mosaic_Virus', '___Leaf_Mold', '___Leaf_miner', '___Appids']\n",
      "\n",
      "PlantVillage\n",
      "['../datasets/plantvillage/___Yellow_Leaf_Curl_Virus', '../datasets/plantvillage/___Late_blight', '../datasets/plantvillage/___Early_blight', '../datasets/plantvillage/___Two-spotted_spider_mite', '../datasets/plantvillage/___Septoria_leaf_spot', '../datasets/plantvillage/___Bacterial_spot', '../datasets/plantvillage/___healthy', '../datasets/plantvillage/___Target_Spot', '../datasets/plantvillage/___Mosaic_Virus', '../datasets/plantvillage/___Leaf_Mold']\n",
      "10\n",
      "\n",
      "Self\n",
      "['../datasets/self/___Leaf_miner', '../datasets/self/___Early_blight', '../datasets/self/___Appids']\n",
      "3\n",
      "\n",
      "Validation\n",
      "['../datasets/validation/___Leaf_miner', '../datasets/validation/___Yellow_Leaf_Curl_Virus', '../datasets/validation/___Late_blight', '../datasets/validation/___Early_blight', '../datasets/validation/___Bacterial_spot', '../datasets/validation/___healthy', '../datasets/validation/___Appids', '../datasets/validation/___Target_Spot', '../datasets/validation/___Mosaic_Virus', '../datasets/validation/___Leaf_Mold']\n",
      "10\n"
     ]
    }
   ],
   "source": [
    "# Get classes\n",
    "import os\n",
    "import re\n",
    "\n",
    "class_names = []\n",
    "class_paths_plant_village = []\n",
    "class_paths_plant_self = []\n",
    "class_paths_plant_validation = []\n",
    "\n",
    "for path in dataset_paths:\n",
    "    classes = os.listdir(path)\n",
    "    for i in classes:\n",
    "        if(re.search('___', i)):\n",
    "            if(i not in class_names):\n",
    "                class_names.append(i)\n",
    "            if(re.search('plantvillage', path)):\n",
    "                class_paths_plant_village.append(path + '/' + i)\n",
    "            elif(re.search('self', path)):\n",
    "                class_paths_plant_self.append(path + '/' + i)\n",
    "            else:\n",
    "                class_paths_plant_validation.append(path + '/' + i)\n",
    "\n",
    "print(class_names)   \n",
    "print()\n",
    "print('PlantVillage')\n",
    "print(class_paths_plant_village) \n",
    "print(len(class_paths_plant_village))\n",
    "print()\n",
    "print('Self')\n",
    "print(class_paths_plant_self) \n",
    "print(len(class_paths_plant_self))\n",
    "print()\n",
    "print('Validation')\n",
    "print(class_paths_plant_validation) \n",
    "print(len(class_paths_plant_validation))"
   ]
  },
  {
   "cell_type": "markdown",
   "metadata": {},
   "source": [
    "# Select training classes\n",
    "\n",
    "early blight in plantVillage dataset replaced by self one"
   ]
  },
  {
   "cell_type": "code",
   "execution_count": 3,
   "metadata": {},
   "outputs": [],
   "source": [
    "class_paths_training = ['../datasets/plantvillage/___Late_blight', '../datasets/plantvillage/___Target_Spot', '../datasets/plantvillage/___healthy', '../datasets/plantvillage/___Mosaic_Virus', '../datasets/plantvillage/___Yellow_Leaf_Curl_Virus', '../datasets/plantvillage/___Leaf_Mold', '../datasets/plantvillage/___Bacterial_spot', '../datasets/plantvillage/___Early_blight']"
   ]
  },
  {
   "cell_type": "markdown",
   "metadata": {},
   "source": [
    "# Load dataset"
   ]
  },
  {
   "cell_type": "code",
   "execution_count": 4,
   "metadata": {},
   "outputs": [
    {
     "name": "stderr",
     "output_type": "stream",
     "text": [
      "Using TensorFlow backend.\n"
     ]
    },
    {
     "name": "stdout",
     "output_type": "stream",
     "text": [
      "[INFO] loading images...\n",
      "[INFO]: Processed 500/14713\n",
      "[INFO]: Processed 1000/14713\n",
      "[INFO]: Processed 1500/14713\n",
      "[INFO]: Processed 2000/14713\n",
      "[INFO]: Processed 2500/14713\n",
      "[INFO]: Processed 3000/14713\n",
      "[INFO]: Processed 3500/14713\n",
      "[INFO]: Processed 4000/14713\n",
      "[INFO]: Processed 4500/14713\n",
      "[INFO]: Processed 5000/14713\n",
      "[INFO]: Processed 5500/14713\n",
      "[INFO]: Processed 6000/14713\n",
      "[INFO]: Processed 6500/14713\n",
      "[INFO]: Processed 7000/14713\n",
      "[INFO]: Processed 7500/14713\n",
      "[INFO]: Processed 8000/14713\n",
      "[INFO]: Processed 8500/14713\n",
      "[INFO]: Processed 9000/14713\n",
      "[INFO]: Processed 9500/14713\n",
      "[INFO]: Processed 10000/14713\n",
      "[INFO]: Processed 10500/14713\n",
      "[INFO]: Processed 11000/14713\n",
      "[INFO]: Processed 11500/14713\n",
      "[INFO]: Processed 12000/14713\n",
      "[INFO]: Processed 12500/14713\n",
      "[INFO]: Processed 13000/14713\n",
      "[INFO]: Processed 13500/14713\n",
      "[INFO]: Processed 14000/14713\n",
      "[INFO]: Processed 14500/14713\n"
     ]
    }
   ],
   "source": [
    "from sklearn.preprocessing import LabelBinarizer\n",
    "from sklearn.model_selection import train_test_split\n",
    "from sklearn.metrics import classification_report\n",
    "from keras.preprocessing.image   import ImageDataGenerator\n",
    "from keras.optimizers import RMSprop\n",
    "from keras.layers import Input\n",
    "from keras.models import Model\n",
    "from keras .applications import VGG16\n",
    "from keras.optimizers import SGD\n",
    "from keras.models import Model\n",
    "from imutils import paths\n",
    "import numpy as np\n",
    "import os\n",
    "\n",
    "import sys\n",
    "sys.path.append('..')\n",
    "\n",
    "from utils.preprocessors.aspect_aware_preprocessor import AspectAwarePreprocessor\n",
    "from utils.preprocessors.image_to_array_preprocessor import ImageToArrayPreprocessor\n",
    "from utils.io.simple_dataset_loader import SimpleDatasetLoader\n",
    "\n",
    "# construct the image generator for data augmentation\n",
    "aug = ImageDataGenerator(   rotation_range=30,\n",
    "                            width_shift_range=0.1,\n",
    "                            height_shift_range=0.1,\n",
    "                            shear_range=0.2,\n",
    "                            zoom_range=0.2,\n",
    "                            horizontal_flip=True,\n",
    "                            fill_mode='nearest')\n",
    "\n",
    "# Load image paths\n",
    "image_paths = []\n",
    "print(\"[INFO] loading images...\")\n",
    "for path in class_paths_training:\n",
    "    image_paths.extend(list(paths.list_images(path)))\n",
    "    \n",
    "# Get unique classnames\n",
    "\n",
    "class_names = [pt.split(os.path.sep)[-2] for pt in image_paths]\n",
    "class_names = [str(x) for x in np.unique(class_names)]\n",
    "\n",
    "# Initial image preprocessing\n",
    "aap = AspectAwarePreprocessor(input_width, input_height)\n",
    "iap= ImageToArrayPreprocessor()\n",
    "\n",
    "#Load image data and perform image data preprocessing\n",
    "sdl = SimpleDatasetLoader(preprocessors=[aap,iap])\n",
    "(data,labels)  = sdl.load(image_paths,verbose=500)\n",
    "data = data.astype(\"float\") / 255.0\n",
    "\n",
    "\n",
    "# train test split\n",
    "(train_x,test_x,train_y,test_y) = train_test_split(data,labels,test_size=0.25,random_state=42)\n",
    "\n",
    "# convert the labels from integers to vectors\n",
    "train_y = LabelBinarizer().fit_transform(train_y)\n",
    "test_y = LabelBinarizer().fit_transform(test_y)\n",
    "\n"
   ]
  },
  {
   "cell_type": "markdown",
   "metadata": {},
   "source": [
    "\n",
    "# Load model"
   ]
  },
  {
   "cell_type": "code",
   "execution_count": 5,
   "metadata": {},
   "outputs": [],
   "source": [
    "from keras.applications import VGG16\n",
    "from keras.utils.vis_utils import plot_model\n",
    "from keras.layers import Input\n",
    "\n",
    "\n",
    "\n",
    "# Load pretrianed VGG model with FC layers removed\n",
    "# explicitly deﬁne the input_tensor to be 224×224×3 pixels\n",
    "base_model = VGG16( weights=None,\n",
    "                    include_top=False,\n",
    "                    input_tensor=Input(shape = (input_width,input_height, input_depth)))\n",
    "\n",
    "plot_save_path = 'diagram-top-removed.png'\n",
    "# plot_model(base_model, to_file=plot_save_path, show_shapes=True)"
   ]
  },
  {
   "cell_type": "markdown",
   "metadata": {},
   "source": [
    "# Custom FC layer"
   ]
  },
  {
   "cell_type": "code",
   "execution_count": 6,
   "metadata": {},
   "outputs": [],
   "source": [
    "from keras.layers.core import Dropout\n",
    "from keras.layers.core import Flatten\n",
    "from keras.layers.core import Dense\n",
    "\n",
    "head_model = base_model.output\n",
    "head_model = Flatten(name='flatten')(head_model)\n",
    "head_model = Dense(4096,activation='relu')(head_model)\n",
    "head_model = Dense(4096,activation='relu')(head_model)\n",
    "# Add a softmaxc layer\n",
    "head_model = Dense(len(class_names),activation='softmax')(head_model)"
   ]
  },
  {
   "cell_type": "markdown",
   "metadata": {},
   "source": [
    "# Attach custom head to model"
   ]
  },
  {
   "cell_type": "code",
   "execution_count": 7,
   "metadata": {},
   "outputs": [],
   "source": [
    "from keras.models import Model\n",
    "\n",
    "\n",
    "# place the head FC model on top of the base model \n",
    "model = Model(inputs=base_model.input, outputs = head_model)\n",
    "\n",
    "# plot_save_path = 'diagram-head-attached.png'\n",
    "# plot_model(model, to_file=plot_save_path, show_shapes=True)"
   ]
  },
  {
   "cell_type": "markdown",
   "metadata": {},
   "source": [
    "# Compile model"
   ]
  },
  {
   "cell_type": "code",
   "execution_count": 8,
   "metadata": {},
   "outputs": [
    {
     "name": "stdout",
     "output_type": "stream",
     "text": [
      "[INFO] re-compiling model ...\n"
     ]
    }
   ],
   "source": [
    "from keras.optimizers import SGD\n",
    "\n",
    "# Build the model from the new\n",
    "print(\"[INFO] re-compiling model ...\")\n",
    "opt = SGD(lr=0.001, momentum=0.09)\n",
    "\n",
    "model.compile(loss=\"categorical_crossentropy\", optimizer=opt,metrics=[\"accuracy\"])\n",
    "# Since we only train the new fully connected layer, we do a few iterations"
   ]
  },
  {
   "cell_type": "markdown",
   "metadata": {},
   "source": [
    "# Checkpoints"
   ]
  },
  {
   "cell_type": "code",
   "execution_count": 9,
   "metadata": {},
   "outputs": [],
   "source": [
    "from keras.callbacks import ModelCheckpoint\n",
    "\n",
    "\n",
    "checkpoint = ModelCheckpoint(checkpoint_path, monitor='val_loss', mode='min', \n",
    "save_best_only=True, verbose=1)\n",
    "\n",
    "callbacks = [checkpoint]\n",
    "\n"
   ]
  },
  {
   "cell_type": "code",
   "execution_count": 10,
   "metadata": {},
   "outputs": [],
   "source": [
    "#load checkpoints if existing\n",
    "\n",
    "import os\n",
    "\n",
    "if(os.path.exists(checkpoint_path)):\n",
    "    model.load_weights(checkpoint_path)\n"
   ]
  },
  {
   "cell_type": "markdown",
   "metadata": {},
   "source": [
    "# Training monitor"
   ]
  },
  {
   "cell_type": "code",
   "execution_count": 11,
   "metadata": {},
   "outputs": [],
   "source": [
    "from utils.callbacks.training_monitor import TrainingMonitor\n",
    "import pathlib\n",
    "import json\n",
    "import os\n",
    "\n",
    "fig_path = \"plot\"\n",
    "json_path = \"values.json\"\n",
    "values_path = 'values.json'\n",
    "\n",
    "start_epoch = 0\n",
    "\n",
    "callbacks.append(TrainingMonitor(fig_path, json_path, start_epoch))"
   ]
  },
  {
   "cell_type": "markdown",
   "metadata": {},
   "source": [
    "# Warm up head"
   ]
  },
  {
   "cell_type": "code",
   "execution_count": null,
   "metadata": {},
   "outputs": [
    {
     "name": "stdout",
     "output_type": "stream",
     "text": [
      "Epoch 1/50\n",
      "344/344 [==============================] - 369s 1s/step - loss: 0.0755 - accuracy: 0.9733 - val_loss: 0.0893 - val_accuracy: 0.9723\n",
      "\n",
      "Epoch 00001: val_loss improved from inf to 0.08931, saving model to checkpoints-warmup.hdf5\n",
      "Epoch 2/50\n",
      "344/344 [==============================] - 346s 1s/step - loss: 0.0694 - accuracy: 0.9754 - val_loss: 0.0886 - val_accuracy: 0.9739\n",
      "\n",
      "Epoch 00002: val_loss improved from 0.08931 to 0.08865, saving model to checkpoints-warmup.hdf5\n",
      "Epoch 3/50\n",
      "344/344 [==============================] - 346s 1s/step - loss: 0.0730 - accuracy: 0.9747 - val_loss: 0.0827 - val_accuracy: 0.9734\n",
      "\n",
      "Epoch 00003: val_loss improved from 0.08865 to 0.08270, saving model to checkpoints-warmup.hdf5\n",
      "Epoch 4/50\n",
      "344/344 [==============================] - 346s 1s/step - loss: 0.0773 - accuracy: 0.9742 - val_loss: 0.0780 - val_accuracy: 0.9723\n",
      "\n",
      "Epoch 00004: val_loss improved from 0.08270 to 0.07801, saving model to checkpoints-warmup.hdf5\n",
      "Epoch 5/50\n",
      "344/344 [==============================] - 346s 1s/step - loss: 0.0690 - accuracy: 0.9752 - val_loss: 0.0850 - val_accuracy: 0.9715\n",
      "\n",
      "Epoch 00005: val_loss did not improve from 0.07801\n",
      "Epoch 6/50\n",
      "344/344 [==============================] - 346s 1s/step - loss: 0.0685 - accuracy: 0.9761 - val_loss: 0.0809 - val_accuracy: 0.9758\n",
      "\n",
      "Epoch 00006: val_loss did not improve from 0.07801\n",
      "Epoch 7/50\n",
      "344/344 [==============================] - 346s 1s/step - loss: 0.0662 - accuracy: 0.9761 - val_loss: 0.0894 - val_accuracy: 0.9712\n",
      "\n",
      "Epoch 00007: val_loss did not improve from 0.07801\n",
      "Epoch 8/50\n",
      "344/344 [==============================] - 346s 1s/step - loss: 0.0733 - accuracy: 0.9758 - val_loss: 0.0904 - val_accuracy: 0.9696\n",
      "\n",
      "Epoch 00008: val_loss did not improve from 0.07801\n",
      "Epoch 9/50\n",
      "344/344 [==============================] - 346s 1s/step - loss: 0.0689 - accuracy: 0.9763 - val_loss: 0.0790 - val_accuracy: 0.9747\n",
      "\n",
      "Epoch 00009: val_loss did not improve from 0.07801\n",
      "Epoch 10/50\n",
      "344/344 [==============================] - 346s 1s/step - loss: 0.0666 - accuracy: 0.9763 - val_loss: 0.0792 - val_accuracy: 0.9747\n",
      "\n",
      "Epoch 00010: val_loss did not improve from 0.07801\n",
      "Epoch 11/50\n",
      "344/344 [==============================] - 346s 1s/step - loss: 0.0600 - accuracy: 0.9795 - val_loss: 0.0815 - val_accuracy: 0.9739\n",
      "\n",
      "Epoch 00011: val_loss did not improve from 0.07801\n",
      "Epoch 12/50\n",
      "344/344 [==============================] - 346s 1s/step - loss: 0.0665 - accuracy: 0.9770 - val_loss: 0.2044 - val_accuracy: 0.9350\n",
      "\n",
      "Epoch 00012: val_loss did not improve from 0.07801\n",
      "Epoch 13/50\n",
      "344/344 [==============================] - 346s 1s/step - loss: 0.0698 - accuracy: 0.9764 - val_loss: 0.0924 - val_accuracy: 0.9679\n",
      "\n",
      "Epoch 00013: val_loss did not improve from 0.07801\n",
      "Epoch 14/50\n",
      "344/344 [==============================] - 346s 1s/step - loss: 0.0642 - accuracy: 0.9803 - val_loss: 0.1005 - val_accuracy: 0.9655\n",
      "\n",
      "Epoch 00014: val_loss did not improve from 0.07801\n",
      "Epoch 15/50\n",
      "344/344 [==============================] - 346s 1s/step - loss: 0.0687 - accuracy: 0.9760 - val_loss: 0.0841 - val_accuracy: 0.9715\n",
      "\n",
      "Epoch 00015: val_loss did not improve from 0.07801\n",
      "Epoch 16/50\n",
      "344/344 [==============================] - 346s 1s/step - loss: 0.0565 - accuracy: 0.9801 - val_loss: 0.0668 - val_accuracy: 0.9810\n",
      "\n",
      "Epoch 00016: val_loss improved from 0.07801 to 0.06683, saving model to checkpoints-warmup.hdf5\n",
      "Epoch 17/50\n",
      "344/344 [==============================] - 346s 1s/step - loss: 0.0640 - accuracy: 0.9768 - val_loss: 0.0899 - val_accuracy: 0.9728\n",
      "\n",
      "Epoch 00017: val_loss did not improve from 0.06683\n",
      "Epoch 18/50\n",
      "344/344 [==============================] - 346s 1s/step - loss: 0.0599 - accuracy: 0.9800 - val_loss: 0.0753 - val_accuracy: 0.9780\n",
      "\n",
      "Epoch 00018: val_loss did not improve from 0.06683\n",
      "Epoch 19/50\n",
      "344/344 [==============================] - 346s 1s/step - loss: 0.0574 - accuracy: 0.9798 - val_loss: 0.0792 - val_accuracy: 0.9755\n",
      "\n",
      "Epoch 00019: val_loss did not improve from 0.06683\n",
      "Epoch 20/50\n",
      "344/344 [==============================] - 346s 1s/step - loss: 0.0646 - accuracy: 0.9787 - val_loss: 0.0806 - val_accuracy: 0.9766\n",
      "\n",
      "Epoch 00020: val_loss did not improve from 0.06683\n",
      "Epoch 21/50\n",
      "344/344 [==============================] - 345s 1s/step - loss: 0.0519 - accuracy: 0.9818 - val_loss: 0.0865 - val_accuracy: 0.9709\n",
      "\n",
      "Epoch 00021: val_loss did not improve from 0.06683\n",
      "Epoch 22/50\n",
      "344/344 [==============================] - 346s 1s/step - loss: 0.0490 - accuracy: 0.9835 - val_loss: 0.0837 - val_accuracy: 0.9731\n",
      "\n",
      "Epoch 00022: val_loss did not improve from 0.06683\n",
      "Epoch 23/50\n",
      "344/344 [==============================] - 346s 1s/step - loss: 0.0579 - accuracy: 0.9792 - val_loss: 0.0956 - val_accuracy: 0.9682\n",
      "\n",
      "Epoch 00023: val_loss did not improve from 0.06683\n",
      "Epoch 24/50\n",
      "344/344 [==============================] - 346s 1s/step - loss: 0.0545 - accuracy: 0.9817 - val_loss: 0.0846 - val_accuracy: 0.9736\n",
      "\n",
      "Epoch 00024: val_loss did not improve from 0.06683\n",
      "Epoch 25/50\n",
      "344/344 [==============================] - 345s 1s/step - loss: 0.0491 - accuracy: 0.9815 - val_loss: 0.0814 - val_accuracy: 0.9758\n",
      "\n",
      "Epoch 00025: val_loss did not improve from 0.06683\n",
      "Epoch 26/50\n",
      "344/344 [==============================] - 346s 1s/step - loss: 0.0597 - accuracy: 0.9811 - val_loss: 0.0810 - val_accuracy: 0.9753\n",
      "\n",
      "Epoch 00026: val_loss did not improve from 0.06683\n",
      "Epoch 27/50\n",
      "344/344 [==============================] - 346s 1s/step - loss: 0.0562 - accuracy: 0.9812 - val_loss: 0.0828 - val_accuracy: 0.9723\n",
      "\n",
      "Epoch 00027: val_loss did not improve from 0.06683\n",
      "Epoch 28/50\n",
      "344/344 [==============================] - 346s 1s/step - loss: 0.0555 - accuracy: 0.9807 - val_loss: 0.0776 - val_accuracy: 0.9750\n",
      "\n",
      "Epoch 00028: val_loss did not improve from 0.06683\n",
      "Epoch 29/50\n",
      "344/344 [==============================] - 346s 1s/step - loss: 0.0536 - accuracy: 0.9803 - val_loss: 0.0921 - val_accuracy: 0.9704\n",
      "\n",
      "Epoch 00029: val_loss did not improve from 0.06683\n",
      "Epoch 30/50\n",
      "344/344 [==============================] - 346s 1s/step - loss: 0.0471 - accuracy: 0.9837 - val_loss: 0.0724 - val_accuracy: 0.9783\n",
      "\n",
      "Epoch 00030: val_loss did not improve from 0.06683\n",
      "Epoch 31/50\n",
      "344/344 [==============================] - 346s 1s/step - loss: 0.0515 - accuracy: 0.9828 - val_loss: 0.0943 - val_accuracy: 0.9698\n",
      "\n",
      "Epoch 00031: val_loss did not improve from 0.06683\n",
      "Epoch 32/50\n",
      "344/344 [==============================] - 346s 1s/step - loss: 0.0582 - accuracy: 0.9799 - val_loss: 0.0814 - val_accuracy: 0.9766\n",
      "\n",
      "Epoch 00032: val_loss did not improve from 0.06683\n",
      "Epoch 33/50\n",
      "344/344 [==============================] - 346s 1s/step - loss: 0.0496 - accuracy: 0.9830 - val_loss: 0.0826 - val_accuracy: 0.9764\n",
      "\n",
      "Epoch 00033: val_loss did not improve from 0.06683\n",
      "Epoch 34/50\n",
      "344/344 [==============================] - 346s 1s/step - loss: 0.0493 - accuracy: 0.9821 - val_loss: 0.0808 - val_accuracy: 0.9766\n",
      "\n",
      "Epoch 00034: val_loss did not improve from 0.06683\n",
      "Epoch 35/50\n",
      "344/344 [==============================] - 346s 1s/step - loss: 0.0530 - accuracy: 0.9826 - val_loss: 0.0672 - val_accuracy: 0.9791\n",
      "\n",
      "Epoch 00035: val_loss did not improve from 0.06683\n",
      "Epoch 36/50\n",
      "344/344 [==============================] - 346s 1s/step - loss: 0.0504 - accuracy: 0.9827 - val_loss: 0.0711 - val_accuracy: 0.9766\n",
      "\n",
      "Epoch 00036: val_loss did not improve from 0.06683\n",
      "Epoch 37/50\n",
      "344/344 [==============================] - 346s 1s/step - loss: 0.0495 - accuracy: 0.9825 - val_loss: 0.0863 - val_accuracy: 0.9736\n",
      "\n",
      "Epoch 00037: val_loss did not improve from 0.06683\n",
      "Epoch 38/50\n",
      "344/344 [==============================] - 346s 1s/step - loss: 0.0443 - accuracy: 0.9845 - val_loss: 0.0591 - val_accuracy: 0.9831\n",
      "\n",
      "Epoch 00038: val_loss improved from 0.06683 to 0.05914, saving model to checkpoints-warmup.hdf5\n",
      "Epoch 39/50\n",
      "344/344 [==============================] - 346s 1s/step - loss: 0.0560 - accuracy: 0.9810 - val_loss: 0.1146 - val_accuracy: 0.9633\n",
      "\n",
      "Epoch 00039: val_loss did not improve from 0.05914\n",
      "Epoch 40/50\n",
      "343/344 [============================>.] - ETA: 0s - loss: 0.0447 - accuracy: 0.9845"
     ]
    }
   ],
   "source": [
    "num_of_epochs = 50\n",
    "\n",
    "model.fit_generator(\n",
    "    aug.flow(train_x,train_y, batch_size = 32),\n",
    "             validation_data = (test_x,test_y),\n",
    "             epochs=num_of_epochs,\n",
    "             steps_per_epoch = len(train_x) //32,\n",
    "             verbose = 1,\n",
    "             callbacks=callbacks)\n",
    "\n",
    "model.save(model_save_path)"
   ]
  },
  {
   "cell_type": "markdown",
   "metadata": {},
   "source": [
    "# Evaluate with 20% test set from same dataset"
   ]
  },
  {
   "cell_type": "code",
   "execution_count": null,
   "metadata": {},
   "outputs": [],
   "source": [
    "from sklearn.metrics import classification_report\n",
    "\n",
    "print(\"[INFO] evaluating after initialization...\")\n",
    "predictions = model.predict(test_x,batch_size=32)\n",
    "print(classification_report(test_y.argmax(axis =1),\n",
    "                            predictions.argmax(axis =1),target_names=class_names))"
   ]
  }
 ],
 "metadata": {
  "file_extension": ".py",
  "kernelspec": {
   "display_name": "Python 3",
   "language": "python",
   "name": "python3"
  },
  "language_info": {
   "codemirror_mode": {
    "name": "ipython",
    "version": 3
   },
   "file_extension": ".py",
   "mimetype": "text/x-python",
   "name": "python",
   "nbconvert_exporter": "python",
   "pygments_lexer": "ipython3",
   "version": "3.5.3"
  },
  "mimetype": "text/x-python",
  "name": "python",
  "npconvert_exporter": "python",
  "pygments_lexer": "ipython3",
  "version": 3
 },
 "nbformat": 4,
 "nbformat_minor": 4
}

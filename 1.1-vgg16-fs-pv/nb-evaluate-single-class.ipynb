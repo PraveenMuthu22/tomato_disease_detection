{
 "cells": [
  {
   "cell_type": "markdown",
   "metadata": {},
   "source": [
    "# Arguments"
   ],
   "execution_count": null,
   "outputs": []
  },
  {
   "cell_type": "code",
   "execution_count": 25,
   "metadata": {},
   "outputs": [],
   "source": [
    "# inceptionv3-ft-pv-self-eb,ap,lm,ct\n",
    "\n",
    "num_of_epochs = 100\n",
    "batch_size = 32\n",
    "\n",
    "final_model_path= 'model-final.h5'\n",
    "\n",
    "input_width = 224\n",
    "input_height = 224\n",
    "input_depth = 3\n",
    ""
   ]
  },
  {
   "cell_type": "markdown",
   "metadata": {},
   "source": [
    "# Select validation classes"
   ],
   "execution_count": null,
   "outputs": []
  },
  {
   "cell_type": "code",
   "execution_count": 26,
   "metadata": {},
   "outputs": [],
   "source": [
    "class_paths_validation = ['../datasets/validation/___Yellow_Leaf_Curl_Virus', '../datasets/validation/___Late_blight', '../datasets/validation/___Early_blight', '../datasets/validation/___Bacterial_spot', '../datasets/validation/___healthy', '../datasets/validation/___Target_Spot', '../datasets/validation/___Mosaic_Virus', '../datasets/validation/___Leaf_Mold']"
   ]
  },
  {
   "cell_type": "code",
   "execution_count": 27,
   "metadata": {},
   "outputs": [
    {
     "output_type": "stream",
     "name": "stdout",
     "text": "4\n"
    }
   ],
   "source": [
    "class_labels = ['___Yellow_Leaf_Curl_Virus', '___Late_blight', '___Early_blight', '___Bacterial_spot', '___healthy', '___Target_Spot', '___Mosaic_Virus', '___Leaf_Mold']\n",
    "\n",
    "class_path = '../datasets/validation/___healthy'\n",
    "\n",
    "index = class_paths_validation.index(class_path)\n",
    "print(index)\n",
    ""
   ]
  },
  {
   "cell_type": "markdown",
   "metadata": {},
   "source": [
    "# Load dataset"
   ],
   "execution_count": null,
   "outputs": []
  },
  {
   "cell_type": "code",
   "execution_count": 28,
   "metadata": {},
   "outputs": [
    {
     "output_type": "stream",
     "name": "stdout",
     "text": "[INFO] loading images...\n"
    }
   ],
   "source": [
    "from imutils import paths\n",
    "import numpy as np\n",
    "import os\n",
    "from sklearn.preprocessing import LabelBinarizer\n",
    "\n",
    "import sys\n",
    "sys.path.append('..')\n",
    "\n",
    "from utils.preprocessors.resize_image_preprocessor import resizeImagePreprocessor\n",
    "from utils.preprocessors.image_to_array_preprocessor import ImageToArrayPreprocessor\n",
    "from utils.io.simple_dataset_loader import SimpleDatasetLoader\n",
    "\n",
    "print(\"[INFO] loading images...\")\n",
    "image_paths = list(paths.list_images(class_path))\n",
    "\n",
    "# Initial image preprocessing\n",
    "aap = resizeImagePreprocessor(input_width, input_height)\n",
    "iap= ImageToArrayPreprocessor()\n",
    "\n",
    "#Load image data and perform image data preprocessing\n",
    "sdl = SimpleDatasetLoader(preprocessors=[aap,iap])\n",
    "(test_x,test_y)  = sdl.load(image_paths,verbose=500)\n",
    "\n",
    "\n",
    "from sklearn.preprocessing import LabelEncoder\n",
    "\n",
    "# Encode labels as integers\n",
    "le = LabelEncoder()\n",
    "test_y = le.fit_transform(test_y)\n",
    "test_x = test_x.astype(\"float\") / 255.0\n",
    ""
   ]
  },
  {
   "cell_type": "markdown",
   "metadata": {},
   "source": [
    "# Load model from disk"
   ],
   "execution_count": null,
   "outputs": []
  },
  {
   "cell_type": "code",
   "execution_count": 29,
   "metadata": {},
   "outputs": [
    {
     "output_type": "stream",
     "name": "stdout",
     "text": "1.13.1\n"
    }
   ],
   "source": [
    "import tensorflow as tf\n",
    "print(tf.__version__)\n",
    "\n",
    "\n",
    "model = tf.keras.models.load_model(\n",
    "    final_model_path,\n",
    "    custom_objects=None,\n",
    "    compile=False\n",
    ")\n",
    "\n",
    "# from keras.models import load_model\n",
    "\n",
    "# model = load_model(final_model_path)"
   ]
  },
  {
   "cell_type": "markdown",
   "metadata": {},
   "source": [
    "# Make predictions"
   ],
   "execution_count": null,
   "outputs": []
  },
  {
   "cell_type": "code",
   "execution_count": 30,
   "metadata": {},
   "outputs": [
    {
     "output_type": "stream",
     "name": "stdout",
     "text": "[INFO] Predicting...\n[0 0 0 0 0 0 0 0 0 0 0 0 0 0 0 0 0 0 0]\n[1 1 1 6 1 2 3 6 2 6 1 6 2 6 2 1 2 6 1]\n19\ncorrect_count : 0\nwrong_count : 19\ndict_keys(['___Late_blight', '___Mosaic_Virus', '___Early_blight', '___Bacterial_spot'])\ndict_values([7, 6, 5, 1])\n"
    }
   ],
   "source": [
    "# Make predictions on the images\n",
    "print(\"[INFO] Predicting...\")\n",
    "predictions = model.predict(test_x, batch_size=batch_size).argmax(axis=1)\n",
    "\n",
    "print(test_y)\n",
    "print(predictions)\n",
    "\n",
    "correct_count = 0\n",
    "wrong_count = 0\n",
    "wrong_list = []\n",
    "\n",
    "for (i, prediction) in enumerate(predictions):\n",
    "    if(prediction == index):\n",
    "        correct_count += 1\n",
    "    else:\n",
    "        wrong_count +=1\n",
    "        wrong_list.append(class_labels[prediction])\n",
    "\n",
    "print(len(predictions))\n",
    "print('correct_count : ' + str(correct_count))\n",
    "print('wrong_count : ' + str(wrong_count))\n",
    "\n",
    "from collections import Counter\n",
    "keys = Counter(wrong_list).keys() # equals to list(set(words))\n",
    "values = Counter(wrong_list).values() # counts the elements' frequency\n",
    "\n",
    "print(keys)\n",
    "print(values)\n",
    "    "
   ]
  },
  {
   "cell_type": "code",
   "execution_count": 31,
   "metadata": {},
   "outputs": [],
   "source": [
    "# import cv2\n",
    "# import matplotlib.pyplot as plt\n",
    "# import time\n",
    "\n",
    "# # loop over the sample images\n",
    "# for (i, image_path) in enumerate(image_paths):\n",
    "#     # Load the example image, draw the prediction, and display it\n",
    "#     image = plt.imread(image_path)\n",
    "#     color = (0, 255, 0)\n",
    "#     if(predictions[i] != 3):\n",
    "#         color = (255, 0, 0)\n",
    "#         font_size = int(image.shape[1] * (0.2/100))\n",
    "#         font_thickness = int(image.shape[1] * (0.2/30))\n",
    "#         cv2.putText(image, \"Label: {}\".format(class_labels[predictions[i]]), (100, 100), cv2.FONT_HERSHEY_SIMPLEX, font_size, color, font_thickness)\n",
    "#         plt.subplots(1, 1)\n",
    "#         plt.imshow(image)\n",
    "#         print(image_path)\n",
    ""
   ]
  },
  {
   "cell_type": "code",
   "execution_count": 32,
   "metadata": {},
   "outputs": [],
   "source": [
    "# import cv2\n",
    "# import matplotlib.pyplot as plt\n",
    "# import time\n",
    "\n",
    "# # loop over the sample images\n",
    "# for (i, image_path) in enumerate(image_paths):\n",
    "#     # Load the example image, draw the prediction, and display it\n",
    "#     image = plt.imread(image_path)\n",
    "#     color = (0, 255, 0)\n",
    "#     if(predictions[i] != 2):\n",
    "#         color = (255, 0, 0)\n",
    "#         font_size = int(image.shape[1] * (0.2/100))\n",
    "#         font_thickness = int(image.shape[1] * (0.2/30))\n",
    "#         x_pos = int(image.shape[0]/3)\n",
    "#         y_pos = int(image.shape[1]/2)\n",
    "#         image_pos = (x_pos, y_pos)\n",
    "#         cv2.putText(image, \"Label: {}\".format(class_labels[predictions[i]]), image_pos, cv2.FONT_HERSHEY_SIMPLEX, font_size, color, font_thickness)\n",
    "#         plt.subplots(1, 1)\n",
    "#         plt.imshow(image)\n",
    ""
   ]
  },
  {
   "cell_type": "code",
   "execution_count": null,
   "metadata": {},
   "outputs": [],
   "source": []
  }
 ],
 "metadata": {
  "file_extension": ".py",
  "kernelspec": {
   "display_name": "Python 3",
   "language": "python",
   "name": "python3"
  },
  "language_info": {
   "codemirror_mode": {
    "name": "ipython",
    "version": 3
   },
   "file_extension": ".py",
   "mimetype": "text/x-python",
   "name": "python",
   "nbconvert_exporter": "python",
   "pygments_lexer": "ipython3",
   "version": "3.7.3-final"
  },
  "mimetype": "text/x-python",
  "name": "python",
  "npconvert_exporter": "python",
  "pygments_lexer": "ipython3",
  "version": 3
 },
 "nbformat": 4,
 "nbformat_minor": 4
}
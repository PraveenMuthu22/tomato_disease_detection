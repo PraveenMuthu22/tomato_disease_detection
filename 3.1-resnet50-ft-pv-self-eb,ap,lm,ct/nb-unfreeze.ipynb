{
 "cells": [
  {
   "cell_type": "markdown",
   "metadata": {},
   "source": [
    "# Arguments"
   ],
   "execution_count": null,
   "outputs": []
  },
  {
   "cell_type": "code",
   "execution_count": 1,
   "metadata": {},
   "outputs": [],
   "source": [
    "batch_size = 32\n",
    "dataset_path_plantvillage = '../datasets/plantvillage'\n",
    "dataset_path_self = '../datasets/self'\n",
    "dataset_path_validation = '../datasets/validation'\n",
    "\n",
    "dataset_paths = [dataset_path_plantvillage, dataset_path_self, dataset_path_validation]\n",
    "\n",
    "warmup_model_path = 'model-warmup.h5'\n",
    "model_save_path = 'model-final.h5'\n",
    "checkpoint_path = 'checkpoints-finetuning.hdf5'\n",
    "\n",
    "input_width = 224\n",
    "input_height = 224\n",
    "input_depth = 3\n",
    "\n",
    "# --------------------------------------------------\n",
    "num_of_epochs = 100\n",
    "start_epoch = 0\n",
    "# --------------------------------------------------\n"
   ]
  },
  {
   "cell_type": "markdown",
   "metadata": {},
   "source": [
    "# Select training classes"
   ],
   "execution_count": null,
   "outputs": []
  },
  {
   "cell_type": "code",
   "execution_count": 2,
   "metadata": {},
   "outputs": [],
   "source": [
    "class_paths_training = ['../datasets/self/___Early_blight', '../datasets/self/___Appids', '../datasets/self/___Leaf_miner', '../datasets/self/___Curly_top_virus']"
   ]
  },
  {
   "cell_type": "markdown",
   "metadata": {},
   "source": [
    "# Load dataset"
   ],
   "execution_count": null,
   "outputs": []
  },
  {
   "cell_type": "code",
   "execution_count": null,
   "metadata": {},
   "outputs": [],
   "source": [
    "from sklearn.preprocessing import LabelBinarizer\n",
    "from sklearn.model_selection import train_test_split\n",
    "from sklearn.metrics import classification_report\n",
    "from keras.preprocessing.image   import ImageDataGenerator\n",
    "from keras.optimizers import RMSprop\n",
    "from keras.layers import Input\n",
    "from keras.models import Model\n",
    "from keras .applications import VGG16\n",
    "from keras.optimizers import SGD\n",
    "from keras.models import Model\n",
    "from imutils import paths\n",
    "import numpy as np\n",
    "import os\n",
    "\n",
    "import sys\n",
    "sys.path.append('..')\n",
    "\n",
    "from utils.preprocessors.aspect_aware_preprocessor import AspectAwarePreprocessor\n",
    "from utils.preprocessors.image_to_array_preprocessor import ImageToArrayPreprocessor\n",
    "from utils.io.simple_dataset_loader import SimpleDatasetLoader\n",
    "\n",
    "# construct the image generator for data augmentation\n",
    "aug = ImageDataGenerator(   rotation_range=30,\n",
    "                            width_shift_range=0.1,\n",
    "                            height_shift_range=0.1,\n",
    "                            shear_range=0.2,\n",
    "                            zoom_range=0.2,\n",
    "                            horizontal_flip=True,\n",
    "                            fill_mode='nearest')\n",
    "\n",
    "def load_datasets(path_list):\n",
    "    # Load image paths\n",
    "    image_paths = []\n",
    "    print(\"[INFO] loading images...\")\n",
    "    for path in path_list:\n",
    "        image_paths.extend(list(paths.list_images(path)))\n",
    "        \n",
    "    # Get unique classnames\n",
    "\n",
    "    class_names = [pt.split(os.path.sep)[-2] for pt in image_paths]\n",
    "    class_names = [str(x) for x in np.unique(class_names)]\n",
    "\n",
    "    # Initial image preprocessing\n",
    "    aap = AspectAwarePreprocessor(input_width, input_height)\n",
    "    iap= ImageToArrayPreprocessor()\n",
    "\n",
    "    #Load image data and perform image data preprocessing\n",
    "    sdl = SimpleDatasetLoader(preprocessors=[aap,iap])\n",
    "    (data,labels)  = sdl.load(image_paths,verbose=500)\n",
    "    data = data.astype(\"float\") / 255.0\n",
    "\n",
    "\n",
    "    # train test split\n",
    "    (train_x,test_x,train_y,test_y) = train_test_split(data,labels,test_size=0.25,random_state=42)\n",
    "\n",
    "    # convert the labels from integers to vectors\n",
    "    train_y = LabelBinarizer().fit_transform(train_y)\n",
    "    test_y = LabelBinarizer().fit_transform(test_y)\n",
    "    \n",
    "    return (train_x,test_x,train_y,test_y, class_names)\n",
    "\n",
    "(train_x,test_x,train_y,test_y, class_names) = load_datasets(class_paths_training)\n",
    "\n"
   ]
  },
  {
   "cell_type": "markdown",
   "metadata": {},
   "source": [
    "# Load model from disk"
   ],
   "execution_count": null,
   "outputs": []
  },
  {
   "cell_type": "code",
   "execution_count": 4,
   "metadata": {},
   "outputs": [
    {
     "output_type": "stream",
     "name": "stdout",
     "text": "1.13.1\n"
    }
   ],
   "source": [
    "import tensorflow as tf\n",
    "print(tf.__version__)\n",
    "\n",
    "\n",
    "model = tf.keras.models.load_model(\n",
    "    warmup_model_path,\n",
    "    custom_objects=None,\n",
    "    compile=False\n",
    ")\n",
    "\n",
    "# from keras.models import load_model\n",
    "\n",
    "# model = load_model(warmup_model_path)"
   ]
  },
  {
   "cell_type": "markdown",
   "metadata": {},
   "source": [
    "# Print index of layers"
   ],
   "execution_count": null,
   "outputs": []
  },
  {
   "cell_type": "code",
   "execution_count": 24,
   "metadata": {},
   "outputs": [
    {
     "output_type": "stream",
     "name": "stdout",
     "text": "[INFO]     0\tinput_1                       InputLayer\n[INFO]     1\tconv2d_1                      Conv2D\n[INFO]     2\tbatch_normalization_1         BatchNormalizationV1\n[INFO]     3\tactivation_1                  Activation\n[INFO]     4\tconv2d_2                      Conv2D\n[INFO]     5\tbatch_normalization_2         BatchNormalizationV1\n[INFO]     6\tactivation_2                  Activation\n[INFO]     7\tconv2d_3                      Conv2D\n[INFO]     8\tbatch_normalization_3         BatchNormalizationV1\n[INFO]     9\tactivation_3                  Activation\n[INFO]    10\tmax_pooling2d_1               MaxPooling2D\n[INFO]    11\tconv2d_4                      Conv2D\n[INFO]    12\tbatch_normalization_4         BatchNormalizationV1\n[INFO]    13\tactivation_4                  Activation\n[INFO]    14\tconv2d_5                      Conv2D\n[INFO]    15\tbatch_normalization_5         BatchNormalizationV1\n[INFO]    16\tactivation_5                  Activation\n[INFO]    17\tmax_pooling2d_2               MaxPooling2D\n[INFO]    18\tconv2d_9                      Conv2D\n[INFO]    19\tbatch_normalization_9         BatchNormalizationV1\n[INFO]    20\tactivation_9                  Activation\n[INFO]    21\tconv2d_7                      Conv2D\n[INFO]    22\tconv2d_10                     Conv2D\n[INFO]    23\tbatch_normalization_7         BatchNormalizationV1\n[INFO]    24\tbatch_normalization_10        BatchNormalizationV1\n[INFO]    25\tactivation_7                  Activation\n[INFO]    26\tactivation_10                 Activation\n[INFO]    27\taverage_pooling2d_1           AveragePooling2D\n[INFO]    28\tconv2d_6                      Conv2D\n[INFO]    29\tconv2d_8                      Conv2D\n[INFO]    30\tconv2d_11                     Conv2D\n[INFO]    31\tconv2d_12                     Conv2D\n[INFO]    32\tbatch_normalization_6         BatchNormalizationV1\n[INFO]    33\tbatch_normalization_8         BatchNormalizationV1\n[INFO]    34\tbatch_normalization_11        BatchNormalizationV1\n[INFO]    35\tbatch_normalization_12        BatchNormalizationV1\n[INFO]    36\tactivation_6                  Activation\n[INFO]    37\tactivation_8                  Activation\n[INFO]    38\tactivation_11                 Activation\n[INFO]    39\tactivation_12                 Activation\n[INFO]    40\tmixed0                        Concatenate\n[INFO]    41\tconv2d_16                     Conv2D\n[INFO]    42\tbatch_normalization_16        BatchNormalizationV1\n[INFO]    43\tactivation_16                 Activation\n[INFO]    44\tconv2d_14                     Conv2D\n[INFO]    45\tconv2d_17                     Conv2D\n[INFO]    46\tbatch_normalization_14        BatchNormalizationV1\n[INFO]    47\tbatch_normalization_17        BatchNormalizationV1\n[INFO]    48\tactivation_14                 Activation\n[INFO]    49\tactivation_17                 Activation\n[INFO]    50\taverage_pooling2d_2           AveragePooling2D\n[INFO]    51\tconv2d_13                     Conv2D\n[INFO]    52\tconv2d_15                     Conv2D\n[INFO]    53\tconv2d_18                     Conv2D\n[INFO]    54\tconv2d_19                     Conv2D\n[INFO]    55\tbatch_normalization_13        BatchNormalizationV1\n[INFO]    56\tbatch_normalization_15        BatchNormalizationV1\n[INFO]    57\tbatch_normalization_18        BatchNormalizationV1\n[INFO]    58\tbatch_normalization_19        BatchNormalizationV1\n[INFO]    59\tactivation_13                 Activation\n[INFO]    60\tactivation_15                 Activation\n[INFO]    61\tactivation_18                 Activation\n[INFO]    62\tactivation_19                 Activation\n[INFO]    63\tmixed1                        Concatenate\n[INFO]    64\tconv2d_23                     Conv2D\n[INFO]    65\tbatch_normalization_23        BatchNormalizationV1\n[INFO]    66\tactivation_23                 Activation\n[INFO]    67\tconv2d_21                     Conv2D\n[INFO]    68\tconv2d_24                     Conv2D\n[INFO]    69\tbatch_normalization_21        BatchNormalizationV1\n[INFO]    70\tbatch_normalization_24        BatchNormalizationV1\n[INFO]    71\tactivation_21                 Activation\n[INFO]    72\tactivation_24                 Activation\n[INFO]    73\taverage_pooling2d_3           AveragePooling2D\n[INFO]    74\tconv2d_20                     Conv2D\n[INFO]    75\tconv2d_22                     Conv2D\n[INFO]    76\tconv2d_25                     Conv2D\n[INFO]    77\tconv2d_26                     Conv2D\n[INFO]    78\tbatch_normalization_20        BatchNormalizationV1\n[INFO]    79\tbatch_normalization_22        BatchNormalizationV1\n[INFO]    80\tbatch_normalization_25        BatchNormalizationV1\n[INFO]    81\tbatch_normalization_26        BatchNormalizationV1\n[INFO]    82\tactivation_20                 Activation\n[INFO]    83\tactivation_22                 Activation\n[INFO]    84\tactivation_25                 Activation\n[INFO]    85\tactivation_26                 Activation\n[INFO]    86\tmixed2                        Concatenate\n[INFO]    87\tconv2d_28                     Conv2D\n[INFO]    88\tbatch_normalization_28        BatchNormalizationV1\n[INFO]    89\tactivation_28                 Activation\n[INFO]    90\tconv2d_29                     Conv2D\n[INFO]    91\tbatch_normalization_29        BatchNormalizationV1\n[INFO]    92\tactivation_29                 Activation\n[INFO]    93\tconv2d_27                     Conv2D\n[INFO]    94\tconv2d_30                     Conv2D\n[INFO]    95\tbatch_normalization_27        BatchNormalizationV1\n[INFO]    96\tbatch_normalization_30        BatchNormalizationV1\n[INFO]    97\tactivation_27                 Activation\n[INFO]    98\tactivation_30                 Activation\n[INFO]    99\tmax_pooling2d_3               MaxPooling2D\n[INFO]   100\tmixed3                        Concatenate\n[INFO]   101\tconv2d_35                     Conv2D\n[INFO]   102\tbatch_normalization_35        BatchNormalizationV1\n[INFO]   103\tactivation_35                 Activation\n[INFO]   104\tconv2d_36                     Conv2D\n[INFO]   105\tbatch_normalization_36        BatchNormalizationV1\n[INFO]   106\tactivation_36                 Activation\n[INFO]   107\tconv2d_32                     Conv2D\n[INFO]   108\tconv2d_37                     Conv2D\n[INFO]   109\tbatch_normalization_32        BatchNormalizationV1\n[INFO]   110\tbatch_normalization_37        BatchNormalizationV1\n[INFO]   111\tactivation_32                 Activation\n[INFO]   112\tactivation_37                 Activation\n[INFO]   113\tconv2d_33                     Conv2D\n[INFO]   114\tconv2d_38                     Conv2D\n[INFO]   115\tbatch_normalization_33        BatchNormalizationV1\n[INFO]   116\tbatch_normalization_38        BatchNormalizationV1\n[INFO]   117\tactivation_33                 Activation\n[INFO]   118\tactivation_38                 Activation\n[INFO]   119\taverage_pooling2d_4           AveragePooling2D\n[INFO]   120\tconv2d_31                     Conv2D\n[INFO]   121\tconv2d_34                     Conv2D\n[INFO]   122\tconv2d_39                     Conv2D\n[INFO]   123\tconv2d_40                     Conv2D\n[INFO]   124\tbatch_normalization_31        BatchNormalizationV1\n[INFO]   125\tbatch_normalization_34        BatchNormalizationV1\n[INFO]   126\tbatch_normalization_39        BatchNormalizationV1\n[INFO]   127\tbatch_normalization_40        BatchNormalizationV1\n[INFO]   128\tactivation_31                 Activation\n[INFO]   129\tactivation_34                 Activation\n[INFO]   130\tactivation_39                 Activation\n[INFO]   131\tactivation_40                 Activation\n[INFO]   132\tmixed4                        Concatenate\n[INFO]   133\tconv2d_45                     Conv2D\n[INFO]   134\tbatch_normalization_45        BatchNormalizationV1\n[INFO]   135\tactivation_45                 Activation\n[INFO]   136\tconv2d_46                     Conv2D\n[INFO]   137\tbatch_normalization_46        BatchNormalizationV1\n[INFO]   138\tactivation_46                 Activation\n[INFO]   139\tconv2d_42                     Conv2D\n[INFO]   140\tconv2d_47                     Conv2D\n[INFO]   141\tbatch_normalization_42        BatchNormalizationV1\n[INFO]   142\tbatch_normalization_47        BatchNormalizationV1\n[INFO]   143\tactivation_42                 Activation\n[INFO]   144\tactivation_47                 Activation\n[INFO]   145\tconv2d_43                     Conv2D\n[INFO]   146\tconv2d_48                     Conv2D\n[INFO]   147\tbatch_normalization_43        BatchNormalizationV1\n[INFO]   148\tbatch_normalization_48        BatchNormalizationV1\n[INFO]   149\tactivation_43                 Activation\n[INFO]   150\tactivation_48                 Activation\n[INFO]   151\taverage_pooling2d_5           AveragePooling2D\n[INFO]   152\tconv2d_41                     Conv2D\n[INFO]   153\tconv2d_44                     Conv2D\n[INFO]   154\tconv2d_49                     Conv2D\n[INFO]   155\tconv2d_50                     Conv2D\n[INFO]   156\tbatch_normalization_41        BatchNormalizationV1\n[INFO]   157\tbatch_normalization_44        BatchNormalizationV1\n[INFO]   158\tbatch_normalization_49        BatchNormalizationV1\n[INFO]   159\tbatch_normalization_50        BatchNormalizationV1\n[INFO]   160\tactivation_41                 Activation\n[INFO]   161\tactivation_44                 Activation\n[INFO]   162\tactivation_49                 Activation\n[INFO]   163\tactivation_50                 Activation\n[INFO]   164\tmixed5                        Concatenate\n[INFO]   165\tconv2d_55                     Conv2D\n[INFO]   166\tbatch_normalization_55        BatchNormalizationV1\n[INFO]   167\tactivation_55                 Activation\n[INFO]   168\tconv2d_56                     Conv2D\n[INFO]   169\tbatch_normalization_56        BatchNormalizationV1\n[INFO]   170\tactivation_56                 Activation\n[INFO]   171\tconv2d_52                     Conv2D\n[INFO]   172\tconv2d_57                     Conv2D\n[INFO]   173\tbatch_normalization_52        BatchNormalizationV1\n[INFO]   174\tbatch_normalization_57        BatchNormalizationV1\n[INFO]   175\tactivation_52                 Activation\n[INFO]   176\tactivation_57                 Activation\n[INFO]   177\tconv2d_53                     Conv2D\n[INFO]   178\tconv2d_58                     Conv2D\n[INFO]   179\tbatch_normalization_53        BatchNormalizationV1\n[INFO]   180\tbatch_normalization_58        BatchNormalizationV1\n[INFO]   181\tactivation_53                 Activation\n[INFO]   182\tactivation_58                 Activation\n[INFO]   183\taverage_pooling2d_6           AveragePooling2D\n[INFO]   184\tconv2d_51                     Conv2D\n[INFO]   185\tconv2d_54                     Conv2D\n[INFO]   186\tconv2d_59                     Conv2D\n[INFO]   187\tconv2d_60                     Conv2D\n[INFO]   188\tbatch_normalization_51        BatchNormalizationV1\n[INFO]   189\tbatch_normalization_54        BatchNormalizationV1\n[INFO]   190\tbatch_normalization_59        BatchNormalizationV1\n[INFO]   191\tbatch_normalization_60        BatchNormalizationV1\n[INFO]   192\tactivation_51                 Activation\n[INFO]   193\tactivation_54                 Activation\n[INFO]   194\tactivation_59                 Activation\n[INFO]   195\tactivation_60                 Activation\n[INFO]   196\tmixed6                        Concatenate\n[INFO]   197\tconv2d_65                     Conv2D\n[INFO]   198\tbatch_normalization_65        BatchNormalizationV1\n[INFO]   199\tactivation_65                 Activation\n[INFO]   200\tconv2d_66                     Conv2D\n[INFO]   201\tbatch_normalization_66        BatchNormalizationV1\n[INFO]   202\tactivation_66                 Activation\n[INFO]   203\tconv2d_62                     Conv2D\n[INFO]   204\tconv2d_67                     Conv2D\n[INFO]   205\tbatch_normalization_62        BatchNormalizationV1\n[INFO]   206\tbatch_normalization_67        BatchNormalizationV1\n[INFO]   207\tactivation_62                 Activation\n[INFO]   208\tactivation_67                 Activation\n[INFO]   209\tconv2d_63                     Conv2D\n[INFO]   210\tconv2d_68                     Conv2D\n[INFO]   211\tbatch_normalization_63        BatchNormalizationV1\n[INFO]   212\tbatch_normalization_68        BatchNormalizationV1\n[INFO]   213\tactivation_63                 Activation\n[INFO]   214\tactivation_68                 Activation\n[INFO]   215\taverage_pooling2d_7           AveragePooling2D\n[INFO]   216\tconv2d_61                     Conv2D\n[INFO]   217\tconv2d_64                     Conv2D\n[INFO]   218\tconv2d_69                     Conv2D\n[INFO]   219\tconv2d_70                     Conv2D\n[INFO]   220\tbatch_normalization_61        BatchNormalizationV1\n[INFO]   221\tbatch_normalization_64        BatchNormalizationV1\n[INFO]   222\tbatch_normalization_69        BatchNormalizationV1\n[INFO]   223\tbatch_normalization_70        BatchNormalizationV1\n[INFO]   224\tactivation_61                 Activation\n[INFO]   225\tactivation_64                 Activation\n[INFO]   226\tactivation_69                 Activation\n[INFO]   227\tactivation_70                 Activation\n[INFO]   228\tmixed7                        Concatenate\n[INFO]   229\tconv2d_73                     Conv2D\n[INFO]   230\tbatch_normalization_73        BatchNormalizationV1\n[INFO]   231\tactivation_73                 Activation\n[INFO]   232\tconv2d_74                     Conv2D\n[INFO]   233\tbatch_normalization_74        BatchNormalizationV1\n[INFO]   234\tactivation_74                 Activation\n[INFO]   235\tconv2d_71                     Conv2D\n[INFO]   236\tconv2d_75                     Conv2D\n[INFO]   237\tbatch_normalization_71        BatchNormalizationV1\n[INFO]   238\tbatch_normalization_75        BatchNormalizationV1\n[INFO]   239\tactivation_71                 Activation\n[INFO]   240\tactivation_75                 Activation\n[INFO]   241\tconv2d_72                     Conv2D\n[INFO]   242\tconv2d_76                     Conv2D\n[INFO]   243\tbatch_normalization_72        BatchNormalizationV1\n[INFO]   244\tbatch_normalization_76        BatchNormalizationV1\n[INFO]   245\tactivation_72                 Activation\n[INFO]   246\tactivation_76                 Activation\n[INFO]   247\tmax_pooling2d_4               MaxPooling2D\n[INFO]   248\tmixed8                        Concatenate\n[INFO]   249\tconv2d_81                     Conv2D\n[INFO]   250\tbatch_normalization_81        BatchNormalizationV1\n[INFO]   251\tactivation_81                 Activation\n[INFO]   252\tconv2d_78                     Conv2D\n[INFO]   253\tconv2d_82                     Conv2D\n[INFO]   254\tbatch_normalization_78        BatchNormalizationV1\n[INFO]   255\tbatch_normalization_82        BatchNormalizationV1\n[INFO]   256\tactivation_78                 Activation\n[INFO]   257\tactivation_82                 Activation\n[INFO]   258\tconv2d_79                     Conv2D\n[INFO]   259\tconv2d_80                     Conv2D\n[INFO]   260\tconv2d_83                     Conv2D\n[INFO]   261\tconv2d_84                     Conv2D\n[INFO]   262\taverage_pooling2d_8           AveragePooling2D\n[INFO]   263\tconv2d_77                     Conv2D\n[INFO]   264\tbatch_normalization_79        BatchNormalizationV1\n[INFO]   265\tbatch_normalization_80        BatchNormalizationV1\n[INFO]   266\tbatch_normalization_83        BatchNormalizationV1\n[INFO]   267\tbatch_normalization_84        BatchNormalizationV1\n[INFO]   268\tconv2d_85                     Conv2D\n[INFO]   269\tbatch_normalization_77        BatchNormalizationV1\n[INFO]   270\tactivation_79                 Activation\n[INFO]   271\tactivation_80                 Activation\n[INFO]   272\tactivation_83                 Activation\n[INFO]   273\tactivation_84                 Activation\n[INFO]   274\tbatch_normalization_85        BatchNormalizationV1\n[INFO]   275\tactivation_77                 Activation\n[INFO]   276\tmixed9_0                      Concatenate\n[INFO]   277\tconcatenate_1                 Concatenate\n[INFO]   278\tactivation_85                 Activation\n[INFO]   279\tmixed9                        Concatenate\n[INFO]   280\tconv2d_90                     Conv2D\n[INFO]   281\tbatch_normalization_90        BatchNormalizationV1\n[INFO]   282\tactivation_90                 Activation\n[INFO]   283\tconv2d_87                     Conv2D\n[INFO]   284\tconv2d_91                     Conv2D\n[INFO]   285\tbatch_normalization_87        BatchNormalizationV1\n[INFO]   286\tbatch_normalization_91        BatchNormalizationV1\n[INFO]   287\tactivation_87                 Activation\n[INFO]   288\tactivation_91                 Activation\n[INFO]   289\tconv2d_88                     Conv2D\n[INFO]   290\tconv2d_89                     Conv2D\n[INFO]   291\tconv2d_92                     Conv2D\n[INFO]   292\tconv2d_93                     Conv2D\n[INFO]   293\taverage_pooling2d_9           AveragePooling2D\n[INFO]   294\tconv2d_86                     Conv2D\n[INFO]   295\tbatch_normalization_88        BatchNormalizationV1\n[INFO]   296\tbatch_normalization_89        BatchNormalizationV1\n[INFO]   297\tbatch_normalization_92        BatchNormalizationV1\n[INFO]   298\tbatch_normalization_93        BatchNormalizationV1\n[INFO]   299\tconv2d_94                     Conv2D\n[INFO]   300\tbatch_normalization_86        BatchNormalizationV1\n[INFO]   301\tactivation_88                 Activation\n[INFO]   302\tactivation_89                 Activation\n[INFO]   303\tactivation_92                 Activation\n[INFO]   304\tactivation_93                 Activation\n[INFO]   305\tbatch_normalization_94        BatchNormalizationV1\n[INFO]   306\tactivation_86                 Activation\n[INFO]   307\tmixed9_1                      Concatenate\n[INFO]   308\tconcatenate_2                 Concatenate\n[INFO]   309\tactivation_94                 Activation\n[INFO]   310\tmixed10                       Concatenate\n[INFO]   311\tglobal_average_pooling2d_1    GlobalAveragePooling2D\n[INFO]   312\tdense_1                       Dense\n[INFO]   313\tdense_2                       Dense\n"
    }
   ],
   "source": [
    "# iterate for all layers in the network and print its' index value\n",
    "for (i,layer) in enumerate(model.layers):\n",
    "    print(\"[INFO] {:5}\\t{:30}{}\".format(i, layer.name, layer.__class__.__name__))"
   ]
  },
  {
   "cell_type": "markdown",
   "metadata": {},
   "source": [
    "# Unfreeze final CONV layers"
   ],
   "execution_count": null,
   "outputs": []
  },
  {
   "cell_type": "code",
   "execution_count": null,
   "metadata": {},
   "outputs": [],
   "source": [
    "for layer in model.layers[:249]:\n",
    "   layer.trainable = False\n",
    "for layer in model.layers[249:]:\n",
    "   layer.trainable = True\n",
    "print('unfrozen')"
   ]
  },
  {
   "cell_type": "markdown",
   "metadata": {},
   "source": [
    "# Compile model"
   ],
   "execution_count": null,
   "outputs": []
  },
  {
   "cell_type": "code",
   "execution_count": null,
   "metadata": {},
   "outputs": [],
   "source": [
    "from keras.optimizers import SGD\n",
    "\n",
    "# Build the model from the new\n",
    "print(\"[INFO] re-compiling model ...\")\n",
    "opt = SGD(lr=0.0001, momentum=0.09)\n",
    "# Fine-tuning with a small learning rate\n",
    "model.compile(loss = 'categorical_crossentropy',optimizer = opt,\n",
    "              metrics=['accuracy'])\n"
   ]
  },
  {
   "cell_type": "markdown",
   "metadata": {},
   "source": [
    "# Checkpoints"
   ],
   "execution_count": null,
   "outputs": []
  },
  {
   "cell_type": "code",
   "execution_count": null,
   "metadata": {},
   "outputs": [],
   "source": [
    "from keras.callbacks import ModelCheckpoint\n",
    "\n",
    "\n",
    "checkpoint = ModelCheckpoint(checkpoint_path, monitor='val_loss', mode='min', \n",
    "save_best_only=True, verbose=1)\n",
    "\n",
    "callbacks = [checkpoint]\n",
    "\n"
   ]
  },
  {
   "cell_type": "code",
   "execution_count": null,
   "metadata": {},
   "outputs": [],
   "source": [
    "#load checkpoints if existing\n",
    "\n",
    "import os\n",
    "\n",
    "if(os.path.exists(checkpoint_path)):\n",
    "    model.load_weights(checkpoint_path)"
   ]
  },
  {
   "cell_type": "markdown",
   "metadata": {},
   "source": [
    "# Training Monitor"
   ],
   "execution_count": null,
   "outputs": []
  },
  {
   "cell_type": "code",
   "execution_count": null,
   "metadata": {},
   "outputs": [],
   "source": [
    "from utils.callbacks.training_monitor import TrainingMonitor\n",
    "import pathlib\n",
    "import json\n",
    "import os\n",
    "\n",
    "fig_path = \"plot\"\n",
    "json_path = \"values.json\"\n",
    "values_path = 'values.json'\n",
    "\n",
    "start_epoch = 0\n",
    "\n",
    "callbacks.append(TrainingMonitor(fig_path, json_path, start_epoch))"
   ]
  },
  {
   "cell_type": "markdown",
   "metadata": {},
   "source": [
    "# Fit model"
   ],
   "execution_count": null,
   "outputs": []
  },
  {
   "cell_type": "code",
   "execution_count": null,
   "metadata": {},
   "outputs": [],
   "source": [
    "num_of_epochs = 100\n",
    "\n",
    "H = model.fit_generator(\n",
    "    aug.flow(train_x,train_y, batch_size = 32),\n",
    "             validation_data = (test_x,test_y),\n",
    "             epochs=num_of_epochs,\n",
    "             steps_per_epoch = len(train_x) //32,\n",
    "             verbose = 1,\n",
    "             callbacks=callbacks)"
   ]
  },
  {
   "cell_type": "markdown",
   "metadata": {},
   "source": [
    "# Save model"
   ],
   "execution_count": null,
   "outputs": []
  },
  {
   "cell_type": "code",
   "execution_count": null,
   "metadata": {},
   "outputs": [],
   "source": [
    "model.save(model_save_path)"
   ]
  },
  {
   "cell_type": "markdown",
   "metadata": {},
   "source": [
    "# Evaluate with 20%"
   ],
   "execution_count": null,
   "outputs": []
  },
  {
   "cell_type": "code",
   "execution_count": null,
   "metadata": {},
   "outputs": [],
   "source": [
    "from sklearn.metrics import classification_report\n",
    "\n",
    "print(\"[INFO] evaluating after initialization...\")\n",
    "predictions = model.predict(test_x,batch_size=batch_size)\n",
    "\n",
    "print(classification_report(test_y.argmax(axis =1),\n",
    "                            predictions.argmax(axis =1),\n",
    "                            target_names=class_names, \n",
    "                            digits=4))"
   ]
  },
  {
   "cell_type": "markdown",
   "metadata": {},
   "source": [
    "# Evaluate with validation images"
   ],
   "execution_count": null,
   "outputs": []
  },
  {
   "cell_type": "code",
   "execution_count": null,
   "metadata": {},
   "outputs": [],
   "source": [
    "class_paths_validation = ['../datasets/validation/___Early_blight', '../datasets/validation/___Appids', '../datasets/validation/___Leaf_miner', '../datasets/self/___Curly_top_virus']"
   ]
  },
  {
   "cell_type": "code",
   "execution_count": null,
   "metadata": {},
   "outputs": [],
   "source": [
    "(train_x,test_x,train_y,test_y, class_names) = load_datasets(class_paths_validation)\n",
    "\n",
    "from sklearn.metrics import classification_report\n",
    "\n",
    "print(\"[INFO] evaluating with validation set...\")\n",
    "predictions = model.predict(test_x,batch_size=batch_size)\n",
    "\n",
    "print(classification_report(test_y.argmax(axis =1),\n",
    "                            predictions.argmax(axis =1),\n",
    "                            target_names=class_names, \n",
    "                            digits=4))"
   ]
  },
  {
   "cell_type": "code",
   "execution_count": null,
   "metadata": {},
   "outputs": [],
   "source": []
  }
 ],
 "metadata": {
  "file_extension": ".py",
  "kernelspec": {
   "display_name": "Python 3",
   "language": "python",
   "name": "python3"
  },
  "language_info": {
   "codemirror_mode": {
    "name": "ipython",
    "version": 3
   },
   "file_extension": ".py",
   "mimetype": "text/x-python",
   "name": "python",
   "nbconvert_exporter": "python",
   "pygments_lexer": "ipython3",
   "version": "3.7.3-final"
  },
  "mimetype": "text/x-python",
  "name": "python",
  "npconvert_exporter": "python",
  "pygments_lexer": "ipython3",
  "version": 3
 },
 "nbformat": 4,
 "nbformat_minor": 4
}
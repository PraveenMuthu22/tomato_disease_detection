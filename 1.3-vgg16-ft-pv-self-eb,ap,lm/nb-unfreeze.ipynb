{
 "cells": [
  {
   "cell_type": "markdown",
   "metadata": {},
   "source": [
    "# Arguments"
   ]
  },
  {
   "cell_type": "code",
   "execution_count": 1,
   "metadata": {},
   "outputs": [],
   "source": [
    "num_of_epochs = 100\n",
    "batch_size = 32\n",
    "dataset_path_plantvillage = '../datasets/plantvillage'\n",
    "dataset_path_self = '../datasets/self'\n",
    "dataset_path_validation = '../datasets/validation'\n",
    "\n",
    "dataset_paths = [dataset_path_plantvillage, dataset_path_self, dataset_path_validation]\n",
    "\n",
    "warmup_model_path = 'model-warmup.h5'\n",
    "model_save_path = 'model-final.h5'\n",
    "checkpoint_path = 'checkpoints-finetuning.hdf5'\n",
    "\n",
    "input_width = 224\n",
    "input_height = 224\n",
    "input_depth = 3\n"
   ]
  },
  {
   "cell_type": "markdown",
   "metadata": {},
   "source": [
    "# Select training classes"
   ]
  },
  {
   "cell_type": "code",
   "execution_count": 2,
   "metadata": {},
   "outputs": [],
   "source": [
    "class_paths_training = ['../datasets/plantvillage/___Late_blight', '../datasets/plantvillage/___Target_Spot', '../datasets/plantvillage/___healthy', '../datasets/plantvillage/___Mosaic_Virus', '../datasets/plantvillage/___Yellow_Leaf_Curl_Virus', '../datasets/plantvillage/___Leaf_Mold', '../datasets/plantvillage/___Bacterial_spot', '../datasets/self/___Early_blight', '../datasets/self/___Appids', '../datasets/self/___Leaf_miner']"
   ]
  },
  {
   "cell_type": "markdown",
   "metadata": {},
   "source": [
    "# Load dataset"
   ]
  },
  {
   "cell_type": "code",
   "execution_count": 3,
   "metadata": {},
   "outputs": [
    {
     "name": "stderr",
     "output_type": "stream",
     "text": [
      "Using TensorFlow backend.\n"
     ]
    },
    {
     "name": "stdout",
     "output_type": "stream",
     "text": [
      "[INFO] loading images...\n",
      "[INFO]: Processed 500/18087\n",
      "[INFO]: Processed 1000/18087\n",
      "[INFO]: Processed 1500/18087\n",
      "[INFO]: Processed 2000/18087\n",
      "[INFO]: Processed 2500/18087\n",
      "[INFO]: Processed 3000/18087\n",
      "[INFO]: Processed 3500/18087\n",
      "[INFO]: Processed 4000/18087\n",
      "[INFO]: Processed 4500/18087\n",
      "[INFO]: Processed 5000/18087\n",
      "[INFO]: Processed 5500/18087\n",
      "[INFO]: Processed 6000/18087\n",
      "[INFO]: Processed 6500/18087\n",
      "[INFO]: Processed 7000/18087\n",
      "[INFO]: Processed 7500/18087\n",
      "[INFO]: Processed 8000/18087\n",
      "[INFO]: Processed 8500/18087\n",
      "[INFO]: Processed 9000/18087\n",
      "[INFO]: Processed 9500/18087\n",
      "[INFO]: Processed 10000/18087\n",
      "[INFO]: Processed 10500/18087\n",
      "[INFO]: Processed 11000/18087\n",
      "[INFO]: Processed 11500/18087\n",
      "[INFO]: Processed 12000/18087\n",
      "[INFO]: Processed 12500/18087\n",
      "[INFO]: Processed 13000/18087\n",
      "[INFO]: Processed 13500/18087\n",
      "[INFO]: Processed 14000/18087\n",
      "[INFO]: Processed 14500/18087\n",
      "[INFO]: Processed 15000/18087\n",
      "[INFO]: Processed 15500/18087\n",
      "[INFO]: Processed 16000/18087\n",
      "[INFO]: Processed 16500/18087\n",
      "[INFO]: Processed 17000/18087\n",
      "[INFO]: Processed 17500/18087\n",
      "[INFO]: Processed 18000/18087\n"
     ]
    }
   ],
   "source": [
    "from sklearn.preprocessing import LabelBinarizer\n",
    "from sklearn.model_selection import train_test_split\n",
    "from sklearn.metrics import classification_report\n",
    "from keras.preprocessing.image   import ImageDataGenerator\n",
    "from keras.optimizers import RMSprop\n",
    "from keras.layers import Input\n",
    "from keras.models import Model\n",
    "from keras .applications import VGG16\n",
    "from keras.optimizers import SGD\n",
    "from keras.models import Model\n",
    "from imutils import paths\n",
    "import numpy as np\n",
    "import os\n",
    "\n",
    "import sys\n",
    "sys.path.append('..')\n",
    "\n",
    "from utils.preprocessors.resize_image_preprocessor import resizeImagePreprocessor\n",
    "from utils.preprocessors.image_to_array_preprocessor import ImageToArrayPreprocessor\n",
    "from utils.io.simple_dataset_loader import SimpleDatasetLoader\n",
    "\n",
    "# construct the image generator for data augmentation\n",
    "aug = ImageDataGenerator(   rotation_range=30,\n",
    "                            width_shift_range=0.1,\n",
    "                            height_shift_range=0.1,\n",
    "                            shear_range=0.2,\n",
    "                            zoom_range=0.2,\n",
    "                            horizontal_flip=True,\n",
    "                            fill_mode='nearest')\n",
    "\n",
    "# Load image paths\n",
    "image_paths = []\n",
    "print(\"[INFO] loading images...\")\n",
    "for path in class_paths_training:\n",
    "    image_paths.extend(list(paths.list_images(path)))\n",
    "\n",
    "# Get unique classnames\n",
    "class_names = [pt.split(os.path.sep)[-2] for pt in image_paths]\n",
    "class_names = [str(x) for x in np.unique(class_names)]\n",
    "\n",
    "# Initial image preprocessing\n",
    "aap = resizeImagePreprocessor(input_width, input_height)\n",
    "iap= ImageToArrayPreprocessor()\n",
    "\n",
    "#Load image data and perform image data preprocessing\n",
    "sdl = SimpleDatasetLoader(preprocessors=[aap,iap])\n",
    "(data,labels)  = sdl.load(image_paths,verbose=500)\n",
    "data = data.astype(\"float\") / 255.0\n",
    "\n",
    "\n",
    "# train test split\n",
    "(train_x,test_x,train_y,test_y) = train_test_split(data,labels,test_size=0.25,random_state=42)\n",
    "\n",
    "# convert the labels from integers to vectors\n",
    "train_y = LabelBinarizer().fit_transform(train_y)\n",
    "test_y = LabelBinarizer().fit_transform(test_y)\n",
    "\n"
   ]
  },
  {
   "cell_type": "markdown",
   "metadata": {},
   "source": [
    "# Load model from disk"
   ]
  },
  {
   "cell_type": "code",
   "execution_count": 4,
   "metadata": {},
   "outputs": [],
   "source": [
    "# import tensorflow as tf\n",
    "# print(tf.__version__)\n",
    "\n",
    "\n",
    "# model = tf.keras.models.load_model(\n",
    "#     warmup_model_path,\n",
    "#     custom_objects=None,\n",
    "#     compile=False\n",
    "# )\n",
    "\n",
    "from keras.models import load_model\n",
    "\n",
    "model = load_model(warmup_model_path)"
   ]
  },
  {
   "cell_type": "markdown",
   "metadata": {},
   "source": [
    "# Print index of layers"
   ]
  },
  {
   "cell_type": "code",
   "execution_count": 5,
   "metadata": {},
   "outputs": [
    {
     "name": "stdout",
     "output_type": "stream",
     "text": [
      "[INFO] 0\tInputLayer\n",
      "[INFO] 1\tConv2D\n",
      "[INFO] 2\tConv2D\n",
      "[INFO] 3\tMaxPooling2D\n",
      "[INFO] 4\tConv2D\n",
      "[INFO] 5\tConv2D\n",
      "[INFO] 6\tMaxPooling2D\n",
      "[INFO] 7\tConv2D\n",
      "[INFO] 8\tConv2D\n",
      "[INFO] 9\tConv2D\n",
      "[INFO] 10\tMaxPooling2D\n",
      "[INFO] 11\tConv2D\n",
      "[INFO] 12\tConv2D\n",
      "[INFO] 13\tConv2D\n",
      "[INFO] 14\tMaxPooling2D\n",
      "[INFO] 15\tConv2D\n",
      "[INFO] 16\tConv2D\n",
      "[INFO] 17\tConv2D\n",
      "[INFO] 18\tMaxPooling2D\n",
      "[INFO] 19\tFlatten\n",
      "[INFO] 20\tDense\n",
      "[INFO] 21\tDropout\n",
      "[INFO] 22\tDense\n"
     ]
    }
   ],
   "source": [
    "# iterate for all layers in the network and print its' index value\n",
    "for (i,layer) in enumerate(model.layers):\n",
    "    print(\"[INFO] {}\\t{}\".format(i,layer.__class__.__name__))"
   ]
  },
  {
   "cell_type": "markdown",
   "metadata": {},
   "source": [
    "# Unfreeze final CONV layers"
   ]
  },
  {
   "cell_type": "code",
   "execution_count": 6,
   "metadata": {},
   "outputs": [
    {
     "name": "stdout",
     "output_type": "stream",
     "text": [
      "unfrozen\n"
     ]
    }
   ],
   "source": [
    "for layer in model.layers[11:]:\n",
    "    layer.trainable = True\n",
    "print('unfrozen')"
   ]
  },
  {
   "cell_type": "markdown",
   "metadata": {},
   "source": [
    "# Compile model"
   ]
  },
  {
   "cell_type": "code",
   "execution_count": 7,
   "metadata": {},
   "outputs": [
    {
     "name": "stdout",
     "output_type": "stream",
     "text": [
      "[INFO] re-compiling model ...\n"
     ]
    }
   ],
   "source": [
    "from keras.optimizers import SGD\n",
    "\n",
    "# Build the model from the new\n",
    "print(\"[INFO] re-compiling model ...\")\n",
    "opt = SGD(lr=0.001, momentum=0.09)\n",
    "# Fine-tuning with a small learning rate\n",
    "model.compile(loss = 'categorical_crossentropy',optimizer = opt,\n",
    "              metrics=['accuracy'])\n"
   ]
  },
  {
   "cell_type": "markdown",
   "metadata": {},
   "source": [
    "# Checkpoints"
   ]
  },
  {
   "cell_type": "code",
   "execution_count": 8,
   "metadata": {},
   "outputs": [],
   "source": [
    "from keras.callbacks import ModelCheckpoint\n",
    "\n",
    "\n",
    "checkpoint = ModelCheckpoint(checkpoint_path, monitor='val_loss', mode='min', \n",
    "save_best_only=True, verbose=1)\n",
    "\n",
    "callbacks = [checkpoint]\n",
    "\n"
   ]
  },
  {
   "cell_type": "code",
   "execution_count": 9,
   "metadata": {},
   "outputs": [],
   "source": [
    "#load checkpoints if existing\n",
    "\n",
    "import os\n",
    "\n",
    "epochs_done = 0\n",
    "num_of_epochs = 10\n",
    "\n",
    "if(os.path.exists(checkpoint_path)):\n",
    "    model.load_weights(checkpoint_path)\n",
    "    num_of_epochs = num_of_epochs - epochs_done\n"
   ]
  },
  {
   "cell_type": "markdown",
   "metadata": {},
   "source": [
    "# Training Monitor"
   ]
  },
  {
   "cell_type": "code",
   "execution_count": 10,
   "metadata": {},
   "outputs": [],
   "source": [
    "from utils.callbacks.training_monitor import TrainingMonitor\n",
    "import pathlib\n",
    "import json\n",
    "import os\n",
    "\n",
    "fig_path = \"plot\"\n",
    "json_path = \"values.json\"\n",
    "values_path = 'values.json'\n",
    "\n",
    "start_epoch = 127\n",
    "\n",
    "callbacks.append(TrainingMonitor(fig_path, json_path, start_epoch))"
   ]
  },
  {
   "cell_type": "markdown",
   "metadata": {},
   "source": [
    "# Fit model"
   ]
  },
  {
   "cell_type": "code",
   "execution_count": 11,
   "metadata": {},
   "outputs": [
    {
     "name": "stdout",
     "output_type": "stream",
     "text": [
      "Epoch 1/2\n",
      "423/423 [==============================] - 229s 540ms/step - loss: 0.0087 - accuracy: 0.9968 - val_loss: 0.0177 - val_accuracy: 0.9947\n",
      "\n",
      "Epoch 00001: val_loss improved from inf to 0.01771, saving model to checkpoints-finetuning.hdf5\n",
      "Epoch 2/2\n",
      "423/423 [==============================] - 216s 511ms/step - loss: 0.0087 - accuracy: 0.9975 - val_loss: 0.0226 - val_accuracy: 0.9929\n",
      "\n",
      "Epoch 00002: val_loss did not improve from 0.01771\n"
     ]
    }
   ],
   "source": [
    "num_of_epochs = 2\n",
    "\n",
    "H = model.fit_generator(\n",
    "    aug.flow(train_x,train_y, batch_size = 32),\n",
    "             validation_data = (test_x,test_y),\n",
    "             epochs=num_of_epochs,\n",
    "             steps_per_epoch = len(train_x) //32,\n",
    "             verbose = 1,\n",
    "             callbacks=callbacks)"
   ]
  },
  {
   "cell_type": "markdown",
   "metadata": {},
   "source": [
    "# Save model"
   ]
  },
  {
   "cell_type": "code",
   "execution_count": 12,
   "metadata": {},
   "outputs": [],
   "source": [
    "model.save(model_save_path)"
   ]
  },
  {
   "cell_type": "markdown",
   "metadata": {},
   "source": [
    "# Load model form disk"
   ]
  },
  {
   "cell_type": "code",
   "execution_count": 13,
   "metadata": {},
   "outputs": [],
   "source": [
    "\n",
    "# from keras.models import load_model\n",
    "\n",
    "# model_save_path = 'model-final.h5'\n",
    "# model = load_model(model_save_path)"
   ]
  },
  {
   "cell_type": "markdown",
   "metadata": {},
   "source": [
    "# Evaluate"
   ]
  },
  {
   "cell_type": "code",
   "execution_count": 14,
   "metadata": {},
   "outputs": [
    {
     "name": "stdout",
     "output_type": "stream",
     "text": [
      "[INFO] evaluating after initialization...\n",
      "                           precision    recall  f1-score   support\n",
      "\n",
      "                ___Appids     1.0000    1.0000    1.0000       259\n",
      "        ___Bacterial_spot     0.9962    0.9981    0.9972       531\n",
      "          ___Early_blight     0.9973    0.9786    0.9878       373\n",
      "           ___Late_blight     0.9935    0.9978    0.9957       459\n",
      "             ___Leaf_Mold     0.9917    0.9917    0.9917       242\n",
      "            ___Leaf_miner     0.9868    0.9978    0.9923       451\n",
      "          ___Mosaic_Virus     0.8707    1.0000    0.9309       101\n",
      "           ___Target_Spot     0.9916    1.0000    0.9958       356\n",
      "___Yellow_Leaf_Curl_Virus     1.0000    0.9860    0.9929      1357\n",
      "               ___healthy     1.0000    1.0000    1.0000       393\n",
      "\n",
      "              avg / total     0.9934    0.9929    0.9930      4522\n",
      "\n"
     ]
    }
   ],
   "source": [
    "from sklearn.metrics import classification_report\n",
    "\n",
    "print(\"[INFO] evaluating after initialization...\")\n",
    "predictions = model.predict(test_x,batch_size=batch_size)\n",
    "\n",
    "print(classification_report(test_y.argmax(axis =1),\n",
    "                            predictions.argmax(axis =1),\n",
    "                            target_names=class_names, \n",
    "                            digits=4))"
   ]
  }
 ],
 "metadata": {
  "file_extension": ".py",
  "kernelspec": {
   "display_name": "Python 3",
   "language": "python",
   "name": "python3"
  },
  "language_info": {
   "codemirror_mode": {
    "name": "ipython",
    "version": 3
   },
   "file_extension": ".py",
   "mimetype": "text/x-python",
   "name": "python",
   "nbconvert_exporter": "python",
   "pygments_lexer": "ipython3",
   "version": "3.5.3"
  },
  "mimetype": "text/x-python",
  "name": "python",
  "npconvert_exporter": "python",
  "pygments_lexer": "ipython3",
  "version": 3
 },
 "nbformat": 4,
 "nbformat_minor": 4
}

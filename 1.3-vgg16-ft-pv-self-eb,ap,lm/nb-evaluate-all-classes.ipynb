{
 "cells": [
  {
   "cell_type": "markdown",
   "metadata": {},
   "source": [
    "# Arguments"
   ]
  },
  {
   "cell_type": "code",
   "execution_count": 1,
   "metadata": {},
   "outputs": [],
   "source": [
    "num_of_epochs = 100\n",
    "batch_size = 32\n",
    "dataset_path_plantvillage = '../datasets/plantvillage'\n",
    "dataset_path_self = '../datasets/self'\n",
    "dataset_path_validation = '../datasets/validation'\n",
    "\n",
    "dataset_paths = [dataset_path_plantvillage, dataset_path_self, dataset_path_validation]\n",
    "\n",
    "final_model_path= 'model-final.h5'\n",
    "\n",
    "input_width = 224\n",
    "input_height = 224\n",
    "input_depth = 3\n"
   ]
  },
  {
   "cell_type": "markdown",
   "metadata": {},
   "source": [
    "# Select training classes"
   ]
  },
  {
   "cell_type": "code",
   "execution_count": 2,
   "metadata": {},
   "outputs": [],
   "source": [
    "class_paths_training = ['../datasets/validation/___Late_blight', '../datasets/validation/___Target_Spot', '../datasets/validation/___healthy', '../datasets/validation/___Mosaic_Virus', '../datasets/validation/___Yellow_Leaf_Curl_Virus', '../datasets/validation/___Leaf_Mold', '../datasets/validation/___Bacterial_spot', '../datasets/validation/___Early_blight', '../datasets/validation/___Appids', '../datasets/validation/___Leaf_miner', '../datasets/validation/___Appids']"
   ]
  },
  {
   "cell_type": "markdown",
   "metadata": {},
   "source": [
    "# Load dataset"
   ]
  },
  {
   "cell_type": "code",
   "execution_count": 3,
   "metadata": {},
   "outputs": [
    {
     "name": "stderr",
     "output_type": "stream",
     "text": [
      "Using TensorFlow backend.\n"
     ]
    },
    {
     "name": "stdout",
     "output_type": "stream",
     "text": [
      "[INFO] loading images...\n"
     ]
    }
   ],
   "source": [
    "from sklearn.preprocessing import LabelBinarizer\n",
    "from sklearn.model_selection import train_test_split\n",
    "from sklearn.metrics import classification_report\n",
    "from keras.preprocessing.image   import ImageDataGenerator\n",
    "from keras.optimizers import RMSprop\n",
    "from keras.layers import Input\n",
    "from keras.models import Model\n",
    "from keras .applications import VGG16\n",
    "from keras.optimizers import SGD\n",
    "from keras.models import Model\n",
    "from imutils import paths\n",
    "import numpy as np\n",
    "import os\n",
    "\n",
    "import sys\n",
    "sys.path.append('..')\n",
    "\n",
    "from utils.preprocessors.resize_image_preprocessor import resizeImagePreprocessor\n",
    "from utils.preprocessors.img_to_array_preprocessor import ImgToArrayPreprocessor\n",
    "from utils.io.dataset_loader import DatasetLoader\n",
    "\n",
    "# construct the image generator for data augmentation\n",
    "aug = ImageDataGenerator(   rotation_range=30,\n",
    "                            width_shift_range=0.1,\n",
    "                            height_shift_range=0.1,\n",
    "                            shear_range=0.2,\n",
    "                            zoom_range=0.2,\n",
    "                            horizontal_flip=True,\n",
    "                            fill_mode='nearest')\n",
    "\n",
    "# Load image paths\n",
    "image_paths = []\n",
    "print(\"[INFO] loading images...\")\n",
    "for path in class_paths_training:\n",
    "    image_paths.extend(list(paths.list_images(path)))\n",
    "\n",
    "# Get unique classnames\n",
    "class_names = [pt.split(os.path.sep)[-2] for pt in image_paths]\n",
    "class_names = [str(x) for x in np.unique(class_names)]\n",
    "\n",
    "# Initial image preprocessing\n",
    "aap = resizeImagePreprocessor(input_width, input_height)\n",
    "iap= ImgToArrayPreprocessor()\n",
    "\n",
    "#Load image data and perform image data preprocessing\n",
    "dl = DatasetLoader(preprocessors=[aap,iap])\n",
    "(test_x,test_y)  = dl.load(image_paths,verbose=500)\n",
    "test_x = test_x.astype(\"float\") / 255.0\n",
    "\n",
    "# convert the labels from integers to vectors\n",
    "test_y = LabelBinarizer().fit_transform(test_y)\n",
    "\n"
   ]
  },
  {
   "cell_type": "code",
   "execution_count": 4,
   "metadata": {},
   "outputs": [
    {
     "name": "stdout",
     "output_type": "stream",
     "text": [
      "10\n",
      "['___Appids', '___Bacterial_spot', '___Early_blight', '___Late_blight', '___Leaf_Mold', '___Leaf_miner', '___Mosaic_Virus', '___Target_Spot', '___Yellow_Leaf_Curl_Virus', '___healthy']\n"
     ]
    }
   ],
   "source": [
    "print(len(class_names))\n",
    "print(class_names)"
   ]
  },
  {
   "cell_type": "markdown",
   "metadata": {},
   "source": [
    "# Load model from disk"
   ]
  },
  {
   "cell_type": "code",
   "execution_count": 5,
   "metadata": {},
   "outputs": [],
   "source": [
    "# import tensorflow as tf\n",
    "# print(tf.__version__)\n",
    "\n",
    "\n",
    "# model = tf.keras.models.load_model(\n",
    "#     final_model_path,\n",
    "#     custom_objects=None,\n",
    "#     compile=False\n",
    "# )\n",
    "\n",
    "from keras.models import load_model\n",
    "\n",
    "model = load_model(final_model_path)"
   ]
  },
  {
   "cell_type": "markdown",
   "metadata": {},
   "source": [
    "# Evaluate"
   ]
  },
  {
   "cell_type": "code",
   "execution_count": 6,
   "metadata": {},
   "outputs": [
    {
     "name": "stdout",
     "output_type": "stream",
     "text": [
      "[INFO] evaluating after initialization...\n",
      "                           precision    recall  f1-score   support\n",
      "\n",
      "                ___Appids     0.7442    0.7273    0.7356        44\n",
      "        ___Bacterial_spot     0.5000    0.0789    0.1364        38\n",
      "          ___Early_blight     0.2188    0.7143    0.3349        49\n",
      "           ___Late_blight     0.5102    0.4237    0.4630       118\n",
      "             ___Leaf_Mold     0.0000    0.0000    0.0000        38\n",
      "            ___Leaf_miner     0.3571    0.7143    0.4762        49\n",
      "          ___Mosaic_Virus     0.0000    0.0000    0.0000        20\n",
      "           ___Target_Spot     0.0000    0.0000    0.0000        24\n",
      "___Yellow_Leaf_Curl_Virus     0.0000    0.0000    0.0000        12\n",
      "               ___healthy     0.0000    0.0000    0.0000        19\n",
      "\n",
      "              avg / total     0.3410    0.3771    0.3210       411\n",
      "\n"
     ]
    },
    {
     "name": "stderr",
     "output_type": "stream",
     "text": [
      "/usr/local/lib/python3.5/site-packages/sklearn/metrics/classification.py:1135: UndefinedMetricWarning: Precision and F-score are ill-defined and being set to 0.0 in labels with no predicted samples.\n",
      "  'precision', 'predicted', average, warn_for)\n"
     ]
    }
   ],
   "source": [
    "from sklearn.metrics import classification_report\n",
    "\n",
    "print(\"[INFO] evaluating after initialization...\")\n",
    "predictions = model.predict(test_x,batch_size=batch_size)\n",
    "\n",
    "print(classification_report(test_y.argmax(axis =1),\n",
    "                            predictions.argmax(axis =1),\n",
    "                            target_names=class_names, \n",
    "                            digits=4))"
   ]
  }
 ],
 "metadata": {
  "file_extension": ".py",
  "kernelspec": {
   "display_name": "Python 3",
   "language": "python",
   "name": "python3"
  },
  "language_info": {
   "codemirror_mode": {
    "name": "ipython",
    "version": 3
   },
   "file_extension": ".py",
   "mimetype": "text/x-python",
   "name": "python",
   "nbconvert_exporter": "python",
   "pygments_lexer": "ipython3",
   "version": "3.5.3"
  },
  "mimetype": "text/x-python",
  "name": "python",
  "npconvert_exporter": "python",
  "pygments_lexer": "ipython3",
  "version": 3
 },
 "nbformat": 4,
 "nbformat_minor": 4
}

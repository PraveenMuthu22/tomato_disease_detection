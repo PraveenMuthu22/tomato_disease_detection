{
 "cells": [
  {
   "cell_type": "markdown",
   "metadata": {},
   "source": [
    "\n",
    "# Arguments"
   ]
  },
  {
   "cell_type": "code",
   "execution_count": 3,
   "metadata": {},
   "outputs": [
    {
     "name": "stdout",
     "output_type": "stream",
     "text": "Classes:  ['Tomato___Target_Spot', 'Tomato___Late_blight', 'Tomato___Tomato_mosaic_virus', 'Tomato___Leaf_Mold', 'Tomato___Bacterial_spot', 'Tomato___Early_blight', 'Tomato___Two-spotted_spider_mite', 'Tomato___healthy', 'Tomato___Tomato_Yellow_Leaf_Curl_Virus', 'Tomato___Septoria_leaf_spot']\n10\n"
    }
   ],
   "source": [
    "num_of_epochs = 25\n",
    "batch_size = 32\n",
    "dataset_name = 'tomato-dataset'\n",
    "dataset_path = '../datasets/' + dataset_name\n",
    "model_save_path = 'model-warmup.h5'\n",
    "\n",
    "checkpoint_path = 'checkpoints-warmup.hdf5'\n",
    "\n",
    "input_width = 224\n",
    "input_height = 224\n",
    "input_depth = 3\n",
    "\n",
    "# Get classes\n",
    "import os\n",
    "import re\n",
    "classes = os.listdir(dataset_path)\n",
    "class_names = []\n",
    "\n",
    "for i in classes:\n",
    "    if(re.search(\"Tomato___\", i)):\n",
    "        class_names.append(i)\n",
    "    \n",
    "print('Classes: ', class_names)\n",
    "print(len(class_names))"
   ]
  },
  {
   "cell_type": "markdown",
   "metadata": {},
   "source": [
    "\n",
    "# Load model"
   ]
  },
  {
   "cell_type": "code",
   "execution_count": null,
   "metadata": {},
   "outputs": [],
   "source": [
    "from keras.applications import VGG16\n",
    "from keras.utils.vis_utils import plot_model\n",
    "from keras.layers import Input\n",
    "\n",
    "\n",
    "\n",
    "# Load pretrianed VGG model with FC layers removed\n",
    "# explicitly deﬁne the input_tensor to be 224×224×3 pixels\n",
    "base_model = VGG16(weights='imagenet',include_top=False,\n",
    "                  input_tensor=Input(shape = (input_width,input_height, input_depth)))\n",
    "\n",
    "plot_save_path = 'diagram-base-vgg16.png'\n",
    "plot_model(base_model, to_file=model_diagram_path, show_shapes=True)"
   ]
  },
  {
   "cell_type": "markdown",
   "metadata": {},
   "source": [
    "# Custom FC layer"
   ]
  },
  {
   "cell_type": "code",
   "execution_count": 3,
   "metadata": {},
   "outputs": [],
   "source": [
    "from keras.layers.core import Dropout\n",
    "from keras.layers.core import Flatten\n",
    "from keras.layers.core import Dense\n",
    "\n",
    "head_model = base_model.output\n",
    "head_model = Flatten(name='flatten')(head_model)\n",
    "head_model = Dense(256,activation='relu')(head_model)\n",
    "head_model = Dropout(0.5)(head_model)\n",
    "# Add a softmaxc layer\n",
    "head_model = Dense(len(class_names),activation='softmax')(head_model)\n",
    "\n",
    "# plot_save_path = 'custom-head.png'\n",
    "# plot_model(head_model, to_file=model_diagram_path, show_shapes=True)"
   ]
  },
  {
   "cell_type": "markdown",
   "metadata": {},
   "source": [
    "# Attach custom head to model"
   ]
  },
  {
   "cell_type": "code",
   "execution_count": null,
   "metadata": {},
   "outputs": [],
   "source": [
    "from keras.models import Model\n",
    "\n",
    "\n",
    "# place the head FC model on top of the base model \n",
    "model = Model(inputs=base_model.input, outputs = head_model)\n",
    "\n",
    "# freeze weights in base model\n",
    "for layer in base_model.layers:\n",
    "    layer.trainable = False\n",
    "\n",
    "plot_save_path = 'diagram-vgg16-head-attached.png'\n",
    "plot_model(model, to_file=model_diagram_path, show_shapes=True)"
   ]
  },
  {
   "cell_type": "markdown",
   "metadata": {},
   "source": [
    "# Freeze base model"
   ]
  },
  {
   "cell_type": "code",
   "execution_count": 5,
   "metadata": {},
   "outputs": [],
   "source": [
    "# traverse all layers and freeze the weight of the corresponding layer\n",
    "for layer in base_model.layers:\n",
    "    layer.trainable = False"
   ]
  },
  {
   "cell_type": "markdown",
   "metadata": {},
   "source": [
    "# Compile model"
   ]
  },
  {
   "cell_type": "code",
   "execution_count": 6,
   "metadata": {},
   "outputs": [
    {
     "name": "stdout",
     "output_type": "stream",
     "text": [
      "[INFO] compiling model...\n",
      "[INFO] training head...\n"
     ]
    }
   ],
   "source": [
    "from keras.optimizers import RMSprop\n",
    "\n",
    "print(\"[INFO] compiling model...\")\n",
    "opt = RMSprop(lr=0.001)\n",
    "\n",
    "model.compile(loss=\"categorical_crossentropy\", optimizer=opt,metrics=[\"accuracy\"])\n",
    "# Since we only train the new fully connected layer, we do a few iterations\n",
    "print(\"[INFO] training head...\")"
   ]
  },
  {
   "cell_type": "markdown",
   "metadata": {},
   "source": [
    "# Load data"
   ]
  },
  {
   "cell_type": "code",
   "execution_count": 7,
   "metadata": {},
   "outputs": [
    {
     "name": "stdout",
     "output_type": "stream",
     "text": [
      "[INFO] loading images...\n",
      "[INFO]: Processed 500/18160\n",
      "[INFO]: Processed 1000/18160\n",
      "[INFO]: Processed 1500/18160\n",
      "[INFO]: Processed 2000/18160\n",
      "[INFO]: Processed 2500/18160\n",
      "[INFO]: Processed 3000/18160\n",
      "[INFO]: Processed 3500/18160\n",
      "[INFO]: Processed 4000/18160\n",
      "[INFO]: Processed 4500/18160\n",
      "[INFO]: Processed 5000/18160\n",
      "[INFO]: Processed 5500/18160\n",
      "[INFO]: Processed 6000/18160\n",
      "[INFO]: Processed 6500/18160\n",
      "[INFO]: Processed 7000/18160\n",
      "[INFO]: Processed 7500/18160\n",
      "[INFO]: Processed 8000/18160\n",
      "[INFO]: Processed 8500/18160\n",
      "[INFO]: Processed 9000/18160\n",
      "[INFO]: Processed 9500/18160\n",
      "[INFO]: Processed 10000/18160\n",
      "[INFO]: Processed 10500/18160\n",
      "[INFO]: Processed 11000/18160\n",
      "[INFO]: Processed 11500/18160\n",
      "[INFO]: Processed 12000/18160\n",
      "[INFO]: Processed 12500/18160\n",
      "[INFO]: Processed 13000/18160\n",
      "[INFO]: Processed 13500/18160\n",
      "[INFO]: Processed 14000/18160\n",
      "[INFO]: Processed 14500/18160\n",
      "[INFO]: Processed 15000/18160\n",
      "[INFO]: Processed 15500/18160\n",
      "[INFO]: Processed 16000/18160\n",
      "[INFO]: Processed 16500/18160\n",
      "[INFO]: Processed 17000/18160\n",
      "[INFO]: Processed 17500/18160\n",
      "[INFO]: Processed 18000/18160\n"
     ]
    }
   ],
   "source": [
    "from sklearn.preprocessing import LabelBinarizer\n",
    "from sklearn.model_selection import train_test_split\n",
    "from sklearn.metrics import classification_report\n",
    "from keras.preprocessing.image   import ImageDataGenerator\n",
    "from keras.optimizers import RMSprop\n",
    "from keras.layers import Input\n",
    "from keras.models import Model\n",
    "from keras .applications import VGG16\n",
    "from keras.optimizers import SGD\n",
    "from keras.models import Model\n",
    "from imutils import paths\n",
    "import numpy as np\n",
    "import os\n",
    "\n",
    "import sys\n",
    "sys.path.append('..')\n",
    "\n",
    "from utils.preprocessors.aspect_aware_preprocessor import AspectAwarePreprocessor\n",
    "from utils.preprocessors.image_to_array_preprocessor import ImageToArrayPreprocessor\n",
    "from utils.io.simple_dataset_loader import SimpleDatasetLoader\n",
    "\n",
    "# construct the image generator for data augmentation\n",
    "aug = ImageDataGenerator(   rotation_range=30,\n",
    "                            width_shift_range=0.1,\n",
    "                            height_shift_range=0.1,\n",
    "                            shear_range=0.2,\n",
    "                            zoom_range=0.2,\n",
    "                            horizontal_flip=True,\n",
    "                            fill_mode='nearest')\n",
    "\n",
    "# Load image paths\n",
    "print(\"[INFO] loading images...\")\n",
    "image_paths = list(paths.list_images(dataset_path))\n",
    "\n",
    "# Initial image preprocessing\n",
    "aap = AspectAwarePreprocessor(input_width, input_height)\n",
    "iap= ImageToArrayPreprocessor()\n",
    "\n",
    "#Load image data and perform image data preprocessing\n",
    "sdl = SimpleDatasetLoader(preprocessors=[aap,iap])\n",
    "(data,labels)  = sdl.load(image_paths,verbose=500)\n",
    "data = data.astype(\"float\") / 255.0\n",
    "\n",
    "\n",
    "# train test split\n",
    "(train_x,test_x,train_y,test_y) = train_test_split(data,labels,test_size=0.25,random_state=42)\n",
    "\n",
    "# convert the labels from integers to vectors\n",
    "train_y = LabelBinarizer().fit_transform(train_y)\n",
    "test_y = LabelBinarizer().fit_transform(test_y)\n",
    "\n"
   ]
  },
  {
   "cell_type": "markdown",
   "metadata": {},
   "source": [
    "# Checkpoints"
   ]
  },
  {
   "cell_type": "code",
   "execution_count": 8,
   "metadata": {},
   "outputs": [],
   "source": [
    "from keras.callbacks import ModelCheckpoint\n",
    "\n",
    "\n",
    "checkpoint = ModelCheckpoint(checkpoint_path, monitor='val_loss', mode='min', \n",
    "save_best_only=True, verbose=1)\n",
    "\n",
    "callbacks = [checkpoint]\n",
    "\n"
   ]
  },
  {
   "cell_type": "code",
   "execution_count": 9,
   "metadata": {},
   "outputs": [],
   "source": [
    "#load checkpoints if existing\n",
    "\n",
    "import os\n",
    "\n",
    "epochs_done = 1\n",
    "\n",
    "if(os.path.exists(checkpoint_path)):\n",
    "    model.load_weights(checkpoint_path)\n",
    "    num_of_epochs = num_of_epochs - epochs_done\n"
   ]
  },
  {
   "cell_type": "markdown",
   "metadata": {},
   "source": [
    "# Warm up head"
   ]
  },
  {
   "cell_type": "code",
   "execution_count": 10,
   "metadata": {},
   "outputs": [
    {
     "name": "stdout",
     "output_type": "stream",
     "text": [
      "Epoch 1/25\n",
      "425/425 [==============================] - 215s 507ms/step - loss: 1.6514 - accuracy: 0.5072 - val_loss: 0.8399 - val_accuracy: 0.6901\n",
      "\n",
      "Epoch 00001: val_loss improved from inf to 0.83993, saving model to warmup-checkpoints.hdf5\n",
      "Epoch 2/25\n",
      "425/425 [==============================] - 209s 491ms/step - loss: 1.0738 - accuracy: 0.6275 - val_loss: 0.6574 - val_accuracy: 0.8110\n",
      "\n",
      "Epoch 00002: val_loss improved from 0.83993 to 0.65741, saving model to warmup-checkpoints.hdf5\n",
      "Epoch 3/25\n",
      "425/425 [==============================] - 209s 491ms/step - loss: 0.9844 - accuracy: 0.6576 - val_loss: 0.5325 - val_accuracy: 0.8280\n",
      "\n",
      "Epoch 00003: val_loss improved from 0.65741 to 0.53246, saving model to warmup-checkpoints.hdf5\n",
      "Epoch 4/25\n",
      "425/425 [==============================] - 208s 490ms/step - loss: 0.9304 - accuracy: 0.6800 - val_loss: 0.5559 - val_accuracy: 0.8352\n",
      "\n",
      "Epoch 00004: val_loss did not improve from 0.53246\n",
      "Epoch 5/25\n",
      "425/425 [==============================] - 208s 490ms/step - loss: 0.9226 - accuracy: 0.6819 - val_loss: 0.4928 - val_accuracy: 0.8498\n",
      "\n",
      "Epoch 00005: val_loss improved from 0.53246 to 0.49278, saving model to warmup-checkpoints.hdf5\n",
      "Epoch 6/25\n",
      "425/425 [==============================] - 208s 489ms/step - loss: 0.9064 - accuracy: 0.6919 - val_loss: 0.5331 - val_accuracy: 0.8282\n",
      "\n",
      "Epoch 00006: val_loss did not improve from 0.49278\n",
      "Epoch 7/25\n",
      "425/425 [==============================] - 207s 487ms/step - loss: 0.8767 - accuracy: 0.7027 - val_loss: 0.5217 - val_accuracy: 0.8388\n",
      "\n",
      "Epoch 00007: val_loss did not improve from 0.49278\n",
      "Epoch 8/25\n",
      "425/425 [==============================] - 208s 489ms/step - loss: 0.9018 - accuracy: 0.7009 - val_loss: 0.5299 - val_accuracy: 0.8487\n",
      "\n",
      "Epoch 00008: val_loss did not improve from 0.49278\n",
      "Epoch 9/25\n",
      "425/425 [==============================] - 208s 489ms/step - loss: 0.8715 - accuracy: 0.7111 - val_loss: 0.5585 - val_accuracy: 0.8308\n",
      "\n",
      "Epoch 00009: val_loss did not improve from 0.49278\n",
      "Epoch 10/25\n",
      "425/425 [==============================] - 208s 490ms/step - loss: 0.8617 - accuracy: 0.7120 - val_loss: 0.5816 - val_accuracy: 0.8359\n",
      "\n",
      "Epoch 00010: val_loss did not improve from 0.49278\n",
      "Epoch 11/25\n",
      "425/425 [==============================] - 209s 491ms/step - loss: 0.8668 - accuracy: 0.7117 - val_loss: 0.5632 - val_accuracy: 0.8178\n",
      "\n",
      "Epoch 00011: val_loss did not improve from 0.49278\n",
      "Epoch 12/25\n",
      "425/425 [==============================] - 207s 488ms/step - loss: 0.8944 - accuracy: 0.7089 - val_loss: 0.5382 - val_accuracy: 0.8436\n",
      "\n",
      "Epoch 00012: val_loss did not improve from 0.49278\n",
      "Epoch 13/25\n",
      "425/425 [==============================] - 206s 485ms/step - loss: 0.8540 - accuracy: 0.7213 - val_loss: 0.5103 - val_accuracy: 0.8509\n",
      "\n",
      "Epoch 00013: val_loss did not improve from 0.49278\n",
      "Epoch 14/25\n",
      "425/425 [==============================] - 208s 489ms/step - loss: 0.8995 - accuracy: 0.7094 - val_loss: 0.5685 - val_accuracy: 0.8419\n",
      "\n",
      "Epoch 00014: val_loss did not improve from 0.49278\n",
      "Epoch 15/25\n",
      "425/425 [==============================] - 207s 487ms/step - loss: 0.8814 - accuracy: 0.7127 - val_loss: 0.5633 - val_accuracy: 0.8443\n",
      "\n",
      "Epoch 00015: val_loss did not improve from 0.49278\n",
      "Epoch 16/25\n",
      "425/425 [==============================] - 206s 485ms/step - loss: 0.8822 - accuracy: 0.7117 - val_loss: 0.5519 - val_accuracy: 0.8441\n",
      "\n",
      "Epoch 00016: val_loss did not improve from 0.49278\n",
      "Epoch 17/25\n",
      "425/425 [==============================] - 207s 486ms/step - loss: 0.8960 - accuracy: 0.7153 - val_loss: 0.5402 - val_accuracy: 0.8526\n",
      "\n",
      "Epoch 00017: val_loss did not improve from 0.49278\n",
      "Epoch 18/25\n",
      "425/425 [==============================] - 206s 485ms/step - loss: 0.8698 - accuracy: 0.7197 - val_loss: 0.5513 - val_accuracy: 0.8502\n",
      "\n",
      "Epoch 00018: val_loss did not improve from 0.49278\n",
      "Epoch 19/25\n",
      "425/425 [==============================] - 206s 485ms/step - loss: 0.9049 - accuracy: 0.7136 - val_loss: 0.5136 - val_accuracy: 0.8791\n",
      "\n",
      "Epoch 00019: val_loss did not improve from 0.49278\n",
      "Epoch 20/25\n",
      "425/425 [==============================] - 206s 484ms/step - loss: 0.9081 - accuracy: 0.7126 - val_loss: 0.6163 - val_accuracy: 0.8388\n",
      "\n",
      "Epoch 00020: val_loss did not improve from 0.49278\n",
      "Epoch 21/25\n",
      "425/425 [==============================] - 207s 487ms/step - loss: 0.8815 - accuracy: 0.7186 - val_loss: 0.5937 - val_accuracy: 0.8368\n",
      "\n",
      "Epoch 00021: val_loss did not improve from 0.49278\n",
      "Epoch 22/25\n",
      "425/425 [==============================] - 206s 484ms/step - loss: 0.9078 - accuracy: 0.7184 - val_loss: 0.6733 - val_accuracy: 0.8225\n",
      "\n",
      "Epoch 00022: val_loss did not improve from 0.49278\n",
      "Epoch 23/25\n",
      "425/425 [==============================] - 205s 481ms/step - loss: 0.8924 - accuracy: 0.7195 - val_loss: 0.6036 - val_accuracy: 0.8357\n",
      "\n",
      "Epoch 00023: val_loss did not improve from 0.49278\n",
      "Epoch 24/25\n",
      "425/425 [==============================] - 204s 479ms/step - loss: 0.9082 - accuracy: 0.7175 - val_loss: 0.7101 - val_accuracy: 0.8192\n",
      "\n",
      "Epoch 00024: val_loss did not improve from 0.49278\n",
      "Epoch 25/25\n",
      "425/425 [==============================] - 204s 480ms/step - loss: 0.9291 - accuracy: 0.7117 - val_loss: 0.6060 - val_accuracy: 0.8500\n",
      "\n",
      "Epoch 00025: val_loss did not improve from 0.49278\n"
     ]
    }
   ],
   "source": [
    "\n",
    "\n",
    "model.fit_generator(\n",
    "    aug.flow(train_x,train_y, batch_size = 32),\n",
    "             validation_data = (test_x,test_y),\n",
    "             epochs=num_of_epochs,\n",
    "             steps_per_epoch = len(train_x) //32,\n",
    "             verbose = 1,\n",
    "             callbacks=callbacks)\n",
    "\n",
    "model.save(model_save_path)"
   ]
  },
  {
   "cell_type": "markdown",
   "metadata": {},
   "source": [
    "# Evaluate after warmup"
   ]
  },
  {
   "cell_type": "code",
   "execution_count": 11,
   "metadata": {},
   "outputs": [
    {
     "name": "stdout",
     "output_type": "stream",
     "text": [
      "[INFO] evaluating after initialization...\n",
      "                                               precision    recall  f1-score   support\n",
      "\n",
      "Tomato___Spider_mites Two-spotted_spider_mite       0.86      0.94      0.90       532\n",
      "                 Tomato___Tomato_mosaic_virus       0.59      0.36      0.44       259\n",
      "                        Tomato___Early_blight       0.89      0.77      0.83       476\n",
      "                         Tomato___Late_blight       0.92      0.69      0.79       239\n",
      "                           Tomato___Leaf_Mold       0.86      0.82      0.84       435\n",
      "                      Tomato___Bacterial_spot       0.64      0.98      0.77       414\n",
      "                         Tomato___Target_Spot       0.64      0.69      0.66       369\n",
      "       Tomato___Tomato_Yellow_Leaf_Curl_Virus       0.98      0.96      0.97      1345\n",
      "                             Tomato___healthy       0.83      0.88      0.86        78\n",
      "                  Tomato___Septoria_leaf_spot       0.99      0.91      0.95       393\n",
      "\n",
      "                                  avg / total       0.86      0.85      0.85      4540\n",
      "\n"
     ]
    }
   ],
   "source": [
    "from sklearn.metrics import classification_report\n",
    "\n",
    "print(\"[INFO] evaluating after initialization...\")\n",
    "predictions = model.predict(test_x,batch_size=32)\n",
    "print(classification_report(test_y.argmax(axis =1),\n",
    "                            predictions.argmax(axis =1),target_names=class_names))"
   ]
  },
  {
   "cell_type": "markdown",
   "metadata": {},
   "source": [
    "# warmup plot"
   ]
  },
  {
   "cell_type": "code",
   "execution_count": null,
   "metadata": {},
   "outputs": [],
   "source": []
  }
 ],
 "metadata": {
  "file_extension": ".py",
  "kernelspec": {
   "display_name": "Python 3",
   "language": "python",
   "name": "python3"
  },
  "language_info": {
   "codemirror_mode": {
    "name": "ipython",
    "version": 3
   },
   "file_extension": ".py",
   "mimetype": "text/x-python",
   "name": "python",
   "nbconvert_exporter": "python",
   "pygments_lexer": "ipython3",
   "version": "3.7.3-final"
  },
  "mimetype": "text/x-python",
  "name": "python",
  "npconvert_exporter": "python",
  "pygments_lexer": "ipython3",
  "version": 3
 },
 "nbformat": 4,
 "nbformat_minor": 4
}
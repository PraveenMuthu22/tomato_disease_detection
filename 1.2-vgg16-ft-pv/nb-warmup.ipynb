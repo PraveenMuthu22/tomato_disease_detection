{
 "cells": [
  {
   "cell_type": "markdown",
   "metadata": {},
   "source": [
    "\n",
    "# Arguments"
   ]
  },
  {
   "cell_type": "code",
   "execution_count": 1,
   "metadata": {},
   "outputs": [
    {
     "name": "stdout",
     "output_type": "stream",
     "text": [
      "Classes:  ['Tomato___Tomato_mosaic_virus', 'Tomato___Early_blight', 'Tomato___Late_blight', 'Tomato___Leaf_Mold', 'Tomato___Bacterial_spot', 'Tomato___Target_Spot', 'Tomato___Tomato_Yellow_Leaf_Curl_Virus', 'Tomato___healthy', 'Tomato___Septoria_leaf_spot', 'Tomato___Two-spotted_spider_mite']\n",
      "10\n"
     ]
    }
   ],
   "source": [
    "num_of_epochs = 25\n",
    "batch_size = 32\n",
    "dataset_name = 'tomato-dataset'\n",
    "dataset_path = '../datasets/' + dataset_name\n",
    "model_save_path = 'model-warmup.h5'\n",
    "\n",
    "checkpoint_path = 'checkpoints-warmup.hdf5'\n",
    "\n",
    "input_width = 224\n",
    "input_height = 224\n",
    "input_depth = 3\n",
    "\n",
    "# Get classes\n",
    "import os\n",
    "import re\n",
    "classes = os.listdir(dataset_path)\n",
    "class_names = []\n",
    "\n",
    "for i in classes:\n",
    "    if(re.search(\"Tomato___\", i)):\n",
    "        class_names.append(i)\n",
    "    \n",
    "print('Classes: ', class_names)\n",
    "print(len(class_names))"
   ]
  },
  {
   "cell_type": "markdown",
   "metadata": {},
   "source": [
    "\n",
    "# Load model"
   ]
  },
  {
   "cell_type": "code",
   "execution_count": 2,
   "metadata": {},
   "outputs": [
    {
     "name": "stderr",
     "output_type": "stream",
     "text": [
      "Using TensorFlow backend.\n"
     ]
    }
   ],
   "source": [
    "from keras.applications import VGG16\n",
    "from keras.utils.vis_utils import plot_model\n",
    "from keras.layers import Input\n",
    "\n",
    "\n",
    "\n",
    "# Load pretrianed VGG model with FC layers removed\n",
    "# explicitly deﬁne the input_tensor to be 224×224×3 pixels\n",
    "base_model = VGG16(weights='imagenet',include_top=False,\n",
    "                  input_tensor=Input(shape = (input_width,input_height, input_depth)))\n",
    "\n",
    "# plot_save_path = 'diagram-base-vgg16.png'\n",
    "# plot_model(base_model, to_file=model_diagram_path, show_shapes=True)"
   ]
  },
  {
   "cell_type": "markdown",
   "metadata": {},
   "source": [
    "# Custom FC layer"
   ]
  },
  {
   "cell_type": "code",
   "execution_count": 3,
   "metadata": {},
   "outputs": [],
   "source": [
    "from keras.layers.core import Dropout\n",
    "from keras.layers.core import Flatten\n",
    "from keras.layers.core import Dense\n",
    "\n",
    "head_model = base_model.output\n",
    "head_model = Flatten(name='flatten')(head_model)\n",
    "head_model = Dense(256,activation='relu')(head_model)\n",
    "head_model = Dropout(0.5)(head_model)\n",
    "# Add a softmaxc layer\n",
    "head_model = Dense(len(class_names),activation='softmax')(head_model)\n",
    "\n",
    "# plot_save_path = 'custom-head.png'\n",
    "# plot_model(head_model, to_file=model_diagram_path, show_shapes=True)"
   ]
  },
  {
   "cell_type": "markdown",
   "metadata": {},
   "source": [
    "# Attach custom head to model"
   ]
  },
  {
   "cell_type": "code",
   "execution_count": 4,
   "metadata": {},
   "outputs": [],
   "source": [
    "from keras.models import Model\n",
    "\n",
    "\n",
    "# place the head FC model on top of the base model \n",
    "model = Model(inputs=base_model.input, outputs = head_model)\n",
    "\n",
    "# freeze weights in base model\n",
    "for layer in base_model.layers:\n",
    "    layer.trainable = False\n",
    "\n",
    "# plot_save_path = 'diagram-vgg16-head-attached.png'\n",
    "# plot_model(model, to_file=model_diagram_path, show_shapes=True)"
   ]
  },
  {
   "cell_type": "markdown",
   "metadata": {},
   "source": [
    "# Freeze base model"
   ]
  },
  {
   "cell_type": "code",
   "execution_count": 5,
   "metadata": {},
   "outputs": [],
   "source": [
    "# traverse all layers and freeze the weight of the corresponding layer\n",
    "for layer in base_model.layers:\n",
    "    layer.trainable = False"
   ]
  },
  {
   "cell_type": "markdown",
   "metadata": {},
   "source": [
    "# Compile model"
   ]
  },
  {
   "cell_type": "code",
   "execution_count": 6,
   "metadata": {},
   "outputs": [
    {
     "name": "stdout",
     "output_type": "stream",
     "text": [
      "[INFO] re-compiling model ...\n",
      "[INFO] training head...\n"
     ]
    }
   ],
   "source": [
    "from keras.optimizers import SGD\n",
    "\n",
    "# Build the model from the new\n",
    "print(\"[INFO] re-compiling model ...\")\n",
    "opt = SGD(lr=0.001, momentum=0.09)\n",
    "\n",
    "model.compile(loss=\"categorical_crossentropy\", optimizer=opt,metrics=[\"accuracy\"])\n",
    "# Since we only train the new fully connected layer, we do a few iterations\n",
    "print(\"[INFO] training head...\")"
   ]
  },
  {
   "cell_type": "markdown",
   "metadata": {},
   "source": [
    "# Load data"
   ]
  },
  {
   "cell_type": "code",
   "execution_count": 7,
   "metadata": {},
   "outputs": [
    {
     "name": "stdout",
     "output_type": "stream",
     "text": [
      "[INFO] loading images...\n",
      "[INFO]: Processed 500/18160\n",
      "[INFO]: Processed 1000/18160\n",
      "[INFO]: Processed 1500/18160\n",
      "[INFO]: Processed 2000/18160\n",
      "[INFO]: Processed 2500/18160\n",
      "[INFO]: Processed 3000/18160\n",
      "[INFO]: Processed 3500/18160\n",
      "[INFO]: Processed 4000/18160\n",
      "[INFO]: Processed 4500/18160\n",
      "[INFO]: Processed 5000/18160\n",
      "[INFO]: Processed 5500/18160\n",
      "[INFO]: Processed 6000/18160\n",
      "[INFO]: Processed 6500/18160\n",
      "[INFO]: Processed 7000/18160\n",
      "[INFO]: Processed 7500/18160\n",
      "[INFO]: Processed 8000/18160\n",
      "[INFO]: Processed 8500/18160\n",
      "[INFO]: Processed 9000/18160\n",
      "[INFO]: Processed 9500/18160\n",
      "[INFO]: Processed 10000/18160\n",
      "[INFO]: Processed 10500/18160\n",
      "[INFO]: Processed 11000/18160\n",
      "[INFO]: Processed 11500/18160\n",
      "[INFO]: Processed 12000/18160\n",
      "[INFO]: Processed 12500/18160\n",
      "[INFO]: Processed 13000/18160\n",
      "[INFO]: Processed 13500/18160\n",
      "[INFO]: Processed 14000/18160\n",
      "[INFO]: Processed 14500/18160\n",
      "[INFO]: Processed 15000/18160\n",
      "[INFO]: Processed 15500/18160\n",
      "[INFO]: Processed 16000/18160\n",
      "[INFO]: Processed 16500/18160\n",
      "[INFO]: Processed 17000/18160\n",
      "[INFO]: Processed 17500/18160\n",
      "[INFO]: Processed 18000/18160\n"
     ]
    }
   ],
   "source": [
    "from sklearn.preprocessing import LabelBinarizer\n",
    "from sklearn.model_selection import train_test_split\n",
    "from sklearn.metrics import classification_report\n",
    "from keras.preprocessing.image   import ImageDataGenerator\n",
    "from keras.optimizers import RMSprop\n",
    "from keras.layers import Input\n",
    "from keras.models import Model\n",
    "from keras .applications import VGG16\n",
    "from keras.optimizers import SGD\n",
    "from keras.models import Model\n",
    "from imutils import paths\n",
    "import numpy as np\n",
    "import os\n",
    "\n",
    "import sys\n",
    "sys.path.append('..')\n",
    "\n",
    "from utils.preprocessors.resize_image_preprocessor import resizeImagePreprocessor\n",
    "from utils.preprocessors.img_to_array_preprocessor import ImgToArrayPreprocessor\n",
    "from utils.io.dataset_loader import DatasetLoader\n",
    "\n",
    "# construct the image generator for data augmentation\n",
    "aug = ImageDataGenerator(   rotation_range=30,\n",
    "                            width_shift_range=0.1,\n",
    "                            height_shift_range=0.1,\n",
    "                            shear_range=0.2,\n",
    "                            zoom_range=0.2,\n",
    "                            horizontal_flip=True,\n",
    "                            fill_mode='nearest')\n",
    "\n",
    "# Load image paths\n",
    "print(\"[INFO] loading images...\")\n",
    "image_paths = list(paths.list_images(dataset_path))\n",
    "\n",
    "# Initial image preprocessing\n",
    "aap = resizeImagePreprocessor(input_width, input_height)\n",
    "iap= ImgToArrayPreprocessor()\n",
    "\n",
    "#Load image data and perform image data preprocessing\n",
    "dl = DatasetLoader(preprocessors=[aap,iap])\n",
    "(data,labels)  = dl.load(image_paths,verbose=500)\n",
    "data = data.astype(\"float\") / 255.0\n",
    "\n",
    "\n",
    "# train test split\n",
    "(train_x,test_x,train_y,test_y) = train_test_split(data,labels,test_size=0.25,random_state=42)\n",
    "\n",
    "# convert the labels from integers to vectors\n",
    "train_y = LabelBinarizer().fit_transform(train_y)\n",
    "test_y = LabelBinarizer().fit_transform(test_y)\n",
    "\n"
   ]
  },
  {
   "cell_type": "markdown",
   "metadata": {},
   "source": [
    "# Checkpoints"
   ]
  },
  {
   "cell_type": "code",
   "execution_count": 8,
   "metadata": {},
   "outputs": [],
   "source": [
    "from keras.callbacks import ModelCheckpoint\n",
    "\n",
    "\n",
    "checkpoint = ModelCheckpoint(checkpoint_path, monitor='val_loss', mode='min', \n",
    "save_best_only=True, verbose=1)\n",
    "\n",
    "callbacks = [checkpoint]\n",
    "\n"
   ]
  },
  {
   "cell_type": "code",
   "execution_count": 9,
   "metadata": {},
   "outputs": [],
   "source": [
    "#load checkpoints if existing\n",
    "\n",
    "import os\n",
    "\n",
    "epochs_done = 0\n",
    "num_of_epochs = 10\n",
    "\n",
    "if(os.path.exists(checkpoint_path)):\n",
    "    model.load_weights(checkpoint_path)\n",
    "    num_of_epochs = num_of_epochs - epochs_done\n"
   ]
  },
  {
   "cell_type": "markdown",
   "metadata": {},
   "source": [
    "# Training monitor"
   ]
  },
  {
   "cell_type": "code",
   "execution_count": 10,
   "metadata": {},
   "outputs": [],
   "source": [
    "from utils.callbacks.monitor import Monitor\n",
    "import pathlib\n",
    "import json\n",
    "import os\n",
    "\n",
    "fig_path = \"plot\"\n",
    "json_path = \"values.json\"\n",
    "values_path = 'values.json'\n",
    "start_epoch = 0\n",
    "\n",
    "last_epoch = None\n",
    "last_improved_epoch = None\n",
    "\n",
    "if(os.path.exists(values_path))\n",
    "    with open(values_path) as file_content:\n",
    "        data = json.load(file_content)\n",
    "        start_epoch = len(data['val_accuracy']) - (last_epoch - last_improved_epoch)\n",
    "\n",
    "\n",
    "\n",
    "callbacks.append(Monitor(fig_path, json_path, start_epoch))"
   ]
  },
  {
   "cell_type": "markdown",
   "metadata": {},
   "source": [
    "# Warm up head"
   ]
  },
  {
   "cell_type": "code",
   "execution_count": 11,
   "metadata": {},
   "outputs": [
    {
     "name": "stdout",
     "output_type": "stream",
     "text": [
      "Epoch 1/15\n",
      "425/425 [==============================] - 290s 682ms/step - loss: 0.4046 - accuracy: 0.8639 - val_loss: 0.3020 - val_accuracy: 0.8971\n",
      "\n",
      "Epoch 00001: val_loss improved from inf to 0.30195, saving model to checkpoints-warmup.hdf5\n",
      "Epoch 2/15\n",
      "425/425 [==============================] - 200s 471ms/step - loss: 0.3994 - accuracy: 0.8680 - val_loss: 0.3276 - val_accuracy: 0.8859\n",
      "\n",
      "Epoch 00002: val_loss did not improve from 0.30195\n",
      "Epoch 3/15\n",
      "425/425 [==============================] - 196s 462ms/step - loss: 0.3944 - accuracy: 0.8699 - val_loss: 0.3038 - val_accuracy: 0.8923\n",
      "\n",
      "Epoch 00003: val_loss did not improve from 0.30195\n",
      "Epoch 4/15\n",
      "425/425 [==============================] - 196s 462ms/step - loss: 0.3896 - accuracy: 0.8736 - val_loss: 0.3088 - val_accuracy: 0.8956\n",
      "\n",
      "Epoch 00004: val_loss did not improve from 0.30195\n",
      "Epoch 5/15\n",
      "425/425 [==============================] - 195s 458ms/step - loss: 0.3909 - accuracy: 0.8711 - val_loss: 0.2818 - val_accuracy: 0.9042\n",
      "\n",
      "Epoch 00005: val_loss improved from 0.30195 to 0.28183, saving model to checkpoints-warmup.hdf5\n",
      "Epoch 6/15\n",
      "425/425 [==============================] - 195s 458ms/step - loss: 0.3918 - accuracy: 0.8706 - val_loss: 0.3039 - val_accuracy: 0.8954\n",
      "\n",
      "Epoch 00006: val_loss did not improve from 0.28183\n",
      "Epoch 7/15\n",
      "425/425 [==============================] - 193s 454ms/step - loss: 0.3877 - accuracy: 0.8709 - val_loss: 0.2831 - val_accuracy: 0.9037\n",
      "\n",
      "Epoch 00007: val_loss did not improve from 0.28183\n",
      "Epoch 8/15\n",
      "425/425 [==============================] - 194s 456ms/step - loss: 0.3887 - accuracy: 0.8720 - val_loss: 0.2954 - val_accuracy: 0.8998\n",
      "\n",
      "Epoch 00008: val_loss did not improve from 0.28183\n",
      "Epoch 9/15\n",
      "425/425 [==============================] - 192s 453ms/step - loss: 0.3866 - accuracy: 0.8719 - val_loss: 0.3132 - val_accuracy: 0.8890\n",
      "\n",
      "Epoch 00009: val_loss did not improve from 0.28183\n",
      "Epoch 10/15\n",
      "425/425 [==============================] - 193s 453ms/step - loss: 0.3829 - accuracy: 0.8751 - val_loss: 0.3142 - val_accuracy: 0.8921\n",
      "\n",
      "Epoch 00010: val_loss did not improve from 0.28183\n",
      "Epoch 11/15\n",
      "425/425 [==============================] - 193s 455ms/step - loss: 0.3874 - accuracy: 0.8719 - val_loss: 0.2863 - val_accuracy: 0.9044\n",
      "\n",
      "Epoch 00011: val_loss did not improve from 0.28183\n",
      "Epoch 12/15\n",
      "425/425 [==============================] - 192s 452ms/step - loss: 0.3787 - accuracy: 0.8718 - val_loss: 0.3114 - val_accuracy: 0.8919\n",
      "\n",
      "Epoch 00012: val_loss did not improve from 0.28183\n",
      "Epoch 13/15\n",
      "425/425 [==============================] - 195s 458ms/step - loss: 0.3772 - accuracy: 0.8758 - val_loss: 0.2800 - val_accuracy: 0.9075\n",
      "\n",
      "Epoch 00013: val_loss improved from 0.28183 to 0.27998, saving model to checkpoints-warmup.hdf5\n",
      "Epoch 14/15\n",
      "425/425 [==============================] - 191s 451ms/step - loss: 0.3750 - accuracy: 0.8768 - val_loss: 0.2828 - val_accuracy: 0.9029\n",
      "\n",
      "Epoch 00014: val_loss did not improve from 0.27998\n",
      "Epoch 15/15\n",
      "425/425 [==============================] - 190s 448ms/step - loss: 0.3733 - accuracy: 0.8758 - val_loss: 0.2923 - val_accuracy: 0.9020\n",
      "\n",
      "Epoch 00015: val_loss did not improve from 0.27998\n"
     ]
    }
   ],
   "source": [
    "num_of_epochs = 15\n",
    "\n",
    "model.fit_generator(\n",
    "    aug.flow(train_x,train_y, batch_size = 32),\n",
    "             validation_data = (test_x,test_y),\n",
    "             epochs=num_of_epochs,\n",
    "             steps_per_epoch = len(train_x) //32,\n",
    "             verbose = 1,\n",
    "             callbacks=callbacks)\n",
    "\n",
    "model.save(model_save_path)"
   ]
  },
  {
   "cell_type": "markdown",
   "metadata": {},
   "source": [
    "# Evaluate after warmup"
   ]
  },
  {
   "cell_type": "code",
   "execution_count": 12,
   "metadata": {},
   "outputs": [
    {
     "name": "stdout",
     "output_type": "stream",
     "text": [
      "[INFO] evaluating after initialization...\n",
      "                                        precision    recall  f1-score   support\n",
      "\n",
      "          Tomato___Tomato_mosaic_virus       0.93      0.96      0.94       532\n",
      "                 Tomato___Early_blight       0.92      0.45      0.61       239\n",
      "                  Tomato___Late_blight       0.88      0.89      0.88       470\n",
      "                    Tomato___Leaf_Mold       0.88      0.85      0.87       238\n",
      "               Tomato___Bacterial_spot       0.89      0.89      0.89       435\n",
      "                  Tomato___Target_Spot       0.77      0.78      0.78       362\n",
      "Tomato___Tomato_Yellow_Leaf_Curl_Virus       0.99      0.97      0.98      1355\n",
      "                      Tomato___healthy       0.88      0.97      0.92        98\n",
      "           Tomato___Septoria_leaf_spot       0.73      0.97      0.84       414\n",
      "      Tomato___Two-spotted_spider_mite       0.98      0.95      0.97       397\n",
      "\n",
      "                           avg / total       0.91      0.90      0.90      4540\n",
      "\n"
     ]
    }
   ],
   "source": [
    "from sklearn.metrics import classification_report\n",
    "\n",
    "print(\"[INFO] evaluating after initialization...\")\n",
    "predictions = model.predict(test_x,batch_size=32)\n",
    "print(classification_report(test_y.argmax(axis =1),\n",
    "                            predictions.argmax(axis =1),target_names=class_names))"
   ]
  }
 ],
 "metadata": {
  "file_extension": ".py",
  "kernelspec": {
   "display_name": "Python 3",
   "language": "python",
   "name": "python3"
  },
  "language_info": {
   "codemirror_mode": {
    "name": "ipython",
    "version": 3
   },
   "file_extension": ".py",
   "mimetype": "text/x-python",
   "name": "python",
   "nbconvert_exporter": "python",
   "pygments_lexer": "ipython3",
   "version": "3.5.3"
  },
  "mimetype": "text/x-python",
  "name": "python",
  "npconvert_exporter": "python",
  "pygments_lexer": "ipython3",
  "version": 3
 },
 "nbformat": 4,
 "nbformat_minor": 4
}
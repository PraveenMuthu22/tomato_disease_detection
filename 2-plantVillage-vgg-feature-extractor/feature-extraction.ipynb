{
 "cells": [
  {
   "cell_type": "markdown",
   "metadata": {},
   "source": [
    "# Parameters"
   ]
  },
  {
   "cell_type": "code",
   "execution_count": 5,
   "metadata": {},
   "outputs": [
    {
     "name": "stdout",
     "output_type": "stream",
     "text": [
      "Classes:  ['Tomato___Target_Spot', 'Tomato___Late_blight', 'Tomato___Tomato_mosaic_virus', 'Tomato___Leaf_Mold', 'Tomato___Bacterial_spot', 'Tomato___Early_blight', 'Tomato___healthy', 'Tomato___Tomato_Yellow_Leaf_Curl_Virus', 'Tomato___Spider_mites Two-spotted_spider_mite', 'Tomato___Septoria_leaf_spot']\n",
      "10\n"
     ]
    }
   ],
   "source": [
    "num_of_epochs = 5\n",
    "batch_size = 32\n",
    "dataset_name = 'plantVillage-tomato-mohanty'\n",
    "dataset_path = '../datasets/' + dataset_name\n",
    "model_diagram_path = 'inceptionv3_model_diagram.png'\n",
    "features_save_path = 'features.h5'\n",
    "\n",
    "buffer_size = 1000\n",
    "\n",
    "input_width = 224\n",
    "input_height = 224\n",
    "\n",
    "output_width = 7\n",
    "output_height = 7\n",
    "output_depth = 512\n",
    "\n",
    "\n",
    "import os\n",
    "import re\n",
    "classes = os.listdir(dataset_path)\n",
    "class_names = []\n",
    "\n",
    "for i in classes:\n",
    "    if(re.search(\"Tomato___\", i)):\n",
    "        class_names.append(i)\n",
    "    \n",
    "print('Classes: ', class_names)\n",
    "print(len(class_names))\n",
    "\n"
   ]
  },
  {
   "cell_type": "markdown",
   "metadata": {},
   "source": [
    "# Initialize model"
   ]
  },
  {
   "cell_type": "code",
   "execution_count": null,
   "metadata": {},
   "outputs": [],
   "source": [
    "import os, sys\n",
    "# import pydot_ng as pydot\n",
    "# pydot.find_graphviz()\n",
    "# os.environ.get('PATH', '')\n",
    "\n",
    "# remove these\n",
    "# sys.path.append('..')\n",
    "# remove these\n",
    "\n",
    "from keras.utils.vis_utils import plot_model\n",
    "from keras.applications import InceptionV3\n",
    "from keras.optimizers import SGD\n",
    "\n",
    "model = InceptionV3(weights=\"imagenet\", include_top=False)\n",
    "\n",
    "model.summary()\n",
    "plot_model(model, to_file=model_diagram_path, show_shapes=True)\n",
    "\n",
    "# copile model\n",
    "opt = SGD(lr=0.05)\n",
    "model.compile(loss=\"categorical_crossentropy\", optimizer=opt,\n",
    "              metrics=[\"accuracy\"])\n",
    "\n"
   ]
  },
  {
   "cell_type": "markdown",
   "metadata": {},
   "source": [
    "# Load dataset"
   ]
  },
  {
   "cell_type": "code",
   "execution_count": null,
   "metadata": {},
   "outputs": [],
   "source": [
    "import sys, os\n",
    "sys.path.append('..')\n",
    "import numpy as np\n",
    "from imutils import paths\n",
    "import random\n",
    "\n",
    "\n",
    "from utils.preprocessors.aspect_aware_preprocessor import AspectAwarePreprocessor\n",
    "from utils.preprocessors.image_to_array_preprocessor import ImageToArrayPreprocessor\n",
    "from utils.io.simple_dataset_loader import SimpleDatasetLoader\n",
    "\n",
    "# Get the list of image paths\n",
    "image_paths = list(paths.list_images(dataset_path))\n",
    "random.shuffle(image_paths)\n",
    "\n",
    "#extract labels\n",
    "labels = [p.split(os.path.sep)[-2] for p in image_paths]"
   ]
  },
  {
   "cell_type": "markdown",
   "metadata": {},
   "source": [
    "# Encode labels and split dataset"
   ]
  },
  {
   "cell_type": "code",
   "execution_count": null,
   "metadata": {},
   "outputs": [],
   "source": [
    "from sklearn.preprocessing import LabelEncoder\n",
    "\n",
    "\n",
    "\n",
    "# Convert labels in integers\n",
    "le = LabelEncoder()\n",
    "labels = le.fit_transform(labels)"
   ]
  },
  {
   "cell_type": "markdown",
   "metadata": {},
   "source": [
    "# Initialize Datsetwriter"
   ]
  },
  {
   "cell_type": "code",
   "execution_count": null,
   "metadata": {},
   "outputs": [],
   "source": [
    "import utils\n",
    "\n",
    "dataset = HDF5DatasetWriter((len(image_paths), output_width * output_height * output_depth),\n",
    "            features_save_path, dataKey=\"features\", bufSize=buffer_size)\n",
    "\n",
    "# Store the classes to to file\n",
    "dataset.storeClassLabels(le.classes_)"
   ]
  },
  {
   "cell_type": "markdown",
   "metadata": {},
   "source": [
    "# Forward propagate through model"
   ]
  },
  {
   "cell_type": "code",
   "execution_count": null,
   "metadata": {},
   "outputs": [],
   "source": [
    "from keras.preprocessing.image import img_to_array\n",
    "from keras.preprocessing.image import load_img\n",
    "from keras.applications import imagenet_utils\n",
    "\n",
    "# loop over the image_paths in batches\n",
    "for i in np.arange(0, len(image_paths), bs):\n",
    "  # extract the image paths and labels for the current batch,\n",
    "    batchPaths = image_paths[i:i + bs]\n",
    "    batchLabels = labels[i:i + bs]\n",
    "  # initializes a list to store the images about to be loaded and fed into VGG16.\n",
    "    batchImages = []\n",
    "\n",
    "  # loop over the images and labels in the current batch\n",
    "    for (j, image_paths) in enumerate(batchPaths):\n",
    "\n",
    "       # load the images and convert to correct size.\n",
    "        image = load_img(image_paths, target_size=(input_width, input_height))\n",
    "        # convert to numpy array\n",
    "        image = img_to_array(image)\n",
    "\n",
    "        # Expand dims and apply preprocessing\n",
    "        # (1) expanding the dimensions\n",
    "        # (2) subtracting the mean RGB pixel intensity from ImageNet dataset\n",
    "        image = np.expand_dims(image, axis=0)\n",
    "        image = imagenet_utils.preprocess_input(image)\n",
    "\n",
    "    # add the image to the batch\n",
    "        batchImages.append(image)\n",
    "\n",
    "  #  .vstack method used to “vertically stack”  images such that they have the shape\n",
    "    # (N, 224, 224, 3) where N is the size of the batch.\n",
    "    batchImages = np.vstack(batchImages)\n",
    "    # pass the images through the network and use the outputs as our actual features\n",
    "    features = model.predict(batchImages, batch_size=bs)\n",
    "\n",
    "    # Output of VGG16's final Max Pool layer is (N, 512, 7, 7)\n",
    "    # Flatten them so that they are of shape (N, 512 * 7 * 7)\n",
    "    features = features.reshape((features.shape[0], output_width * output_height * output_depth))\n",
    "\n",
    "  # add the features and labels to our HDF5 dataset\n",
    "    dataset.add(features, batchLabels)\n",
    "    pbar.update(i)\n",
    "\n",
    "dataset.close()\n",
    "pbar.finish()"
   ]
  }
 ],
 "metadata": {
  "file_extension": ".py",
  "kernelspec": {
   "display_name": "Python 3",
   "language": "python",
   "name": "python3"
  },
  "language_info": {
   "codemirror_mode": {
    "name": "ipython",
    "version": 3
   },
   "file_extension": ".py",
   "mimetype": "text/x-python",
   "name": "python",
   "nbconvert_exporter": "python",
   "pygments_lexer": "ipython3",
   "version": "3.7.3"
  },
  "mimetype": "text/x-python",
  "name": "python",
  "npconvert_exporter": "python",
  "pygments_lexer": "ipython3",
  "version": 3
 },
 "nbformat": 4,
 "nbformat_minor": 4
}
{
 "cells": [
  {
   "cell_type": "markdown",
   "metadata": {},
   "source": [
    "# Parameters"
   ]
  },
  {
   "cell_type": "code",
   "execution_count": 1,
   "metadata": {},
   "outputs": [
    {
     "name": "stdout",
     "output_type": "stream",
     "text": "Classes:  ['Tomato___Bacterial_spot', 'Tomato___Early_blight', 'Tomato___healthy']\n3\n"
    }
   ],
   "source": [
    "batch_size = 32\n",
    "dataset_name = 'plantVillage-test-mohanty'\n",
    "dataset_path = '../datasets/' + dataset_name\n",
    "model_diagram_path = 'vgg_model_diagram.png'\n",
    "features_save_path = 'features.h5'\n",
    "\n",
    "buffer_size = 1000\n",
    "\n",
    "input_width = 224\n",
    "input_height = 224\n",
    "\n",
    "output_width = 7\n",
    "output_height = 7\n",
    "output_depth = 512\n",
    "\n",
    "\n",
    "import os\n",
    "import re\n",
    "classes = os.listdir(dataset_path)\n",
    "class_names = []\n",
    "\n",
    "for i in classes:\n",
    "    if(re.search(\"Tomato___\", i)):\n",
    "        class_names.append(i)\n",
    "    \n",
    "print('Classes: ', class_names)\n",
    "print(len(class_names))\n",
    "\n"
   ]
  },
  {
   "cell_type": "markdown",
   "metadata": {},
   "source": [
    "# Initialize model"
   ]
  },
  {
   "cell_type": "code",
   "execution_count": 3,
   "metadata": {},
   "outputs": [
    {
     "name": "stdout",
     "output_type": "stream",
     "text": "[0]              \n__________________________________________________________________________________________________\nconv2d_70 (Conv2D)              (None, None, None, 1 147456      average_pooling2d_7[0][0]        \n__________________________________________________________________________________________________\nbatch_normalization_61 (BatchNo (None, None, None, 1 576         conv2d_61[0][0]                  \n__________________________________________________________________________________________________\nbatch_normalization_64 (BatchNo (None, None, None, 1 576         conv2d_64[0][0]                  \n__________________________________________________________________________________________________\nbatch_normalization_69 (BatchNo (None, None, None, 1 576         conv2d_69[0][0]                  \n__________________________________________________________________________________________________\nbatch_normalization_70 (BatchNo (None, None, None, 1 576         conv2d_70[0][0]                  \n__________________________________________________________________________________________________\nactivation_61 (Activation)      (None, None, None, 1 0           batch_normalization_61[0][0]     \n__________________________________________________________________________________________________\nactivation_64 (Activation)      (None, None, None, 1 0           batch_normalization_64[0][0]     \n__________________________________________________________________________________________________\nactivation_69 (Activation)      (None, None, None, 1 0           batch_normalization_69[0][0]     \n__________________________________________________________________________________________________\nactivation_70 (Activation)      (None, None, None, 1 0           batch_normalization_70[0][0]     \n__________________________________________________________________________________________________\nmixed7 (Concatenate)            (None, None, None, 7 0           activation_61[0][0]              \n                                                                 activation_64[0][0]              \n                                                                 activation_69[0][0]              \n                                                                 activation_70[0][0]              \n__________________________________________________________________________________________________\nconv2d_73 (Conv2D)              (None, None, None, 1 147456      mixed7[0][0]                     \n__________________________________________________________________________________________________\nbatch_normalization_73 (BatchNo (None, None, None, 1 576         conv2d_73[0][0]                  \n__________________________________________________________________________________________________\nactivation_73 (Activation)      (None, None, None, 1 0           batch_normalization_73[0][0]     \n__________________________________________________________________________________________________\nconv2d_74 (Conv2D)              (None, None, None, 1 258048      activation_73[0][0]              \n__________________________________________________________________________________________________\nbatch_normalization_74 (BatchNo (None, None, None, 1 576         conv2d_74[0][0]                  \n__________________________________________________________________________________________________\nactivation_74 (Activation)      (None, None, None, 1 0           batch_normalization_74[0][0]     \n__________________________________________________________________________________________________\nconv2d_71 (Conv2D)              (None, None, None, 1 147456      mixed7[0][0]                     \n__________________________________________________________________________________________________\nconv2d_75 (Conv2D)              (None, None, None, 1 258048      activation_74[0][0]              \n__________________________________________________________________________________________________\nbatch_normalization_71 (BatchNo (None, None, None, 1 576         conv2d_71[0][0]                  \n__________________________________________________________________________________________________\nbatch_normalization_75 (BatchNo (None, None, None, 1 576         conv2d_75[0][0]                  \n__________________________________________________________________________________________________\nactivation_71 (Activation)      (None, None, None, 1 0           batch_normalization_71[0][0]     \n__________________________________________________________________________________________________\nactivation_75 (Activation)      (None, None, None, 1 0           batch_normalization_75[0][0]     \n__________________________________________________________________________________________________\nconv2d_72 (Conv2D)              (None, None, None, 3 552960      activation_71[0][0]              \n__________________________________________________________________________________________________\nconv2d_76 (Conv2D)              (None, None, None, 1 331776      activation_75[0][0]              \n__________________________________________________________________________________________________\nbatch_normalization_72 (BatchNo (None, None, None, 3 960         conv2d_72[0][0]                  \n__________________________________________________________________________________________________\nbatch_normalization_76 (BatchNo (None, None, None, 1 576         conv2d_76[0][0]                  \n__________________________________________________________________________________________________\nactivation_72 (Activation)      (None, None, None, 3 0           batch_normalization_72[0][0]     \n__________________________________________________________________________________________________\nactivation_76 (Activation)      (None, None, None, 1 0           batch_normalization_76[0][0]     \n__________________________________________________________________________________________________\nmax_pooling2d_4 (MaxPooling2D)  (None, None, None, 7 0           mixed7[0][0]                     \n__________________________________________________________________________________________________\nmixed8 (Concatenate)            (None, None, None, 1 0           activation_72[0][0]              \n                                                                 activation_76[0][0]              \n                                                                 max_pooling2d_4[0][0]            \n__________________________________________________________________________________________________\nconv2d_81 (Conv2D)              (None, None, None, 4 573440      mixed8[0][0]                     \n__________________________________________________________________________________________________\nbatch_normalization_81 (BatchNo (None, None, None, 4 1344        conv2d_81[0][0]                  \n__________________________________________________________________________________________________\nactivation_81 (Activation)      (None, None, None, 4 0           batch_normalization_81[0][0]     \n__________________________________________________________________________________________________\nconv2d_78 (Conv2D)              (None, None, None, 3 491520      mixed8[0][0]                     \n__________________________________________________________________________________________________\nconv2d_82 (Conv2D)              (None, None, None, 3 1548288     activation_81[0][0]              \n__________________________________________________________________________________________________\nbatch_normalization_78 (BatchNo (None, None, None, 3 1152        conv2d_78[0][0]                  \n__________________________________________________________________________________________________\nbatch_normalization_82 (BatchNo (None, None, None, 3 1152        conv2d_82[0][0]                  \n__________________________________________________________________________________________________\nactivation_78 (Activation)      (None, None, None, 3 0           batch_normalization_78[0][0]     \n__________________________________________________________________________________________________\nactivation_82 (Activation)      (None, None, None, 3 0           batch_normalization_82[0][0]     \n__________________________________________________________________________________________________\nconv2d_79 (Conv2D)              (None, None, None, 3 442368      activation_78[0][0]              \n__________________________________________________________________________________________________\nconv2d_80 (Conv2D)              (None, None, None, 3 442368      activation_78[0][0]              \n__________________________________________________________________________________________________\nconv2d_83 (Conv2D)              (None, None, None, 3 442368      activation_82[0][0]              \n__________________________________________________________________________________________________\nconv2d_84 (Conv2D)              (None, None, None, 3 442368      activation_82[0][0]              \n__________________________________________________________________________________________________\naverage_pooling2d_8 (AveragePoo (None, None, None, 1 0           mixed8[0][0]                     \n__________________________________________________________________________________________________\nconv2d_77 (Conv2D)              (None, None, None, 3 409600      mixed8[0][0]                     \n__________________________________________________________________________________________________\nbatch_normalization_79 (BatchNo (None, None, None, 3 1152        conv2d_79[0][0]                  \n__________________________________________________________________________________________________\nbatch_normalization_80 (BatchNo (None, None, None, 3 1152        conv2d_80[0][0]                  \n__________________________________________________________________________________________________\nbatch_normalization_83 (BatchNo (None, None, None, 3 1152        conv2d_83[0][0]                  \n__________________________________________________________________________________________________\nbatch_normalization_84 (BatchNo (None, None, None, 3 1152        conv2d_84[0][0]                  \n__________________________________________________________________________________________________\nconv2d_85 (Conv2D)              (None, None, None, 1 245760      average_pooling2d_8[0][0]        \n__________________________________________________________________________________________________\nbatch_normalization_77 (BatchNo (None, None, None, 3 960         conv2d_77[0][0]                  \n__________________________________________________________________________________________________\nactivation_79 (Activation)      (None, None, None, 3 0           batch_normalization_79[0][0]     \n__________________________________________________________________________________________________\nactivation_80 (Activation)      (None, None, None, 3 0           batch_normalization_80[0][0]     \n__________________________________________________________________________________________________\nactivation_83 (Activation)      (None, None, None, 3 0           batch_normalization_83[0][0]     \n__________________________________________________________________________________________________\nactivation_84 (Activation)      (None, None, None, 3 0           batch_normalization_84[0][0]     \n__________________________________________________________________________________________________\nbatch_normalization_85 (BatchNo (None, None, None, 1 576         conv2d_85[0][0]                  \n__________________________________________________________________________________________________\nactivation_77 (Activation)      (None, None, None, 3 0           batch_normalization_77[0][0]     \n__________________________________________________________________________________________________\nmixed9_0 (Concatenate)          (None, None, None, 7 0           activation_79[0][0]              \n                                                                 activation_80[0][0]              \n__________________________________________________________________________________________________\nconcatenate_1 (Concatenate)     (None, None, None, 7 0           activation_83[0][0]              \n                                                                 activation_84[0][0]              \n__________________________________________________________________________________________________\nactivation_85 (Activation)      (None, None, None, 1 0           batch_normalization_85[0][0]     \n__________________________________________________________________________________________________\nmixed9 (Concatenate)            (None, None, None, 2 0           activation_77[0][0]              \n                                                                 mixed9_0[0][0]                   \n                                                                 concatenate_1[0][0]              \n                                                                 activation_85[0][0]              \n__________________________________________________________________________________________________\nconv2d_90 (Conv2D)              (None, None, None, 4 917504      mixed9[0][0]                     \n__________________________________________________________________________________________________\nbatch_normalization_90 (BatchNo (None, None, None, 4 1344        conv2d_90[0][0]                  \n__________________________________________________________________________________________________\nactivation_90 (Activation)      (None, None, None, 4 0           batch_normalization_90[0][0]     \n__________________________________________________________________________________________________\nconv2d_87 (Conv2D)              (None, None, None, 3 786432      mixed9[0][0]                     \n__________________________________________________________________________________________________\nconv2d_91 (Conv2D)              (None, None, None, 3 1548288     activation_90[0][0]              \n__________________________________________________________________________________________________\nbatch_normalization_87 (BatchNo (None, None, None, 3 1152        conv2d_87[0][0]                  \n__________________________________________________________________________________________________\nbatch_normalization_91 (BatchNo (None, None, None, 3 1152        conv2d_91[0][0]                  \n__________________________________________________________________________________________________\nactivation_87 (Activation)      (None, None, None, 3 0           batch_normalization_87[0][0]     \n__________________________________________________________________________________________________\nactivation_91 (Activation)      (None, None, None, 3 0           batch_normalization_91[0][0]     \n__________________________________________________________________________________________________\nconv2d_88 (Conv2D)              (None, None, None, 3 442368      activation_87[0][0]              \n__________________________________________________________________________________________________\nconv2d_89 (Conv2D)              (None, None, None, 3 442368      activation_87[0][0]              \n__________________________________________________________________________________________________\nconv2d_92 (Conv2D)              (None, None, None, 3 442368      activation_91[0][0]              \n__________________________________________________________________________________________________\nconv2d_93 (Conv2D)              (None, None, None, 3 442368      activation_91[0][0]              \n__________________________________________________________________________________________________\naverage_pooling2d_9 (AveragePoo (None, None, None, 2 0           mixed9[0][0]                     \n__________________________________________________________________________________________________\nconv2d_86 (Conv2D)              (None, None, None, 3 655360      mixed9[0][0]                     \n__________________________________________________________________________________________________\nbatch_normalization_88 (BatchNo (None, None, None, 3 1152        conv2d_88[0][0]                  \n__________________________________________________________________________________________________\nbatch_normalization_89 (BatchNo (None, None, None, 3 1152        conv2d_89[0][0]                  \n__________________________________________________________________________________________________\nbatch_normalization_92 (BatchNo (None, None, None, 3 1152        conv2d_92[0][0]                  \n__________________________________________________________________________________________________\nbatch_normalization_93 (BatchNo (None, None, None, 3 1152        conv2d_93[0][0]                  \n__________________________________________________________________________________________________\nconv2d_94 (Conv2D)              (None, None, None, 1 393216      average_pooling2d_9[0][0]        \n__________________________________________________________________________________________________\nbatch_normalization_86 (BatchNo (None, None, None, 3 960         conv2d_86[0][0]                  \n__________________________________________________________________________________________________\nactivation_88 (Activation)      (None, None, None, 3 0           batch_normalization_88[0][0]     \n__________________________________________________________________________________________________\nactivation_89 (Activation)      (None, None, None, 3 0           batch_normalization_89[0][0]     \n__________________________________________________________________________________________________\nactivation_92 (Activation)      (None, None, None, 3 0           batch_normalization_92[0][0]     \n__________________________________________________________________________________________________\nactivation_93 (Activation)      (None, None, None, 3 0           batch_normalization_93[0][0]     \n__________________________________________________________________________________________________\nbatch_normalization_94 (BatchNo (None, None, None, 1 576         conv2d_94[0][0]                  \n__________________________________________________________________________________________________\nactivation_86 (Activation)      (None, None, None, 3 0           batch_normalization_86[0][0]     \n__________________________________________________________________________________________________\nmixed9_1 (Concatenate)          (None, None, None, 7 0           activation_88[0][0]              \n                                                                 activation_89[0][0]              \n__________________________________________________________________________________________________\nconcatenate_2 (Concatenate)     (None, None, None, 7 0           activation_92[0][0]              \n                                                                 activation_93[0][0]              \n__________________________________________________________________________________________________\nactivation_94 (Activation)      (None, None, None, 1 0           batch_normalization_94[0][0]     \n__________________________________________________________________________________________________\nmixed10 (Concatenate)           (None, None, None, 2 0           activation_86[0][0]              \n                                                                 mixed9_1[0][0]                   \n                                                                 concatenate_2[0][0]              \n                                                                 activation_94[0][0]              \n==================================================================================================\nTotal params: 21,802,784\nTrainable params: 21,768,352\nNon-trainable params: 34,432\n__________________________________________________________________________________________________\n"
    }
   ],
   "source": [
    "import os, sys\n",
    "# import pydot_ng as pydot\n",
    "# pydot.find_graphviz()\n",
    "# os.environ.get('PATH', '')\n",
    "\n",
    "# remove these\n",
    "# sys.path.append('..')\n",
    "# remove these\n",
    "\n",
    "from keras.utils.vis_utils import plot_model\n",
    "from keras.applications import InceptionV3\n",
    "from keras.optimizers import SGD\n",
    "\n",
    "model = InceptionV3(weights=\"imagenet\", include_top=False)\n",
    "\n",
    "model.summary()\n",
    "plot_model(model, to_file=model_diagram_path, show_shapes=True)\n",
    "\n",
    "# copile model\n",
    "opt = SGD(lr=0.05)\n",
    "model.compile(loss=\"categorical_crossentropy\", optimizer=opt,\n",
    "              metrics=[\"accuracy\"])\n",
    "\n"
   ]
  },
  {
   "cell_type": "markdown",
   "metadata": {},
   "source": [
    "# Load dataset"
   ]
  },
  {
   "cell_type": "code",
   "execution_count": 2,
   "metadata": {},
   "outputs": [
    {
     "name": "stderr",
     "output_type": "stream",
     "text": "Using TensorFlow backend.\n"
    }
   ],
   "source": [
    "import sys, os\n",
    "sys.path.append('..')\n",
    "import numpy as np\n",
    "from imutils import paths\n",
    "import random\n",
    "\n",
    "\n",
    "from utils.preprocessors.aspect_aware_preprocessor import AspectAwarePreprocessor\n",
    "from utils.preprocessors.image_to_array_preprocessor import ImageToArrayPreprocessor\n",
    "from utils.io.simple_dataset_loader import SimpleDatasetLoader\n",
    "\n",
    "# Get the list of image paths\n",
    "image_paths = list(paths.list_images(dataset_path))\n",
    "random.shuffle(image_paths)\n",
    "\n",
    "#extract labels\n",
    "labels = [p.split(os.path.sep)[-2] for p in image_paths]"
   ]
  },
  {
   "cell_type": "markdown",
   "metadata": {},
   "source": [
    "# Encode labels and split dataset"
   ]
  },
  {
   "cell_type": "code",
   "execution_count": 4,
   "metadata": {},
   "outputs": [],
   "source": [
    "from sklearn.preprocessing import LabelEncoder\n",
    "\n",
    "\n",
    "\n",
    "# Convert labels in integers\n",
    "le = LabelEncoder()\n",
    "labels = le.fit_transform(labels)"
   ]
  },
  {
   "cell_type": "markdown",
   "metadata": {},
   "source": [
    "# Initialize Datsetwriter"
   ]
  },
  {
   "cell_type": "code",
   "execution_count": 7,
   "metadata": {},
   "outputs": [],
   "source": [
    "import utils\n",
    "from utils.io.hdf5datasetwriter import HDF5DatasetWriter\n",
    "\n",
    "dataset = HDF5DatasetWriter((len(image_paths), output_width * output_height * output_depth),\n",
    "            features_save_path, dataKey=\"features\", bufSize=buffer_size)\n",
    "\n",
    "# Store the classes to to file\n",
    "dataset.storeClassLabels(le.classes_)"
   ]
  },
  {
   "cell_type": "markdown",
   "metadata": {},
   "source": [
    "# Forward propagate through model"
   ]
  },
  {
   "cell_type": "code",
   "execution_count": 8,
   "metadata": {},
   "outputs": [
    {
     "name": "stdout",
     "output_type": "stream",
     "text": "e7c-8ff2e323e71d___GCREC_Bact.Sp 3533.JPG', '../datasets/plantVillage-test-mohanty/Tomato___Bacterial_spot/b0049dbf-cdef-4a85-b6e1-b37ed6bc4cfa___UF.GRC_BS_Lab Leaf 0696.JPG', '../datasets/plantVillage-test-mohanty/Tomato___Early_blight/d4a47a64-0c10-4a43-8712-4eee11c8cf1b___RS_Erly.B 9524.JPG', '../datasets/plantVillage-test-mohanty/Tomato___Bacterial_spot/bac40427-ce12-4369-8866-9e48e2f982da___GCREC_Bact.Sp 6092.JPG', '../datasets/plantVillage-test-mohanty/Tomato___Early_blight/eabc47ee-5023-476b-9992-53baa566d270___RS_Erly.B 7757.JPG', '../datasets/plantVillage-test-mohanty/Tomato___Bacterial_spot/e7c9c9ed-9e51-4056-93c7-f1ddf74f2ebc___UF.GRC_BS_Lab Leaf 0945.JPG', '../datasets/plantVillage-test-mohanty/Tomato___Bacterial_spot/f6084490-18e3-489a-9144-4584db9c1d38___GCREC_Bact.Sp 3049.JPG', '../datasets/plantVillage-test-mohanty/Tomato___Early_blight/aea7d3be-648a-4e1b-932a-b0058b085a7a___RS_Erly.B 9517.JPG', '../datasets/plantVillage-test-mohanty/Tomato___Bacterial_spot/e99d601c-2ff0-4029-84c9-74e17fae209f___GCREC_Bact.Sp 6259.JPG', '../datasets/plantVillage-test-mohanty/Tomato___Bacterial_spot/f44c58b0-4d48-4b8b-b812-e472d2737998___GCREC_Bact.Sp 5553.JPG', '../datasets/plantVillage-test-mohanty/Tomato___Early_blight/e5266d06-0ba7-49c6-9bc6-c8351b56fc88___RS_Erly.B 8294.JPG', '../datasets/plantVillage-test-mohanty/Tomato___healthy/e2085395-2d3c-4698-ad7f-da9fdc73c4d1___GH_HL Leaf 254.JPG', '../datasets/plantVillage-test-mohanty/Tomato___Bacterial_spot/fae0f0ee-3a9a-403f-b95f-97caa0efaabd___GCREC_Bact.Sp 5615.JPG', '../datasets/plantVillage-test-mohanty/Tomato___Bacterial_spot/b16f21dc-39eb-45b5-a588-da778fa9ac44___GCREC_Bact.Sp 6351.JPG', '../datasets/plantVillage-test-mohanty/Tomato___Bacterial_spot/b8e606e2-0630-453f-8688-b4350feb2bce___GCREC_Bact.Sp 3033.JPG', '../datasets/plantVillage-test-mohanty/Tomato___healthy/dd311971-e56c-4305-805e-a011ecebd38b___GH_HL Leaf 432.JPG', '../datasets/plantVillage-test-mohanty/Tomato___Early_blight/a278a40a-bb25-4210-b646-2d232245851a___RS_Erly.B 7719.JPG', '../datasets/plantVillage-test-mohanty/Tomato___Bacterial_spot/ff33b13d-9611-4c3e-bec9-a628055932b9___GCREC_Bact.Sp 3309.JPG', '../datasets/plantVillage-test-mohanty/Tomato___healthy/cea7fe83-103c-4b51-a9d2-75ced9a7d1a2___RS_HL 0531.JPG', '../datasets/plantVillage-test-mohanty/Tomato___Bacterial_spot/ef79c0ac-b8c5-437b-8d10-971f819b4ab8___GCREC_Bact.Sp 6084.JPG', '../datasets/plantVillage-test-mohanty/Tomato___Early_blight/c684e255-de5d-4905-b934-962180be33cb___RS_Erly.B 7353.JPG', '../datasets/plantVillage-test-mohanty/Tomato___healthy/cdf10741-0ed4-4a27-a2e9-8970e4426730___RS_HL 0356.JPG', '../datasets/plantVillage-test-mohanty/Tomato___healthy/e6fdaad9-b536-46c3-a819-faf414cfbf47___GH_HL Leaf 500.2.JPG', '../datasets/plantVillage-test-mohanty/Tomato___healthy/c09f9b09-e43d-46bd-96d7-bb1162b4bb52___RS_HL 9644.JPG', '../datasets/plantVillage-test-mohanty/Tomato___Bacterial_spot/aff1cc2d-2667-4546-bfad-0c44d8e1ffa9___GCREC_Bact.Sp 5896.JPG', '../datasets/plantVillage-test-mohanty/Tomato___Early_blight/abb2b25f-a1a8-49c7-8bc9-a66dc224481d___RS_Erly.B 9573.JPG', '../datasets/plantVillage-test-mohanty/Tomato___Bacterial_spot/cc4ae662-c07c-4aae-8868-f4711ae5d158___GCREC_Bact.Sp 3852.JPG', '../datasets/plantVillage-test-mohanty/Tomato___Bacterial_spot/c4d2f661-56fd-4c84-9a51-03e4f806f085___UF.GRC_BS_Lab Leaf 0684.JPG', '../datasets/plantVillage-test-mohanty/Tomato___Bacterial_spot/e2f66625-6241-4cd5-8302-c76cdd2e463c___GCREC_Bact.Sp 3761.JPG', '../datasets/plantVillage-test-mohanty/Tomato___healthy/f2acd891-c219-4c76-b2e7-a55c7c92e018___RS_HL 9898.JPG', '../datasets/plantVillage-test-mohanty/Tomato___Bacterial_spot/bea776af-8c63-4376-a7f2-7cbd0e15e743___GCREC_Bact.Sp 3631.JPG', '../datasets/plantVillage-test-mohanty/Tomato___Early_blight/f547a0f4-912a-45ec-81aa-371ad12ecacf___RS_Erly.B 7608.JPG', '../datasets/plantVillage-test-mohanty/Tomato___Bacterial_spot/d8914e04-4e33-4189-bfa9-f547e5f696d1___GCREC_Bact.Sp 3173.JPG', '../datasets/plantVillage-test-mohanty/Tomato___healthy/e786ac89-29fe-47e3-b49e-b9a9ee7edd9d___GH_HL Leaf 342.1.JPG', '../datasets/plantVillage-test-mohanty/Tomato___Early_blight/af454559-8f93-4b2d-b961-80bafe6bf43b___RS_Erly.B 8367.JPG', '../datasets/plantVillage-test-mohanty/Tomato___Bacterial_spot/b179b3d0-80cf-4dbf-9e88-b3e9b4a93b3b___GCREC_Bact.Sp 3659.JPG', '../datasets/plantVillage-test-mohanty/Tomato___healthy/f2f5162b-7cc7-4315-8692-d1eaab98c554___GH_HL Leaf 507.2.JPG', '../datasets/plantVillage-test-mohanty/Tomato___Bacterial_spot/d071b160-8fd5-4f26-b464-f61cbc472d75___GCREC_Bact.Sp 3635.JPG', '../datasets/plantVillage-test-mohanty/Tomato___healthy/efdf2bd7-ff6c-424a-9d81-dc6628278dc6___RS_HL 0065.JPG', '../datasets/plantVillage-test-mohanty/Tomato___Early_blight/e084577f-bb13-4baf-8384-2b37eb430236___RS_Erly.B 7673.JPG', '../datasets/plantVillage-test-mohanty/Tomato___Bacterial_spot/dcc6402f-a868-4766-9e4b-8578b0705f82___GCREC_Bact.Sp 3526.JPG', '../datasets/plantVillage-test-mohanty/Tomato___healthy/c900278c-3216-4142-8a6c-797143fc9c95___RS_HL 0299.JPG', '../datasets/plantVillage-test-mohanty/Tomato___Early_blight/f91230c1-b28c-46fe-ab7a-329fdb689a02___RS_Erly.B 9439.JPG', '../datasets/plantVillage-test-mohanty/Tomato___Early_blight/da84925b-554a-465d-bdb2-91851f77d5ce___RS_Erly.B 9420.JPG', '../datasets/plantVillage-test-mohanty/Tomato___healthy/f54a5053-dca2-4460-bd8d-27be3eb1e9b4___GH_HL Leaf 495.1.JPG', '../datasets/plantVillage-test-mohanty/Tomato___Early_blight/df721edd-686e-4bb8-a05b-e8c67743c8ca___RS_Erly.B 8265.JPG', '../datasets/plantVillage-test-mohanty/Tomato___Bacterial_spot/ecba62cb-3f58-4de1-90a3-94e0ae818bc6___UF.GRC_BS_Lab Leaf 9124.JPG', '../datasets/plantVillage-test-mohanty/Tomato___Early_blight/ecafc299-bc29-4b5a-9a9b-537362b81ed2___RS_Erly.B 7435.JPG', '../datasets/plantVillage-test-mohanty/Tomato___Bacterial_spot/c838ca76-4670-44ef-b936-2eb00e249f52___GCREC_Bact.Sp 6370.JPG', '../datasets/plantVillage-test-mohanty/Tomato___healthy/db467743-857b-42b3-ab2a-a80e90467a99___RS_HL 0570.JPG', '../datasets/plantVillage-test-mohanty/Tomato___Early_blight/eccf8abf-a178-464f-ba55-1d203f5f8a47___RS_Erly.B 6395.JPG', '../datasets/plantVillage-test-mohanty/Tomato___Bacterial_spot/b8682577-be6c-42a9-9d02-48300363e796___GCREC_Bact.Sp 3498.JPG', '../datasets/plantVillage-test-mohanty/Tomato___healthy/e0b87789-7d59-4bd1-bc78-ec3a942021f4___RS_HL 9894.JPG', '../datasets/plantVillage-test-mohanty/Tomato___Bacterial_spot/bf0ce672-d1b8-49a7-a41e-5026715930e9___GCREC_Bact.Sp 6040.JPG', '../datasets/plantVillage-test-mohanty/Tomato___Early_blight/b450abe9-9282-42a8-af4d-3fa7da258f40___RS_Erly.B 7735.JPG', '../datasets/plantVillage-test-mohanty/Tomato___healthy/e70e9a4c-481d-4c9c-8130-aff356057803___RS_HL 9661.JPG', '../datasets/plantVillage-test-mohanty/Tomato___Bacterial_spot/b700874c-33cd-4e1d-8b84-f6313e31fc56___GCREC_Bact.Sp 5690.JPG', '../datasets/plantVillage-test-mohanty/Tomato___Bacterial_spot/db5044bc-64df-4f7c-a591-5b79b9318805___GCREC_Bact.Sp 5546.JPG', '../datasets/plantVillage-test-mohanty/Tomato___Bacterial_spot/fb160354-fa8d-4833-8a3a-acd8507dd9de___GCREC_Bact.Sp 3334.JPG', '../datasets/plantVillage-test-mohanty/Tomato___healthy/fdbbea63-18e0-401f-8269-64ba005ab53f___RS_HL 0213.JPG', '../datasets/plantVillage-test-mohanty/Tomato___Early_blight/ef68398c-ec92-4e44-961a-5ec1a29d3c28___RS_Erly.B 9620.JPG', '../datasets/plantVillage-test-mohanty/Tomato___healthy/efe6c986-b85c-40f1-8cb5-345acbb36b71___RS_HL 0579.JPG', '../datasets/plantVillage-test-mohanty/Tomato___Bacterial_spot/bea52a18-00de-4080-b460-4cf34c3c8688___GCREC_Bact.Sp 3499.JPG', '../datasets/plantVillage-test-mohanty/Tomato___Bacterial_spot/dd6e2b14-f790-452a-b810-a667064a8699___GCREC_Bact.Sp 5632.JPG', '../datasets/plantVillage-test-mohanty/Tomato___Bacterial_spot/fd464954-3098-4e86-b8fd-065414d96089___GCREC_Bact.Sp 5838.JPG', '../datasets/plantVillage-test-mohanty/Tomato___Early_blight/c0caae76-1327-4d16-95dd-138603f7573b___RS_Erly.B 8362.JPG', '../datasets/plantVillage-test-mohanty/Tomato___healthy/cf6c530d-522f-4990-9d02-3445623266d7___RS_HL 0364.JPG', '../datasets/plantVillage-test-mohanty/Tomato___Early_blight/e701c578-1fa3-4ed3-9874-5f90c6d2eb3c___RS_Erly.B 9583.JPG', '../datasets/plantVillage-test-mohanty/Tomato___Early_blight/bef16984-17c5-4796-9496-85808dfa3a56___RS_Erly.B 9405.JPG', '../datasets/plantVillage-test-mohanty/Tomato___healthy/e33cde2d-5103-48aa-bb82-490aa779312c___GH_HL Leaf 515.2.JPG', '../datasets/plantVillage-test-mohanty/Tomato___Bacterial_spot/cdd6b4c8-6be0-4cc8-81a7-4e0c5ba16fed___GCREC_Bact.Sp 5982.JPG', '../datasets/plantVillage-test-mohanty/Tomato___Early_blight/ef1bea6d-41dd-4f88-9a5e-854abf1a5101___RS_Erly.B 9539.JPG', '../datasets/plantVillage-test-mohanty/Tomato___Bacterial_spot/f880355a-9e96-41a3-9e66-79d498dc6d61___GCREC_Bact.Sp 3823.JPG', '../datasets/plantVillage-test-mohanty/Tomato___Bacterial_spot/ebbef323-bca1-40de-987a-58d845856735___GCREC_Bact.Sp 5582.JPG', '../datasets/plantVillage-test-mohanty/Tomato___Bacterial_spot/c5119850-2956-4fc2-a612-0ce626fe3f99___GCREC_Bact.Sp 3637.JPG', '../datasets/plantVillage-test-mohanty/Tomato___healthy/fcfb486e-63dc-405c-8a17-0551e5f76959___RS_HL 9663.JPG', '../datasets/plantVillage-test-mohanty/Tomato___Bacterial_spot/b433dcf3-c57d-4f5e-9116-5aaeecbaef01___GCREC_Bact.Sp 3715.JPG', '../datasets/plantVillage-test-mohanty/Tomato___Bacterial_spot/b174fcf1-c7be-4819-8c91-4b3897b92297___GCREC_Bact.Sp 3195.JPG', '../datasets/plantVillage-test-mohanty/Tomato___Bacterial_spot/c09afee4-a828-477f-af2c-00b11804364f___GCREC_Bact.Sp 6006.JPG', '../datasets/plantVillage-test-mohanty/Tomato___Bacterial_spot/d1b03545-d17a-4d66-82b9-6c7e73e71906___GCREC_Bact.Sp 6316.JPG', '../datasets/plantVillage-test-mohanty/Tomato___Bacterial_spot/b9d57ea9-6651-4a64-a6ec-6551ac190d5c___GCREC_Bact.Sp 3078.JPG', '../datasets/plantVillage-test-mohanty/Tomato___healthy/ec768816-02c1-4726-9374-b6d0ccec49d2___RS_HL 0114.JPG', '../datasets/plantVillage-test-mohanty/Tomato___Early_blight/be03b7aa-4c59-4ea9-b3cc-33a93a34b402___RS_Erly.B 7742.JPG', '../datasets/plantVillage-test-mohanty/Tomato___Early_blight/d59a0542-4c2a-441b-8566-e1f741e917d4___RS_Erly.B 6437.JPG', '../datasets/plantVillage-test-mohanty/Tomato___Early_blight/f188144b-d52c-40c5-a06f-07d5796f9ab0___RS_Erly.B 9553.JPG', '../datasets/plantVillage-test-mohanty/Tomato___Early_blight/e81dfd96-227c-41a7-8cf8-dbc14f2e4b33___RS_Erly.B 7407.JPG', '../datasets/plantVillage-test-mohanty/Tomato___Bacterial_spot/ec7b4bc1-dd3e-4735-a90c-1d51831994a1___GCREC_Bact.Sp 3134.JPG', '../datasets/plantVillage-test-mohanty/Tomato___Early_blight/c63ff9c7-0422-4a71-8727-7c2581fdee6e___RS_Erly.B 9406.JPG', '../datasets/plantVillage-test-mohanty/Tomato___Early_blight/fad513f7-c56a-439a-9a5b-515bd0fc8151___RS_Erly.B 9458.JPG', '../datasets/plantVillage-test-mohanty/Tomato___Early_blight/a24d6927-cb21-4d9b-acc1-780ef36cbbf8___RS_Erly.B 7671.JPG', '../datasets/plantVillage-test-mohanty/Tomato___healthy/fc22b565-e97b-454d-8792-fd945d1badc5___RS_HL 9880.JPG', '../datasets/plantVillage-test-mohanty/Tomato___Early_blight/dfd261ab-30ad-456c-93b3-874a4ebaeaaf___RS_Erly.B 8451.JPG', '../datasets/plantVillage-test-mohanty/Tomato___Early_blight/d6ac1972-b67c-422e-b81d-11f2f1d9ec5f___RS_Erly.B 9435.JPG', '../datasets/plantVillage-test-mohanty/Tomato___Bacterial_spot/cfadf3d6-8988-4cd5-967d-589977eccd48___GCREC_Bact.Sp 6274.JPG', '../datasets/plantVillage-test-mohanty/Tomato___Bacterial_spot/de72e298-e788-4452-89a1-1e2dcb3998ad___GCREC_Bact.Sp 3445.JPG', '../datasets/plantVillage-test-mohanty/Tomato___Bacterial_spot/ebe3ca2e-87b3-4760-a407-c890f977fec9___GCREC_Bact.Sp 6290.JPG', '../datasets/plantVillage-test-mohanty/Tomato___Bacterial_spot/f4f094d0-b879-4352-adf1-c9f9b8303881___GCREC_Bact.Sp 3539.JPG', '../datasets/plantVillage-test-mohanty/Tomato___Bacterial_spot/d3ed0545-45ca-474c-89a8-381733809c75___GCREC_Bact.Sp 5771.JPG', '../datasets/plantVillage-test-mohanty/Tomato___healthy/e9f02b46-dbb7-4f41-a1dc-6fe5dfe13d23___RS_HL 9821.JPG', '../datasets/plantVillage-test-mohanty/Tomato___healthy/e55fc417-6c08-4150-913e-11e7c7e15eb7___RS_HL 0504.JPG', '../datasets/plantVillage-test-mohanty/Tomato___Bacterial_spot/d3969371-05ad-4097-8390-5d4124d19a9e___GCREC_Bact.Sp 3224.JPG', '../datasets/plantVillage-test-mohanty/Tomato___Early_blight/f0eb00dc-22da-4c8b-b86d-72157ea9e71d___RS_Erly.B 9610.JPG', '../datasets/plantVillage-test-mohanty/Tomato___healthy/ccfba9c3-41a5-40de-b71a-980bc3336ae7___GH_HL Leaf 522.2.JPG', '../datasets/plantVillage-test-mohanty/Tomato___Bacterial_spot/ee6fafa1-2ab6-43c1-83fe-082b265e64f5___GCREC_Bact.Sp 2964.JPG', '../datasets/plantVillage-test-mohanty/Tomato___Bacterial_spot/e895970c-cab7-4175-b8c1-4b62320dbbb5___GCREC_Bact.Sp 6108.JPG', '../datasets/plantVillage-test-mohanty/Tomato___healthy/c2f44d15-cc56-44eb-afce-b53e919becb9___GH_HL Leaf 398.JPG', '../datasets/plantVillage-test-mohanty/Tomato___Early_blight/ea08bf85-06df-41d8-8b09-29feb53cdccf___RS_Erly.B 7486.JPG', '../datasets/plantVillage-test-mohanty/Tomato___Bacterial_spot/b4ed0e80-0eac-4d10-9e3e-73e34c41d1ac___GCREC_Bact.Sp 5598.JPG', '../datasets/plantVillage-test-mohanty/Tomato___healthy/da7db6e5-d5d5-489a-b1b2-9b3a880cebaa___RS_HL 9769.JPG', '../datasets/plantVillage-test-mohanty/Tomato___Bacterial_spot/cd14eb9f-28be-44fb-8687-a7469f5a88b8___GCREC_Bact.Sp 5740.JPG', '../datasets/plantVillage-test-mohanty/Tomato___Early_blight/e4739018-9e7b-4251-917f-c8502e8b5e86___RS_Erly.B 9443.JPG', '../datasets/plantVillage-test-mohanty/Tomato___Bacterial_spot/ad9ce3a4-3686-42dd-b64c-c6ebc6c0b242___GCREC_Bact.Sp 6195.JPG', '../datasets/plantVillage-test-mohanty/Tomato___Bacterial_spot/eabeca07-9aa1-431a-92eb-be617775811d___UF.GRC_BS_Lab Leaf 0460.JPG', '../datasets/plantVillage-test-mohanty/Tomato___Bacterial_spot/ae7425b4-aaae-44e0-ae8e-19623a66ed70___GCREC_Bact.Sp 2958.JPG', '../datasets/plantVillage-test-mohanty/Tomato___Bacterial_spot/e4dad7d3-b043-4dc9-9b41-0df12c1a6823___GCREC_Bact.Sp 5822.JPG', '../datasets/plantVillage-test-mohanty/Tomato___Bacterial_spot/cf40371a-2b37-4dcc-9d86-62c2143b2e70___GCREC_Bact.Sp 3155.JPG', '../datasets/plantVillage-test-mohanty/Tomato___Bacterial_spot/b3e6f770-c0fc-4bc1-9e81-81a73899b3a9___UF.GRC_BS_Lab Leaf 0212.JPG', '../datasets/plantVillage-test-mohanty/Tomato___healthy/f437a6f0-4c35-4d6b-8eaa-ca57f18fad53___GH_HL Leaf 229.JPG', '../datasets/plantVillage-test-mohanty/Tomato___Bacterial_spot/ae52258c-eaab-4794-b6d5-601544d2e792___UF.GRC_BS_Lab Leaf 1068.JPG', '../datasets/plantVillage-test-mohanty/Tomato___Early_blight/f525cb66-09b6-4f96-93dd-d6bc936f5645___RS_Erly.B 7700.JPG', '../datasets/plantVillage-test-mohanty/Tomato___Bacterial_spot/eb3d387f-a7b3-48a3-a925-41d7fc6e98e9___GCREC_Bact.Sp 3423.JPG', '../datasets/plantVillage-test-mohanty/Tomato___Early_blight/b60702b4-a7dd-4201-bfcc-4a13c7dcc44f___RS_Erly.B 7657.JPG', '../datasets/plantVillage-test-mohanty/Tomato___Early_blight/bec8a4aa-dd9c-44db-815a-c760d49a8868___RS_Erly.B 7680.JPG', '../datasets/plantVillage-test-mohanty/Tomato___healthy/fe28e4c7-0c35-4f52-984e-0e60f33a2c6e___GH_HL Leaf 198.JPG', '../datasets/plantVillage-test-mohanty/Tomato___healthy/caa60224-1c60-455e-8b7c-e73626af84c1___GH_HL Leaf 214.JPG', '../datasets/plantVillage-test-mohanty/Tomato___Early_blight/eb94014e-83b7-46a4-9b1a-7cae23876302___RS_Erly.B 7471.JPG', '../datasets/plantVillage-test-mohanty/Tomato___Bacterial_spot/d9a42de4-b5ee-4464-a369-bc7ba9d9ebab___GCREC_Bact.Sp 3328.JPG', '../datasets/plantVillage-test-mohanty/Tomato___Bacterial_spot/e863a52c-337f-4534-9510-320980cc4303___GCREC_Bact.Sp 6159.JPG', '../datasets/plantVillage-test-mohanty/Tomato___Early_blight/d96c3244-39ec-4188-9870-a6e32aad81d6___RS_Erly.B 7540.JPG', '../datasets/plantVillage-test-mohanty/Tomato___Early_blight/f5ec4428-6e58-4bc6-9ba2-3a6f5b4f374e___RS_Erly.B 6365.JPG', '../datasets/plantVillage-test-mohanty/Tomato___healthy/c458d9e4-15b1-41f4-a93b-020d915afd0c___RS_HL 9884.JPG', '../datasets/plantVillage-test-mohanty/Tomato___Bacterial_spot/e82d7b9f-9e5a-4d2c-9094-4b3961a062bd___GCREC_Bact.Sp 2976.JPG', '../datasets/plantVillage-test-mohanty/Tomato___Bacterial_spot/f21dbfc9-1b65-4407-808b-55685784bd19___GCREC_Bact.Sp 3138.JPG', '../datasets/plantVillage-test-mohanty/Tomato___Bacterial_spot/bc7d9e9e-f2d3-4693-a574-d9486f43b0da___GCREC_Bact.Sp 3593.JPG', '../datasets/plantVillage-test-mohanty/Tomato___Bacterial_spot/c7b8365c-bb15-4afb-84e2-6b85f0f9cef5___GCREC_Bact.Sp 6245.JPG', '../datasets/plantVillage-test-mohanty/Tomato___Early_blight/baea464c-e54b-4e22-8bbc-8047d19ed0cf___RS_Erly.B 8323.JPG', '../datasets/plantVillage-test-mohanty/Tomato___Bacterial_spot/ad6dbb38-c44c-40c9-a6d8-8fc1d928e5de___GCREC_Bact.Sp 3775.JPG', '../datasets/plantVillage-test-mohanty/Tomato___Bacterial_spot/e444a471-4021-424b-a375-78f3b17413c8___GCREC_Bact.Sp 6319.JPG', '../datasets/plantVillage-test-mohanty/Tomato___healthy/dd50e041-1df0-45e4-8ab7-126f0ae2b984___GH_HL Leaf 270.JPG', '../datasets/plantVillage-test-mohanty/Tomato___healthy/eacb7fe2-5c0a-4058-a7d7-a2270faee988___RS_HL 9654.JPG', '../datasets/plantVillage-test-mohanty/Tomato___Early_blight/eb2537b2-d6fa-4c70-b919-f90bbe2c65f2___RS_Erly.B 7605.JPG', '../datasets/plantVillage-test-mohanty/Tomato___Bacterial_spot/d449e255-119a-44cb-844a-f187518e0fc2___GCREC_Bact.Sp 5701.JPG', '../datasets/plantVillage-test-mohanty/Tomato___Early_blight/ac804481-f1b0-498c-a6af-a66da467f84e___RS_Erly.B 7760.JPG', '../datasets/plantVillage-test-mohanty/Tomato___healthy/f9546cff-061d-4240-88ba-492272a92847___GH_HL Leaf 176.2.JPG', '../datasets/plantVillage-test-mohanty/Tomato___Bacterial_spot/f2be2ee6-efba-4854-89b1-32eb0e7e6974___GCREC_Bact.Sp 5993.JPG', '../datasets/plantVillage-test-mohanty/Tomato___Early_blight/aea263ac-87a1-42b7-a3ca-15d69e55204e___RS_Erly.B 9486.JPG', '../datasets/plantVillage-test-mohanty/Tomato___Early_blight/f398656e-d695-4cea-89d8-13490de9264c___RS_Erly.B 7592.JPG', '../datasets/plantVillage-test-mohanty/Tomato___Early_blight/d032b2d0-3c5b-4f1d-9532-4fd09cbd5482___RS_Erly.B 7689.JPG', '../datasets/plantVillage-test-mohanty/Tomato___Early_blight/e56354a5-5e3f-4ed6-bfe5-3c783a32dc98___RS_Erly.B 9413.JPG', '../datasets/plantVillage-test-mohanty/Tomato___Bacterial_spot/dfca025b-a6d9-431a-977e-4bd174daa3a1___GCREC_Bact.Sp 5948.JPG', '../datasets/plantVillage-test-mohanty/Tomato___healthy/fcf52850-1cc7-4b7a-8e89-3c3ec1f4be1d___RS_HL 9766.JPG', '../datasets/plantVillage-test-mohanty/Tomato___Bacterial_spot/c1d96cfa-8e15-4f99-a142-f908514baabb___GCREC_Bact.Sp 6096.JPG', '../datasets/plantVillage-test-mohanty/Tomato___Early_blight/bdf7f885-1619-4b3f-bba8-e97896af0de5___RS_Erly.B 7819.JPG', '../datasets/plantVillage-test-mohanty/Tomato___Bacterial_spot/fea5289e-4a3a-4891-bbcc-fb38b75a23f9___UF.GRC_BS_Lab Leaf 1164.JPG', '../datasets/plantVillage-test-mohanty/Tomato___Early_blight/dc4cc3e3-0181-48e9-93a2-7c019df0e04b___RS_Erly.B 9513.JPG', '../datasets/plantVillage-test-mohanty/Tomato___Bacterial_spot/db498ce2-43f3-46e8-a5ab-0af97ba95b3b___GCREC_Bact.Sp 6209.JPG', '../datasets/plantVillage-test-mohanty/Tomato___Early_blight/b0f9d534-0c29-4185-bdd1-43b83dc586f8___RS_Erly.B 6453.JPG', '../datasets/plantVillage-test-mohanty/Tomato___Early_blight/fcf97241-bd84-4829-b326-72590a3f4f59___RS_Erly.B 7555.JPG', '../datasets/plantVillage-test-mohanty/Tomato___healthy/d88b90c0-2850-425d-af82-7bfb0f6a9dd4___GH_HL Leaf 361.JPG', '../datasets/plantVillage-test-mohanty/Tomato___Early_blight/f882f8cc-49bc-49f6-a6c0-fbffe60d81a0___RS_Erly.B 7672.JPG', '../datasets/plantVillage-test-mohanty/Tomato___Bacterial_spot/d5b68019-d730-432d-80b5-dcd87b39742d___UF.GRC_BS_Lab Leaf 1200.JPG', '../datasets/plantVillage-test-mohanty/Tomato___Bacterial_spot/c642f72d-3f7b-4e1d-b69b-44355f22a672___GCREC_Bact.Sp 5709.JPG', '../datasets/plantVillage-test-mohanty/Tomato___healthy/e1400c81-62df-44b6-97fd-e210b66dae0b___RS_HL 9672.JPG', '../datasets/plantVillage-test-mohanty/Tomato___Early_blight/c684414e-2c2b-4d12-bca0-2a5fb271e1da___RS_Erly.B 8425.JPG']\n[]\n"
    },
    {
     "ename": "NameError",
     "evalue": "name 'bs' is not defined",
     "output_type": "error",
     "traceback": [
      "\u001b[0;31m---------------------------------------------------------------------------\u001b[0m",
      "\u001b[0;31mNameError\u001b[0m                                 Traceback (most recent call last)",
      "\u001b[0;32m<ipython-input-8-5f73cb0652f9>\u001b[0m in \u001b[0;36m<module>\u001b[0;34m\u001b[0m\n\u001b[1;32m     35\u001b[0m     \u001b[0mbatchImages\u001b[0m \u001b[0;34m=\u001b[0m \u001b[0mnp\u001b[0m\u001b[0;34m.\u001b[0m\u001b[0mvstack\u001b[0m\u001b[0;34m(\u001b[0m\u001b[0mbatchImages\u001b[0m\u001b[0;34m)\u001b[0m\u001b[0;34m\u001b[0m\u001b[0;34m\u001b[0m\u001b[0m\n\u001b[1;32m     36\u001b[0m     \u001b[0;31m# pass the images through the network and use the outputs as our actual features\u001b[0m\u001b[0;34m\u001b[0m\u001b[0;34m\u001b[0m\u001b[0;34m\u001b[0m\u001b[0m\n\u001b[0;32m---> 37\u001b[0;31m     \u001b[0mfeatures\u001b[0m \u001b[0;34m=\u001b[0m \u001b[0mmodel\u001b[0m\u001b[0;34m.\u001b[0m\u001b[0mpredict\u001b[0m\u001b[0;34m(\u001b[0m\u001b[0mbatchImages\u001b[0m\u001b[0;34m,\u001b[0m \u001b[0mbatch_size\u001b[0m\u001b[0;34m=\u001b[0m\u001b[0mbs\u001b[0m\u001b[0;34m)\u001b[0m\u001b[0;34m\u001b[0m\u001b[0;34m\u001b[0m\u001b[0m\n\u001b[0m\u001b[1;32m     38\u001b[0m \u001b[0;34m\u001b[0m\u001b[0m\n\u001b[1;32m     39\u001b[0m     \u001b[0;31m# Output of VGG16's final Max Pool layer is (N, 512, 7, 7)\u001b[0m\u001b[0;34m\u001b[0m\u001b[0;34m\u001b[0m\u001b[0;34m\u001b[0m\u001b[0m\n",
      "\u001b[0;31mNameError\u001b[0m: name 'bs' is not defined"
     ]
    }
   ],
   "source": [
    "from keras.preprocessing.image import img_to_array\n",
    "from keras.preprocessing.image import load_img\n",
    "from keras.applications import imagenet_utils\n",
    "\n",
    "print(image_paths)\n",
    "\n",
    "# loop over the image_paths in batches\n",
    "for i in np.arange(0, len(image_paths), batch_size):\n",
    "  # extract the image paths and labels for the current batch,\n",
    "    batchPaths = image_paths[i:i + batch_size]\n",
    "    batchLabels = labels[i:i + batch_size]\n",
    "  # initializes a list to store the images about to be loaded and fed into VGG16.\n",
    "    batchImages = []\n",
    "    print(batchImages)\n",
    "\n",
    "    # loop over the images and labels in the current batch\n",
    "    for (j, imagePath) in enumerate(batchPaths):\n",
    "\n",
    "       # load the images and convert to correct size.\n",
    "        image = load_img(imagePath, target_size=(224, 224))\n",
    "        # convert to numpy array\n",
    "        image = img_to_array(image)\n",
    "\n",
    "        # Expand dims and apply preprocessing\n",
    "        # (1) expanding the dimensions\n",
    "        # (2) subtracting the mean RGB pixel intensity from ImageNet dataset\n",
    "        image = np.expand_dims(image, axis=0)\n",
    "        image = imagenet_utils.preprocess_input(image)\n",
    "\n",
    "    # add the image to the batch\n",
    "        batchImages.append(image)\n",
    "\n",
    "  #  .vstack method used to “vertically stack”  images such that they have the shape\n",
    "    # (N, 224, 224, 3) where N is the size of the batch.\n",
    "    batchImages = np.vstack(batchImages)\n",
    "    # pass the images through the network and use the outputs as our actual features\n",
    "    features = model.predict(batchImages, batch_size=bs)\n",
    "\n",
    "    # Output of VGG16's final Max Pool layer is (N, 512, 7, 7)\n",
    "    # Flatten them so that they are of shape (N, 512 * 7 * 7)\n",
    "    features = features.reshape((features.shape[0], 7 * 7 * 512))\n",
    "\n",
    "  # add the features and labels to our HDF5 dataset\n",
    "    dataset.add(features, batchLabels)\n",
    "    pbar.update(i)\n",
    "\n",
    "dataset.close()\n",
    "pbar.finish()"
   ]
  },
  {
   "cell_type": "code",
   "execution_count": null,
   "metadata": {},
   "outputs": [],
   "source": []
  }
 ],
 "metadata": {
  "file_extension": ".py",
  "kernelspec": {
   "display_name": "Python 3",
   "language": "python",
   "name": "python3"
  },
  "language_info": {
   "codemirror_mode": {
    "name": "ipython",
    "version": 3
   },
   "file_extension": ".py",
   "mimetype": "text/x-python",
   "name": "python",
   "nbconvert_exporter": "python",
   "pygments_lexer": "ipython3",
   "version": "3.7.3-final"
  },
  "mimetype": "text/x-python",
  "name": "python",
  "npconvert_exporter": "python",
  "pygments_lexer": "ipython3",
  "version": 3
 },
 "nbformat": 4,
 "nbformat_minor": 4
}
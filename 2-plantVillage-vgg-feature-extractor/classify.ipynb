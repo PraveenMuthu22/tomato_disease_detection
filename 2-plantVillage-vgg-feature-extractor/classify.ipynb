{
 "nbformat": 4,
 "nbformat_minor": 2,
 "metadata": {
  "language_info": {
   "name": "python",
   "codemirror_mode": {
    "name": "ipython",
    "version": 3
   }
  },
  "orig_nbformat": 2,
  "file_extension": ".py",
  "mimetype": "text/x-python",
  "name": "python",
  "npconvert_exporter": "python",
  "pygments_lexer": "ipython3",
  "version": 3
 },
 "cells": [
  {
   "cell_type": "markdown",
   "metadata": {},
   "source": [
    "# Parameters"
   ]
  },
  {
   "cell_type": "code",
   "execution_count": null,
   "metadata": {},
   "outputs": [],
   "source": [
    "features_save_path = 'extracted-features.h5'\n",
    "model_save_path = 'tomato_model.cpickle'\n"
   ]
  },
  {
   "cell_type": "markdown",
   "metadata": {},
   "source": [
    "# Import saved features"
   ]
  },
  {
   "cell_type": "code",
   "execution_count": null,
   "metadata": {},
   "outputs": [],
   "source": [
    "import h5py\n",
    "\n",
    "db = h5py.File(output)\n",
    "print(list(db.keys()))"
   ]
  },
  {
   "cell_type": "markdown",
   "metadata": {},
   "source": [
    "# Train logistical regression classifier"
   ]
  },
  {
   "cell_type": "code",
   "execution_count": null,
   "metadata": {},
   "outputs": [],
   "source": [
    "# import packages\n",
    "from sklearn.linear_model import LogisticRegression\n",
    "from sklearn.model_selection import GridSearchCV\n",
    "from sklearn.metrics import classification_report\n",
    "import pickle\n",
    "import h5py\n",
    "\n",
    "jobs = -1\n",
    "\n",
    "# open the HDF5 database for reading then determine the index of the training and\n",
    "# testing split, provided that this data was already shuffled *prior* to writing it to disk\n",
    "db = h5py.File(features_save_path, \"r\")\n",
    "\n",
    "# reserve 75% of dataset for training (index i is the index at which training data end)\n",
    "# no need to shuffle because it was done earlier (before putting to VGG)\n",
    "i = int(labels.shape[0] * 0.75)\n",
    "\n",
    "# define the set of parameters that we want to tune then start a grid\n",
    "# search where we evaluate our model for each value of C\n",
    "print(\"[INFO] tuning hyperparameters...\")\n",
    "params = {\"C\": [0.1, 1.0, 10.0, 100.0, 1000.0, 10000.0]}\n",
    "model = GridSearchCV(LogisticRegression(), params, cv = 3, n_jobs = jobs)\n",
    "\n",
    "# db[\"features\"][:i] Data before index i is training data.\n",
    "model.fit(db[\"features\"][:i], db[\"labels\"][:i])\n",
    "print(\"[INFO] best hyperparameters: {}\".format(model.best_params_))\n",
    "\n",
    "# evaluate the model\n",
    "print(\"[INFO] evaluating...\")\n",
    "# db[\"features\"][i:] Data after index i is testing data.\n",
    "preds = model.predict(db[\"features\"][i:])\n",
    "print(classification_report(db[\"labels\"][i:], preds, target_names = db[\"label_names\"]))\n",
    "\n",
    "# serialize the model to disk\n",
    "print(\"[INFO] saving model...\")\n",
    "f = open(model, \"wb\")\n",
    "f.write(pickle.dumps(model.best_estimator_))\n",
    "f.close()\n",
    "\n",
    "# close the dataset\n",
    "db.close()"
   ]
  }
 ]
}
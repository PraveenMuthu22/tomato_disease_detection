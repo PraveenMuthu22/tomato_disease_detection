{
 "cells": [
  {
   "cell_type": "markdown",
   "metadata": {},
   "source": [
    "# Arguments"
   ]
  },
  {
   "cell_type": "code",
   "execution_count": 1,
   "metadata": {},
   "outputs": [
    {
     "name": "stdout",
     "output_type": "stream",
     "text": [
      "Classes:  ['Tomato___Tomato_mosaic_virus', 'Tomato___Early_blight', 'Tomato___Late_blight', 'Tomato___Leaf_Mold', 'Tomato___Bacterial_spot', 'Tomato___Target_Spot', 'Tomato___Tomato_Yellow_Leaf_Curl_Virus', 'Tomato___healthy', 'Tomato___Septoria_leaf_spot', 'Tomato___Two-spotted_spider_mite']\n",
      "10\n"
     ]
    }
   ],
   "source": [
    "\n",
    "warmup_model_path = 'model-warmup.h5'\n",
    "model_save_path = 'model-final.h5'\n",
    "dataset_name = 'tomato-dataset'\n",
    "dataset_path = '../datasets/' + dataset_name\n",
    "checkpoint_path = 'checkpoints-finetuning.hdf5'\n",
    "input_width = 224\n",
    "input_height = 224\n",
    "input_depth = 3\n",
    "\n",
    "batch_size = 32\n",
    "num_of_epochs = 100\n",
    "\n",
    "# Get classes\n",
    "import os\n",
    "import re\n",
    "classes = os.listdir(dataset_path)\n",
    "class_names = []\n",
    "\n",
    "for i in classes:\n",
    "    if(re.search(\"Tomato___\", i)):\n",
    "        class_names.append(i)\n",
    "    \n",
    "print('Classes: ', class_names)\n",
    "print(len(class_names))\n"
   ]
  },
  {
   "cell_type": "markdown",
   "metadata": {},
   "source": [
    "# Load model from disk"
   ]
  },
  {
   "cell_type": "code",
   "execution_count": 2,
   "metadata": {},
   "outputs": [
    {
     "name": "stderr",
     "output_type": "stream",
     "text": [
      "Using TensorFlow backend.\n"
     ]
    }
   ],
   "source": [
    "# import tensorflow as tf\n",
    "# print(tf.__version__)\n",
    "\n",
    "\n",
    "# model = tf.keras.models.load_model(\n",
    "#     warmup_model_path,\n",
    "#     custom_objects=None,\n",
    "#     compile=False\n",
    "# )\n",
    "\n",
    "from keras.models import load_model\n",
    "\n",
    "model = load_model(warmup_model_path)\n",
    "\n",
    "\n",
    "\n"
   ]
  },
  {
   "cell_type": "markdown",
   "metadata": {},
   "source": [
    "# Print index of layers"
   ]
  },
  {
   "cell_type": "code",
   "execution_count": 3,
   "metadata": {},
   "outputs": [
    {
     "name": "stdout",
     "output_type": "stream",
     "text": [
      "[INFO] 0\tInputLayer\n",
      "[INFO] 1\tConv2D\n",
      "[INFO] 2\tConv2D\n",
      "[INFO] 3\tMaxPooling2D\n",
      "[INFO] 4\tConv2D\n",
      "[INFO] 5\tConv2D\n",
      "[INFO] 6\tMaxPooling2D\n",
      "[INFO] 7\tConv2D\n",
      "[INFO] 8\tConv2D\n",
      "[INFO] 9\tConv2D\n",
      "[INFO] 10\tMaxPooling2D\n",
      "[INFO] 11\tConv2D\n",
      "[INFO] 12\tConv2D\n",
      "[INFO] 13\tConv2D\n",
      "[INFO] 14\tMaxPooling2D\n",
      "[INFO] 15\tConv2D\n",
      "[INFO] 16\tConv2D\n",
      "[INFO] 17\tConv2D\n",
      "[INFO] 18\tMaxPooling2D\n",
      "[INFO] 19\tFlatten\n",
      "[INFO] 20\tDense\n",
      "[INFO] 21\tDropout\n",
      "[INFO] 22\tDense\n"
     ]
    }
   ],
   "source": [
    "# iterate for all layers in the network and print its' index value\n",
    "for (i,layer) in enumerate(model.layers):\n",
    "    print(\"[INFO] {}\\t{}\".format(i,layer.__class__.__name__))"
   ]
  },
  {
   "cell_type": "markdown",
   "metadata": {},
   "source": [
    "# Unfreeze final CONV layers"
   ]
  },
  {
   "cell_type": "code",
   "execution_count": 4,
   "metadata": {},
   "outputs": [
    {
     "name": "stdout",
     "output_type": "stream",
     "text": [
      "unfrozen\n"
     ]
    }
   ],
   "source": [
    "for layer in model.layers[15:]:\n",
    "    layer.trainable = True\n",
    "print('unfrozen')"
   ]
  },
  {
   "cell_type": "markdown",
   "metadata": {},
   "source": [
    "# Compile model"
   ]
  },
  {
   "cell_type": "code",
   "execution_count": 5,
   "metadata": {},
   "outputs": [
    {
     "name": "stdout",
     "output_type": "stream",
     "text": [
      "[INFO] re-compiling model ...\n"
     ]
    }
   ],
   "source": [
    "from keras.optimizers import SGD\n",
    "\n",
    "# Build the model from the new\n",
    "print(\"[INFO] re-compiling model ...\")\n",
    "opt = SGD(lr=0.001)\n",
    "# Fine-tuning with a small learning rate\n",
    "model.compile(loss = 'categorical_crossentropy',optimizer = opt,\n",
    "              metrics=['accuracy'])\n"
   ]
  },
  {
   "cell_type": "markdown",
   "metadata": {},
   "source": [
    "# Load data"
   ]
  },
  {
   "cell_type": "code",
   "execution_count": 6,
   "metadata": {},
   "outputs": [
    {
     "name": "stdout",
     "output_type": "stream",
     "text": [
      "[INFO] loading images...\n",
      "[INFO]: Processed 500/18160\n",
      "[INFO]: Processed 1000/18160\n",
      "[INFO]: Processed 1500/18160\n",
      "[INFO]: Processed 2000/18160\n",
      "[INFO]: Processed 2500/18160\n",
      "[INFO]: Processed 3000/18160\n",
      "[INFO]: Processed 3500/18160\n",
      "[INFO]: Processed 4000/18160\n",
      "[INFO]: Processed 4500/18160\n",
      "[INFO]: Processed 5000/18160\n",
      "[INFO]: Processed 5500/18160\n",
      "[INFO]: Processed 6000/18160\n",
      "[INFO]: Processed 6500/18160\n",
      "[INFO]: Processed 7000/18160\n",
      "[INFO]: Processed 7500/18160\n",
      "[INFO]: Processed 8000/18160\n",
      "[INFO]: Processed 8500/18160\n",
      "[INFO]: Processed 9000/18160\n",
      "[INFO]: Processed 9500/18160\n",
      "[INFO]: Processed 10000/18160\n",
      "[INFO]: Processed 10500/18160\n",
      "[INFO]: Processed 11000/18160\n",
      "[INFO]: Processed 11500/18160\n",
      "[INFO]: Processed 12000/18160\n",
      "[INFO]: Processed 12500/18160\n",
      "[INFO]: Processed 13000/18160\n",
      "[INFO]: Processed 13500/18160\n",
      "[INFO]: Processed 14000/18160\n",
      "[INFO]: Processed 14500/18160\n",
      "[INFO]: Processed 15000/18160\n",
      "[INFO]: Processed 15500/18160\n",
      "[INFO]: Processed 16000/18160\n",
      "[INFO]: Processed 16500/18160\n",
      "[INFO]: Processed 17000/18160\n",
      "[INFO]: Processed 17500/18160\n",
      "[INFO]: Processed 18000/18160\n"
     ]
    }
   ],
   "source": [
    "from sklearn.preprocessing import LabelBinarizer\n",
    "from sklearn.model_selection import train_test_split\n",
    "from sklearn.metrics import classification_report\n",
    "from keras.preprocessing.image   import ImageDataGenerator\n",
    "from keras.optimizers import RMSprop\n",
    "from keras.layers import Input\n",
    "from keras.models import Model\n",
    "from keras .applications import VGG16\n",
    "from keras.optimizers import SGD\n",
    "from keras.models import Model\n",
    "from imutils import paths\n",
    "import numpy as np\n",
    "import os\n",
    "\n",
    "import sys\n",
    "sys.path.append('..')\n",
    "\n",
    "from utils.preprocessors.aspect_aware_preprocessor import AspectAwarePreprocessor\n",
    "from utils.preprocessors.image_to_array_preprocessor import ImageToArrayPreprocessor\n",
    "from utils.io.simple_dataset_loader import SimpleDatasetLoader\n",
    "\n",
    "# construct the image generator for data augmentation\n",
    "aug = ImageDataGenerator(   rotation_range=30,\n",
    "                            width_shift_range=0.1,\n",
    "                            height_shift_range=0.1,\n",
    "                            shear_range=0.2,\n",
    "                            zoom_range=0.2,\n",
    "                            horizontal_flip=True,\n",
    "                            fill_mode='nearest')\n",
    "\n",
    "# Load image paths\n",
    "print(\"[INFO] loading images...\")\n",
    "image_paths = list(paths.list_images(dataset_path))\n",
    "\n",
    "# Initial image preprocessing\n",
    "aap = AspectAwarePreprocessor(input_width, input_height)\n",
    "iap= ImageToArrayPreprocessor()\n",
    "\n",
    "#Load image data and perform image data preprocessing\n",
    "sdl = SimpleDatasetLoader(preprocessors=[aap,iap])\n",
    "(data,labels)  = sdl.load(image_paths,verbose=500)\n",
    "data = data.astype(\"float\") / 255.0\n",
    "\n",
    "\n",
    "# train test split\n",
    "(train_x,test_x,train_y,test_y) = train_test_split(data,labels,test_size=0.25,random_state=42)\n",
    "\n",
    "# convert the labels from integers to vectors\n",
    "train_y = LabelBinarizer().fit_transform(train_y)\n",
    "test_y = LabelBinarizer().fit_transform(test_y)"
   ]
  },
  {
   "cell_type": "markdown",
   "metadata": {},
   "source": [
    "# Checkpoints"
   ]
  },
  {
   "cell_type": "code",
   "execution_count": 8,
   "metadata": {},
   "outputs": [
    {
     "name": "stdout",
     "output_type": "stream",
     "text": [
      "checkpoints loaded\n"
     ]
    }
   ],
   "source": [
    "from keras.callbacks import ModelCheckpoint\n",
    "\n",
    "\n",
    "checkpoint = ModelCheckpoint(checkpoint_path, monitor='val_accuracy', mode='max', \n",
    "save_best_only=True, verbose=1)\n",
    "\n",
    "callbacks = [checkpoint]\n",
    "\n",
    "#load checkpoints if existing\n",
    "import os\n",
    "\n",
    "epochs_done = 90\n",
    "\n",
    "if(os.path.exists(checkpoint_path)):\n",
    "    model.load_weights(checkpoint_path)\n",
    "    num_of_epochs = num_of_epochs - epochs_done\n",
    "    print('checkpoints loaded')"
   ]
  },
  {
   "cell_type": "markdown",
   "metadata": {},
   "source": [
    "# Fit model"
   ]
  },
  {
   "cell_type": "code",
   "execution_count": 9,
   "metadata": {},
   "outputs": [],
   "source": [
    "H = model.fit_generator(\n",
    "    aug.flow(train_x,train_y, batch_size = 32),\n",
    "             validation_data = (test_x,test_y),\n",
    "             epochs=num_of_epochs,\n",
    "             steps_per_epoch = len(train_x) //32,\n",
    "             verbose = 1,\n",
    "             callbacks=callbacks)"
   ]
  },
  {
   "cell_type": "markdown",
   "metadata": {},
   "source": [
    "# Reload model from last best checkpoint"
   ]
  },
  {
   "cell_type": "code",
   "execution_count": 6,
   "metadata": {},
   "outputs": [
    {
     "name": "stdout",
     "output_type": "stream",
     "text": [
      "weights loaded\n"
     ]
    }
   ],
   "source": [
    "# from keras.models import load_model\n",
    "# import os\n",
    "\n",
    "# model = load_model(warmup_model_path)\n",
    "\n",
    "\n",
    "# if(os.path.exists(checkpoint_path)):\n",
    "#     model.load_weights(checkpoint_path)\n",
    "#     print('weights loaded')"
   ]
  },
  {
   "cell_type": "markdown",
   "metadata": {},
   "source": [
    "# Save model"
   ]
  },
  {
   "cell_type": "code",
   "execution_count": null,
   "metadata": {},
   "outputs": [],
   "source": [
    "# model.save(model_save_path)"
   ]
  },
  {
   "cell_type": "markdown",
   "metadata": {},
   "source": [
    "# Load model form disk"
   ]
  },
  {
   "cell_type": "code",
   "execution_count": 4,
   "metadata": {},
   "outputs": [],
   "source": [
    "\n",
    "# # from keras.models import load_model\n",
    "\n",
    "# # model_save_path = 'model-final.h5'\n",
    "# # model = load_model(model_save_path)"
   ]
  },
  {
   "cell_type": "markdown",
   "metadata": {},
   "source": [
    "# Evaluate"
   ]
  },
  {
   "cell_type": "code",
   "execution_count": 7,
   "metadata": {},
   "outputs": [
    {
     "name": "stdout",
     "output_type": "stream",
     "text": [
      "[INFO] evaluating after initialization...\n",
      "                                        precision    recall  f1-score   support\n",
      "\n",
      "          Tomato___Tomato_mosaic_virus     0.9981    0.9868    0.9924       532\n",
      "                 Tomato___Early_blight     0.9862    0.8996    0.9409       239\n",
      "                  Tomato___Late_blight     0.9749    0.9936    0.9842       470\n",
      "                    Tomato___Leaf_Mold     0.9956    0.9538    0.9742       238\n",
      "               Tomato___Bacterial_spot     0.9751    0.9908    0.9829       435\n",
      "                  Tomato___Target_Spot     0.0542    0.0663    0.0596       362\n",
      "Tomato___Tomato_Yellow_Leaf_Curl_Virus     0.0028    0.0007    0.0012      1355\n",
      "                      Tomato___healthy     0.0000    0.0000    0.0000        98\n",
      "           Tomato___Septoria_leaf_spot     0.0000    0.0000    0.0000       414\n",
      "      Tomato___Two-spotted_spider_mite     0.9975    1.0000    0.9987       397\n",
      "\n",
      "                           avg / total     0.5078    0.5037    0.5054      4540\n",
      "\n"
     ]
    }
   ],
   "source": [
    "from sklearn.metrics import classification_report\n",
    "\n",
    "print(\"[INFO] evaluating after initialization...\")\n",
    "predictions = model.predict(test_x,batch_size=batch_size)\n",
    "\n",
    "print(classification_report(test_y.argmax(axis =1),\n",
    "                            predictions.argmax(axis =1),\n",
    "                            target_names=class_names, \n",
    "                            digits=4))"
   ]
  },
  {
   "cell_type": "code",
   "execution_count": null,
   "metadata": {},
   "outputs": [],
   "source": []
  }
 ],
 "metadata": {
  "file_extension": ".py",
  "kernelspec": {
   "display_name": "Python 3",
   "language": "python",
   "name": "python3"
  },
  "language_info": {
   "codemirror_mode": {
    "name": "ipython",
    "version": 3
   },
   "file_extension": ".py",
   "mimetype": "text/x-python",
   "name": "python",
   "nbconvert_exporter": "python",
   "pygments_lexer": "ipython3",
   "version": "3.5.3"
  },
  "mimetype": "text/x-python",
  "name": "python",
  "npconvert_exporter": "python",
  "pygments_lexer": "ipython3",
  "version": 3
 },
 "nbformat": 4,
 "nbformat_minor": 4
}

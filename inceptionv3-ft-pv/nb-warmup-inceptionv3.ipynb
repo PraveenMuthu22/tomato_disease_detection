{
 "cells": [
  {
   "cell_type": "markdown",
   "metadata": {},
   "source": [
    "\n",
    "# Arguments"
   ]
  },
  {
   "cell_type": "code",
   "execution_count": 1,
   "metadata": {},
   "outputs": [
    {
     "name": "stdout",
     "output_type": "stream",
     "text": [
      "Classes:  ['Tomato___Tomato_mosaic_virus', 'Tomato___Early_blight', 'Tomato___Late_blight', 'Tomato___Leaf_Mold', 'Tomato___Bacterial_spot', 'Tomato___Target_Spot', 'Tomato___Tomato_Yellow_Leaf_Curl_Virus', 'Tomato___healthy', 'Tomato___Septoria_leaf_spot', 'Tomato___Two-spotted_spider_mite']\n",
      "10\n"
     ]
    }
   ],
   "source": [
    "num_of_epochs = 25\n",
    "batch_size = 32\n",
    "dataset_name = 'tomato-dataset'\n",
    "dataset_path = '../datasets/' + dataset_name\n",
    "model_save_path = 'model-warmup.h5'\n",
    "\n",
    "checkpoint_path = 'checkpoints-warmup.hdf5'\n",
    "\n",
    "input_width = 299\n",
    "input_height = 299\n",
    "input_depth = 3\n",
    "\n",
    "# Get classes\n",
    "import os\n",
    "import re\n",
    "classes = os.listdir(dataset_path)\n",
    "class_names = []\n",
    "\n",
    "for i in classes:\n",
    "    if(re.search(\"Tomato___\", i)):\n",
    "        class_names.append(i)\n",
    "    \n",
    "print('Classes: ', class_names)\n",
    "print(len(class_names))"
   ]
  },
  {
   "cell_type": "markdown",
   "metadata": {},
   "source": [
    "\n",
    "# Load model"
   ]
  },
  {
   "cell_type": "code",
   "execution_count": null,
   "metadata": {},
   "outputs": [],
   "source": [
    "from keras.applications import InceptionV3\n",
    "from keras.utils.vis_utils import plot_model\n",
    "from keras.layers import Input\n",
    "\n",
    "\n",
    "\n",
    "# Load pretrianed VGG model with FC layers removed\n",
    "# explicitly deﬁne the input_tensor to be 224×224×3 pixels\n",
    "base_model = InceptionV3(   weights='imagenet',\n",
    "                            include_top=False,\n",
    "                            input_tensor=Input(shape = (input_width,input_height, input_depth)))\n",
    "\n",
    "plot_save_path = 'diagram-inceptionv3-base.png'\n",
    "plot_model(base_model, to_file=plot_save_path, show_shapes=True)"
   ]
  },
  {
   "cell_type": "markdown",
   "metadata": {},
   "source": [
    "# Custom FC layer"
   ]
  },
  {
   "cell_type": "code",
   "execution_count": 3,
   "metadata": {},
   "outputs": [],
   "source": [
    "from keras.layers.core import Dropout\n",
    "from keras.layers.core import Flatten\n",
    "from keras.layers.core import Dense\n",
    "\n",
    "head_model = base_model.output\n",
    "head_model = Flatten(name='flatten')(head_model)\n",
    "head_model = Dense(256,activation='relu')(head_model)\n",
    "head_model = Dropout(0.5)(head_model)\n",
    "# Add a softmaxc layer\n",
    "head_model = Dense(len(class_names),activation='softmax')(head_model)\n",
    "\n",
    "# plot_save_path = 'diagram-inceptionv3-head.png'\n",
    "# plot_model(head_model, to_file=plot_save_path, show_shapes=True)"
   ]
  },
  {
   "cell_type": "markdown",
   "metadata": {},
   "source": [
    "# Attach custom head to model"
   ]
  },
  {
   "cell_type": "code",
   "execution_count": null,
   "metadata": {},
   "outputs": [],
   "source": [
    "from keras.models import Model\n",
    "\n",
    "\n",
    "# place the head FC model on top of the base model \n",
    "model = Model(inputs=base_model.input, outputs = head_model)\n",
    "\n",
    "# freeze weights in base model\n",
    "for layer in base_model.layers:\n",
    "    layer.trainable = False\n",
    "\n",
    "\n",
    "plot_save_path = 'diagram-inceptionv3-complete.png'\n",
    "plot_model(model, to_file=plot_save_path, show_shapes=True)"
   ]
  },
  {
   "cell_type": "markdown",
   "metadata": {},
   "source": [
    "# Freeze base model"
   ]
  },
  {
   "cell_type": "code",
   "execution_count": 5,
   "metadata": {},
   "outputs": [],
   "source": [
    "# traverse all layers and freeze the weight of the corresponding layer\n",
    "for layer in base_model.layers:\n",
    "    layer.trainable = False"
   ]
  },
  {
   "cell_type": "markdown",
   "metadata": {},
   "source": [
    "# Compile model"
   ]
  },
  {
   "cell_type": "code",
   "execution_count": 6,
   "metadata": {},
   "outputs": [
    {
     "name": "stdout",
     "output_type": "stream",
     "text": [
      "[INFO] compiling model...\n",
      "[INFO] training head...\n"
     ]
    }
   ],
   "source": [
    "from keras.optimizers import RMSprop\n",
    "\n",
    "print(\"[INFO] compiling model...\")\n",
    "opt = RMSprop(lr=0.001)\n",
    "\n",
    "model.compile(loss=\"categorical_crossentropy\", optimizer=opt,metrics=[\"accuracy\"])\n",
    "# Since we only train the new fully connected layer, we do a few iterations\n",
    "print(\"[INFO] training head...\")"
   ]
  },
  {
   "cell_type": "markdown",
   "metadata": {},
   "source": [
    "# Load data"
   ]
  },
  {
   "cell_type": "code",
   "execution_count": 7,
   "metadata": {},
   "outputs": [
    {
     "name": "stdout",
     "output_type": "stream",
     "text": [
      "[INFO] loading images...\n",
      "[INFO]: Processed 500/18160\n",
      "[INFO]: Processed 1000/18160\n",
      "[INFO]: Processed 1500/18160\n",
      "[INFO]: Processed 2000/18160\n",
      "[INFO]: Processed 2500/18160\n",
      "[INFO]: Processed 3000/18160\n",
      "[INFO]: Processed 3500/18160\n",
      "[INFO]: Processed 4000/18160\n",
      "[INFO]: Processed 4500/18160\n",
      "[INFO]: Processed 5000/18160\n",
      "[INFO]: Processed 5500/18160\n",
      "[INFO]: Processed 6000/18160\n",
      "[INFO]: Processed 6500/18160\n",
      "[INFO]: Processed 7000/18160\n",
      "[INFO]: Processed 7500/18160\n",
      "[INFO]: Processed 8000/18160\n",
      "[INFO]: Processed 8500/18160\n",
      "[INFO]: Processed 9000/18160\n",
      "[INFO]: Processed 9500/18160\n",
      "[INFO]: Processed 10000/18160\n",
      "[INFO]: Processed 10500/18160\n",
      "[INFO]: Processed 11000/18160\n",
      "[INFO]: Processed 11500/18160\n",
      "[INFO]: Processed 12000/18160\n",
      "[INFO]: Processed 12500/18160\n",
      "[INFO]: Processed 13000/18160\n",
      "[INFO]: Processed 13500/18160\n",
      "[INFO]: Processed 14000/18160\n",
      "[INFO]: Processed 14500/18160\n",
      "[INFO]: Processed 15000/18160\n",
      "[INFO]: Processed 15500/18160\n",
      "[INFO]: Processed 16000/18160\n",
      "[INFO]: Processed 16500/18160\n",
      "[INFO]: Processed 17000/18160\n",
      "[INFO]: Processed 17500/18160\n",
      "[INFO]: Processed 18000/18160\n"
     ]
    }
   ],
   "source": [
    "from sklearn.preprocessing import LabelBinarizer\n",
    "from sklearn.model_selection import train_test_split\n",
    "from sklearn.metrics import classification_report\n",
    "from keras.preprocessing.image   import ImageDataGenerator\n",
    "from keras.optimizers import RMSprop\n",
    "from keras.layers import Input\n",
    "from keras.models import Model\n",
    "from keras .applications import VGG16\n",
    "from keras.optimizers import SGD\n",
    "from keras.models import Model\n",
    "from imutils import paths\n",
    "import numpy as np\n",
    "import os\n",
    "\n",
    "import sys\n",
    "sys.path.append('..')\n",
    "\n",
    "from utils.preprocessors.aspect_aware_preprocessor import AspectAwarePreprocessor\n",
    "from utils.preprocessors.image_to_array_preprocessor import ImageToArrayPreprocessor\n",
    "from utils.io.simple_dataset_loader import SimpleDatasetLoader\n",
    "\n",
    "# construct the image generator for data augmentation\n",
    "aug = ImageDataGenerator(   rotation_range=30,\n",
    "                            width_shift_range=0.1,\n",
    "                            height_shift_range=0.1,\n",
    "                            shear_range=0.2,\n",
    "                            zoom_range=0.2,\n",
    "                            horizontal_flip=True,\n",
    "                            fill_mode='nearest')\n",
    "\n",
    "# Load image paths\n",
    "print(\"[INFO] loading images...\")\n",
    "image_paths = list(paths.list_images(dataset_path))\n",
    "\n",
    "# Initial image preprocessing\n",
    "aap = AspectAwarePreprocessor(input_width, input_height)\n",
    "iap= ImageToArrayPreprocessor()\n",
    "\n",
    "#Load image data and perform image data preprocessing\n",
    "sdl = SimpleDatasetLoader(preprocessors=[aap,iap])\n",
    "(data,labels)  = sdl.load(image_paths,verbose=500)\n",
    "data = data.astype(\"float\") / 255.0\n",
    "\n",
    "\n",
    "# train test split\n",
    "(train_x,test_x,train_y,test_y) = train_test_split(data,labels,test_size=0.25,random_state=42)\n",
    "\n",
    "# convert the labels from integers to vectors\n",
    "train_y = LabelBinarizer().fit_transform(train_y)\n",
    "test_y = LabelBinarizer().fit_transform(test_y)\n",
    "\n"
   ]
  },
  {
   "cell_type": "markdown",
   "metadata": {},
   "source": [
    "# Checkpoints"
   ]
  },
  {
   "cell_type": "code",
   "execution_count": 8,
   "metadata": {},
   "outputs": [],
   "source": [
    "from keras.callbacks import ModelCheckpoint\n",
    "\n",
    "\n",
    "checkpoint = ModelCheckpoint(checkpoint_path, monitor='val_accuracy', mode='max', \n",
    "save_best_only=True, verbose=1)\n",
    "\n",
    "callbacks = [checkpoint]\n",
    "\n"
   ]
  },
  {
   "cell_type": "code",
   "execution_count": 9,
   "metadata": {},
   "outputs": [
    {
     "name": "stdout",
     "output_type": "stream",
     "text": [
      "checkpoints loaded\n"
     ]
    }
   ],
   "source": [
    "#load checkpoints if existing\n",
    "\n",
    "import os\n",
    "\n",
    "epochs_done = 5\n",
    "\n",
    "if(os.path.exists(checkpoint_path)):\n",
    "    model.load_weights(checkpoint_path)\n",
    "    num_of_epochs = num_of_epochs - epochs_done\n",
    "    print('checkpoints loaded')\n"
   ]
  },
  {
   "cell_type": "markdown",
   "metadata": {},
   "source": [
    "# Warm up head"
   ]
  },
  {
   "cell_type": "code",
   "execution_count": 10,
   "metadata": {},
   "outputs": [
    {
     "name": "stdout",
     "output_type": "stream",
     "text": [
      "Epoch 1/20\n",
      "425/425 [==============================] - 379s 892ms/step - loss: 1.8519 - accuracy: 0.3217 - val_loss: 1.7013 - val_accuracy: 0.3302\n",
      "\n",
      "Epoch 00001: val_accuracy improved from -inf to 0.33018, saving model to checkpoints-warmup.hdf5\n",
      "Epoch 2/20\n",
      "425/425 [==============================] - 369s 867ms/step - loss: 1.8220 - accuracy: 0.3330 - val_loss: 1.7246 - val_accuracy: 0.3998\n",
      "\n",
      "Epoch 00002: val_accuracy improved from 0.33018 to 0.39978, saving model to checkpoints-warmup.hdf5\n",
      "Epoch 3/20\n",
      "425/425 [==============================] - 371s 872ms/step - loss: 1.8204 - accuracy: 0.3332 - val_loss: 2.2091 - val_accuracy: 0.4073\n",
      "\n",
      "Epoch 00003: val_accuracy improved from 0.39978 to 0.40727, saving model to checkpoints-warmup.hdf5\n",
      "Epoch 4/20\n",
      "425/425 [==============================] - 369s 868ms/step - loss: 1.7914 - accuracy: 0.3474 - val_loss: 1.7194 - val_accuracy: 0.3760\n",
      "\n",
      "Epoch 00004: val_accuracy did not improve from 0.40727\n",
      "Epoch 5/20\n",
      "425/425 [==============================] - 368s 865ms/step - loss: 1.8105 - accuracy: 0.3407 - val_loss: 1.6896 - val_accuracy: 0.3901\n",
      "\n",
      "Epoch 00005: val_accuracy did not improve from 0.40727\n",
      "Epoch 6/20\n",
      "425/425 [==============================] - 370s 871ms/step - loss: 1.7967 - accuracy: 0.3443 - val_loss: 1.7021 - val_accuracy: 0.3991\n",
      "\n",
      "Epoch 00006: val_accuracy did not improve from 0.40727\n",
      "Epoch 7/20\n",
      "425/425 [==============================] - 372s 874ms/step - loss: 1.7872 - accuracy: 0.3469 - val_loss: 1.8951 - val_accuracy: 0.4286\n",
      "\n",
      "Epoch 00007: val_accuracy improved from 0.40727 to 0.42863, saving model to checkpoints-warmup.hdf5\n",
      "Epoch 8/20\n",
      "425/425 [==============================] - 372s 876ms/step - loss: 1.8051 - accuracy: 0.3493 - val_loss: 1.7292 - val_accuracy: 0.4104\n",
      "\n",
      "Epoch 00008: val_accuracy did not improve from 0.42863\n",
      "Epoch 9/20\n",
      "425/425 [==============================] - 371s 873ms/step - loss: 1.7888 - accuracy: 0.3469 - val_loss: 1.8395 - val_accuracy: 0.4214\n",
      "\n",
      "Epoch 00009: val_accuracy did not improve from 0.42863\n",
      "Epoch 10/20\n",
      "425/425 [==============================] - 372s 875ms/step - loss: 1.7877 - accuracy: 0.3519 - val_loss: 1.7974 - val_accuracy: 0.4218\n",
      "\n",
      "Epoch 00010: val_accuracy did not improve from 0.42863\n",
      "Epoch 11/20\n",
      "425/425 [==============================] - 370s 872ms/step - loss: 1.7889 - accuracy: 0.3512 - val_loss: 1.7402 - val_accuracy: 0.4227\n",
      "\n",
      "Epoch 00011: val_accuracy did not improve from 0.42863\n",
      "Epoch 12/20\n",
      "425/425 [==============================] - 371s 873ms/step - loss: 1.7977 - accuracy: 0.3456 - val_loss: 1.8079 - val_accuracy: 0.4040\n",
      "\n",
      "Epoch 00012: val_accuracy did not improve from 0.42863\n",
      "Epoch 13/20\n",
      "425/425 [==============================] - 370s 870ms/step - loss: 1.7819 - accuracy: 0.3455 - val_loss: 2.2509 - val_accuracy: 0.4099\n",
      "\n",
      "Epoch 00013: val_accuracy did not improve from 0.42863\n",
      "Epoch 14/20\n",
      "425/425 [==============================] - 370s 871ms/step - loss: 1.7930 - accuracy: 0.3507 - val_loss: 1.8835 - val_accuracy: 0.4095\n",
      "\n",
      "Epoch 00014: val_accuracy did not improve from 0.42863\n",
      "Epoch 15/20\n",
      "425/425 [==============================] - 368s 867ms/step - loss: 1.7862 - accuracy: 0.3496 - val_loss: 1.7835 - val_accuracy: 0.4042\n",
      "\n",
      "Epoch 00015: val_accuracy did not improve from 0.42863\n",
      "Epoch 16/20\n",
      "425/425 [==============================] - 369s 868ms/step - loss: 1.8087 - accuracy: 0.3483 - val_loss: 2.6271 - val_accuracy: 0.4143\n",
      "\n",
      "Epoch 00016: val_accuracy did not improve from 0.42863\n",
      "Epoch 17/20\n",
      "425/425 [==============================] - 368s 866ms/step - loss: 1.8109 - accuracy: 0.3455 - val_loss: 2.0348 - val_accuracy: 0.4341\n",
      "\n",
      "Epoch 00017: val_accuracy improved from 0.42863 to 0.43414, saving model to checkpoints-warmup.hdf5\n",
      "Epoch 18/20\n",
      "425/425 [==============================] - 366s 862ms/step - loss: 1.7925 - accuracy: 0.3473 - val_loss: 2.0048 - val_accuracy: 0.4286\n",
      "\n",
      "Epoch 00018: val_accuracy did not improve from 0.43414\n",
      "Epoch 19/20\n",
      "425/425 [==============================] - 366s 862ms/step - loss: 1.8043 - accuracy: 0.3473 - val_loss: 1.9761 - val_accuracy: 0.4218\n",
      "\n",
      "Epoch 00019: val_accuracy did not improve from 0.43414\n",
      "Epoch 20/20\n",
      "425/425 [==============================] - 366s 861ms/step - loss: 1.8041 - accuracy: 0.3457 - val_loss: 2.0089 - val_accuracy: 0.4324\n",
      "\n",
      "Epoch 00020: val_accuracy did not improve from 0.43414\n"
     ]
    }
   ],
   "source": [
    "\n",
    "\n",
    "h = model.fit_generator(\n",
    "    aug.flow(train_x,train_y, batch_size = 32),\n",
    "             validation_data = (test_x,test_y),\n",
    "             epochs=num_of_epochs,\n",
    "             steps_per_epoch = len(train_x) //32,\n",
    "             verbose = 1,\n",
    "             callbacks=callbacks)\n",
    "\n",
    "model.save(model_save_path)"
   ]
  },
  {
   "cell_type": "markdown",
   "metadata": {},
   "source": [
    "# Evaluate after warmup"
   ]
  },
  {
   "cell_type": "code",
   "execution_count": 15,
   "metadata": {},
   "outputs": [
    {
     "name": "stdout",
     "output_type": "stream",
     "text": [
      "[INFO] evaluating after initialization...\n",
      "                                        precision    recall  f1-score   support\n",
      "\n",
      "          Tomato___Tomato_mosaic_virus     0.1766    0.9568    0.2981       532\n",
      "                 Tomato___Early_blight     0.0000    0.0000    0.0000       239\n",
      "                  Tomato___Late_blight     0.9333    0.4468    0.6043       470\n",
      "                    Tomato___Leaf_Mold     0.0000    0.0000    0.0000       238\n",
      "               Tomato___Bacterial_spot     0.0000    0.0000    0.0000       435\n",
      "                  Tomato___Target_Spot     0.0000    0.0000    0.0000       362\n",
      "Tomato___Tomato_Yellow_Leaf_Curl_Virus     0.8687    0.9181    0.8927      1355\n",
      "                      Tomato___healthy     0.0000    0.0000    0.0000        98\n",
      "           Tomato___Septoria_leaf_spot     0.0000    0.0000    0.0000       414\n",
      "      Tomato___Two-spotted_spider_mite     0.0000    0.0000    0.0000       397\n",
      "\n",
      "                           avg / total     0.3766    0.4324    0.3639      4540\n",
      "\n"
     ]
    }
   ],
   "source": [
    "from sklearn.metrics import classification_report\n",
    "\n",
    "print(\"[INFO] evaluating after initialization...\")\n",
    "predictions = model.predict(test_x,batch_size=32)\n",
    "print(classification_report(test_y.argmax(axis =1),\n",
    "                            predictions.argmax(axis =1),target_names=class_names,\n",
    "                           digits=4))"
   ]
  },
  {
   "cell_type": "markdown",
   "metadata": {},
   "source": [
    "# Visualize"
   ]
  },
  {
   "cell_type": "code",
   "execution_count": 13,
   "metadata": {},
   "outputs": [
    {
     "data": {
      "image/png": "[encoded data removed]",
      "text/plain": [
       "<Figure size 432x288 with 1 Axes>"
      ]
     },
     "metadata": {},
     "output_type": "display_data"
    }
   ],
   "source": [
    "plot_save_path = 'warmup-plot.png'\n",
    "\n",
    "# plot the training loss and accuracy\n",
    "from matplotlib import pyplot as plt\n",
    "\n",
    "plt.style.use(\"ggplot\")\n",
    "plt.figure()\n",
    "plt.plot(np.arange(0, num_of_epochs), h.history[\"loss\"], label=\"train_loss\")\n",
    "plt.plot(np.arange(0, num_of_epochs), h.history[\"val_loss\"], label=\"val_loss\")\n",
    "plt.plot(np.arange(0, num_of_epochs), h.history[\"accuracy\"], label=\"train_accuracy\")\n",
    "plt.plot(np.arange(0, num_of_epochs), h.history[\"val_accuracy\"], label=\"val_accuracy\")\n",
    "plt.title(\"Training Loss and Accuracy\")\n",
    "plt.xlabel(\"Epoch #\")\n",
    "plt.ylabel(\"Loss/Accuracy\")\n",
    "plt.legend()\n",
    "#save to disk\n",
    "plt.savefig(plot_save_path)\n",
    "plt.show()"
   ]
  },
  {
   "cell_type": "code",
   "execution_count": null,
   "metadata": {},
   "outputs": [],
   "source": []
  }
 ],
 "metadata": {
  "file_extension": ".py",
  "kernelspec": {
   "display_name": "Python 3",
   "language": "python",
   "name": "python3"
  },
  "language_info": {
   "codemirror_mode": {
    "name": "ipython",
    "version": 3
   },
   "file_extension": ".py",
   "mimetype": "text/x-python",
   "name": "python",
   "nbconvert_exporter": "python",
   "pygments_lexer": "ipython3",
   "version": "3.5.3"
  },
  "mimetype": "text/x-python",
  "name": "python",
  "npconvert_exporter": "python",
  "pygments_lexer": "ipython3",
  "version": 3
 },
 "nbformat": 4,
 "nbformat_minor": 4
}

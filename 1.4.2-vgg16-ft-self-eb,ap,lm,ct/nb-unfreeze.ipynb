{
 "cells": [
  {
   "cell_type": "markdown",
   "metadata": {},
   "source": [
    "# Arguments"
   ]
  },
  {
   "cell_type": "code",
   "execution_count": 5,
   "metadata": {},
   "outputs": [],
   "source": [
    "# vgg16-ft-pv-self-eb,ap,lm,ct\n",
    "batch_size = 32\n",
    "dataset_path_plantvillage = '../datasets/plantvillage'\n",
    "dataset_path_self = '../datasets/self'\n",
    "dataset_path_validation = '../datasets/validation'\n",
    "\n",
    "dataset_paths = [dataset_path_plantvillage, dataset_path_self, dataset_path_validation]\n",
    "\n",
    "warmup_model_path = 'model-warmup.h5'\n",
    "\n",
    "checkpoint_path = 'checkpoints-warmup.hdf5'\n",
    "\n",
    "input_width = 224\n",
    "input_height = 224\n",
    "input_depth = 3\n",
    "\n",
    "# --------------------------------------------------\n",
    "num_of_epochs = 105\n",
    "start_epoch = 0\n",
    "# --------------------------------------------------"
   ]
  },
  {
   "cell_type": "markdown",
   "metadata": {},
   "source": [
    "# Select training classes"
   ]
  },
  {
   "cell_type": "code",
   "execution_count": 2,
   "metadata": {},
   "outputs": [],
   "source": [
    "class_paths_training = ['../datasets/self/___Early_blight', '../datasets/self/___Appids', '../datasets/self/___Leaf_miner', '../datasets/self/___Curly_top_virus']"
   ]
  },
  {
   "cell_type": "markdown",
   "metadata": {},
   "source": [
    "# Load dataset"
   ]
  },
  {
   "cell_type": "code",
   "execution_count": 3,
   "metadata": {},
   "outputs": [
    {
     "name": "stderr",
     "output_type": "stream",
     "text": [
      "Using TensorFlow backend.\n"
     ]
    },
    {
     "name": "stdout",
     "output_type": "stream",
     "text": [
      "[INFO] loading images...\n",
      "[INFO]: Processed 500/4401\n",
      "[INFO]: Processed 1000/4401\n",
      "[INFO]: Processed 1500/4401\n",
      "[INFO]: Processed 2000/4401\n",
      "[INFO]: Processed 2500/4401\n",
      "[INFO]: Processed 3000/4401\n",
      "[INFO]: Processed 3500/4401\n",
      "[INFO]: Processed 4000/4401\n"
     ]
    }
   ],
   "source": [
    "from sklearn.preprocessing import LabelBinarizer\n",
    "from sklearn.model_selection import train_test_split\n",
    "from sklearn.metrics import classification_report\n",
    "from keras.preprocessing.image   import ImageDataGenerator\n",
    "from keras.optimizers import RMSprop\n",
    "from keras.layers import Input\n",
    "from keras.models import Model\n",
    "from keras .applications import VGG16\n",
    "from keras.optimizers import SGD\n",
    "from keras.models import Model\n",
    "from imutils import paths\n",
    "import numpy as np\n",
    "import os\n",
    "\n",
    "import sys\n",
    "sys.path.append('..')\n",
    "\n",
    "from utils.preprocessors.resize_image_preprocessor import resizeImagePreprocessor\n",
    "from utils.preprocessors.img_to_array_preprocessor import ImgToArrayPreprocessor\n",
    "from utils.io.dataset_loader import DatasetLoader\n",
    "\n",
    "# construct the image generator for data augmentation\n",
    "aug = ImageDataGenerator(   rotation_range=30,\n",
    "                            width_shift_range=0.1,\n",
    "                            height_shift_range=0.1,\n",
    "                            shear_range=0.2,\n",
    "                            zoom_range=0.2,\n",
    "                            horizontal_flip=True,\n",
    "                            fill_mode='nearest')\n",
    "\n",
    "def load_datasets(path_list):\n",
    "    # Load image paths\n",
    "    image_paths = []\n",
    "    print(\"[INFO] loading images...\")\n",
    "    for path in path_list:\n",
    "        image_paths.extend(list(paths.list_images(path)))\n",
    "        \n",
    "    # Get unique classnames\n",
    "\n",
    "    class_names = [pt.split(os.path.sep)[-2] for pt in image_paths]\n",
    "    class_names = [str(x) for x in np.unique(class_names)]\n",
    "\n",
    "    # Initial image preprocessing\n",
    "    aap = resizeImagePreprocessor(input_width, input_height)\n",
    "    iap= ImgToArrayPreprocessor()\n",
    "\n",
    "    #Load image data and perform image data preprocessing\n",
    "    dl = DatasetLoader(preprocessors=[aap,iap])\n",
    "    (data,labels)  = dl.load(image_paths,verbose=500)\n",
    "    data = data.astype(\"float\") / 255.0\n",
    "\n",
    "\n",
    "    # train test split\n",
    "    (train_x,test_x,train_y,test_y) = train_test_split(data,labels,test_size=0.25,random_state=42)\n",
    "\n",
    "    # convert the labels from integers to vectors\n",
    "    train_y = LabelBinarizer().fit_transform(train_y)\n",
    "    test_y = LabelBinarizer().fit_transform(test_y)\n",
    "    \n",
    "    return (train_x,test_x,train_y,test_y, class_names)\n",
    "\n",
    "(train_x,test_x,train_y,test_y, class_names) = load_datasets(class_paths_training)"
   ]
  },
  {
   "cell_type": "markdown",
   "metadata": {},
   "source": [
    "# Load model from disk"
   ]
  },
  {
   "cell_type": "code",
   "execution_count": 6,
   "metadata": {},
   "outputs": [],
   "source": [
    "# import tensorflow as tf\n",
    "# print(tf.__version__)\n",
    "\n",
    "\n",
    "# model = tf.keras.models.load_model(\n",
    "#     warmup_model_path,\n",
    "#     custom_objects=None,\n",
    "#     compile=False\n",
    "# )\n",
    "\n",
    "from keras.models import load_model\n",
    "\n",
    "model = load_model(warmup_model_path)"
   ]
  },
  {
   "cell_type": "markdown",
   "metadata": {},
   "source": [
    "# Print index of layers"
   ]
  },
  {
   "cell_type": "code",
   "execution_count": 7,
   "metadata": {},
   "outputs": [
    {
     "name": "stdout",
     "output_type": "stream",
     "text": [
      "[INFO] 0\tInputLayer\n",
      "[INFO] 1\tConv2D\n",
      "[INFO] 2\tConv2D\n",
      "[INFO] 3\tMaxPooling2D\n",
      "[INFO] 4\tConv2D\n",
      "[INFO] 5\tConv2D\n",
      "[INFO] 6\tMaxPooling2D\n",
      "[INFO] 7\tConv2D\n",
      "[INFO] 8\tConv2D\n",
      "[INFO] 9\tConv2D\n",
      "[INFO] 10\tMaxPooling2D\n",
      "[INFO] 11\tConv2D\n",
      "[INFO] 12\tConv2D\n",
      "[INFO] 13\tConv2D\n",
      "[INFO] 14\tMaxPooling2D\n",
      "[INFO] 15\tConv2D\n",
      "[INFO] 16\tConv2D\n",
      "[INFO] 17\tConv2D\n",
      "[INFO] 18\tMaxPooling2D\n",
      "[INFO] 19\tFlatten\n",
      "[INFO] 20\tDense\n",
      "[INFO] 21\tDropout\n",
      "[INFO] 22\tDense\n"
     ]
    }
   ],
   "source": [
    "# iterate for all layers in the network and print its' index value\n",
    "for (i,layer) in enumerate(model.layers):\n",
    "    print(\"[INFO] {}\\t{}\".format(i,layer.__class__.__name__))"
   ]
  },
  {
   "cell_type": "markdown",
   "metadata": {},
   "source": [
    "# Unfreeze final CONV layers"
   ]
  },
  {
   "cell_type": "code",
   "execution_count": 8,
   "metadata": {},
   "outputs": [
    {
     "name": "stdout",
     "output_type": "stream",
     "text": [
      "unfrozen\n"
     ]
    }
   ],
   "source": [
    "for layer in model.layers[15:]:\n",
    "    layer.trainable = True\n",
    "print('unfrozen')"
   ]
  },
  {
   "cell_type": "markdown",
   "metadata": {},
   "source": [
    "# Compile model"
   ]
  },
  {
   "cell_type": "code",
   "execution_count": 9,
   "metadata": {},
   "outputs": [
    {
     "name": "stdout",
     "output_type": "stream",
     "text": [
      "[INFO] re-compiling model ...\n"
     ]
    }
   ],
   "source": [
    "from keras.optimizers import SGD\n",
    "\n",
    "# Build the model from the new\n",
    "print(\"[INFO] re-compiling model ...\")\n",
    "opt = SGD(lr=0.001, momentum=0.09)\n",
    "# Fine-tuning with a small learning rate\n",
    "model.compile(loss = 'categorical_crossentropy',optimizer = opt,\n",
    "              metrics=['accuracy'])\n"
   ]
  },
  {
   "cell_type": "markdown",
   "metadata": {},
   "source": [
    "# Checkpoints"
   ]
  },
  {
   "cell_type": "code",
   "execution_count": 10,
   "metadata": {},
   "outputs": [],
   "source": [
    "from keras.callbacks import ModelCheckpoint\n",
    "\n",
    "\n",
    "checkpoint = ModelCheckpoint(checkpoint_path, monitor='val_loss', mode='min', \n",
    "save_best_only=True, verbose=1)\n",
    "\n",
    "callbacks = [checkpoint]\n",
    "\n"
   ]
  },
  {
   "cell_type": "code",
   "execution_count": 11,
   "metadata": {},
   "outputs": [],
   "source": [
    "#load checkpoints if existing\n",
    "\n",
    "import os\n",
    "\n",
    "if(os.path.exists(checkpoint_path)):\n",
    "    model.load_weights(checkpoint_path)"
   ]
  },
  {
   "cell_type": "markdown",
   "metadata": {},
   "source": [
    "# Training Monitor"
   ]
  },
  {
   "cell_type": "code",
   "execution_count": 12,
   "metadata": {},
   "outputs": [],
   "source": [
    "from utils.callbacks.monitor import Monitor\n",
    "import pathlib\n",
    "import json\n",
    "import os\n",
    "\n",
    "fig_path = \"plot\"\n",
    "json_path = \"values.json\"\n",
    "values_path = 'values.json'\n",
    "\n",
    "callbacks.append(Monitor(fig_path, json_path, start_epoch))"
   ]
  },
  {
   "cell_type": "markdown",
   "metadata": {},
   "source": [
    "# Fit model"
   ]
  },
  {
   "cell_type": "code",
   "execution_count": 13,
   "metadata": {},
   "outputs": [
    {
     "name": "stdout",
     "output_type": "stream",
     "text": [
      "Epoch 1/105\n",
      "103/103 [==============================] - 40s 392ms/step - loss: 0.3558 - accuracy: 0.8761 - val_loss: 0.1777 - val_accuracy: 0.9292\n",
      "\n",
      "Epoch 00001: val_loss improved from inf to 0.17774, saving model to checkpoints-warmup.hdf5\n",
      "Epoch 2/105\n",
      "103/103 [==============================] - 37s 357ms/step - loss: 0.2722 - accuracy: 0.9137 - val_loss: 0.1674 - val_accuracy: 0.9419\n",
      "\n",
      "Epoch 00002: val_loss improved from 0.17774 to 0.16738, saving model to checkpoints-warmup.hdf5\n",
      "Epoch 3/105\n",
      "103/103 [==============================] - 36s 350ms/step - loss: 0.1937 - accuracy: 0.9351 - val_loss: 0.1404 - val_accuracy: 0.9419\n",
      "\n",
      "Epoch 00003: val_loss improved from 0.16738 to 0.14042, saving model to checkpoints-warmup.hdf5\n",
      "Epoch 4/105\n",
      "103/103 [==============================] - 35s 343ms/step - loss: 0.1780 - accuracy: 0.9354 - val_loss: 0.1146 - val_accuracy: 0.9582\n",
      "\n",
      "Epoch 00004: val_loss improved from 0.14042 to 0.11463, saving model to checkpoints-warmup.hdf5\n",
      "Epoch 5/105\n",
      "103/103 [==============================] - 35s 341ms/step - loss: 0.1630 - accuracy: 0.9446 - val_loss: 0.1158 - val_accuracy: 0.9619\n",
      "\n",
      "Epoch 00005: val_loss did not improve from 0.11463\n",
      "Epoch 6/105\n",
      "103/103 [==============================] - 34s 334ms/step - loss: 0.1384 - accuracy: 0.9507 - val_loss: 0.1579 - val_accuracy: 0.9455\n",
      "\n",
      "Epoch 00006: val_loss did not improve from 0.11463\n",
      "Epoch 7/105\n",
      "103/103 [==============================] - 35s 337ms/step - loss: 0.1338 - accuracy: 0.9508 - val_loss: 0.0949 - val_accuracy: 0.9655\n",
      "\n",
      "Epoch 00007: val_loss improved from 0.11463 to 0.09487, saving model to checkpoints-warmup.hdf5\n",
      "Epoch 8/105\n",
      "103/103 [==============================] - 34s 333ms/step - loss: 0.1375 - accuracy: 0.9519 - val_loss: 0.0879 - val_accuracy: 0.9718\n",
      "\n",
      "Epoch 00008: val_loss improved from 0.09487 to 0.08787, saving model to checkpoints-warmup.hdf5\n",
      "Epoch 9/105\n",
      "103/103 [==============================] - 34s 331ms/step - loss: 0.1038 - accuracy: 0.9645 - val_loss: 0.1000 - val_accuracy: 0.9673\n",
      "\n",
      "Epoch 00009: val_loss did not improve from 0.08787\n",
      "Epoch 10/105\n",
      "103/103 [==============================] - 34s 332ms/step - loss: 0.0996 - accuracy: 0.9624 - val_loss: 0.1001 - val_accuracy: 0.9682\n",
      "\n",
      "Epoch 00010: val_loss did not improve from 0.08787\n",
      "Epoch 11/105\n",
      "103/103 [==============================] - 34s 330ms/step - loss: 0.1081 - accuracy: 0.9651 - val_loss: 0.0837 - val_accuracy: 0.9728\n",
      "\n",
      "Epoch 00011: val_loss improved from 0.08787 to 0.08368, saving model to checkpoints-warmup.hdf5\n",
      "Epoch 12/105\n",
      "103/103 [==============================] - 34s 326ms/step - loss: 0.0984 - accuracy: 0.9633 - val_loss: 0.0777 - val_accuracy: 0.9755\n",
      "\n",
      "Epoch 00012: val_loss improved from 0.08368 to 0.07771, saving model to checkpoints-warmup.hdf5\n",
      "Epoch 13/105\n",
      "103/103 [==============================] - 34s 326ms/step - loss: 0.0872 - accuracy: 0.9700 - val_loss: 0.0878 - val_accuracy: 0.9700\n",
      "\n",
      "Epoch 00013: val_loss did not improve from 0.07771\n",
      "Epoch 14/105\n",
      "103/103 [==============================] - 34s 327ms/step - loss: 0.0836 - accuracy: 0.9694 - val_loss: 0.1859 - val_accuracy: 0.9401\n",
      "\n",
      "Epoch 00014: val_loss did not improve from 0.07771\n",
      "Epoch 15/105\n",
      "103/103 [==============================] - 33s 324ms/step - loss: 0.0839 - accuracy: 0.9752 - val_loss: 0.0790 - val_accuracy: 0.9728\n",
      "\n",
      "Epoch 00015: val_loss did not improve from 0.07771\n",
      "Epoch 16/105\n",
      "103/103 [==============================] - 33s 322ms/step - loss: 0.0758 - accuracy: 0.9734 - val_loss: 0.0956 - val_accuracy: 0.9664\n",
      "\n",
      "Epoch 00016: val_loss did not improve from 0.07771\n",
      "Epoch 17/105\n",
      "103/103 [==============================] - 33s 322ms/step - loss: 0.0751 - accuracy: 0.9731 - val_loss: 0.0680 - val_accuracy: 0.9755\n",
      "\n",
      "Epoch 00017: val_loss improved from 0.07771 to 0.06803, saving model to checkpoints-warmup.hdf5\n",
      "Epoch 18/105\n",
      "103/103 [==============================] - 33s 320ms/step - loss: 0.0904 - accuracy: 0.9685 - val_loss: 0.0680 - val_accuracy: 0.9773\n",
      "\n",
      "Epoch 00018: val_loss improved from 0.06803 to 0.06803, saving model to checkpoints-warmup.hdf5\n",
      "Epoch 19/105\n",
      "103/103 [==============================] - 32s 315ms/step - loss: 0.0647 - accuracy: 0.9798 - val_loss: 0.0903 - val_accuracy: 0.9673\n",
      "\n",
      "Epoch 00019: val_loss did not improve from 0.06803\n",
      "Epoch 20/105\n",
      "103/103 [==============================] - 33s 317ms/step - loss: 0.0670 - accuracy: 0.9798 - val_loss: 0.1015 - val_accuracy: 0.9655\n",
      "\n",
      "Epoch 00020: val_loss did not improve from 0.06803\n",
      "Epoch 21/105\n",
      "103/103 [==============================] - 33s 322ms/step - loss: 0.0660 - accuracy: 0.9791 - val_loss: 0.0788 - val_accuracy: 0.9709\n",
      "\n",
      "Epoch 00021: val_loss did not improve from 0.06803\n",
      "Epoch 22/105\n",
      "103/103 [==============================] - 33s 317ms/step - loss: 0.0588 - accuracy: 0.9796 - val_loss: 0.0694 - val_accuracy: 0.9755\n",
      "\n",
      "Epoch 00022: val_loss did not improve from 0.06803\n",
      "Epoch 23/105\n",
      "103/103 [==============================] - 32s 312ms/step - loss: 0.0572 - accuracy: 0.9823 - val_loss: 0.0866 - val_accuracy: 0.9691\n",
      "\n",
      "Epoch 00023: val_loss did not improve from 0.06803\n",
      "Epoch 24/105\n",
      "103/103 [==============================] - 32s 314ms/step - loss: 0.0625 - accuracy: 0.9786 - val_loss: 0.0676 - val_accuracy: 0.9764\n",
      "\n",
      "Epoch 00024: val_loss improved from 0.06803 to 0.06761, saving model to checkpoints-warmup.hdf5\n",
      "Epoch 25/105\n",
      "103/103 [==============================] - 32s 310ms/step - loss: 0.0540 - accuracy: 0.9804 - val_loss: 0.1077 - val_accuracy: 0.9628\n",
      "\n",
      "Epoch 00025: val_loss did not improve from 0.06761\n",
      "Epoch 26/105\n",
      "103/103 [==============================] - 32s 310ms/step - loss: 0.0593 - accuracy: 0.9795 - val_loss: 0.0943 - val_accuracy: 0.9673\n",
      "\n",
      "Epoch 00026: val_loss did not improve from 0.06761\n",
      "Epoch 27/105\n",
      "103/103 [==============================] - 32s 310ms/step - loss: 0.0551 - accuracy: 0.9813 - val_loss: 0.0681 - val_accuracy: 0.9755\n",
      "\n",
      "Epoch 00027: val_loss did not improve from 0.06761\n",
      "Epoch 28/105\n",
      "103/103 [==============================] - 32s 311ms/step - loss: 0.0410 - accuracy: 0.9867 - val_loss: 0.0824 - val_accuracy: 0.9737\n",
      "\n",
      "Epoch 00028: val_loss did not improve from 0.06761\n",
      "Epoch 29/105\n",
      "103/103 [==============================] - 32s 309ms/step - loss: 0.0488 - accuracy: 0.9843 - val_loss: 0.0817 - val_accuracy: 0.9737\n",
      "\n",
      "Epoch 00029: val_loss did not improve from 0.06761\n",
      "Epoch 30/105\n",
      "103/103 [==============================] - 32s 311ms/step - loss: 0.0547 - accuracy: 0.9832 - val_loss: 0.0607 - val_accuracy: 0.9800\n",
      "\n",
      "Epoch 00030: val_loss improved from 0.06761 to 0.06068, saving model to checkpoints-warmup.hdf5\n",
      "Epoch 31/105\n",
      "103/103 [==============================] - 32s 311ms/step - loss: 0.0465 - accuracy: 0.9847 - val_loss: 0.0599 - val_accuracy: 0.9791\n",
      "\n",
      "Epoch 00031: val_loss improved from 0.06068 to 0.05991, saving model to checkpoints-warmup.hdf5\n",
      "Epoch 32/105\n",
      "103/103 [==============================] - 32s 314ms/step - loss: 0.0373 - accuracy: 0.9871 - val_loss: 0.0802 - val_accuracy: 0.9709\n",
      "\n",
      "Epoch 00032: val_loss did not improve from 0.05991\n",
      "Epoch 33/105\n",
      "103/103 [==============================] - 32s 311ms/step - loss: 0.0463 - accuracy: 0.9873 - val_loss: 0.0698 - val_accuracy: 0.9782\n",
      "\n",
      "Epoch 00033: val_loss did not improve from 0.05991\n",
      "Epoch 34/105\n",
      "103/103 [==============================] - 32s 312ms/step - loss: 0.0383 - accuracy: 0.9880 - val_loss: 0.0596 - val_accuracy: 0.9809\n",
      "\n",
      "Epoch 00034: val_loss improved from 0.05991 to 0.05964, saving model to checkpoints-warmup.hdf5\n",
      "Epoch 35/105\n",
      "103/103 [==============================] - 32s 310ms/step - loss: 0.0356 - accuracy: 0.9871 - val_loss: 0.0661 - val_accuracy: 0.9755\n",
      "\n",
      "Epoch 00035: val_loss did not improve from 0.05964\n",
      "Epoch 36/105\n",
      "103/103 [==============================] - 32s 311ms/step - loss: 0.0456 - accuracy: 0.9839 - val_loss: 0.0782 - val_accuracy: 0.9718\n",
      "\n",
      "Epoch 00036: val_loss did not improve from 0.05964\n",
      "Epoch 37/105\n",
      "103/103 [==============================] - 31s 305ms/step - loss: 0.0364 - accuracy: 0.9855 - val_loss: 0.0767 - val_accuracy: 0.9764\n",
      "\n",
      "Epoch 00037: val_loss did not improve from 0.05964\n",
      "Epoch 38/105\n",
      "103/103 [==============================] - 32s 307ms/step - loss: 0.0341 - accuracy: 0.9884 - val_loss: 0.0637 - val_accuracy: 0.9773\n",
      "\n",
      "Epoch 00038: val_loss did not improve from 0.05964\n",
      "Epoch 39/105\n",
      "103/103 [==============================] - 33s 317ms/step - loss: 0.0359 - accuracy: 0.9868 - val_loss: 0.0742 - val_accuracy: 0.9737\n",
      "\n",
      "Epoch 00039: val_loss did not improve from 0.05964\n",
      "Epoch 40/105\n",
      "103/103 [==============================] - 33s 316ms/step - loss: 0.0299 - accuracy: 0.9903 - val_loss: 0.0643 - val_accuracy: 0.9773\n",
      "\n",
      "Epoch 00040: val_loss did not improve from 0.05964\n",
      "Epoch 41/105\n",
      "103/103 [==============================] - 32s 310ms/step - loss: 0.0321 - accuracy: 0.9886 - val_loss: 0.0666 - val_accuracy: 0.9791\n",
      "\n",
      "Epoch 00041: val_loss did not improve from 0.05964\n",
      "Epoch 42/105\n",
      "103/103 [==============================] - 32s 313ms/step - loss: 0.0329 - accuracy: 0.9884 - val_loss: 0.1141 - val_accuracy: 0.9691\n",
      "\n",
      "Epoch 00042: val_loss did not improve from 0.05964\n",
      "Epoch 43/105\n",
      "103/103 [==============================] - 32s 309ms/step - loss: 0.0539 - accuracy: 0.9832 - val_loss: 0.0577 - val_accuracy: 0.9782\n",
      "\n",
      "Epoch 00043: val_loss improved from 0.05964 to 0.05770, saving model to checkpoints-warmup.hdf5\n",
      "Epoch 44/105\n",
      "103/103 [==============================] - 32s 313ms/step - loss: 0.0334 - accuracy: 0.9896 - val_loss: 0.0740 - val_accuracy: 0.9746\n",
      "\n",
      "Epoch 00044: val_loss did not improve from 0.05770\n",
      "Epoch 45/105\n",
      "103/103 [==============================] - 32s 308ms/step - loss: 0.0352 - accuracy: 0.9885 - val_loss: 0.1116 - val_accuracy: 0.9637\n",
      "\n",
      "Epoch 00045: val_loss did not improve from 0.05770\n",
      "Epoch 46/105\n",
      "103/103 [==============================] - 32s 309ms/step - loss: 0.0275 - accuracy: 0.9917 - val_loss: 0.0759 - val_accuracy: 0.9746\n",
      "\n",
      "Epoch 00046: val_loss did not improve from 0.05770\n",
      "Epoch 47/105\n",
      "103/103 [==============================] - 32s 311ms/step - loss: 0.0293 - accuracy: 0.9903 - val_loss: 0.0629 - val_accuracy: 0.9791\n",
      "\n",
      "Epoch 00047: val_loss did not improve from 0.05770\n",
      "Epoch 48/105\n",
      "103/103 [==============================] - 32s 308ms/step - loss: 0.0298 - accuracy: 0.9890 - val_loss: 0.0733 - val_accuracy: 0.9773\n",
      "\n",
      "Epoch 00048: val_loss did not improve from 0.05770\n",
      "Epoch 49/105\n",
      "103/103 [==============================] - 32s 306ms/step - loss: 0.0299 - accuracy: 0.9896 - val_loss: 0.0706 - val_accuracy: 0.9755\n",
      "\n",
      "Epoch 00049: val_loss did not improve from 0.05770\n",
      "Epoch 50/105\n",
      "103/103 [==============================] - 32s 309ms/step - loss: 0.0219 - accuracy: 0.9926 - val_loss: 0.0981 - val_accuracy: 0.9700\n",
      "\n",
      "Epoch 00050: val_loss did not improve from 0.05770\n",
      "Epoch 51/105\n",
      "103/103 [==============================] - 32s 313ms/step - loss: 0.0261 - accuracy: 0.9902 - val_loss: 0.1718 - val_accuracy: 0.9555\n",
      "\n",
      "Epoch 00051: val_loss did not improve from 0.05770\n",
      "Epoch 52/105\n",
      "103/103 [==============================] - 32s 313ms/step - loss: 0.0260 - accuracy: 0.9917 - val_loss: 0.0691 - val_accuracy: 0.9782\n",
      "\n",
      "Epoch 00052: val_loss did not improve from 0.05770\n",
      "Epoch 53/105\n",
      "103/103 [==============================] - 32s 311ms/step - loss: 0.0336 - accuracy: 0.9885 - val_loss: 0.0865 - val_accuracy: 0.9737\n",
      "\n",
      "Epoch 00053: val_loss did not improve from 0.05770\n",
      "Epoch 54/105\n",
      "103/103 [==============================] - 32s 307ms/step - loss: 0.0310 - accuracy: 0.9907 - val_loss: 0.0516 - val_accuracy: 0.9846\n",
      "\n",
      "Epoch 00054: val_loss improved from 0.05770 to 0.05161, saving model to checkpoints-warmup.hdf5\n",
      "Epoch 55/105\n",
      "103/103 [==============================] - 33s 317ms/step - loss: 0.0276 - accuracy: 0.9888 - val_loss: 0.0725 - val_accuracy: 0.9718\n",
      "\n",
      "Epoch 00055: val_loss did not improve from 0.05161\n",
      "Epoch 56/105\n",
      "103/103 [==============================] - 32s 312ms/step - loss: 0.0332 - accuracy: 0.9917 - val_loss: 0.0666 - val_accuracy: 0.9755\n",
      "\n",
      "Epoch 00056: val_loss did not improve from 0.05161\n",
      "Epoch 57/105\n",
      "103/103 [==============================] - 32s 313ms/step - loss: 0.0250 - accuracy: 0.9914 - val_loss: 0.0635 - val_accuracy: 0.9791\n",
      "\n",
      "Epoch 00057: val_loss did not improve from 0.05161\n",
      "Epoch 58/105\n",
      "103/103 [==============================] - 32s 308ms/step - loss: 0.0266 - accuracy: 0.9907 - val_loss: 0.0786 - val_accuracy: 0.9709\n",
      "\n",
      "Epoch 00058: val_loss did not improve from 0.05161\n",
      "Epoch 59/105\n",
      "103/103 [==============================] - 32s 306ms/step - loss: 0.0243 - accuracy: 0.9933 - val_loss: 0.0749 - val_accuracy: 0.9755\n",
      "\n",
      "Epoch 00059: val_loss did not improve from 0.05161\n",
      "Epoch 60/105\n",
      "103/103 [==============================] - 32s 312ms/step - loss: 0.0204 - accuracy: 0.9936 - val_loss: 0.0831 - val_accuracy: 0.9737\n",
      "\n",
      "Epoch 00060: val_loss did not improve from 0.05161\n",
      "Epoch 61/105\n",
      "103/103 [==============================] - 32s 310ms/step - loss: 0.0198 - accuracy: 0.9942 - val_loss: 0.0540 - val_accuracy: 0.9837\n",
      "\n",
      "Epoch 00061: val_loss did not improve from 0.05161\n",
      "Epoch 62/105\n",
      "103/103 [==============================] - 32s 310ms/step - loss: 0.0216 - accuracy: 0.9939 - val_loss: 0.0455 - val_accuracy: 0.9837\n",
      "\n",
      "Epoch 00062: val_loss improved from 0.05161 to 0.04554, saving model to checkpoints-warmup.hdf5\n",
      "Epoch 63/105\n",
      "103/103 [==============================] - 32s 314ms/step - loss: 0.0204 - accuracy: 0.9917 - val_loss: 0.0636 - val_accuracy: 0.9809\n",
      "\n",
      "Epoch 00063: val_loss did not improve from 0.04554\n",
      "Epoch 64/105\n",
      "103/103 [==============================] - 32s 309ms/step - loss: 0.0278 - accuracy: 0.9899 - val_loss: 0.0746 - val_accuracy: 0.9782\n",
      "\n",
      "Epoch 00064: val_loss did not improve from 0.04554\n",
      "Epoch 65/105\n",
      "103/103 [==============================] - 32s 312ms/step - loss: 0.0219 - accuracy: 0.9917 - val_loss: 0.0967 - val_accuracy: 0.9709\n",
      "\n",
      "Epoch 00065: val_loss did not improve from 0.04554\n",
      "Epoch 66/105\n",
      "103/103 [==============================] - 33s 316ms/step - loss: 0.0218 - accuracy: 0.9927 - val_loss: 0.0509 - val_accuracy: 0.9855\n",
      "\n",
      "Epoch 00066: val_loss did not improve from 0.04554\n",
      "Epoch 67/105\n",
      "103/103 [==============================] - 33s 317ms/step - loss: 0.0256 - accuracy: 0.9924 - val_loss: 0.0753 - val_accuracy: 0.9728\n",
      "\n",
      "Epoch 00067: val_loss did not improve from 0.04554\n",
      "Epoch 68/105\n",
      "103/103 [==============================] - 33s 316ms/step - loss: 0.0202 - accuracy: 0.9935 - val_loss: 0.0803 - val_accuracy: 0.9746\n",
      "\n",
      "Epoch 00068: val_loss did not improve from 0.04554\n",
      "Epoch 69/105\n",
      "103/103 [==============================] - 32s 315ms/step - loss: 0.0214 - accuracy: 0.9927 - val_loss: 0.0572 - val_accuracy: 0.9837\n",
      "\n",
      "Epoch 00069: val_loss did not improve from 0.04554\n",
      "Epoch 70/105\n",
      "103/103 [==============================] - 32s 307ms/step - loss: 0.0205 - accuracy: 0.9914 - val_loss: 0.0792 - val_accuracy: 0.9737\n",
      "\n",
      "Epoch 00070: val_loss did not improve from 0.04554\n",
      "Epoch 71/105\n",
      "103/103 [==============================] - 32s 309ms/step - loss: 0.0210 - accuracy: 0.9935 - val_loss: 0.0632 - val_accuracy: 0.9809\n",
      "\n",
      "Epoch 00071: val_loss did not improve from 0.04554\n",
      "Epoch 72/105\n",
      "103/103 [==============================] - 32s 313ms/step - loss: 0.0191 - accuracy: 0.9939 - val_loss: 0.1355 - val_accuracy: 0.9637\n",
      "\n",
      "Epoch 00072: val_loss did not improve from 0.04554\n",
      "Epoch 73/105\n",
      "103/103 [==============================] - 32s 310ms/step - loss: 0.0517 - accuracy: 0.9899 - val_loss: 0.0628 - val_accuracy: 0.9800\n",
      "\n",
      "Epoch 00073: val_loss did not improve from 0.04554\n",
      "Epoch 74/105\n",
      "103/103 [==============================] - 32s 312ms/step - loss: 0.0205 - accuracy: 0.9936 - val_loss: 0.0760 - val_accuracy: 0.9737\n",
      "\n",
      "Epoch 00074: val_loss did not improve from 0.04554\n",
      "Epoch 75/105\n",
      "103/103 [==============================] - 32s 308ms/step - loss: 0.0236 - accuracy: 0.9917 - val_loss: 0.0783 - val_accuracy: 0.9755\n",
      "\n",
      "Epoch 00075: val_loss did not improve from 0.04554\n",
      "Epoch 76/105\n",
      "103/103 [==============================] - 32s 310ms/step - loss: 0.0200 - accuracy: 0.9936 - val_loss: 0.0696 - val_accuracy: 0.9782\n",
      "\n",
      "Epoch 00076: val_loss did not improve from 0.04554\n",
      "Epoch 77/105\n",
      "103/103 [==============================] - 32s 312ms/step - loss: 0.0187 - accuracy: 0.9930 - val_loss: 0.0614 - val_accuracy: 0.9791\n",
      "\n",
      "Epoch 00077: val_loss did not improve from 0.04554\n",
      "Epoch 78/105\n",
      "103/103 [==============================] - 32s 307ms/step - loss: 0.0135 - accuracy: 0.9969 - val_loss: 0.0689 - val_accuracy: 0.9809\n",
      "\n",
      "Epoch 00078: val_loss did not improve from 0.04554\n",
      "Epoch 79/105\n",
      "103/103 [==============================] - 32s 310ms/step - loss: 0.0198 - accuracy: 0.9945 - val_loss: 0.0924 - val_accuracy: 0.9718\n",
      "\n",
      "Epoch 00079: val_loss did not improve from 0.04554\n",
      "Epoch 80/105\n",
      "103/103 [==============================] - 32s 310ms/step - loss: 0.0211 - accuracy: 0.9933 - val_loss: 0.0599 - val_accuracy: 0.9827\n",
      "\n",
      "Epoch 00080: val_loss did not improve from 0.04554\n",
      "Epoch 81/105\n",
      "103/103 [==============================] - 32s 313ms/step - loss: 0.0183 - accuracy: 0.9936 - val_loss: 0.0625 - val_accuracy: 0.9782\n",
      "\n",
      "Epoch 00081: val_loss did not improve from 0.04554\n",
      "Epoch 82/105\n",
      "103/103 [==============================] - 32s 309ms/step - loss: 0.0196 - accuracy: 0.9933 - val_loss: 0.0857 - val_accuracy: 0.9728\n",
      "\n",
      "Epoch 00082: val_loss did not improve from 0.04554\n",
      "Epoch 83/105\n",
      "103/103 [==============================] - 32s 306ms/step - loss: 0.0212 - accuracy: 0.9929 - val_loss: 0.0881 - val_accuracy: 0.9737\n",
      "\n",
      "Epoch 00083: val_loss did not improve from 0.04554\n",
      "Epoch 84/105\n",
      "103/103 [==============================] - 32s 310ms/step - loss: 0.0190 - accuracy: 0.9933 - val_loss: 0.0529 - val_accuracy: 0.9827\n",
      "\n",
      "Epoch 00084: val_loss did not improve from 0.04554\n",
      "Epoch 85/105\n",
      "103/103 [==============================] - 32s 308ms/step - loss: 0.0282 - accuracy: 0.9920 - val_loss: 0.0754 - val_accuracy: 0.9773\n",
      "\n",
      "Epoch 00085: val_loss did not improve from 0.04554\n",
      "Epoch 86/105\n",
      "103/103 [==============================] - 32s 312ms/step - loss: 0.0203 - accuracy: 0.9936 - val_loss: 0.0740 - val_accuracy: 0.9746\n",
      "\n",
      "Epoch 00086: val_loss did not improve from 0.04554\n",
      "Epoch 87/105\n",
      "103/103 [==============================] - 32s 307ms/step - loss: 0.0196 - accuracy: 0.9927 - val_loss: 0.0849 - val_accuracy: 0.9737\n",
      "\n",
      "Epoch 00087: val_loss did not improve from 0.04554\n",
      "Epoch 88/105\n",
      "103/103 [==============================] - 32s 309ms/step - loss: 0.0172 - accuracy: 0.9945 - val_loss: 0.0834 - val_accuracy: 0.9746\n",
      "\n",
      "Epoch 00088: val_loss did not improve from 0.04554\n",
      "Epoch 89/105\n",
      "103/103 [==============================] - 31s 301ms/step - loss: 0.0176 - accuracy: 0.9929 - val_loss: 0.0617 - val_accuracy: 0.9809\n",
      "\n",
      "Epoch 00089: val_loss did not improve from 0.04554\n",
      "Epoch 90/105\n",
      "103/103 [==============================] - 32s 315ms/step - loss: 0.0126 - accuracy: 0.9961 - val_loss: 0.0778 - val_accuracy: 0.9764\n",
      "\n",
      "Epoch 00090: val_loss did not improve from 0.04554\n",
      "Epoch 91/105\n",
      "103/103 [==============================] - 32s 306ms/step - loss: 0.0131 - accuracy: 0.9954 - val_loss: 0.0709 - val_accuracy: 0.9791\n",
      "\n",
      "Epoch 00091: val_loss did not improve from 0.04554\n",
      "Epoch 92/105\n",
      "103/103 [==============================] - 33s 318ms/step - loss: 0.0118 - accuracy: 0.9964 - val_loss: 0.0756 - val_accuracy: 0.9764\n",
      "\n",
      "Epoch 00092: val_loss did not improve from 0.04554\n",
      "Epoch 93/105\n",
      "103/103 [==============================] - 32s 308ms/step - loss: 0.0132 - accuracy: 0.9951 - val_loss: 0.0567 - val_accuracy: 0.9846\n",
      "\n",
      "Epoch 00093: val_loss did not improve from 0.04554\n",
      "Epoch 94/105\n",
      "103/103 [==============================] - 32s 312ms/step - loss: 0.0160 - accuracy: 0.9945 - val_loss: 0.0881 - val_accuracy: 0.9691\n",
      "\n",
      "Epoch 00094: val_loss did not improve from 0.04554\n",
      "Epoch 95/105\n",
      "103/103 [==============================] - 32s 315ms/step - loss: 0.0149 - accuracy: 0.9948 - val_loss: 0.0628 - val_accuracy: 0.9809\n",
      "\n",
      "Epoch 00095: val_loss did not improve from 0.04554\n",
      "Epoch 96/105\n",
      "103/103 [==============================] - 32s 311ms/step - loss: 0.0141 - accuracy: 0.9957 - val_loss: 0.0582 - val_accuracy: 0.9837\n",
      "\n",
      "Epoch 00096: val_loss did not improve from 0.04554\n",
      "Epoch 97/105\n",
      "103/103 [==============================] - 32s 313ms/step - loss: 0.0120 - accuracy: 0.9963 - val_loss: 0.0674 - val_accuracy: 0.9791\n",
      "\n",
      "Epoch 00097: val_loss did not improve from 0.04554\n",
      "Epoch 98/105\n",
      "103/103 [==============================] - 32s 313ms/step - loss: 0.0126 - accuracy: 0.9960 - val_loss: 0.0591 - val_accuracy: 0.9837\n",
      "\n",
      "Epoch 00098: val_loss did not improve from 0.04554\n",
      "Epoch 99/105\n",
      "103/103 [==============================] - 32s 313ms/step - loss: 0.0106 - accuracy: 0.9969 - val_loss: 0.0755 - val_accuracy: 0.9773\n",
      "\n",
      "Epoch 00099: val_loss did not improve from 0.04554\n",
      "Epoch 100/105\n",
      "103/103 [==============================] - 32s 308ms/step - loss: 0.0088 - accuracy: 0.9969 - val_loss: 0.0703 - val_accuracy: 0.9809\n",
      "\n",
      "Epoch 00100: val_loss did not improve from 0.04554\n",
      "Epoch 101/105\n",
      "103/103 [==============================] - 32s 311ms/step - loss: 0.0147 - accuracy: 0.9948 - val_loss: 0.0740 - val_accuracy: 0.9764\n",
      "\n",
      "Epoch 00101: val_loss did not improve from 0.04554\n",
      "Epoch 102/105\n",
      "103/103 [==============================] - 32s 315ms/step - loss: 0.0121 - accuracy: 0.9948 - val_loss: 0.0709 - val_accuracy: 0.9800\n",
      "\n",
      "Epoch 00102: val_loss did not improve from 0.04554\n",
      "Epoch 103/105\n",
      "103/103 [==============================] - 32s 314ms/step - loss: 0.0170 - accuracy: 0.9936 - val_loss: 0.0632 - val_accuracy: 0.9837\n",
      "\n",
      "Epoch 00103: val_loss did not improve from 0.04554\n",
      "Epoch 104/105\n",
      "103/103 [==============================] - 32s 312ms/step - loss: 0.0106 - accuracy: 0.9969 - val_loss: 0.0665 - val_accuracy: 0.9818\n",
      "\n",
      "Epoch 00104: val_loss did not improve from 0.04554\n",
      "Epoch 105/105\n",
      "103/103 [==============================] - 32s 312ms/step - loss: 0.0145 - accuracy: 0.9942 - val_loss: 0.0787 - val_accuracy: 0.9773\n",
      "\n",
      "Epoch 00105: val_loss did not improve from 0.04554\n"
     ]
    }
   ],
   "source": [
    "\n",
    "H = model.fit_generator(\n",
    "    aug.flow(train_x,train_y, batch_size = 32),\n",
    "             validation_data = (test_x,test_y),\n",
    "             epochs=num_of_epochs,\n",
    "             steps_per_epoch = len(train_x) //32,\n",
    "             verbose = 1,\n",
    "             callbacks=callbacks)"
   ]
  },
  {
   "cell_type": "markdown",
   "metadata": {},
   "source": [
    "# Save model"
   ]
  },
  {
   "cell_type": "code",
   "execution_count": 14,
   "metadata": {},
   "outputs": [],
   "source": [
    "model.save(model_save_path)"
   ]
  },
  {
   "cell_type": "markdown",
   "metadata": {},
   "source": [
    "# Evaluate with 20%"
   ]
  },
  {
   "cell_type": "code",
   "execution_count": 15,
   "metadata": {},
   "outputs": [
    {
     "name": "stdout",
     "output_type": "stream",
     "text": [
      "[INFO] evaluating after initialization...\n",
      "                    precision    recall  f1-score   support\n",
      "\n",
      "         ___Appids     0.9603    0.9959    0.9778       243\n",
      "___Curly_top_virus     0.9604    0.8899    0.9238       109\n",
      "   ___Early_blight     0.9845    0.9794    0.9819       388\n",
      "     ___Leaf_miner     0.9862    0.9889    0.9876       361\n",
      "\n",
      "          accuracy                         0.9773      1101\n",
      "         macro avg     0.9728    0.9635    0.9678      1101\n",
      "      weighted avg     0.9773    0.9773    0.9771      1101\n",
      "\n"
     ]
    }
   ],
   "source": [
    "from sklearn.metrics import classification_report\n",
    "\n",
    "print(\"[INFO] evaluating after initialization...\")\n",
    "predictions = model.predict(test_x,batch_size=batch_size)\n",
    "\n",
    "print(classification_report(test_y.argmax(axis =1),\n",
    "                            predictions.argmax(axis =1),\n",
    "                            target_names=class_names, \n",
    "                            digits=4))"
   ]
  },
  {
   "cell_type": "code",
   "execution_count": 16,
   "metadata": {},
   "outputs": [
    {
     "name": "stdout",
     "output_type": "stream",
     "text": [
      "1101/1101 [==============================] - 6s 5ms/step\n",
      "accuracy : 97.7293\n"
     ]
    }
   ],
   "source": [
    "ev = model.evaluate(test_x, test_y)\n",
    "acc = ev[1] * 100\n",
    "print('accuracy : ' +  str(\"%.4f\" % round(acc, 4)))"
   ]
  },
  {
   "cell_type": "code",
   "execution_count": 17,
   "metadata": {},
   "outputs": [
    {
     "data": {
      "image/png": "[encoded data removed]",
      "text/plain": [
       "<Figure size 432x288 with 2 Axes>"
      ]
     },
     "metadata": {},
     "output_type": "display_data"
    }
   ],
   "source": [
    "from sklearn.metrics import confusion_matrix\n",
    "import seaborn as sn\n",
    "import pandas as pd\n",
    "import matplotlib.pyplot as plt\n",
    "\n",
    "class_names = ['Early Blight', 'Aphids', 'Leaf miner', 'Curly top virus']\n",
    "\n",
    "matrix = confusion_matrix(test_y.argmax(axis=1), predictions.argmax(axis=1))\n",
    "matrix_normalized = matrix.astype('float') / matrix.sum(axis=1)[:, np.newaxis]\n",
    "\n",
    "df_cm = pd.DataFrame(matrix_normalized, range(len(class_names)), range(len(class_names)))\n",
    "# plt.figure(figsize=(10,7))\n",
    "sn.set(font_scale=1.4) # for label size\n",
    "sn.heatmap(df_cm, annot=True, annot_kws={\"size\": 16}, xticklabels=class_names, yticklabels=class_names) # font size\n",
    "\n",
    "\n",
    "# Add axis labels\n",
    "plt.ylabel('True')\n",
    "plt.xlabel('Predicted')\n",
    "plt.show()\n",
    "\n",
    "# x is predicted\n",
    "# y is true"
   ]
  },
  {
   "cell_type": "markdown",
   "metadata": {},
   "source": [
    "# Evaluate with validation images"
   ]
  },
  {
   "cell_type": "code",
   "execution_count": 18,
   "metadata": {},
   "outputs": [],
   "source": [
    "class_paths_validation = ['../datasets/validation/___Early_blight', '../datasets/validation/___Appids', '../datasets/validation/___Leaf_miner', '../datasets/self/___Curly_top_virus']"
   ]
  },
  {
   "cell_type": "code",
   "execution_count": 19,
   "metadata": {},
   "outputs": [
    {
     "name": "stdout",
     "output_type": "stream",
     "text": [
      "[INFO] loading images...\n",
      "[INFO]: Processed 500/599\n",
      "[INFO] evaluating with validation set...\n",
      "                    precision    recall  f1-score   support\n",
      "\n",
      "         ___Appids     0.6000    0.6000    0.6000         5\n",
      "___Curly_top_virus     0.9821    0.9821    0.9821       112\n",
      "   ___Early_blight     0.6471    0.9167    0.7586        12\n",
      "     ___Leaf_miner     1.0000    0.7619    0.8649        21\n",
      "\n",
      "          accuracy                         0.9333       150\n",
      "         macro avg     0.8073    0.8152    0.8014       150\n",
      "      weighted avg     0.9451    0.9333    0.9351       150\n",
      "\n"
     ]
    }
   ],
   "source": [
    "(train_x,test_x,train_y,test_y, class_names) = load_datasets(class_paths_validation)\n",
    "\n",
    "from sklearn.metrics import classification_report\n",
    "\n",
    "print(\"[INFO] evaluating with validation set...\")\n",
    "predictions = model.predict(test_x,batch_size=batch_size)\n",
    "\n",
    "print(classification_report(test_y.argmax(axis =1),\n",
    "                            predictions.argmax(axis =1),\n",
    "                            target_names=class_names, \n",
    "                            digits=4))"
   ]
  },
  {
   "cell_type": "code",
   "execution_count": 20,
   "metadata": {},
   "outputs": [
    {
     "name": "stdout",
     "output_type": "stream",
     "text": [
      "150/150 [==============================] - 1s 5ms/step\n",
      "accuracy : 93.3333\n"
     ]
    }
   ],
   "source": [
    "ev = model.evaluate(test_x, test_y)\n",
    "acc = ev[1] * 100\n",
    "print('accuracy : ' +  str(\"%.4f\" % round(acc, 4)))"
   ]
  },
  {
   "cell_type": "code",
   "execution_count": 22,
   "metadata": {},
   "outputs": [
    {
     "data": {
      "image/png": "[encoded data removed]",
      "text/plain": [
       "<Figure size 432x288 with 2 Axes>"
      ]
     },
     "metadata": {},
     "output_type": "display_data"
    }
   ],
   "source": [
    "from sklearn.metrics import confusion_matrix\n",
    "import seaborn as sn\n",
    "import pandas as pd\n",
    "import matplotlib.pyplot as plt\n",
    "\n",
    "class_names = ['Aphids', 'CTV', 'Early blight', 'Leaf miner']\n",
    "\n",
    "matrix = confusion_matrix(test_y.argmax(axis=1), predictions.argmax(axis=1))\n",
    "matrix_normalized = matrix.astype('float') / matrix.sum(axis=1)[:, np.newaxis]\n",
    "\n",
    "df_cm = pd.DataFrame(matrix_normalized, range(len(class_names)), range(len(class_names)))\n",
    "# plt.figure(figsize=(10,7))\n",
    "sn.set(font_scale=1.4) # for label size\n",
    "sn.heatmap(df_cm, annot=True, annot_kws={\"size\": 16}, xticklabels=class_names, yticklabels=class_names) # font size\n",
    "\n",
    "\n",
    "# Add axis labels\n",
    "plt.ylabel('True')\n",
    "plt.xlabel('Predicted')\n",
    "plt.show()\n",
    "\n",
    "# x is predicted\n",
    "# y is true"
   ]
  },
  {
   "cell_type": "code",
   "execution_count": null,
   "metadata": {},
   "outputs": [],
   "source": []
  }
 ],
 "metadata": {
  "environment": {
   "name": "tf2-gpu.2-1.m47",
   "type": "gcloud",
   "uri": "gcr.io/deeplearning-platform-release/tf2-gpu.2-1:m47"
  },
  "file_extension": ".py",
  "kernelspec": {
   "display_name": "Python 3",
   "language": "python",
   "name": "python3"
  },
  "language_info": {
   "codemirror_mode": {
    "name": "ipython",
    "version": 3
   },
   "file_extension": ".py",
   "mimetype": "text/x-python",
   "name": "python",
   "nbconvert_exporter": "python",
   "pygments_lexer": "ipython3",
   "version": "3.7.6"
  },
  "mimetype": "text/x-python",
  "name": "python",
  "npconvert_exporter": "python",
  "pygments_lexer": "ipython3",
  "version": 3
 },
 "nbformat": 4,
 "nbformat_minor": 4
}

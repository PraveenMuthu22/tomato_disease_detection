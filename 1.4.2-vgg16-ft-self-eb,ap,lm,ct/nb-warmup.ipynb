{
 "cells": [
  {
   "cell_type": "markdown",
   "metadata": {},
   "source": [
    "\n",
    "# Arguments"
   ]
  },
  {
   "cell_type": "code",
   "execution_count": 1,
   "metadata": {},
   "outputs": [],
   "source": [
    "# vgg16-ft-pv-self-eb,ap,lm,ct\n",
    "batch_size = 32\n",
    "dataset_path_plantvillage = '../datasets/plantvillage'\n",
    "dataset_path_self = '../datasets/self'\n",
    "dataset_path_validation = '../datasets/validation'\n",
    "\n",
    "dataset_paths = [dataset_path_plantvillage, dataset_path_self, dataset_path_validation]\n",
    "\n",
    "model_save_path = 'model-warmup.h5'\n",
    "\n",
    "checkpoint_path = 'checkpoints-warmup.hdf5'\n",
    "\n",
    "input_width = 224\n",
    "input_height = 224\n",
    "input_depth = 3\n",
    "\n",
    "# --------------------------------------------------\n",
    "num_of_epochs = 25\n",
    "start_epoch = 0\n",
    "# --------------------------------------------------"
   ]
  },
  {
   "cell_type": "markdown",
   "metadata": {},
   "source": [
    "# Print class names"
   ]
  },
  {
   "cell_type": "code",
   "execution_count": 2,
   "metadata": {},
   "outputs": [
    {
     "name": "stdout",
     "output_type": "stream",
     "text": [
      "['___Late_blight', '___Early_blight', '___Two-spotted_spider_mite', '___Yellow_Leaf_Curl_Virus', '___Leaf_Mold', '___Septoria_leaf_spot', '___healthy', '___Mosaic_Virus', '___Target_Spot', '___Bacterial_spot', '___Curly_top_virus', '___Leaf_miner', '___Appids']\n",
      "\n",
      "PlantVillage\n",
      "['../datasets/plantvillage/___Late_blight', '../datasets/plantvillage/___Early_blight', '../datasets/plantvillage/___Two-spotted_spider_mite', '../datasets/plantvillage/___Yellow_Leaf_Curl_Virus', '../datasets/plantvillage/___Leaf_Mold', '../datasets/plantvillage/___Septoria_leaf_spot', '../datasets/plantvillage/___healthy', '../datasets/plantvillage/___Mosaic_Virus', '../datasets/plantvillage/___Target_Spot', '../datasets/plantvillage/___Bacterial_spot']\n",
      "10\n",
      "\n",
      "Self\n",
      "['../datasets/self/___Early_blight', '../datasets/self/___Curly_top_virus', '../datasets/self/___Leaf_miner', '../datasets/self/___Appids']\n",
      "4\n",
      "\n",
      "Validation\n",
      "['../datasets/validation/___Late_blight', '../datasets/validation/___Early_blight', '../datasets/validation/___Two-spotted_spider_mite', '../datasets/validation/___Yellow_Leaf_Curl_Virus', '../datasets/validation/___Leaf_Mold', '../datasets/validation/___Septoria_leaf_spot', '../datasets/validation/___Curly_top_virus', '../datasets/validation/___Leaf_miner', '../datasets/validation/___healthy', '../datasets/validation/___Appids', '../datasets/validation/___Mosaic_Virus', '../datasets/validation/___Target_Spot', '../datasets/validation/___Bacterial_spot']\n",
      "13\n"
     ]
    }
   ],
   "source": [
    "# Get classes\n",
    "import os\n",
    "import re\n",
    "\n",
    "class_names = []\n",
    "class_paths_plant_village = []\n",
    "class_paths_plant_self = []\n",
    "class_paths_plant_validation = []\n",
    "\n",
    "for path in dataset_paths:\n",
    "    classes = os.listdir(path)\n",
    "    for i in classes:\n",
    "        if(re.search('___', i)):\n",
    "            if(i not in class_names):\n",
    "                class_names.append(i)\n",
    "            if(re.search('plantvillage', path)):\n",
    "                class_paths_plant_village.append(path + '/' + i)\n",
    "            elif(re.search('self', path)):\n",
    "                class_paths_plant_self.append(path + '/' + i)\n",
    "            else:\n",
    "                class_paths_plant_validation.append(path + '/' + i)\n",
    "\n",
    "print(class_names)   \n",
    "print()\n",
    "print('PlantVillage')\n",
    "print(class_paths_plant_village) \n",
    "print(len(class_paths_plant_village))\n",
    "print()\n",
    "print('Self')\n",
    "print(class_paths_plant_self) \n",
    "print(len(class_paths_plant_self))\n",
    "print()\n",
    "print('Validation')\n",
    "print(class_paths_plant_validation) \n",
    "print(len(class_paths_plant_validation))"
   ]
  },
  {
   "cell_type": "markdown",
   "metadata": {},
   "source": [
    "# Select training classes\n",
    "\n",
    "early blight in plantVillage dataset replaced by self one"
   ]
  },
  {
   "cell_type": "code",
   "execution_count": 3,
   "metadata": {},
   "outputs": [],
   "source": [
    "class_paths_training = ['../datasets/self/___Early_blight', '../datasets/self/___Appids', '../datasets/self/___Leaf_miner', '../datasets/self/___Curly_top_virus']"
   ]
  },
  {
   "cell_type": "markdown",
   "metadata": {},
   "source": [
    "# Load dataset"
   ]
  },
  {
   "cell_type": "code",
   "execution_count": 4,
   "metadata": {},
   "outputs": [
    {
     "name": "stderr",
     "output_type": "stream",
     "text": [
      "Using TensorFlow backend.\n"
     ]
    },
    {
     "name": "stdout",
     "output_type": "stream",
     "text": [
      "[INFO] loading images...\n",
      "[INFO]: Processed 500/4401\n",
      "[INFO]: Processed 1000/4401\n",
      "[INFO]: Processed 1500/4401\n",
      "[INFO]: Processed 2000/4401\n",
      "[INFO]: Processed 2500/4401\n",
      "[INFO]: Processed 3000/4401\n",
      "[INFO]: Processed 3500/4401\n",
      "[INFO]: Processed 4000/4401\n"
     ]
    }
   ],
   "source": [
    "from sklearn.preprocessing import LabelBinarizer\n",
    "from sklearn.model_selection import train_test_split\n",
    "from sklearn.metrics import classification_report\n",
    "from keras.preprocessing.image   import ImageDataGenerator\n",
    "from keras.optimizers import RMSprop\n",
    "from keras.layers import Input\n",
    "from keras.models import Model\n",
    "from keras .applications import VGG16\n",
    "from keras.optimizers import SGD\n",
    "from keras.models import Model\n",
    "from imutils import paths\n",
    "import numpy as np\n",
    "import os\n",
    "\n",
    "import sys\n",
    "sys.path.append('..')\n",
    "\n",
    "from utils.preprocessors.resize_image_preprocessor import resizeImagePreprocessor\n",
    "from utils.preprocessors.img_to_array_preprocessor import ImgToArrayPreprocessor\n",
    "from utils.io.dataset_loader import DatasetLoader\n",
    "\n",
    "# construct the image generator for data augmentation\n",
    "aug = ImageDataGenerator(   rotation_range=30,\n",
    "                            width_shift_range=0.1,\n",
    "                            height_shift_range=0.1,\n",
    "                            shear_range=0.2,\n",
    "                            zoom_range=0.2,\n",
    "                            horizontal_flip=True,\n",
    "                            fill_mode='nearest')\n",
    "\n",
    "def load_datasets(path_list):\n",
    "    # Load image paths\n",
    "    image_paths = []\n",
    "    print(\"[INFO] loading images...\")\n",
    "    for path in path_list:\n",
    "        image_paths.extend(list(paths.list_images(path)))\n",
    "        \n",
    "    # Get unique classnames\n",
    "\n",
    "    class_names = [pt.split(os.path.sep)[-2] for pt in image_paths]\n",
    "    class_names = [str(x) for x in np.unique(class_names)]\n",
    "\n",
    "    # Initial image preprocessing\n",
    "    aap = resizeImagePreprocessor(input_width, input_height)\n",
    "    iap= ImgToArrayPreprocessor()\n",
    "\n",
    "    #Load image data and perform image data preprocessing\n",
    "    dl = DatasetLoader(preprocessors=[aap,iap])\n",
    "    (data,labels)  = dl.load(image_paths,verbose=500)\n",
    "    data = data.astype(\"float\") / 255.0\n",
    "\n",
    "\n",
    "    # train test split\n",
    "    (train_x,test_x,train_y,test_y) = train_test_split(data,labels,test_size=0.25,random_state=42)\n",
    "\n",
    "    # convert the labels from integers to vectors\n",
    "    train_y = LabelBinarizer().fit_transform(train_y)\n",
    "    test_y = LabelBinarizer().fit_transform(test_y)\n",
    "    \n",
    "    return (train_x,test_x,train_y,test_y, class_names)\n",
    "\n",
    "(train_x,test_x,train_y,test_y, class_names) = load_datasets(class_paths_training)"
   ]
  },
  {
   "cell_type": "markdown",
   "metadata": {},
   "source": [
    "\n",
    "# Load model"
   ]
  },
  {
   "cell_type": "code",
   "execution_count": 5,
   "metadata": {},
   "outputs": [
    {
     "name": "stdout",
     "output_type": "stream",
     "text": [
      "Downloading data from https://github.com/fchollet/deep-learning-models/releases/download/v0.1/vgg16_weights_tf_dim_ordering_tf_kernels_notop.h5\n",
      "58892288/58889256 [==============================] - 91s 2us/step\n"
     ]
    }
   ],
   "source": [
    "from keras.applications import VGG16\n",
    "from keras.utils.vis_utils import plot_model\n",
    "from keras.layers import Input\n",
    "\n",
    "\n",
    "\n",
    "# Load pretrianed VGG model with FC layers removed\n",
    "# explicitly deﬁne the input_tensor to be 224×224×3 pixels\n",
    "base_model = VGG16(weights='imagenet',include_top=False,\n",
    "                  input_tensor=Input(shape = (input_width,input_height, input_depth)))\n",
    "\n",
    "# plot_save_path = 'diagram-base-vgg16.png'\n",
    "# plot_model(base_model, to_file=model_diagram_path, show_shapes=True)"
   ]
  },
  {
   "cell_type": "markdown",
   "metadata": {},
   "source": [
    "# Custom FC layer"
   ]
  },
  {
   "cell_type": "code",
   "execution_count": 6,
   "metadata": {},
   "outputs": [],
   "source": [
    "from keras.layers.core import Dropout\n",
    "from keras.layers.core import Flatten\n",
    "from keras.layers.core import Dense\n",
    "\n",
    "head_model = base_model.output\n",
    "head_model = Flatten(name='flatten')(head_model)\n",
    "head_model = Dense(256,activation='relu')(head_model)\n",
    "head_model = Dropout(0.5)(head_model)\n",
    "# Add a softmaxc layer\n",
    "head_model = Dense(len(class_names),activation='softmax')(head_model)\n",
    "\n",
    "# plot_save_path = 'custom-head.png'\n",
    "# plot_model(head_model, to_file=model_diagram_path, show_shapes=True)"
   ]
  },
  {
   "cell_type": "markdown",
   "metadata": {},
   "source": [
    "# Attach custom head to model"
   ]
  },
  {
   "cell_type": "code",
   "execution_count": 7,
   "metadata": {},
   "outputs": [],
   "source": [
    "from keras.models import Model\n",
    "\n",
    "\n",
    "# place the head FC model on top of the base model \n",
    "model = Model(inputs=base_model.input, outputs = head_model)\n",
    "\n",
    "# freeze weights in base model\n",
    "for layer in base_model.layers:\n",
    "    layer.trainable = False\n",
    "\n",
    "# plot_save_path = 'diagram-vgg16-head-attached.png'\n",
    "# plot_model(model, to_file=model_diagram_path, show_shapes=True)"
   ]
  },
  {
   "cell_type": "markdown",
   "metadata": {},
   "source": [
    "# Freeze base model"
   ]
  },
  {
   "cell_type": "code",
   "execution_count": 8,
   "metadata": {},
   "outputs": [],
   "source": [
    "# traverse all layers and freeze the weight of the corresponding layer\n",
    "for layer in base_model.layers:\n",
    "    layer.trainable = False"
   ]
  },
  {
   "cell_type": "markdown",
   "metadata": {},
   "source": [
    "# Compile model"
   ]
  },
  {
   "cell_type": "code",
   "execution_count": 9,
   "metadata": {},
   "outputs": [
    {
     "name": "stdout",
     "output_type": "stream",
     "text": [
      "[INFO] re-compiling model ...\n"
     ]
    }
   ],
   "source": [
    "from keras.optimizers import SGD\n",
    "\n",
    "# Build the model from the new\n",
    "print(\"[INFO] re-compiling model ...\")\n",
    "opt = SGD(lr=0.001, momentum=0.09)\n",
    "\n",
    "model.compile(loss=\"categorical_crossentropy\", optimizer=opt,metrics=[\"accuracy\"])\n",
    "# Since we only train the new fully connected layer, we do a few iterations"
   ]
  },
  {
   "cell_type": "markdown",
   "metadata": {},
   "source": [
    "# Checkpoints"
   ]
  },
  {
   "cell_type": "code",
   "execution_count": 10,
   "metadata": {},
   "outputs": [],
   "source": [
    "from keras.callbacks import ModelCheckpoint\n",
    "\n",
    "\n",
    "checkpoint = ModelCheckpoint(checkpoint_path, monitor='val_loss', mode='min', \n",
    "save_best_only=True, verbose=1)\n",
    "\n",
    "callbacks = [checkpoint]\n",
    "\n"
   ]
  },
  {
   "cell_type": "code",
   "execution_count": 11,
   "metadata": {},
   "outputs": [],
   "source": [
    "#load checkpoints if existing\n",
    "\n",
    "import os\n",
    "\n",
    "if(os.path.exists(checkpoint_path)):\n",
    "    model.load_weights(checkpoint_path)"
   ]
  },
  {
   "cell_type": "markdown",
   "metadata": {},
   "source": [
    "# Training monitor"
   ]
  },
  {
   "cell_type": "code",
   "execution_count": 12,
   "metadata": {},
   "outputs": [],
   "source": [
    "from utils.callbacks.monitor import Monitor\n",
    "import pathlib\n",
    "import json\n",
    "import os\n",
    "\n",
    "fig_path = \"plot\"\n",
    "json_path = \"values.json\"\n",
    "values_path = 'values.json'\n",
    "\n",
    "callbacks.append(Monitor(fig_path, json_path, start_epoch))"
   ]
  },
  {
   "cell_type": "markdown",
   "metadata": {},
   "source": [
    "# Warm up head"
   ]
  },
  {
   "cell_type": "code",
   "execution_count": 13,
   "metadata": {},
   "outputs": [
    {
     "name": "stdout",
     "output_type": "stream",
     "text": [
      "Epoch 1/25\n",
      "103/103 [==============================] - 39s 377ms/step - loss: 1.2440 - accuracy: 0.4458 - val_loss: 0.9557 - val_accuracy: 0.7375\n",
      "\n",
      "Epoch 00001: val_loss improved from inf to 0.95568, saving model to checkpoints-warmup.hdf5\n",
      "Epoch 2/25\n",
      "103/103 [==============================] - 34s 333ms/step - loss: 0.9942 - accuracy: 0.6092 - val_loss: 0.7995 - val_accuracy: 0.7003\n",
      "\n",
      "Epoch 00002: val_loss improved from 0.95568 to 0.79955, saving model to checkpoints-warmup.hdf5\n",
      "Epoch 3/25\n",
      "103/103 [==============================] - 34s 329ms/step - loss: 0.8583 - accuracy: 0.6613 - val_loss: 0.6525 - val_accuracy: 0.7856\n",
      "\n",
      "Epoch 00003: val_loss improved from 0.79955 to 0.65250, saving model to checkpoints-warmup.hdf5\n",
      "Epoch 4/25\n",
      "103/103 [==============================] - 34s 329ms/step - loss: 0.7687 - accuracy: 0.7096 - val_loss: 0.6032 - val_accuracy: 0.8193\n",
      "\n",
      "Epoch 00004: val_loss improved from 0.65250 to 0.60325, saving model to checkpoints-warmup.hdf5\n",
      "Epoch 5/25\n",
      "103/103 [==============================] - 34s 330ms/step - loss: 0.6984 - accuracy: 0.7506 - val_loss: 0.4958 - val_accuracy: 0.8456\n",
      "\n",
      "Epoch 00005: val_loss improved from 0.60325 to 0.49584, saving model to checkpoints-warmup.hdf5\n",
      "Epoch 6/25\n",
      "103/103 [==============================] - 34s 333ms/step - loss: 0.6574 - accuracy: 0.7681 - val_loss: 0.4591 - val_accuracy: 0.8765\n",
      "\n",
      "Epoch 00006: val_loss improved from 0.49584 to 0.45910, saving model to checkpoints-warmup.hdf5\n",
      "Epoch 7/25\n",
      "103/103 [==============================] - 34s 327ms/step - loss: 0.6005 - accuracy: 0.7861 - val_loss: 0.4383 - val_accuracy: 0.8656\n",
      "\n",
      "Epoch 00007: val_loss improved from 0.45910 to 0.43828, saving model to checkpoints-warmup.hdf5\n",
      "Epoch 8/25\n",
      "103/103 [==============================] - 34s 328ms/step - loss: 0.5834 - accuracy: 0.7913 - val_loss: 0.5021 - val_accuracy: 0.8247\n",
      "\n",
      "Epoch 00008: val_loss did not improve from 0.43828\n",
      "Epoch 9/25\n",
      "103/103 [==============================] - 34s 327ms/step - loss: 0.5371 - accuracy: 0.8109 - val_loss: 0.4214 - val_accuracy: 0.8556\n",
      "\n",
      "Epoch 00009: val_loss improved from 0.43828 to 0.42144, saving model to checkpoints-warmup.hdf5\n",
      "Epoch 10/25\n",
      "103/103 [==============================] - 33s 321ms/step - loss: 0.5076 - accuracy: 0.8198 - val_loss: 0.3522 - val_accuracy: 0.8955\n",
      "\n",
      "Epoch 00010: val_loss improved from 0.42144 to 0.35223, saving model to checkpoints-warmup.hdf5\n",
      "Epoch 11/25\n",
      "103/103 [==============================] - 33s 319ms/step - loss: 0.4971 - accuracy: 0.8268 - val_loss: 0.3696 - val_accuracy: 0.8656\n",
      "\n",
      "Epoch 00011: val_loss did not improve from 0.35223\n",
      "Epoch 12/25\n",
      "103/103 [==============================] - 33s 322ms/step - loss: 0.4644 - accuracy: 0.8427 - val_loss: 0.3544 - val_accuracy: 0.8728\n",
      "\n",
      "Epoch 00012: val_loss did not improve from 0.35223\n",
      "Epoch 13/25\n",
      "103/103 [==============================] - 33s 323ms/step - loss: 0.4338 - accuracy: 0.8458 - val_loss: 0.3346 - val_accuracy: 0.8801\n",
      "\n",
      "Epoch 00013: val_loss improved from 0.35223 to 0.33460, saving model to checkpoints-warmup.hdf5\n",
      "Epoch 14/25\n",
      "103/103 [==============================] - 33s 321ms/step - loss: 0.4546 - accuracy: 0.8384 - val_loss: 0.3104 - val_accuracy: 0.8919\n",
      "\n",
      "Epoch 00014: val_loss improved from 0.33460 to 0.31043, saving model to checkpoints-warmup.hdf5\n",
      "Epoch 15/25\n",
      "103/103 [==============================] - 33s 316ms/step - loss: 0.4211 - accuracy: 0.8537 - val_loss: 0.3350 - val_accuracy: 0.8756\n",
      "\n",
      "Epoch 00015: val_loss did not improve from 0.31043\n",
      "Epoch 16/25\n",
      "103/103 [==============================] - 33s 316ms/step - loss: 0.4089 - accuracy: 0.8543 - val_loss: 0.2965 - val_accuracy: 0.9037\n",
      "\n",
      "Epoch 00016: val_loss improved from 0.31043 to 0.29645, saving model to checkpoints-warmup.hdf5\n",
      "Epoch 17/25\n",
      "103/103 [==============================] - 33s 319ms/step - loss: 0.3879 - accuracy: 0.8675 - val_loss: 0.2840 - val_accuracy: 0.9001\n",
      "\n",
      "Epoch 00017: val_loss improved from 0.29645 to 0.28404, saving model to checkpoints-warmup.hdf5\n",
      "Epoch 18/25\n",
      "103/103 [==============================] - 32s 315ms/step - loss: 0.3950 - accuracy: 0.8623 - val_loss: 0.2721 - val_accuracy: 0.9037\n",
      "\n",
      "Epoch 00018: val_loss improved from 0.28404 to 0.27210, saving model to checkpoints-warmup.hdf5\n",
      "Epoch 19/25\n",
      "103/103 [==============================] - 33s 316ms/step - loss: 0.3749 - accuracy: 0.8693 - val_loss: 0.2546 - val_accuracy: 0.9146\n",
      "\n",
      "Epoch 00019: val_loss improved from 0.27210 to 0.25462, saving model to checkpoints-warmup.hdf5\n",
      "Epoch 20/25\n",
      "103/103 [==============================] - 32s 310ms/step - loss: 0.3740 - accuracy: 0.8779 - val_loss: 0.2696 - val_accuracy: 0.9055\n",
      "\n",
      "Epoch 00020: val_loss did not improve from 0.25462\n",
      "Epoch 21/25\n",
      "103/103 [==============================] - 32s 310ms/step - loss: 0.3679 - accuracy: 0.8770 - val_loss: 0.2634 - val_accuracy: 0.9128\n",
      "\n",
      "Epoch 00021: val_loss did not improve from 0.25462\n",
      "Epoch 22/25\n",
      "103/103 [==============================] - 32s 311ms/step - loss: 0.3496 - accuracy: 0.8774 - val_loss: 0.2528 - val_accuracy: 0.9146\n",
      "\n",
      "Epoch 00022: val_loss improved from 0.25462 to 0.25283, saving model to checkpoints-warmup.hdf5\n",
      "Epoch 23/25\n",
      "103/103 [==============================] - 35s 342ms/step - loss: 0.3592 - accuracy: 0.8840 - val_loss: 0.2363 - val_accuracy: 0.9192\n",
      "\n",
      "Epoch 00023: val_loss improved from 0.25283 to 0.23630, saving model to checkpoints-warmup.hdf5\n",
      "Epoch 24/25\n",
      "103/103 [==============================] - 32s 308ms/step - loss: 0.3493 - accuracy: 0.8779 - val_loss: 0.2342 - val_accuracy: 0.9192\n",
      "\n",
      "Epoch 00024: val_loss improved from 0.23630 to 0.23423, saving model to checkpoints-warmup.hdf5\n",
      "Epoch 25/25\n",
      "103/103 [==============================] - 32s 308ms/step - loss: 0.3246 - accuracy: 0.8908 - val_loss: 0.2606 - val_accuracy: 0.9074\n",
      "\n",
      "Epoch 00025: val_loss did not improve from 0.23423\n"
     ]
    }
   ],
   "source": [
    "model.fit_generator(\n",
    "    aug.flow(train_x,train_y, batch_size = batch_size),\n",
    "             validation_data = (test_x,test_y),\n",
    "             epochs=num_of_epochs,\n",
    "             steps_per_epoch = len(train_x) //32,\n",
    "             verbose = 1,\n",
    "             callbacks=callbacks)\n",
    "\n",
    "model.save(model_save_path)"
   ]
  },
  {
   "cell_type": "markdown",
   "metadata": {},
   "source": [
    "# Evaluate with 20% test set from same dataset"
   ]
  },
  {
   "cell_type": "code",
   "execution_count": 14,
   "metadata": {},
   "outputs": [
    {
     "name": "stdout",
     "output_type": "stream",
     "text": [
      "[INFO] evaluating with test set...\n",
      "                    precision    recall  f1-score   support\n",
      "\n",
      "         ___Appids       0.88      0.99      0.93       243\n",
      "___Curly_top_virus       0.89      0.68      0.77       109\n",
      "   ___Early_blight       0.98      0.86      0.91       388\n",
      "     ___Leaf_miner       0.87      0.98      0.92       361\n",
      "\n",
      "          accuracy                           0.91      1101\n",
      "         macro avg       0.91      0.88      0.88      1101\n",
      "      weighted avg       0.91      0.91      0.91      1101\n",
      "\n"
     ]
    }
   ],
   "source": [
    "from sklearn.metrics import classification_report\n",
    "\n",
    "print(\"[INFO] evaluating with test set...\")\n",
    "predictions = model.predict(test_x,batch_size=32)\n",
    "print(classification_report(test_y.argmax(axis =1),\n",
    "                            predictions.argmax(axis =1),target_names=class_names))"
   ]
  },
  {
   "cell_type": "code",
   "execution_count": 15,
   "metadata": {},
   "outputs": [
    {
     "name": "stdout",
     "output_type": "stream",
     "text": [
      "1101/1101 [==============================] - 5s 5ms/step\n",
      "accuracy : 90.7357\n"
     ]
    }
   ],
   "source": [
    "ev = model.evaluate(test_x, test_y)\n",
    "acc = ev[1] * 100\n",
    "print('accuracy : ' +  str(\"%.4f\" % round(acc, 4)))"
   ]
  },
  {
   "cell_type": "code",
   "execution_count": 16,
   "metadata": {},
   "outputs": [
    {
     "data": {
      "image/png": "[encoded data removed]",
      "text/plain": [
       "<Figure size 432x288 with 2 Axes>"
      ]
     },
     "metadata": {},
     "output_type": "display_data"
    }
   ],
   "source": [
    "from sklearn.metrics import confusion_matrix\n",
    "import seaborn as sn\n",
    "import pandas as pd\n",
    "import matplotlib.pyplot as plt\n",
    "\n",
    "class_names = ['Early Blight', 'Aphids', 'Leaf miner', 'Curly top virus']\n",
    "\n",
    "matrix = confusion_matrix(test_y.argmax(axis=1), predictions.argmax(axis=1))\n",
    "matrix_normalized = matrix.astype('float') / matrix.sum(axis=1)[:, np.newaxis]\n",
    "\n",
    "df_cm = pd.DataFrame(matrix_normalized, range(len(class_names)), range(len(class_names)))\n",
    "# plt.figure(figsize=(10,7))\n",
    "sn.set(font_scale=1.4) # for label size\n",
    "sn.heatmap(df_cm, annot=True, annot_kws={\"size\": 16}, xticklabels=class_names, yticklabels=class_names) # font size\n",
    "\n",
    "\n",
    "# Add axis labels\n",
    "plt.ylabel('True')\n",
    "plt.xlabel('Predicted')\n",
    "plt.show()\n",
    "\n",
    "# x is predicted\n",
    "# y is true"
   ]
  },
  {
   "cell_type": "markdown",
   "metadata": {},
   "source": [
    "# Evaluate with validation images"
   ]
  },
  {
   "cell_type": "code",
   "execution_count": 17,
   "metadata": {},
   "outputs": [],
   "source": [
    "class_paths_validation = ['../datasets/validation/___Early_blight', '../datasets/validation/___Appids', '../datasets/validation/___Leaf_miner', '../datasets/self/___Curly_top_virus']"
   ]
  },
  {
   "cell_type": "code",
   "execution_count": 18,
   "metadata": {},
   "outputs": [
    {
     "name": "stdout",
     "output_type": "stream",
     "text": [
      "[INFO] loading images...\n",
      "[INFO]: Processed 500/599\n",
      "[INFO] evaluating with validation set...\n",
      "                    precision    recall  f1-score   support\n",
      "\n",
      "         ___Appids     0.2000    0.4000    0.2667         5\n",
      "___Curly_top_virus     0.9565    0.7857    0.8627       112\n",
      "   ___Early_blight     0.5714    0.6667    0.6154        12\n",
      "     ___Leaf_miner     0.5000    0.8095    0.6182        21\n",
      "\n",
      "          accuracy                         0.7667       150\n",
      "         macro avg     0.5570    0.6655    0.5907       150\n",
      "      weighted avg     0.8366    0.7667    0.7888       150\n",
      "\n"
     ]
    }
   ],
   "source": [
    "(train_x,test_x,train_y,test_y, class_names) = load_datasets(class_paths_validation)\n",
    "\n",
    "from sklearn.metrics import classification_report\n",
    "\n",
    "print(\"[INFO] evaluating with validation set...\")\n",
    "predictions = model.predict(test_x,batch_size=batch_size)\n",
    "\n",
    "print(classification_report(test_y.argmax(axis =1),\n",
    "                            predictions.argmax(axis =1),\n",
    "                            target_names=class_names, \n",
    "                            digits=4))"
   ]
  },
  {
   "cell_type": "code",
   "execution_count": 19,
   "metadata": {},
   "outputs": [
    {
     "name": "stdout",
     "output_type": "stream",
     "text": [
      "150/150 [==============================] - 1s 5ms/step\n",
      "accuracy : 76.6667\n"
     ]
    }
   ],
   "source": [
    "ev = model.evaluate(test_x, test_y)\n",
    "acc = ev[1] * 100\n",
    "print('accuracy : ' +  str(\"%.4f\" % round(acc, 4)))"
   ]
  },
  {
   "cell_type": "code",
   "execution_count": 20,
   "metadata": {},
   "outputs": [
    {
     "data": {
      "image/png": "[encoded data removed]",
      "text/plain": [
       "<Figure size 432x288 with 2 Axes>"
      ]
     },
     "metadata": {},
     "output_type": "display_data"
    }
   ],
   "source": [
    "from sklearn.metrics import confusion_matrix\n",
    "import seaborn as sn\n",
    "import pandas as pd\n",
    "import matplotlib.pyplot as plt\n",
    "\n",
    "class_names = ['Early Blight', 'Aphids', 'Leaf miner', 'Curly top virus']\n",
    "\n",
    "matrix = confusion_matrix(test_y.argmax(axis=1), predictions.argmax(axis=1))\n",
    "matrix_normalized = matrix.astype('float') / matrix.sum(axis=1)[:, np.newaxis]\n",
    "\n",
    "df_cm = pd.DataFrame(matrix_normalized, range(len(class_names)), range(len(class_names)))\n",
    "# plt.figure(figsize=(10,7))\n",
    "sn.set(font_scale=1.4) # for label size\n",
    "sn.heatmap(df_cm, annot=True, annot_kws={\"size\": 16}, xticklabels=class_names, yticklabels=class_names) # font size\n",
    "\n",
    "\n",
    "# Add axis labels\n",
    "plt.ylabel('True')\n",
    "plt.xlabel('Predicted')\n",
    "plt.show()\n",
    "\n",
    "# x is predicted\n",
    "# y is true"
   ]
  }
 ],
 "metadata": {
  "environment": {
   "name": "tf2-gpu.2-1.m47",
   "type": "gcloud",
   "uri": "gcr.io/deeplearning-platform-release/tf2-gpu.2-1:m47"
  },
  "file_extension": ".py",
  "kernelspec": {
   "display_name": "Python 3",
   "language": "python",
   "name": "python3"
  },
  "language_info": {
   "codemirror_mode": {
    "name": "ipython",
    "version": 3
   },
   "file_extension": ".py",
   "mimetype": "text/x-python",
   "name": "python",
   "nbconvert_exporter": "python",
   "pygments_lexer": "ipython3",
   "version": "3.7.6"
  },
  "mimetype": "text/x-python",
  "name": "python",
  "npconvert_exporter": "python",
  "pygments_lexer": "ipython3",
  "version": 3
 },
 "nbformat": 4,
 "nbformat_minor": 4
}

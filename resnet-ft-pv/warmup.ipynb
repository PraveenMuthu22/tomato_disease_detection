{
 "cells": [
  {
   "cell_type": "markdown",
   "execution_count": null,
   "metadata": {},
   "outputs": [],
   "source": [
    "\n",
    "# Arguments"
   ]
  },
  {
   "cell_type": "code",
   "execution_count": 2,
   "metadata": {},
   "outputs": [
    {
     "name": "stdout",
     "output_type": "stream",
     "text": "Classes:  ['Tomato___Target_Spot', 'Tomato___Late_blight', 'Tomato___Tomato_mosaic_virus', 'Tomato___Leaf_Mold', 'Tomato___Bacterial_spot', 'Tomato___Early_blight', 'Tomato___Two-spotted_spider_mite', 'Tomato___healthy', 'Tomato___Tomato_Yellow_Leaf_Curl_Virus', 'Tomato___Septoria_leaf_spot']\n10\n"
    }
   ],
   "source": [
    "num_of_epochs = 25\n",
    "batch_size = 32\n",
    "\n",
    "model_save_path = 'model-warmedup.h5'\n",
    "model_save_path = 'model-fined-tuned.h5'\n",
    "\n",
    "dataset_name = 'tomato-dataset'\n",
    "dataset_path = '../datasets/' + dataset_name\n",
    "\n",
    "checkpoint_path = 'warmup-checkpoints.hdf5'\n",
    "\n",
    "input_width = 224\n",
    "input_height = 224\n",
    "input_depth = 3\n",
    "\n",
    "# Get classes\n",
    "import os\n",
    "import re\n",
    "classes = os.listdir(dataset_path)\n",
    "class_names = []\n",
    "\n",
    "for i in classes:\n",
    "    if(re.search(\"Tomato___\", i)):\n",
    "        class_names.append(i)\n",
    "    \n",
    "print('Classes: ', class_names)\n",
    "print(len(class_names))"
   ]
  },
  {
   "cell_type": "markdown",
   "metadata": {},
   "source": [
    "# Load original ResNet model"
   ]
  },
  {
   "cell_type": "code",
   "execution_count": 5,
   "metadata": {},
   "outputs": [
    {
     "name": "stdout",
     "output_type": "stream",
     "text": "[INFO] 0\tInputLayer\n[INFO] 1\tZeroPadding2D\n[INFO] 2\tConv2D\n[INFO] 3\tBatchNormalization\n[INFO] 4\tActivation\n[INFO] 5\tZeroPadding2D\n[INFO] 6\tMaxPooling2D\n[INFO] 7\tConv2D\n[INFO] 8\tBatchNormalization\n[INFO] 9\tActivation\n[INFO] 10\tConv2D\n[INFO] 11\tBatchNormalization\n[INFO] 12\tActivation\n[INFO] 13\tConv2D\n[INFO] 14\tConv2D\n[INFO] 15\tBatchNormalization\n[INFO] 16\tBatchNormalization\n[INFO] 17\tAdd\n[INFO] 18\tActivation\n[INFO] 19\tConv2D\n[INFO] 20\tBatchNormalization\n[INFO] 21\tActivation\n[INFO] 22\tConv2D\n[INFO] 23\tBatchNormalization\n[INFO] 24\tActivation\n[INFO] 25\tConv2D\n[INFO] 26\tBatchNormalization\n[INFO] 27\tAdd\n[INFO] 28\tActivation\n[INFO] 29\tConv2D\n[INFO] 30\tBatchNormalization\n[INFO] 31\tActivation\n[INFO] 32\tConv2D\n[INFO] 33\tBatchNormalization\n[INFO] 34\tActivation\n[INFO] 35\tConv2D\n[INFO] 36\tBatchNormalization\n[INFO] 37\tAdd\n[INFO] 38\tActivation\n[INFO] 39\tConv2D\n[INFO] 40\tBatchNormalization\n[INFO] 41\tActivation\n[INFO] 42\tConv2D\n[INFO] 43\tBatchNormalization\n[INFO] 44\tActivation\n[INFO] 45\tConv2D\n[INFO] 46\tConv2D\n[INFO] 47\tBatchNormalization\n[INFO] 48\tBatchNormalization\n[INFO] 49\tAdd\n[INFO] 50\tActivation\n[INFO] 51\tConv2D\n[INFO] 52\tBatchNormalization\n[INFO] 53\tActivation\n[INFO] 54\tConv2D\n[INFO] 55\tBatchNormalization\n[INFO] 56\tActivation\n[INFO] 57\tConv2D\n[INFO] 58\tBatchNormalization\n[INFO] 59\tAdd\n[INFO] 60\tActivation\n[INFO] 61\tConv2D\n[INFO] 62\tBatchNormalization\n[INFO] 63\tActivation\n[INFO] 64\tConv2D\n[INFO] 65\tBatchNormalization\n[INFO] 66\tActivation\n[INFO] 67\tConv2D\n[INFO] 68\tBatchNormalization\n[INFO] 69\tAdd\n[INFO] 70\tActivation\n[INFO] 71\tConv2D\n[INFO] 72\tBatchNormalization\n[INFO] 73\tActivation\n[INFO] 74\tConv2D\n[INFO] 75\tBatchNormalization\n[INFO] 76\tActivation\n[INFO] 77\tConv2D\n[INFO] 78\tBatchNormalization\n[INFO] 79\tAdd\n[INFO] 80\tActivation\n[INFO] 81\tConv2D\n[INFO] 82\tBatchNormalization\n[INFO] 83\tActivation\n[INFO] 84\tConv2D\n[INFO] 85\tBatchNormalization\n[INFO] 86\tActivation\n[INFO] 87\tConv2D\n[INFO] 88\tConv2D\n[INFO] 89\tBatchNormalization\n[INFO] 90\tBatchNormalization\n[INFO] 91\tAdd\n[INFO] 92\tActivation\n[INFO] 93\tConv2D\n[INFO] 94\tBatchNormalization\n[INFO] 95\tActivation\n[INFO] 96\tConv2D\n[INFO] 97\tBatchNormalization\n[INFO] 98\tActivation\n[INFO] 99\tConv2D\n[INFO] 100\tBatchNormalization\n[INFO] 101\tAdd\n[INFO] 102\tActivation\n[INFO] 103\tConv2D\n[INFO] 104\tBatchNormalization\n[INFO] 105\tActivation\n[INFO] 106\tConv2D\n[INFO] 107\tBatchNormalization\n[INFO] 108\tActivation\n[INFO] 109\tConv2D\n[INFO] 110\tBatchNormalization\n[INFO] 111\tAdd\n[INFO] 112\tActivation\n[INFO] 113\tConv2D\n[INFO] 114\tBatchNormalization\n[INFO] 115\tActivation\n[INFO] 116\tConv2D\n[INFO] 117\tBatchNormalization\n[INFO] 118\tActivation\n[INFO] 119\tConv2D\n[INFO] 120\tBatchNormalization\n[INFO] 121\tAdd\n[INFO] 122\tActivation\n[INFO] 123\tConv2D\n[INFO] 124\tBatchNormalization\n[INFO] 125\tActivation\n[INFO] 126\tConv2D\n[INFO] 127\tBatchNormalization\n[INFO] 128\tActivation\n[INFO] 129\tConv2D\n[INFO] 130\tBatchNormalization\n[INFO] 131\tAdd\n[INFO] 132\tActivation\n[INFO] 133\tConv2D\n[INFO] 134\tBatchNormalization\n[INFO] 135\tActivation\n[INFO] 136\tConv2D\n[INFO] 137\tBatchNormalization\n[INFO] 138\tActivation\n[INFO] 139\tConv2D\n[INFO] 140\tBatchNormalization\n[INFO] 141\tAdd\n[INFO] 142\tActivation\n[INFO] 143\tConv2D\n[INFO] 144\tBatchNormalization\n[INFO] 145\tActivation\n[INFO] 146\tConv2D\n[INFO] 147\tBatchNormalization\n[INFO] 148\tActivation\n[INFO] 149\tConv2D\n[INFO] 150\tConv2D\n[INFO] 151\tBatchNormalization\n[INFO] 152\tBatchNormalization\n[INFO] 153\tAdd\n[INFO] 154\tActivation\n[INFO] 155\tConv2D\n[INFO] 156\tBatchNormalization\n[INFO] 157\tActivation\n[INFO] 158\tConv2D\n[INFO] 159\tBatchNormalization\n[INFO] 160\tActivation\n[INFO] 161\tConv2D\n[INFO] 162\tBatchNormalization\n[INFO] 163\tAdd\n[INFO] 164\tActivation\n[INFO] 165\tConv2D\n[INFO] 166\tBatchNormalization\n[INFO] 167\tActivation\n[INFO] 168\tConv2D\n[INFO] 169\tBatchNormalization\n[INFO] 170\tActivation\n[INFO] 171\tConv2D\n[INFO] 172\tBatchNormalization\n[INFO] 173\tAdd\n[INFO] 174\tActivation\n[INFO] 175\tGlobalAveragePooling2D\n[INFO] 176\tDense\n"
    }
   ],
   "source": [
    "from keras.applications import ResNet50\n",
    "from keras.utils.vis_utils import plot_model\n",
    "from keras.layers import Input\n",
    "\n",
    "base_model = ResNet50(weights=None)\n",
    "\n",
    "plot_save_path = 'diagram-resnet-full.png'\n",
    "plot_model(base_model, to_file=plot_save_path, show_shapes=True)\n",
    "\n",
    "# iterate for all layers in the network and print its' index value\n",
    "for (i,layer) in enumerate(base_model.layers):\n",
    "    print(\"[INFO] {}\\t{}\".format(i,layer.__class__.__name__))"
   ]
  },
  {
   "cell_type": "markdown",
   "execution_count": null,
   "metadata": {},
   "outputs": [],
   "source": [
    "\n",
    "# Load model"
   ]
  },
  {
   "cell_type": "code",
   "execution_count": 6,
   "metadata": {},
   "outputs": [
    {
     "name": "stdout",
     "output_type": "stream",
     "text": "[INFO] 0\tInputLayer\n[INFO] 1\tZeroPadding2D\n[INFO] 2\tConv2D\n[INFO] 3\tBatchNormalization\n[INFO] 4\tActivation\n[INFO] 5\tZeroPadding2D\n[INFO] 6\tMaxPooling2D\n[INFO] 7\tConv2D\n[INFO] 8\tBatchNormalization\n[INFO] 9\tActivation\n[INFO] 10\tConv2D\n[INFO] 11\tBatchNormalization\n[INFO] 12\tActivation\n[INFO] 13\tConv2D\n[INFO] 14\tConv2D\n[INFO] 15\tBatchNormalization\n[INFO] 16\tBatchNormalization\n[INFO] 17\tAdd\n[INFO] 18\tActivation\n[INFO] 19\tConv2D\n[INFO] 20\tBatchNormalization\n[INFO] 21\tActivation\n[INFO] 22\tConv2D\n[INFO] 23\tBatchNormalization\n[INFO] 24\tActivation\n[INFO] 25\tConv2D\n[INFO] 26\tBatchNormalization\n[INFO] 27\tAdd\n[INFO] 28\tActivation\n[INFO] 29\tConv2D\n[INFO] 30\tBatchNormalization\n[INFO] 31\tActivation\n[INFO] 32\tConv2D\n[INFO] 33\tBatchNormalization\n[INFO] 34\tActivation\n[INFO] 35\tConv2D\n[INFO] 36\tBatchNormalization\n[INFO] 37\tAdd\n[INFO] 38\tActivation\n[INFO] 39\tConv2D\n[INFO] 40\tBatchNormalization\n[INFO] 41\tActivation\n[INFO] 42\tConv2D\n[INFO] 43\tBatchNormalization\n[INFO] 44\tActivation\n[INFO] 45\tConv2D\n[INFO] 46\tConv2D\n[INFO] 47\tBatchNormalization\n[INFO] 48\tBatchNormalization\n[INFO] 49\tAdd\n[INFO] 50\tActivation\n[INFO] 51\tConv2D\n[INFO] 52\tBatchNormalization\n[INFO] 53\tActivation\n[INFO] 54\tConv2D\n[INFO] 55\tBatchNormalization\n[INFO] 56\tActivation\n[INFO] 57\tConv2D\n[INFO] 58\tBatchNormalization\n[INFO] 59\tAdd\n[INFO] 60\tActivation\n[INFO] 61\tConv2D\n[INFO] 62\tBatchNormalization\n[INFO] 63\tActivation\n[INFO] 64\tConv2D\n[INFO] 65\tBatchNormalization\n[INFO] 66\tActivation\n[INFO] 67\tConv2D\n[INFO] 68\tBatchNormalization\n[INFO] 69\tAdd\n[INFO] 70\tActivation\n[INFO] 71\tConv2D\n[INFO] 72\tBatchNormalization\n[INFO] 73\tActivation\n[INFO] 74\tConv2D\n[INFO] 75\tBatchNormalization\n[INFO] 76\tActivation\n[INFO] 77\tConv2D\n[INFO] 78\tBatchNormalization\n[INFO] 79\tAdd\n[INFO] 80\tActivation\n[INFO] 81\tConv2D\n[INFO] 82\tBatchNormalization\n[INFO] 83\tActivation\n[INFO] 84\tConv2D\n[INFO] 85\tBatchNormalization\n[INFO] 86\tActivation\n[INFO] 87\tConv2D\n[INFO] 88\tConv2D\n[INFO] 89\tBatchNormalization\n[INFO] 90\tBatchNormalization\n[INFO] 91\tAdd\n[INFO] 92\tActivation\n[INFO] 93\tConv2D\n[INFO] 94\tBatchNormalization\n[INFO] 95\tActivation\n[INFO] 96\tConv2D\n[INFO] 97\tBatchNormalization\n[INFO] 98\tActivation\n[INFO] 99\tConv2D\n[INFO] 100\tBatchNormalization\n[INFO] 101\tAdd\n[INFO] 102\tActivation\n[INFO] 103\tConv2D\n[INFO] 104\tBatchNormalization\n[INFO] 105\tActivation\n[INFO] 106\tConv2D\n[INFO] 107\tBatchNormalization\n[INFO] 108\tActivation\n[INFO] 109\tConv2D\n[INFO] 110\tBatchNormalization\n[INFO] 111\tAdd\n[INFO] 112\tActivation\n[INFO] 113\tConv2D\n[INFO] 114\tBatchNormalization\n[INFO] 115\tActivation\n[INFO] 116\tConv2D\n[INFO] 117\tBatchNormalization\n[INFO] 118\tActivation\n[INFO] 119\tConv2D\n[INFO] 120\tBatchNormalization\n[INFO] 121\tAdd\n[INFO] 122\tActivation\n[INFO] 123\tConv2D\n[INFO] 124\tBatchNormalization\n[INFO] 125\tActivation\n[INFO] 126\tConv2D\n[INFO] 127\tBatchNormalization\n[INFO] 128\tActivation\n[INFO] 129\tConv2D\n[INFO] 130\tBatchNormalization\n[INFO] 131\tAdd\n[INFO] 132\tActivation\n[INFO] 133\tConv2D\n[INFO] 134\tBatchNormalization\n[INFO] 135\tActivation\n[INFO] 136\tConv2D\n[INFO] 137\tBatchNormalization\n[INFO] 138\tActivation\n[INFO] 139\tConv2D\n[INFO] 140\tBatchNormalization\n[INFO] 141\tAdd\n[INFO] 142\tActivation\n[INFO] 143\tConv2D\n[INFO] 144\tBatchNormalization\n[INFO] 145\tActivation\n[INFO] 146\tConv2D\n[INFO] 147\tBatchNormalization\n[INFO] 148\tActivation\n[INFO] 149\tConv2D\n[INFO] 150\tConv2D\n[INFO] 151\tBatchNormalization\n[INFO] 152\tBatchNormalization\n[INFO] 153\tAdd\n[INFO] 154\tActivation\n[INFO] 155\tConv2D\n[INFO] 156\tBatchNormalization\n[INFO] 157\tActivation\n[INFO] 158\tConv2D\n[INFO] 159\tBatchNormalization\n[INFO] 160\tActivation\n[INFO] 161\tConv2D\n[INFO] 162\tBatchNormalization\n[INFO] 163\tAdd\n[INFO] 164\tActivation\n[INFO] 165\tConv2D\n[INFO] 166\tBatchNormalization\n[INFO] 167\tActivation\n[INFO] 168\tConv2D\n[INFO] 169\tBatchNormalization\n[INFO] 170\tActivation\n[INFO] 171\tConv2D\n[INFO] 172\tBatchNormalization\n[INFO] 173\tAdd\n[INFO] 174\tActivation\n"
    }
   ],
   "source": [
    "from keras.applications import ResNet50\n",
    "from keras.utils.vis_utils import plot_model\n",
    "from keras.layers import Input\n",
    "\n",
    "\n",
    "\n",
    "# Load pretrianed VGG model with FC layers removed\n",
    "# explicitly deﬁne the input_tensor to be 224×224×3 pixels\n",
    "base_model = ResNet50(weights='imagenet',\n",
    "                      include_top=False,\n",
    "                      input_tensor=Input(shape = (input_width,input_height, input_depth)))\n",
    "\n",
    "plot_save_path = 'resnet-base-model.png'\n",
    "plot_model(base_model, to_file=plot_save_path, show_shapes=True)\n",
    "\n",
    "# iterate for all layers in the network and print its' index value\n",
    "for (i,layer) in enumerate(base_model.layers):\n",
    "    print(\"[INFO] {}\\t{}\".format(i,layer.__class__.__name__))"
   ]
  },
  {
   "cell_type": "markdown",
   "execution_count": null,
   "metadata": {},
   "outputs": [],
   "source": [
    "# Custom FC layer"
   ]
  },
  {
   "cell_type": "code",
   "execution_count": null,
   "metadata": {},
   "outputs": [],
   "source": [
    "from keras.layers.core import Dropout\n",
    "from keras.layers.core import Flatten\n",
    "from keras.layers.core import Dense\n",
    "\n",
    "head_model = base_model.output\n",
    "head_model = Flatten(name='flatten')(head_model)\n",
    "head_model = Dense(256,activation='relu')(head_model)\n",
    "head_model = Dropout(0.5)(head_model)\n",
    "# Add a softmaxc layer\n",
    "head_model = Dense(len(class_names),activation='softmax')(head_model)\n",
    "\n",
    "# plot_save_path = 'custom-head.png'\n",
    "# plot_model(head_model, to_file=model_diagram_path, show_shapes=True)"
   ]
  },
  {
   "cell_type": "markdown",
   "execution_count": null,
   "metadata": {},
   "outputs": [],
   "source": [
    "# Attach custom head to model"
   ]
  },
  {
   "cell_type": "code",
   "execution_count": null,
   "metadata": {},
   "outputs": [],
   "source": [
    "from keras.models import Model\n",
    "\n",
    "\n",
    "# place the head FC model on top of the base model \n",
    "model = Model(inputs=base_model.input, outputs = head_model)\n",
    "\n",
    "# freeze weights in base model\n",
    "for layer in base_model.layers:\n",
    "    layer.trainable = False\n",
    "\n",
    "plot_save_path = 'full-model.png'\n",
    "plot_model(model, to_file=model_diagram_path, show_shapes=True)"
   ]
  },
  {
   "cell_type": "markdown",
   "execution_count": null,
   "metadata": {},
   "outputs": [],
   "source": [
    "# Freeze base model"
   ]
  },
  {
   "cell_type": "code",
   "execution_count": null,
   "metadata": {},
   "outputs": [],
   "source": [
    "# traverse all layers and freeze the weight of the corresponding layer\n",
    "for layer in base_model.layers:\n",
    "    layer.trainable = False"
   ]
  },
  {
   "cell_type": "markdown",
   "execution_count": null,
   "metadata": {},
   "outputs": [],
   "source": [
    "# Compile model"
   ]
  },
  {
   "cell_type": "code",
   "execution_count": null,
   "metadata": {},
   "outputs": [],
   "source": [
    "from keras.optimizers import RMSprop\n",
    "\n",
    "print(\"[INFO] compiling model...\")\n",
    "opt = RMSprop(lr=0.001)\n",
    "\n",
    "model.compile(loss=\"categorical_crossentropy\", optimizer=opt,metrics=[\"accuracy\"])\n",
    "# Since we only train the new fully connected layer, we do a few iterations\n",
    "print(\"[INFO] training head...\")"
   ]
  },
  {
   "cell_type": "markdown",
   "execution_count": null,
   "metadata": {},
   "outputs": [],
   "source": [
    "# Load data"
   ]
  },
  {
   "cell_type": "code",
   "execution_count": null,
   "metadata": {},
   "outputs": [],
   "source": [
    "from sklearn.preprocessing import LabelBinarizer\n",
    "from sklearn.model_selection import train_test_split\n",
    "from sklearn.metrics import classification_report\n",
    "from keras.preprocessing.image   import ImageDataGenerator\n",
    "from keras.optimizers import RMSprop\n",
    "from keras.layers import Input\n",
    "from keras.models import Model\n",
    "from keras .applications import VGG16\n",
    "from keras.optimizers import SGD\n",
    "from keras.models import Model\n",
    "from imutils import paths\n",
    "import numpy as np\n",
    "import os\n",
    "\n",
    "import sys\n",
    "sys.path.append('..')\n",
    "\n",
    "from utils.preprocessors.aspect_aware_preprocessor import AspectAwarePreprocessor\n",
    "from utils.preprocessors.image_to_array_preprocessor import ImageToArrayPreprocessor\n",
    "from utils.io.simple_dataset_loader import SimpleDatasetLoader\n",
    "\n",
    "# construct the image generator for data augmentation\n",
    "aug = ImageDataGenerator(   rotation_range=30,\n",
    "                            width_shift_range=0.1,\n",
    "                            height_shift_range=0.1,\n",
    "                            shear_range=0.2,\n",
    "                            zoom_range=0.2,\n",
    "                            horizontal_flip=True,\n",
    "                            fill_mode='nearest')\n",
    "\n",
    "# Load image paths\n",
    "print(\"[INFO] loading images...\")\n",
    "image_paths = list(paths.list_images(dataset_path))\n",
    "\n",
    "# Initial image preprocessing\n",
    "aap = AspectAwarePreprocessor(input_width, input_height)\n",
    "iap= ImageToArrayPreprocessor()\n",
    "\n",
    "#Load image data and perform image data preprocessing\n",
    "sdl = SimpleDatasetLoader(preprocessors=[aap,iap])\n",
    "(data,labels)  = sdl.load(image_paths,verbose=500)\n",
    "data = data.astype(\"float\") / 255.0\n",
    "\n",
    "\n",
    "# train test split\n",
    "(train_x,test_x,train_y,test_y) = train_test_split(data,labels,test_size=0.25,random_state=42)\n",
    "\n",
    "# convert the labels from integers to vectors\n",
    "train_y = LabelBinarizer().fit_transform(train_y)\n",
    "test_y = LabelBinarizer().fit_transform(test_y)\n",
    "\n"
   ]
  },
  {
   "cell_type": "markdown",
   "execution_count": null,
   "metadata": {},
   "outputs": [],
   "source": [
    "# Checkpoints"
   ]
  },
  {
   "cell_type": "code",
   "execution_count": null,
   "metadata": {},
   "outputs": [],
   "source": [
    "from keras.callbacks import ModelCheckpoint\n",
    "\n",
    "\n",
    "checkpoint = ModelCheckpoint(checkpoint_path, monitor='val_loss', mode='min', \n",
    "save_best_only=True, verbose=1)\n",
    "\n",
    "callbacks = [checkpoint]\n",
    "\n"
   ]
  },
  {
   "cell_type": "code",
   "execution_count": null,
   "metadata": {},
   "outputs": [],
   "source": [
    "#load checkpoints if existing\n",
    "\n",
    "import os\n",
    "\n",
    "epochs_done = 1\n",
    "\n",
    "if(os.path.exists(checkpoint_path)):\n",
    "    model.load_weights(checkpoint_path)\n",
    "    num_of_epochs = num_of_epochs - epochs_done\n"
   ]
  },
  {
   "cell_type": "markdown",
   "execution_count": null,
   "metadata": {},
   "outputs": [],
   "source": [
    "# Warm up head"
   ]
  },
  {
   "cell_type": "code",
   "execution_count": null,
   "metadata": {},
   "outputs": [],
   "source": [
    "\n",
    "\n",
    "model.fit_generator(\n",
    "    aug.flow(train_x,train_y, batch_size = 32),\n",
    "             validation_data = (test_x,test_y),\n",
    "             epochs=num_of_epochs,\n",
    "             steps_per_epoch = len(train_x) //32,\n",
    "             verbose = 1,\n",
    "             callbacks=callbacks)\n",
    "\n",
    "model.save(model_save_path)"
   ]
  },
  {
   "cell_type": "markdown",
   "execution_count": null,
   "metadata": {},
   "outputs": [],
   "source": [
    "# Evaluate after warmup"
   ]
  },
  {
   "cell_type": "code",
   "execution_count": null,
   "metadata": {},
   "outputs": [],
   "source": [
    "from sklearn.metrics import classification_report\n",
    "\n",
    "print(\"[INFO] evaluating after initialization...\")\n",
    "predictions = model.predict(test_x,batch_size=32)\n",
    "print(classification_report(test_y.argmax(axis =1),\n",
    "                            predictions.argmax(axis =1),target_names=class_names))"
   ]
  },
  {
   "cell_type": "code",
   "execution_count": null,
   "metadata": {},
   "outputs": [],
   "source": []
  }
 ],
 "metadata": {
  "file_extension": ".py",
  "kernelspec": {
   "display_name": "Python 3",
   "language": "python",
   "name": "python3"
  },
  "language_info": {
   "codemirror_mode": {
    "name": "ipython",
    "version": 3
   },
   "file_extension": ".py",
   "mimetype": "text/x-python",
   "name": "python",
   "nbconvert_exporter": "python",
   "pygments_lexer": "ipython3",
   "version": "3.7.3-final"
  },
  "mimetype": "text/x-python",
  "name": "python",
  "npconvert_exporter": "python",
  "pygments_lexer": "ipython3",
  "version": 3
 },
 "nbformat": 4,
 "nbformat_minor": 4
}
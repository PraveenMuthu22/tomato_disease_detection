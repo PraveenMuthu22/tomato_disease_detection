{
 "cells": [
  {
   "cell_type": "markdown",
   "metadata": {},
   "source": [
    "# Arguments"
   ]
  },
  {
   "cell_type": "code",
   "execution_count": 12,
   "metadata": {},
   "outputs": [
    {
     "name": "stdout",
     "output_type": "stream",
     "text": [
      "Classes:  ['Tomato___Tomato_mosaic_virus', 'Tomato___Early_blight', 'Tomato___Late_blight', 'Tomato___Leaf_Mold', 'Tomato___Bacterial_spot', 'Tomato___Target_Spot', 'Tomato___Tomato_Yellow_Leaf_Curl_Virus', 'Tomato___healthy', 'Tomato___Septoria_leaf_spot', 'Tomato___Two-spotted_spider_mite']\n",
      "10\n"
     ]
    }
   ],
   "source": [
    "\n",
    "warmup_model_path = 'model-warmedup.h5'\n",
    "model_save_path = 'model-fine-tuned.h5'\n",
    "dataset_name = 'tomato-dataset'\n",
    "dataset_path = '../datasets/' + dataset_name\n",
    "checkpoint_path = 'checkpoints-finetuning.hdf5'\n",
    "input_width = 224\n",
    "input_height = 224\n",
    "input_depth = 3\n",
    "\n",
    "batch_size = 32\n",
    "num_of_epochs = 100\n",
    "\n",
    "import sys\n",
    "sys.path.append('..')\n",
    "\n",
    "# Get classes\n",
    "import os\n",
    "import re\n",
    "classes = os.listdir(dataset_path)\n",
    "class_names = []\n",
    "\n",
    "for i in classes:\n",
    "    if(re.search(\"Tomato___\", i)):\n",
    "        class_names.append(i)\n",
    "    \n",
    "print('Classes: ', class_names)\n",
    "print(len(class_names))\n"
   ]
  },
  {
   "cell_type": "markdown",
   "metadata": {},
   "source": [
    "# Load model from disk"
   ]
  },
  {
   "cell_type": "code",
   "execution_count": 13,
   "metadata": {},
   "outputs": [],
   "source": [
    "# import tensorflow as tf\n",
    "# print(tf.__version__)\n",
    "\n",
    "\n",
    "# model = tf.keras.models.load_model(\n",
    "#     warmup_model_path,\n",
    "#     custom_objects=None,\n",
    "#     compile=False\n",
    "# )\n",
    "\n",
    "from keras.models import load_model\n",
    "\n",
    "model = load_model(warmup_model_path)\n",
    "\n",
    "\n",
    "\n"
   ]
  },
  {
   "cell_type": "markdown",
   "metadata": {},
   "source": [
    "# Print index of layers"
   ]
  },
  {
   "cell_type": "code",
   "execution_count": 14,
   "metadata": {},
   "outputs": [],
   "source": [
    "# # iterate for all layers in the network and print its' index value\n",
    "# for (i,layer) in enumerate(model.layers):\n",
    "#     print(\"[INFO] {}\\t{}\".format(i,layer.__class__.__name__))"
   ]
  },
  {
   "cell_type": "markdown",
   "metadata": {},
   "source": [
    "# Unfreeze final layers"
   ]
  },
  {
   "cell_type": "code",
   "execution_count": 15,
   "metadata": {},
   "outputs": [],
   "source": [
    "# for layer in model.layers[168:]:\n",
    "#     layer.trainable = True\n",
    "\n",
    "# for layer in model.layers[165:]:\n",
    "#     layer.trainable = True\n",
    "    \n",
    "# for layer in model.layers[161:]:\n",
    "#     layer.trainable = True\n",
    "\n",
    "for layer in model.layers[158:]:\n",
    "    layer.trainable = True\n"
   ]
  },
  {
   "cell_type": "markdown",
   "metadata": {},
   "source": [
    "# Compile model"
   ]
  },
  {
   "cell_type": "code",
   "execution_count": 16,
   "metadata": {},
   "outputs": [
    {
     "name": "stdout",
     "output_type": "stream",
     "text": [
      "[INFO] re-compiling model ...\n"
     ]
    }
   ],
   "source": [
    "from keras.optimizers import SGD\n",
    "\n",
    "# Build the model from the new\n",
    "print(\"[INFO] re-compiling model ...\")\n",
    "opt = SGD(lr=0.001)\n",
    "# Fine-tuning with a small learning rate\n",
    "model.compile(loss = 'categorical_crossentropy',optimizer = opt,\n",
    "              metrics=['accuracy'])\n"
   ]
  },
  {
   "cell_type": "markdown",
   "metadata": {},
   "source": [
    "# Load data"
   ]
  },
  {
   "cell_type": "code",
   "execution_count": 17,
   "metadata": {},
   "outputs": [
    {
     "name": "stdout",
     "output_type": "stream",
     "text": [
      "[INFO] loading images...\n",
      "[INFO]: Processed 500/18160\n",
      "[INFO]: Processed 1000/18160\n",
      "[INFO]: Processed 1500/18160\n",
      "[INFO]: Processed 2000/18160\n",
      "[INFO]: Processed 2500/18160\n",
      "[INFO]: Processed 3000/18160\n",
      "[INFO]: Processed 3500/18160\n",
      "[INFO]: Processed 4000/18160\n",
      "[INFO]: Processed 4500/18160\n",
      "[INFO]: Processed 5000/18160\n",
      "[INFO]: Processed 5500/18160\n",
      "[INFO]: Processed 6000/18160\n",
      "[INFO]: Processed 6500/18160\n",
      "[INFO]: Processed 7000/18160\n",
      "[INFO]: Processed 7500/18160\n",
      "[INFO]: Processed 8000/18160\n",
      "[INFO]: Processed 8500/18160\n",
      "[INFO]: Processed 9000/18160\n",
      "[INFO]: Processed 9500/18160\n",
      "[INFO]: Processed 10000/18160\n",
      "[INFO]: Processed 10500/18160\n",
      "[INFO]: Processed 11000/18160\n",
      "[INFO]: Processed 11500/18160\n",
      "[INFO]: Processed 12000/18160\n",
      "[INFO]: Processed 12500/18160\n",
      "[INFO]: Processed 13000/18160\n",
      "[INFO]: Processed 13500/18160\n",
      "[INFO]: Processed 14000/18160\n",
      "[INFO]: Processed 14500/18160\n",
      "[INFO]: Processed 15000/18160\n",
      "[INFO]: Processed 15500/18160\n",
      "[INFO]: Processed 16000/18160\n",
      "[INFO]: Processed 16500/18160\n",
      "[INFO]: Processed 17000/18160\n",
      "[INFO]: Processed 17500/18160\n",
      "[INFO]: Processed 18000/18160\n"
     ]
    }
   ],
   "source": [
    "from sklearn.preprocessing import LabelBinarizer\n",
    "from sklearn.model_selection import train_test_split\n",
    "from sklearn.metrics import classification_report\n",
    "from keras.preprocessing.image   import ImageDataGenerator\n",
    "from keras.optimizers import RMSprop\n",
    "from keras.layers import Input\n",
    "from keras.models import Model\n",
    "from keras .applications import VGG16\n",
    "from keras.optimizers import SGD\n",
    "from keras.models import Model\n",
    "from imutils import paths\n",
    "import numpy as np\n",
    "import os\n",
    "\n",
    "import sys\n",
    "sys.path.append('..')\n",
    "\n",
    "from utils.preprocessors.aspect_aware_preprocessor import AspectAwarePreprocessor\n",
    "from utils.preprocessors.image_to_array_preprocessor import ImageToArrayPreprocessor\n",
    "from utils.io.simple_dataset_loader import SimpleDatasetLoader\n",
    "\n",
    "# construct the image generator for data augmentation\n",
    "aug = ImageDataGenerator(   rotation_range=30,\n",
    "                            width_shift_range=0.1,\n",
    "                            height_shift_range=0.1,\n",
    "                            shear_range=0.2,\n",
    "                            zoom_range=0.2,\n",
    "                            horizontal_flip=True,\n",
    "                            fill_mode='nearest')\n",
    "\n",
    "# Load image paths\n",
    "print(\"[INFO] loading images...\")\n",
    "image_paths = list(paths.list_images(dataset_path))\n",
    "\n",
    "# Initial image preprocessing\n",
    "aap = AspectAwarePreprocessor(input_width, input_height)\n",
    "iap= ImageToArrayPreprocessor()\n",
    "\n",
    "#Load image data and perform image data preprocessing\n",
    "sdl = SimpleDatasetLoader(preprocessors=[aap,iap])\n",
    "(data,labels)  = sdl.load(image_paths,verbose=500)\n",
    "data = data.astype(\"float\") / 255.0\n",
    "\n",
    "\n",
    "# train test split\n",
    "(train_x,test_x,train_y,test_y) = train_test_split(data,labels,test_size=0.25,random_state=42)\n",
    "\n",
    "# convert the labels from integers to vectors\n",
    "train_y = LabelBinarizer().fit_transform(train_y)\n",
    "test_y = LabelBinarizer().fit_transform(test_y)"
   ]
  },
  {
   "cell_type": "markdown",
   "metadata": {},
   "source": [
    "# Checkpoints"
   ]
  },
  {
   "cell_type": "code",
   "execution_count": 18,
   "metadata": {},
   "outputs": [],
   "source": [
    "from keras.callbacks import ModelCheckpoint\n",
    "\n",
    "\n",
    "checkpoint = ModelCheckpoint(checkpoint_path, monitor='val_accuracy', mode='max', \n",
    "save_best_only=True, verbose=1)\n",
    "\n",
    "callbacks = [checkpoint]\n",
    "\n",
    "import os\n",
    "\n",
    "# First layers unfrozen\n",
    "epochs_done = 0\n",
    "\n",
    "if(os.path.exists(checkpoint_path)):\n",
    "    model.load_weights(checkpoint_path)\n",
    "    num_of_epochs = num_of_epochs - epochs_done"
   ]
  },
  {
   "cell_type": "markdown",
   "metadata": {},
   "source": [
    "# Training monitor"
   ]
  },
  {
   "cell_type": "code",
   "execution_count": 19,
   "metadata": {},
   "outputs": [],
   "source": [
    "# from utils.callbacks.training_monitor import TrainingMonitor\n",
    "# import pathlib\n",
    "\n",
    "# callbacks = []\n",
    "\n",
    "# # Give absolute path\n",
    "# currentPath = str(pathlib.Path().absolute())\n",
    "# print(currentPath)\n",
    "\n",
    "# # Construct the set of callbacks\n",
    "# fig_path = os.path.sep.join([currentPath,  \"{}.png\".format(os.getpid())])\n",
    "# json_path = os.path.sep.join([currentPath, \"{}.json\".format(os.getpid())])\n",
    "# print(fig_path)\n",
    "# print(json_path)\n",
    "# callbacks.append(TrainingMonitor(fig_path, json_path=json_path))\n",
    "\n",
    "# print(num_of_epochs)"
   ]
  },
  {
   "cell_type": "markdown",
   "metadata": {},
   "source": [
    "# Fit model"
   ]
  },
  {
   "cell_type": "code",
   "execution_count": null,
   "metadata": {},
   "outputs": [
    {
     "name": "stdout",
     "output_type": "stream",
     "text": [
      "Epoch 1/100\n",
      "425/425 [==============================] - 225s 529ms/step - loss: 0.2397 - accuracy: 0.9262 - val_loss: 107.0858 - val_accuracy: 0.2985\n",
      "\n",
      "Epoch 00001: val_accuracy improved from -inf to 0.29846, saving model to checkpoints-finetuning.hdf5\n",
      "Epoch 2/100\n",
      "425/425 [==============================] - 218s 513ms/step - loss: 0.2487 - accuracy: 0.9277 - val_loss: 103.3361 - val_accuracy: 0.2989\n",
      "\n",
      "Epoch 00002: val_accuracy improved from 0.29846 to 0.29890, saving model to checkpoints-finetuning.hdf5\n",
      "Epoch 3/100\n",
      "425/425 [==============================] - 217s 512ms/step - loss: 0.2462 - accuracy: 0.9262 - val_loss: 102.1283 - val_accuracy: 0.2700\n",
      "\n",
      "Epoch 00003: val_accuracy did not improve from 0.29890\n",
      "Epoch 4/100\n",
      "425/425 [==============================] - 220s 517ms/step - loss: 0.2501 - accuracy: 0.9274 - val_loss: 107.1626 - val_accuracy: 0.3020\n",
      "\n",
      "Epoch 00004: val_accuracy improved from 0.29890 to 0.30198, saving model to checkpoints-finetuning.hdf5\n",
      "Epoch 5/100\n",
      "425/425 [==============================] - 219s 515ms/step - loss: 0.2428 - accuracy: 0.9254 - val_loss: 107.4780 - val_accuracy: 0.2989\n",
      "\n",
      "Epoch 00005: val_accuracy did not improve from 0.30198\n",
      "Epoch 6/100\n",
      "425/425 [==============================] - 216s 508ms/step - loss: 0.2306 - accuracy: 0.9337 - val_loss: 105.8130 - val_accuracy: 0.2985\n",
      "\n",
      "Epoch 00006: val_accuracy did not improve from 0.30198\n",
      "Epoch 7/100\n",
      "425/425 [==============================] - 216s 508ms/step - loss: 0.2309 - accuracy: 0.9321 - val_loss: 104.1859 - val_accuracy: 0.2985\n",
      "\n",
      "Epoch 00007: val_accuracy did not improve from 0.30198\n",
      "Epoch 8/100\n",
      "425/425 [==============================] - 219s 516ms/step - loss: 0.2487 - accuracy: 0.9291 - val_loss: 104.3374 - val_accuracy: 0.2993\n",
      "\n",
      "Epoch 00008: val_accuracy did not improve from 0.30198\n",
      "Epoch 9/100\n",
      "425/425 [==============================] - 217s 511ms/step - loss: 0.2302 - accuracy: 0.9311 - val_loss: 104.6881 - val_accuracy: 0.3013\n",
      "\n",
      "Epoch 00009: val_accuracy did not improve from 0.30198\n",
      "Epoch 10/100\n",
      "425/425 [==============================] - 217s 511ms/step - loss: 0.2411 - accuracy: 0.9318 - val_loss: 105.4927 - val_accuracy: 0.1031\n",
      "\n",
      "Epoch 00010: val_accuracy did not improve from 0.30198\n",
      "Epoch 11/100\n",
      "425/425 [==============================] - 216s 509ms/step - loss: 0.2325 - accuracy: 0.9309 - val_loss: 108.0183 - val_accuracy: 0.1035\n",
      "\n",
      "Epoch 00011: val_accuracy did not improve from 0.30198\n",
      "Epoch 12/100\n",
      "425/425 [==============================] - 215s 507ms/step - loss: 0.2191 - accuracy: 0.9360 - val_loss: 104.5463 - val_accuracy: 0.1031\n",
      "\n",
      "Epoch 00012: val_accuracy did not improve from 0.30198\n",
      "Epoch 13/100\n",
      "425/425 [==============================] - 215s 505ms/step - loss: 0.2346 - accuracy: 0.9328 - val_loss: 103.0320 - val_accuracy: 0.2985\n",
      "\n",
      "Epoch 00013: val_accuracy did not improve from 0.30198\n",
      "Epoch 14/100\n",
      "425/425 [==============================] - 214s 503ms/step - loss: 0.2246 - accuracy: 0.9343 - val_loss: 101.4500 - val_accuracy: 0.2991\n",
      "\n",
      "Epoch 00014: val_accuracy did not improve from 0.30198\n",
      "Epoch 15/100\n",
      "425/425 [==============================] - 213s 501ms/step - loss: 0.2237 - accuracy: 0.9344 - val_loss: 102.4317 - val_accuracy: 0.2985\n",
      "\n",
      "Epoch 00015: val_accuracy did not improve from 0.30198\n",
      "Epoch 16/100\n",
      "425/425 [==============================] - 213s 501ms/step - loss: 0.2223 - accuracy: 0.9342 - val_loss: 101.5488 - val_accuracy: 0.2985\n",
      "\n",
      "Epoch 00016: val_accuracy did not improve from 0.30198\n",
      "Epoch 17/100\n",
      "425/425 [==============================] - 213s 502ms/step - loss: 0.2179 - accuracy: 0.9366 - val_loss: 101.5701 - val_accuracy: 0.2985\n",
      "\n",
      "Epoch 00017: val_accuracy did not improve from 0.30198\n",
      "Epoch 18/100\n",
      "425/425 [==============================] - 214s 503ms/step - loss: 0.2336 - accuracy: 0.9298 - val_loss: 99.6995 - val_accuracy: 0.2729\n",
      "\n",
      "Epoch 00018: val_accuracy did not improve from 0.30198\n",
      "Epoch 19/100\n",
      "425/425 [==============================] - 214s 503ms/step - loss: 0.2226 - accuracy: 0.9322 - val_loss: 105.8262 - val_accuracy: 0.1035\n",
      "\n",
      "Epoch 00019: val_accuracy did not improve from 0.30198\n",
      "Epoch 20/100\n",
      "425/425 [==============================] - 215s 506ms/step - loss: 0.2200 - accuracy: 0.9344 - val_loss: 102.5008 - val_accuracy: 0.3004\n",
      "\n",
      "Epoch 00020: val_accuracy did not improve from 0.30198\n",
      "Epoch 21/100\n",
      "425/425 [==============================] - 213s 500ms/step - loss: 0.2252 - accuracy: 0.9330 - val_loss: 102.0750 - val_accuracy: 0.2987\n",
      "\n",
      "Epoch 00021: val_accuracy did not improve from 0.30198\n",
      "Epoch 22/100\n",
      "425/425 [==============================] - 214s 503ms/step - loss: 0.2263 - accuracy: 0.9348 - val_loss: 102.9493 - val_accuracy: 0.3004\n",
      "\n",
      "Epoch 00022: val_accuracy did not improve from 0.30198\n",
      "Epoch 23/100\n",
      "425/425 [==============================] - 213s 502ms/step - loss: 0.2287 - accuracy: 0.9340 - val_loss: 100.3593 - val_accuracy: 0.1042\n",
      "\n",
      "Epoch 00023: val_accuracy did not improve from 0.30198\n",
      "Epoch 24/100\n",
      "425/425 [==============================] - 213s 502ms/step - loss: 0.2201 - accuracy: 0.9348 - val_loss: 108.8703 - val_accuracy: 0.1035\n",
      "\n",
      "Epoch 00024: val_accuracy did not improve from 0.30198\n",
      "Epoch 25/100\n",
      "425/425 [==============================] - 214s 504ms/step - loss: 0.1910 - accuracy: 0.9410 - val_loss: 102.7639 - val_accuracy: 0.1035\n",
      "\n",
      "Epoch 00025: val_accuracy did not improve from 0.30198\n",
      "Epoch 26/100\n",
      "425/425 [==============================] - 214s 503ms/step - loss: 0.2162 - accuracy: 0.9369 - val_loss: 99.8959 - val_accuracy: 0.1185\n",
      "\n",
      "Epoch 00026: val_accuracy did not improve from 0.30198\n",
      "Epoch 27/100\n",
      "425/425 [==============================] - 213s 502ms/step - loss: 0.2082 - accuracy: 0.9398 - val_loss: 104.0779 - val_accuracy: 0.1031\n",
      "\n",
      "Epoch 00027: val_accuracy did not improve from 0.30198\n",
      "Epoch 28/100\n",
      "425/425 [==============================] - 213s 501ms/step - loss: 0.2065 - accuracy: 0.9396 - val_loss: 105.8363 - val_accuracy: 0.2985\n",
      "\n",
      "Epoch 00028: val_accuracy did not improve from 0.30198\n",
      "Epoch 29/100\n",
      "425/425 [==============================] - 211s 497ms/step - loss: 0.2034 - accuracy: 0.9402 - val_loss: 103.5738 - val_accuracy: 0.1018\n",
      "\n",
      "Epoch 00029: val_accuracy did not improve from 0.30198\n",
      "Epoch 30/100\n",
      "425/425 [==============================] - 213s 500ms/step - loss: 0.2122 - accuracy: 0.9356 - val_loss: 103.0814 - val_accuracy: 0.1035\n",
      "\n",
      "Epoch 00030: val_accuracy did not improve from 0.30198\n",
      "Epoch 31/100\n",
      "104/425 [======>.......................] - ETA: 1:59 - loss: 0.1924 - accuracy: 0.9426"
     ]
    }
   ],
   "source": [
    "H = model.fit_generator(\n",
    "        aug.flow(train_x,train_y, batch_size = 32),\n",
    "                validation_data = (test_x,test_y),\n",
    "                epochs=num_of_epochs,\n",
    "                steps_per_epoch = len(train_x) //32,\n",
    "                verbose = 1,\n",
    "                callbacks=callbacks)\n",
    "\n",
    "model.save(model_save_path)"
   ]
  },
  {
   "cell_type": "markdown",
   "metadata": {},
   "source": [
    "# Visualize"
   ]
  },
  {
   "cell_type": "code",
   "execution_count": null,
   "metadata": {},
   "outputs": [],
   "source": [
    "plot_save_path = 'plot-resnet50-fine-tuned.png'\n",
    "\n",
    "# plot the training loss and accuracy\n",
    "from matplotlib import pyplot as plt\n",
    "\n",
    "plt.style.use(\"ggplot\")\n",
    "plt.figure()\n",
    "plt.plot(np.arange(0, num_of_epochs), H.history[\"loss\"], label=\"train_loss\")\n",
    "plt.plot(np.arange(0, num_of_epochs), H.history[\"val_loss\"], label=\"val_loss\")\n",
    "plt.plot(np.arange(0, num_of_epochs), H.history[\"accuracy\"], label=\"train_accuracy\")\n",
    "plt.plot(np.arange(0, num_of_epochs), H.history[\"val_accuracy\"], label=\"val_accuracy\")\n",
    "plt.title(\"Training Loss and Accuracy\")\n",
    "plt.xlabel(\"Epoch #\")\n",
    "plt.ylabel(\"Loss/Accuracy\")\n",
    "plt.legend()\n",
    "#save to disk\n",
    "plt.savefig(plot_save_path)\n",
    "plt.show()"
   ]
  },
  {
   "cell_type": "markdown",
   "metadata": {},
   "source": [
    "# Evaluate"
   ]
  },
  {
   "cell_type": "code",
   "execution_count": null,
   "metadata": {},
   "outputs": [],
   "source": [
    "from sklearn.metrics import classification_report\n",
    "\n",
    "print(\"[INFO] evaluating after initialization...\")\n",
    "predictions = model.predict(test_x,batch_size=batch_size)\n",
    "print(classification_report(test_y.argmax(axis =1),\n",
    "                            predictions.argmax(axis =1),target_names=class_names))"
   ]
  }
 ],
 "metadata": {
  "file_extension": ".py",
  "kernelspec": {
   "display_name": "Python 3",
   "language": "python",
   "name": "python3"
  },
  "language_info": {
   "codemirror_mode": {
    "name": "ipython",
    "version": 3
   },
   "file_extension": ".py",
   "mimetype": "text/x-python",
   "name": "python",
   "nbconvert_exporter": "python",
   "pygments_lexer": "ipython3",
   "version": "3.5.3"
  },
  "mimetype": "text/x-python",
  "name": "python",
  "npconvert_exporter": "python",
  "pygments_lexer": "ipython3",
  "version": 3
 },
 "nbformat": 4,
 "nbformat_minor": 4
}

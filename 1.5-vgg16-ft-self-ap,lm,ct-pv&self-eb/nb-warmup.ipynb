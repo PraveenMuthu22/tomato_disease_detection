{
 "cells": [
  {
   "cell_type": "markdown",
   "metadata": {},
   "source": [
    "\n",
    "# Arguments"
   ]
  },
  {
   "cell_type": "code",
   "execution_count": 1,
   "metadata": {},
   "outputs": [],
   "source": [
    "# vgg16-ft-pv-self-eb,ap,lm,ct\n",
    "batch_size = 32\n",
    "dataset_path_plantvillage = '../datasets/plantvillage'\n",
    "dataset_path_self = '../datasets/self'\n",
    "dataset_path_validation = '../datasets/validation'\n",
    "\n",
    "dataset_paths = [dataset_path_plantvillage, dataset_path_self, dataset_path_validation]\n",
    "\n",
    "model_save_path = 'model-warmup.h5'\n",
    "\n",
    "checkpoint_path = 'checkpoints-warmup.hdf5'\n",
    "\n",
    "input_width = 224\n",
    "input_height = 224\n",
    "input_depth = 3\n",
    "\n",
    "num_of_epochs = 40\n",
    "start_epoch = 0\n",
    "\n",
    "\n"
   ]
  },
  {
   "cell_type": "markdown",
   "metadata": {},
   "source": [
    "# Print class names"
   ]
  },
  {
   "cell_type": "code",
   "execution_count": 2,
   "metadata": {},
   "outputs": [
    {
     "name": "stdout",
     "output_type": "stream",
     "text": [
      "['___Yellow_Leaf_Curl_Virus', '___Late_blight', '___Early_blight', '___Two-spotted_spider_mite', '___Septoria_leaf_spot', '___Bacterial_spot', '___healthy', '___Target_Spot', '___Mosaic_Virus', '___Leaf_Mold', '___Leaf_miner', '___Curly_top_virus', '___Appids']\n",
      "\n",
      "PlantVillage\n",
      "['../datasets/plantvillage/___Yellow_Leaf_Curl_Virus', '../datasets/plantvillage/___Late_blight', '../datasets/plantvillage/___Early_blight', '../datasets/plantvillage/___Two-spotted_spider_mite', '../datasets/plantvillage/___Septoria_leaf_spot', '../datasets/plantvillage/___Bacterial_spot', '../datasets/plantvillage/___healthy', '../datasets/plantvillage/___Target_Spot', '../datasets/plantvillage/___Mosaic_Virus', '../datasets/plantvillage/___Leaf_Mold']\n",
      "10\n",
      "\n",
      "Self\n",
      "['../datasets/self/___Leaf_miner', '../datasets/self/___Early_blight', '../datasets/self/___Curly_top_virus', '../datasets/self/___Appids']\n",
      "4\n",
      "\n",
      "Validation\n",
      "['../datasets/validation/___Leaf_miner', '../datasets/validation/___Yellow_Leaf_Curl_Virus', '../datasets/validation/___Late_blight', '../datasets/validation/___Early_blight', '../datasets/validation/___Two-spotted_spider_mite', '../datasets/validation/___Septoria_leaf_spot', '../datasets/validation/___Curly_top_virus', '../datasets/validation/___Bacterial_spot', '../datasets/validation/___healthy', '../datasets/validation/___Appids', '../datasets/validation/___Target_Spot', '../datasets/validation/___Mosaic_Virus', '../datasets/validation/___Leaf_Mold']\n",
      "13\n"
     ]
    }
   ],
   "source": [
    "# Get classes\n",
    "import os\n",
    "import re\n",
    "\n",
    "class_names = []\n",
    "class_paths_plant_village = []\n",
    "class_paths_plant_self = []\n",
    "class_paths_plant_validation = []\n",
    "\n",
    "for path in dataset_paths:\n",
    "    classes = os.listdir(path)\n",
    "    for i in classes:\n",
    "        if(re.search('___', i)):\n",
    "            if(i not in class_names):\n",
    "                class_names.append(i)\n",
    "            if(re.search('plantvillage', path)):\n",
    "                class_paths_plant_village.append(path + '/' + i)\n",
    "            elif(re.search('self', path)):\n",
    "                class_paths_plant_self.append(path + '/' + i)\n",
    "            else:\n",
    "                class_paths_plant_validation.append(path + '/' + i)\n",
    "\n",
    "print(class_names)   \n",
    "print()\n",
    "print('PlantVillage')\n",
    "print(class_paths_plant_village) \n",
    "print(len(class_paths_plant_village))\n",
    "print()\n",
    "print('Self')\n",
    "print(class_paths_plant_self) \n",
    "print(len(class_paths_plant_self))\n",
    "print()\n",
    "print('Validation')\n",
    "print(class_paths_plant_validation) \n",
    "print(len(class_paths_plant_validation))"
   ]
  },
  {
   "cell_type": "markdown",
   "metadata": {},
   "source": [
    "# Select training classes\n",
    "\n",
    "early blight in plantVillage dataset replaced by self one"
   ]
  },
  {
   "cell_type": "code",
   "execution_count": 3,
   "metadata": {},
   "outputs": [],
   "source": [
    "class_paths_training = ['../datasets/self/___Early_blight', '../datasets/plantvillage/___Early_blight', '../datasets/self/___Appids', '../datasets/self/___Leaf_miner', '../datasets/self/___Curly_top_virus']"
   ]
  },
  {
   "cell_type": "markdown",
   "metadata": {},
   "source": [
    "# Load dataset"
   ]
  },
  {
   "cell_type": "code",
   "execution_count": null,
   "metadata": {},
   "outputs": [
    {
     "name": "stderr",
     "output_type": "stream",
     "text": [
      "Using TensorFlow backend.\n"
     ]
    },
    {
     "name": "stdout",
     "output_type": "stream",
     "text": [
      "[INFO] loading images...\n",
      "[INFO]: Processed 500/5401\n",
      "[INFO]: Processed 1000/5401\n",
      "[INFO]: Processed 1500/5401\n",
      "[INFO]: Processed 2000/5401\n",
      "[INFO]: Processed 2500/5401\n",
      "[INFO]: Processed 3000/5401\n",
      "[INFO]: Processed 3500/5401\n",
      "[INFO]: Processed 4000/5401\n",
      "[INFO]: Processed 4500/5401\n",
      "[INFO]: Processed 5000/5401\n"
     ]
    }
   ],
   "source": [
    "from sklearn.preprocessing import LabelBinarizer\n",
    "from sklearn.model_selection import train_test_split\n",
    "from sklearn.metrics import classification_report\n",
    "from keras.preprocessing.image   import ImageDataGenerator\n",
    "from keras.optimizers import RMSprop\n",
    "from keras.layers import Input\n",
    "from keras.models import Model\n",
    "from keras .applications import VGG16\n",
    "from keras.optimizers import SGD\n",
    "from keras.models import Model\n",
    "from imutils import paths\n",
    "import numpy as np\n",
    "import os\n",
    "\n",
    "import sys\n",
    "sys.path.append('..')\n",
    "\n",
    "from utils.preprocessors.aspect_aware_preprocessor import AspectAwarePreprocessor\n",
    "from utils.preprocessors.image_to_array_preprocessor import ImageToArrayPreprocessor\n",
    "from utils.io.simple_dataset_loader import SimpleDatasetLoader\n",
    "\n",
    "# construct the image generator for data augmentation\n",
    "aug = ImageDataGenerator(   rotation_range=30,\n",
    "                            width_shift_range=0.1,\n",
    "                            height_shift_range=0.1,\n",
    "                            shear_range=0.2,\n",
    "                            zoom_range=0.2,\n",
    "                            horizontal_flip=True,\n",
    "                            fill_mode='nearest')\n",
    "\n",
    "def load_datasets(path_list):\n",
    "    # Load image paths\n",
    "    image_paths = []\n",
    "    print(\"[INFO] loading images...\")\n",
    "    for path in path_list:\n",
    "        image_paths.extend(list(paths.list_images(path)))\n",
    "        \n",
    "    # Get unique classnames\n",
    "\n",
    "    class_names = [pt.split(os.path.sep)[-2] for pt in image_paths]\n",
    "    class_names = [str(x) for x in np.unique(class_names)]\n",
    "\n",
    "    # Initial image preprocessing\n",
    "    aap = AspectAwarePreprocessor(input_width, input_height)\n",
    "    iap= ImageToArrayPreprocessor()\n",
    "\n",
    "    #Load image data and perform image data preprocessing\n",
    "    sdl = SimpleDatasetLoader(preprocessors=[aap,iap])\n",
    "    (data,labels)  = sdl.load(image_paths,verbose=500)\n",
    "    data = data.astype(\"float\") / 255.0\n",
    "\n",
    "\n",
    "    # train test split\n",
    "    (train_x,test_x,train_y,test_y) = train_test_split(data,labels,test_size=0.25,random_state=42)\n",
    "\n",
    "    # convert the labels from integers to vectors\n",
    "    train_y = LabelBinarizer().fit_transform(train_y)\n",
    "    test_y = LabelBinarizer().fit_transform(test_y)\n",
    "    \n",
    "    return (train_x,test_x,train_y,test_y, class_names)\n",
    "\n",
    "(train_x,test_x,train_y,test_y, class_names) = load_datasets(class_paths_training)\n",
    "\n"
   ]
  },
  {
   "cell_type": "markdown",
   "metadata": {},
   "source": [
    "\n",
    "# Load model"
   ]
  },
  {
   "cell_type": "code",
   "execution_count": 5,
   "metadata": {},
   "outputs": [],
   "source": [
    "from keras.applications import VGG16\n",
    "from keras.utils.vis_utils import plot_model\n",
    "from keras.layers import Input\n",
    "\n",
    "\n",
    "\n",
    "# Load pretrianed VGG model with FC layers removed\n",
    "# explicitly deﬁne the input_tensor to be 224×224×3 pixels\n",
    "base_model = VGG16(weights='imagenet',include_top=False,\n",
    "                  input_tensor=Input(shape = (input_width,input_height, input_depth)))\n",
    "\n",
    "# plot_save_path = 'diagram-base-vgg16.png'\n",
    "# plot_model(base_model, to_file=model_diagram_path, show_shapes=True)"
   ]
  },
  {
   "cell_type": "markdown",
   "metadata": {},
   "source": [
    "# Custom FC layer"
   ]
  },
  {
   "cell_type": "code",
   "execution_count": 6,
   "metadata": {},
   "outputs": [],
   "source": [
    "from keras.layers.core import Dropout\n",
    "from keras.layers.core import Flatten\n",
    "from keras.layers.core import Dense\n",
    "\n",
    "head_model = base_model.output\n",
    "head_model = Flatten(name='flatten')(head_model)\n",
    "head_model = Dense(256,activation='relu')(head_model)\n",
    "head_model = Dropout(0.5)(head_model)\n",
    "# Add a softmaxc layer\n",
    "head_model = Dense(len(class_names),activation='softmax')(head_model)\n",
    "\n",
    "# plot_save_path = 'custom-head.png'\n",
    "# plot_model(head_model, to_file=model_diagram_path, show_shapes=True)"
   ]
  },
  {
   "cell_type": "markdown",
   "metadata": {},
   "source": [
    "# Attach custom head to model"
   ]
  },
  {
   "cell_type": "code",
   "execution_count": 7,
   "metadata": {},
   "outputs": [],
   "source": [
    "from keras.models import Model\n",
    "\n",
    "\n",
    "# place the head FC model on top of the base model \n",
    "model = Model(inputs=base_model.input, outputs = head_model)\n",
    "\n",
    "# freeze weights in base model\n",
    "for layer in base_model.layers:\n",
    "    layer.trainable = False\n",
    "\n",
    "# plot_save_path = 'diagram-vgg16-head-attached.png'\n",
    "# plot_model(model, to_file=model_diagram_path, show_shapes=True)"
   ]
  },
  {
   "cell_type": "markdown",
   "metadata": {},
   "source": [
    "# Freeze base model"
   ]
  },
  {
   "cell_type": "code",
   "execution_count": 8,
   "metadata": {},
   "outputs": [],
   "source": [
    "# traverse all layers and freeze the weight of the corresponding layer\n",
    "for layer in base_model.layers:\n",
    "    layer.trainable = False"
   ]
  },
  {
   "cell_type": "markdown",
   "metadata": {},
   "source": [
    "# Compile model"
   ]
  },
  {
   "cell_type": "code",
   "execution_count": 9,
   "metadata": {},
   "outputs": [
    {
     "name": "stdout",
     "output_type": "stream",
     "text": [
      "[INFO] re-compiling model ...\n"
     ]
    }
   ],
   "source": [
    "from keras.optimizers import SGD\n",
    "\n",
    "# Build the model from the new\n",
    "print(\"[INFO] re-compiling model ...\")\n",
    "opt = SGD(lr=0.001, momentum=0.09)\n",
    "\n",
    "model.compile(loss=\"categorical_crossentropy\", optimizer=opt,metrics=[\"accuracy\"])\n",
    "# Since we only train the new fully connected layer, we do a few iterations"
   ]
  },
  {
   "cell_type": "markdown",
   "metadata": {},
   "source": [
    "# Checkpoints"
   ]
  },
  {
   "cell_type": "code",
   "execution_count": 10,
   "metadata": {},
   "outputs": [],
   "source": [
    "from keras.callbacks import ModelCheckpoint\n",
    "\n",
    "\n",
    "checkpoint = ModelCheckpoint(checkpoint_path, monitor='val_loss', mode='min', \n",
    "save_best_only=True, verbose=1)\n",
    "\n",
    "callbacks = [checkpoint]\n",
    "\n"
   ]
  },
  {
   "cell_type": "code",
   "execution_count": 11,
   "metadata": {},
   "outputs": [],
   "source": [
    "#load checkpoints if existing\n",
    "\n",
    "import os\n",
    "\n",
    "if(os.path.exists(checkpoint_path)):\n",
    "    model.load_weights(checkpoint_path)"
   ]
  },
  {
   "cell_type": "markdown",
   "metadata": {},
   "source": [
    "# Training monitor"
   ]
  },
  {
   "cell_type": "code",
   "execution_count": 12,
   "metadata": {},
   "outputs": [],
   "source": [
    "from utils.callbacks.training_monitor import TrainingMonitor\n",
    "import pathlib\n",
    "import json\n",
    "import os\n",
    "\n",
    "fig_path = \"plot\"\n",
    "json_path = \"values.json\"\n",
    "values_path = 'values.json'\n",
    "\n",
    "callbacks.append(TrainingMonitor(fig_path, json_path, start_epoch))"
   ]
  },
  {
   "cell_type": "code",
   "execution_count": 13,
   "metadata": {},
   "outputs": [
    {
     "name": "stdout",
     "output_type": "stream",
     "text": [
      "4050\n",
      "1351\n",
      "4050\n",
      "1351\n"
     ]
    }
   ],
   "source": [
    "print(len(train_x))\n",
    "print(len(test_x))\n",
    "print(len(train_y))\n",
    "print(len(test_y))"
   ]
  },
  {
   "cell_type": "markdown",
   "metadata": {},
   "source": [
    "# Warm up head"
   ]
  },
  {
   "cell_type": "code",
   "execution_count": 14,
   "metadata": {},
   "outputs": [
    {
     "name": "stdout",
     "output_type": "stream",
     "text": [
      "Epoch 1/40\n",
      "126/126 [==============================] - 71s 566ms/step - loss: 1.0735 - accuracy: 0.5548 - val_loss: 0.8767 - val_accuracy: 0.6603\n",
      "\n",
      "Epoch 00001: val_loss improved from inf to 0.87672, saving model to checkpoints-warmup.hdf5\n",
      "Epoch 2/40\n",
      "126/126 [==============================] - 65s 518ms/step - loss: 0.8609 - accuracy: 0.6603 - val_loss: 0.6742 - val_accuracy: 0.7846\n",
      "\n",
      "Epoch 00002: val_loss improved from 0.87672 to 0.67424, saving model to checkpoints-warmup.hdf5\n",
      "Epoch 3/40\n",
      "126/126 [==============================] - 65s 518ms/step - loss: 0.7370 - accuracy: 0.7155 - val_loss: 0.5653 - val_accuracy: 0.8053\n",
      "\n",
      "Epoch 00003: val_loss improved from 0.67424 to 0.56533, saving model to checkpoints-warmup.hdf5\n",
      "Epoch 4/40\n",
      "126/126 [==============================] - 65s 514ms/step - loss: 0.6621 - accuracy: 0.7531 - val_loss: 0.5115 - val_accuracy: 0.8460\n",
      "\n",
      "Epoch 00004: val_loss improved from 0.56533 to 0.51148, saving model to checkpoints-warmup.hdf5\n",
      "Epoch 5/40\n",
      "126/126 [==============================] - 65s 515ms/step - loss: 0.5910 - accuracy: 0.7820 - val_loss: 0.4505 - val_accuracy: 0.8483\n",
      "\n",
      "Epoch 00005: val_loss improved from 0.51148 to 0.45048, saving model to checkpoints-warmup.hdf5\n",
      "Epoch 6/40\n",
      "126/126 [==============================] - 65s 519ms/step - loss: 0.5514 - accuracy: 0.7987 - val_loss: 0.4095 - val_accuracy: 0.8875\n",
      "\n",
      "Epoch 00006: val_loss improved from 0.45048 to 0.40954, saving model to checkpoints-warmup.hdf5\n",
      "Epoch 7/40\n",
      "126/126 [==============================] - 64s 509ms/step - loss: 0.5276 - accuracy: 0.8121 - val_loss: 0.3823 - val_accuracy: 0.8801\n",
      "\n",
      "Epoch 00007: val_loss improved from 0.40954 to 0.38233, saving model to checkpoints-warmup.hdf5\n",
      "Epoch 8/40\n",
      "126/126 [==============================] - 65s 517ms/step - loss: 0.4823 - accuracy: 0.8293 - val_loss: 0.3565 - val_accuracy: 0.8875\n",
      "\n",
      "Epoch 00008: val_loss improved from 0.38233 to 0.35647, saving model to checkpoints-warmup.hdf5\n",
      "Epoch 9/40\n",
      "126/126 [==============================] - 64s 505ms/step - loss: 0.4477 - accuracy: 0.8469 - val_loss: 0.3541 - val_accuracy: 0.8890\n",
      "\n",
      "Epoch 00009: val_loss improved from 0.35647 to 0.35408, saving model to checkpoints-warmup.hdf5\n",
      "Epoch 10/40\n",
      "126/126 [==============================] - 64s 511ms/step - loss: 0.4451 - accuracy: 0.8422 - val_loss: 0.3271 - val_accuracy: 0.8949\n",
      "\n",
      "Epoch 00010: val_loss improved from 0.35408 to 0.32711, saving model to checkpoints-warmup.hdf5\n",
      "Epoch 11/40\n",
      "126/126 [==============================] - 63s 504ms/step - loss: 0.4185 - accuracy: 0.8547 - val_loss: 0.3042 - val_accuracy: 0.8949\n",
      "\n",
      "Epoch 00011: val_loss improved from 0.32711 to 0.30420, saving model to checkpoints-warmup.hdf5\n",
      "Epoch 12/40\n",
      "126/126 [==============================] - 65s 515ms/step - loss: 0.3938 - accuracy: 0.8696 - val_loss: 0.3082 - val_accuracy: 0.8986\n",
      "\n",
      "Epoch 00012: val_loss did not improve from 0.30420\n",
      "Epoch 13/40\n",
      "126/126 [==============================] - 64s 504ms/step - loss: 0.3906 - accuracy: 0.8656 - val_loss: 0.2857 - val_accuracy: 0.9090\n",
      "\n",
      "Epoch 00013: val_loss improved from 0.30420 to 0.28573, saving model to checkpoints-warmup.hdf5\n",
      "Epoch 14/40\n",
      "126/126 [==============================] - 64s 504ms/step - loss: 0.3746 - accuracy: 0.8686 - val_loss: 0.2830 - val_accuracy: 0.9075\n",
      "\n",
      "Epoch 00014: val_loss improved from 0.28573 to 0.28298, saving model to checkpoints-warmup.hdf5\n",
      "Epoch 15/40\n",
      "126/126 [==============================] - 64s 507ms/step - loss: 0.3748 - accuracy: 0.8646 - val_loss: 0.2693 - val_accuracy: 0.9119\n",
      "\n",
      "Epoch 00015: val_loss improved from 0.28298 to 0.26934, saving model to checkpoints-warmup.hdf5\n",
      "Epoch 16/40\n",
      "126/126 [==============================] - 63s 502ms/step - loss: 0.3474 - accuracy: 0.8828 - val_loss: 0.2584 - val_accuracy: 0.9215\n",
      "\n",
      "Epoch 00016: val_loss improved from 0.26934 to 0.25844, saving model to checkpoints-warmup.hdf5\n",
      "Epoch 17/40\n",
      "126/126 [==============================] - 63s 496ms/step - loss: 0.3364 - accuracy: 0.8845 - val_loss: 0.2546 - val_accuracy: 0.9149\n",
      "\n",
      "Epoch 00017: val_loss improved from 0.25844 to 0.25456, saving model to checkpoints-warmup.hdf5\n",
      "Epoch 18/40\n",
      "126/126 [==============================] - 62s 492ms/step - loss: 0.3537 - accuracy: 0.8758 - val_loss: 0.2462 - val_accuracy: 0.9208\n",
      "\n",
      "Epoch 00018: val_loss improved from 0.25456 to 0.24624, saving model to checkpoints-warmup.hdf5\n",
      "Epoch 19/40\n",
      "126/126 [==============================] - 62s 495ms/step - loss: 0.3328 - accuracy: 0.8875 - val_loss: 0.2401 - val_accuracy: 0.9201\n",
      "\n",
      "Epoch 00019: val_loss improved from 0.24624 to 0.24014, saving model to checkpoints-warmup.hdf5\n",
      "Epoch 20/40\n",
      "126/126 [==============================] - 62s 496ms/step - loss: 0.3183 - accuracy: 0.8925 - val_loss: 0.2376 - val_accuracy: 0.9215\n",
      "\n",
      "Epoch 00020: val_loss improved from 0.24014 to 0.23762, saving model to checkpoints-warmup.hdf5\n",
      "Epoch 21/40\n",
      "126/126 [==============================] - 62s 495ms/step - loss: 0.3202 - accuracy: 0.8897 - val_loss: 0.2803 - val_accuracy: 0.9023\n",
      "\n",
      "Epoch 00021: val_loss did not improve from 0.23762\n",
      "Epoch 22/40\n",
      "126/126 [==============================] - 62s 492ms/step - loss: 0.3091 - accuracy: 0.8951 - val_loss: 0.2177 - val_accuracy: 0.9297\n",
      "\n",
      "Epoch 00022: val_loss improved from 0.23762 to 0.21766, saving model to checkpoints-warmup.hdf5\n",
      "Epoch 23/40\n",
      "126/126 [==============================] - 62s 495ms/step - loss: 0.3040 - accuracy: 0.8976 - val_loss: 0.2071 - val_accuracy: 0.9349\n",
      "\n",
      "Epoch 00023: val_loss improved from 0.21766 to 0.20711, saving model to checkpoints-warmup.hdf5\n",
      "Epoch 24/40\n",
      "126/126 [==============================] - 62s 490ms/step - loss: 0.3028 - accuracy: 0.8945 - val_loss: 0.2118 - val_accuracy: 0.9334\n",
      "\n",
      "Epoch 00024: val_loss did not improve from 0.20711\n",
      "Epoch 25/40\n",
      "126/126 [==============================] - 62s 496ms/step - loss: 0.2860 - accuracy: 0.8958 - val_loss: 0.1974 - val_accuracy: 0.9378\n",
      "\n",
      "Epoch 00025: val_loss improved from 0.20711 to 0.19741, saving model to checkpoints-warmup.hdf5\n",
      "Epoch 26/40\n",
      "126/126 [==============================] - 61s 485ms/step - loss: 0.2977 - accuracy: 0.8989 - val_loss: 0.2590 - val_accuracy: 0.9075\n",
      "\n",
      "Epoch 00026: val_loss did not improve from 0.19741\n",
      "Epoch 27/40\n",
      "126/126 [==============================] - 61s 483ms/step - loss: 0.2837 - accuracy: 0.9002 - val_loss: 0.2077 - val_accuracy: 0.9312\n",
      "\n",
      "Epoch 00027: val_loss did not improve from 0.19741\n",
      "Epoch 28/40\n",
      "126/126 [==============================] - 61s 482ms/step - loss: 0.2856 - accuracy: 0.9045 - val_loss: 0.2069 - val_accuracy: 0.9304\n",
      "\n",
      "Epoch 00028: val_loss did not improve from 0.19741\n",
      "Epoch 29/40\n",
      "126/126 [==============================] - 62s 489ms/step - loss: 0.2685 - accuracy: 0.9081 - val_loss: 0.1887 - val_accuracy: 0.9371\n",
      "\n",
      "Epoch 00029: val_loss improved from 0.19741 to 0.18869, saving model to checkpoints-warmup.hdf5\n",
      "Epoch 30/40\n",
      "126/126 [==============================] - 61s 486ms/step - loss: 0.2704 - accuracy: 0.9062 - val_loss: 0.2266 - val_accuracy: 0.9178\n",
      "\n",
      "Epoch 00030: val_loss did not improve from 0.18869\n",
      "Epoch 31/40\n",
      "126/126 [==============================] - 61s 484ms/step - loss: 0.2703 - accuracy: 0.9099 - val_loss: 0.2174 - val_accuracy: 0.9223\n",
      "\n",
      "Epoch 00031: val_loss did not improve from 0.18869\n",
      "Epoch 32/40\n",
      "126/126 [==============================] - 61s 485ms/step - loss: 0.2698 - accuracy: 0.9082 - val_loss: 0.1897 - val_accuracy: 0.9356\n",
      "\n",
      "Epoch 00032: val_loss did not improve from 0.18869\n",
      "Epoch 33/40\n",
      "126/126 [==============================] - 61s 481ms/step - loss: 0.2583 - accuracy: 0.9134 - val_loss: 0.1909 - val_accuracy: 0.9341\n",
      "\n",
      "Epoch 00033: val_loss did not improve from 0.18869\n",
      "Epoch 34/40\n",
      "126/126 [==============================] - 60s 480ms/step - loss: 0.2559 - accuracy: 0.9106 - val_loss: 0.1968 - val_accuracy: 0.9312\n",
      "\n",
      "Epoch 00034: val_loss did not improve from 0.18869\n",
      "Epoch 35/40\n",
      "126/126 [==============================] - 62s 492ms/step - loss: 0.2697 - accuracy: 0.9080 - val_loss: 0.1914 - val_accuracy: 0.9349\n",
      "\n",
      "Epoch 00035: val_loss did not improve from 0.18869\n",
      "Epoch 36/40\n",
      "126/126 [==============================] - 60s 479ms/step - loss: 0.2467 - accuracy: 0.9159 - val_loss: 0.1732 - val_accuracy: 0.9430\n",
      "\n",
      "Epoch 00036: val_loss improved from 0.18869 to 0.17324, saving model to checkpoints-warmup.hdf5\n",
      "Epoch 37/40\n",
      "126/126 [==============================] - 60s 479ms/step - loss: 0.2390 - accuracy: 0.9186 - val_loss: 0.1821 - val_accuracy: 0.9363\n",
      "\n",
      "Epoch 00037: val_loss did not improve from 0.17324\n",
      "Epoch 38/40\n",
      "126/126 [==============================] - 61s 483ms/step - loss: 0.2425 - accuracy: 0.9154 - val_loss: 0.1766 - val_accuracy: 0.9378\n",
      "\n",
      "Epoch 00038: val_loss did not improve from 0.17324\n",
      "Epoch 39/40\n",
      "126/126 [==============================] - 62s 492ms/step - loss: 0.2605 - accuracy: 0.9067 - val_loss: 0.1767 - val_accuracy: 0.9393\n",
      "\n",
      "Epoch 00039: val_loss did not improve from 0.17324\n",
      "Epoch 40/40\n",
      "126/126 [==============================] - 61s 481ms/step - loss: 0.2348 - accuracy: 0.9181 - val_loss: 0.1727 - val_accuracy: 0.9415\n",
      "\n",
      "Epoch 00040: val_loss improved from 0.17324 to 0.17273, saving model to checkpoints-warmup.hdf5\n"
     ]
    }
   ],
   "source": [
    "model.fit_generator(\n",
    "    aug.flow(train_x,train_y, batch_size = 32),\n",
    "             validation_data = (test_x,test_y),\n",
    "             epochs=num_of_epochs,\n",
    "             steps_per_epoch = len(train_x) //32,\n",
    "             verbose = 1,\n",
    "             callbacks=callbacks)\n",
    "\n",
    "model.save(model_save_path)"
   ]
  },
  {
   "cell_type": "markdown",
   "metadata": {},
   "source": [
    "# Evaluate with 20% test set from same dataset"
   ]
  },
  {
   "cell_type": "code",
   "execution_count": 15,
   "metadata": {},
   "outputs": [
    {
     "name": "stdout",
     "output_type": "stream",
     "text": [
      "[INFO] evaluating with test set...\n",
      "                    precision    recall  f1-score   support\n",
      "\n",
      "         ___Appids       0.94      0.98      0.96       233\n",
      "___Curly_top_virus       0.92      0.77      0.84       132\n",
      "   ___Early_blight       0.98      0.95      0.96       630\n",
      "     ___Leaf_miner       0.89      0.97      0.93       356\n",
      "\n",
      "       avg / total       0.94      0.94      0.94      1351\n",
      "\n"
     ]
    }
   ],
   "source": [
    "from sklearn.metrics import classification_report\n",
    "\n",
    "print(\"[INFO] evaluating with test set...\")\n",
    "predictions = model.predict(test_x,batch_size=32)\n",
    "print(classification_report(test_y.argmax(axis =1),\n",
    "                            predictions.argmax(axis =1),target_names=class_names))"
   ]
  },
  {
   "cell_type": "markdown",
   "metadata": {},
   "source": [
    "# Evaluate with validation images"
   ]
  },
  {
   "cell_type": "code",
   "execution_count": 16,
   "metadata": {},
   "outputs": [],
   "source": [
    "class_paths_validation = ['../datasets/validation/___Early_blight', '../datasets/validation/___Appids', '../datasets/validation/___Leaf_miner', '../datasets/self/___Curly_top_virus']"
   ]
  },
  {
   "cell_type": "code",
   "execution_count": 17,
   "metadata": {},
   "outputs": [
    {
     "name": "stdout",
     "output_type": "stream",
     "text": [
      "[INFO] loading images...\n",
      "[INFO]: Processed 500/599\n",
      "[INFO] evaluating with validation set...\n",
      "                    precision    recall  f1-score   support\n",
      "\n",
      "         ___Appids     0.3333    0.4000    0.3636         5\n",
      "___Curly_top_virus     0.9783    0.8036    0.8824       112\n",
      "   ___Early_blight     0.3871    1.0000    0.5581        12\n",
      "     ___Leaf_miner     0.5714    0.5714    0.5714        21\n",
      "\n",
      "       avg / total     0.8525    0.7733    0.7956       150\n",
      "\n"
     ]
    }
   ],
   "source": [
    "(train_x,test_x,train_y,test_y, class_names) = load_datasets(class_paths_validation)\n",
    "\n",
    "from sklearn.metrics import classification_report\n",
    "\n",
    "print(\"[INFO] evaluating with validation set...\")\n",
    "predictions = model.predict(test_x,batch_size=batch_size)\n",
    "\n",
    "print(classification_report(test_y.argmax(axis =1),\n",
    "                            predictions.argmax(axis =1),\n",
    "                            target_names=class_names, \n",
    "                            digits=4))"
   ]
  }
 ],
 "metadata": {
  "file_extension": ".py",
  "kernelspec": {
   "display_name": "Python 3",
   "language": "python",
   "name": "python3"
  },
  "language_info": {
   "codemirror_mode": {
    "name": "ipython",
    "version": 3
   },
   "file_extension": ".py",
   "mimetype": "text/x-python",
   "name": "python",
   "nbconvert_exporter": "python",
   "pygments_lexer": "ipython3",
   "version": "3.5.3"
  },
  "mimetype": "text/x-python",
  "name": "python",
  "npconvert_exporter": "python",
  "pygments_lexer": "ipython3",
  "version": 3
 },
 "nbformat": 4,
 "nbformat_minor": 4
}

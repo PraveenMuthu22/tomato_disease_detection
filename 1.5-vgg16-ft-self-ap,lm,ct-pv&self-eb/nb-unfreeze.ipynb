{
 "cells": [
  {
   "cell_type": "markdown",
   "metadata": {},
   "source": [
    "# Arguments"
   ]
  },
  {
   "cell_type": "code",
   "execution_count": 1,
   "metadata": {},
   "outputs": [],
   "source": [
    "# vgg16-ft-pv-self-eb,ap,lm,ct\n",
    "batch_size = 32\n",
    "dataset_path_plantvillage = '../datasets/plantvillage'\n",
    "dataset_path_self = '../datasets/self'\n",
    "dataset_path_validation = '../datasets/validation'\n",
    "\n",
    "dataset_paths = [dataset_path_plantvillage, dataset_path_self, dataset_path_validation]\n",
    "\n",
    "warmup_model_path = 'model-warmup.h5'\n",
    "model_save_path = 'model-final.h5'\n",
    "checkpoint_path = 'checkpoints-finetuning.hdf5'\n",
    "\n",
    "input_width = 224\n",
    "input_height = 224\n",
    "input_depth = 3\n",
    "\n",
    "num_of_epochs = 100\n",
    "start_epoch = 0\n"
   ]
  },
  {
   "cell_type": "markdown",
   "metadata": {},
   "source": [
    "# Select training classes"
   ]
  },
  {
   "cell_type": "code",
   "execution_count": 2,
   "metadata": {},
   "outputs": [],
   "source": [
    "class_paths_training = ['../datasets/self/___Early_blight', '../datasets/plantvillage/___Early_blight', '../datasets/self/___Appids', '../datasets/self/___Leaf_miner', '../datasets/self/___Curly_top_virus']"
   ]
  },
  {
   "cell_type": "markdown",
   "metadata": {},
   "source": [
    "# Load dataset"
   ]
  },
  {
   "cell_type": "code",
   "execution_count": 3,
   "metadata": {},
   "outputs": [
    {
     "name": "stderr",
     "output_type": "stream",
     "text": [
      "Using TensorFlow backend.\n"
     ]
    },
    {
     "name": "stdout",
     "output_type": "stream",
     "text": [
      "[INFO] loading images...\n",
      "[INFO]: Processed 500/5401\n",
      "[INFO]: Processed 1000/5401\n",
      "[INFO]: Processed 1500/5401\n",
      "[INFO]: Processed 2000/5401\n",
      "[INFO]: Processed 2500/5401\n",
      "[INFO]: Processed 3000/5401\n",
      "[INFO]: Processed 3500/5401\n",
      "[INFO]: Processed 4000/5401\n",
      "[INFO]: Processed 4500/5401\n",
      "[INFO]: Processed 5000/5401\n"
     ]
    }
   ],
   "source": [
    "from sklearn.preprocessing import LabelBinarizer\n",
    "from sklearn.model_selection import train_test_split\n",
    "from sklearn.metrics import classification_report\n",
    "from keras.preprocessing.image   import ImageDataGenerator\n",
    "from keras.optimizers import RMSprop\n",
    "from keras.layers import Input\n",
    "from keras.models import Model\n",
    "from keras .applications import VGG16\n",
    "from keras.optimizers import SGD\n",
    "from keras.models import Model\n",
    "from imutils import paths\n",
    "import numpy as np\n",
    "import os\n",
    "\n",
    "import sys\n",
    "sys.path.append('..')\n",
    "\n",
    "from utils.preprocessors.aspect_aware_preprocessor import AspectAwarePreprocessor\n",
    "from utils.preprocessors.image_to_array_preprocessor import ImageToArrayPreprocessor\n",
    "from utils.io.simple_dataset_loader import SimpleDatasetLoader\n",
    "\n",
    "# construct the image generator for data augmentation\n",
    "aug = ImageDataGenerator(   rotation_range=30,\n",
    "                            width_shift_range=0.1,\n",
    "                            height_shift_range=0.1,\n",
    "                            shear_range=0.2,\n",
    "                            zoom_range=0.2,\n",
    "                            horizontal_flip=True,\n",
    "                            fill_mode='nearest')\n",
    "\n",
    "def load_datasets(path_list):\n",
    "    # Load image paths\n",
    "    image_paths = []\n",
    "    print(\"[INFO] loading images...\")\n",
    "    for path in path_list:\n",
    "        image_paths.extend(list(paths.list_images(path)))\n",
    "        \n",
    "    # Get unique classnames\n",
    "\n",
    "    class_names = [pt.split(os.path.sep)[-2] for pt in image_paths]\n",
    "    class_names = [str(x) for x in np.unique(class_names)]\n",
    "\n",
    "    # Initial image preprocessing\n",
    "    aap = AspectAwarePreprocessor(input_width, input_height)\n",
    "    iap= ImageToArrayPreprocessor()\n",
    "\n",
    "    #Load image data and perform image data preprocessing\n",
    "    sdl = SimpleDatasetLoader(preprocessors=[aap,iap])\n",
    "    (data,labels)  = sdl.load(image_paths,verbose=500)\n",
    "    data = data.astype(\"float\") / 255.0\n",
    "\n",
    "\n",
    "    # train test split\n",
    "    (train_x,test_x,train_y,test_y) = train_test_split(data,labels,test_size=0.25,random_state=42)\n",
    "\n",
    "    # convert the labels from integers to vectors\n",
    "    train_y = LabelBinarizer().fit_transform(train_y)\n",
    "    test_y = LabelBinarizer().fit_transform(test_y)\n",
    "    \n",
    "    return (train_x,test_x,train_y,test_y, class_names)\n",
    "\n",
    "(train_x,test_x,train_y,test_y, class_names) = load_datasets(class_paths_training)\n",
    "\n"
   ]
  },
  {
   "cell_type": "markdown",
   "metadata": {},
   "source": [
    "# Load model from disk"
   ]
  },
  {
   "cell_type": "code",
   "execution_count": 4,
   "metadata": {},
   "outputs": [],
   "source": [
    "# import tensorflow as tf\n",
    "# print(tf.__version__)\n",
    "\n",
    "\n",
    "# model = tf.keras.models.load_model(\n",
    "#     warmup_model_path,\n",
    "#     custom_objects=None,\n",
    "#     compile=False\n",
    "# )\n",
    "\n",
    "from keras.models import load_model\n",
    "\n",
    "model = load_model(warmup_model_path)"
   ]
  },
  {
   "cell_type": "markdown",
   "metadata": {},
   "source": [
    "# Print index of layers"
   ]
  },
  {
   "cell_type": "code",
   "execution_count": 5,
   "metadata": {},
   "outputs": [
    {
     "name": "stdout",
     "output_type": "stream",
     "text": [
      "[INFO] 0\tInputLayer\n",
      "[INFO] 1\tConv2D\n",
      "[INFO] 2\tConv2D\n",
      "[INFO] 3\tMaxPooling2D\n",
      "[INFO] 4\tConv2D\n",
      "[INFO] 5\tConv2D\n",
      "[INFO] 6\tMaxPooling2D\n",
      "[INFO] 7\tConv2D\n",
      "[INFO] 8\tConv2D\n",
      "[INFO] 9\tConv2D\n",
      "[INFO] 10\tMaxPooling2D\n",
      "[INFO] 11\tConv2D\n",
      "[INFO] 12\tConv2D\n",
      "[INFO] 13\tConv2D\n",
      "[INFO] 14\tMaxPooling2D\n",
      "[INFO] 15\tConv2D\n",
      "[INFO] 16\tConv2D\n",
      "[INFO] 17\tConv2D\n",
      "[INFO] 18\tMaxPooling2D\n",
      "[INFO] 19\tFlatten\n",
      "[INFO] 20\tDense\n",
      "[INFO] 21\tDropout\n",
      "[INFO] 22\tDense\n"
     ]
    }
   ],
   "source": [
    "# iterate for all layers in the network and print its' index value\n",
    "for (i,layer) in enumerate(model.layers):\n",
    "    print(\"[INFO] {}\\t{}\".format(i,layer.__class__.__name__))"
   ]
  },
  {
   "cell_type": "markdown",
   "metadata": {},
   "source": [
    "# Unfreeze final CONV layers"
   ]
  },
  {
   "cell_type": "code",
   "execution_count": 6,
   "metadata": {},
   "outputs": [
    {
     "name": "stdout",
     "output_type": "stream",
     "text": [
      "unfrozen\n"
     ]
    }
   ],
   "source": [
    "for layer in model.layers[15:]:\n",
    "    layer.trainable = True\n",
    "print('unfrozen')"
   ]
  },
  {
   "cell_type": "markdown",
   "metadata": {},
   "source": [
    "# Compile model"
   ]
  },
  {
   "cell_type": "code",
   "execution_count": 7,
   "metadata": {},
   "outputs": [
    {
     "name": "stdout",
     "output_type": "stream",
     "text": [
      "[INFO] re-compiling model ...\n"
     ]
    }
   ],
   "source": [
    "from keras.optimizers import SGD\n",
    "\n",
    "# Build the model from the new\n",
    "print(\"[INFO] re-compiling model ...\")\n",
    "opt = SGD(lr=0.001, momentum=0.09)\n",
    "# Fine-tuning with a small learning rate\n",
    "model.compile(loss = 'categorical_crossentropy',optimizer = opt,\n",
    "              metrics=['accuracy'])\n"
   ]
  },
  {
   "cell_type": "markdown",
   "metadata": {},
   "source": [
    "# Checkpoints"
   ]
  },
  {
   "cell_type": "code",
   "execution_count": 8,
   "metadata": {},
   "outputs": [],
   "source": [
    "from keras.callbacks import ModelCheckpoint\n",
    "\n",
    "\n",
    "checkpoint = ModelCheckpoint(checkpoint_path, monitor='val_loss', mode='min', \n",
    "save_best_only=True, verbose=1)\n",
    "\n",
    "callbacks = [checkpoint]\n",
    "\n"
   ]
  },
  {
   "cell_type": "code",
   "execution_count": 9,
   "metadata": {},
   "outputs": [],
   "source": [
    "#load checkpoints if existing\n",
    "\n",
    "import os\n",
    "\n",
    "if(os.path.exists(checkpoint_path)):\n",
    "    model.load_weights(checkpoint_path)"
   ]
  },
  {
   "cell_type": "markdown",
   "metadata": {},
   "source": [
    "# Training Monitor"
   ]
  },
  {
   "cell_type": "code",
   "execution_count": 10,
   "metadata": {},
   "outputs": [],
   "source": [
    "from utils.callbacks.training_monitor import TrainingMonitor\n",
    "import pathlib\n",
    "import json\n",
    "import os\n",
    "\n",
    "fig_path = \"plot\"\n",
    "json_path = \"values.json\"\n",
    "values_path = 'values.json'\n",
    "\n",
    "callbacks.append(TrainingMonitor(fig_path, json_path, start_epoch))"
   ]
  },
  {
   "cell_type": "markdown",
   "metadata": {},
   "source": [
    "# Fit model"
   ]
  },
  {
   "cell_type": "code",
   "execution_count": 11,
   "metadata": {},
   "outputs": [
    {
     "name": "stdout",
     "output_type": "stream",
     "text": [
      "Epoch 1/100\n",
      "126/126 [==============================] - 69s 546ms/step - loss: 0.3053 - accuracy: 0.8927 - val_loss: 0.1850 - val_accuracy: 0.9415\n",
      "\n",
      "Epoch 00001: val_loss improved from inf to 0.18497, saving model to checkpoints-finetuning.hdf5\n",
      "Epoch 2/100\n",
      "126/126 [==============================] - 65s 518ms/step - loss: 0.1881 - accuracy: 0.9338 - val_loss: 0.1182 - val_accuracy: 0.9578\n",
      "\n",
      "Epoch 00002: val_loss improved from 0.18497 to 0.11816, saving model to checkpoints-finetuning.hdf5\n",
      "Epoch 3/100\n",
      "126/126 [==============================] - 65s 515ms/step - loss: 0.1629 - accuracy: 0.9415 - val_loss: 0.1102 - val_accuracy: 0.9585\n",
      "\n",
      "Epoch 00003: val_loss improved from 0.11816 to 0.11019, saving model to checkpoints-finetuning.hdf5\n",
      "Epoch 4/100\n",
      "126/126 [==============================] - 65s 514ms/step - loss: 0.1427 - accuracy: 0.9532 - val_loss: 0.0895 - val_accuracy: 0.9697\n",
      "\n",
      "Epoch 00004: val_loss improved from 0.11019 to 0.08954, saving model to checkpoints-finetuning.hdf5\n",
      "Epoch 5/100\n",
      "126/126 [==============================] - 65s 517ms/step - loss: 0.1284 - accuracy: 0.9550 - val_loss: 0.1188 - val_accuracy: 0.9556\n",
      "\n",
      "Epoch 00005: val_loss did not improve from 0.08954\n",
      "Epoch 6/100\n",
      "126/126 [==============================] - 64s 506ms/step - loss: 0.1116 - accuracy: 0.9612 - val_loss: 0.0689 - val_accuracy: 0.9778\n",
      "\n",
      "Epoch 00006: val_loss improved from 0.08954 to 0.06895, saving model to checkpoints-finetuning.hdf5\n",
      "Epoch 7/100\n",
      "126/126 [==============================] - 65s 512ms/step - loss: 0.0995 - accuracy: 0.9654 - val_loss: 0.1147 - val_accuracy: 0.9578\n",
      "\n",
      "Epoch 00007: val_loss did not improve from 0.06895\n",
      "Epoch 8/100\n",
      "126/126 [==============================] - 70s 554ms/step - loss: 0.1027 - accuracy: 0.9669 - val_loss: 0.1064 - val_accuracy: 0.9674\n",
      "\n",
      "Epoch 00008: val_loss did not improve from 0.06895\n",
      "Epoch 9/100\n",
      "126/126 [==============================] - 66s 524ms/step - loss: 0.0948 - accuracy: 0.9667 - val_loss: 0.0586 - val_accuracy: 0.9845\n",
      "\n",
      "Epoch 00009: val_loss improved from 0.06895 to 0.05864, saving model to checkpoints-finetuning.hdf5\n",
      "Epoch 10/100\n",
      "126/126 [==============================] - 65s 516ms/step - loss: 0.0907 - accuracy: 0.9669 - val_loss: 0.1139 - val_accuracy: 0.9615\n",
      "\n",
      "Epoch 00010: val_loss did not improve from 0.05864\n",
      "Epoch 11/100\n",
      "126/126 [==============================] - 65s 516ms/step - loss: 0.0802 - accuracy: 0.9741 - val_loss: 0.0588 - val_accuracy: 0.9852\n",
      "\n",
      "Epoch 00011: val_loss did not improve from 0.05864\n",
      "Epoch 12/100\n",
      "126/126 [==============================] - 64s 511ms/step - loss: 0.0810 - accuracy: 0.9711 - val_loss: 0.0626 - val_accuracy: 0.9815\n",
      "\n",
      "Epoch 00012: val_loss did not improve from 0.05864\n",
      "Epoch 13/100\n",
      "126/126 [==============================] - 64s 510ms/step - loss: 0.0733 - accuracy: 0.9746 - val_loss: 0.0727 - val_accuracy: 0.9763\n",
      "\n",
      "Epoch 00013: val_loss did not improve from 0.05864\n",
      "Epoch 14/100\n",
      "126/126 [==============================] - 64s 507ms/step - loss: 0.0690 - accuracy: 0.9746 - val_loss: 0.1042 - val_accuracy: 0.9623\n",
      "\n",
      "Epoch 00014: val_loss did not improve from 0.05864\n",
      "Epoch 15/100\n",
      "126/126 [==============================] - 64s 508ms/step - loss: 0.0769 - accuracy: 0.9711 - val_loss: 0.0908 - val_accuracy: 0.9704\n",
      "\n",
      "Epoch 00015: val_loss did not improve from 0.05864\n",
      "Epoch 16/100\n",
      "126/126 [==============================] - 64s 504ms/step - loss: 0.0597 - accuracy: 0.9801 - val_loss: 0.0601 - val_accuracy: 0.9837\n",
      "\n",
      "Epoch 00016: val_loss did not improve from 0.05864\n",
      "Epoch 17/100\n",
      "126/126 [==============================] - 63s 501ms/step - loss: 0.0587 - accuracy: 0.9791 - val_loss: 0.1015 - val_accuracy: 0.9667\n",
      "\n",
      "Epoch 00017: val_loss did not improve from 0.05864\n",
      "Epoch 18/100\n",
      "126/126 [==============================] - 64s 506ms/step - loss: 0.0577 - accuracy: 0.9786 - val_loss: 0.0550 - val_accuracy: 0.9845\n",
      "\n",
      "Epoch 00018: val_loss improved from 0.05864 to 0.05504, saving model to checkpoints-finetuning.hdf5\n",
      "Epoch 19/100\n",
      "126/126 [==============================] - 64s 507ms/step - loss: 0.0594 - accuracy: 0.9793 - val_loss: 0.0661 - val_accuracy: 0.9771\n",
      "\n",
      "Epoch 00019: val_loss did not improve from 0.05504\n",
      "Epoch 20/100\n",
      "126/126 [==============================] - 63s 501ms/step - loss: 0.0587 - accuracy: 0.9801 - val_loss: 0.0532 - val_accuracy: 0.9845\n",
      "\n",
      "Epoch 00020: val_loss improved from 0.05504 to 0.05318, saving model to checkpoints-finetuning.hdf5\n",
      "Epoch 21/100\n",
      "126/126 [==============================] - 63s 499ms/step - loss: 0.0510 - accuracy: 0.9836 - val_loss: 0.0554 - val_accuracy: 0.9837\n",
      "\n",
      "Epoch 00021: val_loss did not improve from 0.05318\n",
      "Epoch 22/100\n",
      "126/126 [==============================] - 63s 500ms/step - loss: 0.0493 - accuracy: 0.9829 - val_loss: 0.0635 - val_accuracy: 0.9763\n",
      "\n",
      "Epoch 00022: val_loss did not improve from 0.05318\n",
      "Epoch 23/100\n",
      "126/126 [==============================] - 62s 494ms/step - loss: 0.0512 - accuracy: 0.9808 - val_loss: 0.0531 - val_accuracy: 0.9845\n",
      "\n",
      "Epoch 00023: val_loss improved from 0.05318 to 0.05308, saving model to checkpoints-finetuning.hdf5\n",
      "Epoch 24/100\n",
      "126/126 [==============================] - 64s 504ms/step - loss: 0.0437 - accuracy: 0.9841 - val_loss: 0.0581 - val_accuracy: 0.9785\n",
      "\n",
      "Epoch 00024: val_loss did not improve from 0.05308\n",
      "Epoch 25/100\n",
      "126/126 [==============================] - 62s 495ms/step - loss: 0.0511 - accuracy: 0.9843 - val_loss: 0.0488 - val_accuracy: 0.9867\n",
      "\n",
      "Epoch 00025: val_loss improved from 0.05308 to 0.04876, saving model to checkpoints-finetuning.hdf5\n",
      "Epoch 26/100\n",
      "126/126 [==============================] - 63s 503ms/step - loss: 0.0468 - accuracy: 0.9836 - val_loss: 0.0703 - val_accuracy: 0.9785\n",
      "\n",
      "Epoch 00026: val_loss did not improve from 0.04876\n",
      "Epoch 27/100\n",
      "126/126 [==============================] - 62s 490ms/step - loss: 0.0488 - accuracy: 0.9813 - val_loss: 0.0644 - val_accuracy: 0.9793\n",
      "\n",
      "Epoch 00027: val_loss did not improve from 0.04876\n",
      "Epoch 28/100\n",
      "126/126 [==============================] - 62s 495ms/step - loss: 0.0424 - accuracy: 0.9861 - val_loss: 0.0588 - val_accuracy: 0.9800\n",
      "\n",
      "Epoch 00028: val_loss did not improve from 0.04876\n",
      "Epoch 29/100\n",
      "126/126 [==============================] - 62s 491ms/step - loss: 0.0419 - accuracy: 0.9850 - val_loss: 0.0610 - val_accuracy: 0.9800\n",
      "\n",
      "Epoch 00029: val_loss did not improve from 0.04876\n",
      "Epoch 30/100\n",
      "126/126 [==============================] - 63s 497ms/step - loss: 0.0371 - accuracy: 0.9871 - val_loss: 0.0389 - val_accuracy: 0.9911\n",
      "\n",
      "Epoch 00030: val_loss improved from 0.04876 to 0.03889, saving model to checkpoints-finetuning.hdf5\n",
      "Epoch 31/100\n",
      "126/126 [==============================] - 62s 492ms/step - loss: 0.0426 - accuracy: 0.9869 - val_loss: 0.0610 - val_accuracy: 0.9830\n",
      "\n",
      "Epoch 00031: val_loss did not improve from 0.03889\n",
      "Epoch 32/100\n",
      "126/126 [==============================] - 63s 497ms/step - loss: 0.0324 - accuracy: 0.9905 - val_loss: 0.0384 - val_accuracy: 0.9889\n",
      "\n",
      "Epoch 00032: val_loss improved from 0.03889 to 0.03841, saving model to checkpoints-finetuning.hdf5\n",
      "Epoch 33/100\n",
      "126/126 [==============================] - 63s 497ms/step - loss: 0.0365 - accuracy: 0.9870 - val_loss: 0.0578 - val_accuracy: 0.9845\n",
      "\n",
      "Epoch 00033: val_loss did not improve from 0.03841\n",
      "Epoch 34/100\n",
      "126/126 [==============================] - 62s 489ms/step - loss: 0.0405 - accuracy: 0.9871 - val_loss: 0.0662 - val_accuracy: 0.9778\n",
      "\n",
      "Epoch 00034: val_loss did not improve from 0.03841\n",
      "Epoch 35/100\n",
      "126/126 [==============================] - 62s 492ms/step - loss: 0.0300 - accuracy: 0.9900 - val_loss: 0.0635 - val_accuracy: 0.9756\n",
      "\n",
      "Epoch 00035: val_loss did not improve from 0.03841\n",
      "Epoch 36/100\n",
      "126/126 [==============================] - 63s 497ms/step - loss: 0.0323 - accuracy: 0.9883 - val_loss: 0.0704 - val_accuracy: 0.9748\n",
      "\n",
      "Epoch 00036: val_loss did not improve from 0.03841\n",
      "Epoch 37/100\n",
      "126/126 [==============================] - 62s 492ms/step - loss: 0.0339 - accuracy: 0.9874 - val_loss: 0.0457 - val_accuracy: 0.9874\n",
      "\n",
      "Epoch 00037: val_loss did not improve from 0.03841\n",
      "Epoch 38/100\n",
      "126/126 [==============================] - 62s 492ms/step - loss: 0.0300 - accuracy: 0.9880 - val_loss: 0.0450 - val_accuracy: 0.9859\n",
      "\n",
      "Epoch 00038: val_loss did not improve from 0.03841\n",
      "Epoch 39/100\n",
      "126/126 [==============================] - 63s 497ms/step - loss: 0.0303 - accuracy: 0.9908 - val_loss: 0.0403 - val_accuracy: 0.9889\n",
      "\n",
      "Epoch 00039: val_loss did not improve from 0.03841\n",
      "Epoch 40/100\n",
      "126/126 [==============================] - 62s 492ms/step - loss: 0.0295 - accuracy: 0.9893 - val_loss: 0.0707 - val_accuracy: 0.9793\n",
      "\n",
      "Epoch 00040: val_loss did not improve from 0.03841\n",
      "Epoch 41/100\n",
      "126/126 [==============================] - 61s 487ms/step - loss: 0.0286 - accuracy: 0.9908 - val_loss: 0.0392 - val_accuracy: 0.9904\n",
      "\n",
      "Epoch 00041: val_loss did not improve from 0.03841\n",
      "Epoch 42/100\n",
      "126/126 [==============================] - 62s 490ms/step - loss: 0.0302 - accuracy: 0.9896 - val_loss: 0.0430 - val_accuracy: 0.9896\n",
      "\n",
      "Epoch 00042: val_loss did not improve from 0.03841\n",
      "Epoch 43/100\n",
      "126/126 [==============================] - 61s 483ms/step - loss: 0.0284 - accuracy: 0.9895 - val_loss: 0.0626 - val_accuracy: 0.9771\n",
      "\n",
      "Epoch 00043: val_loss did not improve from 0.03841\n",
      "Epoch 44/100\n",
      "126/126 [==============================] - 61s 487ms/step - loss: 0.0328 - accuracy: 0.9886 - val_loss: 0.0642 - val_accuracy: 0.9808\n",
      "\n",
      "Epoch 00044: val_loss did not improve from 0.03841\n",
      "Epoch 45/100\n",
      "126/126 [==============================] - 61s 483ms/step - loss: 0.0334 - accuracy: 0.9881 - val_loss: 0.0786 - val_accuracy: 0.9778\n",
      "\n",
      "Epoch 00045: val_loss did not improve from 0.03841\n",
      "Epoch 46/100\n",
      "126/126 [==============================] - 61s 486ms/step - loss: 0.0228 - accuracy: 0.9933 - val_loss: 0.0691 - val_accuracy: 0.9800\n",
      "\n",
      "Epoch 00046: val_loss did not improve from 0.03841\n",
      "Epoch 47/100\n",
      "126/126 [==============================] - 61s 483ms/step - loss: 0.0277 - accuracy: 0.9900 - val_loss: 0.0820 - val_accuracy: 0.9763\n",
      "\n",
      "Epoch 00047: val_loss did not improve from 0.03841\n",
      "Epoch 48/100\n",
      "126/126 [==============================] - 62s 490ms/step - loss: 0.0284 - accuracy: 0.9893 - val_loss: 0.0693 - val_accuracy: 0.9734\n",
      "\n",
      "Epoch 00048: val_loss did not improve from 0.03841\n",
      "Epoch 49/100\n",
      "126/126 [==============================] - 61s 482ms/step - loss: 0.0208 - accuracy: 0.9926 - val_loss: 0.1292 - val_accuracy: 0.9623\n",
      "\n",
      "Epoch 00049: val_loss did not improve from 0.03841\n",
      "Epoch 50/100\n",
      "126/126 [==============================] - 61s 486ms/step - loss: 0.0298 - accuracy: 0.9888 - val_loss: 0.0619 - val_accuracy: 0.9822\n",
      "\n",
      "Epoch 00050: val_loss did not improve from 0.03841\n",
      "Epoch 51/100\n",
      "126/126 [==============================] - 61s 481ms/step - loss: 0.0216 - accuracy: 0.9935 - val_loss: 0.0396 - val_accuracy: 0.9896\n",
      "\n",
      "Epoch 00051: val_loss did not improve from 0.03841\n",
      "Epoch 52/100\n",
      "126/126 [==============================] - 61s 487ms/step - loss: 0.0174 - accuracy: 0.9948 - val_loss: 0.0481 - val_accuracy: 0.9874\n",
      "\n",
      "Epoch 00052: val_loss did not improve from 0.03841\n",
      "Epoch 53/100\n",
      "126/126 [==============================] - 61s 482ms/step - loss: 0.0234 - accuracy: 0.9905 - val_loss: 0.0487 - val_accuracy: 0.9859\n",
      "\n",
      "Epoch 00053: val_loss did not improve from 0.03841\n",
      "Epoch 54/100\n",
      "126/126 [==============================] - 61s 481ms/step - loss: 0.0252 - accuracy: 0.9910 - val_loss: 0.0900 - val_accuracy: 0.9756\n",
      "\n",
      "Epoch 00054: val_loss did not improve from 0.03841\n",
      "Epoch 55/100\n",
      "126/126 [==============================] - 60s 478ms/step - loss: 0.0191 - accuracy: 0.9928 - val_loss: 0.0646 - val_accuracy: 0.9800\n",
      "\n",
      "Epoch 00055: val_loss did not improve from 0.03841\n",
      "Epoch 56/100\n",
      "126/126 [==============================] - 60s 475ms/step - loss: 0.0220 - accuracy: 0.9923 - val_loss: 0.0509 - val_accuracy: 0.9867\n",
      "\n",
      "Epoch 00056: val_loss did not improve from 0.03841\n",
      "Epoch 57/100\n",
      "126/126 [==============================] - 66s 521ms/step - loss: 0.0252 - accuracy: 0.9908 - val_loss: 0.0377 - val_accuracy: 0.9896\n",
      "\n",
      "Epoch 00057: val_loss improved from 0.03841 to 0.03774, saving model to checkpoints-finetuning.hdf5\n",
      "Epoch 58/100\n",
      "126/126 [==============================] - 60s 477ms/step - loss: 0.0206 - accuracy: 0.9935 - val_loss: 0.0525 - val_accuracy: 0.9859\n",
      "\n",
      "Epoch 00058: val_loss did not improve from 0.03774\n",
      "Epoch 59/100\n",
      "126/126 [==============================] - 61s 481ms/step - loss: 0.0255 - accuracy: 0.9900 - val_loss: 0.1113 - val_accuracy: 0.9734\n",
      "\n",
      "Epoch 00059: val_loss did not improve from 0.03774\n",
      "Epoch 60/100\n",
      "126/126 [==============================] - 61s 488ms/step - loss: 0.0161 - accuracy: 0.9948 - val_loss: 0.0471 - val_accuracy: 0.9882\n",
      "\n",
      "Epoch 00060: val_loss did not improve from 0.03774\n",
      "Epoch 61/100\n",
      "126/126 [==============================] - 62s 495ms/step - loss: 0.0140 - accuracy: 0.9958 - val_loss: 0.0799 - val_accuracy: 0.9785\n",
      "\n",
      "Epoch 00061: val_loss did not improve from 0.03774\n",
      "Epoch 62/100\n",
      "126/126 [==============================] - 60s 480ms/step - loss: 0.0212 - accuracy: 0.9935 - val_loss: 0.0594 - val_accuracy: 0.9845\n",
      "\n",
      "Epoch 00062: val_loss did not improve from 0.03774\n",
      "Epoch 63/100\n",
      "126/126 [==============================] - 62s 493ms/step - loss: 0.0167 - accuracy: 0.9953 - val_loss: 0.0512 - val_accuracy: 0.9867\n",
      "\n",
      "Epoch 00063: val_loss did not improve from 0.03774\n",
      "Epoch 64/100\n",
      "126/126 [==============================] - 61s 483ms/step - loss: 0.0189 - accuracy: 0.9928 - val_loss: 0.0813 - val_accuracy: 0.9785\n",
      "\n",
      "Epoch 00064: val_loss did not improve from 0.03774\n",
      "Epoch 65/100\n",
      "125/126 [============================>.] - ETA: 0s - loss: 0.0232 - accuracy: 0.9924"
     ]
    },
    {
     "ename": "KeyboardInterrupt",
     "evalue": "",
     "output_type": "error",
     "traceback": [
      "\u001b[0;31m---------------------------------------------------------------------------\u001b[0m",
      "\u001b[0;31mKeyboardInterrupt\u001b[0m                         Traceback (most recent call last)",
      "\u001b[0;32m<ipython-input-11-644e761b1759>\u001b[0m in \u001b[0;36m<module>\u001b[0;34m\u001b[0m\n\u001b[1;32m      5\u001b[0m              \u001b[0msteps_per_epoch\u001b[0m \u001b[0;34m=\u001b[0m \u001b[0mlen\u001b[0m\u001b[0;34m(\u001b[0m\u001b[0mtrain_x\u001b[0m\u001b[0;34m)\u001b[0m \u001b[0;34m//\u001b[0m\u001b[0;36m32\u001b[0m\u001b[0;34m,\u001b[0m\u001b[0;34m\u001b[0m\u001b[0m\n\u001b[1;32m      6\u001b[0m              \u001b[0mverbose\u001b[0m \u001b[0;34m=\u001b[0m \u001b[0;36m1\u001b[0m\u001b[0;34m,\u001b[0m\u001b[0;34m\u001b[0m\u001b[0m\n\u001b[0;32m----> 7\u001b[0;31m              callbacks=callbacks)\n\u001b[0m",
      "\u001b[0;32m/usr/local/lib/python3.5/dist-packages/keras/legacy/interfaces.py\u001b[0m in \u001b[0;36mwrapper\u001b[0;34m(*args, **kwargs)\u001b[0m\n\u001b[1;32m     89\u001b[0m                 warnings.warn('Update your `' + object_name + '` call to the ' +\n\u001b[1;32m     90\u001b[0m                               'Keras 2 API: ' + signature, stacklevel=2)\n\u001b[0;32m---> 91\u001b[0;31m             \u001b[0;32mreturn\u001b[0m \u001b[0mfunc\u001b[0m\u001b[0;34m(\u001b[0m\u001b[0;34m*\u001b[0m\u001b[0margs\u001b[0m\u001b[0;34m,\u001b[0m \u001b[0;34m**\u001b[0m\u001b[0mkwargs\u001b[0m\u001b[0;34m)\u001b[0m\u001b[0;34m\u001b[0m\u001b[0m\n\u001b[0m\u001b[1;32m     92\u001b[0m         \u001b[0mwrapper\u001b[0m\u001b[0;34m.\u001b[0m\u001b[0m_original_function\u001b[0m \u001b[0;34m=\u001b[0m \u001b[0mfunc\u001b[0m\u001b[0;34m\u001b[0m\u001b[0m\n\u001b[1;32m     93\u001b[0m         \u001b[0;32mreturn\u001b[0m \u001b[0mwrapper\u001b[0m\u001b[0;34m\u001b[0m\u001b[0m\n",
      "\u001b[0;32m/usr/local/lib/python3.5/dist-packages/keras/engine/training.py\u001b[0m in \u001b[0;36mfit_generator\u001b[0;34m(self, generator, steps_per_epoch, epochs, verbose, callbacks, validation_data, validation_steps, validation_freq, class_weight, max_queue_size, workers, use_multiprocessing, shuffle, initial_epoch)\u001b[0m\n\u001b[1;32m   1730\u001b[0m             \u001b[0muse_multiprocessing\u001b[0m\u001b[0;34m=\u001b[0m\u001b[0muse_multiprocessing\u001b[0m\u001b[0;34m,\u001b[0m\u001b[0;34m\u001b[0m\u001b[0m\n\u001b[1;32m   1731\u001b[0m             \u001b[0mshuffle\u001b[0m\u001b[0;34m=\u001b[0m\u001b[0mshuffle\u001b[0m\u001b[0;34m,\u001b[0m\u001b[0;34m\u001b[0m\u001b[0m\n\u001b[0;32m-> 1732\u001b[0;31m             initial_epoch=initial_epoch)\n\u001b[0m\u001b[1;32m   1733\u001b[0m \u001b[0;34m\u001b[0m\u001b[0m\n\u001b[1;32m   1734\u001b[0m     \u001b[0;34m@\u001b[0m\u001b[0minterfaces\u001b[0m\u001b[0;34m.\u001b[0m\u001b[0mlegacy_generator_methods_support\u001b[0m\u001b[0;34m\u001b[0m\u001b[0m\n",
      "\u001b[0;32m/usr/local/lib/python3.5/dist-packages/keras/engine/training_generator.py\u001b[0m in \u001b[0;36mfit_generator\u001b[0;34m(model, generator, steps_per_epoch, epochs, verbose, callbacks, validation_data, validation_steps, validation_freq, class_weight, max_queue_size, workers, use_multiprocessing, shuffle, initial_epoch)\u001b[0m\n\u001b[1;32m    249\u001b[0m                             \u001b[0msample_weight\u001b[0m\u001b[0;34m=\u001b[0m\u001b[0mval_sample_weights\u001b[0m\u001b[0;34m,\u001b[0m\u001b[0;34m\u001b[0m\u001b[0m\n\u001b[1;32m    250\u001b[0m                             \u001b[0mcallbacks\u001b[0m\u001b[0;34m=\u001b[0m\u001b[0mcallbacks\u001b[0m\u001b[0;34m,\u001b[0m\u001b[0;34m\u001b[0m\u001b[0m\n\u001b[0;32m--> 251\u001b[0;31m                             verbose=0)\n\u001b[0m\u001b[1;32m    252\u001b[0m                     \u001b[0mval_outs\u001b[0m \u001b[0;34m=\u001b[0m \u001b[0mto_list\u001b[0m\u001b[0;34m(\u001b[0m\u001b[0mval_outs\u001b[0m\u001b[0;34m)\u001b[0m\u001b[0;34m\u001b[0m\u001b[0m\n\u001b[1;32m    253\u001b[0m                     \u001b[0;31m# Same labels assumed.\u001b[0m\u001b[0;34m\u001b[0m\u001b[0;34m\u001b[0m\u001b[0m\n",
      "\u001b[0;32m/usr/local/lib/python3.5/dist-packages/keras/engine/training.py\u001b[0m in \u001b[0;36mevaluate\u001b[0;34m(self, x, y, batch_size, verbose, sample_weight, steps, callbacks, max_queue_size, workers, use_multiprocessing)\u001b[0m\n\u001b[1;32m   1359\u001b[0m                                          \u001b[0mverbose\u001b[0m\u001b[0;34m=\u001b[0m\u001b[0mverbose\u001b[0m\u001b[0;34m,\u001b[0m\u001b[0;34m\u001b[0m\u001b[0m\n\u001b[1;32m   1360\u001b[0m                                          \u001b[0msteps\u001b[0m\u001b[0;34m=\u001b[0m\u001b[0msteps\u001b[0m\u001b[0;34m,\u001b[0m\u001b[0;34m\u001b[0m\u001b[0m\n\u001b[0;32m-> 1361\u001b[0;31m                                          callbacks=callbacks)\n\u001b[0m\u001b[1;32m   1362\u001b[0m \u001b[0;34m\u001b[0m\u001b[0m\n\u001b[1;32m   1363\u001b[0m     def predict(self, x,\n",
      "\u001b[0;32m/usr/local/lib/python3.5/dist-packages/keras/engine/training_arrays.py\u001b[0m in \u001b[0;36mtest_loop\u001b[0;34m(model, f, ins, batch_size, verbose, steps, callbacks)\u001b[0m\n\u001b[1;32m    447\u001b[0m             \u001b[0mbatch_logs\u001b[0m \u001b[0;34m=\u001b[0m \u001b[0;34m{\u001b[0m\u001b[0;34m'batch'\u001b[0m\u001b[0;34m:\u001b[0m \u001b[0mbatch_index\u001b[0m\u001b[0;34m,\u001b[0m \u001b[0;34m'size'\u001b[0m\u001b[0;34m:\u001b[0m \u001b[0mlen\u001b[0m\u001b[0;34m(\u001b[0m\u001b[0mbatch_ids\u001b[0m\u001b[0;34m)\u001b[0m\u001b[0;34m}\u001b[0m\u001b[0;34m\u001b[0m\u001b[0m\n\u001b[1;32m    448\u001b[0m             \u001b[0mcallbacks\u001b[0m\u001b[0;34m.\u001b[0m\u001b[0m_call_batch_hook\u001b[0m\u001b[0;34m(\u001b[0m\u001b[0;34m'test'\u001b[0m\u001b[0;34m,\u001b[0m \u001b[0;34m'begin'\u001b[0m\u001b[0;34m,\u001b[0m \u001b[0mbatch_index\u001b[0m\u001b[0;34m,\u001b[0m \u001b[0mbatch_logs\u001b[0m\u001b[0;34m)\u001b[0m\u001b[0;34m\u001b[0m\u001b[0m\n\u001b[0;32m--> 449\u001b[0;31m             \u001b[0mbatch_outs\u001b[0m \u001b[0;34m=\u001b[0m \u001b[0mf\u001b[0m\u001b[0;34m(\u001b[0m\u001b[0mins_batch\u001b[0m\u001b[0;34m)\u001b[0m\u001b[0;34m\u001b[0m\u001b[0m\n\u001b[0m\u001b[1;32m    450\u001b[0m             \u001b[0;32mif\u001b[0m \u001b[0misinstance\u001b[0m\u001b[0;34m(\u001b[0m\u001b[0mbatch_outs\u001b[0m\u001b[0;34m,\u001b[0m \u001b[0mlist\u001b[0m\u001b[0;34m)\u001b[0m\u001b[0;34m:\u001b[0m\u001b[0;34m\u001b[0m\u001b[0m\n\u001b[1;32m    451\u001b[0m                 \u001b[0;32mif\u001b[0m \u001b[0mbatch_index\u001b[0m \u001b[0;34m==\u001b[0m \u001b[0;36m0\u001b[0m\u001b[0;34m:\u001b[0m\u001b[0;34m\u001b[0m\u001b[0m\n",
      "\u001b[0;32m/usr/local/lib/python3.5/dist-packages/tensorflow_core/python/keras/backend.py\u001b[0m in \u001b[0;36m__call__\u001b[0;34m(self, inputs)\u001b[0m\n\u001b[1;32m   3725\u001b[0m         \u001b[0mvalue\u001b[0m \u001b[0;34m=\u001b[0m \u001b[0mmath_ops\u001b[0m\u001b[0;34m.\u001b[0m\u001b[0mcast\u001b[0m\u001b[0;34m(\u001b[0m\u001b[0mvalue\u001b[0m\u001b[0;34m,\u001b[0m \u001b[0mtensor\u001b[0m\u001b[0;34m.\u001b[0m\u001b[0mdtype\u001b[0m\u001b[0;34m)\u001b[0m\u001b[0;34m\u001b[0m\u001b[0m\n\u001b[1;32m   3726\u001b[0m       \u001b[0mconverted_inputs\u001b[0m\u001b[0;34m.\u001b[0m\u001b[0mappend\u001b[0m\u001b[0;34m(\u001b[0m\u001b[0mvalue\u001b[0m\u001b[0;34m)\u001b[0m\u001b[0;34m\u001b[0m\u001b[0m\n\u001b[0;32m-> 3727\u001b[0;31m     \u001b[0moutputs\u001b[0m \u001b[0;34m=\u001b[0m \u001b[0mself\u001b[0m\u001b[0;34m.\u001b[0m\u001b[0m_graph_fn\u001b[0m\u001b[0;34m(\u001b[0m\u001b[0;34m*\u001b[0m\u001b[0mconverted_inputs\u001b[0m\u001b[0;34m)\u001b[0m\u001b[0;34m\u001b[0m\u001b[0m\n\u001b[0m\u001b[1;32m   3728\u001b[0m \u001b[0;34m\u001b[0m\u001b[0m\n\u001b[1;32m   3729\u001b[0m     \u001b[0;31m# EagerTensor.numpy() will often make a copy to ensure memory safety.\u001b[0m\u001b[0;34m\u001b[0m\u001b[0;34m\u001b[0m\u001b[0m\n",
      "\u001b[0;32m/usr/local/lib/python3.5/dist-packages/tensorflow_core/python/eager/function.py\u001b[0m in \u001b[0;36m__call__\u001b[0;34m(self, *args, **kwargs)\u001b[0m\n\u001b[1;32m   1549\u001b[0m       \u001b[0mTypeError\u001b[0m\u001b[0;34m:\u001b[0m \u001b[0mFor\u001b[0m \u001b[0minvalid\u001b[0m \u001b[0mpositional\u001b[0m\u001b[0;34m/\u001b[0m\u001b[0mkeyword\u001b[0m \u001b[0margument\u001b[0m \u001b[0mcombinations\u001b[0m\u001b[0;34m.\u001b[0m\u001b[0;34m\u001b[0m\u001b[0m\n\u001b[1;32m   1550\u001b[0m     \"\"\"\n\u001b[0;32m-> 1551\u001b[0;31m     \u001b[0;32mreturn\u001b[0m \u001b[0mself\u001b[0m\u001b[0;34m.\u001b[0m\u001b[0m_call_impl\u001b[0m\u001b[0;34m(\u001b[0m\u001b[0margs\u001b[0m\u001b[0;34m,\u001b[0m \u001b[0mkwargs\u001b[0m\u001b[0;34m)\u001b[0m\u001b[0;34m\u001b[0m\u001b[0m\n\u001b[0m\u001b[1;32m   1552\u001b[0m \u001b[0;34m\u001b[0m\u001b[0m\n\u001b[1;32m   1553\u001b[0m   \u001b[0;32mdef\u001b[0m \u001b[0m_call_impl\u001b[0m\u001b[0;34m(\u001b[0m\u001b[0mself\u001b[0m\u001b[0;34m,\u001b[0m \u001b[0margs\u001b[0m\u001b[0;34m,\u001b[0m \u001b[0mkwargs\u001b[0m\u001b[0;34m,\u001b[0m \u001b[0mcancellation_manager\u001b[0m\u001b[0;34m=\u001b[0m\u001b[0;32mNone\u001b[0m\u001b[0;34m)\u001b[0m\u001b[0;34m:\u001b[0m\u001b[0;34m\u001b[0m\u001b[0m\n",
      "\u001b[0;32m/usr/local/lib/python3.5/dist-packages/tensorflow_core/python/eager/function.py\u001b[0m in \u001b[0;36m_call_impl\u001b[0;34m(self, args, kwargs, cancellation_manager)\u001b[0m\n\u001b[1;32m   1589\u001b[0m       raise TypeError(\"Keyword arguments {} unknown. Expected {}.\".format(\n\u001b[1;32m   1590\u001b[0m           list(kwargs.keys()), list(self._arg_keywords)))\n\u001b[0;32m-> 1591\u001b[0;31m     \u001b[0;32mreturn\u001b[0m \u001b[0mself\u001b[0m\u001b[0;34m.\u001b[0m\u001b[0m_call_flat\u001b[0m\u001b[0;34m(\u001b[0m\u001b[0margs\u001b[0m\u001b[0;34m,\u001b[0m \u001b[0mself\u001b[0m\u001b[0;34m.\u001b[0m\u001b[0mcaptured_inputs\u001b[0m\u001b[0;34m,\u001b[0m \u001b[0mcancellation_manager\u001b[0m\u001b[0;34m)\u001b[0m\u001b[0;34m\u001b[0m\u001b[0m\n\u001b[0m\u001b[1;32m   1592\u001b[0m \u001b[0;34m\u001b[0m\u001b[0m\n\u001b[1;32m   1593\u001b[0m   \u001b[0;32mdef\u001b[0m \u001b[0m_filtered_call\u001b[0m\u001b[0;34m(\u001b[0m\u001b[0mself\u001b[0m\u001b[0;34m,\u001b[0m \u001b[0margs\u001b[0m\u001b[0;34m,\u001b[0m \u001b[0mkwargs\u001b[0m\u001b[0;34m)\u001b[0m\u001b[0;34m:\u001b[0m\u001b[0;34m\u001b[0m\u001b[0m\n",
      "\u001b[0;32m/usr/local/lib/python3.5/dist-packages/tensorflow_core/python/eager/function.py\u001b[0m in \u001b[0;36m_call_flat\u001b[0;34m(self, args, captured_inputs, cancellation_manager)\u001b[0m\n\u001b[1;32m   1690\u001b[0m       \u001b[0;31m# No tape is watching; skip to running the function.\u001b[0m\u001b[0;34m\u001b[0m\u001b[0;34m\u001b[0m\u001b[0m\n\u001b[1;32m   1691\u001b[0m       return self._build_call_outputs(self._inference_function.call(\n\u001b[0;32m-> 1692\u001b[0;31m           ctx, args, cancellation_manager=cancellation_manager))\n\u001b[0m\u001b[1;32m   1693\u001b[0m     forward_backward = self._select_forward_and_backward_functions(\n\u001b[1;32m   1694\u001b[0m         \u001b[0margs\u001b[0m\u001b[0;34m,\u001b[0m\u001b[0;34m\u001b[0m\u001b[0m\n",
      "\u001b[0;32m/usr/local/lib/python3.5/dist-packages/tensorflow_core/python/eager/function.py\u001b[0m in \u001b[0;36mcall\u001b[0;34m(self, ctx, args, cancellation_manager)\u001b[0m\n\u001b[1;32m    543\u001b[0m               \u001b[0minputs\u001b[0m\u001b[0;34m=\u001b[0m\u001b[0margs\u001b[0m\u001b[0;34m,\u001b[0m\u001b[0;34m\u001b[0m\u001b[0m\n\u001b[1;32m    544\u001b[0m               \u001b[0mattrs\u001b[0m\u001b[0;34m=\u001b[0m\u001b[0;34m(\u001b[0m\u001b[0;34m\"executor_type\"\u001b[0m\u001b[0;34m,\u001b[0m \u001b[0mexecutor_type\u001b[0m\u001b[0;34m,\u001b[0m \u001b[0;34m\"config_proto\"\u001b[0m\u001b[0;34m,\u001b[0m \u001b[0mconfig\u001b[0m\u001b[0;34m)\u001b[0m\u001b[0;34m,\u001b[0m\u001b[0;34m\u001b[0m\u001b[0m\n\u001b[0;32m--> 545\u001b[0;31m               ctx=ctx)\n\u001b[0m\u001b[1;32m    546\u001b[0m         \u001b[0;32melse\u001b[0m\u001b[0;34m:\u001b[0m\u001b[0;34m\u001b[0m\u001b[0m\n\u001b[1;32m    547\u001b[0m           outputs = execute.execute_with_cancellation(\n",
      "\u001b[0;32m/usr/local/lib/python3.5/dist-packages/tensorflow_core/python/eager/execute.py\u001b[0m in \u001b[0;36mquick_execute\u001b[0;34m(op_name, num_outputs, inputs, attrs, ctx, name)\u001b[0m\n\u001b[1;32m     59\u001b[0m     tensors = pywrap_tensorflow.TFE_Py_Execute(ctx._handle, device_name,\n\u001b[1;32m     60\u001b[0m                                                \u001b[0mop_name\u001b[0m\u001b[0;34m,\u001b[0m \u001b[0minputs\u001b[0m\u001b[0;34m,\u001b[0m \u001b[0mattrs\u001b[0m\u001b[0;34m,\u001b[0m\u001b[0;34m\u001b[0m\u001b[0m\n\u001b[0;32m---> 61\u001b[0;31m                                                num_outputs)\n\u001b[0m\u001b[1;32m     62\u001b[0m   \u001b[0;32mexcept\u001b[0m \u001b[0mcore\u001b[0m\u001b[0;34m.\u001b[0m\u001b[0m_NotOkStatusException\u001b[0m \u001b[0;32mas\u001b[0m \u001b[0me\u001b[0m\u001b[0;34m:\u001b[0m\u001b[0;34m\u001b[0m\u001b[0m\n\u001b[1;32m     63\u001b[0m     \u001b[0;32mif\u001b[0m \u001b[0mname\u001b[0m \u001b[0;32mis\u001b[0m \u001b[0;32mnot\u001b[0m \u001b[0;32mNone\u001b[0m\u001b[0;34m:\u001b[0m\u001b[0;34m\u001b[0m\u001b[0m\n",
      "\u001b[0;31mKeyboardInterrupt\u001b[0m: "
     ]
    }
   ],
   "source": [
    "\n",
    "H = model.fit_generator(\n",
    "    aug.flow(train_x,train_y, batch_size = 32),\n",
    "             validation_data = (test_x,test_y),\n",
    "             epochs=num_of_epochs,\n",
    "             steps_per_epoch = len(train_x) //32,\n",
    "             verbose = 1,\n",
    "             callbacks=callbacks)"
   ]
  },
  {
   "cell_type": "markdown",
   "metadata": {},
   "source": [
    "# Save model"
   ]
  },
  {
   "cell_type": "code",
   "execution_count": null,
   "metadata": {},
   "outputs": [],
   "source": [
    "model.save(model_save_path)"
   ]
  },
  {
   "cell_type": "markdown",
   "metadata": {},
   "source": [
    "# Evaluate with 20%"
   ]
  },
  {
   "cell_type": "code",
   "execution_count": null,
   "metadata": {},
   "outputs": [],
   "source": [
    "from sklearn.metrics import classification_report\n",
    "\n",
    "print(\"[INFO] evaluating after initialization...\")\n",
    "predictions = model.predict(test_x,batch_size=batch_size)\n",
    "\n",
    "print(classification_report(test_y.argmax(axis =1),\n",
    "                            predictions.argmax(axis =1),\n",
    "                            target_names=class_names, \n",
    "                            digits=4))"
   ]
  },
  {
   "cell_type": "markdown",
   "metadata": {},
   "source": [
    "# Evaluate with validation images"
   ]
  },
  {
   "cell_type": "code",
   "execution_count": null,
   "metadata": {},
   "outputs": [],
   "source": [
    "class_paths_validation = ['../datasets/validation/___Early_blight', '../datasets/validation/___Appids', '../datasets/validation/___Leaf_miner', '../datasets/self/___Curly_top_virus']"
   ]
  },
  {
   "cell_type": "code",
   "execution_count": null,
   "metadata": {},
   "outputs": [],
   "source": [
    "(train_x,test_x,train_y,test_y, class_names) = load_datasets(class_paths_validation)\n",
    "\n",
    "from sklearn.metrics import classification_report\n",
    "\n",
    "print(\"[INFO] evaluating with validation set...\")\n",
    "predictions = model.predict(test_x,batch_size=batch_size)\n",
    "\n",
    "print(classification_report(test_y.argmax(axis =1),\n",
    "                            predictions.argmax(axis =1),\n",
    "                            target_names=class_names, \n",
    "                            digits=4))"
   ]
  },
  {
   "cell_type": "code",
   "execution_count": null,
   "metadata": {},
   "outputs": [],
   "source": []
  }
 ],
 "metadata": {
  "file_extension": ".py",
  "kernelspec": {
   "display_name": "Python 3",
   "language": "python",
   "name": "python3"
  },
  "language_info": {
   "codemirror_mode": {
    "name": "ipython",
    "version": 3
   },
   "file_extension": ".py",
   "mimetype": "text/x-python",
   "name": "python",
   "nbconvert_exporter": "python",
   "pygments_lexer": "ipython3",
   "version": "3.5.3"
  },
  "mimetype": "text/x-python",
  "name": "python",
  "npconvert_exporter": "python",
  "pygments_lexer": "ipython3",
  "version": 3
 },
 "nbformat": 4,
 "nbformat_minor": 4
}

{
 "cells": [
  {
   "cell_type": "markdown",
   "metadata": {},
   "source": [
    "# Arguments"
   ]
  },
  {
   "cell_type": "code",
   "execution_count": 1,
   "metadata": {},
   "outputs": [],
   "source": [
    "num_of_epochs = 100\n",
    "batch_size = 32\n",
    "dataset_path_plantvillage = '../datasets/plantvillage'\n",
    "dataset_path_self = '../datasets/self'\n",
    "dataset_path_validation = '../datasets/validation'\n",
    "\n",
    "dataset_paths = [dataset_path_plantvillage, dataset_path_self, dataset_path_validation]\n",
    "\n",
    "warmup_model_path = 'model-warmup.h5'\n",
    "model_save_path = 'model-final.h5'\n",
    "checkpoint_path = 'checkpoints-finetuning.hdf5'\n",
    "\n",
    "input_width = 224\n",
    "input_height = 224\n",
    "input_depth = 3\n"
   ]
  },
  {
   "cell_type": "markdown",
   "metadata": {},
   "source": [
    "# Select training classes"
   ]
  },
  {
   "cell_type": "code",
   "execution_count": 2,
   "metadata": {},
   "outputs": [],
   "source": [
    "class_paths_training = ['../datasets/plantvillage/___Late_blight', '../datasets/plantvillage/___Target_Spot', '../datasets/plantvillage/___healthy', '../datasets/plantvillage/___Mosaic_Virus', '../datasets/plantvillage/___Yellow_Leaf_Curl_Virus', '../datasets/plantvillage/___Leaf_Mold', '../datasets/plantvillage/___Bacterial_spot', '../datasets/self/___Early_blight', '../datasets/self/___Appids', '../datasets/self/___Leaf_miner']"
   ]
  },
  {
   "cell_type": "markdown",
   "metadata": {},
   "source": [
    "# Load dataset"
   ]
  },
  {
   "cell_type": "code",
   "execution_count": 3,
   "metadata": {},
   "outputs": [
    {
     "name": "stderr",
     "output_type": "stream",
     "text": [
      "Using TensorFlow backend.\n"
     ]
    },
    {
     "name": "stdout",
     "output_type": "stream",
     "text": [
      "[INFO] loading images...\n",
      "[INFO]: Processed 500/18087\n",
      "[INFO]: Processed 1000/18087\n",
      "[INFO]: Processed 1500/18087\n",
      "[INFO]: Processed 2000/18087\n",
      "[INFO]: Processed 2500/18087\n",
      "[INFO]: Processed 3000/18087\n",
      "[INFO]: Processed 3500/18087\n",
      "[INFO]: Processed 4000/18087\n",
      "[INFO]: Processed 4500/18087\n",
      "[INFO]: Processed 5000/18087\n",
      "[INFO]: Processed 5500/18087\n",
      "[INFO]: Processed 6000/18087\n",
      "[INFO]: Processed 6500/18087\n",
      "[INFO]: Processed 7000/18087\n",
      "[INFO]: Processed 7500/18087\n",
      "[INFO]: Processed 8000/18087\n",
      "[INFO]: Processed 8500/18087\n",
      "[INFO]: Processed 9000/18087\n",
      "[INFO]: Processed 9500/18087\n",
      "[INFO]: Processed 10000/18087\n",
      "[INFO]: Processed 10500/18087\n",
      "[INFO]: Processed 11000/18087\n",
      "[INFO]: Processed 11500/18087\n",
      "[INFO]: Processed 12000/18087\n",
      "[INFO]: Processed 12500/18087\n",
      "[INFO]: Processed 13000/18087\n",
      "[INFO]: Processed 13500/18087\n",
      "[INFO]: Processed 14000/18087\n",
      "[INFO]: Processed 14500/18087\n",
      "[INFO]: Processed 15000/18087\n",
      "[INFO]: Processed 15500/18087\n",
      "[INFO]: Processed 16000/18087\n",
      "[INFO]: Processed 16500/18087\n",
      "[INFO]: Processed 17000/18087\n",
      "[INFO]: Processed 17500/18087\n",
      "[INFO]: Processed 18000/18087\n"
     ]
    }
   ],
   "source": [
    "from sklearn.preprocessing import LabelBinarizer\n",
    "from sklearn.model_selection import train_test_split\n",
    "from sklearn.metrics import classification_report\n",
    "from keras.preprocessing.image   import ImageDataGenerator\n",
    "from keras.optimizers import RMSprop\n",
    "from keras.layers import Input\n",
    "from keras.models import Model\n",
    "from keras .applications import VGG16\n",
    "from keras.optimizers import SGD\n",
    "from keras.models import Model\n",
    "from imutils import paths\n",
    "import numpy as np\n",
    "import os\n",
    "\n",
    "import sys\n",
    "sys.path.append('..')\n",
    "\n",
    "from utils.preprocessors.aspect_aware_preprocessor import AspectAwarePreprocessor\n",
    "from utils.preprocessors.image_to_array_preprocessor import ImageToArrayPreprocessor\n",
    "from utils.io.simple_dataset_loader import SimpleDatasetLoader\n",
    "\n",
    "# construct the image generator for data augmentation\n",
    "aug = ImageDataGenerator(   rotation_range=30,\n",
    "                            width_shift_range=0.1,\n",
    "                            height_shift_range=0.1,\n",
    "                            shear_range=0.2,\n",
    "                            zoom_range=0.2,\n",
    "                            horizontal_flip=True,\n",
    "                            fill_mode='nearest')\n",
    "\n",
    "# Load image paths\n",
    "image_paths = []\n",
    "print(\"[INFO] loading images...\")\n",
    "for path in class_paths_training:\n",
    "    image_paths.extend(list(paths.list_images(path)))\n",
    "\n",
    "# Get unique classnames\n",
    "class_names = [pt.split(os.path.sep)[-2] for pt in image_paths]\n",
    "class_names = [str(x) for x in np.unique(class_names)]\n",
    "\n",
    "# Initial image preprocessing\n",
    "aap = AspectAwarePreprocessor(input_width, input_height)\n",
    "iap= ImageToArrayPreprocessor()\n",
    "\n",
    "#Load image data and perform image data preprocessing\n",
    "sdl = SimpleDatasetLoader(preprocessors=[aap,iap])\n",
    "(data,labels)  = sdl.load(image_paths,verbose=500)\n",
    "data = data.astype(\"float\") / 255.0\n",
    "\n",
    "\n",
    "# train test split\n",
    "(train_x,test_x,train_y,test_y) = train_test_split(data,labels,test_size=0.25,random_state=42)\n",
    "\n",
    "# convert the labels from integers to vectors\n",
    "train_y = LabelBinarizer().fit_transform(train_y)\n",
    "test_y = LabelBinarizer().fit_transform(test_y)\n",
    "\n"
   ]
  },
  {
   "cell_type": "markdown",
   "metadata": {},
   "source": [
    "# Load model from disk"
   ]
  },
  {
   "cell_type": "code",
   "execution_count": 4,
   "metadata": {},
   "outputs": [],
   "source": [
    "# import tensorflow as tf\n",
    "# print(tf.__version__)\n",
    "\n",
    "\n",
    "# model = tf.keras.models.load_model(\n",
    "#     warmup_model_path,\n",
    "#     custom_objects=None,\n",
    "#     compile=False\n",
    "# )\n",
    "\n",
    "from keras.models import load_model\n",
    "\n",
    "model = load_model(warmup_model_path)"
   ]
  },
  {
   "cell_type": "markdown",
   "metadata": {},
   "source": [
    "# Print index of layers"
   ]
  },
  {
   "cell_type": "code",
   "execution_count": 5,
   "metadata": {},
   "outputs": [
    {
     "name": "stdout",
     "output_type": "stream",
     "text": [
      "[INFO] 0\tInputLayer\n",
      "[INFO] 1\tConv2D\n",
      "[INFO] 2\tConv2D\n",
      "[INFO] 3\tMaxPooling2D\n",
      "[INFO] 4\tConv2D\n",
      "[INFO] 5\tConv2D\n",
      "[INFO] 6\tMaxPooling2D\n",
      "[INFO] 7\tConv2D\n",
      "[INFO] 8\tConv2D\n",
      "[INFO] 9\tConv2D\n",
      "[INFO] 10\tMaxPooling2D\n",
      "[INFO] 11\tConv2D\n",
      "[INFO] 12\tConv2D\n",
      "[INFO] 13\tConv2D\n",
      "[INFO] 14\tMaxPooling2D\n",
      "[INFO] 15\tConv2D\n",
      "[INFO] 16\tConv2D\n",
      "[INFO] 17\tConv2D\n",
      "[INFO] 18\tMaxPooling2D\n",
      "[INFO] 19\tFlatten\n",
      "[INFO] 20\tDense\n",
      "[INFO] 21\tDropout\n",
      "[INFO] 22\tDense\n"
     ]
    }
   ],
   "source": [
    "# iterate for all layers in the network and print its' index value\n",
    "for (i,layer) in enumerate(model.layers):\n",
    "    print(\"[INFO] {}\\t{}\".format(i,layer.__class__.__name__))"
   ]
  },
  {
   "cell_type": "markdown",
   "metadata": {},
   "source": [
    "# Unfreeze final CONV layers"
   ]
  },
  {
   "cell_type": "code",
   "execution_count": 6,
   "metadata": {},
   "outputs": [
    {
     "name": "stdout",
     "output_type": "stream",
     "text": [
      "unfrozen\n"
     ]
    }
   ],
   "source": [
    "for layer in model.layers[11:]:\n",
    "    layer.trainable = True\n",
    "print('unfrozen')"
   ]
  },
  {
   "cell_type": "markdown",
   "metadata": {},
   "source": [
    "# Compile model"
   ]
  },
  {
   "cell_type": "code",
   "execution_count": 7,
   "metadata": {},
   "outputs": [
    {
     "name": "stdout",
     "output_type": "stream",
     "text": [
      "[INFO] re-compiling model ...\n"
     ]
    }
   ],
   "source": [
    "from keras.optimizers import SGD\n",
    "\n",
    "# Build the model from the new\n",
    "print(\"[INFO] re-compiling model ...\")\n",
    "opt = SGD(lr=0.001, momentum=0.09)\n",
    "# Fine-tuning with a small learning rate\n",
    "model.compile(loss = 'categorical_crossentropy',optimizer = opt,\n",
    "              metrics=['accuracy'])\n"
   ]
  },
  {
   "cell_type": "markdown",
   "metadata": {},
   "source": [
    "# Checkpoints"
   ]
  },
  {
   "cell_type": "code",
   "execution_count": 8,
   "metadata": {},
   "outputs": [],
   "source": [
    "from keras.callbacks import ModelCheckpoint\n",
    "\n",
    "\n",
    "checkpoint = ModelCheckpoint(checkpoint_path, monitor='val_loss', mode='min', \n",
    "save_best_only=True, verbose=1)\n",
    "\n",
    "callbacks = [checkpoint]\n",
    "\n"
   ]
  },
  {
   "cell_type": "code",
   "execution_count": 9,
   "metadata": {},
   "outputs": [],
   "source": [
    "#load checkpoints if existing\n",
    "\n",
    "import os\n",
    "\n",
    "epochs_done = 0\n",
    "num_of_epochs = 10\n",
    "\n",
    "if(os.path.exists(checkpoint_path)):\n",
    "    model.load_weights(checkpoint_path)\n",
    "    num_of_epochs = num_of_epochs - epochs_done\n"
   ]
  },
  {
   "cell_type": "markdown",
   "metadata": {},
   "source": [
    "# Training Monitor"
   ]
  },
  {
   "cell_type": "code",
   "execution_count": 10,
   "metadata": {},
   "outputs": [],
   "source": [
    "from utils.callbacks.training_monitor import TrainingMonitor\n",
    "import pathlib\n",
    "import json\n",
    "import os\n",
    "\n",
    "fig_path = \"plot\"\n",
    "json_path = \"values.json\"\n",
    "values_path = 'values.json'\n",
    "\n",
    "start_epoch = 127\n",
    "\n",
    "callbacks.append(TrainingMonitor(fig_path, json_path, start_epoch))"
   ]
  },
  {
   "cell_type": "markdown",
   "metadata": {},
   "source": [
    "# Fit model"
   ]
  },
  {
   "cell_type": "code",
   "execution_count": 11,
   "metadata": {},
   "outputs": [
    {
     "name": "stdout",
     "output_type": "stream",
     "text": [
      "Epoch 1/100\n",
      "423/423 [==============================] - 228s 540ms/step - loss: 0.1312 - accuracy: 0.9723 - val_loss: 0.0706 - val_accuracy: 0.9799\n",
      "\n",
      "Epoch 00001: val_loss improved from inf to 0.07063, saving model to checkpoints-finetuning.hdf5\n",
      "Epoch 2/100\n",
      "423/423 [==============================] - 216s 510ms/step - loss: 0.0399 - accuracy: 0.9865 - val_loss: 0.0260 - val_accuracy: 0.9903\n",
      "\n",
      "Epoch 00002: val_loss improved from 0.07063 to 0.02600, saving model to checkpoints-finetuning.hdf5\n",
      "Epoch 3/100\n",
      "423/423 [==============================] - 216s 510ms/step - loss: 0.0326 - accuracy: 0.9886 - val_loss: 0.0274 - val_accuracy: 0.9898\n",
      "\n",
      "Epoch 00003: val_loss did not improve from 0.02600\n",
      "Epoch 4/100\n",
      "423/423 [==============================] - 216s 510ms/step - loss: 0.0301 - accuracy: 0.9899 - val_loss: 0.0444 - val_accuracy: 0.9887\n",
      "\n",
      "Epoch 00004: val_loss did not improve from 0.02600\n",
      "Epoch 5/100\n",
      "423/423 [==============================] - 216s 510ms/step - loss: 0.0215 - accuracy: 0.9928 - val_loss: 0.0196 - val_accuracy: 0.9929\n",
      "\n",
      "Epoch 00005: val_loss improved from 0.02600 to 0.01960, saving model to checkpoints-finetuning.hdf5\n",
      "Epoch 6/100\n",
      "423/423 [==============================] - 216s 510ms/step - loss: 0.0226 - accuracy: 0.9922 - val_loss: 0.0407 - val_accuracy: 0.9872\n",
      "\n",
      "Epoch 00006: val_loss did not improve from 0.01960\n",
      "Epoch 7/100\n",
      "423/423 [==============================] - 216s 511ms/step - loss: 0.0251 - accuracy: 0.9914 - val_loss: 0.1057 - val_accuracy: 0.9695\n",
      "\n",
      "Epoch 00007: val_loss did not improve from 0.01960\n",
      "Epoch 8/100\n",
      "423/423 [==============================] - 216s 510ms/step - loss: 0.0204 - accuracy: 0.9945 - val_loss: 0.0334 - val_accuracy: 0.9905\n",
      "\n",
      "Epoch 00008: val_loss did not improve from 0.01960\n",
      "Epoch 9/100\n",
      "423/423 [==============================] - 216s 510ms/step - loss: 0.0178 - accuracy: 0.9945 - val_loss: 0.0283 - val_accuracy: 0.9918\n",
      "\n",
      "Epoch 00009: val_loss did not improve from 0.01960\n",
      "Epoch 10/100\n",
      "423/423 [==============================] - 216s 510ms/step - loss: 0.0150 - accuracy: 0.9950 - val_loss: 0.0388 - val_accuracy: 0.9898\n",
      "\n",
      "Epoch 00010: val_loss did not improve from 0.01960\n",
      "Epoch 11/100\n",
      "423/423 [==============================] - 216s 512ms/step - loss: 0.0241 - accuracy: 0.9922 - val_loss: 0.0463 - val_accuracy: 0.9852\n",
      "\n",
      "Epoch 00011: val_loss did not improve from 0.01960\n",
      "Epoch 12/100\n",
      "423/423 [==============================] - 216s 510ms/step - loss: 0.0186 - accuracy: 0.9943 - val_loss: 0.0434 - val_accuracy: 0.9847\n",
      "\n",
      "Epoch 00012: val_loss did not improve from 0.01960\n",
      "Epoch 13/100\n",
      "423/423 [==============================] - 216s 510ms/step - loss: 0.0122 - accuracy: 0.9962 - val_loss: 0.0918 - val_accuracy: 0.9757\n",
      "\n",
      "Epoch 00013: val_loss did not improve from 0.01960\n",
      "Epoch 14/100\n",
      "423/423 [==============================] - 216s 510ms/step - loss: 0.0150 - accuracy: 0.9944 - val_loss: 0.0329 - val_accuracy: 0.9898\n",
      "\n",
      "Epoch 00014: val_loss did not improve from 0.01960\n",
      "Epoch 15/100\n",
      "423/423 [==============================] - 216s 510ms/step - loss: 0.0163 - accuracy: 0.9949 - val_loss: 0.0290 - val_accuracy: 0.9916\n",
      "\n",
      "Epoch 00015: val_loss did not improve from 0.01960\n",
      "Epoch 16/100\n",
      "423/423 [==============================] - 216s 510ms/step - loss: 0.0135 - accuracy: 0.9963 - val_loss: 0.0392 - val_accuracy: 0.9883\n",
      "\n",
      "Epoch 00016: val_loss did not improve from 0.01960\n",
      "Epoch 17/100\n",
      "423/423 [==============================] - 216s 510ms/step - loss: 0.0096 - accuracy: 0.9970 - val_loss: 0.0194 - val_accuracy: 0.9936\n",
      "\n",
      "Epoch 00017: val_loss improved from 0.01960 to 0.01935, saving model to checkpoints-finetuning.hdf5\n",
      "Epoch 18/100\n",
      "423/423 [==============================] - 216s 510ms/step - loss: 0.0139 - accuracy: 0.9957 - val_loss: 0.0217 - val_accuracy: 0.9923\n",
      "\n",
      "Epoch 00018: val_loss did not improve from 0.01935\n",
      "Epoch 19/100\n",
      "423/423 [==============================] - 216s 510ms/step - loss: 0.0103 - accuracy: 0.9973 - val_loss: 0.0423 - val_accuracy: 0.9905\n",
      "\n",
      "Epoch 00019: val_loss did not improve from 0.01935\n",
      "Epoch 20/100\n",
      "423/423 [==============================] - 216s 510ms/step - loss: 0.0119 - accuracy: 0.9959 - val_loss: 0.0169 - val_accuracy: 0.9931\n",
      "\n",
      "Epoch 00020: val_loss improved from 0.01935 to 0.01695, saving model to checkpoints-finetuning.hdf5\n",
      "Epoch 21/100\n",
      "423/423 [==============================] - 216s 510ms/step - loss: 0.0101 - accuracy: 0.9966 - val_loss: 0.0468 - val_accuracy: 0.9874\n",
      "\n",
      "Epoch 00021: val_loss did not improve from 0.01695\n",
      "Epoch 22/100\n",
      "423/423 [==============================] - 216s 510ms/step - loss: 0.0109 - accuracy: 0.9968 - val_loss: 0.0353 - val_accuracy: 0.9885\n",
      "\n",
      "Epoch 00022: val_loss did not improve from 0.01695\n",
      "Epoch 23/100\n",
      "423/423 [==============================] - 216s 510ms/step - loss: 0.0110 - accuracy: 0.9964 - val_loss: 0.0342 - val_accuracy: 0.9907\n",
      "\n",
      "Epoch 00023: val_loss did not improve from 0.01695\n",
      "Epoch 24/100\n",
      "423/423 [==============================] - 216s 510ms/step - loss: 0.0114 - accuracy: 0.9965 - val_loss: 0.0191 - val_accuracy: 0.9949\n",
      "\n",
      "Epoch 00024: val_loss did not improve from 0.01695\n",
      "Epoch 25/100\n",
      "423/423 [==============================] - 216s 510ms/step - loss: 0.0087 - accuracy: 0.9974 - val_loss: 0.0269 - val_accuracy: 0.9927\n",
      "\n",
      "Epoch 00025: val_loss did not improve from 0.01695\n",
      "Epoch 26/100\n",
      "423/423 [==============================] - 216s 510ms/step - loss: 0.0087 - accuracy: 0.9967 - val_loss: 0.0305 - val_accuracy: 0.9920\n",
      "\n",
      "Epoch 00026: val_loss did not improve from 0.01695\n",
      "Epoch 27/100\n",
      "423/423 [==============================] - 216s 510ms/step - loss: 0.0095 - accuracy: 0.9970 - val_loss: 0.0163 - val_accuracy: 0.9958\n",
      "\n",
      "Epoch 00027: val_loss improved from 0.01695 to 0.01625, saving model to checkpoints-finetuning.hdf5\n",
      "Epoch 28/100\n",
      "423/423 [==============================] - 216s 510ms/step - loss: 0.0091 - accuracy: 0.9970 - val_loss: 0.0260 - val_accuracy: 0.9931\n",
      "\n",
      "Epoch 00028: val_loss did not improve from 0.01625\n",
      "Epoch 29/100\n",
      "423/423 [==============================] - 216s 510ms/step - loss: 0.0080 - accuracy: 0.9974 - val_loss: 0.0103 - val_accuracy: 0.9965\n",
      "\n",
      "Epoch 00029: val_loss improved from 0.01625 to 0.01030, saving model to checkpoints-finetuning.hdf5\n",
      "Epoch 30/100\n",
      "423/423 [==============================] - 216s 511ms/step - loss: 0.0072 - accuracy: 0.9974 - val_loss: 0.0415 - val_accuracy: 0.9896\n",
      "\n",
      "Epoch 00030: val_loss did not improve from 0.01030\n",
      "Epoch 31/100\n",
      "423/423 [==============================] - 216s 510ms/step - loss: 0.0118 - accuracy: 0.9961 - val_loss: 0.0281 - val_accuracy: 0.9925\n",
      "\n",
      "Epoch 00031: val_loss did not improve from 0.01030\n",
      "Epoch 32/100\n",
      "423/423 [==============================] - 216s 510ms/step - loss: 0.0079 - accuracy: 0.9979 - val_loss: 0.0247 - val_accuracy: 0.9931\n",
      "\n",
      "Epoch 00032: val_loss did not improve from 0.01030\n",
      "Epoch 33/100\n",
      "423/423 [==============================] - 216s 510ms/step - loss: 0.0076 - accuracy: 0.9977 - val_loss: 0.0257 - val_accuracy: 0.9934\n",
      "\n",
      "Epoch 00033: val_loss did not improve from 0.01030\n",
      "Epoch 34/100\n",
      "423/423 [==============================] - 216s 510ms/step - loss: 0.0095 - accuracy: 0.9971 - val_loss: 0.0168 - val_accuracy: 0.9951\n",
      "\n",
      "Epoch 00034: val_loss did not improve from 0.01030\n",
      "Epoch 35/100\n",
      "423/423 [==============================] - 216s 510ms/step - loss: 0.0085 - accuracy: 0.9973 - val_loss: 0.0254 - val_accuracy: 0.9927\n",
      "\n",
      "Epoch 00035: val_loss did not improve from 0.01030\n",
      "Epoch 36/100\n",
      "423/423 [==============================] - 216s 510ms/step - loss: 0.0071 - accuracy: 0.9973 - val_loss: 0.0676 - val_accuracy: 0.9852\n",
      "\n",
      "Epoch 00036: val_loss did not improve from 0.01030\n",
      "Epoch 37/100\n",
      "423/423 [==============================] - 216s 510ms/step - loss: 0.0064 - accuracy: 0.9978 - val_loss: 0.0312 - val_accuracy: 0.9923\n",
      "\n",
      "Epoch 00037: val_loss did not improve from 0.01030\n",
      "Epoch 38/100\n",
      "423/423 [==============================] - 216s 510ms/step - loss: 0.0073 - accuracy: 0.9981 - val_loss: 0.0267 - val_accuracy: 0.9931\n",
      "\n",
      "Epoch 00038: val_loss did not improve from 0.01030\n",
      "Epoch 39/100\n",
      "423/423 [==============================] - 216s 510ms/step - loss: 0.0076 - accuracy: 0.9972 - val_loss: 0.0165 - val_accuracy: 0.9945\n",
      "\n",
      "Epoch 00039: val_loss did not improve from 0.01030\n",
      "Epoch 40/100\n",
      "423/423 [==============================] - 216s 510ms/step - loss: 0.0073 - accuracy: 0.9972 - val_loss: 0.0564 - val_accuracy: 0.9858\n",
      "\n",
      "Epoch 00040: val_loss did not improve from 0.01030\n",
      "Epoch 41/100\n",
      "423/423 [==============================] - 216s 510ms/step - loss: 0.0088 - accuracy: 0.9970 - val_loss: 0.0503 - val_accuracy: 0.9883\n",
      "\n",
      "Epoch 00041: val_loss did not improve from 0.01030\n",
      "Epoch 42/100\n",
      "423/423 [==============================] - 216s 510ms/step - loss: 0.0079 - accuracy: 0.9977 - val_loss: 0.0631 - val_accuracy: 0.9845\n",
      "\n",
      "Epoch 00042: val_loss did not improve from 0.01030\n",
      "Epoch 43/100\n",
      "423/423 [==============================] - 216s 510ms/step - loss: 0.0063 - accuracy: 0.9980 - val_loss: 0.0496 - val_accuracy: 0.9863\n",
      "\n",
      "Epoch 00043: val_loss did not improve from 0.01030\n",
      "Epoch 44/100\n",
      "423/423 [==============================] - 216s 510ms/step - loss: 0.0066 - accuracy: 0.9982 - val_loss: 0.0312 - val_accuracy: 0.9920\n",
      "\n",
      "Epoch 00044: val_loss did not improve from 0.01030\n",
      "Epoch 45/100\n",
      "423/423 [==============================] - 216s 510ms/step - loss: 0.0081 - accuracy: 0.9973 - val_loss: 0.0297 - val_accuracy: 0.9929\n",
      "\n",
      "Epoch 00045: val_loss did not improve from 0.01030\n",
      "Epoch 46/100\n",
      "423/423 [==============================] - 216s 510ms/step - loss: 0.0074 - accuracy: 0.9981 - val_loss: 0.0374 - val_accuracy: 0.9905\n",
      "\n",
      "Epoch 00046: val_loss did not improve from 0.01030\n",
      "Epoch 47/100\n",
      "423/423 [==============================] - 216s 510ms/step - loss: 0.0067 - accuracy: 0.9979 - val_loss: 0.0317 - val_accuracy: 0.9920\n",
      "\n",
      "Epoch 00047: val_loss did not improve from 0.01030\n",
      "Epoch 48/100\n",
      "423/423 [==============================] - 216s 510ms/step - loss: 0.0044 - accuracy: 0.9990 - val_loss: 0.0272 - val_accuracy: 0.9938\n",
      "\n",
      "Epoch 00048: val_loss did not improve from 0.01030\n",
      "Epoch 49/100\n",
      "423/423 [==============================] - 216s 510ms/step - loss: 0.0056 - accuracy: 0.9981 - val_loss: 0.0359 - val_accuracy: 0.9896\n",
      "\n",
      "Epoch 00049: val_loss did not improve from 0.01030\n",
      "Epoch 50/100\n",
      "423/423 [==============================] - 216s 510ms/step - loss: 0.0046 - accuracy: 0.9985 - val_loss: 0.0241 - val_accuracy: 0.9931\n",
      "\n",
      "Epoch 00050: val_loss did not improve from 0.01030\n",
      "Epoch 51/100\n",
      "423/423 [==============================] - 216s 510ms/step - loss: 0.0056 - accuracy: 0.9984 - val_loss: 0.0545 - val_accuracy: 0.9870\n",
      "\n",
      "Epoch 00051: val_loss did not improve from 0.01030\n",
      "Epoch 52/100\n",
      "423/423 [==============================] - 216s 510ms/step - loss: 0.0070 - accuracy: 0.9976 - val_loss: 0.0378 - val_accuracy: 0.9896\n",
      "\n",
      "Epoch 00052: val_loss did not improve from 0.01030\n",
      "Epoch 53/100\n",
      "423/423 [==============================] - 216s 510ms/step - loss: 0.0055 - accuracy: 0.9985 - val_loss: 0.0505 - val_accuracy: 0.9883\n",
      "\n",
      "Epoch 00053: val_loss did not improve from 0.01030\n",
      "Epoch 54/100\n",
      "423/423 [==============================] - 216s 511ms/step - loss: 0.0035 - accuracy: 0.9990 - val_loss: 0.0350 - val_accuracy: 0.9918\n",
      "\n",
      "Epoch 00054: val_loss did not improve from 0.01030\n",
      "Epoch 55/100\n",
      "423/423 [==============================] - 216s 510ms/step - loss: 0.0035 - accuracy: 0.9990 - val_loss: 0.0358 - val_accuracy: 0.9916\n",
      "\n",
      "Epoch 00055: val_loss did not improve from 0.01030\n",
      "Epoch 56/100\n",
      "423/423 [==============================] - 216s 510ms/step - loss: 0.0051 - accuracy: 0.9984 - val_loss: 0.0283 - val_accuracy: 0.9929\n",
      "\n",
      "Epoch 00056: val_loss did not improve from 0.01030\n",
      "Epoch 57/100\n",
      "423/423 [==============================] - 216s 510ms/step - loss: 0.0064 - accuracy: 0.9977 - val_loss: 0.0302 - val_accuracy: 0.9916\n",
      "\n",
      "Epoch 00057: val_loss did not improve from 0.01030\n",
      "Epoch 58/100\n",
      "423/423 [==============================] - 216s 510ms/step - loss: 0.0040 - accuracy: 0.9987 - val_loss: 0.0265 - val_accuracy: 0.9931\n",
      "\n",
      "Epoch 00058: val_loss did not improve from 0.01030\n",
      "Epoch 59/100\n",
      "423/423 [==============================] - 216s 510ms/step - loss: 0.0069 - accuracy: 0.9977 - val_loss: 0.0210 - val_accuracy: 0.9934\n",
      "\n",
      "Epoch 00059: val_loss did not improve from 0.01030\n",
      "Epoch 60/100\n",
      "423/423 [==============================] - 216s 510ms/step - loss: 0.0040 - accuracy: 0.9990 - val_loss: 0.0230 - val_accuracy: 0.9936\n",
      "\n",
      "Epoch 00060: val_loss did not improve from 0.01030\n",
      "Epoch 61/100\n",
      "423/423 [==============================] - 216s 510ms/step - loss: 0.0052 - accuracy: 0.9981 - val_loss: 0.0303 - val_accuracy: 0.9925\n",
      "\n",
      "Epoch 00061: val_loss did not improve from 0.01030\n",
      "Epoch 62/100\n",
      "423/423 [==============================] - 216s 510ms/step - loss: 0.0061 - accuracy: 0.9979 - val_loss: 0.0318 - val_accuracy: 0.9907\n",
      "\n",
      "Epoch 00062: val_loss did not improve from 0.01030\n",
      "Epoch 63/100\n",
      "423/423 [==============================] - 216s 510ms/step - loss: 0.0038 - accuracy: 0.9992 - val_loss: 0.0257 - val_accuracy: 0.9940\n",
      "\n",
      "Epoch 00063: val_loss did not improve from 0.01030\n",
      "Epoch 64/100\n",
      "423/423 [==============================] - 216s 510ms/step - loss: 0.0051 - accuracy: 0.9988 - val_loss: 0.0532 - val_accuracy: 0.9867\n",
      "\n",
      "Epoch 00064: val_loss did not improve from 0.01030\n",
      "Epoch 65/100\n",
      "423/423 [==============================] - 216s 510ms/step - loss: 0.0045 - accuracy: 0.9983 - val_loss: 0.0407 - val_accuracy: 0.9907\n",
      "\n",
      "Epoch 00065: val_loss did not improve from 0.01030\n",
      "Epoch 66/100\n",
      "423/423 [==============================] - 216s 510ms/step - loss: 0.0034 - accuracy: 0.9987 - val_loss: 0.0191 - val_accuracy: 0.9951\n",
      "\n",
      "Epoch 00066: val_loss did not improve from 0.01030\n",
      "Epoch 67/100\n",
      "423/423 [==============================] - 216s 510ms/step - loss: 0.0040 - accuracy: 0.9990 - val_loss: 0.0342 - val_accuracy: 0.9923\n",
      "\n",
      "Epoch 00067: val_loss did not improve from 0.01030\n",
      "Epoch 68/100\n",
      "423/423 [==============================] - 216s 510ms/step - loss: 0.0023 - accuracy: 0.9995 - val_loss: 0.0459 - val_accuracy: 0.9903\n",
      "\n",
      "Epoch 00068: val_loss did not improve from 0.01030\n",
      "Epoch 69/100\n",
      "328/423 [======================>.......] - ETA: 39s - loss: 0.0078 - accuracy: 0.9972"
     ]
    },
    {
     "ename": "KeyboardInterrupt",
     "evalue": "",
     "output_type": "error",
     "traceback": [
      "\u001b[0;31m---------------------------------------------------------------------------\u001b[0m",
      "\u001b[0;31mKeyboardInterrupt\u001b[0m                         Traceback (most recent call last)",
      "\u001b[0;32m<ipython-input-11-f8d03d196ebd>\u001b[0m in \u001b[0;36m<module>\u001b[0;34m\u001b[0m\n\u001b[1;32m      7\u001b[0m              \u001b[0msteps_per_epoch\u001b[0m \u001b[0;34m=\u001b[0m \u001b[0mlen\u001b[0m\u001b[0;34m(\u001b[0m\u001b[0mtrain_x\u001b[0m\u001b[0;34m)\u001b[0m \u001b[0;34m//\u001b[0m\u001b[0;36m32\u001b[0m\u001b[0;34m,\u001b[0m\u001b[0;34m\u001b[0m\u001b[0m\n\u001b[1;32m      8\u001b[0m              \u001b[0mverbose\u001b[0m \u001b[0;34m=\u001b[0m \u001b[0;36m1\u001b[0m\u001b[0;34m,\u001b[0m\u001b[0;34m\u001b[0m\u001b[0m\n\u001b[0;32m----> 9\u001b[0;31m              callbacks=callbacks)\n\u001b[0m",
      "\u001b[0;32m/usr/local/lib/python3.5/dist-packages/keras/legacy/interfaces.py\u001b[0m in \u001b[0;36mwrapper\u001b[0;34m(*args, **kwargs)\u001b[0m\n\u001b[1;32m     89\u001b[0m                 warnings.warn('Update your `' + object_name + '` call to the ' +\n\u001b[1;32m     90\u001b[0m                               'Keras 2 API: ' + signature, stacklevel=2)\n\u001b[0;32m---> 91\u001b[0;31m             \u001b[0;32mreturn\u001b[0m \u001b[0mfunc\u001b[0m\u001b[0;34m(\u001b[0m\u001b[0;34m*\u001b[0m\u001b[0margs\u001b[0m\u001b[0;34m,\u001b[0m \u001b[0;34m**\u001b[0m\u001b[0mkwargs\u001b[0m\u001b[0;34m)\u001b[0m\u001b[0;34m\u001b[0m\u001b[0m\n\u001b[0m\u001b[1;32m     92\u001b[0m         \u001b[0mwrapper\u001b[0m\u001b[0;34m.\u001b[0m\u001b[0m_original_function\u001b[0m \u001b[0;34m=\u001b[0m \u001b[0mfunc\u001b[0m\u001b[0;34m\u001b[0m\u001b[0m\n\u001b[1;32m     93\u001b[0m         \u001b[0;32mreturn\u001b[0m \u001b[0mwrapper\u001b[0m\u001b[0;34m\u001b[0m\u001b[0m\n",
      "\u001b[0;32m/usr/local/lib/python3.5/dist-packages/keras/engine/training.py\u001b[0m in \u001b[0;36mfit_generator\u001b[0;34m(self, generator, steps_per_epoch, epochs, verbose, callbacks, validation_data, validation_steps, validation_freq, class_weight, max_queue_size, workers, use_multiprocessing, shuffle, initial_epoch)\u001b[0m\n\u001b[1;32m   1730\u001b[0m             \u001b[0muse_multiprocessing\u001b[0m\u001b[0;34m=\u001b[0m\u001b[0muse_multiprocessing\u001b[0m\u001b[0;34m,\u001b[0m\u001b[0;34m\u001b[0m\u001b[0m\n\u001b[1;32m   1731\u001b[0m             \u001b[0mshuffle\u001b[0m\u001b[0;34m=\u001b[0m\u001b[0mshuffle\u001b[0m\u001b[0;34m,\u001b[0m\u001b[0;34m\u001b[0m\u001b[0m\n\u001b[0;32m-> 1732\u001b[0;31m             initial_epoch=initial_epoch)\n\u001b[0m\u001b[1;32m   1733\u001b[0m \u001b[0;34m\u001b[0m\u001b[0m\n\u001b[1;32m   1734\u001b[0m     \u001b[0;34m@\u001b[0m\u001b[0minterfaces\u001b[0m\u001b[0;34m.\u001b[0m\u001b[0mlegacy_generator_methods_support\u001b[0m\u001b[0;34m\u001b[0m\u001b[0m\n",
      "\u001b[0;32m/usr/local/lib/python3.5/dist-packages/keras/engine/training_generator.py\u001b[0m in \u001b[0;36mfit_generator\u001b[0;34m(model, generator, steps_per_epoch, epochs, verbose, callbacks, validation_data, validation_steps, validation_freq, class_weight, max_queue_size, workers, use_multiprocessing, shuffle, initial_epoch)\u001b[0m\n\u001b[1;32m    218\u001b[0m                                             \u001b[0msample_weight\u001b[0m\u001b[0;34m=\u001b[0m\u001b[0msample_weight\u001b[0m\u001b[0;34m,\u001b[0m\u001b[0;34m\u001b[0m\u001b[0m\n\u001b[1;32m    219\u001b[0m                                             \u001b[0mclass_weight\u001b[0m\u001b[0;34m=\u001b[0m\u001b[0mclass_weight\u001b[0m\u001b[0;34m,\u001b[0m\u001b[0;34m\u001b[0m\u001b[0m\n\u001b[0;32m--> 220\u001b[0;31m                                             reset_metrics=False)\n\u001b[0m\u001b[1;32m    221\u001b[0m \u001b[0;34m\u001b[0m\u001b[0m\n\u001b[1;32m    222\u001b[0m                 \u001b[0mouts\u001b[0m \u001b[0;34m=\u001b[0m \u001b[0mto_list\u001b[0m\u001b[0;34m(\u001b[0m\u001b[0mouts\u001b[0m\u001b[0;34m)\u001b[0m\u001b[0;34m\u001b[0m\u001b[0m\n",
      "\u001b[0;32m/usr/local/lib/python3.5/dist-packages/keras/engine/training.py\u001b[0m in \u001b[0;36mtrain_on_batch\u001b[0;34m(self, x, y, sample_weight, class_weight, reset_metrics)\u001b[0m\n\u001b[1;32m   1512\u001b[0m             \u001b[0mins\u001b[0m \u001b[0;34m=\u001b[0m \u001b[0mx\u001b[0m \u001b[0;34m+\u001b[0m \u001b[0my\u001b[0m \u001b[0;34m+\u001b[0m \u001b[0msample_weights\u001b[0m\u001b[0;34m\u001b[0m\u001b[0m\n\u001b[1;32m   1513\u001b[0m         \u001b[0mself\u001b[0m\u001b[0;34m.\u001b[0m\u001b[0m_make_train_function\u001b[0m\u001b[0;34m(\u001b[0m\u001b[0;34m)\u001b[0m\u001b[0;34m\u001b[0m\u001b[0m\n\u001b[0;32m-> 1514\u001b[0;31m         \u001b[0moutputs\u001b[0m \u001b[0;34m=\u001b[0m \u001b[0mself\u001b[0m\u001b[0;34m.\u001b[0m\u001b[0mtrain_function\u001b[0m\u001b[0;34m(\u001b[0m\u001b[0mins\u001b[0m\u001b[0;34m)\u001b[0m\u001b[0;34m\u001b[0m\u001b[0m\n\u001b[0m\u001b[1;32m   1515\u001b[0m \u001b[0;34m\u001b[0m\u001b[0m\n\u001b[1;32m   1516\u001b[0m         \u001b[0;32mif\u001b[0m \u001b[0mreset_metrics\u001b[0m\u001b[0;34m:\u001b[0m\u001b[0;34m\u001b[0m\u001b[0m\n",
      "\u001b[0;32m/usr/local/lib/python3.5/dist-packages/tensorflow_core/python/keras/backend.py\u001b[0m in \u001b[0;36m__call__\u001b[0;34m(self, inputs)\u001b[0m\n\u001b[1;32m   3725\u001b[0m         \u001b[0mvalue\u001b[0m \u001b[0;34m=\u001b[0m \u001b[0mmath_ops\u001b[0m\u001b[0;34m.\u001b[0m\u001b[0mcast\u001b[0m\u001b[0;34m(\u001b[0m\u001b[0mvalue\u001b[0m\u001b[0;34m,\u001b[0m \u001b[0mtensor\u001b[0m\u001b[0;34m.\u001b[0m\u001b[0mdtype\u001b[0m\u001b[0;34m)\u001b[0m\u001b[0;34m\u001b[0m\u001b[0m\n\u001b[1;32m   3726\u001b[0m       \u001b[0mconverted_inputs\u001b[0m\u001b[0;34m.\u001b[0m\u001b[0mappend\u001b[0m\u001b[0;34m(\u001b[0m\u001b[0mvalue\u001b[0m\u001b[0;34m)\u001b[0m\u001b[0;34m\u001b[0m\u001b[0m\n\u001b[0;32m-> 3727\u001b[0;31m     \u001b[0moutputs\u001b[0m \u001b[0;34m=\u001b[0m \u001b[0mself\u001b[0m\u001b[0;34m.\u001b[0m\u001b[0m_graph_fn\u001b[0m\u001b[0;34m(\u001b[0m\u001b[0;34m*\u001b[0m\u001b[0mconverted_inputs\u001b[0m\u001b[0;34m)\u001b[0m\u001b[0;34m\u001b[0m\u001b[0m\n\u001b[0m\u001b[1;32m   3728\u001b[0m \u001b[0;34m\u001b[0m\u001b[0m\n\u001b[1;32m   3729\u001b[0m     \u001b[0;31m# EagerTensor.numpy() will often make a copy to ensure memory safety.\u001b[0m\u001b[0;34m\u001b[0m\u001b[0;34m\u001b[0m\u001b[0m\n",
      "\u001b[0;32m/usr/local/lib/python3.5/dist-packages/tensorflow_core/python/eager/function.py\u001b[0m in \u001b[0;36m__call__\u001b[0;34m(self, *args, **kwargs)\u001b[0m\n\u001b[1;32m   1549\u001b[0m       \u001b[0mTypeError\u001b[0m\u001b[0;34m:\u001b[0m \u001b[0mFor\u001b[0m \u001b[0minvalid\u001b[0m \u001b[0mpositional\u001b[0m\u001b[0;34m/\u001b[0m\u001b[0mkeyword\u001b[0m \u001b[0margument\u001b[0m \u001b[0mcombinations\u001b[0m\u001b[0;34m.\u001b[0m\u001b[0;34m\u001b[0m\u001b[0m\n\u001b[1;32m   1550\u001b[0m     \"\"\"\n\u001b[0;32m-> 1551\u001b[0;31m     \u001b[0;32mreturn\u001b[0m \u001b[0mself\u001b[0m\u001b[0;34m.\u001b[0m\u001b[0m_call_impl\u001b[0m\u001b[0;34m(\u001b[0m\u001b[0margs\u001b[0m\u001b[0;34m,\u001b[0m \u001b[0mkwargs\u001b[0m\u001b[0;34m)\u001b[0m\u001b[0;34m\u001b[0m\u001b[0m\n\u001b[0m\u001b[1;32m   1552\u001b[0m \u001b[0;34m\u001b[0m\u001b[0m\n\u001b[1;32m   1553\u001b[0m   \u001b[0;32mdef\u001b[0m \u001b[0m_call_impl\u001b[0m\u001b[0;34m(\u001b[0m\u001b[0mself\u001b[0m\u001b[0;34m,\u001b[0m \u001b[0margs\u001b[0m\u001b[0;34m,\u001b[0m \u001b[0mkwargs\u001b[0m\u001b[0;34m,\u001b[0m \u001b[0mcancellation_manager\u001b[0m\u001b[0;34m=\u001b[0m\u001b[0;32mNone\u001b[0m\u001b[0;34m)\u001b[0m\u001b[0;34m:\u001b[0m\u001b[0;34m\u001b[0m\u001b[0m\n",
      "\u001b[0;32m/usr/local/lib/python3.5/dist-packages/tensorflow_core/python/eager/function.py\u001b[0m in \u001b[0;36m_call_impl\u001b[0;34m(self, args, kwargs, cancellation_manager)\u001b[0m\n\u001b[1;32m   1589\u001b[0m       raise TypeError(\"Keyword arguments {} unknown. Expected {}.\".format(\n\u001b[1;32m   1590\u001b[0m           list(kwargs.keys()), list(self._arg_keywords)))\n\u001b[0;32m-> 1591\u001b[0;31m     \u001b[0;32mreturn\u001b[0m \u001b[0mself\u001b[0m\u001b[0;34m.\u001b[0m\u001b[0m_call_flat\u001b[0m\u001b[0;34m(\u001b[0m\u001b[0margs\u001b[0m\u001b[0;34m,\u001b[0m \u001b[0mself\u001b[0m\u001b[0;34m.\u001b[0m\u001b[0mcaptured_inputs\u001b[0m\u001b[0;34m,\u001b[0m \u001b[0mcancellation_manager\u001b[0m\u001b[0;34m)\u001b[0m\u001b[0;34m\u001b[0m\u001b[0m\n\u001b[0m\u001b[1;32m   1592\u001b[0m \u001b[0;34m\u001b[0m\u001b[0m\n\u001b[1;32m   1593\u001b[0m   \u001b[0;32mdef\u001b[0m \u001b[0m_filtered_call\u001b[0m\u001b[0;34m(\u001b[0m\u001b[0mself\u001b[0m\u001b[0;34m,\u001b[0m \u001b[0margs\u001b[0m\u001b[0;34m,\u001b[0m \u001b[0mkwargs\u001b[0m\u001b[0;34m)\u001b[0m\u001b[0;34m:\u001b[0m\u001b[0;34m\u001b[0m\u001b[0m\n",
      "\u001b[0;32m/usr/local/lib/python3.5/dist-packages/tensorflow_core/python/eager/function.py\u001b[0m in \u001b[0;36m_call_flat\u001b[0;34m(self, args, captured_inputs, cancellation_manager)\u001b[0m\n\u001b[1;32m   1690\u001b[0m       \u001b[0;31m# No tape is watching; skip to running the function.\u001b[0m\u001b[0;34m\u001b[0m\u001b[0;34m\u001b[0m\u001b[0m\n\u001b[1;32m   1691\u001b[0m       return self._build_call_outputs(self._inference_function.call(\n\u001b[0;32m-> 1692\u001b[0;31m           ctx, args, cancellation_manager=cancellation_manager))\n\u001b[0m\u001b[1;32m   1693\u001b[0m     forward_backward = self._select_forward_and_backward_functions(\n\u001b[1;32m   1694\u001b[0m         \u001b[0margs\u001b[0m\u001b[0;34m,\u001b[0m\u001b[0;34m\u001b[0m\u001b[0m\n",
      "\u001b[0;32m/usr/local/lib/python3.5/dist-packages/tensorflow_core/python/eager/function.py\u001b[0m in \u001b[0;36mcall\u001b[0;34m(self, ctx, args, cancellation_manager)\u001b[0m\n\u001b[1;32m    543\u001b[0m               \u001b[0minputs\u001b[0m\u001b[0;34m=\u001b[0m\u001b[0margs\u001b[0m\u001b[0;34m,\u001b[0m\u001b[0;34m\u001b[0m\u001b[0m\n\u001b[1;32m    544\u001b[0m               \u001b[0mattrs\u001b[0m\u001b[0;34m=\u001b[0m\u001b[0;34m(\u001b[0m\u001b[0;34m\"executor_type\"\u001b[0m\u001b[0;34m,\u001b[0m \u001b[0mexecutor_type\u001b[0m\u001b[0;34m,\u001b[0m \u001b[0;34m\"config_proto\"\u001b[0m\u001b[0;34m,\u001b[0m \u001b[0mconfig\u001b[0m\u001b[0;34m)\u001b[0m\u001b[0;34m,\u001b[0m\u001b[0;34m\u001b[0m\u001b[0m\n\u001b[0;32m--> 545\u001b[0;31m               ctx=ctx)\n\u001b[0m\u001b[1;32m    546\u001b[0m         \u001b[0;32melse\u001b[0m\u001b[0;34m:\u001b[0m\u001b[0;34m\u001b[0m\u001b[0m\n\u001b[1;32m    547\u001b[0m           outputs = execute.execute_with_cancellation(\n",
      "\u001b[0;32m/usr/local/lib/python3.5/dist-packages/tensorflow_core/python/eager/execute.py\u001b[0m in \u001b[0;36mquick_execute\u001b[0;34m(op_name, num_outputs, inputs, attrs, ctx, name)\u001b[0m\n\u001b[1;32m     59\u001b[0m     tensors = pywrap_tensorflow.TFE_Py_Execute(ctx._handle, device_name,\n\u001b[1;32m     60\u001b[0m                                                \u001b[0mop_name\u001b[0m\u001b[0;34m,\u001b[0m \u001b[0minputs\u001b[0m\u001b[0;34m,\u001b[0m \u001b[0mattrs\u001b[0m\u001b[0;34m,\u001b[0m\u001b[0;34m\u001b[0m\u001b[0m\n\u001b[0;32m---> 61\u001b[0;31m                                                num_outputs)\n\u001b[0m\u001b[1;32m     62\u001b[0m   \u001b[0;32mexcept\u001b[0m \u001b[0mcore\u001b[0m\u001b[0;34m.\u001b[0m\u001b[0m_NotOkStatusException\u001b[0m \u001b[0;32mas\u001b[0m \u001b[0me\u001b[0m\u001b[0;34m:\u001b[0m\u001b[0;34m\u001b[0m\u001b[0m\n\u001b[1;32m     63\u001b[0m     \u001b[0;32mif\u001b[0m \u001b[0mname\u001b[0m \u001b[0;32mis\u001b[0m \u001b[0;32mnot\u001b[0m \u001b[0;32mNone\u001b[0m\u001b[0;34m:\u001b[0m\u001b[0;34m\u001b[0m\u001b[0m\n",
      "\u001b[0;31mKeyboardInterrupt\u001b[0m: "
     ]
    }
   ],
   "source": [
    "num_of_epochs = 100\n",
    "\n",
    "H = model.fit_generator(\n",
    "    aug.flow(train_x,train_y, batch_size = 32),\n",
    "             validation_data = (test_x,test_y),\n",
    "             epochs=num_of_epochs,\n",
    "             steps_per_epoch = len(train_x) //32,\n",
    "             verbose = 1,\n",
    "             callbacks=callbacks)"
   ]
  },
  {
   "cell_type": "markdown",
   "metadata": {},
   "source": [
    "# Save model"
   ]
  },
  {
   "cell_type": "code",
   "execution_count": null,
   "metadata": {},
   "outputs": [],
   "source": [
    "# model.save(model_save_path)"
   ]
  },
  {
   "cell_type": "markdown",
   "metadata": {},
   "source": [
    "# Load model form disk"
   ]
  },
  {
   "cell_type": "code",
   "execution_count": null,
   "metadata": {},
   "outputs": [],
   "source": [
    "\n",
    "# from keras.models import load_model\n",
    "\n",
    "# model_save_path = 'model-final.h5'\n",
    "# model = load_model(model_save_path)"
   ]
  },
  {
   "cell_type": "markdown",
   "metadata": {},
   "source": [
    "# Evaluate"
   ]
  },
  {
   "cell_type": "code",
   "execution_count": null,
   "metadata": {},
   "outputs": [],
   "source": [
    "from sklearn.metrics import classification_report\n",
    "\n",
    "print(\"[INFO] evaluating after initialization...\")\n",
    "predictions = model.predict(test_x,batch_size=batch_size)\n",
    "\n",
    "print(classification_report(test_y.argmax(axis =1),\n",
    "                            predictions.argmax(axis =1),\n",
    "                            target_names=class_names, \n",
    "                            digits=4))"
   ]
  }
 ],
 "metadata": {
  "file_extension": ".py",
  "kernelspec": {
   "display_name": "Python 3",
   "language": "python",
   "name": "python3"
  },
  "language_info": {
   "codemirror_mode": {
    "name": "ipython",
    "version": 3
   },
   "file_extension": ".py",
   "mimetype": "text/x-python",
   "name": "python",
   "nbconvert_exporter": "python",
   "pygments_lexer": "ipython3",
   "version": "3.5.3"
  },
  "mimetype": "text/x-python",
  "name": "python",
  "npconvert_exporter": "python",
  "pygments_lexer": "ipython3",
  "version": 3
 },
 "nbformat": 4,
 "nbformat_minor": 4
}

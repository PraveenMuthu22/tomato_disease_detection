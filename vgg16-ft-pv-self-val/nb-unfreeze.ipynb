{
 "cells": [
  {
   "cell_type": "markdown",
   "metadata": {},
   "source": [
    "# Arguments"
   ]
  },
  {
   "cell_type": "code",
   "execution_count": 1,
   "metadata": {},
   "outputs": [],
   "source": [
    "num_of_epochs = 100\n",
    "batch_size = 32\n",
    "dataset_path_plantvillage = '../datasets/plantvillage'\n",
    "dataset_path_self = '../datasets/self'\n",
    "dataset_path_validation = '../datasets/validation'\n",
    "\n",
    "dataset_paths = [dataset_path_plantvillage, dataset_path_self, dataset_path_validation]\n",
    "\n",
    "warmup_model_path = 'model-warmup.h5'\n",
    "model_save_path = 'model-final.h5'\n",
    "checkpoint_path = 'checkpoints-finetuning.hdf5'\n",
    "\n",
    "input_width = 224\n",
    "input_height = 224\n",
    "input_depth = 3\n"
   ]
  },
  {
   "cell_type": "markdown",
   "metadata": {},
   "source": [
    "# Select training classes"
   ]
  },
  {
   "cell_type": "code",
   "execution_count": 2,
   "metadata": {},
   "outputs": [],
   "source": [
    "class_paths_training = ['../datasets/plantvillage/___Late_blight', '../datasets/plantvillage/___Target_Spot', '../datasets/plantvillage/___healthy', '../datasets/plantvillage/___Mosaic_Virus', '../datasets/plantvillage/___Yellow_Leaf_Curl_Virus', '../datasets/plantvillage/___Leaf_Mold', '../datasets/plantvillage/___Bacterial_spot', '../datasets/self/___Early_blight', '../datasets/self/___Appids', '../datasets/self/___Leaf_miner']"
   ]
  },
  {
   "cell_type": "markdown",
   "metadata": {},
   "source": [
    "# Load dataset"
   ]
  },
  {
   "cell_type": "code",
   "execution_count": 3,
   "metadata": {},
   "outputs": [
    {
     "name": "stderr",
     "output_type": "stream",
     "text": [
      "Using TensorFlow backend.\n"
     ]
    },
    {
     "name": "stdout",
     "output_type": "stream",
     "text": [
      "[INFO] loading images...\n",
      "[INFO]: Processed 500/18087\n",
      "[INFO]: Processed 1000/18087\n",
      "[INFO]: Processed 1500/18087\n",
      "[INFO]: Processed 2000/18087\n",
      "[INFO]: Processed 2500/18087\n",
      "[INFO]: Processed 3000/18087\n",
      "[INFO]: Processed 3500/18087\n",
      "[INFO]: Processed 4000/18087\n",
      "[INFO]: Processed 4500/18087\n",
      "[INFO]: Processed 5000/18087\n",
      "[INFO]: Processed 5500/18087\n",
      "[INFO]: Processed 6000/18087\n",
      "[INFO]: Processed 6500/18087\n",
      "[INFO]: Processed 7000/18087\n",
      "[INFO]: Processed 7500/18087\n",
      "[INFO]: Processed 8000/18087\n",
      "[INFO]: Processed 8500/18087\n",
      "[INFO]: Processed 9000/18087\n",
      "[INFO]: Processed 9500/18087\n",
      "[INFO]: Processed 10000/18087\n",
      "[INFO]: Processed 10500/18087\n",
      "[INFO]: Processed 11000/18087\n",
      "[INFO]: Processed 11500/18087\n",
      "[INFO]: Processed 12000/18087\n",
      "[INFO]: Processed 12500/18087\n",
      "[INFO]: Processed 13000/18087\n",
      "[INFO]: Processed 13500/18087\n",
      "[INFO]: Processed 14000/18087\n",
      "[INFO]: Processed 14500/18087\n",
      "[INFO]: Processed 15000/18087\n",
      "[INFO]: Processed 15500/18087\n",
      "[INFO]: Processed 16000/18087\n",
      "[INFO]: Processed 16500/18087\n",
      "[INFO]: Processed 17000/18087\n",
      "[INFO]: Processed 17500/18087\n",
      "[INFO]: Processed 18000/18087\n"
     ]
    }
   ],
   "source": [
    "from sklearn.preprocessing import LabelBinarizer\n",
    "from sklearn.model_selection import train_test_split\n",
    "from sklearn.metrics import classification_report\n",
    "from keras.preprocessing.image   import ImageDataGenerator\n",
    "from keras.optimizers import RMSprop\n",
    "from keras.layers import Input\n",
    "from keras.models import Model\n",
    "from keras .applications import VGG16\n",
    "from keras.optimizers import SGD\n",
    "from keras.models import Model\n",
    "from imutils import paths\n",
    "import numpy as np\n",
    "import os\n",
    "\n",
    "import sys\n",
    "sys.path.append('..')\n",
    "\n",
    "from utils.preprocessors.aspect_aware_preprocessor import AspectAwarePreprocessor\n",
    "from utils.preprocessors.image_to_array_preprocessor import ImageToArrayPreprocessor\n",
    "from utils.io.simple_dataset_loader import SimpleDatasetLoader\n",
    "\n",
    "# construct the image generator for data augmentation\n",
    "aug = ImageDataGenerator(   rotation_range=30,\n",
    "                            width_shift_range=0.1,\n",
    "                            height_shift_range=0.1,\n",
    "                            shear_range=0.2,\n",
    "                            zoom_range=0.2,\n",
    "                            horizontal_flip=True,\n",
    "                            fill_mode='nearest')\n",
    "\n",
    "# Load image paths\n",
    "image_paths = []\n",
    "print(\"[INFO] loading images...\")\n",
    "for path in class_paths_training:\n",
    "    image_paths.extend(list(paths.list_images(path)))\n",
    "\n",
    "# Get unique classnames\n",
    "class_names = [pt.split(os.path.sep)[-2] for pt in image_paths]\n",
    "class_names = [str(x) for x in np.unique(class_names)]\n",
    "\n",
    "# Initial image preprocessing\n",
    "aap = AspectAwarePreprocessor(input_width, input_height)\n",
    "iap= ImageToArrayPreprocessor()\n",
    "\n",
    "#Load image data and perform image data preprocessing\n",
    "sdl = SimpleDatasetLoader(preprocessors=[aap,iap])\n",
    "(data,labels)  = sdl.load(image_paths,verbose=500)\n",
    "data = data.astype(\"float\") / 255.0\n",
    "\n",
    "\n",
    "# train test split\n",
    "(train_x,test_x,train_y,test_y) = train_test_split(data,labels,test_size=0.25,random_state=42)\n",
    "\n",
    "# convert the labels from integers to vectors\n",
    "train_y = LabelBinarizer().fit_transform(train_y)\n",
    "test_y = LabelBinarizer().fit_transform(test_y)\n",
    "\n"
   ]
  },
  {
   "cell_type": "markdown",
   "metadata": {},
   "source": [
    "# Load model from disk"
   ]
  },
  {
   "cell_type": "code",
   "execution_count": 4,
   "metadata": {},
   "outputs": [],
   "source": [
    "# import tensorflow as tf\n",
    "# print(tf.__version__)\n",
    "\n",
    "\n",
    "# model = tf.keras.models.load_model(\n",
    "#     warmup_model_path,\n",
    "#     custom_objects=None,\n",
    "#     compile=False\n",
    "# )\n",
    "\n",
    "from keras.models import load_model\n",
    "\n",
    "model = load_model(warmup_model_path)"
   ]
  },
  {
   "cell_type": "markdown",
   "metadata": {},
   "source": [
    "# Print index of layers"
   ]
  },
  {
   "cell_type": "code",
   "execution_count": 5,
   "metadata": {},
   "outputs": [
    {
     "name": "stdout",
     "output_type": "stream",
     "text": [
      "[INFO] 0\tInputLayer\n",
      "[INFO] 1\tConv2D\n",
      "[INFO] 2\tConv2D\n",
      "[INFO] 3\tMaxPooling2D\n",
      "[INFO] 4\tConv2D\n",
      "[INFO] 5\tConv2D\n",
      "[INFO] 6\tMaxPooling2D\n",
      "[INFO] 7\tConv2D\n",
      "[INFO] 8\tConv2D\n",
      "[INFO] 9\tConv2D\n",
      "[INFO] 10\tMaxPooling2D\n",
      "[INFO] 11\tConv2D\n",
      "[INFO] 12\tConv2D\n",
      "[INFO] 13\tConv2D\n",
      "[INFO] 14\tMaxPooling2D\n",
      "[INFO] 15\tConv2D\n",
      "[INFO] 16\tConv2D\n",
      "[INFO] 17\tConv2D\n",
      "[INFO] 18\tMaxPooling2D\n",
      "[INFO] 19\tFlatten\n",
      "[INFO] 20\tDense\n",
      "[INFO] 21\tDropout\n",
      "[INFO] 22\tDense\n"
     ]
    }
   ],
   "source": [
    "# iterate for all layers in the network and print its' index value\n",
    "for (i,layer) in enumerate(model.layers):\n",
    "    print(\"[INFO] {}\\t{}\".format(i,layer.__class__.__name__))"
   ]
  },
  {
   "cell_type": "markdown",
   "metadata": {},
   "source": [
    "# Unfreeze final CONV layers"
   ]
  },
  {
   "cell_type": "code",
   "execution_count": 6,
   "metadata": {},
   "outputs": [
    {
     "name": "stdout",
     "output_type": "stream",
     "text": [
      "unfrozen\n"
     ]
    }
   ],
   "source": [
    "for layer in model.layers[15:]:\n",
    "    layer.trainable = True\n",
    "print('unfrozen')"
   ]
  },
  {
   "cell_type": "markdown",
   "metadata": {},
   "source": [
    "# Compile model"
   ]
  },
  {
   "cell_type": "code",
   "execution_count": 7,
   "metadata": {},
   "outputs": [
    {
     "name": "stdout",
     "output_type": "stream",
     "text": [
      "[INFO] re-compiling model ...\n"
     ]
    }
   ],
   "source": [
    "from keras.optimizers import SGD\n",
    "\n",
    "# Build the model from the new\n",
    "print(\"[INFO] re-compiling model ...\")\n",
    "opt = SGD(lr=0.001, momentum=0.09)\n",
    "# Fine-tuning with a small learning rate\n",
    "model.compile(loss = 'categorical_crossentropy',optimizer = opt,\n",
    "              metrics=['accuracy'])\n"
   ]
  },
  {
   "cell_type": "markdown",
   "metadata": {},
   "source": [
    "# Checkpoints"
   ]
  },
  {
   "cell_type": "code",
   "execution_count": 8,
   "metadata": {},
   "outputs": [],
   "source": [
    "from keras.callbacks import ModelCheckpoint\n",
    "\n",
    "\n",
    "checkpoint = ModelCheckpoint(checkpoint_path, monitor='val_loss', mode='min', \n",
    "save_best_only=True, verbose=1)\n",
    "\n",
    "callbacks = [checkpoint]\n",
    "\n"
   ]
  },
  {
   "cell_type": "code",
   "execution_count": 9,
   "metadata": {},
   "outputs": [],
   "source": [
    "#load checkpoints if existing\n",
    "\n",
    "import os\n",
    "\n",
    "epochs_done = 0\n",
    "num_of_epochs = 10\n",
    "\n",
    "if(os.path.exists(checkpoint_path)):\n",
    "    model.load_weights(checkpoint_path)\n",
    "    num_of_epochs = num_of_epochs - epochs_done\n"
   ]
  },
  {
   "cell_type": "markdown",
   "metadata": {},
   "source": [
    "# Training Monitor"
   ]
  },
  {
   "cell_type": "code",
   "execution_count": 12,
   "metadata": {},
   "outputs": [],
   "source": [
    "from utils.callbacks.training_monitor import TrainingMonitor\n",
    "import pathlib\n",
    "import json\n",
    "import os\n",
    "\n",
    "fig_path = \"plot\"\n",
    "json_path = \"values.json\"\n",
    "values_path = 'values.json'\n",
    "start_epoch = 0\n",
    "\n",
    "last_epoch = 0\n",
    "last_improved_epoch = 0\n",
    "\n",
    "# if(os.path.exists(values_path)):\n",
    "#     with open(values_path) as file_content:\n",
    "#         data = json.load(file_content)\n",
    "#         start_epoch = len(data['val_accuracy']) - (last_epoch - last_improved_epoch)\n",
    "\n",
    "\n",
    "\n",
    "callbacks.append(TrainingMonitor(fig_path, json_path, start_epoch))"
   ]
  },
  {
   "cell_type": "markdown",
   "metadata": {},
   "source": [
    "# Fit model"
   ]
  },
  {
   "cell_type": "code",
   "execution_count": null,
   "metadata": {},
   "outputs": [
    {
     "name": "stdout",
     "output_type": "stream",
     "text": [
      "Epoch 1/100\n",
      "423/423 [==============================] - 220s 521ms/step - loss: 0.2082 - accuracy: 0.9286 - val_loss: 0.1805 - val_accuracy: 0.9348\n",
      "\n",
      "Epoch 00001: val_loss improved from inf to 0.18054, saving model to checkpoints-finetuning.hdf5\n",
      "Epoch 2/100\n",
      "423/423 [==============================] - 215s 508ms/step - loss: 0.1599 - accuracy: 0.9447 - val_loss: 0.0934 - val_accuracy: 0.9682\n",
      "\n",
      "Epoch 00002: val_loss improved from 0.18054 to 0.09338, saving model to checkpoints-finetuning.hdf5\n",
      "Epoch 3/100\n",
      "423/423 [==============================] - 216s 511ms/step - loss: 0.1430 - accuracy: 0.9514 - val_loss: 0.0790 - val_accuracy: 0.9724\n",
      "\n",
      "Epoch 00003: val_loss improved from 0.09338 to 0.07901, saving model to checkpoints-finetuning.hdf5\n",
      "Epoch 4/100\n",
      "423/423 [==============================] - 213s 504ms/step - loss: 0.1254 - accuracy: 0.9577 - val_loss: 0.0920 - val_accuracy: 0.9686\n",
      "\n",
      "Epoch 00004: val_loss did not improve from 0.07901\n",
      "Epoch 5/100\n",
      "423/423 [==============================] - 215s 507ms/step - loss: 0.1097 - accuracy: 0.9639 - val_loss: 0.1305 - val_accuracy: 0.9567\n",
      "\n",
      "Epoch 00005: val_loss did not improve from 0.07901\n",
      "Epoch 6/100\n",
      "423/423 [==============================] - 214s 507ms/step - loss: 0.1080 - accuracy: 0.9618 - val_loss: 0.0912 - val_accuracy: 0.9695\n",
      "\n",
      "Epoch 00006: val_loss did not improve from 0.07901\n",
      "Epoch 7/100\n",
      "423/423 [==============================] - 214s 505ms/step - loss: 0.1024 - accuracy: 0.9656 - val_loss: 0.1013 - val_accuracy: 0.9651\n",
      "\n",
      "Epoch 00007: val_loss did not improve from 0.07901\n",
      "Epoch 8/100\n",
      "423/423 [==============================] - 214s 506ms/step - loss: 0.0832 - accuracy: 0.9716 - val_loss: 0.0904 - val_accuracy: 0.9701\n",
      "\n",
      "Epoch 00008: val_loss did not improve from 0.07901\n",
      "Epoch 9/100\n",
      "423/423 [==============================] - 216s 511ms/step - loss: 0.0902 - accuracy: 0.9702 - val_loss: 0.0537 - val_accuracy: 0.9828\n",
      "\n",
      "Epoch 00009: val_loss improved from 0.07901 to 0.05372, saving model to checkpoints-finetuning.hdf5\n",
      "Epoch 10/100\n",
      "423/423 [==============================] - 214s 506ms/step - loss: 0.0775 - accuracy: 0.9742 - val_loss: 0.1112 - val_accuracy: 0.9611\n",
      "\n",
      "Epoch 00010: val_loss did not improve from 0.05372\n",
      "Epoch 11/100\n",
      "423/423 [==============================] - 215s 508ms/step - loss: 0.0791 - accuracy: 0.9748 - val_loss: 0.0645 - val_accuracy: 0.9766\n",
      "\n",
      "Epoch 00011: val_loss did not improve from 0.05372\n",
      "Epoch 12/100\n",
      "423/423 [==============================] - 213s 503ms/step - loss: 0.0747 - accuracy: 0.9758 - val_loss: 0.0691 - val_accuracy: 0.9772\n",
      "\n",
      "Epoch 00012: val_loss did not improve from 0.05372\n",
      "Epoch 13/100\n",
      "423/423 [==============================] - 214s 505ms/step - loss: 0.0742 - accuracy: 0.9750 - val_loss: 0.0602 - val_accuracy: 0.9805\n",
      "\n",
      "Epoch 00013: val_loss did not improve from 0.05372\n",
      "Epoch 14/100\n",
      "423/423 [==============================] - 215s 509ms/step - loss: 0.0706 - accuracy: 0.9773 - val_loss: 0.0487 - val_accuracy: 0.9821\n",
      "\n",
      "Epoch 00014: val_loss improved from 0.05372 to 0.04871, saving model to checkpoints-finetuning.hdf5\n",
      "Epoch 15/100\n",
      "423/423 [==============================] - 213s 502ms/step - loss: 0.0700 - accuracy: 0.9769 - val_loss: 0.0615 - val_accuracy: 0.9812\n",
      "\n",
      "Epoch 00015: val_loss did not improve from 0.04871\n",
      "Epoch 16/100\n",
      "423/423 [==============================] - 215s 507ms/step - loss: 0.0653 - accuracy: 0.9786 - val_loss: 0.0710 - val_accuracy: 0.9757\n",
      "\n",
      "Epoch 00016: val_loss did not improve from 0.04871\n",
      "Epoch 17/100\n",
      "423/423 [==============================] - 212s 502ms/step - loss: 0.0563 - accuracy: 0.9812 - val_loss: 0.0492 - val_accuracy: 0.9819\n",
      "\n",
      "Epoch 00017: val_loss did not improve from 0.04871\n",
      "Epoch 18/100\n",
      "423/423 [==============================] - 213s 503ms/step - loss: 0.0574 - accuracy: 0.9802 - val_loss: 0.0412 - val_accuracy: 0.9852\n",
      "\n",
      "Epoch 00018: val_loss improved from 0.04871 to 0.04120, saving model to checkpoints-finetuning.hdf5\n",
      "Epoch 19/100\n",
      "423/423 [==============================] - 211s 500ms/step - loss: 0.0596 - accuracy: 0.9800 - val_loss: 0.0528 - val_accuracy: 0.9814\n",
      "\n",
      "Epoch 00019: val_loss did not improve from 0.04120\n",
      "Epoch 20/100\n",
      "423/423 [==============================] - 211s 499ms/step - loss: 0.0536 - accuracy: 0.9820 - val_loss: 0.0679 - val_accuracy: 0.9766\n",
      "\n",
      "Epoch 00020: val_loss did not improve from 0.04120\n",
      "Epoch 21/100\n",
      "423/423 [==============================] - 214s 506ms/step - loss: 0.0512 - accuracy: 0.9826 - val_loss: 0.0750 - val_accuracy: 0.9750\n",
      "\n",
      "Epoch 00021: val_loss did not improve from 0.04120\n",
      "Epoch 22/100\n",
      "423/423 [==============================] - 211s 499ms/step - loss: 0.0521 - accuracy: 0.9819 - val_loss: 0.0467 - val_accuracy: 0.9823\n",
      "\n",
      "Epoch 00022: val_loss did not improve from 0.04120\n",
      "Epoch 23/100\n",
      "423/423 [==============================] - 211s 499ms/step - loss: 0.0484 - accuracy: 0.9846 - val_loss: 0.0675 - val_accuracy: 0.9788\n",
      "\n",
      "Epoch 00023: val_loss did not improve from 0.04120\n",
      "Epoch 24/100\n",
      "423/423 [==============================] - 211s 499ms/step - loss: 0.0479 - accuracy: 0.9852 - val_loss: 0.0581 - val_accuracy: 0.9816\n",
      "\n",
      "Epoch 00024: val_loss did not improve from 0.04120\n",
      "Epoch 25/100\n",
      "423/423 [==============================] - 212s 502ms/step - loss: 0.0438 - accuracy: 0.9859 - val_loss: 0.0748 - val_accuracy: 0.9759\n",
      "\n",
      "Epoch 00025: val_loss did not improve from 0.04120\n",
      "Epoch 26/100\n",
      "423/423 [==============================] - 210s 497ms/step - loss: 0.0450 - accuracy: 0.9851 - val_loss: 0.0712 - val_accuracy: 0.9768\n",
      "\n",
      "Epoch 00026: val_loss did not improve from 0.04120\n",
      "Epoch 27/100\n",
      "423/423 [==============================] - 212s 500ms/step - loss: 0.0482 - accuracy: 0.9837 - val_loss: 0.0537 - val_accuracy: 0.9803\n",
      "\n",
      "Epoch 00027: val_loss did not improve from 0.04120\n",
      "Epoch 28/100\n",
      "423/423 [==============================] - 211s 499ms/step - loss: 0.0444 - accuracy: 0.9849 - val_loss: 0.0546 - val_accuracy: 0.9799\n",
      "\n",
      "Epoch 00028: val_loss did not improve from 0.04120\n",
      "Epoch 29/100\n",
      "423/423 [==============================] - 210s 496ms/step - loss: 0.0376 - accuracy: 0.9881 - val_loss: 0.0590 - val_accuracy: 0.9810\n",
      "\n",
      "Epoch 00029: val_loss did not improve from 0.04120\n",
      "Epoch 30/100\n",
      "423/423 [==============================] - 210s 496ms/step - loss: 0.0334 - accuracy: 0.9891 - val_loss: 0.0551 - val_accuracy: 0.9834\n",
      "\n",
      "Epoch 00030: val_loss did not improve from 0.04120\n",
      "Epoch 31/100\n",
      "423/423 [==============================] - 212s 501ms/step - loss: 0.0395 - accuracy: 0.9873 - val_loss: 0.0478 - val_accuracy: 0.9830\n",
      "\n",
      "Epoch 00031: val_loss did not improve from 0.04120\n",
      "Epoch 32/100\n",
      "423/423 [==============================] - 211s 498ms/step - loss: 0.0423 - accuracy: 0.9865 - val_loss: 0.0586 - val_accuracy: 0.9819\n",
      "\n",
      "Epoch 00032: val_loss did not improve from 0.04120\n",
      "Epoch 33/100\n",
      "423/423 [==============================] - 210s 497ms/step - loss: 0.0364 - accuracy: 0.9880 - val_loss: 0.0552 - val_accuracy: 0.9803\n",
      "\n",
      "Epoch 00033: val_loss did not improve from 0.04120\n",
      "Epoch 34/100\n",
      "423/423 [==============================] - 210s 496ms/step - loss: 0.0377 - accuracy: 0.9883 - val_loss: 0.0687 - val_accuracy: 0.9777\n",
      "\n",
      "Epoch 00034: val_loss did not improve from 0.04120\n",
      "Epoch 35/100\n",
      "423/423 [==============================] - 210s 496ms/step - loss: 0.0360 - accuracy: 0.9879 - val_loss: 0.0442 - val_accuracy: 0.9852\n",
      "\n",
      "Epoch 00035: val_loss did not improve from 0.04120\n",
      "Epoch 36/100\n",
      "423/423 [==============================] - 210s 496ms/step - loss: 0.0323 - accuracy: 0.9888 - val_loss: 0.0486 - val_accuracy: 0.9847\n",
      "\n",
      "Epoch 00036: val_loss did not improve from 0.04120\n",
      "Epoch 37/100\n",
      "423/423 [==============================] - 210s 497ms/step - loss: 0.0332 - accuracy: 0.9897 - val_loss: 0.0472 - val_accuracy: 0.9845\n",
      "\n",
      "Epoch 00037: val_loss did not improve from 0.04120\n",
      "Epoch 38/100\n",
      "423/423 [==============================] - 210s 496ms/step - loss: 0.0349 - accuracy: 0.9875 - val_loss: 0.0693 - val_accuracy: 0.9785\n",
      "\n",
      "Epoch 00038: val_loss did not improve from 0.04120\n",
      "Epoch 39/100\n",
      "423/423 [==============================] - 211s 498ms/step - loss: 0.0316 - accuracy: 0.9899 - val_loss: 0.0873 - val_accuracy: 0.9728\n",
      "\n",
      "Epoch 00039: val_loss did not improve from 0.04120\n",
      "Epoch 40/100\n",
      "423/423 [==============================] - 209s 495ms/step - loss: 0.0273 - accuracy: 0.9902 - val_loss: 0.0366 - val_accuracy: 0.9878\n",
      "\n",
      "Epoch 00040: val_loss improved from 0.04120 to 0.03663, saving model to checkpoints-finetuning.hdf5\n",
      "Epoch 41/100\n",
      "423/423 [==============================] - 209s 494ms/step - loss: 0.0291 - accuracy: 0.9919 - val_loss: 0.0439 - val_accuracy: 0.9861\n",
      "\n",
      "Epoch 00041: val_loss did not improve from 0.03663\n",
      "Epoch 42/100\n",
      "423/423 [==============================] - 210s 497ms/step - loss: 0.0307 - accuracy: 0.9894 - val_loss: 0.0331 - val_accuracy: 0.9889\n",
      "\n",
      "Epoch 00042: val_loss improved from 0.03663 to 0.03313, saving model to checkpoints-finetuning.hdf5\n",
      "Epoch 43/100\n",
      "423/423 [==============================] - 211s 500ms/step - loss: 0.0291 - accuracy: 0.9903 - val_loss: 0.0639 - val_accuracy: 0.9799\n",
      "\n",
      "Epoch 00043: val_loss did not improve from 0.03313\n",
      "Epoch 44/100\n",
      "423/423 [==============================] - 209s 494ms/step - loss: 0.0274 - accuracy: 0.9907 - val_loss: 0.0708 - val_accuracy: 0.9794\n",
      "\n",
      "Epoch 00044: val_loss did not improve from 0.03313\n",
      "Epoch 45/100\n",
      "423/423 [==============================] - 211s 498ms/step - loss: 0.0279 - accuracy: 0.9912 - val_loss: 0.0597 - val_accuracy: 0.9819\n",
      "\n",
      "Epoch 00045: val_loss did not improve from 0.03313\n",
      "Epoch 46/100\n",
      "423/423 [==============================] - 210s 496ms/step - loss: 0.0316 - accuracy: 0.9894 - val_loss: 0.0481 - val_accuracy: 0.9856\n",
      "\n",
      "Epoch 00046: val_loss did not improve from 0.03313\n",
      "Epoch 47/100\n",
      "423/423 [==============================] - 210s 496ms/step - loss: 0.0256 - accuracy: 0.9910 - val_loss: 0.0630 - val_accuracy: 0.9819\n",
      "\n",
      "Epoch 00047: val_loss did not improve from 0.03313\n",
      "Epoch 48/100\n",
      "423/423 [==============================] - 209s 495ms/step - loss: 0.0251 - accuracy: 0.9919 - val_loss: 0.0422 - val_accuracy: 0.9870\n",
      "\n",
      "Epoch 00048: val_loss did not improve from 0.03313\n",
      "Epoch 49/100\n",
      "423/423 [==============================] - 210s 496ms/step - loss: 0.0260 - accuracy: 0.9916 - val_loss: 0.0703 - val_accuracy: 0.9781\n",
      "\n",
      "Epoch 00049: val_loss did not improve from 0.03313\n",
      "Epoch 50/100\n",
      "423/423 [==============================] - 209s 494ms/step - loss: 0.0251 - accuracy: 0.9922 - val_loss: 0.0301 - val_accuracy: 0.9898\n",
      "\n",
      "Epoch 00050: val_loss improved from 0.03313 to 0.03013, saving model to checkpoints-finetuning.hdf5\n",
      "Epoch 51/100\n",
      "423/423 [==============================] - 211s 499ms/step - loss: 0.0259 - accuracy: 0.9917 - val_loss: 0.0331 - val_accuracy: 0.9889\n",
      "\n",
      "Epoch 00051: val_loss did not improve from 0.03013\n",
      "Epoch 52/100\n",
      "423/423 [==============================] - 209s 495ms/step - loss: 0.0238 - accuracy: 0.9919 - val_loss: 0.0462 - val_accuracy: 0.9858\n",
      "\n",
      "Epoch 00052: val_loss did not improve from 0.03013\n",
      "Epoch 53/100\n",
      "423/423 [==============================] - 211s 500ms/step - loss: 0.0236 - accuracy: 0.9934 - val_loss: 0.0562 - val_accuracy: 0.9819\n",
      "\n",
      "Epoch 00053: val_loss did not improve from 0.03013\n",
      "Epoch 54/100\n",
      "423/423 [==============================] - 211s 499ms/step - loss: 0.0211 - accuracy: 0.9933 - val_loss: 0.0540 - val_accuracy: 0.9819\n",
      "\n",
      "Epoch 00054: val_loss did not improve from 0.03013\n",
      "Epoch 55/100\n",
      "423/423 [==============================] - 209s 495ms/step - loss: 0.0222 - accuracy: 0.9926 - val_loss: 0.0487 - val_accuracy: 0.9854\n",
      "\n",
      "Epoch 00055: val_loss did not improve from 0.03013\n",
      "Epoch 56/100\n",
      "423/423 [==============================] - 209s 495ms/step - loss: 0.0246 - accuracy: 0.9917 - val_loss: 0.0258 - val_accuracy: 0.9916\n",
      "\n",
      "Epoch 00056: val_loss improved from 0.03013 to 0.02575, saving model to checkpoints-finetuning.hdf5\n",
      "Epoch 57/100\n",
      "423/423 [==============================] - 209s 494ms/step - loss: 0.0240 - accuracy: 0.9931 - val_loss: 0.0459 - val_accuracy: 0.9841\n",
      "\n",
      "Epoch 00057: val_loss did not improve from 0.02575\n",
      "Epoch 58/100\n",
      "423/423 [==============================] - 211s 498ms/step - loss: 0.0240 - accuracy: 0.9925 - val_loss: 0.0364 - val_accuracy: 0.9876\n",
      "\n",
      "Epoch 00058: val_loss did not improve from 0.02575\n",
      "Epoch 59/100\n",
      "423/423 [==============================] - 210s 495ms/step - loss: 0.0243 - accuracy: 0.9916 - val_loss: 0.0568 - val_accuracy: 0.9814\n",
      "\n",
      "Epoch 00059: val_loss did not improve from 0.02575\n",
      "Epoch 60/100\n",
      "423/423 [==============================] - 208s 492ms/step - loss: 0.0210 - accuracy: 0.9933 - val_loss: 0.0366 - val_accuracy: 0.9876\n",
      "\n",
      "Epoch 00060: val_loss did not improve from 0.02575\n",
      "Epoch 61/100\n",
      "423/423 [==============================] - 210s 496ms/step - loss: 0.0192 - accuracy: 0.9939 - val_loss: 0.0940 - val_accuracy: 0.9748\n",
      "\n",
      "Epoch 00061: val_loss did not improve from 0.02575\n",
      "Epoch 62/100\n",
      " 31/423 [=>............................] - ETA: 1:59 - loss: 0.0154 - accuracy: 0.9970"
     ]
    }
   ],
   "source": [
    "num_of_epochs = 100\n",
    "\n",
    "H = model.fit_generator(\n",
    "    aug.flow(train_x,train_y, batch_size = 32),\n",
    "             validation_data = (test_x,test_y),\n",
    "             epochs=num_of_epochs,\n",
    "             steps_per_epoch = len(train_x) //32,\n",
    "             verbose = 1,\n",
    "             callbacks=callbacks)"
   ]
  },
  {
   "cell_type": "markdown",
   "metadata": {},
   "source": [
    "# Save model"
   ]
  },
  {
   "cell_type": "code",
   "execution_count": null,
   "metadata": {},
   "outputs": [],
   "source": [
    "# model.save(model_save_path)"
   ]
  },
  {
   "cell_type": "markdown",
   "metadata": {},
   "source": [
    "# Load model form disk"
   ]
  },
  {
   "cell_type": "code",
   "execution_count": null,
   "metadata": {},
   "outputs": [],
   "source": [
    "\n",
    "# from keras.models import load_model\n",
    "\n",
    "# model_save_path = 'model-final.h5'\n",
    "# model = load_model(model_save_path)"
   ]
  },
  {
   "cell_type": "markdown",
   "metadata": {},
   "source": [
    "# Evaluate"
   ]
  },
  {
   "cell_type": "code",
   "execution_count": null,
   "metadata": {},
   "outputs": [],
   "source": [
    "from sklearn.metrics import classification_report\n",
    "\n",
    "print(\"[INFO] evaluating after initialization...\")\n",
    "predictions = model.predict(test_x,batch_size=batch_size)\n",
    "\n",
    "print(classification_report(test_y.argmax(axis =1),\n",
    "                            predictions.argmax(axis =1),\n",
    "                            target_names=class_names, \n",
    "                            digits=4))"
   ]
  }
 ],
 "metadata": {
  "file_extension": ".py",
  "kernelspec": {
   "display_name": "Python 3",
   "language": "python",
   "name": "python3"
  },
  "language_info": {
   "codemirror_mode": {
    "name": "ipython",
    "version": 3
   },
   "file_extension": ".py",
   "mimetype": "text/x-python",
   "name": "python",
   "nbconvert_exporter": "python",
   "pygments_lexer": "ipython3",
   "version": "3.5.3"
  },
  "mimetype": "text/x-python",
  "name": "python",
  "npconvert_exporter": "python",
  "pygments_lexer": "ipython3",
  "version": 3
 },
 "nbformat": 4,
 "nbformat_minor": 4
}

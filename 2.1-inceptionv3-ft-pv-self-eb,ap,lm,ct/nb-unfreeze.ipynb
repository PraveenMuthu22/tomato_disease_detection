{
 "cells": [
  {
   "cell_type": "markdown",
   "metadata": {},
   "source": [
    "# Arguments"
   ]
  },
  {
   "cell_type": "code",
   "execution_count": 5,
   "metadata": {},
   "outputs": [],
   "source": [
    "# inceptionv3-ft-pv-self-eb,ap,lm,ct\n",
    "batch_size = 32\n",
    "dataset_path_plantvillage = '../datasets/plantvillage'\n",
    "dataset_path_self = '../datasets/self'\n",
    "dataset_path_validation = '../datasets/validation'\n",
    "\n",
    "dataset_paths = [dataset_path_plantvillage, dataset_path_self, dataset_path_validation]\n",
    "\n",
    "warmup_model_path = 'model-warmup.h5'\n",
    "model_save_path = 'model-final.h5'\n",
    "checkpoint_path = 'checkpoints-finetuning.hdf5'\n",
    "\n",
    "input_width = 299\n",
    "input_height = 299\n",
    "input_depth = 3\n",
    "\n",
    "# --------------------------------------------------\n",
    "num_of_epochs = 120\n",
    "start_epoch = 0\n",
    "# --------------------------------------------------"
   ]
  },
  {
   "cell_type": "markdown",
   "metadata": {},
   "source": [
    "# Select training classes"
   ]
  },
  {
   "cell_type": "code",
   "execution_count": 6,
   "metadata": {},
   "outputs": [],
   "source": [
    "class_paths_training = ['../datasets/self/___Early_blight', '../datasets/self/___Appids', '../datasets/self/___Leaf_miner', '../datasets/self/___Curly_top_virus']"
   ]
  },
  {
   "cell_type": "markdown",
   "metadata": {},
   "source": [
    "# Load dataset"
   ]
  },
  {
   "cell_type": "code",
   "execution_count": 7,
   "metadata": {},
   "outputs": [
    {
     "name": "stdout",
     "output_type": "stream",
     "text": [
      "[INFO] loading images...\n",
      "[INFO]: Processed 500/4401\n",
      "[INFO]: Processed 1000/4401\n",
      "[INFO]: Processed 1500/4401\n",
      "[INFO]: Processed 2000/4401\n",
      "[INFO]: Processed 2500/4401\n",
      "[INFO]: Processed 3000/4401\n",
      "[INFO]: Processed 3500/4401\n",
      "[INFO]: Processed 4000/4401\n"
     ]
    }
   ],
   "source": [
    "from sklearn.preprocessing import LabelBinarizer\n",
    "from sklearn.model_selection import train_test_split\n",
    "from sklearn.metrics import classification_report\n",
    "from keras.preprocessing.image   import ImageDataGenerator\n",
    "from keras.optimizers import RMSprop\n",
    "from keras.layers import Input\n",
    "from keras.models import Model\n",
    "from keras .applications import VGG16\n",
    "from keras.optimizers import SGD\n",
    "from keras.models import Model\n",
    "from imutils import paths\n",
    "import numpy as np\n",
    "import os\n",
    "\n",
    "import sys\n",
    "sys.path.append('..')\n",
    "\n",
    "from utils.preprocessors.resize_image_preprocessor import resizeImagePreprocessor\n",
    "from utils.preprocessors.img_to_array_preprocessor import ImgToArrayPreprocessor\n",
    "from utils.io.dataset_loader import DatasetLoader\n",
    "\n",
    "# construct the image generator for data augmentation\n",
    "aug = ImageDataGenerator(   rotation_range=30,\n",
    "                            width_shift_range=0.1,\n",
    "                            height_shift_range=0.1,\n",
    "                            shear_range=0.2,\n",
    "                            zoom_range=0.2,\n",
    "                            horizontal_flip=True,\n",
    "                            fill_mode='nearest')\n",
    "\n",
    "def load_datasets(path_list):\n",
    "    # Load image paths\n",
    "    image_paths = []\n",
    "    print(\"[INFO] loading images...\")\n",
    "    for path in path_list:\n",
    "        image_paths.extend(list(paths.list_images(path)))\n",
    "        \n",
    "    # Get unique classnames\n",
    "\n",
    "    class_names = [pt.split(os.path.sep)[-2] for pt in image_paths]\n",
    "    class_names = [str(x) for x in np.unique(class_names)]\n",
    "\n",
    "    # Initial image preprocessing\n",
    "    aap = resizeImagePreprocessor(input_width, input_height)\n",
    "    iap= ImgToArrayPreprocessor()\n",
    "\n",
    "    #Load image data and perform image data preprocessing\n",
    "    dl = DatasetLoader(preprocessors=[aap,iap])\n",
    "    (data,labels)  = dl.load(image_paths,verbose=500)\n",
    "    data = data.astype(\"float\") / 255.0\n",
    "\n",
    "\n",
    "    # train test split\n",
    "    (train_x,test_x,train_y,test_y) = train_test_split(data,labels,test_size=0.25,random_state=42)\n",
    "\n",
    "    # convert the labels from integers to vectors\n",
    "    train_y = LabelBinarizer().fit_transform(train_y)\n",
    "    test_y = LabelBinarizer().fit_transform(test_y)\n",
    "    \n",
    "    return (train_x,test_x,train_y,test_y, class_names)\n",
    "\n",
    "(train_x,test_x,train_y,test_y, class_names) = load_datasets(class_paths_training)\n",
    "\n"
   ]
  },
  {
   "cell_type": "markdown",
   "metadata": {},
   "source": [
    "# Load model from disk"
   ]
  },
  {
   "cell_type": "code",
   "execution_count": 8,
   "metadata": {},
   "outputs": [],
   "source": [
    "# import tensorflow as tf\n",
    "# print(tf.__version__)\n",
    "\n",
    "\n",
    "# model = tf.keras.models.load_model(\n",
    "#     warmup_model_path,\n",
    "#     custom_objects=None,\n",
    "#     compile=False\n",
    "# )\n",
    "\n",
    "from keras.models import load_model\n",
    "\n",
    "model = load_model(warmup_model_path)"
   ]
  },
  {
   "cell_type": "markdown",
   "metadata": {},
   "source": [
    "# Print index of layers"
   ]
  },
  {
   "cell_type": "code",
   "execution_count": 9,
   "metadata": {},
   "outputs": [],
   "source": [
    "# iterate for all layers in the network and print its' index value\n",
    "# for (i,layer) in enumerate(model.layers):\n",
    "#     print(\"[INFO] {:5}\\t{:30}{}\".format(i, layer.name, layer.__class__.__name__))"
   ]
  },
  {
   "cell_type": "markdown",
   "metadata": {},
   "source": [
    "# Unfreeze final CONV layers"
   ]
  },
  {
   "cell_type": "code",
   "execution_count": 10,
   "metadata": {},
   "outputs": [
    {
     "name": "stdout",
     "output_type": "stream",
     "text": [
      "unfrozen\n"
     ]
    }
   ],
   "source": [
    "for layer in model.layers[:249]:\n",
    "   layer.trainable = False\n",
    "for layer in model.layers[249:]:\n",
    "   layer.trainable = True\n",
    "print('unfrozen')"
   ]
  },
  {
   "cell_type": "markdown",
   "metadata": {},
   "source": [
    "# Compile model"
   ]
  },
  {
   "cell_type": "code",
   "execution_count": 11,
   "metadata": {},
   "outputs": [
    {
     "name": "stdout",
     "output_type": "stream",
     "text": [
      "[INFO] re-compiling model ...\n"
     ]
    }
   ],
   "source": [
    "from keras.optimizers import SGD\n",
    "\n",
    "# Build the model from the new\n",
    "print(\"[INFO] re-compiling model ...\")\n",
    "opt = SGD(lr=0.001, momentum=0.09)\n",
    "# Fine-tuning with a small learning rate\n",
    "model.compile(loss = 'categorical_crossentropy',optimizer = opt,\n",
    "              metrics=['accuracy'])\n"
   ]
  },
  {
   "cell_type": "markdown",
   "metadata": {},
   "source": [
    "# Checkpoints"
   ]
  },
  {
   "cell_type": "code",
   "execution_count": 12,
   "metadata": {},
   "outputs": [],
   "source": [
    "from keras.callbacks import ModelCheckpoint\n",
    "\n",
    "\n",
    "checkpoint = ModelCheckpoint(checkpoint_path, monitor='val_loss', mode='min', \n",
    "save_best_only=True, verbose=1)\n",
    "\n",
    "callbacks = [checkpoint]\n",
    "\n"
   ]
  },
  {
   "cell_type": "code",
   "execution_count": 13,
   "metadata": {},
   "outputs": [],
   "source": [
    "#load checkpoints if existing\n",
    "\n",
    "import os\n",
    "\n",
    "if(os.path.exists(checkpoint_path)):\n",
    "    model.load_weights(checkpoint_path)"
   ]
  },
  {
   "cell_type": "markdown",
   "metadata": {},
   "source": [
    "# Training Monitor"
   ]
  },
  {
   "cell_type": "code",
   "execution_count": 14,
   "metadata": {},
   "outputs": [],
   "source": [
    "from utils.callbacks.monitor import Monitor\n",
    "import pathlib\n",
    "import json\n",
    "import os\n",
    "\n",
    "fig_path = \"plot\"\n",
    "json_path = \"values.json\"\n",
    "values_path = 'values.json'\n",
    "\n",
    "callbacks.append(Monitor(fig_path, json_path, start_epoch))"
   ]
  },
  {
   "cell_type": "markdown",
   "metadata": {},
   "source": [
    "# Fit model"
   ]
  },
  {
   "cell_type": "code",
   "execution_count": null,
   "metadata": {},
   "outputs": [
    {
     "name": "stdout",
     "output_type": "stream",
     "text": [
      "Epoch 1/120\n",
      "103/103 [==============================] - 209s 2s/step - loss: 0.3881 - accuracy: 0.8972 - val_loss: 0.6106 - val_accuracy: 0.8102\n",
      "\n",
      "Epoch 00001: val_loss improved from inf to 0.61060, saving model to checkpoints-finetuning.hdf5\n",
      "Epoch 2/120\n",
      "103/103 [==============================] - 204s 2s/step - loss: 0.3441 - accuracy: 0.9051 - val_loss: 0.5594 - val_accuracy: 0.8283\n",
      "\n",
      "Epoch 00002: val_loss improved from 0.61060 to 0.55941, saving model to checkpoints-finetuning.hdf5\n",
      "Epoch 3/120\n",
      "103/103 [==============================] - 204s 2s/step - loss: 0.2936 - accuracy: 0.9217 - val_loss: 0.5217 - val_accuracy: 0.8420\n",
      "\n",
      "Epoch 00003: val_loss improved from 0.55941 to 0.52166, saving model to checkpoints-finetuning.hdf5\n",
      "Epoch 4/120\n",
      "103/103 [==============================] - 204s 2s/step - loss: 0.2627 - accuracy: 0.9312 - val_loss: 0.4911 - val_accuracy: 0.8465\n",
      "\n",
      "Epoch 00004: val_loss improved from 0.52166 to 0.49111, saving model to checkpoints-finetuning.hdf5\n",
      "Epoch 5/120\n",
      "103/103 [==============================] - 204s 2s/step - loss: 0.2469 - accuracy: 0.9370 - val_loss: 0.4672 - val_accuracy: 0.8547\n",
      "\n",
      "Epoch 00005: val_loss improved from 0.49111 to 0.46719, saving model to checkpoints-finetuning.hdf5\n",
      "Epoch 6/120\n",
      "103/103 [==============================] - 204s 2s/step - loss: 0.2246 - accuracy: 0.9382 - val_loss: 0.4644 - val_accuracy: 0.8520\n",
      "\n",
      "Epoch 00006: val_loss improved from 0.46719 to 0.46442, saving model to checkpoints-finetuning.hdf5\n",
      "Epoch 7/120\n",
      "103/103 [==============================] - 204s 2s/step - loss: 0.2142 - accuracy: 0.9452 - val_loss: 0.4471 - val_accuracy: 0.8583\n",
      "\n",
      "Epoch 00007: val_loss improved from 0.46442 to 0.44709, saving model to checkpoints-finetuning.hdf5\n",
      "Epoch 8/120\n",
      "103/103 [==============================] - 204s 2s/step - loss: 0.1906 - accuracy: 0.9440 - val_loss: 0.4292 - val_accuracy: 0.8610\n",
      "\n",
      "Epoch 00008: val_loss improved from 0.44709 to 0.42924, saving model to checkpoints-finetuning.hdf5\n",
      "Epoch 9/120\n",
      "103/103 [==============================] - 205s 2s/step - loss: 0.1829 - accuracy: 0.9490 - val_loss: 0.4071 - val_accuracy: 0.8756\n",
      "\n",
      "Epoch 00009: val_loss improved from 0.42924 to 0.40706, saving model to checkpoints-finetuning.hdf5\n",
      "Epoch 10/120\n",
      "103/103 [==============================] - 203s 2s/step - loss: 0.1798 - accuracy: 0.9463 - val_loss: 0.4074 - val_accuracy: 0.8774\n",
      "\n",
      "Epoch 00010: val_loss did not improve from 0.40706\n",
      "Epoch 11/120\n",
      "103/103 [==============================] - 204s 2s/step - loss: 0.1626 - accuracy: 0.9535 - val_loss: 0.3866 - val_accuracy: 0.8810\n",
      "\n",
      "Epoch 00011: val_loss improved from 0.40706 to 0.38662, saving model to checkpoints-finetuning.hdf5\n",
      "Epoch 12/120\n",
      "103/103 [==============================] - 203s 2s/step - loss: 0.1477 - accuracy: 0.9575 - val_loss: 0.3834 - val_accuracy: 0.8810\n",
      "\n",
      "Epoch 00012: val_loss improved from 0.38662 to 0.38339, saving model to checkpoints-finetuning.hdf5\n",
      "Epoch 13/120\n",
      "103/103 [==============================] - 203s 2s/step - loss: 0.1391 - accuracy: 0.9624 - val_loss: 0.3738 - val_accuracy: 0.8856\n",
      "\n",
      "Epoch 00013: val_loss improved from 0.38339 to 0.37382, saving model to checkpoints-finetuning.hdf5\n",
      "Epoch 14/120\n",
      "103/103 [==============================] - 205s 2s/step - loss: 0.1320 - accuracy: 0.9630 - val_loss: 0.3709 - val_accuracy: 0.8865\n",
      "\n",
      "Epoch 00014: val_loss improved from 0.37382 to 0.37091, saving model to checkpoints-finetuning.hdf5\n",
      "Epoch 15/120\n",
      "103/103 [==============================] - 202s 2s/step - loss: 0.1510 - accuracy: 0.9651 - val_loss: 0.3682 - val_accuracy: 0.8810\n",
      "\n",
      "Epoch 00015: val_loss improved from 0.37091 to 0.36824, saving model to checkpoints-finetuning.hdf5\n",
      "Epoch 16/120\n",
      "103/103 [==============================] - 203s 2s/step - loss: 0.1328 - accuracy: 0.9627 - val_loss: 0.3641 - val_accuracy: 0.8865\n",
      "\n",
      "Epoch 00016: val_loss improved from 0.36824 to 0.36412, saving model to checkpoints-finetuning.hdf5\n",
      "Epoch 17/120\n",
      "103/103 [==============================] - 203s 2s/step - loss: 0.1170 - accuracy: 0.9682 - val_loss: 0.3611 - val_accuracy: 0.8856\n",
      "\n",
      "Epoch 00017: val_loss improved from 0.36412 to 0.36115, saving model to checkpoints-finetuning.hdf5\n",
      "Epoch 18/120\n",
      "103/103 [==============================] - 204s 2s/step - loss: 0.1109 - accuracy: 0.9691 - val_loss: 0.3534 - val_accuracy: 0.8874\n",
      "\n",
      "Epoch 00019: val_loss improved from 0.36115 to 0.35336, saving model to checkpoints-finetuning.hdf5\n",
      "Epoch 20/120\n",
      "103/103 [==============================] - 205s 2s/step - loss: 0.1194 - accuracy: 0.9660 - val_loss: 0.3375 - val_accuracy: 0.8910\n",
      "\n",
      "Epoch 00020: val_loss improved from 0.35336 to 0.33752, saving model to checkpoints-finetuning.hdf5\n",
      "Epoch 21/120\n",
      "103/103 [==============================] - 204s 2s/step - loss: 0.1057 - accuracy: 0.9703 - val_loss: 0.3388 - val_accuracy: 0.8910\n",
      "\n",
      "Epoch 00021: val_loss did not improve from 0.33752\n",
      "Epoch 22/120\n",
      "103/103 [==============================] - 204s 2s/step - loss: 0.1112 - accuracy: 0.9694 - val_loss: 0.3318 - val_accuracy: 0.8919\n",
      "\n",
      "Epoch 00022: val_loss improved from 0.33752 to 0.33184, saving model to checkpoints-finetuning.hdf5\n",
      "Epoch 23/120\n",
      "103/103 [==============================] - 204s 2s/step - loss: 0.1095 - accuracy: 0.9654 - val_loss: 0.3346 - val_accuracy: 0.8910\n",
      "\n",
      "Epoch 00023: val_loss did not improve from 0.33184\n",
      "Epoch 24/120\n",
      "103/103 [==============================] - 204s 2s/step - loss: 0.1117 - accuracy: 0.9709 - val_loss: 0.3139 - val_accuracy: 0.8937\n",
      "\n",
      "Epoch 00024: val_loss improved from 0.33184 to 0.31385, saving model to checkpoints-finetuning.hdf5\n",
      "Epoch 25/120\n",
      "103/103 [==============================] - 204s 2s/step - loss: 0.0994 - accuracy: 0.9755 - val_loss: 0.3198 - val_accuracy: 0.8965\n",
      "\n",
      "Epoch 00025: val_loss did not improve from 0.31385\n",
      "Epoch 26/120\n",
      "103/103 [==============================] - 203s 2s/step - loss: 0.1060 - accuracy: 0.9709 - val_loss: 0.3243 - val_accuracy: 0.8955\n",
      "\n",
      "Epoch 00026: val_loss did not improve from 0.31385\n",
      "Epoch 27/120\n",
      "103/103 [==============================] - 204s 2s/step - loss: 0.0888 - accuracy: 0.9743 - val_loss: 0.3194 - val_accuracy: 0.8955\n",
      "\n",
      "Epoch 00027: val_loss did not improve from 0.31385\n",
      "Epoch 28/120\n",
      "103/103 [==============================] - 203s 2s/step - loss: 0.0948 - accuracy: 0.9718 - val_loss: 0.3051 - val_accuracy: 0.8992\n",
      "\n",
      "Epoch 00028: val_loss improved from 0.31385 to 0.30506, saving model to checkpoints-finetuning.hdf5\n",
      "Epoch 29/120\n",
      "103/103 [==============================] - 204s 2s/step - loss: 0.0873 - accuracy: 0.9771 - val_loss: 0.3045 - val_accuracy: 0.8974\n",
      "\n",
      "Epoch 00029: val_loss improved from 0.30506 to 0.30453, saving model to checkpoints-finetuning.hdf5\n",
      "Epoch 30/120\n",
      "103/103 [==============================] - 205s 2s/step - loss: 0.0822 - accuracy: 0.9757 - val_loss: 0.3068 - val_accuracy: 0.8983\n",
      "\n",
      "Epoch 00030: val_loss did not improve from 0.30453\n",
      "Epoch 31/120\n",
      "103/103 [==============================] - 204s 2s/step - loss: 0.0801 - accuracy: 0.9743 - val_loss: 0.3038 - val_accuracy: 0.8992\n",
      "\n",
      "Epoch 00031: val_loss improved from 0.30453 to 0.30381, saving model to checkpoints-finetuning.hdf5\n",
      "Epoch 32/120\n",
      "103/103 [==============================] - 203s 2s/step - loss: 0.0795 - accuracy: 0.9796 - val_loss: 0.3064 - val_accuracy: 0.8965\n",
      "\n",
      "Epoch 00032: val_loss did not improve from 0.30381\n",
      "Epoch 33/120\n",
      "103/103 [==============================] - 206s 2s/step - loss: 0.0825 - accuracy: 0.9760 - val_loss: 0.3053 - val_accuracy: 0.8974\n",
      "\n",
      "Epoch 00033: val_loss did not improve from 0.30381\n",
      "Epoch 34/120\n",
      "103/103 [==============================] - 203s 2s/step - loss: 0.0805 - accuracy: 0.9772 - val_loss: 0.2906 - val_accuracy: 0.9046\n",
      "\n",
      "Epoch 00034: val_loss improved from 0.30381 to 0.29059, saving model to checkpoints-finetuning.hdf5\n",
      "Epoch 35/120\n",
      "103/103 [==============================] - 205s 2s/step - loss: 0.0843 - accuracy: 0.9774 - val_loss: 0.3113 - val_accuracy: 0.8992\n",
      "\n",
      "Epoch 00035: val_loss did not improve from 0.29059\n",
      "Epoch 36/120\n",
      "103/103 [==============================] - 206s 2s/step - loss: 0.0787 - accuracy: 0.9745 - val_loss: 0.3011 - val_accuracy: 0.9028\n",
      "\n",
      "Epoch 00036: val_loss did not improve from 0.29059\n",
      "Epoch 37/120\n",
      "103/103 [==============================] - 205s 2s/step - loss: 0.0662 - accuracy: 0.9810 - val_loss: 0.2998 - val_accuracy: 0.9010\n",
      "\n",
      "Epoch 00037: val_loss did not improve from 0.29059\n",
      "Epoch 38/120\n",
      "103/103 [==============================] - 203s 2s/step - loss: 0.0702 - accuracy: 0.9795 - val_loss: 0.3009 - val_accuracy: 0.9019\n",
      "\n",
      "Epoch 00038: val_loss did not improve from 0.29059\n",
      "Epoch 39/120\n",
      "103/103 [==============================] - 203s 2s/step - loss: 0.0864 - accuracy: 0.9781 - val_loss: 0.2950 - val_accuracy: 0.9037\n",
      "\n",
      "Epoch 00039: val_loss did not improve from 0.29059\n",
      "Epoch 40/120\n",
      "103/103 [==============================] - 204s 2s/step - loss: 0.0789 - accuracy: 0.9758 - val_loss: 0.2888 - val_accuracy: 0.9055\n",
      "\n",
      "Epoch 00040: val_loss improved from 0.29059 to 0.28877, saving model to checkpoints-finetuning.hdf5\n",
      "Epoch 41/120\n",
      "103/103 [==============================] - 204s 2s/step - loss: 0.0673 - accuracy: 0.9801 - val_loss: 0.2861 - val_accuracy: 0.9055\n",
      "\n",
      "Epoch 00041: val_loss improved from 0.28877 to 0.28610, saving model to checkpoints-finetuning.hdf5\n",
      "Epoch 42/120\n",
      "103/103 [==============================] - 204s 2s/step - loss: 0.0782 - accuracy: 0.9758 - val_loss: 0.2966 - val_accuracy: 0.9028\n",
      "\n",
      "Epoch 00042: val_loss did not improve from 0.28610\n",
      "Epoch 43/120\n",
      "103/103 [==============================] - 204s 2s/step - loss: 0.0614 - accuracy: 0.9810 - val_loss: 0.2895 - val_accuracy: 0.9055\n",
      "\n",
      "Epoch 00043: val_loss did not improve from 0.28610\n",
      "Epoch 44/120\n",
      "103/103 [==============================] - 203s 2s/step - loss: 0.0719 - accuracy: 0.9792 - val_loss: 0.2913 - val_accuracy: 0.9019\n",
      "\n",
      "Epoch 00044: val_loss did not improve from 0.28610\n",
      "Epoch 45/120\n",
      "103/103 [==============================] - 204s 2s/step - loss: 0.0818 - accuracy: 0.9764 - val_loss: 0.2891 - val_accuracy: 0.9046\n",
      "\n",
      "Epoch 00045: val_loss did not improve from 0.28610\n",
      "Epoch 46/120\n",
      " 62/103 [=================>............] - ETA: 1:03 - loss: 0.0621 - accuracy: 0.9803"
     ]
    }
   ],
   "source": [
    "\n",
    "H = model.fit_generator(\n",
    "    aug.flow(train_x,train_y, batch_size = 32),\n",
    "             validation_data = (test_x,test_y),\n",
    "             epochs=num_of_epochs,\n",
    "             steps_per_epoch = len(train_x) //32,\n",
    "             verbose = 1,\n",
    "             callbacks=callbacks)"
   ]
  },
  {
   "cell_type": "markdown",
   "metadata": {},
   "source": [
    "# Save model"
   ]
  },
  {
   "cell_type": "code",
   "execution_count": null,
   "metadata": {},
   "outputs": [],
   "source": [
    "model.save(model_save_path)"
   ]
  },
  {
   "cell_type": "markdown",
   "metadata": {},
   "source": [
    "# Evaluate with 20%"
   ]
  },
  {
   "cell_type": "code",
   "execution_count": null,
   "metadata": {},
   "outputs": [],
   "source": [
    "from sklearn.metrics import classification_report\n",
    "\n",
    "print(\"[INFO] evaluating after initialization...\")\n",
    "predictions = model.predict(test_x,batch_size=batch_size)\n",
    "\n",
    "print(classification_report(test_y.argmax(axis =1),\n",
    "                            predictions.argmax(axis =1),\n",
    "                            target_names=class_names, \n",
    "                            digits=4))"
   ]
  },
  {
   "cell_type": "markdown",
   "metadata": {},
   "source": [
    "# Evaluate with validation images"
   ]
  },
  {
   "cell_type": "code",
   "execution_count": null,
   "metadata": {},
   "outputs": [],
   "source": [
    "class_paths_validation = ['../datasets/validation/___Early_blight', '../datasets/validation/___Appids', '../datasets/validation/___Leaf_miner', '../datasets/self/___Curly_top_virus']"
   ]
  },
  {
   "cell_type": "code",
   "execution_count": null,
   "metadata": {},
   "outputs": [],
   "source": [
    "(train_x,test_x,train_y,test_y, class_names) = load_datasets(class_paths_validation)\n",
    "\n",
    "from sklearn.metrics import classification_report\n",
    "\n",
    "print(\"[INFO] evaluating with validation set...\")\n",
    "predictions = model.predict(test_x,batch_size=batch_size)\n",
    "\n",
    "print(classification_report(test_y.argmax(axis =1),\n",
    "                            predictions.argmax(axis =1),\n",
    "                            target_names=class_names, \n",
    "                            digits=4))"
   ]
  },
  {
   "cell_type": "code",
   "execution_count": null,
   "metadata": {},
   "outputs": [],
   "source": []
  }
 ],
 "metadata": {
  "file_extension": ".py",
  "kernelspec": {
   "display_name": "Python 3",
   "language": "python",
   "name": "python3"
  },
  "language_info": {
   "codemirror_mode": {
    "name": "ipython",
    "version": 3
   },
   "file_extension": ".py",
   "mimetype": "text/x-python",
   "name": "python",
   "nbconvert_exporter": "python",
   "pygments_lexer": "ipython3",
   "version": "3.5.3"
  },
  "mimetype": "text/x-python",
  "name": "python",
  "npconvert_exporter": "python",
  "pygments_lexer": "ipython3",
  "version": 3
 },
 "nbformat": 4,
 "nbformat_minor": 4
}

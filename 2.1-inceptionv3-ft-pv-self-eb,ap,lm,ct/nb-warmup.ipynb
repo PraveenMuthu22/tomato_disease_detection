{
 "cells": [
  {
   "cell_type": "markdown",
   "metadata": {},
   "source": [
    "\n",
    "# Arguments"
   ]
  },
  {
   "cell_type": "code",
   "execution_count": 1,
   "metadata": {},
   "outputs": [],
   "source": [
    "# inceptionv3-ft-pv-self-eb,ap,lm,ct\n",
    "batch_size = 32\n",
    "dataset_path_plantvillage = '../datasets/plantvillage'\n",
    "dataset_path_self = '../datasets/self'\n",
    "dataset_path_validation = '../datasets/validation'\n",
    "\n",
    "dataset_paths = [dataset_path_plantvillage, dataset_path_self, dataset_path_validation]\n",
    "\n",
    "model_save_path = 'model-warmup.h5'\n",
    "\n",
    "checkpoint_path = 'checkpoints-warmup.hdf5'\n",
    "\n",
    "input_width = 299\n",
    "input_height = 299\n",
    "input_depth = 3\n",
    "\n",
    "# --------------------------------------------------\n",
    "num_of_epochs = 25\n",
    "start_epoch = 0\n",
    "# --------------------------------------------------"
   ]
  },
  {
   "cell_type": "markdown",
   "metadata": {},
   "source": [
    "# Print class names"
   ]
  },
  {
   "cell_type": "code",
   "execution_count": 2,
   "metadata": {},
   "outputs": [
    {
     "name": "stdout",
     "output_type": "stream",
     "text": [
      "['___Yellow_Leaf_Curl_Virus', '___Late_blight', '___Early_blight', '___Two-spotted_spider_mite', '___Septoria_leaf_spot', '___Bacterial_spot', '___healthy', '___Target_Spot', '___Mosaic_Virus', '___Leaf_Mold', '___Leaf_miner', '___Curly_top_virus', '___Appids']\n",
      "\n",
      "PlantVillage\n",
      "['../datasets/plantvillage/___Yellow_Leaf_Curl_Virus', '../datasets/plantvillage/___Late_blight', '../datasets/plantvillage/___Early_blight', '../datasets/plantvillage/___Two-spotted_spider_mite', '../datasets/plantvillage/___Septoria_leaf_spot', '../datasets/plantvillage/___Bacterial_spot', '../datasets/plantvillage/___healthy', '../datasets/plantvillage/___Target_Spot', '../datasets/plantvillage/___Mosaic_Virus', '../datasets/plantvillage/___Leaf_Mold']\n",
      "10\n",
      "\n",
      "Self\n",
      "['../datasets/self/___Leaf_miner', '../datasets/self/___Early_blight', '../datasets/self/___Curly_top_virus', '../datasets/self/___Appids']\n",
      "4\n",
      "\n",
      "Validation\n",
      "['../datasets/validation/___Leaf_miner', '../datasets/validation/___Yellow_Leaf_Curl_Virus', '../datasets/validation/___Late_blight', '../datasets/validation/___Early_blight', '../datasets/validation/___Two-spotted_spider_mite', '../datasets/validation/___Septoria_leaf_spot', '../datasets/validation/___Curly_top_virus', '../datasets/validation/___Bacterial_spot', '../datasets/validation/___healthy', '../datasets/validation/___Appids', '../datasets/validation/___Target_Spot', '../datasets/validation/___Mosaic_Virus', '../datasets/validation/___Leaf_Mold']\n",
      "13\n"
     ]
    }
   ],
   "source": [
    "# Get classes\n",
    "import os\n",
    "import re\n",
    "\n",
    "class_names = []\n",
    "class_paths_plant_village = []\n",
    "class_paths_plant_self = []\n",
    "class_paths_plant_validation = []\n",
    "\n",
    "for path in dataset_paths:\n",
    "    classes = os.listdir(path)\n",
    "    for i in classes:\n",
    "        if(re.search('___', i)):\n",
    "            if(i not in class_names):\n",
    "                class_names.append(i)\n",
    "            if(re.search('plantvillage', path)):\n",
    "                class_paths_plant_village.append(path + '/' + i)\n",
    "            elif(re.search('self', path)):\n",
    "                class_paths_plant_self.append(path + '/' + i)\n",
    "            else:\n",
    "                class_paths_plant_validation.append(path + '/' + i)\n",
    "\n",
    "print(class_names)   \n",
    "print()\n",
    "print('PlantVillage')\n",
    "print(class_paths_plant_village) \n",
    "print(len(class_paths_plant_village))\n",
    "print()\n",
    "print('Self')\n",
    "print(class_paths_plant_self) \n",
    "print(len(class_paths_plant_self))\n",
    "print()\n",
    "print('Validation')\n",
    "print(class_paths_plant_validation) \n",
    "print(len(class_paths_plant_validation))"
   ]
  },
  {
   "cell_type": "markdown",
   "metadata": {},
   "source": [
    "# Select training classes\n",
    "\n",
    "early blight in plantVillage dataset replaced by self one"
   ]
  },
  {
   "cell_type": "code",
   "execution_count": 3,
   "metadata": {},
   "outputs": [],
   "source": [
    "class_paths_training = ['../datasets/self/___Early_blight', '../datasets/self/___Appids', '../datasets/self/___Leaf_miner', '../datasets/self/___Curly_top_virus']\n",
    "class_names = class_paths_training"
   ]
  },
  {
   "cell_type": "markdown",
   "metadata": {},
   "source": [
    "# Load dataset"
   ]
  },
  {
   "cell_type": "code",
   "execution_count": 4,
   "metadata": {},
   "outputs": [
    {
     "name": "stderr",
     "output_type": "stream",
     "text": [
      "Using TensorFlow backend.\n"
     ]
    },
    {
     "name": "stdout",
     "output_type": "stream",
     "text": [
      "[INFO] loading images...\n",
      "[INFO]: Processed 500/4401\n",
      "[INFO]: Processed 1000/4401\n",
      "[INFO]: Processed 1500/4401\n",
      "[INFO]: Processed 2000/4401\n",
      "[INFO]: Processed 2500/4401\n",
      "[INFO]: Processed 3000/4401\n",
      "[INFO]: Processed 3500/4401\n",
      "[INFO]: Processed 4000/4401\n"
     ]
    }
   ],
   "source": [
    "from sklearn.preprocessing import LabelBinarizer\n",
    "from sklearn.model_selection import train_test_split\n",
    "from sklearn.metrics import classification_report\n",
    "from keras.preprocessing.image   import ImageDataGenerator\n",
    "from keras.optimizers import RMSprop\n",
    "from keras.layers import Input\n",
    "from keras.models import Model\n",
    "from keras .applications import VGG16\n",
    "from keras.optimizers import SGD\n",
    "from keras.models import Model\n",
    "from imutils import paths\n",
    "import numpy as np\n",
    "import os\n",
    "\n",
    "import sys\n",
    "sys.path.append('..')\n",
    "\n",
    "from utils.preprocessors.resize_image_preprocessor import resizeImagePreprocessor\n",
    "from utils.preprocessors.img_to_array_preprocessor import ImgToArrayPreprocessor\n",
    "from utils.io.dataset_loader import DatasetLoader\n",
    "\n",
    "# construct the image generator for data augmentation\n",
    "aug = ImageDataGenerator(   rotation_range=30,\n",
    "                            width_shift_range=0.1,\n",
    "                            height_shift_range=0.1,\n",
    "                            shear_range=0.2,\n",
    "                            zoom_range=0.2,\n",
    "                            horizontal_flip=True,\n",
    "                            fill_mode='nearest')\n",
    "\n",
    "def load_datasets(path_list):\n",
    "    # Load image paths\n",
    "    image_paths = []\n",
    "    print(\"[INFO] loading images...\")\n",
    "    for path in path_list:\n",
    "        image_paths.extend(list(paths.list_images(path)))\n",
    "        \n",
    "    # Get unique classnames\n",
    "\n",
    "    class_names = [pt.split(os.path.sep)[-2] for pt in image_paths]\n",
    "    class_names = [str(x) for x in np.unique(class_names)]\n",
    "\n",
    "    # Initial image preprocessing\n",
    "    aap = resizeImagePreprocessor(input_width, input_height)\n",
    "    iap= ImgToArrayPreprocessor()\n",
    "\n",
    "    #Load image data and perform image data preprocessing\n",
    "    dl = DatasetLoader(preprocessors=[aap,iap])\n",
    "    (data,labels)  = dl.load(image_paths,verbose=500)\n",
    "    data = data.astype(\"float\") / 255.0\n",
    "\n",
    "\n",
    "    # train test split\n",
    "    (train_x,test_x,train_y,test_y) = train_test_split(data,labels,test_size=0.25,random_state=42)\n",
    "\n",
    "    # convert the labels from integers to vectors\n",
    "    train_y = LabelBinarizer().fit_transform(train_y)\n",
    "    test_y = LabelBinarizer().fit_transform(test_y)\n",
    "    \n",
    "    return (train_x,test_x,train_y,test_y, class_names)\n",
    "\n",
    "(train_x,test_x,train_y,test_y, class_names) = load_datasets(class_paths_training)\n",
    "\n"
   ]
  },
  {
   "cell_type": "markdown",
   "metadata": {},
   "source": [
    "\n",
    "# Load model"
   ]
  },
  {
   "cell_type": "code",
   "execution_count": 5,
   "metadata": {},
   "outputs": [],
   "source": [
    "from keras.applications import InceptionV3\n",
    "from keras.utils.vis_utils import plot_model\n",
    "from keras.layers import Input\n",
    "\n",
    "base_model = InceptionV3(weights='imagenet',include_top=False,\n",
    "                  input_tensor=Input(shape = (input_width,input_height, input_depth)))\n",
    "\n",
    "plot_save_path = 'diagram-base-inceptionv3.png'\n",
    "# plot_model(base_model, to_file=plot_save_path, show_shapes=True)"
   ]
  },
  {
   "cell_type": "markdown",
   "metadata": {},
   "source": [
    "# Custom FC layer"
   ]
  },
  {
   "cell_type": "code",
   "execution_count": 6,
   "metadata": {},
   "outputs": [],
   "source": [
    "from keras.layers.core import Dropout\n",
    "from keras.layers.core import Flatten\n",
    "from keras.layers.core import Dense\n",
    "from keras.layers import GlobalAveragePooling2D\n",
    "\n",
    "head_model = base_model.output\n",
    "head_model = GlobalAveragePooling2D()(head_model)\n",
    "head_model = Dense(2048,activation='relu')(head_model)\n",
    "# Add a softmaxc layer\n",
    "head_model = Dense(len(class_paths_training),activation='softmax')(head_model)"
   ]
  },
  {
   "cell_type": "markdown",
   "metadata": {},
   "source": [
    "# Attach custom head to model"
   ]
  },
  {
   "cell_type": "code",
   "execution_count": 7,
   "metadata": {},
   "outputs": [],
   "source": [
    "from keras.models import Model\n",
    "\n",
    "\n",
    "# place the head FC model on top of the base model \n",
    "model = Model(inputs=base_model.input, outputs = head_model)\n",
    "\n",
    "plot_save_path = 'diagram-head-attached-inceptionv3.png'\n",
    "# plot_model(model, to_file=plot_save_path, show_shapes=True)"
   ]
  },
  {
   "cell_type": "markdown",
   "metadata": {},
   "source": [
    "# Freeze base model"
   ]
  },
  {
   "cell_type": "code",
   "execution_count": 8,
   "metadata": {},
   "outputs": [],
   "source": [
    "# traverse all layers and freeze the weight of the corresponding layer\n",
    "for layer in base_model.layers:\n",
    "    layer.trainable = False"
   ]
  },
  {
   "cell_type": "markdown",
   "metadata": {},
   "source": [
    "# Compile model"
   ]
  },
  {
   "cell_type": "code",
   "execution_count": 9,
   "metadata": {},
   "outputs": [
    {
     "name": "stdout",
     "output_type": "stream",
     "text": [
      "[INFO] re-compiling model ...\n"
     ]
    }
   ],
   "source": [
    "from keras.optimizers import SGD\n",
    "\n",
    "# Build the model from the new\n",
    "print(\"[INFO] re-compiling model ...\")\n",
    "opt = SGD(lr=0.001, momentum=0.09)\n",
    "\n",
    "model.compile(loss=\"categorical_crossentropy\", optimizer=opt,metrics=[\"accuracy\"])\n",
    "# Since we only train the new fully connected layer, we do a few iterations"
   ]
  },
  {
   "cell_type": "markdown",
   "metadata": {},
   "source": [
    "# Checkpoints"
   ]
  },
  {
   "cell_type": "code",
   "execution_count": 10,
   "metadata": {},
   "outputs": [],
   "source": [
    "from keras.callbacks import ModelCheckpoint\n",
    "\n",
    "\n",
    "checkpoint = ModelCheckpoint(checkpoint_path, monitor='val_loss', mode='min', \n",
    "save_best_only=True, verbose=1)\n",
    "\n",
    "callbacks = [checkpoint]\n",
    "\n"
   ]
  },
  {
   "cell_type": "code",
   "execution_count": 11,
   "metadata": {},
   "outputs": [],
   "source": [
    "#load checkpoints if existing\n",
    "\n",
    "import os\n",
    "\n",
    "if(os.path.exists(checkpoint_path)):\n",
    "    model.load_weights(checkpoint_path)"
   ]
  },
  {
   "cell_type": "markdown",
   "metadata": {},
   "source": [
    "# Training monitor"
   ]
  },
  {
   "cell_type": "code",
   "execution_count": 12,
   "metadata": {},
   "outputs": [],
   "source": [
    "from utils.callbacks.monitor import Monitor\n",
    "import pathlib\n",
    "import json\n",
    "import os\n",
    "\n",
    "fig_path = \"plot\"\n",
    "json_path = \"values.json\"\n",
    "values_path = 'values.json'\n",
    "\n",
    "callbacks.append(Monitor(fig_path, json_path, start_epoch))"
   ]
  },
  {
   "cell_type": "markdown",
   "metadata": {},
   "source": [
    "# Warm up head"
   ]
  },
  {
   "cell_type": "code",
   "execution_count": 13,
   "metadata": {},
   "outputs": [
    {
     "name": "stdout",
     "output_type": "stream",
     "text": [
      "Epoch 1/25\n",
      "103/103 [==============================] - 176s 2s/step - loss: 1.2886 - accuracy: 0.3776 - val_loss: 1.2254 - val_accuracy: 0.4932\n",
      "\n",
      "Epoch 00001: val_loss improved from inf to 1.22544, saving model to checkpoints-warmup.hdf5\n",
      "Epoch 2/25\n",
      "103/103 [==============================] - 173s 2s/step - loss: 1.1820 - accuracy: 0.5184 - val_loss: 1.1663 - val_accuracy: 0.5322\n",
      "\n",
      "Epoch 00002: val_loss improved from 1.22544 to 1.16632, saving model to checkpoints-warmup.hdf5\n",
      "Epoch 3/25\n",
      "103/103 [==============================] - 174s 2s/step - loss: 1.0784 - accuracy: 0.6435 - val_loss: 1.1100 - val_accuracy: 0.5550\n",
      "\n",
      "Epoch 00003: val_loss improved from 1.16632 to 1.11005, saving model to checkpoints-warmup.hdf5\n",
      "Epoch 4/25\n",
      "103/103 [==============================] - 173s 2s/step - loss: 1.0128 - accuracy: 0.6812 - val_loss: 1.0726 - val_accuracy: 0.5777\n",
      "\n",
      "Epoch 00004: val_loss improved from 1.11005 to 1.07258, saving model to checkpoints-warmup.hdf5\n",
      "Epoch 5/25\n",
      "103/103 [==============================] - 173s 2s/step - loss: 0.9446 - accuracy: 0.7304 - val_loss: 1.0312 - val_accuracy: 0.5949\n",
      "\n",
      "Epoch 00005: val_loss improved from 1.07258 to 1.03122, saving model to checkpoints-warmup.hdf5\n",
      "Epoch 6/25\n",
      "103/103 [==============================] - 173s 2s/step - loss: 0.8825 - accuracy: 0.7589 - val_loss: 1.0004 - val_accuracy: 0.6140\n",
      "\n",
      "Epoch 00006: val_loss improved from 1.03122 to 1.00042, saving model to checkpoints-warmup.hdf5\n",
      "Epoch 7/25\n",
      "103/103 [==============================] - 174s 2s/step - loss: 0.8305 - accuracy: 0.7763 - val_loss: 0.9644 - val_accuracy: 0.6412\n",
      "\n",
      "Epoch 00007: val_loss improved from 1.00042 to 0.96435, saving model to checkpoints-warmup.hdf5\n",
      "Epoch 8/25\n",
      "103/103 [==============================] - 175s 2s/step - loss: 0.7765 - accuracy: 0.8042 - val_loss: 0.9383 - val_accuracy: 0.6558\n",
      "\n",
      "Epoch 00008: val_loss improved from 0.96435 to 0.93834, saving model to checkpoints-warmup.hdf5\n",
      "Epoch 9/25\n",
      "103/103 [==============================] - 175s 2s/step - loss: 0.7322 - accuracy: 0.8091 - val_loss: 0.9175 - val_accuracy: 0.6630\n",
      "\n",
      "Epoch 00009: val_loss improved from 0.93834 to 0.91750, saving model to checkpoints-warmup.hdf5\n",
      "Epoch 10/25\n",
      "103/103 [==============================] - 175s 2s/step - loss: 0.7109 - accuracy: 0.8149 - val_loss: 0.8842 - val_accuracy: 0.6803\n",
      "\n",
      "Epoch 00010: val_loss improved from 0.91750 to 0.88417, saving model to checkpoints-warmup.hdf5\n",
      "Epoch 11/25\n",
      "103/103 [==============================] - 175s 2s/step - loss: 0.6700 - accuracy: 0.8231 - val_loss: 0.8716 - val_accuracy: 0.6794\n",
      "\n",
      "Epoch 00011: val_loss improved from 0.88417 to 0.87163, saving model to checkpoints-warmup.hdf5\n",
      "Epoch 12/25\n",
      "103/103 [==============================] - 174s 2s/step - loss: 0.6369 - accuracy: 0.8473 - val_loss: 0.8682 - val_accuracy: 0.6748\n",
      "\n",
      "Epoch 00012: val_loss improved from 0.87163 to 0.86823, saving model to checkpoints-warmup.hdf5\n",
      "Epoch 13/25\n",
      "103/103 [==============================] - 175s 2s/step - loss: 0.6186 - accuracy: 0.8323 - val_loss: 0.8607 - val_accuracy: 0.6739\n",
      "\n",
      "Epoch 00013: val_loss improved from 0.86823 to 0.86073, saving model to checkpoints-warmup.hdf5\n",
      "Epoch 14/25\n",
      "103/103 [==============================] - 175s 2s/step - loss: 0.5858 - accuracy: 0.8565 - val_loss: 0.8256 - val_accuracy: 0.6921\n",
      "\n",
      "Epoch 00014: val_loss improved from 0.86073 to 0.82561, saving model to checkpoints-warmup.hdf5\n",
      "Epoch 15/25\n",
      "103/103 [==============================] - 176s 2s/step - loss: 0.5578 - accuracy: 0.8623 - val_loss: 0.8215 - val_accuracy: 0.6948\n",
      "\n",
      "Epoch 00015: val_loss improved from 0.82561 to 0.82153, saving model to checkpoints-warmup.hdf5\n",
      "Epoch 16/25\n",
      "103/103 [==============================] - 174s 2s/step - loss: 0.5299 - accuracy: 0.8592 - val_loss: 0.8154 - val_accuracy: 0.6985\n",
      "\n",
      "Epoch 00016: val_loss improved from 0.82153 to 0.81544, saving model to checkpoints-warmup.hdf5\n",
      "Epoch 17/25\n",
      "103/103 [==============================] - 175s 2s/step - loss: 0.5213 - accuracy: 0.8672 - val_loss: 0.8002 - val_accuracy: 0.7066\n",
      "\n",
      "Epoch 00017: val_loss improved from 0.81544 to 0.80025, saving model to checkpoints-warmup.hdf5\n",
      "Epoch 18/25\n",
      "103/103 [==============================] - 176s 2s/step - loss: 0.5025 - accuracy: 0.8703 - val_loss: 0.7818 - val_accuracy: 0.7103\n",
      "\n",
      "Epoch 00018: val_loss improved from 0.80025 to 0.78185, saving model to checkpoints-warmup.hdf5\n",
      "Epoch 19/25\n",
      "103/103 [==============================] - 175s 2s/step - loss: 0.5035 - accuracy: 0.8745 - val_loss: 0.7661 - val_accuracy: 0.7221\n",
      "\n",
      "Epoch 00019: val_loss improved from 0.78185 to 0.76611, saving model to checkpoints-warmup.hdf5\n",
      "Epoch 20/25\n",
      "103/103 [==============================] - 176s 2s/step - loss: 0.4857 - accuracy: 0.8741 - val_loss: 0.7688 - val_accuracy: 0.7166\n",
      "\n",
      "Epoch 00020: val_loss did not improve from 0.76611\n",
      "Epoch 21/25\n",
      "103/103 [==============================] - 173s 2s/step - loss: 0.4633 - accuracy: 0.8821 - val_loss: 0.7474 - val_accuracy: 0.7312\n",
      "\n",
      "Epoch 00021: val_loss improved from 0.76611 to 0.74739, saving model to checkpoints-warmup.hdf5\n",
      "Epoch 22/25\n",
      "103/103 [==============================] - 174s 2s/step - loss: 0.4566 - accuracy: 0.8755 - val_loss: 0.7368 - val_accuracy: 0.7321\n",
      "\n",
      "Epoch 00022: val_loss improved from 0.74739 to 0.73682, saving model to checkpoints-warmup.hdf5\n",
      "Epoch 23/25\n",
      "103/103 [==============================] - 175s 2s/step - loss: 0.4467 - accuracy: 0.8849 - val_loss: 0.7442 - val_accuracy: 0.7284\n",
      "\n",
      "Epoch 00023: val_loss did not improve from 0.73682\n",
      "Epoch 24/25\n",
      "103/103 [==============================] - 176s 2s/step - loss: 0.4389 - accuracy: 0.8841 - val_loss: 0.7443 - val_accuracy: 0.7248\n",
      "\n",
      "Epoch 00024: val_loss did not improve from 0.73682\n",
      "Epoch 25/25\n",
      "103/103 [==============================] - 174s 2s/step - loss: 0.4258 - accuracy: 0.8852 - val_loss: 0.7191 - val_accuracy: 0.7375\n",
      "\n",
      "Epoch 00025: val_loss improved from 0.73682 to 0.71908, saving model to checkpoints-warmup.hdf5\n"
     ]
    }
   ],
   "source": [
    "model.fit_generator(\n",
    "    aug.flow(train_x,train_y, batch_size = batch_size),\n",
    "             validation_data = (test_x,test_y),\n",
    "             epochs=num_of_epochs,\n",
    "             steps_per_epoch = len(train_x) //32,\n",
    "             verbose = 1,\n",
    "             callbacks=callbacks)\n",
    "\n",
    "model.save(model_save_path)"
   ]
  },
  {
   "cell_type": "markdown",
   "metadata": {},
   "source": [
    "# Evaluate with 20% test set from same dataset"
   ]
  },
  {
   "cell_type": "code",
   "execution_count": 14,
   "metadata": {},
   "outputs": [
    {
     "name": "stdout",
     "output_type": "stream",
     "text": [
      "[INFO] evaluating with test set...\n",
      "                    precision    recall  f1-score   support\n",
      "\n",
      "         ___Appids       0.92      0.45      0.60       243\n",
      "___Curly_top_virus       1.00      0.01      0.02       109\n",
      "   ___Early_blight       0.75      0.92      0.83       388\n",
      "     ___Leaf_miner       0.68      0.96      0.80       361\n",
      "\n",
      "          accuracy                           0.74      1101\n",
      "         macro avg       0.84      0.58      0.56      1101\n",
      "      weighted avg       0.79      0.74      0.69      1101\n",
      "\n"
     ]
    }
   ],
   "source": [
    "from sklearn.metrics import classification_report\n",
    "\n",
    "print(\"[INFO] evaluating with test set...\")\n",
    "predictions = model.predict(test_x,batch_size=batch_size)\n",
    "print(classification_report(test_y.argmax(axis =1),\n",
    "                            predictions.argmax(axis =1),target_names=class_names))"
   ]
  },
  {
   "cell_type": "markdown",
   "metadata": {},
   "source": [
    "# Evaluate with validation images"
   ]
  },
  {
   "cell_type": "code",
   "execution_count": 15,
   "metadata": {},
   "outputs": [],
   "source": [
    "class_paths_validation = ['../datasets/validation/___Early_blight', '../datasets/validation/___Appids', '../datasets/validation/___Leaf_miner', '../datasets/self/___Curly_top_virus']"
   ]
  },
  {
   "cell_type": "code",
   "execution_count": 16,
   "metadata": {},
   "outputs": [
    {
     "name": "stdout",
     "output_type": "stream",
     "text": [
      "[INFO] loading images...\n",
      "[INFO]: Processed 500/599\n",
      "[INFO] evaluating with validation set...\n",
      "                    precision    recall  f1-score   support\n",
      "\n",
      "         ___Appids     0.2143    0.6000    0.3158         5\n",
      "___Curly_top_virus     1.0000    0.0179    0.0351       112\n",
      "   ___Early_blight     0.2037    0.9167    0.3333        12\n",
      "     ___Leaf_miner     0.2375    0.9048    0.3762        21\n",
      "\n",
      "          accuracy                         0.2333       150\n",
      "         macro avg     0.4139    0.6098    0.2651       150\n",
      "      weighted avg     0.8034    0.2333    0.1161       150\n",
      "\n"
     ]
    }
   ],
   "source": [
    "(train_x,test_x,train_y,test_y, class_names) = load_datasets(class_paths_validation)\n",
    "\n",
    "from sklearn.metrics import classification_report\n",
    "\n",
    "print(\"[INFO] evaluating with validation set...\")\n",
    "predictions = model.predict(test_x,batch_size=batch_size)\n",
    "\n",
    "print(classification_report(test_y.argmax(axis =1),\n",
    "                            predictions.argmax(axis =1),\n",
    "                            target_names=class_names, \n",
    "                            digits=4))"
   ]
  }
 ],
 "metadata": {
  "environment": {
   "name": "tf2-gpu.2-1.m47",
   "type": "gcloud",
   "uri": "gcr.io/deeplearning-platform-release/tf2-gpu.2-1:m47"
  },
  "file_extension": ".py",
  "kernelspec": {
   "display_name": "Python 3",
   "language": "python",
   "name": "python3"
  },
  "language_info": {
   "codemirror_mode": {
    "name": "ipython",
    "version": 3
   },
   "file_extension": ".py",
   "mimetype": "text/x-python",
   "name": "python",
   "nbconvert_exporter": "python",
   "pygments_lexer": "ipython3",
   "version": "3.7.6"
  },
  "mimetype": "text/x-python",
  "name": "python",
  "npconvert_exporter": "python",
  "pygments_lexer": "ipython3",
  "version": 3
 },
 "nbformat": 4,
 "nbformat_minor": 4
}

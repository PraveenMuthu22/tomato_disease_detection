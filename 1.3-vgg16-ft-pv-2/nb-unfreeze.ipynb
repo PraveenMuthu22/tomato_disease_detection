{
 "cells": [
  {
   "cell_type": "markdown",
   "metadata": {},
   "source": [
    "# Arguments"
   ]
  },
  {
   "cell_type": "code",
   "execution_count": 1,
   "metadata": {},
   "outputs": [
    {
     "name": "stdout",
     "output_type": "stream",
     "text": [
      "Classes:  ['Tomato___Tomato_mosaic_virus', 'Tomato___Early_blight', 'Tomato___Late_blight', 'Tomato___Leaf_Mold', 'Tomato___Bacterial_spot', 'Tomato___Target_Spot', 'Tomato___Tomato_Yellow_Leaf_Curl_Virus', 'Tomato___healthy', 'Tomato___Septoria_leaf_spot', 'Tomato___Two-spotted_spider_mite']\n",
      "10\n"
     ]
    }
   ],
   "source": [
    "\n",
    "warmup_model_path = 'model-warmup.h5'\n",
    "model_save_path = 'model-final.h5'\n",
    "dataset_name = 'tomato-dataset'\n",
    "dataset_path = '../datasets/' + dataset_name\n",
    "checkpoint_path = 'checkpoints-finetuning.hdf5'\n",
    "input_width = 224\n",
    "input_height = 224\n",
    "input_depth = 3\n",
    "\n",
    "batch_size = 32\n",
    "\n",
    "# Get classes\n",
    "import os\n",
    "import re\n",
    "classes = os.listdir(dataset_path)\n",
    "class_names = []\n",
    "\n",
    "for i in classes:\n",
    "    if(re.search(\"Tomato___\", i)):\n",
    "        class_names.append(i)\n",
    "    \n",
    "print('Classes: ', class_names)\n",
    "print(len(class_names))\n",
    "\n",
    "#------------------------------------------\n",
    "start_epoch = 0\n",
    "num_of_epochs = 1\n",
    "#------------------------------------------\n",
    "\n"
   ]
  },
  {
   "cell_type": "markdown",
   "metadata": {},
   "source": [
    "# Load model from disk"
   ]
  },
  {
   "cell_type": "code",
   "execution_count": 2,
   "metadata": {},
   "outputs": [
    {
     "name": "stderr",
     "output_type": "stream",
     "text": [
      "Using TensorFlow backend.\n"
     ]
    }
   ],
   "source": [
    "# import tensorflow as tf\n",
    "# print(tf.__version__)\n",
    "\n",
    "\n",
    "# model = tf.keras.models.load_model(\n",
    "#     warmup_model_path,\n",
    "#     custom_objects=None,\n",
    "#     compile=False\n",
    "# )\n",
    "\n",
    "from keras.models import load_model\n",
    "\n",
    "model = load_model(warmup_model_path)\n",
    "\n",
    "\n",
    "\n"
   ]
  },
  {
   "cell_type": "markdown",
   "metadata": {},
   "source": [
    "# Print index of layers"
   ]
  },
  {
   "cell_type": "code",
   "execution_count": 3,
   "metadata": {},
   "outputs": [
    {
     "name": "stdout",
     "output_type": "stream",
     "text": [
      "[INFO] 0\tInputLayer\n",
      "[INFO] 1\tConv2D\n",
      "[INFO] 2\tConv2D\n",
      "[INFO] 3\tMaxPooling2D\n",
      "[INFO] 4\tConv2D\n",
      "[INFO] 5\tConv2D\n",
      "[INFO] 6\tMaxPooling2D\n",
      "[INFO] 7\tConv2D\n",
      "[INFO] 8\tConv2D\n",
      "[INFO] 9\tConv2D\n",
      "[INFO] 10\tMaxPooling2D\n",
      "[INFO] 11\tConv2D\n",
      "[INFO] 12\tConv2D\n",
      "[INFO] 13\tConv2D\n",
      "[INFO] 14\tMaxPooling2D\n",
      "[INFO] 15\tConv2D\n",
      "[INFO] 16\tConv2D\n",
      "[INFO] 17\tConv2D\n",
      "[INFO] 18\tMaxPooling2D\n",
      "[INFO] 19\tFlatten\n",
      "[INFO] 20\tDense\n",
      "[INFO] 21\tDropout\n",
      "[INFO] 22\tDense\n"
     ]
    }
   ],
   "source": [
    "# iterate for all layers in the network and print its' index value\n",
    "for (i,layer) in enumerate(model.layers):\n",
    "    print(\"[INFO] {}\\t{}\".format(i,layer.__class__.__name__))"
   ]
  },
  {
   "cell_type": "markdown",
   "metadata": {},
   "source": [
    "# Unfreeze final CONV layers"
   ]
  },
  {
   "cell_type": "code",
   "execution_count": 4,
   "metadata": {},
   "outputs": [
    {
     "name": "stdout",
     "output_type": "stream",
     "text": [
      "unfrozen\n"
     ]
    }
   ],
   "source": [
    "for layer in model.layers[11:]:\n",
    "    layer.trainable = True\n",
    "print('unfrozen')"
   ]
  },
  {
   "cell_type": "markdown",
   "metadata": {},
   "source": [
    "# Compile model"
   ]
  },
  {
   "cell_type": "code",
   "execution_count": 5,
   "metadata": {},
   "outputs": [
    {
     "name": "stdout",
     "output_type": "stream",
     "text": [
      "[INFO] re-compiling model ...\n"
     ]
    }
   ],
   "source": [
    "from keras.optimizers import SGD\n",
    "\n",
    "# Build the model from the new\n",
    "print(\"[INFO] re-compiling model ...\")\n",
    "opt = SGD(lr=0.001, momentum=0.09)\n",
    "# Fine-tuning with a small learning rate\n",
    "model.compile(loss = 'categorical_crossentropy',optimizer = opt,\n",
    "              metrics=['accuracy'])\n"
   ]
  },
  {
   "cell_type": "markdown",
   "metadata": {},
   "source": [
    "# Load data"
   ]
  },
  {
   "cell_type": "code",
   "execution_count": 6,
   "metadata": {},
   "outputs": [
    {
     "name": "stdout",
     "output_type": "stream",
     "text": [
      "[INFO] loading images...\n",
      "[INFO]: Processed 500/18160\n",
      "[INFO]: Processed 1000/18160\n",
      "[INFO]: Processed 1500/18160\n",
      "[INFO]: Processed 2000/18160\n",
      "[INFO]: Processed 2500/18160\n",
      "[INFO]: Processed 3000/18160\n",
      "[INFO]: Processed 3500/18160\n",
      "[INFO]: Processed 4000/18160\n",
      "[INFO]: Processed 4500/18160\n",
      "[INFO]: Processed 5000/18160\n",
      "[INFO]: Processed 5500/18160\n",
      "[INFO]: Processed 6000/18160\n",
      "[INFO]: Processed 6500/18160\n",
      "[INFO]: Processed 7000/18160\n",
      "[INFO]: Processed 7500/18160\n",
      "[INFO]: Processed 8000/18160\n",
      "[INFO]: Processed 8500/18160\n",
      "[INFO]: Processed 9000/18160\n",
      "[INFO]: Processed 9500/18160\n",
      "[INFO]: Processed 10000/18160\n",
      "[INFO]: Processed 10500/18160\n",
      "[INFO]: Processed 11000/18160\n",
      "[INFO]: Processed 11500/18160\n",
      "[INFO]: Processed 12000/18160\n",
      "[INFO]: Processed 12500/18160\n",
      "[INFO]: Processed 13000/18160\n",
      "[INFO]: Processed 13500/18160\n",
      "[INFO]: Processed 14000/18160\n",
      "[INFO]: Processed 14500/18160\n",
      "[INFO]: Processed 15000/18160\n",
      "[INFO]: Processed 15500/18160\n",
      "[INFO]: Processed 16000/18160\n",
      "[INFO]: Processed 16500/18160\n",
      "[INFO]: Processed 17000/18160\n",
      "[INFO]: Processed 17500/18160\n",
      "[INFO]: Processed 18000/18160\n"
     ]
    }
   ],
   "source": [
    "from sklearn.preprocessing import LabelBinarizer\n",
    "from sklearn.model_selection import train_test_split\n",
    "from sklearn.metrics import classification_report\n",
    "from keras.preprocessing.image   import ImageDataGenerator\n",
    "from keras.optimizers import RMSprop\n",
    "from keras.layers import Input\n",
    "from keras.models import Model\n",
    "from keras .applications import VGG16\n",
    "from keras.optimizers import SGD\n",
    "from keras.models import Model\n",
    "from imutils import paths\n",
    "import numpy as np\n",
    "import os\n",
    "\n",
    "import sys\n",
    "sys.path.append('..')\n",
    "\n",
    "from utils.preprocessors.aspect_aware_preprocessor import AspectAwarePreprocessor\n",
    "from utils.preprocessors.image_to_array_preprocessor import ImageToArrayPreprocessor\n",
    "from utils.io.simple_dataset_loader import SimpleDatasetLoader\n",
    "\n",
    "# construct the image generator for data augmentation\n",
    "aug = ImageDataGenerator(   rotation_range=30,\n",
    "                            width_shift_range=0.1,\n",
    "                            height_shift_range=0.1,\n",
    "                            shear_range=0.2,\n",
    "                            zoom_range=0.2,\n",
    "                            horizontal_flip=True,\n",
    "                            fill_mode='nearest')\n",
    "\n",
    "# Load image paths\n",
    "print(\"[INFO] loading images...\")\n",
    "image_paths = list(paths.list_images(dataset_path))\n",
    "\n",
    "# Initial image preprocessing\n",
    "aap = AspectAwarePreprocessor(input_width, input_height)\n",
    "iap= ImageToArrayPreprocessor()\n",
    "\n",
    "#Load image data and perform image data preprocessing\n",
    "sdl = SimpleDatasetLoader(preprocessors=[aap,iap])\n",
    "(data,labels)  = sdl.load(image_paths,verbose=500)\n",
    "data = data.astype(\"float\") / 255.0\n",
    "\n",
    "\n",
    "# train test split\n",
    "(train_x,test_x,train_y,test_y) = train_test_split(data,labels,test_size=0.25,random_state=42)\n",
    "\n",
    "# convert the labels from integers to vectors\n",
    "train_y = LabelBinarizer().fit_transform(train_y)\n",
    "test_y = LabelBinarizer().fit_transform(test_y)"
   ]
  },
  {
   "cell_type": "markdown",
   "metadata": {},
   "source": [
    "# Checkpoints"
   ]
  },
  {
   "cell_type": "code",
   "execution_count": 7,
   "metadata": {},
   "outputs": [
    {
     "name": "stdout",
     "output_type": "stream",
     "text": [
      "checkpoints loaded\n"
     ]
    }
   ],
   "source": [
    "from keras.callbacks import ModelCheckpoint\n",
    "\n",
    "\n",
    "checkpoint = ModelCheckpoint(checkpoint_path, monitor='val_loss', mode='min', \n",
    "save_best_only=True, verbose=1)\n",
    "\n",
    "callbacks = [checkpoint]\n",
    "\n",
    "#load checkpoints if existing\n",
    "import os\n",
    "\n",
    "\n",
    "if(os.path.exists(checkpoint_path)):\n",
    "    model.load_weights(checkpoint_path)"
   ]
  },
  {
   "cell_type": "markdown",
   "metadata": {},
   "source": [
    "# Training Monitor"
   ]
  },
  {
   "cell_type": "code",
   "execution_count": 8,
   "metadata": {},
   "outputs": [],
   "source": [
    "from utils.callbacks.training_monitor import TrainingMonitor\n",
    "import pathlib\n",
    "import json\n",
    "import os\n",
    "\n",
    "fig_path = \"plot\"\n",
    "json_path = \"values.json\"\n",
    "values_path = 'values.json'\n",
    "\n",
    "callbacks.append(TrainingMonitor(fig_path, json_path, start_epoch))"
   ]
  },
  {
   "cell_type": "markdown",
   "metadata": {},
   "source": [
    "# Fit model"
   ]
  },
  {
   "cell_type": "code",
   "execution_count": 9,
   "metadata": {},
   "outputs": [
    {
     "name": "stdout",
     "output_type": "stream",
     "text": [
      "Epoch 1/20\n",
      "425/425 [==============================] - 224s 528ms/step - loss: 0.1193 - accuracy: 0.9596 - val_loss: 0.0807 - val_accuracy: 0.9714\n",
      "\n",
      "Epoch 00001: val_loss improved from inf to 0.08070, saving model to checkpoints-finetuning.hdf5\n",
      "Epoch 2/20\n",
      "425/425 [==============================] - 212s 498ms/step - loss: 0.1050 - accuracy: 0.9645 - val_loss: 0.1033 - val_accuracy: 0.9606\n",
      "\n",
      "Epoch 00002: val_loss did not improve from 0.08070\n",
      "Epoch 3/20\n",
      "425/425 [==============================] - 211s 497ms/step - loss: 0.0833 - accuracy: 0.9719 - val_loss: 0.1192 - val_accuracy: 0.9615\n",
      "\n",
      "Epoch 00003: val_loss did not improve from 0.08070\n",
      "Epoch 4/20\n",
      "425/425 [==============================] - 212s 498ms/step - loss: 0.0798 - accuracy: 0.9731 - val_loss: 0.0675 - val_accuracy: 0.9764\n",
      "\n",
      "Epoch 00004: val_loss improved from 0.08070 to 0.06746, saving model to checkpoints-finetuning.hdf5\n",
      "Epoch 5/20\n",
      "425/425 [==============================] - 212s 498ms/step - loss: 0.0700 - accuracy: 0.9763 - val_loss: 0.0934 - val_accuracy: 0.9681\n",
      "\n",
      "Epoch 00005: val_loss did not improve from 0.06746\n",
      "Epoch 6/20\n",
      "425/425 [==============================] - 212s 498ms/step - loss: 0.0686 - accuracy: 0.9762 - val_loss: 0.1140 - val_accuracy: 0.9597\n",
      "\n",
      "Epoch 00006: val_loss did not improve from 0.06746\n",
      "Epoch 7/20\n",
      "425/425 [==============================] - 212s 498ms/step - loss: 0.0667 - accuracy: 0.9791 - val_loss: 0.0769 - val_accuracy: 0.9742\n",
      "\n",
      "Epoch 00007: val_loss did not improve from 0.06746\n",
      "Epoch 8/20\n",
      "425/425 [==============================] - 212s 498ms/step - loss: 0.0566 - accuracy: 0.9821 - val_loss: 0.0450 - val_accuracy: 0.9830\n",
      "\n",
      "Epoch 00008: val_loss improved from 0.06746 to 0.04496, saving model to checkpoints-finetuning.hdf5\n",
      "Epoch 9/20\n",
      "425/425 [==============================] - 212s 498ms/step - loss: 0.0561 - accuracy: 0.9816 - val_loss: 0.0479 - val_accuracy: 0.9841\n",
      "\n",
      "Epoch 00009: val_loss did not improve from 0.04496\n",
      "Epoch 10/20\n",
      "425/425 [==============================] - 212s 498ms/step - loss: 0.0605 - accuracy: 0.9809 - val_loss: 0.0658 - val_accuracy: 0.9793\n",
      "\n",
      "Epoch 00010: val_loss did not improve from 0.04496\n",
      "Epoch 11/20\n",
      "425/425 [==============================] - 211s 497ms/step - loss: 0.0526 - accuracy: 0.9820 - val_loss: 0.0491 - val_accuracy: 0.9813\n",
      "\n",
      "Epoch 00011: val_loss did not improve from 0.04496\n",
      "Epoch 12/20\n",
      "425/425 [==============================] - 211s 498ms/step - loss: 0.0480 - accuracy: 0.9827 - val_loss: 0.0416 - val_accuracy: 0.9868\n",
      "\n",
      "Epoch 00012: val_loss improved from 0.04496 to 0.04159, saving model to checkpoints-finetuning.hdf5\n",
      "Epoch 13/20\n",
      "425/425 [==============================] - 211s 498ms/step - loss: 0.0505 - accuracy: 0.9821 - val_loss: 0.0785 - val_accuracy: 0.9729\n",
      "\n",
      "Epoch 00013: val_loss did not improve from 0.04159\n",
      "Epoch 14/20\n",
      "425/425 [==============================] - 213s 501ms/step - loss: 0.0398 - accuracy: 0.9871 - val_loss: 0.1100 - val_accuracy: 0.9654\n",
      "\n",
      "Epoch 00014: val_loss did not improve from 0.04159\n",
      "Epoch 15/20\n",
      "425/425 [==============================] - 212s 498ms/step - loss: 0.0368 - accuracy: 0.9876 - val_loss: 0.1077 - val_accuracy: 0.9665\n",
      "\n",
      "Epoch 00015: val_loss did not improve from 0.04159\n",
      "Epoch 16/20\n",
      "425/425 [==============================] - 211s 497ms/step - loss: 0.0381 - accuracy: 0.9875 - val_loss: 0.0557 - val_accuracy: 0.9815\n",
      "\n",
      "Epoch 00016: val_loss did not improve from 0.04159\n",
      "Epoch 17/20\n",
      "425/425 [==============================] - 213s 500ms/step - loss: 0.0382 - accuracy: 0.9867 - val_loss: 0.0345 - val_accuracy: 0.9890\n",
      "\n",
      "Epoch 00017: val_loss improved from 0.04159 to 0.03446, saving model to checkpoints-finetuning.hdf5\n",
      "Epoch 18/20\n",
      "425/425 [==============================] - 211s 497ms/step - loss: 0.0424 - accuracy: 0.9862 - val_loss: 0.0520 - val_accuracy: 0.9841\n",
      "\n",
      "Epoch 00018: val_loss did not improve from 0.03446\n",
      "Epoch 19/20\n",
      "425/425 [==============================] - 213s 502ms/step - loss: 0.0408 - accuracy: 0.9860 - val_loss: 0.1175 - val_accuracy: 0.9645\n",
      "\n",
      "Epoch 00019: val_loss did not improve from 0.03446\n",
      "Epoch 20/20\n",
      "425/425 [==============================] - 213s 500ms/step - loss: 0.0351 - accuracy: 0.9870 - val_loss: 0.0377 - val_accuracy: 0.9877\n",
      "\n",
      "Epoch 00020: val_loss did not improve from 0.03446\n"
     ]
    }
   ],
   "source": [
    "H = model.fit_generator(\n",
    "    aug.flow(train_x,train_y, batch_size = 32),\n",
    "             validation_data = (test_x,test_y),\n",
    "             epochs=num_of_epochs,\n",
    "             steps_per_epoch = len(train_x) //32,\n",
    "             verbose = 1,\n",
    "             callbacks=callbacks)"
   ]
  },
  {
   "cell_type": "markdown",
   "metadata": {},
   "source": [
    "# Save model"
   ]
  },
  {
   "cell_type": "code",
   "execution_count": 10,
   "metadata": {},
   "outputs": [],
   "source": [
    "model.save(model_save_path)"
   ]
  },
  {
   "cell_type": "markdown",
   "metadata": {},
   "source": [
    "# Evaluate"
   ]
  },
  {
   "cell_type": "code",
   "execution_count": 12,
   "metadata": {},
   "outputs": [
    {
     "name": "stdout",
     "output_type": "stream",
     "text": [
      "[INFO] evaluating after initialization...\n",
      "                                        precision    recall  f1-score   support\n",
      "\n",
      "          Tomato___Tomato_mosaic_virus     0.9981    0.9812    0.9896       532\n",
      "                 Tomato___Early_blight     0.9821    0.9205    0.9503       239\n",
      "                  Tomato___Late_blight     0.9809    0.9851    0.9830       470\n",
      "                    Tomato___Leaf_Mold     0.9875    0.9958    0.9916       238\n",
      "               Tomato___Bacterial_spot     0.9623    0.9977    0.9797       435\n",
      "                  Tomato___Target_Spot     0.9695    0.9669    0.9682       362\n",
      "Tomato___Tomato_Yellow_Leaf_Curl_Virus     0.9993    0.9978    0.9985      1355\n",
      "                      Tomato___healthy     0.9899    1.0000    0.9949        98\n",
      "           Tomato___Septoria_leaf_spot     0.9786    0.9952    0.9868       414\n",
      "      Tomato___Two-spotted_spider_mite     1.0000    0.9975    0.9987       397\n",
      "\n",
      "                           avg / total     0.9878    0.9877    0.9876      4540\n",
      "\n"
     ]
    }
   ],
   "source": [
    "from sklearn.metrics import classification_report\n",
    "\n",
    "print(\"[INFO] evaluating after initialization...\")\n",
    "predictions = model.predict(test_x,batch_size=batch_size)\n",
    "\n",
    "print(classification_report(test_y.argmax(axis =1),\n",
    "                            predictions.argmax(axis =1),\n",
    "                            target_names=class_names, \n",
    "                            digits=4))"
   ]
  }
 ],
 "metadata": {
  "file_extension": ".py",
  "kernelspec": {
   "display_name": "Python 3",
   "language": "python",
   "name": "python3"
  },
  "language_info": {
   "codemirror_mode": {
    "name": "ipython",
    "version": 3
   },
   "file_extension": ".py",
   "mimetype": "text/x-python",
   "name": "python",
   "nbconvert_exporter": "python",
   "pygments_lexer": "ipython3",
   "version": "3.5.3"
  },
  "mimetype": "text/x-python",
  "name": "python",
  "npconvert_exporter": "python",
  "pygments_lexer": "ipython3",
  "version": 3
 },
 "nbformat": 4,
 "nbformat_minor": 4
}
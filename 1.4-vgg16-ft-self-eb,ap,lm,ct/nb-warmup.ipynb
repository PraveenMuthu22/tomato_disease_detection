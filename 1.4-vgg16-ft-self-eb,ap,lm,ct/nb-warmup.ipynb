{
 "cells": [
  {
   "cell_type": "markdown",
   "metadata": {},
   "source": [
    "\n",
    "# Arguments"
   ]
  },
  {
   "cell_type": "code",
   "execution_count": 1,
   "metadata": {},
   "outputs": [],
   "source": [
    "# vgg16-ft-pv-self-eb,ap,lm,ct\n",
    "num_of_epochs = 25\n",
    "batch_size = 32\n",
    "dataset_path_plantvillage = '../datasets/plantvillage'\n",
    "dataset_path_self = '../datasets/self'\n",
    "dataset_path_validation = '../datasets/validation'\n",
    "\n",
    "dataset_paths = [dataset_path_plantvillage, dataset_path_self, dataset_path_validation]\n",
    "\n",
    "model_save_path = 'model-warmup.h5'\n",
    "\n",
    "checkpoint_path = 'checkpoints-warmup.hdf5'\n",
    "\n",
    "input_width = 224\n",
    "input_height = 224\n",
    "input_depth = 3"
   ]
  },
  {
   "cell_type": "markdown",
   "metadata": {},
   "source": [
    "# Print class names"
   ]
  },
  {
   "cell_type": "code",
   "execution_count": 2,
   "metadata": {},
   "outputs": [
    {
     "name": "stdout",
     "output_type": "stream",
     "text": [
      "['___Yellow_Leaf_Curl_Virus', '___Late_blight', '___Early_blight', '___Two-spotted_spider_mite', '___Septoria_leaf_spot', '___Bacterial_spot', '___healthy', '___Target_Spot', '___Mosaic_Virus', '___Leaf_Mold', '___Leaf_miner', '___Curly_top_virus', '___Appids']\n",
      "\n",
      "PlantVillage\n",
      "['../datasets/plantvillage/___Yellow_Leaf_Curl_Virus', '../datasets/plantvillage/___Late_blight', '../datasets/plantvillage/___Early_blight', '../datasets/plantvillage/___Two-spotted_spider_mite', '../datasets/plantvillage/___Septoria_leaf_spot', '../datasets/plantvillage/___Bacterial_spot', '../datasets/plantvillage/___healthy', '../datasets/plantvillage/___Target_Spot', '../datasets/plantvillage/___Mosaic_Virus', '../datasets/plantvillage/___Leaf_Mold']\n",
      "10\n",
      "\n",
      "Self\n",
      "['../datasets/self/___Leaf_miner', '../datasets/self/___Early_blight', '../datasets/self/___Curly_top_virus', '../datasets/self/___Appids']\n",
      "4\n",
      "\n",
      "Validation\n",
      "['../datasets/validation/___Leaf_miner', '../datasets/validation/___Yellow_Leaf_Curl_Virus', '../datasets/validation/___Late_blight', '../datasets/validation/___Early_blight', '../datasets/validation/___Curly_top_virus', '../datasets/validation/___Bacterial_spot', '../datasets/validation/___healthy', '../datasets/validation/___Appids', '../datasets/validation/___Target_Spot', '../datasets/validation/___Mosaic_Virus', '../datasets/validation/___Leaf_Mold']\n",
      "11\n"
     ]
    }
   ],
   "source": [
    "# Get classes\n",
    "import os\n",
    "import re\n",
    "\n",
    "class_names = []\n",
    "class_paths_plant_village = []\n",
    "class_paths_plant_self = []\n",
    "class_paths_plant_validation = []\n",
    "\n",
    "for path in dataset_paths:\n",
    "    classes = os.listdir(path)\n",
    "    for i in classes:\n",
    "        if(re.search('___', i)):\n",
    "            if(i not in class_names):\n",
    "                class_names.append(i)\n",
    "            if(re.search('plantvillage', path)):\n",
    "                class_paths_plant_village.append(path + '/' + i)\n",
    "            elif(re.search('self', path)):\n",
    "                class_paths_plant_self.append(path + '/' + i)\n",
    "            else:\n",
    "                class_paths_plant_validation.append(path + '/' + i)\n",
    "\n",
    "print(class_names)   \n",
    "print()\n",
    "print('PlantVillage')\n",
    "print(class_paths_plant_village) \n",
    "print(len(class_paths_plant_village))\n",
    "print()\n",
    "print('Self')\n",
    "print(class_paths_plant_self) \n",
    "print(len(class_paths_plant_self))\n",
    "print()\n",
    "print('Validation')\n",
    "print(class_paths_plant_validation) \n",
    "print(len(class_paths_plant_validation))"
   ]
  },
  {
   "cell_type": "markdown",
   "metadata": {},
   "source": [
    "# Select training classes\n",
    "\n",
    "early blight in plantVillage dataset replaced by self one"
   ]
  },
  {
   "cell_type": "code",
   "execution_count": 3,
   "metadata": {},
   "outputs": [],
   "source": [
    "class_paths_training = ['../datasets/self/___Early_blight', '../datasets/self/___Appids', '../datasets/self/___Leaf_miner', '../datasets/self/___Curly_top_virus']"
   ]
  },
  {
   "cell_type": "markdown",
   "metadata": {},
   "source": [
    "# Load dataset"
   ]
  },
  {
   "cell_type": "code",
   "execution_count": 4,
   "metadata": {},
   "outputs": [
    {
     "name": "stderr",
     "output_type": "stream",
     "text": [
      "Using TensorFlow backend.\n"
     ]
    },
    {
     "name": "stdout",
     "output_type": "stream",
     "text": [
      "[INFO] loading images...\n",
      "[INFO]: Processed 500/4849\n",
      "[INFO]: Processed 1000/4849\n",
      "[INFO]: Processed 1500/4849\n",
      "[INFO]: Processed 2000/4849\n",
      "[INFO]: Processed 2500/4849\n",
      "[INFO]: Processed 3000/4849\n",
      "[INFO]: Processed 3500/4849\n",
      "[INFO]: Processed 4000/4849\n",
      "[INFO]: Processed 4500/4849\n"
     ]
    }
   ],
   "source": [
    "from sklearn.preprocessing import LabelBinarizer\n",
    "from sklearn.model_selection import train_test_split\n",
    "from sklearn.metrics import classification_report\n",
    "from keras.preprocessing.image   import ImageDataGenerator\n",
    "from keras.optimizers import RMSprop\n",
    "from keras.layers import Input\n",
    "from keras.models import Model\n",
    "from keras .applications import VGG16\n",
    "from keras.optimizers import SGD\n",
    "from keras.models import Model\n",
    "from imutils import paths\n",
    "import numpy as np\n",
    "import os\n",
    "\n",
    "import sys\n",
    "sys.path.append('..')\n",
    "\n",
    "from utils.preprocessors.resize_image_preprocessor import resizeImagePreprocessor\n",
    "from utils.preprocessors.img_to_array_preprocessor import ImgToArrayPreprocessor\n",
    "from utils.io.dataset_loader import DatasetLoader\n",
    "\n",
    "# construct the image generator for data augmentation\n",
    "aug = ImageDataGenerator(   rotation_range=30,\n",
    "                            width_shift_range=0.1,\n",
    "                            height_shift_range=0.1,\n",
    "                            shear_range=0.2,\n",
    "                            zoom_range=0.2,\n",
    "                            horizontal_flip=True,\n",
    "                            fill_mode='nearest')\n",
    "\n",
    "def load_datasets(path_list):\n",
    "    # Load image paths\n",
    "    image_paths = []\n",
    "    print(\"[INFO] loading images...\")\n",
    "    for path in path_list:\n",
    "        image_paths.extend(list(paths.list_images(path)))\n",
    "        \n",
    "    # Get unique classnames\n",
    "\n",
    "    class_names = [pt.split(os.path.sep)[-2] for pt in image_paths]\n",
    "    class_names = [str(x) for x in np.unique(class_names)]\n",
    "\n",
    "    # Initial image preprocessing\n",
    "    aap = resizeImagePreprocessor(input_width, input_height)\n",
    "    iap= ImgToArrayPreprocessor()\n",
    "\n",
    "    #Load image data and perform image data preprocessing\n",
    "    dl = DatasetLoader(preprocessors=[aap,iap])\n",
    "    (data,labels)  = dl.load(image_paths,verbose=500)\n",
    "    data = data.astype(\"float\") / 255.0\n",
    "\n",
    "\n",
    "    # train test split\n",
    "    (train_x,test_x,train_y,test_y) = train_test_split(data,labels,test_size=0.25,random_state=42)\n",
    "\n",
    "    # convert the labels from integers to vectors\n",
    "    train_y = LabelBinarizer().fit_transform(train_y)\n",
    "    test_y = LabelBinarizer().fit_transform(test_y)\n",
    "    \n",
    "    return (train_x,test_x,train_y,test_y, class_names)\n",
    "\n",
    "(train_x,test_x,train_y,test_y, class_names) = load_datasets(class_paths_training)\n",
    "\n"
   ]
  },
  {
   "cell_type": "markdown",
   "metadata": {},
   "source": [
    "\n",
    "# Load model"
   ]
  },
  {
   "cell_type": "code",
   "execution_count": 5,
   "metadata": {},
   "outputs": [],
   "source": [
    "from keras.applications import VGG16\n",
    "from keras.utils.vis_utils import plot_model\n",
    "from keras.layers import Input\n",
    "\n",
    "\n",
    "\n",
    "# Load pretrianed VGG model with FC layers removed\n",
    "# explicitly deﬁne the input_tensor to be 224×224×3 pixels\n",
    "base_model = VGG16(weights='imagenet',include_top=False,\n",
    "                  input_tensor=Input(shape = (input_width,input_height, input_depth)))\n",
    "\n",
    "# plot_save_path = 'diagram-base-vgg16.png'\n",
    "# plot_model(base_model, to_file=model_diagram_path, show_shapes=True)"
   ]
  },
  {
   "cell_type": "markdown",
   "metadata": {},
   "source": [
    "# Custom FC layer"
   ]
  },
  {
   "cell_type": "code",
   "execution_count": 6,
   "metadata": {},
   "outputs": [],
   "source": [
    "from keras.layers.core import Dropout\n",
    "from keras.layers.core import Flatten\n",
    "from keras.layers.core import Dense\n",
    "\n",
    "head_model = base_model.output\n",
    "head_model = Flatten(name='flatten')(head_model)\n",
    "head_model = Dense(256,activation='relu')(head_model)\n",
    "head_model = Dropout(0.5)(head_model)\n",
    "# Add a softmaxc layer\n",
    "head_model = Dense(len(class_names),activation='softmax')(head_model)\n",
    "\n",
    "# plot_save_path = 'custom-head.png'\n",
    "# plot_model(head_model, to_file=model_diagram_path, show_shapes=True)"
   ]
  },
  {
   "cell_type": "markdown",
   "metadata": {},
   "source": [
    "# Attach custom head to model"
   ]
  },
  {
   "cell_type": "code",
   "execution_count": 7,
   "metadata": {},
   "outputs": [],
   "source": [
    "from keras.models import Model\n",
    "\n",
    "\n",
    "# place the head FC model on top of the base model \n",
    "model = Model(inputs=base_model.input, outputs = head_model)\n",
    "\n",
    "# freeze weights in base model\n",
    "for layer in base_model.layers:\n",
    "    layer.trainable = False\n",
    "\n",
    "# plot_save_path = 'diagram-vgg16-head-attached.png'\n",
    "# plot_model(model, to_file=model_diagram_path, show_shapes=True)"
   ]
  },
  {
   "cell_type": "markdown",
   "metadata": {},
   "source": [
    "# Freeze base model"
   ]
  },
  {
   "cell_type": "code",
   "execution_count": 8,
   "metadata": {},
   "outputs": [],
   "source": [
    "# traverse all layers and freeze the weight of the corresponding layer\n",
    "for layer in base_model.layers:\n",
    "    layer.trainable = False"
   ]
  },
  {
   "cell_type": "markdown",
   "metadata": {},
   "source": [
    "# Compile model"
   ]
  },
  {
   "cell_type": "code",
   "execution_count": 9,
   "metadata": {},
   "outputs": [
    {
     "name": "stdout",
     "output_type": "stream",
     "text": [
      "[INFO] re-compiling model ...\n"
     ]
    }
   ],
   "source": [
    "from keras.optimizers import SGD\n",
    "\n",
    "# Build the model from the new\n",
    "print(\"[INFO] re-compiling model ...\")\n",
    "opt = SGD(lr=0.001, momentum=0.09)\n",
    "\n",
    "model.compile(loss=\"categorical_crossentropy\", optimizer=opt,metrics=[\"accuracy\"])\n",
    "# Since we only train the new fully connected layer, we do a few iterations"
   ]
  },
  {
   "cell_type": "markdown",
   "metadata": {},
   "source": [
    "# Checkpoints"
   ]
  },
  {
   "cell_type": "code",
   "execution_count": 10,
   "metadata": {},
   "outputs": [],
   "source": [
    "from keras.callbacks import ModelCheckpoint\n",
    "\n",
    "\n",
    "checkpoint = ModelCheckpoint(checkpoint_path, monitor='val_loss', mode='min', \n",
    "save_best_only=True, verbose=1)\n",
    "\n",
    "callbacks = [checkpoint]\n",
    "\n"
   ]
  },
  {
   "cell_type": "code",
   "execution_count": 11,
   "metadata": {},
   "outputs": [],
   "source": [
    "#load checkpoints if existing\n",
    "\n",
    "import os\n",
    "\n",
    "if(os.path.exists(checkpoint_path)):\n",
    "    model.load_weights(checkpoint_path)"
   ]
  },
  {
   "cell_type": "markdown",
   "metadata": {},
   "source": [
    "# Training monitor"
   ]
  },
  {
   "cell_type": "code",
   "execution_count": 12,
   "metadata": {},
   "outputs": [],
   "source": [
    "from utils.callbacks.monitor import Monitor\n",
    "import pathlib\n",
    "import json\n",
    "import os\n",
    "\n",
    "fig_path = \"plot\"\n",
    "json_path = \"values.json\"\n",
    "values_path = 'values.json'\n",
    "\n",
    "start_epoch = 0\n",
    "\n",
    "callbacks.append(Monitor(fig_path, json_path, start_epoch))"
   ]
  },
  {
   "cell_type": "code",
   "execution_count": 13,
   "metadata": {},
   "outputs": [
    {
     "name": "stdout",
     "output_type": "stream",
     "text": [
      "3636\n",
      "1213\n",
      "3636\n",
      "1213\n"
     ]
    }
   ],
   "source": [
    "print(len(train_x))\n",
    "print(len(test_x))\n",
    "print(len(train_y))\n",
    "print(len(test_y))"
   ]
  },
  {
   "cell_type": "markdown",
   "metadata": {},
   "source": [
    "# Warm up head"
   ]
  },
  {
   "cell_type": "code",
   "execution_count": 14,
   "metadata": {},
   "outputs": [
    {
     "name": "stdout",
     "output_type": "stream",
     "text": [
      "Epoch 1/50\n",
      "113/113 [==============================] - 65s 573ms/step - loss: 1.2221 - accuracy: 0.4664 - val_loss: 0.9843 - val_accuracy: 0.6645\n",
      "\n",
      "Epoch 00001: val_loss improved from inf to 0.98429, saving model to checkpoints-warmup.hdf5\n",
      "Epoch 2/50\n",
      "113/113 [==============================] - 56s 496ms/step - loss: 0.9689 - accuracy: 0.6132 - val_loss: 0.7680 - val_accuracy: 0.7617\n",
      "\n",
      "Epoch 00002: val_loss improved from 0.98429 to 0.76801, saving model to checkpoints-warmup.hdf5\n",
      "Epoch 3/50\n",
      "113/113 [==============================] - 55s 490ms/step - loss: 0.8516 - accuracy: 0.6759 - val_loss: 0.6843 - val_accuracy: 0.7527\n",
      "\n",
      "Epoch 00003: val_loss improved from 0.76801 to 0.68430, saving model to checkpoints-warmup.hdf5\n",
      "Epoch 4/50\n",
      "113/113 [==============================] - 55s 487ms/step - loss: 0.7608 - accuracy: 0.7117 - val_loss: 0.6124 - val_accuracy: 0.8005\n",
      "\n",
      "Epoch 00004: val_loss improved from 0.68430 to 0.61242, saving model to checkpoints-warmup.hdf5\n",
      "Epoch 5/50\n",
      "113/113 [==============================] - 55s 488ms/step - loss: 0.6929 - accuracy: 0.7431 - val_loss: 0.5655 - val_accuracy: 0.8096\n",
      "\n",
      "Epoch 00005: val_loss improved from 0.61242 to 0.56552, saving model to checkpoints-warmup.hdf5\n",
      "Epoch 6/50\n",
      "113/113 [==============================] - 55s 483ms/step - loss: 0.6467 - accuracy: 0.7650 - val_loss: 0.5170 - val_accuracy: 0.8195\n",
      "\n",
      "Epoch 00006: val_loss improved from 0.56552 to 0.51698, saving model to checkpoints-warmup.hdf5\n",
      "Epoch 7/50\n",
      "113/113 [==============================] - 55s 484ms/step - loss: 0.6077 - accuracy: 0.7791 - val_loss: 0.4938 - val_accuracy: 0.8252\n",
      "\n",
      "Epoch 00007: val_loss improved from 0.51698 to 0.49381, saving model to checkpoints-warmup.hdf5\n",
      "Epoch 8/50\n",
      "113/113 [==============================] - 55s 486ms/step - loss: 0.5686 - accuracy: 0.7992 - val_loss: 0.4302 - val_accuracy: 0.8772\n",
      "\n",
      "Epoch 00008: val_loss improved from 0.49381 to 0.43024, saving model to checkpoints-warmup.hdf5\n",
      "Epoch 9/50\n",
      "113/113 [==============================] - 54s 476ms/step - loss: 0.5326 - accuracy: 0.8163 - val_loss: 0.4097 - val_accuracy: 0.8656\n",
      "\n",
      "Epoch 00009: val_loss improved from 0.43024 to 0.40970, saving model to checkpoints-warmup.hdf5\n",
      "Epoch 10/50\n",
      "113/113 [==============================] - 54s 480ms/step - loss: 0.5287 - accuracy: 0.8086 - val_loss: 0.4203 - val_accuracy: 0.8425\n",
      "\n",
      "Epoch 00010: val_loss did not improve from 0.40970\n",
      "Epoch 11/50\n",
      "113/113 [==============================] - 54s 479ms/step - loss: 0.4934 - accuracy: 0.8280 - val_loss: 0.4201 - val_accuracy: 0.8483\n",
      "\n",
      "Epoch 00011: val_loss did not improve from 0.40970\n",
      "Epoch 12/50\n",
      "113/113 [==============================] - 53s 472ms/step - loss: 0.4806 - accuracy: 0.8291 - val_loss: 0.3495 - val_accuracy: 0.8838\n",
      "\n",
      "Epoch 00012: val_loss improved from 0.40970 to 0.34947, saving model to checkpoints-warmup.hdf5\n",
      "Epoch 13/50\n",
      "113/113 [==============================] - 54s 477ms/step - loss: 0.4639 - accuracy: 0.8368 - val_loss: 0.3402 - val_accuracy: 0.8953\n",
      "\n",
      "Epoch 00013: val_loss improved from 0.34947 to 0.34019, saving model to checkpoints-warmup.hdf5\n",
      "Epoch 14/50\n",
      "113/113 [==============================] - 54s 482ms/step - loss: 0.4311 - accuracy: 0.8480 - val_loss: 0.3423 - val_accuracy: 0.8796\n",
      "\n",
      "Epoch 00014: val_loss did not improve from 0.34019\n",
      "Epoch 15/50\n",
      "113/113 [==============================] - 54s 474ms/step - loss: 0.4537 - accuracy: 0.8427 - val_loss: 0.3886 - val_accuracy: 0.8533\n",
      "\n",
      "Epoch 00015: val_loss did not improve from 0.34019\n",
      "Epoch 16/50\n",
      "113/113 [==============================] - 54s 476ms/step - loss: 0.4166 - accuracy: 0.8606 - val_loss: 0.3233 - val_accuracy: 0.8912\n",
      "\n",
      "Epoch 00016: val_loss improved from 0.34019 to 0.32326, saving model to checkpoints-warmup.hdf5\n",
      "Epoch 17/50\n",
      "113/113 [==============================] - 53s 469ms/step - loss: 0.4115 - accuracy: 0.8566 - val_loss: 0.3145 - val_accuracy: 0.8904\n",
      "\n",
      "Epoch 00017: val_loss improved from 0.32326 to 0.31453, saving model to checkpoints-warmup.hdf5\n",
      "Epoch 18/50\n",
      "113/113 [==============================] - 53s 468ms/step - loss: 0.4224 - accuracy: 0.8552 - val_loss: 0.3167 - val_accuracy: 0.9019\n",
      "\n",
      "Epoch 00018: val_loss did not improve from 0.31453\n",
      "Epoch 19/50\n",
      "113/113 [==============================] - 53s 469ms/step - loss: 0.3899 - accuracy: 0.8610 - val_loss: 0.3542 - val_accuracy: 0.8730\n",
      "\n",
      "Epoch 00019: val_loss did not improve from 0.31453\n",
      "Epoch 20/50\n",
      "113/113 [==============================] - 53s 465ms/step - loss: 0.3910 - accuracy: 0.8673 - val_loss: 0.3042 - val_accuracy: 0.8871\n",
      "\n",
      "Epoch 00020: val_loss improved from 0.31453 to 0.30422, saving model to checkpoints-warmup.hdf5\n",
      "Epoch 21/50\n",
      "113/113 [==============================] - 52s 463ms/step - loss: 0.3660 - accuracy: 0.8739 - val_loss: 0.3027 - val_accuracy: 0.8879\n",
      "\n",
      "Epoch 00021: val_loss improved from 0.30422 to 0.30265, saving model to checkpoints-warmup.hdf5\n",
      "Epoch 22/50\n",
      "113/113 [==============================] - 52s 463ms/step - loss: 0.3786 - accuracy: 0.8684 - val_loss: 0.2851 - val_accuracy: 0.9011\n",
      "\n",
      "Epoch 00022: val_loss improved from 0.30265 to 0.28510, saving model to checkpoints-warmup.hdf5\n",
      "Epoch 23/50\n",
      "113/113 [==============================] - 53s 468ms/step - loss: 0.3697 - accuracy: 0.8742 - val_loss: 0.3144 - val_accuracy: 0.8871\n",
      "\n",
      "Epoch 00023: val_loss did not improve from 0.28510\n",
      "Epoch 24/50\n",
      "113/113 [==============================] - 52s 464ms/step - loss: 0.3505 - accuracy: 0.8822 - val_loss: 0.3404 - val_accuracy: 0.8664\n",
      "\n",
      "Epoch 00024: val_loss did not improve from 0.28510\n",
      "Epoch 25/50\n",
      "113/113 [==============================] - 53s 465ms/step - loss: 0.3527 - accuracy: 0.8800 - val_loss: 0.2771 - val_accuracy: 0.9035\n",
      "\n",
      "Epoch 00025: val_loss improved from 0.28510 to 0.27712, saving model to checkpoints-warmup.hdf5\n",
      "Epoch 26/50\n",
      "113/113 [==============================] - 53s 468ms/step - loss: 0.3396 - accuracy: 0.8835 - val_loss: 0.2563 - val_accuracy: 0.9101\n",
      "\n",
      "Epoch 00026: val_loss improved from 0.27712 to 0.25632, saving model to checkpoints-warmup.hdf5\n",
      "Epoch 27/50\n",
      "113/113 [==============================] - 52s 464ms/step - loss: 0.3473 - accuracy: 0.8740 - val_loss: 0.3018 - val_accuracy: 0.8879\n",
      "\n",
      "Epoch 00027: val_loss did not improve from 0.25632\n",
      "Epoch 28/50\n",
      "113/113 [==============================] - 52s 458ms/step - loss: 0.3417 - accuracy: 0.8799 - val_loss: 0.2601 - val_accuracy: 0.8986\n",
      "\n",
      "Epoch 00028: val_loss did not improve from 0.25632\n",
      "Epoch 29/50\n",
      "113/113 [==============================] - 51s 456ms/step - loss: 0.3246 - accuracy: 0.8918 - val_loss: 0.2805 - val_accuracy: 0.9002\n",
      "\n",
      "Epoch 00029: val_loss did not improve from 0.25632\n",
      "Epoch 30/50\n",
      "113/113 [==============================] - 52s 459ms/step - loss: 0.3297 - accuracy: 0.8768 - val_loss: 0.2470 - val_accuracy: 0.9167\n",
      "\n",
      "Epoch 00030: val_loss improved from 0.25632 to 0.24698, saving model to checkpoints-warmup.hdf5\n",
      "Epoch 31/50\n",
      "113/113 [==============================] - 51s 454ms/step - loss: 0.3234 - accuracy: 0.8904 - val_loss: 0.2461 - val_accuracy: 0.9085\n",
      "\n",
      "Epoch 00031: val_loss improved from 0.24698 to 0.24608, saving model to checkpoints-warmup.hdf5\n",
      "Epoch 32/50\n",
      "113/113 [==============================] - 51s 452ms/step - loss: 0.3198 - accuracy: 0.8861 - val_loss: 0.2471 - val_accuracy: 0.9085\n",
      "\n",
      "Epoch 00032: val_loss did not improve from 0.24608\n",
      "Epoch 33/50\n",
      "113/113 [==============================] - 52s 457ms/step - loss: 0.3010 - accuracy: 0.8940 - val_loss: 0.2783 - val_accuracy: 0.8961\n",
      "\n",
      "Epoch 00033: val_loss did not improve from 0.24608\n",
      "Epoch 34/50\n",
      "113/113 [==============================] - 52s 456ms/step - loss: 0.3200 - accuracy: 0.8909 - val_loss: 0.2684 - val_accuracy: 0.9002\n",
      "\n",
      "Epoch 00034: val_loss did not improve from 0.24608\n",
      "Epoch 35/50\n",
      "113/113 [==============================] - 51s 453ms/step - loss: 0.3139 - accuracy: 0.8916 - val_loss: 0.2579 - val_accuracy: 0.8994\n",
      "\n",
      "Epoch 00035: val_loss did not improve from 0.24608\n",
      "Epoch 36/50\n",
      "113/113 [==============================] - 51s 455ms/step - loss: 0.2980 - accuracy: 0.8959 - val_loss: 0.2238 - val_accuracy: 0.9126\n",
      "\n",
      "Epoch 00036: val_loss improved from 0.24608 to 0.22377, saving model to checkpoints-warmup.hdf5\n",
      "Epoch 37/50\n",
      "113/113 [==============================] - 51s 451ms/step - loss: 0.3030 - accuracy: 0.9001 - val_loss: 0.2616 - val_accuracy: 0.9019\n",
      "\n",
      "Epoch 00037: val_loss did not improve from 0.22377\n",
      "Epoch 38/50\n",
      "113/113 [==============================] - 52s 457ms/step - loss: 0.2900 - accuracy: 0.8991 - val_loss: 0.2513 - val_accuracy: 0.9011\n",
      "\n",
      "Epoch 00038: val_loss did not improve from 0.22377\n",
      "Epoch 39/50\n",
      "113/113 [==============================] - 51s 448ms/step - loss: 0.3027 - accuracy: 0.8920 - val_loss: 0.2961 - val_accuracy: 0.8904\n",
      "\n",
      "Epoch 00039: val_loss did not improve from 0.22377\n",
      "Epoch 40/50\n",
      "113/113 [==============================] - 51s 449ms/step - loss: 0.3045 - accuracy: 0.8923 - val_loss: 0.2307 - val_accuracy: 0.9134\n",
      "\n",
      "Epoch 00040: val_loss did not improve from 0.22377\n",
      "Epoch 41/50\n",
      "113/113 [==============================] - 52s 458ms/step - loss: 0.2778 - accuracy: 0.9046 - val_loss: 0.2337 - val_accuracy: 0.9101\n",
      "\n",
      "Epoch 00041: val_loss did not improve from 0.22377\n",
      "Epoch 42/50\n",
      "113/113 [==============================] - 52s 457ms/step - loss: 0.2875 - accuracy: 0.9054 - val_loss: 0.2227 - val_accuracy: 0.9217\n",
      "\n",
      "Epoch 00042: val_loss improved from 0.22377 to 0.22274, saving model to checkpoints-warmup.hdf5\n",
      "Epoch 43/50\n",
      "113/113 [==============================] - 51s 452ms/step - loss: 0.2936 - accuracy: 0.8991 - val_loss: 0.2799 - val_accuracy: 0.8994\n",
      "\n",
      "Epoch 00043: val_loss did not improve from 0.22274\n",
      "Epoch 44/50\n",
      "113/113 [==============================] - 52s 461ms/step - loss: 0.2734 - accuracy: 0.9081 - val_loss: 0.2483 - val_accuracy: 0.9060\n",
      "\n",
      "Epoch 00044: val_loss did not improve from 0.22274\n",
      "Epoch 45/50\n",
      "113/113 [==============================] - 51s 455ms/step - loss: 0.2808 - accuracy: 0.9040 - val_loss: 0.2294 - val_accuracy: 0.9110\n",
      "\n",
      "Epoch 00045: val_loss did not improve from 0.22274\n",
      "Epoch 46/50\n",
      "113/113 [==============================] - 51s 453ms/step - loss: 0.2895 - accuracy: 0.8976 - val_loss: 0.2164 - val_accuracy: 0.9192\n",
      "\n",
      "Epoch 00046: val_loss improved from 0.22274 to 0.21638, saving model to checkpoints-warmup.hdf5\n",
      "Epoch 47/50\n",
      "113/113 [==============================] - 52s 457ms/step - loss: 0.2732 - accuracy: 0.9057 - val_loss: 0.2142 - val_accuracy: 0.9200\n",
      "\n",
      "Epoch 00047: val_loss improved from 0.21638 to 0.21422, saving model to checkpoints-warmup.hdf5\n",
      "Epoch 48/50\n",
      "113/113 [==============================] - 51s 452ms/step - loss: 0.2732 - accuracy: 0.9048 - val_loss: 0.2653 - val_accuracy: 0.9035\n",
      "\n",
      "Epoch 00048: val_loss did not improve from 0.21422\n",
      "Epoch 49/50\n",
      "113/113 [==============================] - 51s 447ms/step - loss: 0.2583 - accuracy: 0.9107 - val_loss: 0.2386 - val_accuracy: 0.9085\n",
      "\n",
      "Epoch 00049: val_loss did not improve from 0.21422\n",
      "Epoch 50/50\n",
      "113/113 [==============================] - 52s 458ms/step - loss: 0.2777 - accuracy: 0.9076 - val_loss: 0.2405 - val_accuracy: 0.9101\n",
      "\n",
      "Epoch 00050: val_loss did not improve from 0.21422\n"
     ]
    }
   ],
   "source": [
    "num_of_epochs = 50\n",
    "\n",
    "model.fit_generator(\n",
    "    aug.flow(train_x,train_y, batch_size = 32),\n",
    "             validation_data = (test_x,test_y),\n",
    "             epochs=num_of_epochs,\n",
    "             steps_per_epoch = len(train_x) //32,\n",
    "             verbose = 1,\n",
    "             callbacks=callbacks)\n",
    "\n",
    "model.save(model_save_path)"
   ]
  },
  {
   "cell_type": "markdown",
   "metadata": {},
   "source": [
    "# Evaluate with 20% test set from same dataset"
   ]
  },
  {
   "cell_type": "code",
   "execution_count": 15,
   "metadata": {},
   "outputs": [
    {
     "name": "stdout",
     "output_type": "stream",
     "text": [
      "[INFO] evaluating with test set...\n",
      "                    precision    recall  f1-score   support\n",
      "\n",
      "         ___Appids       0.95      0.95      0.95       242\n",
      "___Curly_top_virus       0.97      0.63      0.76       142\n",
      "   ___Early_blight       0.92      0.92      0.92       384\n",
      "     ___Leaf_miner       0.87      0.97      0.92       445\n",
      "\n",
      "       avg / total       0.91      0.91      0.91      1213\n",
      "\n"
     ]
    }
   ],
   "source": [
    "from sklearn.metrics import classification_report\n",
    "\n",
    "print(\"[INFO] evaluating with test set...\")\n",
    "predictions = model.predict(test_x,batch_size=32)\n",
    "print(classification_report(test_y.argmax(axis =1),\n",
    "                            predictions.argmax(axis =1),target_names=class_names))"
   ]
  },
  {
   "cell_type": "markdown",
   "metadata": {},
   "source": [
    "# Evaluate with validation images"
   ]
  },
  {
   "cell_type": "code",
   "execution_count": 16,
   "metadata": {},
   "outputs": [],
   "source": [
    "class_paths_validation = ['../datasets/validation/___Early_blight', '../datasets/validation/___Appids', '../datasets/validation/___Leaf_miner', '../datasets/self/___Curly_top_virus']"
   ]
  },
  {
   "cell_type": "code",
   "execution_count": null,
   "metadata": {},
   "outputs": [],
   "source": [
    "(train_x,test_x,train_y,test_y, class_names) = load_datasets(class_paths_validation)\n",
    "\n",
    "from sklearn.metrics import classification_report\n",
    "\n",
    "print(\"[INFO] evaluating with validation set...\")\n",
    "predictions = model.predict(test_x,batch_size=batch_size)\n",
    "\n",
    "print(classification_report(test_y.argmax(axis =1),\n",
    "                            predictions.argmax(axis =1),\n",
    "                            target_names=class_names, \n",
    "                            digits=4))"
   ]
  }
 ],
 "metadata": {
  "file_extension": ".py",
  "kernelspec": {
   "display_name": "Python 3",
   "language": "python",
   "name": "python3"
  },
  "language_info": {
   "codemirror_mode": {
    "name": "ipython",
    "version": 3
   },
   "file_extension": ".py",
   "mimetype": "text/x-python",
   "name": "python",
   "nbconvert_exporter": "python",
   "pygments_lexer": "ipython3",
   "version": "3.5.3"
  },
  "mimetype": "text/x-python",
  "name": "python",
  "npconvert_exporter": "python",
  "pygments_lexer": "ipython3",
  "version": 3
 },
 "nbformat": 4,
 "nbformat_minor": 4
}

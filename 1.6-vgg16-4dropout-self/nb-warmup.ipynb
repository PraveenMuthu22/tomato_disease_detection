{
 "cells": [
  {
   "cell_type": "markdown",
   "metadata": {},
   "source": [
    "\n",
    "# Arguments"
   ]
  },
  {
   "cell_type": "code",
   "execution_count": 1,
   "metadata": {},
   "outputs": [],
   "source": [
    "#load from last improved and do 1 epoch only\n",
    "\n",
    "\n",
    "batch_size = 32\n",
    "dataset_path_plantvillage = '../datasets/plantvillage'\n",
    "dataset_path_self = '../datasets/self'\n",
    "dataset_path_validation = '../datasets/validation'\n",
    "\n",
    "dataset_paths = [dataset_path_plantvillage, dataset_path_self, dataset_path_validation]\n",
    "\n",
    "model_save_path = 'model-warmup.h5'\n",
    "\n",
    "checkpoint_path = 'checkpoints-warmup.hdf5'\n",
    "\n",
    "input_width = 224\n",
    "input_height = 224\n",
    "input_depth = 3\n",
    "\n",
    "# --------------------------------------------------\n",
    "num_of_epochs = 40\n",
    "start_epoch = 0\n",
    "# --------------------------------------------------"
   ]
  },
  {
   "cell_type": "markdown",
   "metadata": {},
   "source": [
    "# Print class names"
   ]
  },
  {
   "cell_type": "code",
   "execution_count": 2,
   "metadata": {},
   "outputs": [
    {
     "name": "stdout",
     "output_type": "stream",
     "text": [
      "['___Yellow_Leaf_Curl_Virus', '___Late_blight', '___Early_blight', '___Two-spotted_spider_mite', '___Septoria_leaf_spot', '___Bacterial_spot', '___healthy', '___Target_Spot', '___Mosaic_Virus', '___Leaf_Mold', '___Leaf_miner', '___Curly_top_virus', '___Appids']\n",
      "\n",
      "PlantVillage\n",
      "['../datasets/plantvillage/___Yellow_Leaf_Curl_Virus', '../datasets/plantvillage/___Late_blight', '../datasets/plantvillage/___Early_blight', '../datasets/plantvillage/___Two-spotted_spider_mite', '../datasets/plantvillage/___Septoria_leaf_spot', '../datasets/plantvillage/___Bacterial_spot', '../datasets/plantvillage/___healthy', '../datasets/plantvillage/___Target_Spot', '../datasets/plantvillage/___Mosaic_Virus', '../datasets/plantvillage/___Leaf_Mold']\n",
      "10\n",
      "\n",
      "Self\n",
      "['../datasets/self/___Leaf_miner', '../datasets/self/___Early_blight', '../datasets/self/___Curly_top_virus', '../datasets/self/___Appids']\n",
      "4\n",
      "\n",
      "Validation\n",
      "['../datasets/validation/___Leaf_miner', '../datasets/validation/___Yellow_Leaf_Curl_Virus', '../datasets/validation/___Late_blight', '../datasets/validation/___Early_blight', '../datasets/validation/___Two-spotted_spider_mite', '../datasets/validation/___Septoria_leaf_spot', '../datasets/validation/___Curly_top_virus', '../datasets/validation/___Bacterial_spot', '../datasets/validation/___healthy', '../datasets/validation/___Appids', '../datasets/validation/___Target_Spot', '../datasets/validation/___Mosaic_Virus', '../datasets/validation/___Leaf_Mold']\n",
      "13\n"
     ]
    }
   ],
   "source": [
    "# Get classes\n",
    "import os\n",
    "import re\n",
    "\n",
    "class_names = []\n",
    "class_paths_plant_village = []\n",
    "class_paths_plant_self = []\n",
    "class_paths_plant_validation = []\n",
    "\n",
    "for path in dataset_paths:\n",
    "    classes = os.listdir(path)\n",
    "    for i in classes:\n",
    "        if(re.search('___', i)):\n",
    "            if(i not in class_names):\n",
    "                class_names.append(i)\n",
    "            if(re.search('plantvillage', path)):\n",
    "                class_paths_plant_village.append(path + '/' + i)\n",
    "            elif(re.search('self', path)):\n",
    "                class_paths_plant_self.append(path + '/' + i)\n",
    "            else:\n",
    "                class_paths_plant_validation.append(path + '/' + i)\n",
    "\n",
    "print(class_names)   \n",
    "print()\n",
    "print('PlantVillage')\n",
    "print(class_paths_plant_village) \n",
    "print(len(class_paths_plant_village))\n",
    "print()\n",
    "print('Self')\n",
    "print(class_paths_plant_self) \n",
    "print(len(class_paths_plant_self))\n",
    "print()\n",
    "print('Validation')\n",
    "print(class_paths_plant_validation) \n",
    "print(len(class_paths_plant_validation))"
   ]
  },
  {
   "cell_type": "markdown",
   "metadata": {},
   "source": [
    "# Select training classes\n",
    "\n",
    "early blight in plantVillage dataset replaced by self one"
   ]
  },
  {
   "cell_type": "code",
   "execution_count": 3,
   "metadata": {},
   "outputs": [],
   "source": [
    "# class_paths_training = ['../datasets/self/___Early_blight', '../datasets/self/___Appids', '../datasets/self/___Leaf_miner', '../datasets/self/___Curly_top_virus']\n",
    "\n",
    "class_paths_training = ['../datasets/self/___Early_blight', '../datasets/plantvillage/___Early_blight', '../datasets/self/___Appids', '../datasets/self/___Leaf_miner', '../datasets/self/___Curly_top_virus']\n",
    "# class_names = None"
   ]
  },
  {
   "cell_type": "markdown",
   "metadata": {},
   "source": [
    "# Load dataset"
   ]
  },
  {
   "cell_type": "code",
   "execution_count": 4,
   "metadata": {},
   "outputs": [
    {
     "name": "stderr",
     "output_type": "stream",
     "text": [
      "Using TensorFlow backend.\n"
     ]
    },
    {
     "name": "stdout",
     "output_type": "stream",
     "text": [
      "[INFO] loading images...\n",
      "[INFO]: Processed 500/5401\n",
      "[INFO]: Processed 1000/5401\n",
      "[INFO]: Processed 1500/5401\n",
      "[INFO]: Processed 2000/5401\n",
      "[INFO]: Processed 2500/5401\n",
      "[INFO]: Processed 3000/5401\n",
      "[INFO]: Processed 3500/5401\n",
      "[INFO]: Processed 4000/5401\n",
      "[INFO]: Processed 4500/5401\n",
      "[INFO]: Processed 5000/5401\n"
     ]
    }
   ],
   "source": [
    "from sklearn.preprocessing import LabelBinarizer\n",
    "from sklearn.model_selection import train_test_split\n",
    "from sklearn.metrics import classification_report\n",
    "from keras.preprocessing.image   import ImageDataGenerator\n",
    "from keras.optimizers import RMSprop\n",
    "from keras.layers import Input\n",
    "from keras.models import Model\n",
    "from keras .applications import VGG16\n",
    "from keras.optimizers import SGD\n",
    "from keras.models import Model\n",
    "from imutils import paths\n",
    "import numpy as np\n",
    "import os\n",
    "\n",
    "import sys\n",
    "sys.path.append('..')\n",
    "\n",
    "from utils.preprocessors.resize_image_preprocessor import resizeImagePreprocessor\n",
    "from utils.preprocessors.img_to_array_preprocessor import ImgToArrayPreprocessor\n",
    "from utils.io.dataset_loader import DatasetLoader\n",
    "\n",
    "# construct the image generator for data augmentation\n",
    "aug = ImageDataGenerator(   rotation_range=30,\n",
    "                            width_shift_range=0.1,\n",
    "                            height_shift_range=0.1,\n",
    "                            shear_range=0.2,\n",
    "                            zoom_range=0.2,\n",
    "                            horizontal_flip=True,\n",
    "                            fill_mode='nearest')\n",
    "\n",
    "def load_datasets(path_list):\n",
    "    # Load image paths\n",
    "    image_paths = []\n",
    "    print(\"[INFO] loading images...\")\n",
    "    for path in path_list:\n",
    "        image_paths.extend(list(paths.list_images(path)))\n",
    "        \n",
    "    # Get unique classnames\n",
    "\n",
    "    class_names = [pt.split(os.path.sep)[-2] for pt in image_paths]\n",
    "    class_names = [str(x) for x in np.unique(class_names)]\n",
    "\n",
    "    # Initial image preprocessing\n",
    "    aap = resizeImagePreprocessor(input_width, input_height)\n",
    "    iap= ImgToArrayPreprocessor()\n",
    "\n",
    "    #Load image data and perform image data preprocessing\n",
    "    dl = DatasetLoader(preprocessors=[aap,iap])\n",
    "    (data,labels)  = dl.load(image_paths,verbose=500)\n",
    "    data = data.astype(\"float\") / 255.0\n",
    "\n",
    "\n",
    "    # train test split\n",
    "    (train_x,test_x,train_y,test_y) = train_test_split(data,labels,test_size=0.25,random_state=42)\n",
    "\n",
    "    # convert the labels from integers to vectors\n",
    "    train_y = LabelBinarizer().fit_transform(train_y)\n",
    "    test_y = LabelBinarizer().fit_transform(test_y)\n",
    "    \n",
    "    return (train_x,test_x,train_y,test_y, class_names)\n",
    "\n",
    "(train_x,test_x,train_y,test_y, class_names) = load_datasets(class_paths_training)\n",
    "\n"
   ]
  },
  {
   "cell_type": "code",
   "execution_count": 5,
   "metadata": {},
   "outputs": [
    {
     "name": "stdout",
     "output_type": "stream",
     "text": [
      "Dataset loaded\n",
      "['___Appids', '___Curly_top_virus', '___Early_blight', '___Leaf_miner']\n"
     ]
    }
   ],
   "source": [
    "print('Dataset loaded')\n",
    "print(class_names)"
   ]
  },
  {
   "cell_type": "markdown",
   "metadata": {},
   "source": [
    "\n",
    "# Load model"
   ]
  },
  {
   "cell_type": "code",
   "execution_count": 6,
   "metadata": {},
   "outputs": [],
   "source": [
    "from keras.applications import VGG16\n",
    "from keras.utils.vis_utils import plot_model\n",
    "from keras.layers import Input\n",
    "\n",
    "base_model = VGG16(weights='imagenet',include_top=False,\n",
    "                  input_tensor=Input(shape = (input_width,input_height, input_depth)))\n",
    "\n",
    "# plot_save_path = 'diagram-base-resnet50.png'\n",
    "# plot_model(base_model, to_file=plot_save_path, show_shapes=True)"
   ]
  },
  {
   "cell_type": "markdown",
   "metadata": {},
   "source": [
    "# Create custom head"
   ]
  },
  {
   "cell_type": "code",
   "execution_count": 7,
   "metadata": {},
   "outputs": [],
   "source": [
    "from keras.layers.core import Dropout\n",
    "from keras.layers.core import Flatten\n",
    "from keras.layers.core import Dense\n",
    "\n",
    "head_model = base_model.output\n",
    "head_model = Flatten(name='flatten')(head_model)\n",
    "head_model = Dense(256,activation='relu')(head_model)\n",
    "head_model = Dropout(0.5)(head_model)\n",
    "# Add a softmaxc layer\n",
    "head_model = Dense(len(class_names),activation='softmax')(head_model)"
   ]
  },
  {
   "cell_type": "code",
   "execution_count": 8,
   "metadata": {},
   "outputs": [],
   "source": [
    "from keras.models import Model\n",
    "\n",
    "\n",
    "# place the head FC model on top of the base model \n",
    "model = Model(inputs=base_model.input, outputs = head_model)\n",
    "\n",
    "# plot_save_path = 'diagram-vgg16-head-attached.png'\n",
    "# plot_model(model, to_file=model_diagram_path, show_shapes=True)"
   ]
  },
  {
   "cell_type": "markdown",
   "metadata": {},
   "source": [
    "# Add dropout"
   ]
  },
  {
   "cell_type": "code",
   "execution_count": 9,
   "metadata": {},
   "outputs": [
    {
     "name": "stdout",
     "output_type": "stream",
     "text": [
      "input_1\n",
      "23\n",
      "[INFO]     0\tinput_1                       InputLayer\n",
      "[INFO]     1\tblock1_conv1                  Conv2D\n",
      "[INFO]     2\tblock1_conv2                  Conv2D\n",
      "[INFO]     3\tblock1_pool                   MaxPooling2D\n",
      "[INFO]     4\tblock2_conv1                  Conv2D\n",
      "[INFO]     5\tblock2_conv2                  Conv2D\n",
      "[INFO]     6\tblock2_pool                   MaxPooling2D\n",
      "[INFO]     7\tblock3_conv1                  Conv2D\n",
      "[INFO]     8\tblock3_conv2                  Conv2D\n",
      "[INFO]     9\tblock3_conv3                  Conv2D\n",
      "[INFO]    10\tblock3_pool                   MaxPooling2D\n",
      "[INFO]    11\tblock4_conv1                  Conv2D\n",
      "[INFO]    12\tblock4_conv2                  Conv2D\n",
      "[INFO]    13\tblock4_conv3                  Conv2D\n",
      "[INFO]    14\tblock4_pool                   MaxPooling2D\n",
      "[INFO]    15\tblock5_conv1                  Conv2D\n",
      "[INFO]    16\tblock5_conv2                  Conv2D\n",
      "[INFO]    17\tdropout_2                     Dropout\n",
      "[INFO]    18\tblock5_conv3                  Conv2D\n",
      "[INFO]    19\tdropout_3                     Dropout\n",
      "[INFO]    20\tblock5_pool                   MaxPooling2D\n",
      "[INFO]    21\tflatten                       Flatten\n",
      "[INFO]    22\tdense_1                       Dense\n",
      "[INFO]    23\tdropout_1                     Dropout\n",
      "[INFO]    24\tdense_2                       Dense\n"
     ]
    },
    {
     "name": "stderr",
     "output_type": "stream",
     "text": [
      "/usr/local/lib/python3.5/dist-packages/ipykernel_launcher.py:25: UserWarning: Update your `Model` call to the Keras 2 API: `Model(inputs=Tensor(\"in..., outputs=Tensor(\"de...)`\n"
     ]
    }
   ],
   "source": [
    "from keras.layers import Dropout\n",
    "from keras.models import Model\n",
    "\n",
    "layers = [l for l in model.layers]\n",
    "\n",
    "\n",
    "print(layers[0].name)\n",
    "print(len(layers))\n",
    "\n",
    "x = layers[0].output\n",
    "\n",
    "# Add until layer layer 15\n",
    "for i in range(1, 17):\n",
    "    x = layers[i](x)\n",
    "\n",
    "# Add the two dropout layers\n",
    "x = Dropout(0.5)(x)\n",
    "x = layers[17](x)\n",
    "x = Dropout(0.5)(x)\n",
    "\n",
    "# Add the rest of the layers\n",
    "for i in range(18, len(layers)):\n",
    "    x = layers[i](x)\n",
    "\n",
    "model = Model(input=layers[0].input, output=x)\n",
    "\n",
    "# iterate for all layers in the network and print its' index value\n",
    "for (i,layer) in enumerate(model.layers):\n",
    "    print(\"[INFO] {:5}\\t{:30}{}\".format(i, layer.name, layer.__class__.__name__))"
   ]
  },
  {
   "cell_type": "markdown",
   "metadata": {},
   "source": [
    "# Freeze base model"
   ]
  },
  {
   "cell_type": "code",
   "execution_count": 10,
   "metadata": {},
   "outputs": [],
   "source": [
    "# traverse all layers and freeze the weight of the corresponding layer\n",
    "for layer in base_model.layers:\n",
    "    layer.trainable = False"
   ]
  },
  {
   "cell_type": "code",
   "execution_count": 11,
   "metadata": {},
   "outputs": [],
   "source": [
    "from keras.utils.vis_utils import plot_model\n",
    "\n",
    "# plot_save_path = 'diagram-vgg16-head-attached.png'\n",
    "# plot_model(model, to_file=plot_save_path, show_shapes=True)"
   ]
  },
  {
   "cell_type": "markdown",
   "metadata": {},
   "source": [
    "# Compile model"
   ]
  },
  {
   "cell_type": "code",
   "execution_count": 12,
   "metadata": {},
   "outputs": [],
   "source": [
    "model.compile(optimizer='rmsprop', loss='categorical_crossentropy', metrics=['accuracy'])\n",
    "# Since we only train the new fully connected layer, we do a few iterations"
   ]
  },
  {
   "cell_type": "code",
   "execution_count": 13,
   "metadata": {},
   "outputs": [
    {
     "name": "stdout",
     "output_type": "stream",
     "text": [
      "['loss', 'accuracy']\n"
     ]
    }
   ],
   "source": [
    "print(model.metrics_names)"
   ]
  },
  {
   "cell_type": "markdown",
   "metadata": {},
   "source": [
    "# Checkpoints"
   ]
  },
  {
   "cell_type": "code",
   "execution_count": 14,
   "metadata": {},
   "outputs": [],
   "source": [
    "from keras.callbacks import ModelCheckpoint\n",
    "\n",
    "\n",
    "checkpoint = ModelCheckpoint(checkpoint_path, monitor='val_loss', mode='min', \n",
    "save_best_only=True, verbose=1)\n",
    "\n",
    "callbacks = [checkpoint]\n",
    "\n"
   ]
  },
  {
   "cell_type": "code",
   "execution_count": 15,
   "metadata": {},
   "outputs": [],
   "source": [
    "#load checkpoints if existing\n",
    "\n",
    "import os\n",
    "\n",
    "if(os.path.exists(checkpoint_path)):\n",
    "    model.load_weights(checkpoint_path)"
   ]
  },
  {
   "cell_type": "markdown",
   "metadata": {},
   "source": [
    "# Training monitor"
   ]
  },
  {
   "cell_type": "code",
   "execution_count": 16,
   "metadata": {},
   "outputs": [],
   "source": [
    "from utils.callbacks.monitor import Monitor\n",
    "import pathlib\n",
    "import json\n",
    "import os\n",
    "\n",
    "fig_path = \"plot\"\n",
    "json_path = \"values.json\"\n",
    "values_path = 'values.json'\n",
    "\n",
    "callbacks.append(Monitor(fig_path, json_path, start_epoch))"
   ]
  },
  {
   "cell_type": "markdown",
   "metadata": {},
   "source": [
    "# Warm up head"
   ]
  },
  {
   "cell_type": "code",
   "execution_count": 17,
   "metadata": {},
   "outputs": [
    {
     "name": "stdout",
     "output_type": "stream",
     "text": [
      "Epoch 1/40\n",
      "126/126 [==============================] - 70s 555ms/step - loss: 2.2234 - accuracy: 0.5600 - val_loss: 0.6264 - val_accuracy: 0.7750\n",
      "\n",
      "Epoch 00001: val_loss improved from inf to 0.62637, saving model to checkpoints-warmup.hdf5\n",
      "Epoch 2/40\n",
      "126/126 [==============================] - 65s 513ms/step - loss: 0.7750 - accuracy: 0.6939 - val_loss: 0.5546 - val_accuracy: 0.7802\n",
      "\n",
      "Epoch 00002: val_loss improved from 0.62637 to 0.55457, saving model to checkpoints-warmup.hdf5\n",
      "Epoch 3/40\n",
      "126/126 [==============================] - 65s 517ms/step - loss: 0.6688 - accuracy: 0.7372 - val_loss: 0.4497 - val_accuracy: 0.8342\n",
      "\n",
      "Epoch 00003: val_loss improved from 0.55457 to 0.44969, saving model to checkpoints-warmup.hdf5\n",
      "Epoch 4/40\n",
      "126/126 [==============================] - 64s 509ms/step - loss: 0.5914 - accuracy: 0.7695 - val_loss: 0.4720 - val_accuracy: 0.8164\n",
      "\n",
      "Epoch 00004: val_loss did not improve from 0.44969\n",
      "Epoch 5/40\n",
      "126/126 [==============================] - 64s 505ms/step - loss: 0.5694 - accuracy: 0.7815 - val_loss: 0.3526 - val_accuracy: 0.9326\n",
      "\n",
      "Epoch 00005: val_loss improved from 0.44969 to 0.35263, saving model to checkpoints-warmup.hdf5\n",
      "Epoch 6/40\n",
      "126/126 [==============================] - 63s 499ms/step - loss: 0.5116 - accuracy: 0.8016 - val_loss: 0.3695 - val_accuracy: 0.8934\n",
      "\n",
      "Epoch 00006: val_loss did not improve from 0.35263\n",
      "Epoch 7/40\n",
      "126/126 [==============================] - 64s 506ms/step - loss: 0.5106 - accuracy: 0.8069 - val_loss: 0.2879 - val_accuracy: 0.9341\n",
      "\n",
      "Epoch 00007: val_loss improved from 0.35263 to 0.28786, saving model to checkpoints-warmup.hdf5\n",
      "Epoch 8/40\n",
      "126/126 [==============================] - 63s 501ms/step - loss: 0.4633 - accuracy: 0.8258 - val_loss: 0.2687 - val_accuracy: 0.9297\n",
      "\n",
      "Epoch 00008: val_loss improved from 0.28786 to 0.26867, saving model to checkpoints-warmup.hdf5\n",
      "Epoch 9/40\n",
      "126/126 [==============================] - 63s 498ms/step - loss: 0.4707 - accuracy: 0.8285 - val_loss: 0.3048 - val_accuracy: 0.9267\n",
      "\n",
      "Epoch 00009: val_loss did not improve from 0.26867\n",
      "Epoch 10/40\n",
      "126/126 [==============================] - 64s 505ms/step - loss: 0.4452 - accuracy: 0.8345 - val_loss: 0.2878 - val_accuracy: 0.9208\n",
      "\n",
      "Epoch 00010: val_loss did not improve from 0.26867\n",
      "Epoch 11/40\n",
      "126/126 [==============================] - 63s 498ms/step - loss: 0.4596 - accuracy: 0.8275 - val_loss: 0.2810 - val_accuracy: 0.9171\n",
      "\n",
      "Epoch 00011: val_loss did not improve from 0.26867\n",
      "Epoch 12/40\n",
      "126/126 [==============================] - 62s 495ms/step - loss: 0.4614 - accuracy: 0.8408 - val_loss: 0.2612 - val_accuracy: 0.9363\n",
      "\n",
      "Epoch 00012: val_loss improved from 0.26867 to 0.26118, saving model to checkpoints-warmup.hdf5\n",
      "Epoch 13/40\n",
      "126/126 [==============================] - 62s 492ms/step - loss: 0.4285 - accuracy: 0.8462 - val_loss: 0.3321 - val_accuracy: 0.8816\n",
      "\n",
      "Epoch 00013: val_loss did not improve from 0.26118\n",
      "Epoch 14/40\n",
      "126/126 [==============================] - 62s 493ms/step - loss: 0.4174 - accuracy: 0.8457 - val_loss: 0.2844 - val_accuracy: 0.9075\n",
      "\n",
      "Epoch 00014: val_loss did not improve from 0.26118\n",
      "Epoch 15/40\n",
      "126/126 [==============================] - 62s 496ms/step - loss: 0.3934 - accuracy: 0.8562 - val_loss: 0.2588 - val_accuracy: 0.9230\n",
      "\n",
      "Epoch 00015: val_loss improved from 0.26118 to 0.25882, saving model to checkpoints-warmup.hdf5\n",
      "Epoch 16/40\n",
      "126/126 [==============================] - 63s 497ms/step - loss: 0.4488 - accuracy: 0.8364 - val_loss: 0.2859 - val_accuracy: 0.9112\n",
      "\n",
      "Epoch 00016: val_loss did not improve from 0.25882\n",
      "Epoch 17/40\n",
      "126/126 [==============================] - 64s 507ms/step - loss: 0.4187 - accuracy: 0.8428 - val_loss: 0.3083 - val_accuracy: 0.8919\n",
      "\n",
      "Epoch 00017: val_loss did not improve from 0.25882\n",
      "Epoch 18/40\n",
      "126/126 [==============================] - 64s 505ms/step - loss: 0.3969 - accuracy: 0.8651 - val_loss: 0.2608 - val_accuracy: 0.9238\n",
      "\n",
      "Epoch 00018: val_loss did not improve from 0.25882\n",
      "Epoch 19/40\n",
      "126/126 [==============================] - 63s 501ms/step - loss: 0.4077 - accuracy: 0.8586 - val_loss: 0.2623 - val_accuracy: 0.9252\n",
      "\n",
      "Epoch 00019: val_loss did not improve from 0.25882\n",
      "Epoch 20/40\n",
      "126/126 [==============================] - 63s 502ms/step - loss: 0.3829 - accuracy: 0.8529 - val_loss: 0.2625 - val_accuracy: 0.9319\n",
      "\n",
      "Epoch 00020: val_loss did not improve from 0.25882\n",
      "Epoch 21/40\n",
      "126/126 [==============================] - 63s 498ms/step - loss: 0.3931 - accuracy: 0.8656 - val_loss: 0.2854 - val_accuracy: 0.9334\n",
      "\n",
      "Epoch 00021: val_loss did not improve from 0.25882\n",
      "Epoch 22/40\n",
      "126/126 [==============================] - 63s 503ms/step - loss: 0.4146 - accuracy: 0.8549 - val_loss: 0.3057 - val_accuracy: 0.9127\n",
      "\n",
      "Epoch 00022: val_loss did not improve from 0.25882\n",
      "Epoch 23/40\n",
      "126/126 [==============================] - 63s 503ms/step - loss: 0.3962 - accuracy: 0.8614 - val_loss: 0.2672 - val_accuracy: 0.9312\n",
      "\n",
      "Epoch 00023: val_loss did not improve from 0.25882\n",
      "Epoch 24/40\n",
      "126/126 [==============================] - 63s 503ms/step - loss: 0.4105 - accuracy: 0.8554 - val_loss: 0.2449 - val_accuracy: 0.9275\n",
      "\n",
      "Epoch 00024: val_loss improved from 0.25882 to 0.24487, saving model to checkpoints-warmup.hdf5\n",
      "Epoch 25/40\n",
      "126/126 [==============================] - 63s 498ms/step - loss: 0.3846 - accuracy: 0.8686 - val_loss: 0.2507 - val_accuracy: 0.9171\n",
      "\n",
      "Epoch 00025: val_loss did not improve from 0.24487\n",
      "Epoch 26/40\n",
      "126/126 [==============================] - 63s 498ms/step - loss: 0.4066 - accuracy: 0.8659 - val_loss: 0.2384 - val_accuracy: 0.9267\n",
      "\n",
      "Epoch 00026: val_loss improved from 0.24487 to 0.23837, saving model to checkpoints-warmup.hdf5\n",
      "Epoch 27/40\n",
      "126/126 [==============================] - 62s 494ms/step - loss: 0.4195 - accuracy: 0.8537 - val_loss: 0.2946 - val_accuracy: 0.9127\n",
      "\n",
      "Epoch 00027: val_loss did not improve from 0.23837\n",
      "Epoch 28/40\n",
      "126/126 [==============================] - 60s 474ms/step - loss: 0.3804 - accuracy: 0.8668 - val_loss: 0.2797 - val_accuracy: 0.9075\n",
      "\n",
      "Epoch 00028: val_loss did not improve from 0.23837\n",
      "Epoch 29/40\n",
      "126/126 [==============================] - 61s 480ms/step - loss: 0.4159 - accuracy: 0.8571 - val_loss: 0.2738 - val_accuracy: 0.9230\n",
      "\n",
      "Epoch 00029: val_loss did not improve from 0.23837\n",
      "Epoch 30/40\n",
      "126/126 [==============================] - 60s 475ms/step - loss: 0.3922 - accuracy: 0.8624 - val_loss: 0.2371 - val_accuracy: 0.9282\n",
      "\n",
      "Epoch 00030: val_loss improved from 0.23837 to 0.23715, saving model to checkpoints-warmup.hdf5\n",
      "Epoch 31/40\n",
      "126/126 [==============================] - 60s 475ms/step - loss: 0.3784 - accuracy: 0.8676 - val_loss: 0.2889 - val_accuracy: 0.9223\n",
      "\n",
      "Epoch 00031: val_loss did not improve from 0.23715\n",
      "Epoch 32/40\n",
      "126/126 [==============================] - 60s 477ms/step - loss: 0.3625 - accuracy: 0.8781 - val_loss: 0.2707 - val_accuracy: 0.9252\n",
      "\n",
      "Epoch 00032: val_loss did not improve from 0.23715\n",
      "Epoch 33/40\n",
      "126/126 [==============================] - 60s 476ms/step - loss: 0.3794 - accuracy: 0.8756 - val_loss: 0.3182 - val_accuracy: 0.9060\n",
      "\n",
      "Epoch 00033: val_loss did not improve from 0.23715\n",
      "Epoch 34/40\n",
      "126/126 [==============================] - 60s 476ms/step - loss: 0.3870 - accuracy: 0.8646 - val_loss: 0.2688 - val_accuracy: 0.9156\n",
      "\n",
      "Epoch 00034: val_loss did not improve from 0.23715\n",
      "Epoch 35/40\n",
      "126/126 [==============================] - 60s 476ms/step - loss: 0.3707 - accuracy: 0.8763 - val_loss: 0.3096 - val_accuracy: 0.9075\n",
      "\n",
      "Epoch 00035: val_loss did not improve from 0.23715\n",
      "Epoch 36/40\n",
      "126/126 [==============================] - 60s 478ms/step - loss: 0.3809 - accuracy: 0.8693 - val_loss: 0.3023 - val_accuracy: 0.9053\n",
      "\n",
      "Epoch 00036: val_loss did not improve from 0.23715\n",
      "Epoch 37/40\n",
      "126/126 [==============================] - 60s 480ms/step - loss: 0.4063 - accuracy: 0.8674 - val_loss: 0.3360 - val_accuracy: 0.9008\n",
      "\n",
      "Epoch 00037: val_loss did not improve from 0.23715\n",
      "Epoch 38/40\n",
      "126/126 [==============================] - 60s 476ms/step - loss: 0.3700 - accuracy: 0.8833 - val_loss: 0.2448 - val_accuracy: 0.9312\n",
      "\n",
      "Epoch 00038: val_loss did not improve from 0.23715\n",
      "Epoch 39/40\n",
      "126/126 [==============================] - 62s 489ms/step - loss: 0.3977 - accuracy: 0.8819 - val_loss: 0.2905 - val_accuracy: 0.9186\n",
      "\n",
      "Epoch 00039: val_loss did not improve from 0.23715\n",
      "Epoch 40/40\n",
      "126/126 [==============================] - 62s 491ms/step - loss: 0.3809 - accuracy: 0.8741 - val_loss: 0.2371 - val_accuracy: 0.9238\n",
      "\n",
      "Epoch 00040: val_loss improved from 0.23715 to 0.23709, saving model to checkpoints-warmup.hdf5\n"
     ]
    }
   ],
   "source": [
    "model.fit_generator(\n",
    "    aug.flow(train_x,train_y, batch_size = batch_size),\n",
    "             validation_data = (test_x,test_y),\n",
    "             epochs=num_of_epochs,\n",
    "             steps_per_epoch = len(train_x) //32,\n",
    "             verbose = 1,\n",
    "             callbacks=callbacks)\n",
    "\n",
    "model.save(model_save_path)"
   ]
  },
  {
   "cell_type": "markdown",
   "metadata": {},
   "source": [
    "# Evaluate with 20% test set from same dataset"
   ]
  },
  {
   "cell_type": "code",
   "execution_count": 18,
   "metadata": {},
   "outputs": [
    {
     "name": "stdout",
     "output_type": "stream",
     "text": [
      "[INFO] evaluating with test set...\n",
      "                    precision    recall  f1-score   support\n",
      "\n",
      "         ___Appids       0.96      0.97      0.96       233\n",
      "___Curly_top_virus       0.78      0.82      0.80       132\n",
      "   ___Early_blight       0.99      0.90      0.95       630\n",
      "     ___Leaf_miner       0.85      0.97      0.91       356\n",
      "\n",
      "       avg / total       0.93      0.92      0.92      1351\n",
      "\n"
     ]
    }
   ],
   "source": [
    "from sklearn.metrics import classification_report\n",
    "\n",
    "print(\"[INFO] evaluating with test set...\")\n",
    "predictions = model.predict(test_x,batch_size=batch_size)\n",
    "print(classification_report(test_y.argmax(axis =1),\n",
    "                            predictions.argmax(axis =1),target_names=class_names))"
   ]
  },
  {
   "cell_type": "markdown",
   "metadata": {},
   "source": [
    "# Evaluate with validation images"
   ]
  },
  {
   "cell_type": "code",
   "execution_count": 19,
   "metadata": {},
   "outputs": [],
   "source": [
    "class_paths_validation = ['../datasets/validation/___Early_blight', '../datasets/validation/___Appids', '../datasets/validation/___Leaf_miner', '../datasets/self/___Curly_top_virus']"
   ]
  },
  {
   "cell_type": "code",
   "execution_count": 20,
   "metadata": {},
   "outputs": [
    {
     "name": "stdout",
     "output_type": "stream",
     "text": [
      "[INFO] loading images...\n",
      "[INFO]: Processed 500/599\n",
      "[INFO] evaluating with validation set...\n",
      "                    precision    recall  f1-score   support\n",
      "\n",
      "         ___Appids     0.5000    0.4000    0.4444         5\n",
      "___Curly_top_virus     0.9802    0.8839    0.9296       112\n",
      "   ___Early_blight     0.5714    1.0000    0.7273        12\n",
      "     ___Leaf_miner     0.6250    0.7143    0.6667        21\n",
      "\n",
      "       avg / total     0.8818    0.8533    0.8604       150\n",
      "\n"
     ]
    }
   ],
   "source": [
    "(train_x,test_x,train_y,test_y, class_names) = load_datasets(class_paths_validation)\n",
    "\n",
    "from sklearn.metrics import classification_report\n",
    "\n",
    "print(\"[INFO] evaluating with validation set...\")\n",
    "predictions = model.predict(test_x,batch_size=batch_size)\n",
    "\n",
    "print(classification_report(test_y.argmax(axis =1),\n",
    "                            predictions.argmax(axis =1),\n",
    "                            target_names=class_names, \n",
    "                            digits=4))"
   ]
  }
 ],
 "metadata": {
  "file_extension": ".py",
  "kernelspec": {
   "display_name": "Python 3",
   "language": "python",
   "name": "python3"
  },
  "language_info": {
   "codemirror_mode": {
    "name": "ipython",
    "version": 3
   },
   "file_extension": ".py",
   "mimetype": "text/x-python",
   "name": "python",
   "nbconvert_exporter": "python",
   "pygments_lexer": "ipython3",
   "version": "3.5.3"
  },
  "mimetype": "text/x-python",
  "name": "python",
  "npconvert_exporter": "python",
  "pygments_lexer": "ipython3",
  "version": 3
 },
 "nbformat": 4,
 "nbformat_minor": 4
}
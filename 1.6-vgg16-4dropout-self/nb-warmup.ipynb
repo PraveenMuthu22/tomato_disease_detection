{
 "cells": [
  {
   "cell_type": "markdown",
   "metadata": {},
   "source": [
    "\n",
    "# Arguments"
   ]
  },
  {
   "cell_type": "code",
   "execution_count": 1,
   "metadata": {},
   "outputs": [],
   "source": [
    "#load from last improved and do 1 epoch only\n",
    "\n",
    "\n",
    "batch_size = 32\n",
    "dataset_path_plantvillage = '../datasets/plantvillage'\n",
    "dataset_path_self = '../datasets/self'\n",
    "dataset_path_validation = '../datasets/validation'\n",
    "\n",
    "dataset_paths = [dataset_path_plantvillage, dataset_path_self, dataset_path_validation]\n",
    "\n",
    "model_save_path = 'model-warmup.h5'\n",
    "\n",
    "checkpoint_path = 'checkpoints-warmup.hdf5'\n",
    "\n",
    "input_width = 224\n",
    "input_height = 224\n",
    "input_depth = 3\n",
    "\n",
    "# --------------------------------------------------\n",
    "num_of_epochs = 30\n",
    "start_epoch = 0\n",
    "# --------------------------------------------------"
   ]
  },
  {
   "cell_type": "markdown",
   "metadata": {},
   "source": [
    "# Print class names"
   ]
  },
  {
   "cell_type": "code",
   "execution_count": 2,
   "metadata": {},
   "outputs": [
    {
     "name": "stdout",
     "output_type": "stream",
     "text": [
      "['___Yellow_Leaf_Curl_Virus', '___Late_blight', '___Early_blight', '___Two-spotted_spider_mite', '___Septoria_leaf_spot', '___Bacterial_spot', '___healthy', '___Target_Spot', '___Mosaic_Virus', '___Leaf_Mold', '___Leaf_miner', '___Curly_top_virus', '___Appids']\n",
      "\n",
      "PlantVillage\n",
      "['../datasets/plantvillage/___Yellow_Leaf_Curl_Virus', '../datasets/plantvillage/___Late_blight', '../datasets/plantvillage/___Early_blight', '../datasets/plantvillage/___Two-spotted_spider_mite', '../datasets/plantvillage/___Septoria_leaf_spot', '../datasets/plantvillage/___Bacterial_spot', '../datasets/plantvillage/___healthy', '../datasets/plantvillage/___Target_Spot', '../datasets/plantvillage/___Mosaic_Virus', '../datasets/plantvillage/___Leaf_Mold']\n",
      "10\n",
      "\n",
      "Self\n",
      "['../datasets/self/___Leaf_miner', '../datasets/self/___Early_blight', '../datasets/self/___Curly_top_virus', '../datasets/self/___Appids']\n",
      "4\n",
      "\n",
      "Validation\n",
      "['../datasets/validation/___Leaf_miner', '../datasets/validation/___Yellow_Leaf_Curl_Virus', '../datasets/validation/___Late_blight', '../datasets/validation/___Early_blight', '../datasets/validation/___Curly_top_virus', '../datasets/validation/___Bacterial_spot', '../datasets/validation/___healthy', '../datasets/validation/___Appids', '../datasets/validation/___Target_Spot', '../datasets/validation/___Mosaic_Virus', '../datasets/validation/___Leaf_Mold']\n",
      "11\n"
     ]
    }
   ],
   "source": [
    "# Get classes\n",
    "import os\n",
    "import re\n",
    "\n",
    "class_names = []\n",
    "class_paths_plant_village = []\n",
    "class_paths_plant_self = []\n",
    "class_paths_plant_validation = []\n",
    "\n",
    "for path in dataset_paths:\n",
    "    classes = os.listdir(path)\n",
    "    for i in classes:\n",
    "        if(re.search('___', i)):\n",
    "            if(i not in class_names):\n",
    "                class_names.append(i)\n",
    "            if(re.search('plantvillage', path)):\n",
    "                class_paths_plant_village.append(path + '/' + i)\n",
    "            elif(re.search('self', path)):\n",
    "                class_paths_plant_self.append(path + '/' + i)\n",
    "            else:\n",
    "                class_paths_plant_validation.append(path + '/' + i)\n",
    "\n",
    "print(class_names)   \n",
    "print()\n",
    "print('PlantVillage')\n",
    "print(class_paths_plant_village) \n",
    "print(len(class_paths_plant_village))\n",
    "print()\n",
    "print('Self')\n",
    "print(class_paths_plant_self) \n",
    "print(len(class_paths_plant_self))\n",
    "print()\n",
    "print('Validation')\n",
    "print(class_paths_plant_validation) \n",
    "print(len(class_paths_plant_validation))"
   ]
  },
  {
   "cell_type": "markdown",
   "metadata": {},
   "source": [
    "# Select training classes\n",
    "\n",
    "early blight in plantVillage dataset replaced by self one"
   ]
  },
  {
   "cell_type": "code",
   "execution_count": 3,
   "metadata": {},
   "outputs": [],
   "source": [
    "class_paths_training = ['../datasets/self/___Early_blight', '../datasets/self/___Appids', '../datasets/self/___Leaf_miner', '../datasets/self/___Curly_top_virus']\n",
    "class_names = None"
   ]
  },
  {
   "cell_type": "markdown",
   "metadata": {},
   "source": [
    "# Load dataset"
   ]
  },
  {
   "cell_type": "code",
   "execution_count": 4,
   "metadata": {},
   "outputs": [
    {
     "name": "stderr",
     "output_type": "stream",
     "text": [
      "Using TensorFlow backend.\n"
     ]
    },
    {
     "name": "stdout",
     "output_type": "stream",
     "text": [
      "[INFO] loading images...\n",
      "[INFO]: Processed 500/4849\n",
      "[INFO]: Processed 1000/4849\n",
      "[INFO]: Processed 1500/4849\n",
      "[INFO]: Processed 2000/4849\n",
      "[INFO]: Processed 2500/4849\n",
      "[INFO]: Processed 3000/4849\n",
      "[INFO]: Processed 3500/4849\n",
      "[INFO]: Processed 4000/4849\n",
      "[INFO]: Processed 4500/4849\n"
     ]
    }
   ],
   "source": [
    "from sklearn.preprocessing import LabelBinarizer\n",
    "from sklearn.model_selection import train_test_split\n",
    "from sklearn.metrics import classification_report\n",
    "from keras.preprocessing.image   import ImageDataGenerator\n",
    "from keras.optimizers import RMSprop\n",
    "from keras.layers import Input\n",
    "from keras.models import Model\n",
    "from keras .applications import VGG16\n",
    "from keras.optimizers import SGD\n",
    "from keras.models import Model\n",
    "from imutils import paths\n",
    "import numpy as np\n",
    "import os\n",
    "\n",
    "import sys\n",
    "sys.path.append('..')\n",
    "\n",
    "from utils.preprocessors.resize_image_preprocessor import resizeImagePreprocessor\n",
    "from utils.preprocessors.image_to_array_preprocessor import ImageToArrayPreprocessor\n",
    "from utils.io.simple_dataset_loader import SimpleDatasetLoader\n",
    "\n",
    "# construct the image generator for data augmentation\n",
    "aug = ImageDataGenerator(   rotation_range=30,\n",
    "                            width_shift_range=0.1,\n",
    "                            height_shift_range=0.1,\n",
    "                            shear_range=0.2,\n",
    "                            zoom_range=0.2,\n",
    "                            horizontal_flip=True,\n",
    "                            fill_mode='nearest')\n",
    "\n",
    "def load_datasets(path_list):\n",
    "    # Load image paths\n",
    "    image_paths = []\n",
    "    print(\"[INFO] loading images...\")\n",
    "    for path in path_list:\n",
    "        image_paths.extend(list(paths.list_images(path)))\n",
    "        \n",
    "    # Get unique classnames\n",
    "\n",
    "    class_names = [pt.split(os.path.sep)[-2] for pt in image_paths]\n",
    "    class_names = [str(x) for x in np.unique(class_names)]\n",
    "\n",
    "    # Initial image preprocessing\n",
    "    aap = resizeImagePreprocessor(input_width, input_height)\n",
    "    iap= ImageToArrayPreprocessor()\n",
    "\n",
    "    #Load image data and perform image data preprocessing\n",
    "    sdl = SimpleDatasetLoader(preprocessors=[aap,iap])\n",
    "    (data,labels)  = sdl.load(image_paths,verbose=500)\n",
    "    data = data.astype(\"float\") / 255.0\n",
    "\n",
    "\n",
    "    # train test split\n",
    "    (train_x,test_x,train_y,test_y) = train_test_split(data,labels,test_size=0.25,random_state=42)\n",
    "\n",
    "    # convert the labels from integers to vectors\n",
    "    train_y = LabelBinarizer().fit_transform(train_y)\n",
    "    test_y = LabelBinarizer().fit_transform(test_y)\n",
    "    \n",
    "    return (train_x,test_x,train_y,test_y, class_names)\n",
    "\n",
    "(train_x,test_x,train_y,test_y, class_names) = load_datasets(class_paths_training)\n",
    "\n"
   ]
  },
  {
   "cell_type": "code",
   "execution_count": 5,
   "metadata": {},
   "outputs": [
    {
     "name": "stdout",
     "output_type": "stream",
     "text": [
      "Dataset loaded\n",
      "['___Appids', '___Curly_top_virus', '___Early_blight', '___Leaf_miner']\n"
     ]
    }
   ],
   "source": [
    "print('Dataset loaded')\n",
    "print(class_names)"
   ]
  },
  {
   "cell_type": "markdown",
   "metadata": {},
   "source": [
    "\n",
    "# Load model"
   ]
  },
  {
   "cell_type": "code",
   "execution_count": 6,
   "metadata": {},
   "outputs": [],
   "source": [
    "from keras.applications import VGG16\n",
    "from keras.utils.vis_utils import plot_model\n",
    "from keras.layers import Input\n",
    "\n",
    "base_model = VGG16(weights='imagenet',include_top=False,\n",
    "                  input_tensor=Input(shape = (input_width,input_height, input_depth)))\n",
    "\n",
    "# plot_save_path = 'diagram-base-resnet50.png'\n",
    "# plot_model(base_model, to_file=plot_save_path, show_shapes=True)"
   ]
  },
  {
   "cell_type": "markdown",
   "metadata": {},
   "source": [
    "# Create custom head"
   ]
  },
  {
   "cell_type": "code",
   "execution_count": 7,
   "metadata": {},
   "outputs": [],
   "source": [
    "from keras.layers.core import Dropout\n",
    "from keras.layers.core import Flatten\n",
    "from keras.layers.core import Dense\n",
    "\n",
    "head_model = base_model.output\n",
    "head_model = Flatten(name='flatten')(head_model)\n",
    "head_model = Dense(256,activation='relu')(head_model)\n",
    "head_model = Dropout(0.5)(head_model)\n",
    "# Add a softmaxc layer\n",
    "head_model = Dense(len(class_names),activation='softmax')(head_model)"
   ]
  },
  {
   "cell_type": "code",
   "execution_count": 8,
   "metadata": {},
   "outputs": [],
   "source": [
    "from keras.models import Model\n",
    "\n",
    "\n",
    "# place the head FC model on top of the base model \n",
    "model = Model(inputs=base_model.input, outputs = head_model)\n",
    "\n",
    "# plot_save_path = 'diagram-vgg16-head-attached.png'\n",
    "# plot_model(model, to_file=model_diagram_path, show_shapes=True)"
   ]
  },
  {
   "cell_type": "code",
   "execution_count": 9,
   "metadata": {},
   "outputs": [
    {
     "name": "stdout",
     "output_type": "stream",
     "text": [
      "input_1\n",
      "23\n",
      "[INFO]     0\tinput_1                       InputLayer\n",
      "[INFO]     1\tblock1_conv1                  Conv2D\n",
      "[INFO]     2\tblock1_conv2                  Conv2D\n",
      "[INFO]     3\tblock1_pool                   MaxPooling2D\n",
      "[INFO]     4\tblock2_conv1                  Conv2D\n",
      "[INFO]     5\tblock2_conv2                  Conv2D\n",
      "[INFO]     6\tblock2_pool                   MaxPooling2D\n",
      "[INFO]     7\tblock3_conv1                  Conv2D\n",
      "[INFO]     8\tblock3_conv2                  Conv2D\n",
      "[INFO]     9\tblock3_conv3                  Conv2D\n",
      "[INFO]    10\tblock3_pool                   MaxPooling2D\n",
      "[INFO]    11\tblock4_conv1                  Conv2D\n",
      "[INFO]    12\tblock4_conv2                  Conv2D\n",
      "[INFO]    13\tblock4_conv3                  Conv2D\n",
      "[INFO]    14\tblock4_pool                   MaxPooling2D\n",
      "[INFO]    15\tblock5_conv1                  Conv2D\n",
      "[INFO]    16\tblock5_conv2                  Conv2D\n",
      "[INFO]    17\tdropout_2                     Dropout\n",
      "[INFO]    18\tblock5_conv3                  Conv2D\n",
      "[INFO]    19\tdropout_3                     Dropout\n",
      "[INFO]    20\tblock5_pool                   MaxPooling2D\n",
      "[INFO]    21\tflatten                       Flatten\n",
      "[INFO]    22\tdense_1                       Dense\n",
      "[INFO]    23\tdropout_1                     Dropout\n",
      "[INFO]    24\tdense_2                       Dense\n"
     ]
    },
    {
     "name": "stderr",
     "output_type": "stream",
     "text": [
      "/usr/local/lib/python3.5/dist-packages/ipykernel_launcher.py:25: UserWarning: Update your `Model` call to the Keras 2 API: `Model(outputs=Tensor(\"de..., inputs=Tensor(\"in...)`\n"
     ]
    }
   ],
   "source": [
    "from keras.layers import Dropout\n",
    "from keras.models import Model\n",
    "\n",
    "layers = [l for l in model.layers]\n",
    "\n",
    "\n",
    "print(layers[0].name)\n",
    "print(len(layers))\n",
    "\n",
    "x = layers[0].output\n",
    "\n",
    "# Add until layer layer 15\n",
    "for i in range(1, 17):\n",
    "    x = layers[i](x)\n",
    "\n",
    "# Add the two dropout layers\n",
    "x = Dropout(0.5)(x)\n",
    "x = layers[17](x)\n",
    "x = Dropout(0.5)(x)\n",
    "\n",
    "# Add the rest of the layers\n",
    "for i in range(18, len(layers)):\n",
    "    x = layers[i](x)\n",
    "\n",
    "model = Model(input=layers[0].input, output=x)\n",
    "\n",
    "# iterate for all layers in the network and print its' index value\n",
    "for (i,layer) in enumerate(model.layers):\n",
    "    print(\"[INFO] {:5}\\t{:30}{}\".format(i, layer.name, layer.__class__.__name__))"
   ]
  },
  {
   "cell_type": "markdown",
   "metadata": {},
   "source": [
    "# Freeze base model"
   ]
  },
  {
   "cell_type": "code",
   "execution_count": 10,
   "metadata": {},
   "outputs": [],
   "source": [
    "# traverse all layers and freeze the weight of the corresponding layer\n",
    "for layer in base_model.layers:\n",
    "    layer.trainable = False"
   ]
  },
  {
   "cell_type": "code",
   "execution_count": 11,
   "metadata": {},
   "outputs": [],
   "source": [
    "from keras.utils.vis_utils import plot_model\n",
    "\n",
    "# plot_save_path = 'diagram-vgg16-head-attached.png'\n",
    "# plot_model(model, to_file=plot_save_path, show_shapes=True)"
   ]
  },
  {
   "cell_type": "markdown",
   "metadata": {},
   "source": [
    "# Compile model"
   ]
  },
  {
   "cell_type": "code",
   "execution_count": 12,
   "metadata": {},
   "outputs": [],
   "source": [
    "model.compile(optimizer='rmsprop', loss='categorical_crossentropy', metrics=['accuracy'])\n",
    "# Since we only train the new fully connected layer, we do a few iterations"
   ]
  },
  {
   "cell_type": "code",
   "execution_count": 13,
   "metadata": {},
   "outputs": [
    {
     "name": "stdout",
     "output_type": "stream",
     "text": [
      "['loss', 'accuracy']\n"
     ]
    }
   ],
   "source": [
    "print(model.metrics_names)"
   ]
  },
  {
   "cell_type": "markdown",
   "metadata": {},
   "source": [
    "# Checkpoints"
   ]
  },
  {
   "cell_type": "code",
   "execution_count": 14,
   "metadata": {},
   "outputs": [],
   "source": [
    "from keras.callbacks import ModelCheckpoint\n",
    "\n",
    "\n",
    "checkpoint = ModelCheckpoint(checkpoint_path, monitor='val_loss', mode='min', \n",
    "save_best_only=True, verbose=1)\n",
    "\n",
    "callbacks = [checkpoint]\n",
    "\n"
   ]
  },
  {
   "cell_type": "code",
   "execution_count": 15,
   "metadata": {},
   "outputs": [],
   "source": [
    "#load checkpoints if existing\n",
    "\n",
    "import os\n",
    "\n",
    "if(os.path.exists(checkpoint_path)):\n",
    "    model.load_weights(checkpoint_path)"
   ]
  },
  {
   "cell_type": "markdown",
   "metadata": {},
   "source": [
    "# Training monitor"
   ]
  },
  {
   "cell_type": "code",
   "execution_count": 16,
   "metadata": {},
   "outputs": [],
   "source": [
    "from utils.callbacks.training_monitor import TrainingMonitor\n",
    "import pathlib\n",
    "import json\n",
    "import os\n",
    "\n",
    "fig_path = \"plot\"\n",
    "json_path = \"values.json\"\n",
    "values_path = 'values.json'\n",
    "\n",
    "callbacks.append(TrainingMonitor(fig_path, json_path, start_epoch))"
   ]
  },
  {
   "cell_type": "markdown",
   "metadata": {},
   "source": [
    "# Warm up head"
   ]
  },
  {
   "cell_type": "code",
   "execution_count": 17,
   "metadata": {},
   "outputs": [
    {
     "name": "stdout",
     "output_type": "stream",
     "text": [
      "Epoch 1/30\n",
      "113/113 [==============================] - 64s 568ms/step - loss: 3.4751 - accuracy: 0.5155 - val_loss: 0.8780 - val_accuracy: 0.7527\n",
      "\n",
      "Epoch 00001: val_loss improved from inf to 0.87799, saving model to checkpoints-warmup.hdf5\n",
      "Epoch 2/30\n",
      "113/113 [==============================] - 59s 522ms/step - loss: 0.9257 - accuracy: 0.6254 - val_loss: 0.8015 - val_accuracy: 0.7214\n",
      "\n",
      "Epoch 00002: val_loss improved from 0.87799 to 0.80148, saving model to checkpoints-warmup.hdf5\n",
      "Epoch 3/30\n",
      "113/113 [==============================] - 57s 509ms/step - loss: 0.8107 - accuracy: 0.6720 - val_loss: 0.5020 - val_accuracy: 0.8104\n",
      "\n",
      "Epoch 00003: val_loss improved from 0.80148 to 0.50200, saving model to checkpoints-warmup.hdf5\n",
      "Epoch 4/30\n",
      "113/113 [==============================] - 58s 513ms/step - loss: 0.7105 - accuracy: 0.7137 - val_loss: 0.4974 - val_accuracy: 0.8096\n",
      "\n",
      "Epoch 00004: val_loss improved from 0.50200 to 0.49735, saving model to checkpoints-warmup.hdf5\n",
      "Epoch 5/30\n",
      "113/113 [==============================] - 58s 511ms/step - loss: 0.6414 - accuracy: 0.7514 - val_loss: 0.4958 - val_accuracy: 0.8211\n",
      "\n",
      "Epoch 00005: val_loss improved from 0.49735 to 0.49583, saving model to checkpoints-warmup.hdf5\n",
      "Epoch 6/30\n",
      "113/113 [==============================] - 57s 509ms/step - loss: 0.6525 - accuracy: 0.7606 - val_loss: 0.4268 - val_accuracy: 0.8450\n",
      "\n",
      "Epoch 00006: val_loss improved from 0.49583 to 0.42675, saving model to checkpoints-warmup.hdf5\n",
      "Epoch 7/30\n",
      "113/113 [==============================] - 58s 510ms/step - loss: 0.6209 - accuracy: 0.7694 - val_loss: 0.5207 - val_accuracy: 0.8434\n",
      "\n",
      "Epoch 00007: val_loss did not improve from 0.42675\n",
      "Epoch 8/30\n",
      "113/113 [==============================] - 58s 510ms/step - loss: 0.6423 - accuracy: 0.7603 - val_loss: 0.5206 - val_accuracy: 0.8681\n",
      "\n",
      "Epoch 00008: val_loss did not improve from 0.42675\n",
      "Epoch 9/30\n",
      "113/113 [==============================] - 58s 509ms/step - loss: 0.6040 - accuracy: 0.7839 - val_loss: 0.4285 - val_accuracy: 0.8730\n",
      "\n",
      "Epoch 00009: val_loss did not improve from 0.42675\n",
      "Epoch 10/30\n",
      "113/113 [==============================] - 57s 508ms/step - loss: 0.5749 - accuracy: 0.7948 - val_loss: 0.5196 - val_accuracy: 0.8096\n",
      "\n",
      "Epoch 00010: val_loss did not improve from 0.42675\n",
      "Epoch 11/30\n",
      "113/113 [==============================] - 57s 506ms/step - loss: 0.5555 - accuracy: 0.7929 - val_loss: 0.4101 - val_accuracy: 0.8961\n",
      "\n",
      "Epoch 00011: val_loss improved from 0.42675 to 0.41015, saving model to checkpoints-warmup.hdf5\n",
      "Epoch 12/30\n",
      "113/113 [==============================] - 57s 503ms/step - loss: 0.5837 - accuracy: 0.7761 - val_loss: 0.4069 - val_accuracy: 0.8763\n",
      "\n",
      "Epoch 00012: val_loss improved from 0.41015 to 0.40690, saving model to checkpoints-warmup.hdf5\n",
      "Epoch 13/30\n",
      "113/113 [==============================] - 57s 506ms/step - loss: 0.5492 - accuracy: 0.7974 - val_loss: 0.4454 - val_accuracy: 0.8631\n",
      "\n",
      "Epoch 00013: val_loss did not improve from 0.40690\n",
      "Epoch 14/30\n",
      "113/113 [==============================] - 57s 503ms/step - loss: 0.5511 - accuracy: 0.8013 - val_loss: 0.4023 - val_accuracy: 0.8590\n",
      "\n",
      "Epoch 00014: val_loss improved from 0.40690 to 0.40234, saving model to checkpoints-warmup.hdf5\n",
      "Epoch 15/30\n",
      "113/113 [==============================] - 56s 497ms/step - loss: 0.5194 - accuracy: 0.8036 - val_loss: 0.3898 - val_accuracy: 0.8945\n",
      "\n",
      "Epoch 00015: val_loss improved from 0.40234 to 0.38980, saving model to checkpoints-warmup.hdf5\n",
      "Epoch 16/30\n",
      "113/113 [==============================] - 56s 497ms/step - loss: 0.5237 - accuracy: 0.8072 - val_loss: 0.3355 - val_accuracy: 0.9134\n",
      "\n",
      "Epoch 00016: val_loss improved from 0.38980 to 0.33552, saving model to checkpoints-warmup.hdf5\n",
      "Epoch 17/30\n",
      "113/113 [==============================] - 56s 498ms/step - loss: 0.5484 - accuracy: 0.7965 - val_loss: 0.3505 - val_accuracy: 0.8887\n",
      "\n",
      "Epoch 00017: val_loss did not improve from 0.33552\n",
      "Epoch 18/30\n",
      "113/113 [==============================] - 56s 494ms/step - loss: 0.5021 - accuracy: 0.8112 - val_loss: 0.3535 - val_accuracy: 0.9077\n",
      "\n",
      "Epoch 00018: val_loss did not improve from 0.33552\n",
      "Epoch 19/30\n",
      "113/113 [==============================] - 56s 497ms/step - loss: 0.5224 - accuracy: 0.8041 - val_loss: 0.3204 - val_accuracy: 0.8961\n",
      "\n",
      "Epoch 00019: val_loss improved from 0.33552 to 0.32036, saving model to checkpoints-warmup.hdf5\n",
      "Epoch 20/30\n",
      "113/113 [==============================] - 56s 492ms/step - loss: 0.4963 - accuracy: 0.8183 - val_loss: 0.3756 - val_accuracy: 0.9011\n",
      "\n",
      "Epoch 00020: val_loss did not improve from 0.32036\n",
      "Epoch 21/30\n",
      "113/113 [==============================] - 56s 494ms/step - loss: 0.5083 - accuracy: 0.8175 - val_loss: 0.4562 - val_accuracy: 0.8706\n",
      "\n",
      "Epoch 00021: val_loss did not improve from 0.32036\n",
      "Epoch 22/30\n",
      "113/113 [==============================] - 55s 490ms/step - loss: 0.5044 - accuracy: 0.8135 - val_loss: 0.3646 - val_accuracy: 0.8813\n",
      "\n",
      "Epoch 00022: val_loss did not improve from 0.32036\n",
      "Epoch 23/30\n",
      "113/113 [==============================] - 55s 489ms/step - loss: 0.5059 - accuracy: 0.8177 - val_loss: 0.3602 - val_accuracy: 0.8821\n",
      "\n",
      "Epoch 00023: val_loss did not improve from 0.32036\n",
      "Epoch 24/30\n",
      "113/113 [==============================] - 55s 490ms/step - loss: 0.4780 - accuracy: 0.8149 - val_loss: 0.4070 - val_accuracy: 0.8763\n",
      "\n",
      "Epoch 00024: val_loss did not improve from 0.32036\n",
      "Epoch 25/30\n",
      "113/113 [==============================] - 56s 495ms/step - loss: 0.5106 - accuracy: 0.8183 - val_loss: 0.4299 - val_accuracy: 0.8566\n",
      "\n",
      "Epoch 00025: val_loss did not improve from 0.32036\n",
      "Epoch 26/30\n",
      "113/113 [==============================] - 55s 484ms/step - loss: 0.4854 - accuracy: 0.8154 - val_loss: 0.3180 - val_accuracy: 0.9002\n",
      "\n",
      "Epoch 00026: val_loss improved from 0.32036 to 0.31799, saving model to checkpoints-warmup.hdf5\n",
      "Epoch 27/30\n",
      "113/113 [==============================] - 55s 485ms/step - loss: 0.5007 - accuracy: 0.8166 - val_loss: 0.3406 - val_accuracy: 0.9118\n",
      "\n",
      "Epoch 00027: val_loss did not improve from 0.31799\n",
      "Epoch 28/30\n",
      "113/113 [==============================] - 54s 481ms/step - loss: 0.5037 - accuracy: 0.8147 - val_loss: 0.3410 - val_accuracy: 0.8772\n",
      "\n",
      "Epoch 00028: val_loss did not improve from 0.31799\n",
      "Epoch 29/30\n",
      "113/113 [==============================] - 54s 478ms/step - loss: 0.4819 - accuracy: 0.8147 - val_loss: 0.3437 - val_accuracy: 0.8887\n",
      "\n",
      "Epoch 00029: val_loss did not improve from 0.31799\n",
      "Epoch 30/30\n",
      "113/113 [==============================] - 54s 479ms/step - loss: 0.4774 - accuracy: 0.8271 - val_loss: 0.3384 - val_accuracy: 0.9118\n",
      "\n",
      "Epoch 00030: val_loss did not improve from 0.31799\n"
     ]
    }
   ],
   "source": [
    "model.fit_generator(\n",
    "    aug.flow(train_x,train_y, batch_size = batch_size),\n",
    "             validation_data = (test_x,test_y),\n",
    "             epochs=num_of_epochs,\n",
    "             steps_per_epoch = len(train_x) //32,\n",
    "             verbose = 1,\n",
    "             callbacks=callbacks)\n",
    "\n",
    "model.save(model_save_path)"
   ]
  },
  {
   "cell_type": "markdown",
   "metadata": {},
   "source": [
    "# Evaluate with 20% test set from same dataset"
   ]
  },
  {
   "cell_type": "code",
   "execution_count": 18,
   "metadata": {},
   "outputs": [
    {
     "name": "stdout",
     "output_type": "stream",
     "text": [
      "[INFO] evaluating with test set...\n",
      "                    precision    recall  f1-score   support\n",
      "\n",
      "         ___Appids       0.95      0.98      0.96       242\n",
      "___Curly_top_virus       0.83      0.89      0.86       142\n",
      "   ___Early_blight       0.99      0.83      0.90       384\n",
      "     ___Leaf_miner       0.87      0.96      0.91       445\n",
      "\n",
      "       avg / total       0.92      0.91      0.91      1213\n",
      "\n"
     ]
    }
   ],
   "source": [
    "from sklearn.metrics import classification_report\n",
    "\n",
    "print(\"[INFO] evaluating with test set...\")\n",
    "predictions = model.predict(test_x,batch_size=batch_size)\n",
    "print(classification_report(test_y.argmax(axis =1),\n",
    "                            predictions.argmax(axis =1),target_names=class_names))"
   ]
  },
  {
   "cell_type": "markdown",
   "metadata": {},
   "source": [
    "# Evaluate with validation images"
   ]
  },
  {
   "cell_type": "code",
   "execution_count": 19,
   "metadata": {},
   "outputs": [],
   "source": [
    "class_paths_validation = ['../datasets/validation/___Early_blight', '../datasets/validation/___Appids', '../datasets/validation/___Leaf_miner', '../datasets/self/___Curly_top_virus']"
   ]
  },
  {
   "cell_type": "code",
   "execution_count": 20,
   "metadata": {},
   "outputs": [
    {
     "name": "stdout",
     "output_type": "stream",
     "text": [
      "[INFO] loading images...\n",
      "[INFO]: Processed 500/614\n",
      "[INFO] evaluating with validation set...\n",
      "                    precision    recall  f1-score   support\n",
      "\n",
      "         ___Appids     0.5556    0.5556    0.5556         9\n",
      "___Curly_top_virus     0.9815    0.8983    0.9381       118\n",
      "   ___Early_blight     0.9091    0.8333    0.8696        12\n",
      "     ___Leaf_miner     0.4615    0.8000    0.5854        15\n",
      "\n",
      "       avg / total     0.9003    0.8636    0.8760       154\n",
      "\n"
     ]
    }
   ],
   "source": [
    "(train_x,test_x,train_y,test_y, class_names) = load_datasets(class_paths_validation)\n",
    "\n",
    "from sklearn.metrics import classification_report\n",
    "\n",
    "print(\"[INFO] evaluating with validation set...\")\n",
    "predictions = model.predict(test_x,batch_size=batch_size)\n",
    "\n",
    "print(classification_report(test_y.argmax(axis =1),\n",
    "                            predictions.argmax(axis =1),\n",
    "                            target_names=class_names, \n",
    "                            digits=4))"
   ]
  }
 ],
 "metadata": {
  "file_extension": ".py",
  "kernelspec": {
   "display_name": "Python 3",
   "language": "python",
   "name": "python3"
  },
  "language_info": {
   "codemirror_mode": {
    "name": "ipython",
    "version": 3
   },
   "file_extension": ".py",
   "mimetype": "text/x-python",
   "name": "python",
   "nbconvert_exporter": "python",
   "pygments_lexer": "ipython3",
   "version": "3.5.3"
  },
  "mimetype": "text/x-python",
  "name": "python",
  "npconvert_exporter": "python",
  "pygments_lexer": "ipython3",
  "version": 3
 },
 "nbformat": 4,
 "nbformat_minor": 4
}

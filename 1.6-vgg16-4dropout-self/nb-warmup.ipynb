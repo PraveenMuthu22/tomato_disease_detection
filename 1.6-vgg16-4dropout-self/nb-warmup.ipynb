{
 "cells": [
  {
   "cell_type": "markdown",
   "metadata": {},
   "source": [
    "\n",
    "# Arguments"
   ]
  },
  {
   "cell_type": "code",
   "execution_count": 1,
   "metadata": {},
   "outputs": [],
   "source": [
    "#load from last improved and do 1 epoch only\n",
    "\n",
    "\n",
    "batch_size = 32\n",
    "dataset_path_plantvillage = '../datasets/plantvillage'\n",
    "dataset_path_self = '../datasets/self'\n",
    "dataset_path_validation = '../datasets/validation'\n",
    "\n",
    "dataset_paths = [dataset_path_plantvillage, dataset_path_self, dataset_path_validation]\n",
    "\n",
    "model_save_path = 'model-warmup.h5'\n",
    "\n",
    "checkpoint_path = 'checkpoints-warmup.hdf5'\n",
    "\n",
    "input_width = 224\n",
    "input_height = 224\n",
    "input_depth = 3\n",
    "\n",
    "# --------------------------------------------------\n",
    "num_of_epochs = 50\n",
    "start_epoch = 0\n",
    "# --------------------------------------------------"
   ]
  },
  {
   "cell_type": "markdown",
   "metadata": {},
   "source": [
    "# Print class names"
   ]
  },
  {
   "cell_type": "code",
   "execution_count": 2,
   "metadata": {},
   "outputs": [
    {
     "name": "stdout",
     "output_type": "stream",
     "text": [
      "['___Yellow_Leaf_Curl_Virus', '___Late_blight', '___Early_blight', '___Two-spotted_spider_mite', '___Septoria_leaf_spot', '___Bacterial_spot', '___healthy', '___Target_Spot', '___Mosaic_Virus', '___Leaf_Mold', '___Leaf_miner', '___Curly_top_virus', '___Appids']\n",
      "\n",
      "PlantVillage\n",
      "['../datasets/plantvillage/___Yellow_Leaf_Curl_Virus', '../datasets/plantvillage/___Late_blight', '../datasets/plantvillage/___Early_blight', '../datasets/plantvillage/___Two-spotted_spider_mite', '../datasets/plantvillage/___Septoria_leaf_spot', '../datasets/plantvillage/___Bacterial_spot', '../datasets/plantvillage/___healthy', '../datasets/plantvillage/___Target_Spot', '../datasets/plantvillage/___Mosaic_Virus', '../datasets/plantvillage/___Leaf_Mold']\n",
      "10\n",
      "\n",
      "Self\n",
      "['../datasets/self/___Leaf_miner', '../datasets/self/___Early_blight', '../datasets/self/___Curly_top_virus', '../datasets/self/___Appids']\n",
      "4\n",
      "\n",
      "Validation\n",
      "['../datasets/validation/___Leaf_miner', '../datasets/validation/___Yellow_Leaf_Curl_Virus', '../datasets/validation/___Late_blight', '../datasets/validation/___Early_blight', '../datasets/validation/___Curly_top_virus', '../datasets/validation/___Bacterial_spot', '../datasets/validation/___healthy', '../datasets/validation/___Appids', '../datasets/validation/___Target_Spot', '../datasets/validation/___Mosaic_Virus', '../datasets/validation/___Leaf_Mold']\n",
      "11\n"
     ]
    }
   ],
   "source": [
    "# Get classes\n",
    "import os\n",
    "import re\n",
    "\n",
    "class_names = []\n",
    "class_paths_plant_village = []\n",
    "class_paths_plant_self = []\n",
    "class_paths_plant_validation = []\n",
    "\n",
    "for path in dataset_paths:\n",
    "    classes = os.listdir(path)\n",
    "    for i in classes:\n",
    "        if(re.search('___', i)):\n",
    "            if(i not in class_names):\n",
    "                class_names.append(i)\n",
    "            if(re.search('plantvillage', path)):\n",
    "                class_paths_plant_village.append(path + '/' + i)\n",
    "            elif(re.search('self', path)):\n",
    "                class_paths_plant_self.append(path + '/' + i)\n",
    "            else:\n",
    "                class_paths_plant_validation.append(path + '/' + i)\n",
    "\n",
    "print(class_names)   \n",
    "print()\n",
    "print('PlantVillage')\n",
    "print(class_paths_plant_village) \n",
    "print(len(class_paths_plant_village))\n",
    "print()\n",
    "print('Self')\n",
    "print(class_paths_plant_self) \n",
    "print(len(class_paths_plant_self))\n",
    "print()\n",
    "print('Validation')\n",
    "print(class_paths_plant_validation) \n",
    "print(len(class_paths_plant_validation))"
   ]
  },
  {
   "cell_type": "markdown",
   "metadata": {},
   "source": [
    "# Select training classes\n",
    "\n",
    "early blight in plantVillage dataset replaced by self one"
   ]
  },
  {
   "cell_type": "code",
   "execution_count": 3,
   "metadata": {},
   "outputs": [],
   "source": [
    "class_paths_training = ['../datasets/self/___Early_blight', '../datasets/self/___Appids', '../datasets/self/___Leaf_miner']\n",
    "class_names = None"
   ]
  },
  {
   "cell_type": "markdown",
   "metadata": {},
   "source": [
    "# Load dataset"
   ]
  },
  {
   "cell_type": "code",
   "execution_count": 4,
   "metadata": {},
   "outputs": [
    {
     "name": "stderr",
     "output_type": "stream",
     "text": [
      "Using TensorFlow backend.\n"
     ]
    },
    {
     "name": "stdout",
     "output_type": "stream",
     "text": [
      "[INFO] loading images...\n",
      "[INFO]: Processed 500/4370\n",
      "[INFO]: Processed 1000/4370\n",
      "[INFO]: Processed 1500/4370\n",
      "[INFO]: Processed 2000/4370\n",
      "[INFO]: Processed 2500/4370\n",
      "[INFO]: Processed 3000/4370\n",
      "[INFO]: Processed 3500/4370\n",
      "[INFO]: Processed 4000/4370\n"
     ]
    }
   ],
   "source": [
    "from sklearn.preprocessing import LabelBinarizer\n",
    "from sklearn.model_selection import train_test_split\n",
    "from sklearn.metrics import classification_report\n",
    "from keras.preprocessing.image   import ImageDataGenerator\n",
    "from keras.optimizers import RMSprop\n",
    "from keras.layers import Input\n",
    "from keras.models import Model\n",
    "from keras .applications import VGG16\n",
    "from keras.optimizers import SGD\n",
    "from keras.models import Model\n",
    "from imutils import paths\n",
    "import numpy as np\n",
    "import os\n",
    "\n",
    "import sys\n",
    "sys.path.append('..')\n",
    "\n",
    "from utils.preprocessors.aspect_aware_preprocessor import AspectAwarePreprocessor\n",
    "from utils.preprocessors.image_to_array_preprocessor import ImageToArrayPreprocessor\n",
    "from utils.io.simple_dataset_loader import SimpleDatasetLoader\n",
    "\n",
    "# construct the image generator for data augmentation\n",
    "aug = ImageDataGenerator(   rotation_range=30,\n",
    "                            width_shift_range=0.1,\n",
    "                            height_shift_range=0.1,\n",
    "                            shear_range=0.2,\n",
    "                            zoom_range=0.2,\n",
    "                            horizontal_flip=True,\n",
    "                            fill_mode='nearest')\n",
    "\n",
    "def load_datasets(path_list):\n",
    "    # Load image paths\n",
    "    image_paths = []\n",
    "    print(\"[INFO] loading images...\")\n",
    "    for path in path_list:\n",
    "        image_paths.extend(list(paths.list_images(path)))\n",
    "        \n",
    "    # Get unique classnames\n",
    "\n",
    "    class_names = [pt.split(os.path.sep)[-2] for pt in image_paths]\n",
    "    class_names = [str(x) for x in np.unique(class_names)]\n",
    "\n",
    "    # Initial image preprocessing\n",
    "    aap = AspectAwarePreprocessor(input_width, input_height)\n",
    "    iap= ImageToArrayPreprocessor()\n",
    "\n",
    "    #Load image data and perform image data preprocessing\n",
    "    sdl = SimpleDatasetLoader(preprocessors=[aap,iap])\n",
    "    (data,labels)  = sdl.load(image_paths,verbose=500)\n",
    "    data = data.astype(\"float\") / 255.0\n",
    "\n",
    "\n",
    "    # train test split\n",
    "    (train_x,test_x,train_y,test_y) = train_test_split(data,labels,test_size=0.25,random_state=42)\n",
    "\n",
    "    # convert the labels from integers to vectors\n",
    "    train_y = LabelBinarizer().fit_transform(train_y)\n",
    "    test_y = LabelBinarizer().fit_transform(test_y)\n",
    "    \n",
    "    return (train_x,test_x,train_y,test_y, class_names)\n",
    "\n",
    "(train_x,test_x,train_y,test_y, class_names) = load_datasets(class_paths_training)\n",
    "\n"
   ]
  },
  {
   "cell_type": "markdown",
   "metadata": {},
   "source": [
    "\n",
    "# Load model"
   ]
  },
  {
   "cell_type": "code",
   "execution_count": 5,
   "metadata": {},
   "outputs": [],
   "source": [
    "from keras.applications import VGG16\n",
    "from keras.utils.vis_utils import plot_model\n",
    "from keras.layers import Input\n",
    "\n",
    "base_model = VGG16(weights='imagenet',include_top=False,\n",
    "                  input_tensor=Input(shape = (input_width,input_height, input_depth)))\n",
    "\n",
    "# plot_save_path = 'diagram-base-resnet50.png'\n",
    "# plot_model(base_model, to_file=plot_save_path, show_shapes=True)"
   ]
  },
  {
   "cell_type": "markdown",
   "metadata": {},
   "source": [
    "# Create custom head"
   ]
  },
  {
   "cell_type": "code",
   "execution_count": 6,
   "metadata": {},
   "outputs": [],
   "source": [
    "from keras.layers.core import Dropout\n",
    "from keras.layers.core import Flatten\n",
    "from keras.layers.core import Dense\n",
    "\n",
    "head_model = base_model.output\n",
    "head_model = Flatten(name='flatten')(head_model)\n",
    "head_model = Dense(256,activation='relu')(head_model)\n",
    "head_model = Dropout(0.5)(head_model)\n",
    "# Add a softmaxc layer\n",
    "head_model = Dense(len(class_names),activation='softmax')(head_model)"
   ]
  },
  {
   "cell_type": "code",
   "execution_count": 7,
   "metadata": {},
   "outputs": [],
   "source": [
    "from keras.models import Model\n",
    "\n",
    "\n",
    "# place the head FC model on top of the base model \n",
    "model = Model(inputs=base_model.input, outputs = head_model)\n",
    "\n",
    "# plot_save_path = 'diagram-vgg16-head-attached.png'\n",
    "# plot_model(model, to_file=model_diagram_path, show_shapes=True)"
   ]
  },
  {
   "cell_type": "code",
   "execution_count": 8,
   "metadata": {},
   "outputs": [
    {
     "name": "stdout",
     "output_type": "stream",
     "text": [
      "input_1\n",
      "23\n",
      "[INFO]     0\tinput_1                       InputLayer\n",
      "[INFO]     1\tblock1_conv1                  Conv2D\n",
      "[INFO]     2\tblock1_conv2                  Conv2D\n",
      "[INFO]     3\tblock1_pool                   MaxPooling2D\n",
      "[INFO]     4\tblock2_conv1                  Conv2D\n",
      "[INFO]     5\tblock2_conv2                  Conv2D\n",
      "[INFO]     6\tblock2_pool                   MaxPooling2D\n",
      "[INFO]     7\tblock3_conv1                  Conv2D\n",
      "[INFO]     8\tblock3_conv2                  Conv2D\n",
      "[INFO]     9\tblock3_conv3                  Conv2D\n",
      "[INFO]    10\tblock3_pool                   MaxPooling2D\n",
      "[INFO]    11\tblock4_conv1                  Conv2D\n",
      "[INFO]    12\tblock4_conv2                  Conv2D\n",
      "[INFO]    13\tblock4_conv3                  Conv2D\n",
      "[INFO]    14\tblock4_pool                   MaxPooling2D\n",
      "[INFO]    15\tblock5_conv1                  Conv2D\n",
      "[INFO]    16\tblock5_conv2                  Conv2D\n",
      "[INFO]    17\tdropout_2                     Dropout\n",
      "[INFO]    18\tblock5_conv3                  Conv2D\n",
      "[INFO]    19\tdropout_3                     Dropout\n",
      "[INFO]    20\tblock5_pool                   MaxPooling2D\n",
      "[INFO]    21\tflatten                       Flatten\n",
      "[INFO]    22\tdense_1                       Dense\n",
      "[INFO]    23\tdropout_1                     Dropout\n",
      "[INFO]    24\tdense_2                       Dense\n"
     ]
    },
    {
     "name": "stderr",
     "output_type": "stream",
     "text": [
      "/usr/local/lib/python3.5/dist-packages/ipykernel_launcher.py:25: UserWarning: Update your `Model` call to the Keras 2 API: `Model(inputs=Tensor(\"in..., outputs=Tensor(\"de...)`\n"
     ]
    }
   ],
   "source": [
    "from keras.layers import Dropout\n",
    "from keras.models import Model\n",
    "\n",
    "layers = [l for l in model.layers]\n",
    "\n",
    "\n",
    "print(layers[0].name)\n",
    "print(len(layers))\n",
    "\n",
    "x = layers[0].output\n",
    "\n",
    "# Add until layer layer 15\n",
    "for i in range(1, 17):\n",
    "    x = layers[i](x)\n",
    "\n",
    "# Add the two dropout layers\n",
    "x = Dropout(0.5)(x)\n",
    "x = layers[17](x)\n",
    "x = Dropout(0.5)(x)\n",
    "\n",
    "# Add the rest of the layers\n",
    "for i in range(18, len(layers)):\n",
    "    x = layers[i](x)\n",
    "\n",
    "model = Model(input=layers[0].input, output=x)\n",
    "\n",
    "# iterate for all layers in the network and print its' index value\n",
    "for (i,layer) in enumerate(model.layers):\n",
    "    print(\"[INFO] {:5}\\t{:30}{}\".format(i, layer.name, layer.__class__.__name__))"
   ]
  },
  {
   "cell_type": "markdown",
   "metadata": {},
   "source": [
    "# Freeze base model"
   ]
  },
  {
   "cell_type": "code",
   "execution_count": 9,
   "metadata": {},
   "outputs": [],
   "source": [
    "# traverse all layers and freeze the weight of the corresponding layer\n",
    "for layer in base_model.layers:\n",
    "    layer.trainable = False"
   ]
  },
  {
   "cell_type": "code",
   "execution_count": null,
   "metadata": {},
   "outputs": [],
   "source": [
    "from keras.utils.vis_utils import plot_model\n",
    "\n",
    "# plot_save_path = 'diagram-vgg16-head-attached.png'\n",
    "# plot_model(model, to_file=plot_save_path, show_shapes=True)"
   ]
  },
  {
   "cell_type": "markdown",
   "metadata": {},
   "source": [
    "# Compile model"
   ]
  },
  {
   "cell_type": "code",
   "execution_count": 11,
   "metadata": {},
   "outputs": [],
   "source": [
    "model.compile(optimizer='rmsprop', loss='categorical_crossentropy', metrics=['accuracy'])\n",
    "# Since we only train the new fully connected layer, we do a few iterations"
   ]
  },
  {
   "cell_type": "code",
   "execution_count": 12,
   "metadata": {},
   "outputs": [
    {
     "name": "stdout",
     "output_type": "stream",
     "text": [
      "['loss', 'accuracy']\n"
     ]
    }
   ],
   "source": [
    "print(model.metrics_names)"
   ]
  },
  {
   "cell_type": "markdown",
   "metadata": {},
   "source": [
    "# Checkpoints"
   ]
  },
  {
   "cell_type": "code",
   "execution_count": 13,
   "metadata": {},
   "outputs": [],
   "source": [
    "from keras.callbacks import ModelCheckpoint\n",
    "\n",
    "\n",
    "checkpoint = ModelCheckpoint(checkpoint_path, monitor='val_loss', mode='min', \n",
    "save_best_only=True, verbose=1)\n",
    "\n",
    "callbacks = [checkpoint]\n",
    "\n"
   ]
  },
  {
   "cell_type": "code",
   "execution_count": 14,
   "metadata": {},
   "outputs": [],
   "source": [
    "#load checkpoints if existing\n",
    "\n",
    "import os\n",
    "\n",
    "if(os.path.exists(checkpoint_path)):\n",
    "    model.load_weights(checkpoint_path)"
   ]
  },
  {
   "cell_type": "markdown",
   "metadata": {},
   "source": [
    "# Training monitor"
   ]
  },
  {
   "cell_type": "code",
   "execution_count": 15,
   "metadata": {},
   "outputs": [],
   "source": [
    "from utils.callbacks.training_monitor import TrainingMonitor\n",
    "import pathlib\n",
    "import json\n",
    "import os\n",
    "\n",
    "fig_path = \"plot\"\n",
    "json_path = \"values.json\"\n",
    "values_path = 'values.json'\n",
    "\n",
    "callbacks.append(TrainingMonitor(fig_path, json_path, start_epoch))"
   ]
  },
  {
   "cell_type": "markdown",
   "metadata": {},
   "source": [
    "# Warm up head"
   ]
  },
  {
   "cell_type": "code",
   "execution_count": 16,
   "metadata": {},
   "outputs": [
    {
     "name": "stdout",
     "output_type": "stream",
     "text": [
      "Epoch 1/50\n",
      "102/102 [==============================] - 57s 563ms/step - loss: 3.1589 - accuracy: 0.5917 - val_loss: 0.5508 - val_accuracy: 0.8408\n",
      "\n",
      "Epoch 00001: val_loss improved from inf to 0.55081, saving model to checkpoints-warmup.hdf5\n",
      "Epoch 2/50\n",
      "102/102 [==============================] - 53s 518ms/step - loss: 0.6149 - accuracy: 0.7433 - val_loss: 0.5180 - val_accuracy: 0.8198\n",
      "\n",
      "Epoch 00002: val_loss improved from 0.55081 to 0.51800, saving model to checkpoints-warmup.hdf5\n",
      "Epoch 3/50\n",
      "102/102 [==============================] - 52s 514ms/step - loss: 0.5240 - accuracy: 0.8068 - val_loss: 0.5101 - val_accuracy: 0.7731\n",
      "\n",
      "Epoch 00003: val_loss improved from 0.51800 to 0.51005, saving model to checkpoints-warmup.hdf5\n",
      "Epoch 4/50\n",
      "102/102 [==============================] - 51s 504ms/step - loss: 0.4543 - accuracy: 0.8206 - val_loss: 0.2615 - val_accuracy: 0.8975\n",
      "\n",
      "Epoch 00004: val_loss improved from 0.51005 to 0.26150, saving model to checkpoints-warmup.hdf5\n",
      "Epoch 5/50\n",
      "102/102 [==============================] - 51s 504ms/step - loss: 0.4330 - accuracy: 0.8348 - val_loss: 0.2296 - val_accuracy: 0.9213\n",
      "\n",
      "Epoch 00005: val_loss improved from 0.26150 to 0.22960, saving model to checkpoints-warmup.hdf5\n",
      "Epoch 6/50\n",
      "102/102 [==============================] - 51s 496ms/step - loss: 0.3767 - accuracy: 0.8573 - val_loss: 0.2855 - val_accuracy: 0.8875\n",
      "\n",
      "Epoch 00006: val_loss did not improve from 0.22960\n",
      "Epoch 7/50\n",
      "102/102 [==============================] - 51s 497ms/step - loss: 0.3704 - accuracy: 0.8635 - val_loss: 0.3118 - val_accuracy: 0.8747\n",
      "\n",
      "Epoch 00007: val_loss did not improve from 0.22960\n",
      "Epoch 8/50\n",
      "102/102 [==============================] - 50s 492ms/step - loss: 0.3565 - accuracy: 0.8743 - val_loss: 0.2054 - val_accuracy: 0.9332\n",
      "\n",
      "Epoch 00008: val_loss improved from 0.22960 to 0.20541, saving model to checkpoints-warmup.hdf5\n",
      "Epoch 9/50\n",
      "102/102 [==============================] - 50s 487ms/step - loss: 0.3583 - accuracy: 0.8733 - val_loss: 0.2126 - val_accuracy: 0.9451\n",
      "\n",
      "Epoch 00009: val_loss did not improve from 0.20541\n",
      "Epoch 10/50\n",
      "102/102 [==============================] - 50s 491ms/step - loss: 0.3386 - accuracy: 0.8767 - val_loss: 0.2146 - val_accuracy: 0.9277\n",
      "\n",
      "Epoch 00010: val_loss did not improve from 0.20541\n",
      "Epoch 11/50\n",
      "102/102 [==============================] - 51s 496ms/step - loss: 0.3444 - accuracy: 0.8737 - val_loss: 0.4023 - val_accuracy: 0.8207\n",
      "\n",
      "Epoch 00011: val_loss did not improve from 0.20541\n",
      "Epoch 12/50\n",
      "102/102 [==============================] - 50s 489ms/step - loss: 0.3493 - accuracy: 0.8817 - val_loss: 0.2549 - val_accuracy: 0.9076\n",
      "\n",
      "Epoch 00012: val_loss did not improve from 0.20541\n",
      "Epoch 13/50\n",
      "102/102 [==============================] - 50s 486ms/step - loss: 0.3409 - accuracy: 0.8834 - val_loss: 0.2872 - val_accuracy: 0.8801\n",
      "\n",
      "Epoch 00013: val_loss did not improve from 0.20541\n",
      "Epoch 14/50\n",
      "102/102 [==============================] - 49s 485ms/step - loss: 0.3503 - accuracy: 0.8786 - val_loss: 0.2033 - val_accuracy: 0.9296\n",
      "\n",
      "Epoch 00014: val_loss improved from 0.20541 to 0.20327, saving model to checkpoints-warmup.hdf5\n",
      "Epoch 15/50\n",
      "102/102 [==============================] - 49s 481ms/step - loss: 0.3321 - accuracy: 0.8807 - val_loss: 0.3140 - val_accuracy: 0.8893\n",
      "\n",
      "Epoch 00015: val_loss did not improve from 0.20327\n",
      "Epoch 16/50\n",
      "102/102 [==============================] - 50s 492ms/step - loss: 0.3094 - accuracy: 0.8915 - val_loss: 0.2238 - val_accuracy: 0.9113\n",
      "\n",
      "Epoch 00016: val_loss did not improve from 0.20327\n",
      "Epoch 17/50\n",
      "102/102 [==============================] - 49s 481ms/step - loss: 0.3085 - accuracy: 0.8980 - val_loss: 0.1988 - val_accuracy: 0.9296\n",
      "\n",
      "Epoch 00017: val_loss improved from 0.20327 to 0.19881, saving model to checkpoints-warmup.hdf5\n",
      "Epoch 18/50\n",
      "102/102 [==============================] - 49s 484ms/step - loss: 0.3290 - accuracy: 0.8928 - val_loss: 0.2469 - val_accuracy: 0.9003\n",
      "\n",
      "Epoch 00018: val_loss did not improve from 0.19881\n",
      "Epoch 19/50\n",
      "102/102 [==============================] - 49s 480ms/step - loss: 0.3150 - accuracy: 0.8882 - val_loss: 0.2177 - val_accuracy: 0.9341\n",
      "\n",
      "Epoch 00019: val_loss did not improve from 0.19881\n",
      "Epoch 20/50\n",
      "102/102 [==============================] - 49s 477ms/step - loss: 0.2864 - accuracy: 0.8983 - val_loss: 0.2935 - val_accuracy: 0.8801\n",
      "\n",
      "Epoch 00020: val_loss did not improve from 0.19881\n",
      "Epoch 21/50\n",
      "102/102 [==============================] - 49s 482ms/step - loss: 0.2860 - accuracy: 0.8983 - val_loss: 0.1871 - val_accuracy: 0.9506\n",
      "\n",
      "Epoch 00021: val_loss improved from 0.19881 to 0.18707, saving model to checkpoints-warmup.hdf5\n",
      "Epoch 22/50\n",
      "102/102 [==============================] - 48s 470ms/step - loss: 0.3181 - accuracy: 0.8925 - val_loss: 0.2191 - val_accuracy: 0.9250\n",
      "\n",
      "Epoch 00022: val_loss did not improve from 0.18707\n",
      "Epoch 23/50\n",
      "102/102 [==============================] - 48s 475ms/step - loss: 0.2805 - accuracy: 0.8974 - val_loss: 0.1868 - val_accuracy: 0.9451\n",
      "\n",
      "Epoch 00023: val_loss improved from 0.18707 to 0.18676, saving model to checkpoints-warmup.hdf5\n",
      "Epoch 24/50\n",
      "102/102 [==============================] - 49s 476ms/step - loss: 0.2721 - accuracy: 0.9063 - val_loss: 0.2370 - val_accuracy: 0.9048\n",
      "\n",
      "Epoch 00024: val_loss did not improve from 0.18676\n",
      "Epoch 25/50\n",
      "102/102 [==============================] - 48s 472ms/step - loss: 0.2781 - accuracy: 0.9048 - val_loss: 0.2310 - val_accuracy: 0.9259\n",
      "\n",
      "Epoch 00025: val_loss did not improve from 0.18676\n",
      "Epoch 26/50\n",
      "102/102 [==============================] - 48s 468ms/step - loss: 0.2747 - accuracy: 0.9051 - val_loss: 0.2602 - val_accuracy: 0.8930\n",
      "\n",
      "Epoch 00026: val_loss did not improve from 0.18676\n",
      "Epoch 27/50\n",
      "102/102 [==============================] - 48s 472ms/step - loss: 0.2605 - accuracy: 0.9161 - val_loss: 0.1842 - val_accuracy: 0.9570\n",
      "\n",
      "Epoch 00027: val_loss improved from 0.18676 to 0.18423, saving model to checkpoints-warmup.hdf5\n",
      "Epoch 28/50\n",
      "102/102 [==============================] - 47s 462ms/step - loss: 0.2736 - accuracy: 0.9011 - val_loss: 0.1797 - val_accuracy: 0.9378\n",
      "\n",
      "Epoch 00028: val_loss improved from 0.18423 to 0.17968, saving model to checkpoints-warmup.hdf5\n",
      "Epoch 29/50\n",
      "102/102 [==============================] - 47s 457ms/step - loss: 0.2798 - accuracy: 0.9113 - val_loss: 0.1931 - val_accuracy: 0.9305\n",
      "\n",
      "Epoch 00029: val_loss did not improve from 0.17968\n",
      "Epoch 30/50\n",
      "102/102 [==============================] - 48s 466ms/step - loss: 0.2838 - accuracy: 0.9085 - val_loss: 0.2374 - val_accuracy: 0.9048\n",
      "\n",
      "Epoch 00030: val_loss did not improve from 0.17968\n",
      "Epoch 31/50\n",
      "102/102 [==============================] - 48s 466ms/step - loss: 0.2869 - accuracy: 0.9062 - val_loss: 0.2068 - val_accuracy: 0.9158\n",
      "\n",
      "Epoch 00031: val_loss did not improve from 0.17968\n",
      "Epoch 32/50\n",
      "102/102 [==============================] - 47s 462ms/step - loss: 0.2810 - accuracy: 0.9017 - val_loss: 0.2373 - val_accuracy: 0.9076\n",
      "\n",
      "Epoch 00032: val_loss did not improve from 0.17968\n",
      "Epoch 33/50\n",
      "102/102 [==============================] - 47s 464ms/step - loss: 0.2856 - accuracy: 0.9029 - val_loss: 0.2239 - val_accuracy: 0.9113\n",
      "\n",
      "Epoch 00033: val_loss did not improve from 0.17968\n",
      "Epoch 34/50\n",
      "102/102 [==============================] - 47s 463ms/step - loss: 0.2625 - accuracy: 0.9128 - val_loss: 0.2784 - val_accuracy: 0.8637\n",
      "\n",
      "Epoch 00034: val_loss did not improve from 0.17968\n",
      "Epoch 35/50\n",
      "102/102 [==============================] - 47s 457ms/step - loss: 0.2791 - accuracy: 0.9092 - val_loss: 0.2121 - val_accuracy: 0.9360\n",
      "\n",
      "Epoch 00035: val_loss did not improve from 0.17968\n",
      "Epoch 36/50\n",
      "102/102 [==============================] - 48s 471ms/step - loss: 0.2693 - accuracy: 0.9115 - val_loss: 0.1903 - val_accuracy: 0.9296\n",
      "\n",
      "Epoch 00036: val_loss did not improve from 0.17968\n",
      "Epoch 37/50\n",
      "102/102 [==============================] - 47s 464ms/step - loss: 0.2788 - accuracy: 0.9042 - val_loss: 0.1961 - val_accuracy: 0.9259\n",
      "\n",
      "Epoch 00037: val_loss did not improve from 0.17968\n",
      "Epoch 38/50\n",
      "102/102 [==============================] - 47s 460ms/step - loss: 0.2652 - accuracy: 0.9146 - val_loss: 0.1863 - val_accuracy: 0.9350\n",
      "\n",
      "Epoch 00038: val_loss did not improve from 0.17968\n",
      "Epoch 39/50\n",
      "102/102 [==============================] - 47s 464ms/step - loss: 0.2511 - accuracy: 0.9076 - val_loss: 0.1883 - val_accuracy: 0.9277\n",
      "\n",
      "Epoch 00039: val_loss did not improve from 0.17968\n",
      "Epoch 40/50\n",
      "102/102 [==============================] - 48s 471ms/step - loss: 0.2532 - accuracy: 0.9196 - val_loss: 0.2534 - val_accuracy: 0.8920\n",
      "\n",
      "Epoch 00040: val_loss did not improve from 0.17968\n",
      "Epoch 41/50\n",
      "102/102 [==============================] - 48s 467ms/step - loss: 0.2632 - accuracy: 0.9190 - val_loss: 0.2272 - val_accuracy: 0.9113\n",
      "\n",
      "Epoch 00041: val_loss did not improve from 0.17968\n",
      "Epoch 42/50\n",
      "102/102 [==============================] - 48s 472ms/step - loss: 0.2405 - accuracy: 0.9122 - val_loss: 0.2076 - val_accuracy: 0.9195\n",
      "\n",
      "Epoch 00042: val_loss did not improve from 0.17968\n",
      "Epoch 43/50\n",
      "102/102 [==============================] - 48s 471ms/step - loss: 0.2634 - accuracy: 0.9173 - val_loss: 0.2262 - val_accuracy: 0.9085\n",
      "\n",
      "Epoch 00043: val_loss did not improve from 0.17968\n",
      "Epoch 44/50\n",
      "102/102 [==============================] - 48s 468ms/step - loss: 0.2568 - accuracy: 0.9172 - val_loss: 0.2024 - val_accuracy: 0.9213\n",
      "\n",
      "Epoch 00044: val_loss did not improve from 0.17968\n",
      "Epoch 45/50\n",
      "102/102 [==============================] - 47s 465ms/step - loss: 0.2606 - accuracy: 0.9112 - val_loss: 0.2122 - val_accuracy: 0.9286\n",
      "\n",
      "Epoch 00045: val_loss did not improve from 0.17968\n",
      "Epoch 46/50\n",
      "102/102 [==============================] - 48s 467ms/step - loss: 0.2720 - accuracy: 0.9093 - val_loss: 0.2032 - val_accuracy: 0.9241\n",
      "\n",
      "Epoch 00046: val_loss did not improve from 0.17968\n",
      "Epoch 47/50\n",
      "102/102 [==============================] - 47s 463ms/step - loss: 0.2572 - accuracy: 0.9138 - val_loss: 0.2335 - val_accuracy: 0.9067\n",
      "\n",
      "Epoch 00047: val_loss did not improve from 0.17968\n",
      "Epoch 48/50\n",
      "102/102 [==============================] - 48s 472ms/step - loss: 0.2686 - accuracy: 0.9177 - val_loss: 0.2243 - val_accuracy: 0.9122\n",
      "\n",
      "Epoch 00048: val_loss did not improve from 0.17968\n",
      "Epoch 49/50\n",
      "102/102 [==============================] - 47s 463ms/step - loss: 0.2774 - accuracy: 0.9133 - val_loss: 0.2865 - val_accuracy: 0.8893\n",
      "\n",
      "Epoch 00049: val_loss did not improve from 0.17968\n",
      "Epoch 50/50\n",
      "102/102 [==============================] - 47s 463ms/step - loss: 0.2359 - accuracy: 0.9162 - val_loss: 0.2119 - val_accuracy: 0.9140\n",
      "\n",
      "Epoch 00050: val_loss did not improve from 0.17968\n"
     ]
    }
   ],
   "source": [
    "model.fit_generator(\n",
    "    aug.flow(train_x,train_y, batch_size = batch_size),\n",
    "             validation_data = (test_x,test_y),\n",
    "             epochs=num_of_epochs,\n",
    "             steps_per_epoch = len(train_x) //32,\n",
    "             verbose = 1,\n",
    "             callbacks=callbacks)\n",
    "\n",
    "model.save(model_save_path)"
   ]
  },
  {
   "cell_type": "markdown",
   "metadata": {},
   "source": [
    "# Evaluate with 20% test set from same dataset"
   ]
  },
  {
   "cell_type": "code",
   "execution_count": 17,
   "metadata": {},
   "outputs": [
    {
     "name": "stdout",
     "output_type": "stream",
     "text": [
      "[INFO] evaluating with test set...\n",
      "                 precision    recall  f1-score   support\n",
      "\n",
      "      ___Appids       0.95      0.97      0.96       242\n",
      "___Early_blight       0.99      0.80      0.89       394\n",
      "  ___Leaf_miner       0.85      0.98      0.91       457\n",
      "\n",
      "    avg / total       0.92      0.91      0.91      1093\n",
      "\n"
     ]
    }
   ],
   "source": [
    "from sklearn.metrics import classification_report\n",
    "\n",
    "print(\"[INFO] evaluating with test set...\")\n",
    "predictions = model.predict(test_x,batch_size=batch_size)\n",
    "print(classification_report(test_y.argmax(axis =1),\n",
    "                            predictions.argmax(axis =1),target_names=class_names))"
   ]
  },
  {
   "cell_type": "markdown",
   "metadata": {},
   "source": [
    "# Evaluate with validation images"
   ]
  },
  {
   "cell_type": "code",
   "execution_count": 18,
   "metadata": {},
   "outputs": [],
   "source": [
    "class_paths_validation = ['../datasets/validation/___Early_blight', '../datasets/validation/___Appids', '../datasets/validation/___Leaf_miner', '../datasets/self/___Curly_top_virus']"
   ]
  },
  {
   "cell_type": "code",
   "execution_count": 19,
   "metadata": {},
   "outputs": [
    {
     "name": "stdout",
     "output_type": "stream",
     "text": [
      "[INFO] loading images...\n",
      "[INFO]: Processed 500/614\n",
      "[INFO] evaluating with validation set...\n",
      "                    precision    recall  f1-score   support\n",
      "\n",
      "         ___Appids     0.1290    0.4444    0.2000         9\n",
      "___Curly_top_virus     0.1250    0.0169    0.0299       118\n",
      "   ___Early_blight     0.0093    0.0833    0.0168        12\n",
      "     ___Leaf_miner     0.0000    0.0000    0.0000        15\n",
      "\n",
      "       avg / total     0.1040    0.0455    0.0359       154\n",
      "\n"
     ]
    },
    {
     "name": "stderr",
     "output_type": "stream",
     "text": [
      "/usr/local/lib/python3.5/site-packages/sklearn/metrics/classification.py:1135: UndefinedMetricWarning: Precision and F-score are ill-defined and being set to 0.0 in labels with no predicted samples.\n",
      "  'precision', 'predicted', average, warn_for)\n"
     ]
    }
   ],
   "source": [
    "(train_x,test_x,train_y,test_y, class_names) = load_datasets(class_paths_validation)\n",
    "\n",
    "from sklearn.metrics import classification_report\n",
    "\n",
    "print(\"[INFO] evaluating with validation set...\")\n",
    "predictions = model.predict(test_x,batch_size=batch_size)\n",
    "\n",
    "print(classification_report(test_y.argmax(axis =1),\n",
    "                            predictions.argmax(axis =1),\n",
    "                            target_names=class_names, \n",
    "                            digits=4))"
   ]
  }
 ],
 "metadata": {
  "file_extension": ".py",
  "kernelspec": {
   "display_name": "Python 3",
   "language": "python",
   "name": "python3"
  },
  "language_info": {
   "codemirror_mode": {
    "name": "ipython",
    "version": 3
   },
   "file_extension": ".py",
   "mimetype": "text/x-python",
   "name": "python",
   "nbconvert_exporter": "python",
   "pygments_lexer": "ipython3",
   "version": "3.5.3"
  },
  "mimetype": "text/x-python",
  "name": "python",
  "npconvert_exporter": "python",
  "pygments_lexer": "ipython3",
  "version": 3
 },
 "nbformat": 4,
 "nbformat_minor": 4
}

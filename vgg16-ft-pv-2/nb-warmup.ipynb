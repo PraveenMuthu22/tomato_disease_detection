{
 "cells": [
  {
   "cell_type": "markdown",
   "metadata": {},
   "source": [
    "\n",
    "# Arguments"
   ]
  },
  {
   "cell_type": "code",
   "execution_count": 1,
   "metadata": {},
   "outputs": [
    {
     "name": "stdout",
     "output_type": "stream",
     "text": [
      "Classes:  ['Tomato___Tomato_mosaic_virus', 'Tomato___Early_blight', 'Tomato___Late_blight', 'Tomato___Leaf_Mold', 'Tomato___Bacterial_spot', 'Tomato___Target_Spot', 'Tomato___Tomato_Yellow_Leaf_Curl_Virus', 'Tomato___healthy', 'Tomato___Septoria_leaf_spot', 'Tomato___Two-spotted_spider_mite']\n",
      "10\n"
     ]
    }
   ],
   "source": [
    "num_of_epochs = 25\n",
    "batch_size = 32\n",
    "dataset_name = 'tomato-dataset'\n",
    "dataset_path = '../datasets/' + dataset_name\n",
    "model_save_path = 'model-warmup.h5'\n",
    "\n",
    "checkpoint_path = 'checkpoints-warmup.hdf5'\n",
    "\n",
    "input_width = 224\n",
    "input_height = 224\n",
    "input_depth = 3\n",
    "\n",
    "# Get classes\n",
    "import os\n",
    "import re\n",
    "classes = os.listdir(dataset_path)\n",
    "class_names = []\n",
    "\n",
    "for i in classes:\n",
    "    if(re.search(\"Tomato___\", i)):\n",
    "        class_names.append(i)\n",
    "    \n",
    "print('Classes: ', class_names)\n",
    "print(len(class_names))"
   ]
  },
  {
   "cell_type": "markdown",
   "metadata": {},
   "source": [
    "\n",
    "# Load model"
   ]
  },
  {
   "cell_type": "code",
   "execution_count": 2,
   "metadata": {},
   "outputs": [
    {
     "name": "stderr",
     "output_type": "stream",
     "text": [
      "Using TensorFlow backend.\n"
     ]
    }
   ],
   "source": [
    "from keras.applications import VGG16\n",
    "from keras.utils.vis_utils import plot_model\n",
    "from keras.layers import Input\n",
    "\n",
    "\n",
    "\n",
    "# Load pretrianed VGG model with FC layers removed\n",
    "# explicitly deﬁne the input_tensor to be 224×224×3 pixels\n",
    "base_model = VGG16(weights='imagenet',include_top=False,\n",
    "                  input_tensor=Input(shape = (input_width,input_height, input_depth)))\n",
    "\n",
    "# plot_save_path = 'diagram-base-vgg16.png'\n",
    "# plot_model(base_model, to_file=model_diagram_path, show_shapes=True)"
   ]
  },
  {
   "cell_type": "markdown",
   "metadata": {},
   "source": [
    "# Custom FC layer"
   ]
  },
  {
   "cell_type": "code",
   "execution_count": 3,
   "metadata": {},
   "outputs": [],
   "source": [
    "from keras.layers.core import Dropout\n",
    "from keras.layers.core import Flatten\n",
    "from keras.layers.core import Dense\n",
    "\n",
    "head_model = base_model.output\n",
    "head_model = Flatten(name='flatten')(head_model)\n",
    "head_model = Dense(256,activation='relu')(head_model)\n",
    "head_model = Dropout(0.5)(head_model)\n",
    "# Add a softmaxc layer\n",
    "head_model = Dense(len(class_names),activation='softmax')(head_model)\n",
    "\n",
    "# plot_save_path = 'custom-head.png'\n",
    "# plot_model(head_model, to_file=model_diagram_path, show_shapes=True)"
   ]
  },
  {
   "cell_type": "markdown",
   "metadata": {},
   "source": [
    "# Attach custom head to model"
   ]
  },
  {
   "cell_type": "code",
   "execution_count": 4,
   "metadata": {},
   "outputs": [],
   "source": [
    "from keras.models import Model\n",
    "\n",
    "\n",
    "# place the head FC model on top of the base model \n",
    "model = Model(inputs=base_model.input, outputs = head_model)\n",
    "\n",
    "# freeze weights in base model\n",
    "for layer in base_model.layers:\n",
    "    layer.trainable = False\n",
    "\n",
    "# plot_save_path = 'diagram-vgg16-head-attached.png'\n",
    "# plot_model(model, to_file=model_diagram_path, show_shapes=True)"
   ]
  },
  {
   "cell_type": "markdown",
   "metadata": {},
   "source": [
    "# Freeze base model"
   ]
  },
  {
   "cell_type": "code",
   "execution_count": 5,
   "metadata": {},
   "outputs": [],
   "source": [
    "# traverse all layers and freeze the weight of the corresponding layer\n",
    "for layer in base_model.layers:\n",
    "    layer.trainable = False"
   ]
  },
  {
   "cell_type": "markdown",
   "metadata": {},
   "source": [
    "# Compile model"
   ]
  },
  {
   "cell_type": "code",
   "execution_count": 6,
   "metadata": {},
   "outputs": [
    {
     "name": "stdout",
     "output_type": "stream",
     "text": [
      "[INFO] compiling model...\n",
      "[INFO] training head...\n"
     ]
    }
   ],
   "source": [
    "from keras.optimizers import RMSprop\n",
    "\n",
    "print(\"[INFO] compiling model...\")\n",
    "opt = RMSprop(lr=0.001)\n",
    "\n",
    "model.compile(loss=\"categorical_crossentropy\", optimizer=opt,metrics=[\"accuracy\"])\n",
    "# Since we only train the new fully connected layer, we do a few iterations\n",
    "print(\"[INFO] training head...\")"
   ]
  },
  {
   "cell_type": "markdown",
   "metadata": {},
   "source": [
    "# Load data"
   ]
  },
  {
   "cell_type": "code",
   "execution_count": 7,
   "metadata": {},
   "outputs": [
    {
     "name": "stdout",
     "output_type": "stream",
     "text": [
      "[INFO] loading images...\n",
      "[INFO]: Processed 500/18160\n",
      "[INFO]: Processed 1000/18160\n",
      "[INFO]: Processed 1500/18160\n",
      "[INFO]: Processed 2000/18160\n",
      "[INFO]: Processed 2500/18160\n",
      "[INFO]: Processed 3000/18160\n",
      "[INFO]: Processed 3500/18160\n",
      "[INFO]: Processed 4000/18160\n",
      "[INFO]: Processed 4500/18160\n",
      "[INFO]: Processed 5000/18160\n",
      "[INFO]: Processed 5500/18160\n",
      "[INFO]: Processed 6000/18160\n",
      "[INFO]: Processed 6500/18160\n",
      "[INFO]: Processed 7000/18160\n",
      "[INFO]: Processed 7500/18160\n",
      "[INFO]: Processed 8000/18160\n",
      "[INFO]: Processed 8500/18160\n",
      "[INFO]: Processed 9000/18160\n",
      "[INFO]: Processed 9500/18160\n",
      "[INFO]: Processed 10000/18160\n",
      "[INFO]: Processed 10500/18160\n",
      "[INFO]: Processed 11000/18160\n",
      "[INFO]: Processed 11500/18160\n",
      "[INFO]: Processed 12000/18160\n",
      "[INFO]: Processed 12500/18160\n",
      "[INFO]: Processed 13000/18160\n",
      "[INFO]: Processed 13500/18160\n",
      "[INFO]: Processed 14000/18160\n",
      "[INFO]: Processed 14500/18160\n",
      "[INFO]: Processed 15000/18160\n",
      "[INFO]: Processed 15500/18160\n",
      "[INFO]: Processed 16000/18160\n",
      "[INFO]: Processed 16500/18160\n",
      "[INFO]: Processed 17000/18160\n",
      "[INFO]: Processed 17500/18160\n",
      "[INFO]: Processed 18000/18160\n"
     ]
    }
   ],
   "source": [
    "from sklearn.preprocessing import LabelBinarizer\n",
    "from sklearn.model_selection import train_test_split\n",
    "from sklearn.metrics import classification_report\n",
    "from keras.preprocessing.image   import ImageDataGenerator\n",
    "from keras.optimizers import RMSprop\n",
    "from keras.layers import Input\n",
    "from keras.models import Model\n",
    "from keras .applications import VGG16\n",
    "from keras.optimizers import SGD\n",
    "from keras.models import Model\n",
    "from imutils import paths\n",
    "import numpy as np\n",
    "import os\n",
    "\n",
    "import sys\n",
    "sys.path.append('..')\n",
    "\n",
    "from utils.preprocessors.aspect_aware_preprocessor import AspectAwarePreprocessor\n",
    "from utils.preprocessors.image_to_array_preprocessor import ImageToArrayPreprocessor\n",
    "from utils.io.simple_dataset_loader import SimpleDatasetLoader\n",
    "\n",
    "# construct the image generator for data augmentation\n",
    "aug = ImageDataGenerator(   rotation_range=30,\n",
    "                            width_shift_range=0.1,\n",
    "                            height_shift_range=0.1,\n",
    "                            shear_range=0.2,\n",
    "                            zoom_range=0.2,\n",
    "                            horizontal_flip=True,\n",
    "                            fill_mode='nearest')\n",
    "\n",
    "# Load image paths\n",
    "print(\"[INFO] loading images...\")\n",
    "image_paths = list(paths.list_images(dataset_path))\n",
    "\n",
    "# Initial image preprocessing\n",
    "aap = AspectAwarePreprocessor(input_width, input_height)\n",
    "iap= ImageToArrayPreprocessor()\n",
    "\n",
    "#Load image data and perform image data preprocessing\n",
    "sdl = SimpleDatasetLoader(preprocessors=[aap,iap])\n",
    "(data,labels)  = sdl.load(image_paths,verbose=500)\n",
    "data = data.astype(\"float\") / 255.0\n",
    "\n",
    "\n",
    "# train test split\n",
    "(train_x,test_x,train_y,test_y) = train_test_split(data,labels,test_size=0.25,random_state=42)\n",
    "\n",
    "# convert the labels from integers to vectors\n",
    "train_y = LabelBinarizer().fit_transform(train_y)\n",
    "test_y = LabelBinarizer().fit_transform(test_y)\n",
    "\n"
   ]
  },
  {
   "cell_type": "markdown",
   "metadata": {},
   "source": [
    "# Checkpoints"
   ]
  },
  {
   "cell_type": "code",
   "execution_count": 8,
   "metadata": {},
   "outputs": [],
   "source": [
    "from keras.callbacks import ModelCheckpoint\n",
    "\n",
    "\n",
    "checkpoint = ModelCheckpoint(checkpoint_path, monitor='val_loss', mode='min', \n",
    "save_best_only=True, verbose=1)\n",
    "\n",
    "callbacks = [checkpoint]\n",
    "\n"
   ]
  },
  {
   "cell_type": "code",
   "execution_count": 9,
   "metadata": {},
   "outputs": [],
   "source": [
    "#load checkpoints if existing\n",
    "\n",
    "import os\n",
    "\n",
    "epochs_done = 1\n",
    "\n",
    "if(os.path.exists(checkpoint_path)):\n",
    "    model.load_weights(checkpoint_path)\n",
    "    num_of_epochs = num_of_epochs - epochs_done\n"
   ]
  },
  {
   "cell_type": "markdown",
   "metadata": {},
   "source": [
    "# Training monitor"
   ]
  },
  {
   "cell_type": "code",
   "execution_count": 10,
   "metadata": {},
   "outputs": [],
   "source": [
    "from utils.callbacks.training_monitor import TrainingMonitor\n",
    "import pathlib\n",
    "\n",
    "start_epoch = 0\n",
    "fig_path = \"plot_warmup.png\"\n",
    "json_path = \"values_warmup.json\"\n",
    "\n",
    "callbacks.append(TrainingMonitor(fig_path, json_path, start_epoch))"
   ]
  },
  {
   "cell_type": "markdown",
   "metadata": {},
   "source": [
    "# Warm up head"
   ]
  },
  {
   "cell_type": "code",
   "execution_count": 11,
   "metadata": {},
   "outputs": [
    {
     "name": "stdout",
     "output_type": "stream",
     "text": [
      "Epoch 1/25\n",
      "425/425 [==============================] - 207s 487ms/step - loss: 1.7115 - accuracy: 0.4782 - val_loss: 0.8306 - val_accuracy: 0.7203\n",
      "\n",
      "Epoch 00001: val_loss improved from inf to 0.83059, saving model to checkpoints-warmup.hdf5\n",
      "Epoch 2/25\n",
      "425/425 [==============================] - 199s 469ms/step - loss: 1.1569 - accuracy: 0.6021 - val_loss: 0.6740 - val_accuracy: 0.7769\n",
      "\n",
      "Epoch 00002: val_loss improved from 0.83059 to 0.67396, saving model to checkpoints-warmup.hdf5\n",
      "Epoch 3/25\n",
      "425/425 [==============================] - 200s 470ms/step - loss: 1.0668 - accuracy: 0.6342 - val_loss: 0.6333 - val_accuracy: 0.7795\n",
      "\n",
      "Epoch 00003: val_loss improved from 0.67396 to 0.63327, saving model to checkpoints-warmup.hdf5\n",
      "Epoch 4/25\n",
      "425/425 [==============================] - 200s 470ms/step - loss: 0.9906 - accuracy: 0.6661 - val_loss: 0.4978 - val_accuracy: 0.8469\n",
      "\n",
      "Epoch 00004: val_loss improved from 0.63327 to 0.49780, saving model to checkpoints-warmup.hdf5\n",
      "Epoch 5/25\n",
      "425/425 [==============================] - 201s 472ms/step - loss: 0.9552 - accuracy: 0.6731 - val_loss: 0.5316 - val_accuracy: 0.8366\n",
      "\n",
      "Epoch 00005: val_loss did not improve from 0.49780\n",
      "Epoch 6/25\n",
      "425/425 [==============================] - 201s 473ms/step - loss: 0.9542 - accuracy: 0.6786 - val_loss: 0.5639 - val_accuracy: 0.8055\n",
      "\n",
      "Epoch 00006: val_loss did not improve from 0.49780\n",
      "Epoch 7/25\n",
      "425/425 [==============================] - 201s 472ms/step - loss: 0.9368 - accuracy: 0.6867 - val_loss: 0.5223 - val_accuracy: 0.8359\n",
      "\n",
      "Epoch 00007: val_loss did not improve from 0.49780\n",
      "Epoch 8/25\n",
      "425/425 [==============================] - 200s 471ms/step - loss: 0.9428 - accuracy: 0.6868 - val_loss: 0.5031 - val_accuracy: 0.8414\n",
      "\n",
      "Epoch 00008: val_loss did not improve from 0.49780\n",
      "Epoch 9/25\n",
      "425/425 [==============================] - 197s 464ms/step - loss: 0.9162 - accuracy: 0.6947 - val_loss: 0.6106 - val_accuracy: 0.7811\n",
      "\n",
      "Epoch 00009: val_loss did not improve from 0.49780\n",
      "Epoch 10/25\n",
      "425/425 [==============================] - 195s 459ms/step - loss: 0.9116 - accuracy: 0.7030 - val_loss: 0.5787 - val_accuracy: 0.8141\n",
      "\n",
      "Epoch 00010: val_loss did not improve from 0.49780\n",
      "Epoch 11/25\n",
      "425/425 [==============================] - 196s 461ms/step - loss: 0.9169 - accuracy: 0.6979 - val_loss: 0.5871 - val_accuracy: 0.7987\n",
      "\n",
      "Epoch 00011: val_loss did not improve from 0.49780\n",
      "Epoch 12/25\n",
      "425/425 [==============================] - 194s 458ms/step - loss: 0.9344 - accuracy: 0.6966 - val_loss: 0.5330 - val_accuracy: 0.8368\n",
      "\n",
      "Epoch 00012: val_loss did not improve from 0.49780\n",
      "Epoch 13/25\n",
      "425/425 [==============================] - 195s 459ms/step - loss: 0.9593 - accuracy: 0.6950 - val_loss: 0.5090 - val_accuracy: 0.8401\n",
      "\n",
      "Epoch 00013: val_loss did not improve from 0.49780\n",
      "Epoch 14/25\n",
      "425/425 [==============================] - 195s 458ms/step - loss: 0.9270 - accuracy: 0.7086 - val_loss: 0.5111 - val_accuracy: 0.8493\n",
      "\n",
      "Epoch 00014: val_loss did not improve from 0.49780\n",
      "Epoch 15/25\n",
      "425/425 [==============================] - 195s 459ms/step - loss: 0.9346 - accuracy: 0.7048 - val_loss: 0.5511 - val_accuracy: 0.8313\n",
      "\n",
      "Epoch 00015: val_loss did not improve from 0.49780\n",
      "Epoch 16/25\n",
      "425/425 [==============================] - 195s 460ms/step - loss: 0.9237 - accuracy: 0.7081 - val_loss: 0.4831 - val_accuracy: 0.8489\n",
      "\n",
      "Epoch 00016: val_loss improved from 0.49780 to 0.48315, saving model to checkpoints-warmup.hdf5\n",
      "Epoch 17/25\n",
      "425/425 [==============================] - 195s 460ms/step - loss: 0.9243 - accuracy: 0.7013 - val_loss: 0.4941 - val_accuracy: 0.8515\n",
      "\n",
      "Epoch 00017: val_loss did not improve from 0.48315\n",
      "Epoch 18/25\n",
      "425/425 [==============================] - 194s 456ms/step - loss: 0.9676 - accuracy: 0.7003 - val_loss: 0.4930 - val_accuracy: 0.8443\n",
      "\n",
      "Epoch 00018: val_loss did not improve from 0.48315\n",
      "Epoch 19/25\n",
      "425/425 [==============================] - 193s 455ms/step - loss: 0.9528 - accuracy: 0.7006 - val_loss: 0.5634 - val_accuracy: 0.8264\n",
      "\n",
      "Epoch 00019: val_loss did not improve from 0.48315\n",
      "Epoch 20/25\n",
      "425/425 [==============================] - 193s 455ms/step - loss: 0.9363 - accuracy: 0.7018 - val_loss: 0.5493 - val_accuracy: 0.8300\n",
      "\n",
      "Epoch 00020: val_loss did not improve from 0.48315\n",
      "Epoch 21/25\n",
      "425/425 [==============================] - 194s 456ms/step - loss: 0.9584 - accuracy: 0.7043 - val_loss: 0.5771 - val_accuracy: 0.8211\n",
      "\n",
      "Epoch 00021: val_loss did not improve from 0.48315\n",
      "Epoch 22/25\n",
      "425/425 [==============================] - 194s 458ms/step - loss: 0.9793 - accuracy: 0.7061 - val_loss: 0.5267 - val_accuracy: 0.8381\n",
      "\n",
      "Epoch 00022: val_loss did not improve from 0.48315\n",
      "Epoch 23/25\n",
      "425/425 [==============================] - 192s 453ms/step - loss: 0.9882 - accuracy: 0.7022 - val_loss: 0.6267 - val_accuracy: 0.8236\n",
      "\n",
      "Epoch 00023: val_loss did not improve from 0.48315\n",
      "Epoch 24/25\n",
      "425/425 [==============================] - 195s 459ms/step - loss: 0.9968 - accuracy: 0.7048 - val_loss: 0.5100 - val_accuracy: 0.8491\n",
      "\n",
      "Epoch 00024: val_loss did not improve from 0.48315\n",
      "Epoch 25/25\n",
      "425/425 [==============================] - 191s 450ms/step - loss: 0.9698 - accuracy: 0.7032 - val_loss: 0.5952 - val_accuracy: 0.8229\n",
      "\n",
      "Epoch 00025: val_loss did not improve from 0.48315\n"
     ]
    }
   ],
   "source": [
    "\n",
    "\n",
    "model.fit_generator(\n",
    "    aug.flow(train_x,train_y, batch_size = 32),\n",
    "             validation_data = (test_x,test_y),\n",
    "             epochs=num_of_epochs,\n",
    "             steps_per_epoch = len(train_x) //32,\n",
    "             verbose = 1,\n",
    "             callbacks=callbacks)\n",
    "\n",
    "model.save(model_save_path)"
   ]
  },
  {
   "cell_type": "markdown",
   "metadata": {},
   "source": [
    "# Evaluate after warmup"
   ]
  },
  {
   "cell_type": "code",
   "execution_count": 12,
   "metadata": {},
   "outputs": [
    {
     "name": "stdout",
     "output_type": "stream",
     "text": [
      "[INFO] evaluating after initialization...\n",
      "                                        precision    recall  f1-score   support\n",
      "\n",
      "          Tomato___Tomato_mosaic_virus       0.91      0.89      0.90       532\n",
      "                 Tomato___Early_blight       0.67      0.09      0.16       239\n",
      "                  Tomato___Late_blight       0.83      0.80      0.82       470\n",
      "                    Tomato___Leaf_Mold       0.79      0.66      0.72       238\n",
      "               Tomato___Bacterial_spot       0.88      0.79      0.83       435\n",
      "                  Tomato___Target_Spot       0.43      0.67      0.52       362\n",
      "Tomato___Tomato_Yellow_Leaf_Curl_Virus       0.99      0.95      0.97      1355\n",
      "                      Tomato___healthy       0.89      0.74      0.81        98\n",
      "           Tomato___Septoria_leaf_spot       0.64      0.95      0.76       414\n",
      "      Tomato___Two-spotted_spider_mite       0.97      0.91      0.94       397\n",
      "\n",
      "                           avg / total       0.84      0.82      0.82      4540\n",
      "\n"
     ]
    }
   ],
   "source": [
    "from sklearn.metrics import classification_report\n",
    "\n",
    "print(\"[INFO] evaluating after initialization...\")\n",
    "predictions = model.predict(test_x,batch_size=32)\n",
    "print(classification_report(test_y.argmax(axis =1),\n",
    "                            predictions.argmax(axis =1),target_names=class_names))"
   ]
  }
 ],
 "metadata": {
  "file_extension": ".py",
  "kernelspec": {
   "display_name": "Python 3",
   "language": "python",
   "name": "python3"
  },
  "language_info": {
   "codemirror_mode": {
    "name": "ipython",
    "version": 3
   },
   "file_extension": ".py",
   "mimetype": "text/x-python",
   "name": "python",
   "nbconvert_exporter": "python",
   "pygments_lexer": "ipython3",
   "version": "3.5.3"
  },
  "mimetype": "text/x-python",
  "name": "python",
  "npconvert_exporter": "python",
  "pygments_lexer": "ipython3",
  "version": 3
 },
 "nbformat": 4,
 "nbformat_minor": 4
}

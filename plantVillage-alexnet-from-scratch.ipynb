{
 "nbformat": 4,
 "nbformat_minor": 2,
 "metadata": {
  "language_info": {
   "name": "python",
   "codemirror_mode": {
    "name": "ipython",
    "version": 3
   },
   "version": "3.7.3-final"
  },
  "orig_nbformat": 2,
  "file_extension": ".py",
  "mimetype": "text/x-python",
  "name": "python",
  "npconvert_exporter": "python",
  "pygments_lexer": "ipython3",
  "version": 3,
  "kernelspec": {
   "name": "python3",
   "display_name": "Python 3"
  }
 },
 "cells": [
  {
   "cell_type": "markdown",
   "execution_count": null,
   "metadata": {},
   "outputs": [],
   "source": [
    "# Install packages"
   ]
  },
  {
   "cell_type": "code",
   "execution_count": 23,
   "metadata": {},
   "outputs": [
    {
     "name": "stdout",
     "output_type": "stream",
     "text": "Requirement already satisfied: imutils in /Users/praveenmuthukumarana/anaconda3/lib/python3.7/site-packages (0.5.3)\nRequirement already satisfied: opencv-python in /Users/praveenmuthukumarana/anaconda3/lib/python3.7/site-packages (4.2.0.32)\nRequirement already satisfied: numpy>=1.14.5 in /Users/praveenmuthukumarana/anaconda3/lib/python3.7/site-packages (from opencv-python) (1.16.4)\n/bin/sh: apt-get: command not found\n/bin/sh: pip3 install graphviz==0.5.2: command not found\n/bin/sh: pip3 install pydot-ng==1.0.0: command not found\n"
    }
   ],
   "source": [
    "!pip install imutils\n",
    "!pip install opencv-python\n",
    "\n",
    "!apt-get install graphviz\n",
    "\n",
    "!pip3 install graphviz==0.5.2\n",
    "!pip3 install pydot-ng==1.0.0"
   ]
  },
  {
   "cell_type": "markdown",
   "execution_count": null,
   "metadata": {},
   "outputs": [],
   "source": [
    "# Load dataset"
   ]
  },
  {
   "cell_type": "code",
   "execution_count": 26,
   "metadata": {},
   "outputs": [
    {
     "name": "stdout",
     "output_type": "stream",
     "text": "[INFO]: Processed 500/54305\n[INFO]: Processed 1000/54305\n[INFO]: Processed 1500/54305\n[INFO]: Processed 2000/54305\n[INFO]: Processed 2500/54305\n[INFO]: Processed 3000/54305\n[INFO]: Processed 3500/54305\n[INFO]: Processed 4000/54305\n[INFO]: Processed 4500/54305\n[INFO]: Processed 5000/54305\n[INFO]: Processed 5500/54305\n[INFO]: Processed 6000/54305\n[INFO]: Processed 6500/54305\n[INFO]: Processed 7000/54305\n[INFO]: Processed 7500/54305\n[INFO]: Processed 8000/54305\n[INFO]: Processed 8500/54305\n[INFO]: Processed 9000/54305\n[INFO]: Processed 9500/54305\n[INFO]: Processed 10000/54305\n[INFO]: Processed 10500/54305\n[INFO]: Processed 11000/54305\n[INFO]: Processed 11500/54305\n[INFO]: Processed 12000/54305\n[INFO]: Processed 12500/54305\n[INFO]: Processed 13000/54305\n[INFO]: Processed 13500/54305\n[INFO]: Processed 14000/54305\n[INFO]: Processed 14500/54305\n[INFO]: Processed 15000/54305\n[INFO]: Processed 15500/54305\n[INFO]: Processed 16000/54305\n[INFO]: Processed 16500/54305\n[INFO]: Processed 17000/54305\n[INFO]: Processed 17500/54305\n[INFO]: Processed 18000/54305\n[INFO]: Processed 18500/54305\n[INFO]: Processed 19000/54305\n[INFO]: Processed 19500/54305\n[INFO]: Processed 20000/54305\n[INFO]: Processed 20500/54305\n[INFO]: Processed 21000/54305\n[INFO]: Processed 21500/54305\n[INFO]: Processed 22000/54305\n[INFO]: Processed 22500/54305\n[INFO]: Processed 23000/54305\n[INFO]: Processed 23500/54305\n[INFO]: Processed 24000/54305\n[INFO]: Processed 24500/54305\n[INFO]: Processed 25000/54305\n[INFO]: Processed 25500/54305\n[INFO]: Processed 26000/54305\n[INFO]: Processed 26500/54305\n[INFO]: Processed 27000/54305\n[INFO]: Processed 27500/54305\n[INFO]: Processed 28000/54305\n[INFO]: Processed 28500/54305\n[INFO]: Processed 29000/54305\n[INFO]: Processed 29500/54305\n[INFO]: Processed 30000/54305\n[INFO]: Processed 30500/54305\n[INFO]: Processed 31000/54305\n[INFO]: Processed 31500/54305\n[INFO]: Processed 32000/54305\n[INFO]: Processed 32500/54305\n[INFO]: Processed 33000/54305\n[INFO]: Processed 33500/54305\n[INFO]: Processed 34000/54305\n[INFO]: Processed 34500/54305\n[INFO]: Processed 35000/54305\n[INFO]: Processed 35500/54305\n[INFO]: Processed 36000/54305\n[INFO]: Processed 36500/54305\n[INFO]: Processed 37000/54305\n[INFO]: Processed 37500/54305\n[INFO]: Processed 38000/54305\n[INFO]: Processed 38500/54305\n[INFO]: Processed 39000/54305\n[INFO]: Processed 39500/54305\n[INFO]: Processed 40000/54305\n[INFO]: Processed 40500/54305\n[INFO]: Processed 41000/54305\n[INFO]: Processed 41500/54305\n[INFO]: Processed 42000/54305\n[INFO]: Processed 42500/54305\n[INFO]: Processed 43000/54305\n[INFO]: Processed 43500/54305\n[INFO]: Processed 44000/54305\n[INFO]: Processed 44500/54305\n[INFO]: Processed 45000/54305\n[INFO]: Processed 45500/54305\n[INFO]: Processed 46000/54305\n[INFO]: Processed 46500/54305\n[INFO]: Processed 47000/54305\n[INFO]: Processed 47500/54305\n[INFO]: Processed 48000/54305\n[INFO]: Processed 48500/54305\n[INFO]: Processed 49000/54305\n[INFO]: Processed 49500/54305\n[INFO]: Processed 50000/54305\n[INFO]: Processed 50500/54305\n[INFO]: Processed 51000/54305\n[INFO]: Processed 51500/54305\n[INFO]: Processed 52000/54305\n[INFO]: Processed 52500/54305\n[INFO]: Processed 53000/54305\n[INFO]: Processed 53500/54305\n[INFO]: Processed 54000/54305\n"
    }
   ],
   "source": [
    "from imutils import paths\n",
    "import os\n",
    "import numpy as np\n",
    "from utils.preprocessors.aspect_aware_preprocessor import AspectAwarePreprocessor\n",
    "from utils.preprocessors.image_to_array_preprocessor import ImageToArrayPreprocessor\n",
    "from utils.io.simple_dataset_loader import SimpleDatasetLoader\n",
    "\n",
    "\n",
    "dataset_path = './datasets/plantVillage-full-mohanty'\n",
    "\n",
    "# Get the list of image names\n",
    "image_paths = list(paths.list_images(dataset_path))\n",
    "# Get unique classnames\n",
    "classNames = [pt.split(os.path.sep)[-2] for pt in image_paths]\n",
    "classNames = [str(x) for x in np.unique(classNames)]\n",
    "\n",
    "# Preprocessors\n",
    "aap = AspectAwarePreprocessor(32, 32)\n",
    "itap = ImageToArrayPreprocessor()\n",
    "\n",
    "# Add preprocessors to DataSetLoader class\n",
    "sdl = SimpleDatasetLoader(preprocessors=[aap, itap])\n",
    "\n",
    "(data, labels) = sdl.load(image_paths, verbose=500)\n",
    "data = data.astype('float') / 255.0\n"
   ]
  },
  {
   "cell_type": "markdown",
   "execution_count": null,
   "metadata": {},
   "outputs": [],
   "source": [
    "# Encode labels and split dataset"
   ]
  },
  {
   "cell_type": "code",
   "execution_count": 28,
   "metadata": {},
   "outputs": [],
   "source": [
    "from sklearn.preprocessing import LabelBinarizer\n",
    "from sklearn.model_selection import train_test_split\n",
    "\n",
    "# Split data into training (75%) and testing (25%) data\n",
    "(train_x, test_x, train_y, test_y) = train_test_split(data, labels,\n",
    "test_size=0.25, random_state=42)\n",
    "\n",
    "# Convert the labels from integers to vectors\n",
    "lb = LabelBinarizer()\n",
    "train_y = lb.fit_transform(train_y)\n",
    "test_y = lb.transform(test_y)\n"
   ]
  },
  {
   "cell_type": "markdown",
   "execution_count": null,
   "metadata": {},
   "outputs": [],
   "source": [
    "# Initialize AlexNet Model"
   ]
  },
  {
   "cell_type": "code",
   "execution_count": 29,
   "metadata": {},
   "outputs": [
    {
     "name": "stdout",
     "output_type": "stream",
     "text": "_________________________________________________________________\nLayer (type)                 Output Shape              Param #   \n=================================================================\nconv2d_16 (Conv2D)           (None, 55, 55, 96)        34944     \n_________________________________________________________________\nactivation_28 (Activation)   (None, 55, 55, 96)        0         \n_________________________________________________________________\nmax_pooling2d_10 (MaxPooling (None, 27, 27, 96)        0         \n_________________________________________________________________\nconv2d_17 (Conv2D)           (None, 17, 17, 256)       2973952   \n_________________________________________________________________\nactivation_29 (Activation)   (None, 17, 17, 256)       0         \n_________________________________________________________________\nmax_pooling2d_11 (MaxPooling (None, 8, 8, 256)         0         \n_________________________________________________________________\nconv2d_18 (Conv2D)           (None, 6, 6, 384)         885120    \n_________________________________________________________________\nactivation_30 (Activation)   (None, 6, 6, 384)         0         \n_________________________________________________________________\nconv2d_19 (Conv2D)           (None, 4, 4, 384)         1327488   \n_________________________________________________________________\nactivation_31 (Activation)   (None, 4, 4, 384)         0         \n_________________________________________________________________\nconv2d_20 (Conv2D)           (None, 2, 2, 256)         884992    \n_________________________________________________________________\nactivation_32 (Activation)   (None, 2, 2, 256)         0         \n_________________________________________________________________\nmax_pooling2d_12 (MaxPooling (None, 1, 1, 256)         0         \n_________________________________________________________________\nflatten_4 (Flatten)          (None, 256)               0         \n_________________________________________________________________\ndense_13 (Dense)             (None, 4096)              1052672   \n_________________________________________________________________\nactivation_33 (Activation)   (None, 4096)              0         \n_________________________________________________________________\ndropout_10 (Dropout)         (None, 4096)              0         \n_________________________________________________________________\ndense_14 (Dense)             (None, 4096)              16781312  \n_________________________________________________________________\nactivation_34 (Activation)   (None, 4096)              0         \n_________________________________________________________________\ndropout_11 (Dropout)         (None, 4096)              0         \n_________________________________________________________________\ndense_15 (Dense)             (None, 1000)              4097000   \n_________________________________________________________________\nactivation_35 (Activation)   (None, 1000)              0         \n_________________________________________________________________\ndropout_12 (Dropout)         (None, 1000)              0         \n_________________________________________________________________\ndense_16 (Dense)             (None, 17)                17017     \n_________________________________________________________________\nactivation_36 (Activation)   (None, 17)                0         \n=================================================================\nTotal params: 28,054,497\nTrainable params: 28,054,497\nNon-trainable params: 0\n_________________________________________________________________\n"
    },
    {
     "ename": "ImportError",
     "evalue": "Failed to import `pydot`. Please install `pydot`. For example with `pip install pydot`.",
     "output_type": "error",
     "traceback": [
      "\u001b[0;31m---------------------------------------------------------------------------\u001b[0m",
      "\u001b[0;31mImportError\u001b[0m                               Traceback (most recent call last)",
      "\u001b[0;32m<ipython-input-29-e5c40559084e>\u001b[0m in \u001b[0;36m<module>\u001b[0;34m\u001b[0m\n\u001b[1;32m      4\u001b[0m \u001b[0mmodel\u001b[0m \u001b[0;34m=\u001b[0m \u001b[0malexnet\u001b[0m\u001b[0;34m(\u001b[0m\u001b[0;34m)\u001b[0m\u001b[0;34m\u001b[0m\u001b[0;34m\u001b[0m\u001b[0m\n\u001b[1;32m      5\u001b[0m \u001b[0mmodel\u001b[0m\u001b[0;34m.\u001b[0m\u001b[0msummary\u001b[0m\u001b[0;34m(\u001b[0m\u001b[0;34m)\u001b[0m\u001b[0;34m\u001b[0m\u001b[0;34m\u001b[0m\u001b[0m\n\u001b[0;32m----> 6\u001b[0;31m \u001b[0mplot_model\u001b[0m\u001b[0;34m(\u001b[0m\u001b[0mmodel\u001b[0m\u001b[0;34m,\u001b[0m \u001b[0mto_file\u001b[0m\u001b[0;34m=\u001b[0m\u001b[0;34m\"alex.png\"\u001b[0m\u001b[0;34m,\u001b[0m \u001b[0mshow_shapes\u001b[0m\u001b[0;34m=\u001b[0m\u001b[0;32mTrue\u001b[0m\u001b[0;34m)\u001b[0m\u001b[0;34m\u001b[0m\u001b[0;34m\u001b[0m\u001b[0m\n\u001b[0m\u001b[1;32m      7\u001b[0m \u001b[0;34m\u001b[0m\u001b[0m\n\u001b[1;32m      8\u001b[0m \u001b[0;31m# copile model\u001b[0m\u001b[0;34m\u001b[0m\u001b[0;34m\u001b[0m\u001b[0;34m\u001b[0m\u001b[0m\n",
      "\u001b[0;32m~/anaconda3/lib/python3.7/site-packages/keras/utils/vis_utils.py\u001b[0m in \u001b[0;36mplot_model\u001b[0;34m(model, to_file, show_shapes, show_layer_names, rankdir)\u001b[0m\n\u001b[1;32m    130\u001b[0m             \u001b[0;34m'LR'\u001b[0m \u001b[0mcreates\u001b[0m \u001b[0ma\u001b[0m \u001b[0mhorizontal\u001b[0m \u001b[0mplot\u001b[0m\u001b[0;34m.\u001b[0m\u001b[0;34m\u001b[0m\u001b[0;34m\u001b[0m\u001b[0m\n\u001b[1;32m    131\u001b[0m     \"\"\"\n\u001b[0;32m--> 132\u001b[0;31m     \u001b[0mdot\u001b[0m \u001b[0;34m=\u001b[0m \u001b[0mmodel_to_dot\u001b[0m\u001b[0;34m(\u001b[0m\u001b[0mmodel\u001b[0m\u001b[0;34m,\u001b[0m \u001b[0mshow_shapes\u001b[0m\u001b[0;34m,\u001b[0m \u001b[0mshow_layer_names\u001b[0m\u001b[0;34m,\u001b[0m \u001b[0mrankdir\u001b[0m\u001b[0;34m)\u001b[0m\u001b[0;34m\u001b[0m\u001b[0;34m\u001b[0m\u001b[0m\n\u001b[0m\u001b[1;32m    133\u001b[0m     \u001b[0m_\u001b[0m\u001b[0;34m,\u001b[0m \u001b[0mextension\u001b[0m \u001b[0;34m=\u001b[0m \u001b[0mos\u001b[0m\u001b[0;34m.\u001b[0m\u001b[0mpath\u001b[0m\u001b[0;34m.\u001b[0m\u001b[0msplitext\u001b[0m\u001b[0;34m(\u001b[0m\u001b[0mto_file\u001b[0m\u001b[0;34m)\u001b[0m\u001b[0;34m\u001b[0m\u001b[0;34m\u001b[0m\u001b[0m\n\u001b[1;32m    134\u001b[0m     \u001b[0;32mif\u001b[0m \u001b[0;32mnot\u001b[0m \u001b[0mextension\u001b[0m\u001b[0;34m:\u001b[0m\u001b[0;34m\u001b[0m\u001b[0;34m\u001b[0m\u001b[0m\n",
      "\u001b[0;32m~/anaconda3/lib/python3.7/site-packages/keras/utils/vis_utils.py\u001b[0m in \u001b[0;36mmodel_to_dot\u001b[0;34m(model, show_shapes, show_layer_names, rankdir)\u001b[0m\n\u001b[1;32m     53\u001b[0m     \u001b[0;32mfrom\u001b[0m \u001b[0;34m.\u001b[0m\u001b[0;34m.\u001b[0m\u001b[0mmodels\u001b[0m \u001b[0;32mimport\u001b[0m \u001b[0mSequential\u001b[0m\u001b[0;34m\u001b[0m\u001b[0;34m\u001b[0m\u001b[0m\n\u001b[1;32m     54\u001b[0m \u001b[0;34m\u001b[0m\u001b[0m\n\u001b[0;32m---> 55\u001b[0;31m     \u001b[0m_check_pydot\u001b[0m\u001b[0;34m(\u001b[0m\u001b[0;34m)\u001b[0m\u001b[0;34m\u001b[0m\u001b[0;34m\u001b[0m\u001b[0m\n\u001b[0m\u001b[1;32m     56\u001b[0m     \u001b[0mdot\u001b[0m \u001b[0;34m=\u001b[0m \u001b[0mpydot\u001b[0m\u001b[0;34m.\u001b[0m\u001b[0mDot\u001b[0m\u001b[0;34m(\u001b[0m\u001b[0;34m)\u001b[0m\u001b[0;34m\u001b[0m\u001b[0;34m\u001b[0m\u001b[0m\n\u001b[1;32m     57\u001b[0m     \u001b[0mdot\u001b[0m\u001b[0;34m.\u001b[0m\u001b[0mset\u001b[0m\u001b[0;34m(\u001b[0m\u001b[0;34m'rankdir'\u001b[0m\u001b[0;34m,\u001b[0m \u001b[0mrankdir\u001b[0m\u001b[0;34m)\u001b[0m\u001b[0;34m\u001b[0m\u001b[0;34m\u001b[0m\u001b[0m\n",
      "\u001b[0;32m~/anaconda3/lib/python3.7/site-packages/keras/utils/vis_utils.py\u001b[0m in \u001b[0;36m_check_pydot\u001b[0;34m()\u001b[0m\n\u001b[1;32m     18\u001b[0m     \u001b[0;32mif\u001b[0m \u001b[0mpydot\u001b[0m \u001b[0;32mis\u001b[0m \u001b[0;32mNone\u001b[0m\u001b[0;34m:\u001b[0m\u001b[0;34m\u001b[0m\u001b[0;34m\u001b[0m\u001b[0m\n\u001b[1;32m     19\u001b[0m         raise ImportError(\n\u001b[0;32m---> 20\u001b[0;31m             \u001b[0;34m'Failed to import `pydot`. '\u001b[0m\u001b[0;34m\u001b[0m\u001b[0;34m\u001b[0m\u001b[0m\n\u001b[0m\u001b[1;32m     21\u001b[0m             \u001b[0;34m'Please install `pydot`. '\u001b[0m\u001b[0;34m\u001b[0m\u001b[0;34m\u001b[0m\u001b[0m\n\u001b[1;32m     22\u001b[0m             'For example with `pip install pydot`.')\n",
      "\u001b[0;31mImportError\u001b[0m: Failed to import `pydot`. Please install `pydot`. For example with `pip install pydot`."
     ]
    }
   ],
   "source": [
    "from utils.models.alexnet import alexnet\n",
    "from keras.utils import plot_model\n",
    "\n",
    "model = alexnet()\n",
    "model.summary()\n",
    "plot_model(model, to_file=\"alex.png\", show_shapes=True)\n",
    "\n",
    "# compile model\n",
    "opt = SGD(lr=0.05)\n",
    "model.compile(loss=\"categorical_crossentropy\", optimizer=opt,\n",
    "              metrics=[\"accuracy\"])\n"
   ]
  },
  {
   "cell_type": "markdown",
   "execution_count": null,
   "metadata": {},
   "outputs": [],
   "source": [
    "# Fit model"
   ]
  },
  {
   "cell_type": "code",
   "execution_count": 0,
   "metadata": {},
   "outputs": [],
   "source": [
    "# train the network\n",
    "print(\"[INFO] training network...\")\n",
    "H = model.fit(trainX, trainY, validation_data=(testX, testY),\n",
    "              batch_size=32, epochs=100, verbose=1)\n",
    "\n",
    "model.save('alexnet_model.h5')"
   ]
  },
  {
   "cell_type": "markdown",
   "execution_count": null,
   "metadata": {},
   "outputs": [],
   "source": [
    "# Generate classfication report"
   ]
  },
  {
   "cell_type": "code",
   "execution_count": 0,
   "metadata": {},
   "outputs": [],
   "source": [
    "from sklearn.metrics import classification_report\n",
    "\n",
    "\n",
    "# If one hot encoding is used\n",
    "print(classification_report(test_y, model.predict(test_x),\n",
    "                            target_names=classNames))\n"
   ]
  },
  {
   "cell_type": "markdown",
   "execution_count": null,
   "metadata": {},
   "outputs": [],
   "source": [
    "# Plot model"
   ]
  },
  {
   "cell_type": "code",
   "execution_count": 0,
   "metadata": {},
   "outputs": [],
   "source": [
    "# plot the training loss and accuracy\n",
    "plt.style.use(\"ggplot\")\n",
    "plt.figure()\n",
    "plt.plot(np.arange(0, 100), H.history[\"loss\"], label=\"train_loss\")\n",
    "plt.plot(np.arange(0, 100), H.history[\"val_loss\"], label=\"val_loss\")\n",
    "plt.plot(np.arange(0, 100), H.history[\"acc\"], label=\"train_acc\")\n",
    "plt.plot(np.arange(0, 100), H.history[\"val_acc\"], label=\"val_acc\")\n",
    "plt.title(\"Training Loss and Accuracy\")\n",
    "plt.xlabel(\"Epoch #\")\n",
    "plt.ylabel(\"Loss/Accuracy\")\n",
    "plt.legend()\n",
    "plt.savefig(args[\"output\"])\n",
    "plt.show()"
   ]
  }
 ]
}
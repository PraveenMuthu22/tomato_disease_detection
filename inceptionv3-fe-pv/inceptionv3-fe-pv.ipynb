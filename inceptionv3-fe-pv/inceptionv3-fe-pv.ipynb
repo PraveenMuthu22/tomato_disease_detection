{
 "cells": [
  {
   "cell_type": "markdown",
   "metadata": {},
   "source": [
    "# Parameters"
   ]
  },
  {
   "cell_type": "code",
   "execution_count": 1,
   "metadata": {},
   "outputs": [
    {
     "name": "stdout",
     "output_type": "stream",
     "text": "Classes:  ['Tomato___Bacterial_spot', 'Tomato___Early_blight', 'Tomato___healthy']\n3\n"
    }
   ],
   "source": [
    "batch_size = 32\n",
    "dataset_name = 'plantVillage-test-mohanty'\n",
    "dataset_path = '../datasets/' + dataset_name\n",
    "model_diagram_path = 'inceptionv3-model-diagram.png'\n",
    "features_save_path = 'extracted-features.h5'\n",
    "\n",
    "buffer_size = 1000\n",
    "\n",
    "input_width = 229\n",
    "input_height = 229\n",
    "input_depth = 3\n",
    "\n",
    "output_width = 5\n",
    "output_height = 5\n",
    "output_depth = 2048\n",
    "\n",
    "\n",
    "import os\n",
    "import re\n",
    "classes = os.listdir(dataset_path)\n",
    "class_names = []\n",
    "\n",
    "for i in classes:\n",
    "    if(re.search(\"Tomato___\", i)):\n",
    "        class_names.append(i)\n",
    "    \n",
    "print('Classes: ', class_names)\n",
    "print(len(class_names))\n",
    "\n"
   ]
  },
  {
   "cell_type": "markdown",
   "metadata": {},
   "source": [
    "# Initialize model"
   ]
  },
  {
   "cell_type": "code",
   "execution_count": 6,
   "metadata": {},
   "outputs": [
    {
     "name": "stdout",
     "output_type": "stream",
     "text": "[0]              \n__________________________________________________________________________________________________\nconv2d_70 (Conv2D)              (None, 12, 12, 192)  147456      average_pooling2d_7[0][0]        \n__________________________________________________________________________________________________\nbatch_normalization_61 (BatchNo (None, 12, 12, 192)  576         conv2d_61[0][0]                  \n__________________________________________________________________________________________________\nbatch_normalization_64 (BatchNo (None, 12, 12, 192)  576         conv2d_64[0][0]                  \n__________________________________________________________________________________________________\nbatch_normalization_69 (BatchNo (None, 12, 12, 192)  576         conv2d_69[0][0]                  \n__________________________________________________________________________________________________\nbatch_normalization_70 (BatchNo (None, 12, 12, 192)  576         conv2d_70[0][0]                  \n__________________________________________________________________________________________________\nactivation_61 (Activation)      (None, 12, 12, 192)  0           batch_normalization_61[0][0]     \n__________________________________________________________________________________________________\nactivation_64 (Activation)      (None, 12, 12, 192)  0           batch_normalization_64[0][0]     \n__________________________________________________________________________________________________\nactivation_69 (Activation)      (None, 12, 12, 192)  0           batch_normalization_69[0][0]     \n__________________________________________________________________________________________________\nactivation_70 (Activation)      (None, 12, 12, 192)  0           batch_normalization_70[0][0]     \n__________________________________________________________________________________________________\nmixed7 (Concatenate)            (None, 12, 12, 768)  0           activation_61[0][0]              \n                                                                 activation_64[0][0]              \n                                                                 activation_69[0][0]              \n                                                                 activation_70[0][0]              \n__________________________________________________________________________________________________\nconv2d_73 (Conv2D)              (None, 12, 12, 192)  147456      mixed7[0][0]                     \n__________________________________________________________________________________________________\nbatch_normalization_73 (BatchNo (None, 12, 12, 192)  576         conv2d_73[0][0]                  \n__________________________________________________________________________________________________\nactivation_73 (Activation)      (None, 12, 12, 192)  0           batch_normalization_73[0][0]     \n__________________________________________________________________________________________________\nconv2d_74 (Conv2D)              (None, 12, 12, 192)  258048      activation_73[0][0]              \n__________________________________________________________________________________________________\nbatch_normalization_74 (BatchNo (None, 12, 12, 192)  576         conv2d_74[0][0]                  \n__________________________________________________________________________________________________\nactivation_74 (Activation)      (None, 12, 12, 192)  0           batch_normalization_74[0][0]     \n__________________________________________________________________________________________________\nconv2d_71 (Conv2D)              (None, 12, 12, 192)  147456      mixed7[0][0]                     \n__________________________________________________________________________________________________\nconv2d_75 (Conv2D)              (None, 12, 12, 192)  258048      activation_74[0][0]              \n__________________________________________________________________________________________________\nbatch_normalization_71 (BatchNo (None, 12, 12, 192)  576         conv2d_71[0][0]                  \n__________________________________________________________________________________________________\nbatch_normalization_75 (BatchNo (None, 12, 12, 192)  576         conv2d_75[0][0]                  \n__________________________________________________________________________________________________\nactivation_71 (Activation)      (None, 12, 12, 192)  0           batch_normalization_71[0][0]     \n__________________________________________________________________________________________________\nactivation_75 (Activation)      (None, 12, 12, 192)  0           batch_normalization_75[0][0]     \n__________________________________________________________________________________________________\nconv2d_72 (Conv2D)              (None, 5, 5, 320)    552960      activation_71[0][0]              \n__________________________________________________________________________________________________\nconv2d_76 (Conv2D)              (None, 5, 5, 192)    331776      activation_75[0][0]              \n__________________________________________________________________________________________________\nbatch_normalization_72 (BatchNo (None, 5, 5, 320)    960         conv2d_72[0][0]                  \n__________________________________________________________________________________________________\nbatch_normalization_76 (BatchNo (None, 5, 5, 192)    576         conv2d_76[0][0]                  \n__________________________________________________________________________________________________\nactivation_72 (Activation)      (None, 5, 5, 320)    0           batch_normalization_72[0][0]     \n__________________________________________________________________________________________________\nactivation_76 (Activation)      (None, 5, 5, 192)    0           batch_normalization_76[0][0]     \n__________________________________________________________________________________________________\nmax_pooling2d_4 (MaxPooling2D)  (None, 5, 5, 768)    0           mixed7[0][0]                     \n__________________________________________________________________________________________________\nmixed8 (Concatenate)            (None, 5, 5, 1280)   0           activation_72[0][0]              \n                                                                 activation_76[0][0]              \n                                                                 max_pooling2d_4[0][0]            \n__________________________________________________________________________________________________\nconv2d_81 (Conv2D)              (None, 5, 5, 448)    573440      mixed8[0][0]                     \n__________________________________________________________________________________________________\nbatch_normalization_81 (BatchNo (None, 5, 5, 448)    1344        conv2d_81[0][0]                  \n__________________________________________________________________________________________________\nactivation_81 (Activation)      (None, 5, 5, 448)    0           batch_normalization_81[0][0]     \n__________________________________________________________________________________________________\nconv2d_78 (Conv2D)              (None, 5, 5, 384)    491520      mixed8[0][0]                     \n__________________________________________________________________________________________________\nconv2d_82 (Conv2D)              (None, 5, 5, 384)    1548288     activation_81[0][0]              \n__________________________________________________________________________________________________\nbatch_normalization_78 (BatchNo (None, 5, 5, 384)    1152        conv2d_78[0][0]                  \n__________________________________________________________________________________________________\nbatch_normalization_82 (BatchNo (None, 5, 5, 384)    1152        conv2d_82[0][0]                  \n__________________________________________________________________________________________________\nactivation_78 (Activation)      (None, 5, 5, 384)    0           batch_normalization_78[0][0]     \n__________________________________________________________________________________________________\nactivation_82 (Activation)      (None, 5, 5, 384)    0           batch_normalization_82[0][0]     \n__________________________________________________________________________________________________\nconv2d_79 (Conv2D)              (None, 5, 5, 384)    442368      activation_78[0][0]              \n__________________________________________________________________________________________________\nconv2d_80 (Conv2D)              (None, 5, 5, 384)    442368      activation_78[0][0]              \n__________________________________________________________________________________________________\nconv2d_83 (Conv2D)              (None, 5, 5, 384)    442368      activation_82[0][0]              \n__________________________________________________________________________________________________\nconv2d_84 (Conv2D)              (None, 5, 5, 384)    442368      activation_82[0][0]              \n__________________________________________________________________________________________________\naverage_pooling2d_8 (AveragePoo (None, 5, 5, 1280)   0           mixed8[0][0]                     \n__________________________________________________________________________________________________\nconv2d_77 (Conv2D)              (None, 5, 5, 320)    409600      mixed8[0][0]                     \n__________________________________________________________________________________________________\nbatch_normalization_79 (BatchNo (None, 5, 5, 384)    1152        conv2d_79[0][0]                  \n__________________________________________________________________________________________________\nbatch_normalization_80 (BatchNo (None, 5, 5, 384)    1152        conv2d_80[0][0]                  \n__________________________________________________________________________________________________\nbatch_normalization_83 (BatchNo (None, 5, 5, 384)    1152        conv2d_83[0][0]                  \n__________________________________________________________________________________________________\nbatch_normalization_84 (BatchNo (None, 5, 5, 384)    1152        conv2d_84[0][0]                  \n__________________________________________________________________________________________________\nconv2d_85 (Conv2D)              (None, 5, 5, 192)    245760      average_pooling2d_8[0][0]        \n__________________________________________________________________________________________________\nbatch_normalization_77 (BatchNo (None, 5, 5, 320)    960         conv2d_77[0][0]                  \n__________________________________________________________________________________________________\nactivation_79 (Activation)      (None, 5, 5, 384)    0           batch_normalization_79[0][0]     \n__________________________________________________________________________________________________\nactivation_80 (Activation)      (None, 5, 5, 384)    0           batch_normalization_80[0][0]     \n__________________________________________________________________________________________________\nactivation_83 (Activation)      (None, 5, 5, 384)    0           batch_normalization_83[0][0]     \n__________________________________________________________________________________________________\nactivation_84 (Activation)      (None, 5, 5, 384)    0           batch_normalization_84[0][0]     \n__________________________________________________________________________________________________\nbatch_normalization_85 (BatchNo (None, 5, 5, 192)    576         conv2d_85[0][0]                  \n__________________________________________________________________________________________________\nactivation_77 (Activation)      (None, 5, 5, 320)    0           batch_normalization_77[0][0]     \n__________________________________________________________________________________________________\nmixed9_0 (Concatenate)          (None, 5, 5, 768)    0           activation_79[0][0]              \n                                                                 activation_80[0][0]              \n__________________________________________________________________________________________________\nconcatenate_1 (Concatenate)     (None, 5, 5, 768)    0           activation_83[0][0]              \n                                                                 activation_84[0][0]              \n__________________________________________________________________________________________________\nactivation_85 (Activation)      (None, 5, 5, 192)    0           batch_normalization_85[0][0]     \n__________________________________________________________________________________________________\nmixed9 (Concatenate)            (None, 5, 5, 2048)   0           activation_77[0][0]              \n                                                                 mixed9_0[0][0]                   \n                                                                 concatenate_1[0][0]              \n                                                                 activation_85[0][0]              \n__________________________________________________________________________________________________\nconv2d_90 (Conv2D)              (None, 5, 5, 448)    917504      mixed9[0][0]                     \n__________________________________________________________________________________________________\nbatch_normalization_90 (BatchNo (None, 5, 5, 448)    1344        conv2d_90[0][0]                  \n__________________________________________________________________________________________________\nactivation_90 (Activation)      (None, 5, 5, 448)    0           batch_normalization_90[0][0]     \n__________________________________________________________________________________________________\nconv2d_87 (Conv2D)              (None, 5, 5, 384)    786432      mixed9[0][0]                     \n__________________________________________________________________________________________________\nconv2d_91 (Conv2D)              (None, 5, 5, 384)    1548288     activation_90[0][0]              \n__________________________________________________________________________________________________\nbatch_normalization_87 (BatchNo (None, 5, 5, 384)    1152        conv2d_87[0][0]                  \n__________________________________________________________________________________________________\nbatch_normalization_91 (BatchNo (None, 5, 5, 384)    1152        conv2d_91[0][0]                  \n__________________________________________________________________________________________________\nactivation_87 (Activation)      (None, 5, 5, 384)    0           batch_normalization_87[0][0]     \n__________________________________________________________________________________________________\nactivation_91 (Activation)      (None, 5, 5, 384)    0           batch_normalization_91[0][0]     \n__________________________________________________________________________________________________\nconv2d_88 (Conv2D)              (None, 5, 5, 384)    442368      activation_87[0][0]              \n__________________________________________________________________________________________________\nconv2d_89 (Conv2D)              (None, 5, 5, 384)    442368      activation_87[0][0]              \n__________________________________________________________________________________________________\nconv2d_92 (Conv2D)              (None, 5, 5, 384)    442368      activation_91[0][0]              \n__________________________________________________________________________________________________\nconv2d_93 (Conv2D)              (None, 5, 5, 384)    442368      activation_91[0][0]              \n__________________________________________________________________________________________________\naverage_pooling2d_9 (AveragePoo (None, 5, 5, 2048)   0           mixed9[0][0]                     \n__________________________________________________________________________________________________\nconv2d_86 (Conv2D)              (None, 5, 5, 320)    655360      mixed9[0][0]                     \n__________________________________________________________________________________________________\nbatch_normalization_88 (BatchNo (None, 5, 5, 384)    1152        conv2d_88[0][0]                  \n__________________________________________________________________________________________________\nbatch_normalization_89 (BatchNo (None, 5, 5, 384)    1152        conv2d_89[0][0]                  \n__________________________________________________________________________________________________\nbatch_normalization_92 (BatchNo (None, 5, 5, 384)    1152        conv2d_92[0][0]                  \n__________________________________________________________________________________________________\nbatch_normalization_93 (BatchNo (None, 5, 5, 384)    1152        conv2d_93[0][0]                  \n__________________________________________________________________________________________________\nconv2d_94 (Conv2D)              (None, 5, 5, 192)    393216      average_pooling2d_9[0][0]        \n__________________________________________________________________________________________________\nbatch_normalization_86 (BatchNo (None, 5, 5, 320)    960         conv2d_86[0][0]                  \n__________________________________________________________________________________________________\nactivation_88 (Activation)      (None, 5, 5, 384)    0           batch_normalization_88[0][0]     \n__________________________________________________________________________________________________\nactivation_89 (Activation)      (None, 5, 5, 384)    0           batch_normalization_89[0][0]     \n__________________________________________________________________________________________________\nactivation_92 (Activation)      (None, 5, 5, 384)    0           batch_normalization_92[0][0]     \n__________________________________________________________________________________________________\nactivation_93 (Activation)      (None, 5, 5, 384)    0           batch_normalization_93[0][0]     \n__________________________________________________________________________________________________\nbatch_normalization_94 (BatchNo (None, 5, 5, 192)    576         conv2d_94[0][0]                  \n__________________________________________________________________________________________________\nactivation_86 (Activation)      (None, 5, 5, 320)    0           batch_normalization_86[0][0]     \n__________________________________________________________________________________________________\nmixed9_1 (Concatenate)          (None, 5, 5, 768)    0           activation_88[0][0]              \n                                                                 activation_89[0][0]              \n__________________________________________________________________________________________________\nconcatenate_2 (Concatenate)     (None, 5, 5, 768)    0           activation_92[0][0]              \n                                                                 activation_93[0][0]              \n__________________________________________________________________________________________________\nactivation_94 (Activation)      (None, 5, 5, 192)    0           batch_normalization_94[0][0]     \n__________________________________________________________________________________________________\nmixed10 (Concatenate)           (None, 5, 5, 2048)   0           activation_86[0][0]              \n                                                                 mixed9_1[0][0]                   \n                                                                 concatenate_2[0][0]              \n                                                                 activation_94[0][0]              \n==================================================================================================\nTotal params: 21,802,784\nTrainable params: 21,768,352\nNon-trainable params: 34,432\n__________________________________________________________________________________________________\n"
    }
   ],
   "source": [
    "import os, sys\n",
    "from keras.utils import plot_model\n",
    "from keras.applications import InceptionV3\n",
    "from keras.optimizers import SGD\n",
    "from keras.layers import Input\n",
    "\n",
    "model = InceptionV3(weights=\"imagenet\", \n",
    "                    include_top=False,\n",
    "                    input_tensor=Input(shape = (input_width,input_height,input_depth))\n",
    ")\n",
    "\n",
    "model.summary()\n",
    "plot_model(model, to_file=model_diagram_path, show_shapes=True)\n",
    "\n",
    "# copile model\n",
    "opt = SGD(lr=0.05)\n",
    "model.compile(loss=\"categorical_crossentropy\", optimizer=opt,\n",
    "              metrics=[\"accuracy\"])\n",
    "\n"
   ]
  },
  {
   "cell_type": "markdown",
   "metadata": {},
   "source": [
    "# Load dataset"
   ]
  },
  {
   "cell_type": "code",
   "execution_count": 3,
   "metadata": {},
   "outputs": [],
   "source": [
    "import sys, os\n",
    "sys.path.append('..')\n",
    "import numpy as np\n",
    "from imutils import paths\n",
    "import random\n",
    "\n",
    "\n",
    "from utils.preprocessors.aspect_aware_preprocessor import AspectAwarePreprocessor\n",
    "from utils.preprocessors.image_to_array_preprocessor import ImageToArrayPreprocessor\n",
    "from utils.io.simple_dataset_loader import SimpleDatasetLoader\n",
    "\n",
    "# Get the list of image paths\n",
    "image_paths = list(paths.list_images(dataset_path))\n",
    "random.shuffle(image_paths)\n",
    "\n",
    "#extract labels\n",
    "labels = [p.split(os.path.sep)[-2] for p in image_paths]"
   ]
  },
  {
   "cell_type": "markdown",
   "metadata": {},
   "source": [
    "# Encode labels and split dataset"
   ]
  },
  {
   "cell_type": "code",
   "execution_count": 4,
   "metadata": {},
   "outputs": [],
   "source": [
    "from sklearn.preprocessing import LabelEncoder\n",
    "\n",
    "\n",
    "\n",
    "# Convert labels in integers\n",
    "le = LabelEncoder()\n",
    "labels = le.fit_transform(labels)"
   ]
  },
  {
   "cell_type": "markdown",
   "metadata": {},
   "source": [
    "# Initialize Datsetwriter"
   ]
  },
  {
   "cell_type": "code",
   "execution_count": 5,
   "metadata": {},
   "outputs": [],
   "source": [
    "import utils\n",
    "from utils.io.hdf5datasetwriter import HDF5DatasetWriter\n",
    "\n",
    "\n",
    "dataset = HDF5DatasetWriter((len(image_paths), output_width * output_height * output_depth),\n",
    "            features_save_path, dataKey=\"features\", bufSize=buffer_size)\n",
    "\n",
    "# Store the classes to to file\n",
    "dataset.storeClassLabels(le.classes_)\n",
    "\n",
    "\n"
   ]
  },
  {
   "cell_type": "markdown",
   "metadata": {},
   "source": [
    "# Forward propagate through model"
   ]
  },
  {
   "cell_type": "code",
   "execution_count": 6,
   "metadata": {},
   "outputs": [],
   "source": [
    "from keras.preprocessing.image import img_to_array\n",
    "from keras.preprocessing.image import load_img\n",
    "from keras.applications import imagenet_utils\n",
    "\n",
    "# loop over the image_paths in batches\n",
    "for i in np.arange(0, len(image_paths), batch_size):\n",
    "  # extract the image paths and labels for the current batch,\n",
    "    batchPaths = image_paths[i:i + batch_size]\n",
    "    batchLabels = labels[i:i + batch_size]\n",
    "  # initializes a list to store the images about to be loaded and fed into VGG16.\n",
    "    batchImages = []\n",
    "\n",
    "    # loop over the images and labels in the current batch\n",
    "    for (j, imagePath) in enumerate(batchPaths):\n",
    "\n",
    "       # load the images and convert to correct size.\n",
    "        image = load_img(imagePath, target_size=(input_width, input_height))\n",
    "        # convert to numpy array\n",
    "        image = img_to_array(image)\n",
    "\n",
    "        # Expand dims and apply preprocessing\n",
    "        # (1) expanding the dimensions\n",
    "        # (2) subtracting the mean RGB pixel intensity from ImageNet dataset\n",
    "        image = np.expand_dims(image, axis=0)\n",
    "        image = imagenet_utils.preprocess_input(image)\n",
    "\n",
    "        # add the image to the batch\n",
    "        batchImages.append(image)\n",
    "\n",
    "  #  .vstack method used to “vertically stack”  images such that they have the shape\n",
    "    # (N, 224, 224, 3) where N is the size of the batch.\n",
    "    batchImages = np.vstack(batchImages)\n",
    "    # pass the images through the network and use the outputs as our actual features\n",
    "    features = model.predict(batchImages, batch_size=batch_size)\n",
    "\n",
    "    # Output of VGG16's final Max Pool layer is (N, 512, 7, 7)\n",
    "    # Flatten them so that they are of shape (N, 512 * 7 * 7)\n",
    "\n",
    "    features = features.reshape((features.shape[0], output_width * output_height * output_depth))\n",
    "\n",
    "  # add the features and labels to our HDF5 dataset\n",
    "    dataset.add(features, batchLabels)\n",
    "\n",
    "dataset.close()"
   ]
  }
 ],
 "metadata": {
  "file_extension": ".py",
  "kernelspec": {
   "display_name": "Python 3",
   "language": "python",
   "name": "python3"
  },
  "language_info": {
   "codemirror_mode": {
    "name": "ipython",
    "version": 3
   },
   "file_extension": ".py",
   "mimetype": "text/x-python",
   "name": "python",
   "nbconvert_exporter": "python",
   "pygments_lexer": "ipython3",
   "version": "3.7.3-final"
  },
  "mimetype": "text/x-python",
  "name": "python",
  "npconvert_exporter": "python",
  "pygments_lexer": "ipython3",
  "version": 3
 },
 "nbformat": 4,
 "nbformat_minor": 4
}
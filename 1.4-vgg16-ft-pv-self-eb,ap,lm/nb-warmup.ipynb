{
 "cells": [
  {
   "cell_type": "markdown",
   "metadata": {},
   "source": [
    "\n",
    "# Arguments"
   ]
  },
  {
   "cell_type": "code",
   "execution_count": 1,
   "metadata": {},
   "outputs": [],
   "source": [
    "# vgg16-ft-pv-self-eb,ap,lm\n",
    "num_of_epochs = 25\n",
    "batch_size = 32\n",
    "dataset_path_plantvillage = '../datasets/plantvillage'\n",
    "dataset_path_self = '../datasets/self'\n",
    "dataset_path_validation = '../datasets/validation'\n",
    "\n",
    "dataset_paths = [dataset_path_plantvillage, dataset_path_self, dataset_path_validation]\n",
    "\n",
    "model_save_path = 'model-warmup.h5'\n",
    "\n",
    "checkpoint_path = 'checkpoints-warmup.hdf5'\n",
    "\n",
    "input_width = 224\n",
    "input_height = 224\n",
    "input_depth = 3"
   ]
  },
  {
   "cell_type": "markdown",
   "metadata": {},
   "source": [
    "# Print class names"
   ]
  },
  {
   "cell_type": "code",
   "execution_count": 2,
   "metadata": {},
   "outputs": [
    {
     "name": "stdout",
     "output_type": "stream",
     "text": [
      "['___Yellow_Leaf_Curl_Virus', '___Late_blight', '___Early_blight', '___Two-spotted_spider_mite', '___Septoria_leaf_spot', '___Bacterial_spot', '___healthy', '___Target_Spot', '___Mosaic_Virus', '___Leaf_Mold', '___Leaf_miner', '___Appids']\n",
      "\n",
      "PlantVillage\n",
      "['../datasets/plantvillage/___Yellow_Leaf_Curl_Virus', '../datasets/plantvillage/___Late_blight', '../datasets/plantvillage/___Early_blight', '../datasets/plantvillage/___Two-spotted_spider_mite', '../datasets/plantvillage/___Septoria_leaf_spot', '../datasets/plantvillage/___Bacterial_spot', '../datasets/plantvillage/___healthy', '../datasets/plantvillage/___Target_Spot', '../datasets/plantvillage/___Mosaic_Virus', '../datasets/plantvillage/___Leaf_Mold']\n",
      "10\n",
      "\n",
      "Self\n",
      "['../datasets/self/___Leaf_miner', '../datasets/self/___Early_blight', '../datasets/self/___Appids']\n",
      "3\n",
      "\n",
      "Validation\n",
      "['../datasets/validation/___Leaf_miner', '../datasets/validation/___Yellow_Leaf_Curl_Virus', '../datasets/validation/___Late_blight', '../datasets/validation/___Early_blight', '../datasets/validation/___Bacterial_spot', '../datasets/validation/___healthy', '../datasets/validation/___Appids', '../datasets/validation/___Target_Spot', '../datasets/validation/___Mosaic_Virus', '../datasets/validation/___Leaf_Mold']\n",
      "10\n"
     ]
    }
   ],
   "source": [
    "# Get classes\n",
    "import os\n",
    "import re\n",
    "\n",
    "class_names = []\n",
    "class_paths_plant_village = []\n",
    "class_paths_plant_self = []\n",
    "class_paths_plant_validation = []\n",
    "\n",
    "for path in dataset_paths:\n",
    "    classes = os.listdir(path)\n",
    "    for i in classes:\n",
    "        if(re.search('___', i)):\n",
    "            if(i not in class_names):\n",
    "                class_names.append(i)\n",
    "            if(re.search('plantvillage', path)):\n",
    "                class_paths_plant_village.append(path + '/' + i)\n",
    "            elif(re.search('self', path)):\n",
    "                class_paths_plant_self.append(path + '/' + i)\n",
    "            else:\n",
    "                class_paths_plant_validation.append(path + '/' + i)\n",
    "\n",
    "print(class_names)   \n",
    "print()\n",
    "print('PlantVillage')\n",
    "print(class_paths_plant_village) \n",
    "print(len(class_paths_plant_village))\n",
    "print()\n",
    "print('Self')\n",
    "print(class_paths_plant_self) \n",
    "print(len(class_paths_plant_self))\n",
    "print()\n",
    "print('Validation')\n",
    "print(class_paths_plant_validation) \n",
    "print(len(class_paths_plant_validation))"
   ]
  },
  {
   "cell_type": "markdown",
   "metadata": {},
   "source": [
    "# Select training classes\n",
    "\n",
    "early blight in plantVillage dataset replaced by self one"
   ]
  },
  {
   "cell_type": "code",
   "execution_count": 3,
   "metadata": {},
   "outputs": [],
   "source": [
    "class_paths_training = ['../datasets/self/___Early_blight', '../datasets/self/___Appids', '../datasets/self/___Leaf_miner']"
   ]
  },
  {
   "cell_type": "markdown",
   "metadata": {},
   "source": [
    "# Load dataset"
   ]
  },
  {
   "cell_type": "code",
   "execution_count": 4,
   "metadata": {},
   "outputs": [
    {
     "name": "stderr",
     "output_type": "stream",
     "text": [
      "Using TensorFlow backend.\n"
     ]
    },
    {
     "name": "stdout",
     "output_type": "stream",
     "text": [
      "[INFO] loading images...\n",
      "[INFO]: Processed 500/4374\n",
      "[INFO]: Processed 1000/4374\n",
      "[INFO]: Processed 1500/4374\n",
      "[INFO]: Processed 2000/4374\n",
      "[INFO]: Processed 2500/4374\n",
      "[INFO]: Processed 3000/4374\n",
      "[INFO]: Processed 3500/4374\n",
      "[INFO]: Processed 4000/4374\n"
     ]
    }
   ],
   "source": [
    "from sklearn.preprocessing import LabelBinarizer\n",
    "from sklearn.model_selection import train_test_split\n",
    "from sklearn.metrics import classification_report\n",
    "from keras.preprocessing.image   import ImageDataGenerator\n",
    "from keras.optimizers import RMSprop\n",
    "from keras.layers import Input\n",
    "from keras.models import Model\n",
    "from keras .applications import VGG16\n",
    "from keras.optimizers import SGD\n",
    "from keras.models import Model\n",
    "from imutils import paths\n",
    "import numpy as np\n",
    "import os\n",
    "\n",
    "import sys\n",
    "sys.path.append('..')\n",
    "\n",
    "from utils.preprocessors.aspect_aware_preprocessor import AspectAwarePreprocessor\n",
    "from utils.preprocessors.image_to_array_preprocessor import ImageToArrayPreprocessor\n",
    "from utils.io.simple_dataset_loader import SimpleDatasetLoader\n",
    "\n",
    "# construct the image generator for data augmentation\n",
    "aug = ImageDataGenerator(   rotation_range=30,\n",
    "                            width_shift_range=0.1,\n",
    "                            height_shift_range=0.1,\n",
    "                            shear_range=0.2,\n",
    "                            zoom_range=0.2,\n",
    "                            horizontal_flip=True,\n",
    "                            fill_mode='nearest')\n",
    "\n",
    "# Load image paths\n",
    "image_paths = []\n",
    "print(\"[INFO] loading images...\")\n",
    "for path in class_paths_training:\n",
    "    image_paths.extend(list(paths.list_images(path)))\n",
    "    \n",
    "# Get unique classnames\n",
    "\n",
    "class_names = [pt.split(os.path.sep)[-2] for pt in image_paths]\n",
    "class_names = [str(x) for x in np.unique(class_names)]\n",
    "\n",
    "# Initial image preprocessing\n",
    "aap = AspectAwarePreprocessor(input_width, input_height)\n",
    "iap= ImageToArrayPreprocessor()\n",
    "\n",
    "#Load image data and perform image data preprocessing\n",
    "sdl = SimpleDatasetLoader(preprocessors=[aap,iap])\n",
    "(data,labels)  = sdl.load(image_paths,verbose=500)\n",
    "data = data.astype(\"float\") / 255.0\n",
    "\n",
    "\n",
    "# train test split\n",
    "(train_x,test_x,train_y,test_y) = train_test_split(data,labels,test_size=0.25,random_state=42)\n",
    "\n",
    "# convert the labels from integers to vectors\n",
    "train_y = LabelBinarizer().fit_transform(train_y)\n",
    "test_y = LabelBinarizer().fit_transform(test_y)\n",
    "\n"
   ]
  },
  {
   "cell_type": "markdown",
   "metadata": {},
   "source": [
    "\n",
    "# Load model"
   ]
  },
  {
   "cell_type": "code",
   "execution_count": 5,
   "metadata": {},
   "outputs": [],
   "source": [
    "from keras.applications import VGG16\n",
    "from keras.utils.vis_utils import plot_model\n",
    "from keras.layers import Input\n",
    "\n",
    "\n",
    "\n",
    "# Load pretrianed VGG model with FC layers removed\n",
    "# explicitly deﬁne the input_tensor to be 224×224×3 pixels\n",
    "base_model = VGG16(weights='imagenet',include_top=False,\n",
    "                  input_tensor=Input(shape = (input_width,input_height, input_depth)))\n",
    "\n",
    "# plot_save_path = 'diagram-base-vgg16.png'\n",
    "# plot_model(base_model, to_file=model_diagram_path, show_shapes=True)"
   ]
  },
  {
   "cell_type": "markdown",
   "metadata": {},
   "source": [
    "# Custom FC layer"
   ]
  },
  {
   "cell_type": "code",
   "execution_count": 6,
   "metadata": {},
   "outputs": [],
   "source": [
    "from keras.layers.core import Dropout\n",
    "from keras.layers.core import Flatten\n",
    "from keras.layers.core import Dense\n",
    "\n",
    "head_model = base_model.output\n",
    "head_model = Flatten(name='flatten')(head_model)\n",
    "head_model = Dense(256,activation='relu')(head_model)\n",
    "head_model = Dropout(0.5)(head_model)\n",
    "# Add a softmaxc layer\n",
    "head_model = Dense(len(class_names),activation='softmax')(head_model)\n",
    "\n",
    "# plot_save_path = 'custom-head.png'\n",
    "# plot_model(head_model, to_file=model_diagram_path, show_shapes=True)"
   ]
  },
  {
   "cell_type": "markdown",
   "metadata": {},
   "source": [
    "# Attach custom head to model"
   ]
  },
  {
   "cell_type": "code",
   "execution_count": 7,
   "metadata": {},
   "outputs": [],
   "source": [
    "from keras.models import Model\n",
    "\n",
    "\n",
    "# place the head FC model on top of the base model \n",
    "model = Model(inputs=base_model.input, outputs = head_model)\n",
    "\n",
    "# freeze weights in base model\n",
    "for layer in base_model.layers:\n",
    "    layer.trainable = False\n",
    "\n",
    "# plot_save_path = 'diagram-vgg16-head-attached.png'\n",
    "# plot_model(model, to_file=model_diagram_path, show_shapes=True)"
   ]
  },
  {
   "cell_type": "markdown",
   "metadata": {},
   "source": [
    "# Freeze base model"
   ]
  },
  {
   "cell_type": "code",
   "execution_count": 8,
   "metadata": {},
   "outputs": [],
   "source": [
    "# traverse all layers and freeze the weight of the corresponding layer\n",
    "for layer in base_model.layers:\n",
    "    layer.trainable = False"
   ]
  },
  {
   "cell_type": "markdown",
   "metadata": {},
   "source": [
    "# Compile model"
   ]
  },
  {
   "cell_type": "code",
   "execution_count": 9,
   "metadata": {},
   "outputs": [
    {
     "name": "stdout",
     "output_type": "stream",
     "text": [
      "[INFO] re-compiling model ...\n"
     ]
    }
   ],
   "source": [
    "from keras.optimizers import SGD\n",
    "\n",
    "# Build the model from the new\n",
    "print(\"[INFO] re-compiling model ...\")\n",
    "opt = SGD(lr=0.001, momentum=0.09)\n",
    "\n",
    "model.compile(loss=\"categorical_crossentropy\", optimizer=opt,metrics=[\"accuracy\"])\n",
    "# Since we only train the new fully connected layer, we do a few iterations"
   ]
  },
  {
   "cell_type": "markdown",
   "metadata": {},
   "source": [
    "# Checkpoints"
   ]
  },
  {
   "cell_type": "code",
   "execution_count": 10,
   "metadata": {},
   "outputs": [],
   "source": [
    "from keras.callbacks import ModelCheckpoint\n",
    "\n",
    "\n",
    "checkpoint = ModelCheckpoint(checkpoint_path, monitor='val_loss', mode='min', \n",
    "save_best_only=True, verbose=1)\n",
    "\n",
    "callbacks = [checkpoint]\n",
    "\n"
   ]
  },
  {
   "cell_type": "code",
   "execution_count": 11,
   "metadata": {},
   "outputs": [],
   "source": [
    "#load checkpoints if existing\n",
    "\n",
    "import os\n",
    "\n",
    "epochs_done = 0\n",
    "num_of_epochs = 10\n",
    "\n",
    "if(os.path.exists(checkpoint_path)):\n",
    "    model.load_weights(checkpoint_path)\n",
    "    num_of_epochs = num_of_epochs - epochs_done\n"
   ]
  },
  {
   "cell_type": "markdown",
   "metadata": {},
   "source": [
    "# Training monitor"
   ]
  },
  {
   "cell_type": "code",
   "execution_count": 12,
   "metadata": {},
   "outputs": [],
   "source": [
    "from utils.callbacks.training_monitor import TrainingMonitor\n",
    "import pathlib\n",
    "import json\n",
    "import os\n",
    "\n",
    "fig_path = \"plot\"\n",
    "json_path = \"values.json\"\n",
    "values_path = 'values.json'\n",
    "start_epoch = 0\n",
    "\n",
    "last_epoch = None\n",
    "last_improved_epoch = None\n",
    "\n",
    "if(os.path.exists(values_path)):\n",
    "    with open(values_path) as file_content:\n",
    "        data = json.load(file_content)\n",
    "        start_epoch = len(data['val_accuracy']) - (last_epoch - last_improved_epoch)\n",
    "\n",
    "\n",
    "\n",
    "callbacks.append(TrainingMonitor(fig_path, json_path, start_epoch))"
   ]
  },
  {
   "cell_type": "markdown",
   "metadata": {},
   "source": [
    "# Warm up head"
   ]
  },
  {
   "cell_type": "code",
   "execution_count": 13,
   "metadata": {},
   "outputs": [
    {
     "name": "stdout",
     "output_type": "stream",
     "text": [
      "Epoch 1/50\n",
      "102/102 [==============================] - 56s 545ms/step - loss: 0.9957 - accuracy: 0.5243 - val_loss: 0.7400 - val_accuracy: 0.7102\n",
      "\n",
      "Epoch 00001: val_loss improved from inf to 0.74003, saving model to checkpoints-warmup.hdf5\n",
      "Epoch 2/50\n",
      "102/102 [==============================] - 50s 491ms/step - loss: 0.7689 - accuracy: 0.6733 - val_loss: 0.5781 - val_accuracy: 0.7925\n",
      "\n",
      "Epoch 00002: val_loss improved from 0.74003 to 0.57809, saving model to checkpoints-warmup.hdf5\n",
      "Epoch 3/50\n",
      "102/102 [==============================] - 50s 491ms/step - loss: 0.6355 - accuracy: 0.7442 - val_loss: 0.4914 - val_accuracy: 0.8336\n",
      "\n",
      "Epoch 00003: val_loss improved from 0.57809 to 0.49140, saving model to checkpoints-warmup.hdf5\n",
      "Epoch 4/50\n",
      "102/102 [==============================] - 50s 493ms/step - loss: 0.5551 - accuracy: 0.7799 - val_loss: 0.3971 - val_accuracy: 0.8775\n",
      "\n",
      "Epoch 00004: val_loss improved from 0.49140 to 0.39710, saving model to checkpoints-warmup.hdf5\n",
      "Epoch 5/50\n",
      "102/102 [==============================] - 50s 490ms/step - loss: 0.4984 - accuracy: 0.8147 - val_loss: 0.3836 - val_accuracy: 0.8784\n",
      "\n",
      "Epoch 00005: val_loss improved from 0.39710 to 0.38364, saving model to checkpoints-warmup.hdf5\n",
      "Epoch 6/50\n",
      "102/102 [==============================] - 50s 488ms/step - loss: 0.4560 - accuracy: 0.8273 - val_loss: 0.3493 - val_accuracy: 0.8766\n",
      "\n",
      "Epoch 00006: val_loss improved from 0.38364 to 0.34928, saving model to checkpoints-warmup.hdf5\n",
      "Epoch 7/50\n",
      "102/102 [==============================] - 50s 491ms/step - loss: 0.4263 - accuracy: 0.8387 - val_loss: 0.3249 - val_accuracy: 0.8885\n",
      "\n",
      "Epoch 00007: val_loss improved from 0.34928 to 0.32487, saving model to checkpoints-warmup.hdf5\n",
      "Epoch 8/50\n",
      "102/102 [==============================] - 49s 480ms/step - loss: 0.3901 - accuracy: 0.8578 - val_loss: 0.3284 - val_accuracy: 0.8821\n",
      "\n",
      "Epoch 00008: val_loss did not improve from 0.32487\n",
      "Epoch 9/50\n",
      "102/102 [==============================] - 49s 479ms/step - loss: 0.3765 - accuracy: 0.8645 - val_loss: 0.3204 - val_accuracy: 0.8784\n",
      "\n",
      "Epoch 00009: val_loss improved from 0.32487 to 0.32041, saving model to checkpoints-warmup.hdf5\n",
      "Epoch 10/50\n",
      "102/102 [==============================] - 48s 474ms/step - loss: 0.3522 - accuracy: 0.8728 - val_loss: 0.2902 - val_accuracy: 0.8995\n",
      "\n",
      "Epoch 00010: val_loss improved from 0.32041 to 0.29016, saving model to checkpoints-warmup.hdf5\n",
      "Epoch 11/50\n",
      "102/102 [==============================] - 49s 480ms/step - loss: 0.3462 - accuracy: 0.8778 - val_loss: 0.2564 - val_accuracy: 0.9049\n",
      "\n",
      "Epoch 00011: val_loss improved from 0.29016 to 0.25642, saving model to checkpoints-warmup.hdf5\n",
      "Epoch 12/50\n",
      "102/102 [==============================] - 48s 473ms/step - loss: 0.3329 - accuracy: 0.8778 - val_loss: 0.2687 - val_accuracy: 0.8976\n",
      "\n",
      "Epoch 00012: val_loss did not improve from 0.25642\n",
      "Epoch 13/50\n",
      "102/102 [==============================] - 49s 478ms/step - loss: 0.3265 - accuracy: 0.8808 - val_loss: 0.2619 - val_accuracy: 0.9059\n",
      "\n",
      "Epoch 00013: val_loss did not improve from 0.25642\n",
      "Epoch 14/50\n",
      "102/102 [==============================] - 49s 476ms/step - loss: 0.3132 - accuracy: 0.8900 - val_loss: 0.2429 - val_accuracy: 0.9132\n",
      "\n",
      "Epoch 00014: val_loss improved from 0.25642 to 0.24294, saving model to checkpoints-warmup.hdf5\n",
      "Epoch 15/50\n",
      "102/102 [==============================] - 49s 482ms/step - loss: 0.3001 - accuracy: 0.8871 - val_loss: 0.2793 - val_accuracy: 0.8912\n",
      "\n",
      "Epoch 00015: val_loss did not improve from 0.24294\n",
      "Epoch 16/50\n",
      "102/102 [==============================] - 49s 480ms/step - loss: 0.2980 - accuracy: 0.8972 - val_loss: 0.2249 - val_accuracy: 0.9196\n",
      "\n",
      "Epoch 00016: val_loss improved from 0.24294 to 0.22495, saving model to checkpoints-warmup.hdf5\n",
      "Epoch 17/50\n",
      "102/102 [==============================] - 50s 486ms/step - loss: 0.2796 - accuracy: 0.9036 - val_loss: 0.2821 - val_accuracy: 0.8848\n",
      "\n",
      "Epoch 00017: val_loss did not improve from 0.22495\n",
      "Epoch 18/50\n",
      "102/102 [==============================] - 50s 489ms/step - loss: 0.2739 - accuracy: 0.9006 - val_loss: 0.2079 - val_accuracy: 0.9232\n",
      "\n",
      "Epoch 00018: val_loss improved from 0.22495 to 0.20792, saving model to checkpoints-warmup.hdf5\n",
      "Epoch 19/50\n",
      "102/102 [==============================] - 49s 484ms/step - loss: 0.2666 - accuracy: 0.9069 - val_loss: 0.1992 - val_accuracy: 0.9287\n",
      "\n",
      "Epoch 00019: val_loss improved from 0.20792 to 0.19923, saving model to checkpoints-warmup.hdf5\n",
      "Epoch 20/50\n",
      "102/102 [==============================] - 49s 482ms/step - loss: 0.2712 - accuracy: 0.9001 - val_loss: 0.1844 - val_accuracy: 0.9351\n",
      "\n",
      "Epoch 00020: val_loss improved from 0.19923 to 0.18440, saving model to checkpoints-warmup.hdf5\n",
      "Epoch 21/50\n",
      "102/102 [==============================] - 48s 470ms/step - loss: 0.2484 - accuracy: 0.9112 - val_loss: 0.2139 - val_accuracy: 0.9186\n",
      "\n",
      "Epoch 00021: val_loss did not improve from 0.18440\n",
      "Epoch 22/50\n",
      "102/102 [==============================] - 48s 473ms/step - loss: 0.2564 - accuracy: 0.9081 - val_loss: 0.1913 - val_accuracy: 0.9305\n",
      "\n",
      "Epoch 00022: val_loss did not improve from 0.18440\n",
      "Epoch 23/50\n",
      "102/102 [==============================] - 49s 479ms/step - loss: 0.2547 - accuracy: 0.9101 - val_loss: 0.1668 - val_accuracy: 0.9406\n",
      "\n",
      "Epoch 00023: val_loss improved from 0.18440 to 0.16681, saving model to checkpoints-warmup.hdf5\n",
      "Epoch 24/50\n",
      "102/102 [==============================] - 48s 475ms/step - loss: 0.2489 - accuracy: 0.9093 - val_loss: 0.1808 - val_accuracy: 0.9342\n",
      "\n",
      "Epoch 00024: val_loss did not improve from 0.16681\n",
      "Epoch 25/50\n",
      "102/102 [==============================] - 47s 459ms/step - loss: 0.2376 - accuracy: 0.9169 - val_loss: 0.1728 - val_accuracy: 0.9406\n",
      "\n",
      "Epoch 00025: val_loss did not improve from 0.16681\n",
      "Epoch 26/50\n",
      "102/102 [==============================] - 47s 463ms/step - loss: 0.2436 - accuracy: 0.9131 - val_loss: 0.1696 - val_accuracy: 0.9378\n",
      "\n",
      "Epoch 00026: val_loss did not improve from 0.16681\n",
      "Epoch 27/50\n",
      "102/102 [==============================] - 48s 467ms/step - loss: 0.2188 - accuracy: 0.9227 - val_loss: 0.1568 - val_accuracy: 0.9442\n",
      "\n",
      "Epoch 00027: val_loss improved from 0.16681 to 0.15677, saving model to checkpoints-warmup.hdf5\n",
      "Epoch 28/50\n",
      "102/102 [==============================] - 47s 458ms/step - loss: 0.2268 - accuracy: 0.9173 - val_loss: 0.1700 - val_accuracy: 0.9351\n",
      "\n",
      "Epoch 00028: val_loss did not improve from 0.15677\n",
      "Epoch 29/50\n",
      "102/102 [==============================] - 46s 455ms/step - loss: 0.2257 - accuracy: 0.9240 - val_loss: 0.1825 - val_accuracy: 0.9333\n",
      "\n",
      "Epoch 00029: val_loss did not improve from 0.15677\n",
      "Epoch 30/50\n",
      "102/102 [==============================] - 46s 452ms/step - loss: 0.2172 - accuracy: 0.9270 - val_loss: 0.2059 - val_accuracy: 0.9177\n",
      "\n",
      "Epoch 00030: val_loss did not improve from 0.15677\n",
      "Epoch 31/50\n",
      "102/102 [==============================] - 46s 446ms/step - loss: 0.2117 - accuracy: 0.9226 - val_loss: 0.1710 - val_accuracy: 0.9406\n",
      "\n",
      "Epoch 00031: val_loss did not improve from 0.15677\n",
      "Epoch 32/50\n",
      "102/102 [==============================] - 46s 451ms/step - loss: 0.2021 - accuracy: 0.9280 - val_loss: 0.1820 - val_accuracy: 0.9333\n",
      "\n",
      "Epoch 00032: val_loss did not improve from 0.15677\n",
      "Epoch 33/50\n",
      "102/102 [==============================] - 47s 465ms/step - loss: 0.2179 - accuracy: 0.9212 - val_loss: 0.1461 - val_accuracy: 0.9488\n",
      "\n",
      "Epoch 00033: val_loss improved from 0.15677 to 0.14607, saving model to checkpoints-warmup.hdf5\n",
      "Epoch 34/50\n",
      "102/102 [==============================] - 47s 464ms/step - loss: 0.2053 - accuracy: 0.9326 - val_loss: 0.1410 - val_accuracy: 0.9488\n",
      "\n",
      "Epoch 00034: val_loss improved from 0.14607 to 0.14102, saving model to checkpoints-warmup.hdf5\n",
      "Epoch 35/50\n",
      "102/102 [==============================] - 49s 478ms/step - loss: 0.2049 - accuracy: 0.9249 - val_loss: 0.1874 - val_accuracy: 0.9250\n",
      "\n",
      "Epoch 00035: val_loss did not improve from 0.14102\n",
      "Epoch 36/50\n",
      "102/102 [==============================] - 48s 472ms/step - loss: 0.2165 - accuracy: 0.9255 - val_loss: 0.1478 - val_accuracy: 0.9442\n",
      "\n",
      "Epoch 00036: val_loss did not improve from 0.14102\n",
      "Epoch 37/50\n",
      "102/102 [==============================] - 48s 474ms/step - loss: 0.1913 - accuracy: 0.9305 - val_loss: 0.1565 - val_accuracy: 0.9406\n",
      "\n",
      "Epoch 00037: val_loss did not improve from 0.14102\n",
      "Epoch 38/50\n",
      "102/102 [==============================] - 48s 469ms/step - loss: 0.1926 - accuracy: 0.9366 - val_loss: 0.1512 - val_accuracy: 0.9415\n",
      "\n",
      "Epoch 00038: val_loss did not improve from 0.14102\n",
      "Epoch 39/50\n",
      "102/102 [==============================] - 48s 469ms/step - loss: 0.1926 - accuracy: 0.9295 - val_loss: 0.1344 - val_accuracy: 0.9543\n",
      "\n",
      "Epoch 00039: val_loss improved from 0.14102 to 0.13440, saving model to checkpoints-warmup.hdf5\n",
      "Epoch 40/50\n",
      "102/102 [==============================] - 48s 466ms/step - loss: 0.2048 - accuracy: 0.9298 - val_loss: 0.1361 - val_accuracy: 0.9497\n",
      "\n",
      "Epoch 00040: val_loss did not improve from 0.13440\n",
      "Epoch 41/50\n",
      "102/102 [==============================] - 47s 463ms/step - loss: 0.1911 - accuracy: 0.9381 - val_loss: 0.1926 - val_accuracy: 0.9232\n",
      "\n",
      "Epoch 00041: val_loss did not improve from 0.13440\n",
      "Epoch 42/50\n",
      "102/102 [==============================] - 46s 454ms/step - loss: 0.1873 - accuracy: 0.9353 - val_loss: 0.1602 - val_accuracy: 0.9415\n",
      "\n",
      "Epoch 00042: val_loss did not improve from 0.13440\n",
      "Epoch 43/50\n",
      "102/102 [==============================] - 46s 448ms/step - loss: 0.1838 - accuracy: 0.9323 - val_loss: 0.1356 - val_accuracy: 0.9488\n",
      "\n",
      "Epoch 00043: val_loss did not improve from 0.13440\n",
      "Epoch 44/50\n",
      "102/102 [==============================] - 46s 455ms/step - loss: 0.1931 - accuracy: 0.9335 - val_loss: 0.1407 - val_accuracy: 0.9470\n",
      "\n",
      "Epoch 00044: val_loss did not improve from 0.13440\n",
      "Epoch 45/50\n",
      "102/102 [==============================] - 47s 463ms/step - loss: 0.1867 - accuracy: 0.9363 - val_loss: 0.1262 - val_accuracy: 0.9525\n",
      "\n",
      "Epoch 00045: val_loss improved from 0.13440 to 0.12621, saving model to checkpoints-warmup.hdf5\n",
      "Epoch 46/50\n",
      "102/102 [==============================] - 46s 451ms/step - loss: 0.1779 - accuracy: 0.9372 - val_loss: 0.1361 - val_accuracy: 0.9497\n",
      "\n",
      "Epoch 00046: val_loss did not improve from 0.12621\n",
      "Epoch 47/50\n",
      "102/102 [==============================] - 46s 449ms/step - loss: 0.1940 - accuracy: 0.9344 - val_loss: 0.1327 - val_accuracy: 0.9488\n",
      "\n",
      "Epoch 00047: val_loss did not improve from 0.12621\n",
      "Epoch 48/50\n",
      "102/102 [==============================] - 46s 447ms/step - loss: 0.1766 - accuracy: 0.9353 - val_loss: 0.1466 - val_accuracy: 0.9461\n",
      "\n",
      "Epoch 00048: val_loss did not improve from 0.12621\n",
      "Epoch 49/50\n",
      "102/102 [==============================] - 46s 454ms/step - loss: 0.1752 - accuracy: 0.9347 - val_loss: 0.1296 - val_accuracy: 0.9506\n",
      "\n",
      "Epoch 00049: val_loss did not improve from 0.12621\n",
      "Epoch 50/50\n",
      "102/102 [==============================] - 47s 462ms/step - loss: 0.1741 - accuracy: 0.9363 - val_loss: 0.1303 - val_accuracy: 0.9470\n",
      "\n",
      "Epoch 00050: val_loss did not improve from 0.12621\n"
     ]
    }
   ],
   "source": [
    "num_of_epochs = 50\n",
    "\n",
    "model.fit_generator(\n",
    "    aug.flow(train_x,train_y, batch_size = 32),\n",
    "             validation_data = (test_x,test_y),\n",
    "             epochs=num_of_epochs,\n",
    "             steps_per_epoch = len(train_x) //32,\n",
    "             verbose = 1,\n",
    "             callbacks=callbacks)\n",
    "\n",
    "model.save(model_save_path)"
   ]
  },
  {
   "cell_type": "markdown",
   "metadata": {},
   "source": [
    "# Evaluate with 20% test set from same dataset"
   ]
  },
  {
   "cell_type": "code",
   "execution_count": 14,
   "metadata": {},
   "outputs": [
    {
     "name": "stdout",
     "output_type": "stream",
     "text": [
      "[INFO] evaluating after initialization...\n",
      "                 precision    recall  f1-score   support\n",
      "\n",
      "      ___Appids       0.93      0.99      0.96       243\n",
      "___Early_blight       0.98      0.91      0.94       394\n",
      "  ___Leaf_miner       0.93      0.96      0.95       457\n",
      "\n",
      "    avg / total       0.95      0.95      0.95      1094\n",
      "\n"
     ]
    }
   ],
   "source": [
    "from sklearn.metrics import classification_report\n",
    "\n",
    "print(\"[INFO] evaluating after initialization...\")\n",
    "predictions = model.predict(test_x,batch_size=32)\n",
    "print(classification_report(test_y.argmax(axis =1),\n",
    "                            predictions.argmax(axis =1),target_names=class_names))"
   ]
  }
 ],
 "metadata": {
  "file_extension": ".py",
  "kernelspec": {
   "display_name": "Python 3",
   "language": "python",
   "name": "python3"
  },
  "language_info": {
   "codemirror_mode": {
    "name": "ipython",
    "version": 3
   },
   "file_extension": ".py",
   "mimetype": "text/x-python",
   "name": "python",
   "nbconvert_exporter": "python",
   "pygments_lexer": "ipython3",
   "version": "3.5.3"
  },
  "mimetype": "text/x-python",
  "name": "python",
  "npconvert_exporter": "python",
  "pygments_lexer": "ipython3",
  "version": 3
 },
 "nbformat": 4,
 "nbformat_minor": 4
}

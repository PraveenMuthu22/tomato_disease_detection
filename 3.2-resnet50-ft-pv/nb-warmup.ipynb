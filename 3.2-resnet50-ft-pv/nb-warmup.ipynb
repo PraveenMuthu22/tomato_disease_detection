{
 "cells": [
  {
   "cell_type": "markdown",
   "metadata": {},
   "source": [
    "\n",
    "# Arguments"
   ]
  },
  {
   "cell_type": "code",
   "execution_count": 1,
   "metadata": {},
   "outputs": [],
   "source": [
    "batch_size = 32\n",
    "dataset_path_plantvillage = '../datasets/plantvillage'\n",
    "dataset_path_self = '../datasets/self'\n",
    "dataset_path_validation = '../datasets/validation'\n",
    "\n",
    "dataset_paths = [dataset_path_plantvillage, dataset_path_self, dataset_path_validation]\n",
    "\n",
    "model_save_path = 'model-warmup.h5'\n",
    "\n",
    "checkpoint_path = 'checkpoints-warmup.hdf5'\n",
    "\n",
    "input_width = 224\n",
    "input_height = 224\n",
    "input_depth = 3\n",
    "\n",
    "# --------------------------------------------------\n",
    "num_of_epochs = 25\n",
    "start_epoch = 0\n",
    "# --------------------------------------------------"
   ]
  },
  {
   "cell_type": "markdown",
   "metadata": {},
   "source": [
    "# Print class names"
   ]
  },
  {
   "cell_type": "code",
   "execution_count": 2,
   "metadata": {},
   "outputs": [
    {
     "name": "stdout",
     "output_type": "stream",
     "text": [
      "['___Yellow_Leaf_Curl_Virus', '___Late_blight', '___Early_blight', '___Two-spotted_spider_mite', '___Septoria_leaf_spot', '___Bacterial_spot', '___healthy', '___Target_Spot', '___Mosaic_Virus', '___Leaf_Mold', '___Leaf_miner', '___Curly_top_virus', '___Appids']\n",
      "\n",
      "PlantVillage\n",
      "['../datasets/plantvillage/___Yellow_Leaf_Curl_Virus', '../datasets/plantvillage/___Late_blight', '../datasets/plantvillage/___Early_blight', '../datasets/plantvillage/___Two-spotted_spider_mite', '../datasets/plantvillage/___Septoria_leaf_spot', '../datasets/plantvillage/___Bacterial_spot', '../datasets/plantvillage/___healthy', '../datasets/plantvillage/___Target_Spot', '../datasets/plantvillage/___Mosaic_Virus', '../datasets/plantvillage/___Leaf_Mold']\n",
      "10\n",
      "\n",
      "Self\n",
      "['../datasets/self/___Leaf_miner', '../datasets/self/___Early_blight', '../datasets/self/___Curly_top_virus', '../datasets/self/___Appids']\n",
      "4\n",
      "\n",
      "Validation\n",
      "['../datasets/validation/___Leaf_miner', '../datasets/validation/___Yellow_Leaf_Curl_Virus', '../datasets/validation/___Late_blight', '../datasets/validation/___Early_blight', '../datasets/validation/___Curly_top_virus', '../datasets/validation/___Bacterial_spot', '../datasets/validation/___healthy', '../datasets/validation/___Appids', '../datasets/validation/___Target_Spot', '../datasets/validation/___Mosaic_Virus', '../datasets/validation/___Leaf_Mold']\n",
      "11\n"
     ]
    }
   ],
   "source": [
    "# Get classes\n",
    "import os\n",
    "import re\n",
    "\n",
    "all_class_names = []\n",
    "class_paths_plant_village = []\n",
    "class_paths_plant_self = []\n",
    "class_paths_plant_validation = []\n",
    "\n",
    "for path in dataset_paths:\n",
    "    classes = os.listdir(path)\n",
    "    for i in classes:\n",
    "        if(re.search('___', i)):\n",
    "            if(i not in all_class_names):\n",
    "                all_class_names.append(i)\n",
    "            if(re.search('plantvillage', path)):\n",
    "                class_paths_plant_village.append(path + '/' + i)\n",
    "            elif(re.search('self', path)):\n",
    "                class_paths_plant_self.append(path + '/' + i)\n",
    "            else:\n",
    "                class_paths_plant_validation.append(path + '/' + i)\n",
    "\n",
    "print(all_class_names)   \n",
    "print()\n",
    "print('PlantVillage')\n",
    "print(class_paths_plant_village) \n",
    "print(len(class_paths_plant_village))\n",
    "print()\n",
    "print('Self')\n",
    "print(class_paths_plant_self) \n",
    "print(len(class_paths_plant_self))\n",
    "print()\n",
    "print('Validation')\n",
    "print(class_paths_plant_validation) \n",
    "print(len(class_paths_plant_validation))"
   ]
  },
  {
   "cell_type": "markdown",
   "metadata": {},
   "source": [
    "# Select training classes\n",
    "\n",
    "early blight in plantVillage dataset replaced by self one"
   ]
  },
  {
   "cell_type": "code",
   "execution_count": 3,
   "metadata": {},
   "outputs": [],
   "source": [
    "class_paths_training = ['../datasets/plantvillage/___Early_blight', '../datasets/plantvillage/___Late_blight', '../datasets/plantvillage/___Target_Spot', '../datasets/plantvillage/___healthy', '../datasets/plantvillage/___Mosaic_Virus', '../datasets/plantvillage/___Yellow_Leaf_Curl_Virus', '../datasets/plantvillage/___Leaf_Mold', '../datasets/plantvillage/___Bacterial_spot']"
   ]
  },
  {
   "cell_type": "markdown",
   "metadata": {},
   "source": [
    "# Load dataset"
   ]
  },
  {
   "cell_type": "code",
   "execution_count": 4,
   "metadata": {},
   "outputs": [
    {
     "name": "stderr",
     "output_type": "stream",
     "text": [
      "Using TensorFlow backend.\n"
     ]
    },
    {
     "name": "stdout",
     "output_type": "stream",
     "text": [
      "[INFO] loading images...\n",
      "8\n",
      "[INFO]: Processed 500/14713\n",
      "[INFO]: Processed 1000/14713\n",
      "[INFO]: Processed 1500/14713\n",
      "[INFO]: Processed 2000/14713\n",
      "[INFO]: Processed 2500/14713\n",
      "[INFO]: Processed 3000/14713\n",
      "[INFO]: Processed 3500/14713\n",
      "[INFO]: Processed 4000/14713\n",
      "[INFO]: Processed 4500/14713\n",
      "[INFO]: Processed 5000/14713\n",
      "[INFO]: Processed 5500/14713\n",
      "[INFO]: Processed 6000/14713\n",
      "[INFO]: Processed 6500/14713\n",
      "[INFO]: Processed 7000/14713\n",
      "[INFO]: Processed 7500/14713\n",
      "[INFO]: Processed 8000/14713\n",
      "[INFO]: Processed 8500/14713\n",
      "[INFO]: Processed 9000/14713\n",
      "[INFO]: Processed 9500/14713\n",
      "[INFO]: Processed 10000/14713\n",
      "[INFO]: Processed 10500/14713\n",
      "[INFO]: Processed 11000/14713\n",
      "[INFO]: Processed 11500/14713\n",
      "[INFO]: Processed 12000/14713\n",
      "[INFO]: Processed 12500/14713\n",
      "[INFO]: Processed 13000/14713\n",
      "[INFO]: Processed 13500/14713\n",
      "[INFO]: Processed 14000/14713\n",
      "[INFO]: Processed 14500/14713\n"
     ]
    }
   ],
   "source": [
    "from sklearn.preprocessing import LabelBinarizer\n",
    "from sklearn.model_selection import train_test_split\n",
    "from sklearn.metrics import classification_report\n",
    "from keras.preprocessing.image   import ImageDataGenerator\n",
    "from keras.optimizers import RMSprop\n",
    "from keras.layers import Input\n",
    "from keras.models import Model\n",
    "from keras .applications import VGG16\n",
    "from keras.optimizers import SGD\n",
    "from keras.models import Model\n",
    "from imutils import paths\n",
    "import numpy as np\n",
    "import os\n",
    "\n",
    "import sys\n",
    "sys.path.append('..')\n",
    "\n",
    "from utils.preprocessors.aspect_aware_preprocessor import AspectAwarePreprocessor\n",
    "from utils.preprocessors.image_to_array_preprocessor import ImageToArrayPreprocessor\n",
    "from utils.io.simple_dataset_loader import SimpleDatasetLoader\n",
    "\n",
    "# construct the image generator for data augmentation\n",
    "aug = ImageDataGenerator(   rotation_range=30,\n",
    "                            width_shift_range=0.1,\n",
    "                            height_shift_range=0.1,\n",
    "                            shear_range=0.2,\n",
    "                            zoom_range=0.2,\n",
    "                            horizontal_flip=True,\n",
    "                            fill_mode='nearest')\n",
    "\n",
    "def load_datasets(path_list):\n",
    "    # Load image paths\n",
    "    image_paths = []\n",
    "    print(\"[INFO] loading images...\")\n",
    "    for path in path_list:\n",
    "        image_paths.extend(list(paths.list_images(path)))\n",
    "        \n",
    "    # Get unique classnames\n",
    "\n",
    "    class_names = [pt.split(os.path.sep)[-2] for pt in image_paths]\n",
    "    class_names = [str(x) for x in np.unique(class_names)]\n",
    "    \n",
    "    print(len(class_names))\n",
    "\n",
    "    # Initial image preprocessing\n",
    "    aap = AspectAwarePreprocessor(input_width, input_height)\n",
    "    iap= ImageToArrayPreprocessor()\n",
    "\n",
    "    #Load image data and perform image data preprocessing\n",
    "    sdl = SimpleDatasetLoader(preprocessors=[aap,iap])\n",
    "    (data,labels)  = sdl.load(image_paths,verbose=500)\n",
    "    data = data.astype(\"float\") / 255.0\n",
    "\n",
    "\n",
    "    # train test split\n",
    "    (train_x,test_x,train_y,test_y) = train_test_split(data,labels,test_size=0.25,random_state=42)\n",
    "\n",
    "    # convert the labels from integers to vectors\n",
    "    train_y = LabelBinarizer().fit_transform(train_y)\n",
    "    test_y = LabelBinarizer().fit_transform(test_y)\n",
    "    \n",
    "    return (train_x,test_x,train_y,test_y, class_names)\n",
    "\n",
    "(train_x,test_x,train_y,test_y, class_names) = load_datasets(class_paths_training)\n",
    "\n"
   ]
  },
  {
   "cell_type": "markdown",
   "metadata": {},
   "source": [
    "\n",
    "# Load model"
   ]
  },
  {
   "cell_type": "code",
   "execution_count": 5,
   "metadata": {},
   "outputs": [
    {
     "name": "stderr",
     "output_type": "stream",
     "text": [
      "/usr/local/lib/python3.5/dist-packages/keras_applications/resnet50.py:265: UserWarning: The output shape of `ResNet50(include_top=False)` has been changed since Keras 2.2.0.\n",
      "  warnings.warn('The output shape of `ResNet50(include_top=False)` '\n"
     ]
    }
   ],
   "source": [
    "from keras.applications import ResNet50\n",
    "from keras.utils.vis_utils import plot_model\n",
    "from keras.layers import Input\n",
    "\n",
    "base_model = ResNet50(weights='imagenet',include_top=False,\n",
    "                  input_tensor=Input(shape = (input_width,input_height, input_depth)))\n",
    "\n",
    "# plot_save_path = 'diagram-base-resnet50.png'\n",
    "# plot_model(base_model, to_file=plot_save_path, show_shapes=True)"
   ]
  },
  {
   "cell_type": "markdown",
   "metadata": {},
   "source": [
    "# Custom FC layer"
   ]
  },
  {
   "cell_type": "code",
   "execution_count": 6,
   "metadata": {},
   "outputs": [],
   "source": [
    "from keras.layers.core import Dropout\n",
    "from keras.layers.core import Flatten\n",
    "from keras.layers.core import Dense\n",
    "from keras.layers import GlobalAveragePooling2D\n",
    "\n",
    "head_model = base_model.output\n",
    "head_model = GlobalAveragePooling2D()(head_model)\n",
    "# Add a softmaxc layer\n",
    "head_model = Dense(len(class_paths_training),activation='softmax')(head_model)"
   ]
  },
  {
   "cell_type": "markdown",
   "metadata": {},
   "source": [
    "# Attach custom head to model"
   ]
  },
  {
   "cell_type": "code",
   "execution_count": 7,
   "metadata": {},
   "outputs": [],
   "source": [
    "from keras.models import Model\n",
    "\n",
    "\n",
    "# place the head FC model on top of the base model \n",
    "model = Model(inputs=base_model.input, outputs = head_model)\n",
    "\n",
    "# plot_save_path = 'diagram-head-attached-resnet50.png'\n",
    "# plot_model(model, to_file=plot_save_path, show_shapes=True)"
   ]
  },
  {
   "cell_type": "markdown",
   "metadata": {},
   "source": [
    "# Freeze base model"
   ]
  },
  {
   "cell_type": "code",
   "execution_count": 8,
   "metadata": {},
   "outputs": [],
   "source": [
    "# traverse all layers and freeze the weight of the corresponding layer\n",
    "for layer in base_model.layers:\n",
    "    layer.trainable = False"
   ]
  },
  {
   "cell_type": "markdown",
   "metadata": {},
   "source": [
    "# Compile model"
   ]
  },
  {
   "cell_type": "code",
   "execution_count": 9,
   "metadata": {},
   "outputs": [],
   "source": [
    "model.compile(optimizer='rmsprop', loss='categorical_crossentropy', metrics=['accuracy'])\n",
    "# Since we only train the new fully connected layer, we do a few iterations"
   ]
  },
  {
   "cell_type": "code",
   "execution_count": 10,
   "metadata": {},
   "outputs": [
    {
     "name": "stdout",
     "output_type": "stream",
     "text": [
      "['loss', 'accuracy']\n"
     ]
    }
   ],
   "source": [
    "print(model.metrics_names)"
   ]
  },
  {
   "cell_type": "markdown",
   "metadata": {},
   "source": [
    "# Checkpoints"
   ]
  },
  {
   "cell_type": "code",
   "execution_count": 11,
   "metadata": {},
   "outputs": [],
   "source": [
    "from keras.callbacks import ModelCheckpoint\n",
    "\n",
    "\n",
    "checkpoint = ModelCheckpoint(checkpoint_path, monitor='val_loss', mode='min', \n",
    "save_best_only=True, verbose=1)\n",
    "\n",
    "callbacks = [checkpoint]\n",
    "\n"
   ]
  },
  {
   "cell_type": "code",
   "execution_count": 12,
   "metadata": {},
   "outputs": [],
   "source": [
    "#load checkpoints if existing\n",
    "\n",
    "import os\n",
    "\n",
    "if(os.path.exists(checkpoint_path)):\n",
    "    model.load_weights(checkpoint_path)"
   ]
  },
  {
   "cell_type": "markdown",
   "metadata": {},
   "source": [
    "# Training monitor"
   ]
  },
  {
   "cell_type": "code",
   "execution_count": 13,
   "metadata": {},
   "outputs": [],
   "source": [
    "from utils.callbacks.training_monitor import TrainingMonitor\n",
    "import pathlib\n",
    "import json\n",
    "import os\n",
    "\n",
    "fig_path = \"plot\"\n",
    "json_path = \"values.json\"\n",
    "values_path = 'values.json'\n",
    "\n",
    "callbacks.append(TrainingMonitor(fig_path, json_path, start_epoch))"
   ]
  },
  {
   "cell_type": "markdown",
   "metadata": {},
   "source": [
    "# Warm up head"
   ]
  },
  {
   "cell_type": "code",
   "execution_count": 14,
   "metadata": {},
   "outputs": [
    {
     "name": "stdout",
     "output_type": "stream",
     "text": [
      "Epoch 1/25\n",
      "344/344 [==============================] - 194s 565ms/step - loss: 0.4434 - accuracy: 0.8607 - val_loss: 2.3661 - val_accuracy: 0.1218\n",
      "\n",
      "Epoch 00001: val_loss improved from inf to 2.36609, saving model to checkpoints-warmup.hdf5\n",
      "Epoch 2/25\n",
      "344/344 [==============================] - 188s 547ms/step - loss: 0.1777 - accuracy: 0.9426 - val_loss: 2.4523 - val_accuracy: 0.1267\n",
      "\n",
      "Epoch 00002: val_loss did not improve from 2.36609\n",
      "Epoch 3/25\n",
      "344/344 [==============================] - 185s 539ms/step - loss: 0.1416 - accuracy: 0.9537 - val_loss: 2.6681 - val_accuracy: 0.0821\n",
      "\n",
      "Epoch 00003: val_loss did not improve from 2.36609\n",
      "Epoch 4/25\n",
      "344/344 [==============================] - 186s 541ms/step - loss: 0.1170 - accuracy: 0.9600 - val_loss: 2.9048 - val_accuracy: 0.1269\n",
      "\n",
      "Epoch 00004: val_loss did not improve from 2.36609\n",
      "Epoch 5/25\n",
      "344/344 [==============================] - 182s 530ms/step - loss: 0.1131 - accuracy: 0.9615 - val_loss: 2.7461 - val_accuracy: 0.1229\n",
      "\n",
      "Epoch 00005: val_loss did not improve from 2.36609\n",
      "Epoch 6/25\n",
      "344/344 [==============================] - 188s 546ms/step - loss: 0.0985 - accuracy: 0.9678 - val_loss: 2.9616 - val_accuracy: 0.1269\n",
      "\n",
      "Epoch 00006: val_loss did not improve from 2.36609\n",
      "Epoch 7/25\n",
      "344/344 [==============================] - 186s 540ms/step - loss: 0.0950 - accuracy: 0.9673 - val_loss: 3.0064 - val_accuracy: 0.1269\n",
      "\n",
      "Epoch 00007: val_loss did not improve from 2.36609\n",
      "Epoch 8/25\n",
      "344/344 [==============================] - 185s 537ms/step - loss: 0.0799 - accuracy: 0.9742 - val_loss: 3.0935 - val_accuracy: 0.1269\n",
      "\n",
      "Epoch 00008: val_loss did not improve from 2.36609\n",
      "Epoch 9/25\n",
      "344/344 [==============================] - 183s 533ms/step - loss: 0.0795 - accuracy: 0.9717 - val_loss: 3.2747 - val_accuracy: 0.1269\n",
      "\n",
      "Epoch 00009: val_loss did not improve from 2.36609\n",
      "Epoch 10/25\n",
      "344/344 [==============================] - 184s 534ms/step - loss: 0.0737 - accuracy: 0.9755 - val_loss: 3.5594 - val_accuracy: 0.1269\n",
      "\n",
      "Epoch 00010: val_loss did not improve from 2.36609\n",
      "Epoch 11/25\n",
      "344/344 [==============================] - 184s 536ms/step - loss: 0.0719 - accuracy: 0.9768 - val_loss: 3.2140 - val_accuracy: 0.1267\n",
      "\n",
      "Epoch 00011: val_loss did not improve from 2.36609\n",
      "Epoch 12/25\n",
      "344/344 [==============================] - 183s 532ms/step - loss: 0.0688 - accuracy: 0.9762 - val_loss: 3.5149 - val_accuracy: 0.1269\n",
      "\n",
      "Epoch 00012: val_loss did not improve from 2.36609\n",
      "Epoch 13/25\n",
      "344/344 [==============================] - 183s 531ms/step - loss: 0.0703 - accuracy: 0.9768 - val_loss: 3.6492 - val_accuracy: 0.1269\n",
      "\n",
      "Epoch 00013: val_loss did not improve from 2.36609\n",
      "Epoch 14/25\n",
      "344/344 [==============================] - 185s 537ms/step - loss: 0.0682 - accuracy: 0.9764 - val_loss: 3.3570 - val_accuracy: 0.3689\n",
      "\n",
      "Epoch 00014: val_loss did not improve from 2.36609\n",
      "Epoch 15/25\n",
      "344/344 [==============================] - 181s 526ms/step - loss: 0.0636 - accuracy: 0.9794 - val_loss: 3.4328 - val_accuracy: 0.3689\n",
      "\n",
      "Epoch 00015: val_loss did not improve from 2.36609\n",
      "Epoch 16/25\n",
      "344/344 [==============================] - 185s 538ms/step - loss: 0.0653 - accuracy: 0.9765 - val_loss: 3.6876 - val_accuracy: 0.3689\n",
      "\n",
      "Epoch 00016: val_loss did not improve from 2.36609\n",
      "Epoch 17/25\n",
      "344/344 [==============================] - 183s 531ms/step - loss: 0.0611 - accuracy: 0.9786 - val_loss: 3.6238 - val_accuracy: 0.3430\n",
      "\n",
      "Epoch 00017: val_loss did not improve from 2.36609\n",
      "Epoch 18/25\n",
      "344/344 [==============================] - 185s 538ms/step - loss: 0.0614 - accuracy: 0.9801 - val_loss: 3.4035 - val_accuracy: 0.3689\n",
      "\n",
      "Epoch 00018: val_loss did not improve from 2.36609\n",
      "Epoch 19/25\n",
      "344/344 [==============================] - 184s 535ms/step - loss: 0.0562 - accuracy: 0.9811 - val_loss: 3.5748 - val_accuracy: 0.3689\n",
      "\n",
      "Epoch 00019: val_loss did not improve from 2.36609\n",
      "Epoch 20/25\n",
      "344/344 [==============================] - 184s 536ms/step - loss: 0.0556 - accuracy: 0.9801 - val_loss: 3.8544 - val_accuracy: 0.3689\n",
      "\n",
      "Epoch 00020: val_loss did not improve from 2.36609\n",
      "Epoch 21/25\n",
      "344/344 [==============================] - 183s 532ms/step - loss: 0.0543 - accuracy: 0.9803 - val_loss: 3.7275 - val_accuracy: 0.2898\n",
      "\n",
      "Epoch 00021: val_loss did not improve from 2.36609\n",
      "Epoch 22/25\n",
      "344/344 [==============================] - 180s 525ms/step - loss: 0.0527 - accuracy: 0.9802 - val_loss: 3.7312 - val_accuracy: 0.1193\n",
      "\n",
      "Epoch 00022: val_loss did not improve from 2.36609\n",
      "Epoch 23/25\n",
      "344/344 [==============================] - 182s 529ms/step - loss: 0.0584 - accuracy: 0.9808 - val_loss: 4.0695 - val_accuracy: 0.3689\n",
      "\n",
      "Epoch 00023: val_loss did not improve from 2.36609\n",
      "Epoch 24/25\n",
      "344/344 [==============================] - 181s 526ms/step - loss: 0.0508 - accuracy: 0.9818 - val_loss: 3.8076 - val_accuracy: 0.2590\n",
      "\n",
      "Epoch 00024: val_loss did not improve from 2.36609\n",
      "Epoch 25/25\n",
      "344/344 [==============================] - 182s 528ms/step - loss: 0.0554 - accuracy: 0.9805 - val_loss: 3.9276 - val_accuracy: 0.0644\n",
      "\n",
      "Epoch 00025: val_loss did not improve from 2.36609\n"
     ]
    }
   ],
   "source": [
    "model.fit_generator(\n",
    "    aug.flow(train_x,train_y, batch_size = batch_size),\n",
    "             validation_data = (test_x,test_y),\n",
    "             epochs=num_of_epochs,\n",
    "             steps_per_epoch = len(train_x) //32,\n",
    "             verbose = 1,\n",
    "             callbacks=callbacks)\n",
    "\n",
    "model.save(model_save_path)"
   ]
  },
  {
   "cell_type": "markdown",
   "metadata": {},
   "source": [
    "# Evaluate with 20% test set from same dataset"
   ]
  },
  {
   "cell_type": "code",
   "execution_count": 15,
   "metadata": {},
   "outputs": [
    {
     "name": "stdout",
     "output_type": "stream",
     "text": [
      "[INFO] evaluating with test set...\n",
      "                           precision    recall  f1-score   support\n",
      "\n",
      "        ___Bacterial_spot       0.00      0.00      0.00       519\n",
      "          ___Early_blight       0.06      0.80      0.11       255\n",
      "           ___Late_blight       0.00      0.00      0.00       467\n",
      "             ___Leaf_Mold       0.00      0.00      0.00       241\n",
      "          ___Mosaic_Virus       0.00      0.00      0.00        93\n",
      "           ___Target_Spot       0.00      0.00      0.00       367\n",
      "___Yellow_Leaf_Curl_Virus       0.13      0.03      0.04      1357\n",
      "               ___healthy       0.00      0.00      0.00       380\n",
      "\n",
      "              avg / total       0.05      0.06      0.02      3679\n",
      "\n"
     ]
    },
    {
     "name": "stderr",
     "output_type": "stream",
     "text": [
      "/usr/local/lib/python3.5/site-packages/sklearn/metrics/classification.py:1135: UndefinedMetricWarning: Precision and F-score are ill-defined and being set to 0.0 in labels with no predicted samples.\n",
      "  'precision', 'predicted', average, warn_for)\n"
     ]
    }
   ],
   "source": [
    "from sklearn.metrics import classification_report\n",
    "\n",
    "print(\"[INFO] evaluating with test set...\")\n",
    "predictions = model.predict(test_x,batch_size=batch_size)\n",
    "print(classification_report(test_y.argmax(axis =1),\n",
    "                            predictions.argmax(axis =1),target_names=class_names))"
   ]
  },
  {
   "cell_type": "markdown",
   "metadata": {},
   "source": [
    "# Evaluate with validation images"
   ]
  },
  {
   "cell_type": "code",
   "execution_count": 18,
   "metadata": {},
   "outputs": [],
   "source": [
    "class_paths_validation = ['../datasets/validation/___Early_blight', '../datasets/validation/___Appids', '../datasets/validation/___Late_blight', '../datasets/validation/___Target_Spot', '../datasets/validation/___Leaf_miner', '../datasets/validation/___healthy', '../datasets/validation/___Mosaic_Virus', '../datasets/validation/___Yellow_Leaf_Curl_Virus', '../datasets/validation/___Curly_top_virus', '../datasets/validation/___Leaf_Mold', '../datasets/validation/___Bacterial_spot']"
   ]
  },
  {
   "cell_type": "code",
   "execution_count": 19,
   "metadata": {},
   "outputs": [
    {
     "name": "stdout",
     "output_type": "stream",
     "text": [
      "[INFO] loading images...\n",
      "11\n",
      "[INFO]: Processed 500/520\n",
      "[INFO] evaluating with validation set...\n",
      "                           precision    recall  f1-score   support\n",
      "\n",
      "                ___Appids     0.0000    0.0000    0.0000         9\n",
      "        ___Bacterial_spot     0.1618    0.5500    0.2500        20\n",
      "       ___Curly_top_virus     0.0000    0.0000    0.0000         4\n",
      "          ___Early_blight     0.0000    0.0000    0.0000        15\n",
      "           ___Late_blight     0.0000    0.0000    0.0000        30\n",
      "             ___Leaf_Mold     0.0000    0.0000    0.0000        23\n",
      "            ___Leaf_miner     0.0000    0.0000    0.0000         8\n",
      "          ___Mosaic_Virus     0.0000    0.0000    0.0000         5\n",
      "           ___Target_Spot     0.0000    0.0000    0.0000         4\n",
      "___Yellow_Leaf_Curl_Virus     0.0000    0.0000    0.0000         8\n",
      "               ___healthy     0.0000    0.0000    0.0000         4\n",
      "\n",
      "              avg / total     0.0249    0.0846    0.0385       130\n",
      "\n"
     ]
    }
   ],
   "source": [
    "(train_x,test_x,train_y,test_y, class_names) = load_datasets(class_paths_validation)\n",
    "\n",
    "from sklearn.metrics import classification_report\n",
    "\n",
    "print(\"[INFO] evaluating with validation set...\")\n",
    "predictions = model.predict(test_x,batch_size=batch_size)\n",
    "\n",
    "print(classification_report(test_y.argmax(axis =1),\n",
    "                            predictions.argmax(axis =1),\n",
    "                            target_names=class_names, \n",
    "                            digits=4))"
   ]
  },
  {
   "cell_type": "code",
   "execution_count": null,
   "metadata": {},
   "outputs": [],
   "source": []
  }
 ],
 "metadata": {
  "file_extension": ".py",
  "kernelspec": {
   "display_name": "Python 3",
   "language": "python",
   "name": "python3"
  },
  "language_info": {
   "codemirror_mode": {
    "name": "ipython",
    "version": 3
   },
   "file_extension": ".py",
   "mimetype": "text/x-python",
   "name": "python",
   "nbconvert_exporter": "python",
   "pygments_lexer": "ipython3",
   "version": "3.5.3"
  },
  "mimetype": "text/x-python",
  "name": "python",
  "npconvert_exporter": "python",
  "pygments_lexer": "ipython3",
  "version": 3
 },
 "nbformat": 4,
 "nbformat_minor": 4
}

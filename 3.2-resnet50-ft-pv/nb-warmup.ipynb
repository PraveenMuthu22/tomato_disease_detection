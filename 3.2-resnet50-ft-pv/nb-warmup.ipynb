{
 "cells": [
  {
   "cell_type": "markdown",
   "metadata": {},
   "source": [
    "\n",
    "# Arguments"
   ]
  },
  {
   "cell_type": "code",
   "execution_count": 5,
   "metadata": {},
   "outputs": [],
   "source": [
    "batch_size = 32\n",
    "dataset_path_plantvillage = '../datasets/plantvillage'\n",
    "dataset_path_self = '../datasets/self'\n",
    "dataset_path_validation = '../datasets/validation'\n",
    "\n",
    "dataset_paths = [dataset_path_plantvillage, dataset_path_self, dataset_path_validation]\n",
    "\n",
    "model_save_path = 'model-warmup.h5'\n",
    "\n",
    "checkpoint_path = 'checkpoints-warmup.hdf5'\n",
    "\n",
    "input_width = 224\n",
    "input_height = 224\n",
    "input_depth = 3\n",
    "\n",
    "# --------------------------------------------------\n",
    "num_of_epochs = 50\n",
    "start_epoch = 0\n",
    "# --------------------------------------------------"
   ]
  },
  {
   "cell_type": "markdown",
   "metadata": {},
   "source": [
    "# Print class names"
   ]
  },
  {
   "cell_type": "code",
   "execution_count": 6,
   "metadata": {},
   "outputs": [
    {
     "name": "stdout",
     "output_type": "stream",
     "text": [
      "['___Yellow_Leaf_Curl_Virus', '___Late_blight', '___Early_blight', '___Two-spotted_spider_mite', '___Septoria_leaf_spot', '___Bacterial_spot', '___healthy', '___Target_Spot', '___Mosaic_Virus', '___Leaf_Mold', '___Leaf_miner', '___Curly_top_virus', '___Appids']\n",
      "\n",
      "PlantVillage\n",
      "['../datasets/plantvillage/___Yellow_Leaf_Curl_Virus', '../datasets/plantvillage/___Late_blight', '../datasets/plantvillage/___Early_blight', '../datasets/plantvillage/___Two-spotted_spider_mite', '../datasets/plantvillage/___Septoria_leaf_spot', '../datasets/plantvillage/___Bacterial_spot', '../datasets/plantvillage/___healthy', '../datasets/plantvillage/___Target_Spot', '../datasets/plantvillage/___Mosaic_Virus', '../datasets/plantvillage/___Leaf_Mold']\n",
      "10\n",
      "\n",
      "Self\n",
      "['../datasets/self/___Leaf_miner', '../datasets/self/___Early_blight', '../datasets/self/___Curly_top_virus', '../datasets/self/___Appids']\n",
      "4\n",
      "\n",
      "Validation\n",
      "['../datasets/validation/___Leaf_miner', '../datasets/validation/___Yellow_Leaf_Curl_Virus', '../datasets/validation/___Late_blight', '../datasets/validation/___Early_blight', '../datasets/validation/___Curly_top_virus', '../datasets/validation/___Bacterial_spot', '../datasets/validation/___healthy', '../datasets/validation/___Appids', '../datasets/validation/___Target_Spot', '../datasets/validation/___Mosaic_Virus', '../datasets/validation/___Leaf_Mold']\n",
      "11\n"
     ]
    }
   ],
   "source": [
    "# Get classes\n",
    "import os\n",
    "import re\n",
    "\n",
    "all_class_names = []\n",
    "class_paths_plant_village = []\n",
    "class_paths_plant_self = []\n",
    "class_paths_plant_validation = []\n",
    "\n",
    "for path in dataset_paths:\n",
    "    classes = os.listdir(path)\n",
    "    for i in classes:\n",
    "        if(re.search('___', i)):\n",
    "            if(i not in all_class_names):\n",
    "                all_class_names.append(i)\n",
    "            if(re.search('plantvillage', path)):\n",
    "                class_paths_plant_village.append(path + '/' + i)\n",
    "            elif(re.search('self', path)):\n",
    "                class_paths_plant_self.append(path + '/' + i)\n",
    "            else:\n",
    "                class_paths_plant_validation.append(path + '/' + i)\n",
    "\n",
    "print(all_class_names)   \n",
    "print()\n",
    "print('PlantVillage')\n",
    "print(class_paths_plant_village) \n",
    "print(len(class_paths_plant_village))\n",
    "print()\n",
    "print('Self')\n",
    "print(class_paths_plant_self) \n",
    "print(len(class_paths_plant_self))\n",
    "print()\n",
    "print('Validation')\n",
    "print(class_paths_plant_validation) \n",
    "print(len(class_paths_plant_validation))"
   ]
  },
  {
   "cell_type": "markdown",
   "metadata": {},
   "source": [
    "# Select training classes\n",
    "\n",
    "early blight in plantVillage dataset replaced by self one"
   ]
  },
  {
   "cell_type": "code",
   "execution_count": 7,
   "metadata": {},
   "outputs": [],
   "source": [
    "class_paths_training = ['../datasets/plantvillage/___Early_blight', '../datasets/plantvillage/___Late_blight', '../datasets/plantvillage/___healthy', '../datasets/plantvillage/___Mosaic_Virus', '../datasets/plantvillage/___Yellow_Leaf_Curl_Virus', '../datasets/plantvillage/___Leaf_Mold']"
   ]
  },
  {
   "cell_type": "markdown",
   "metadata": {},
   "source": [
    "# Load dataset"
   ]
  },
  {
   "cell_type": "code",
   "execution_count": 8,
   "metadata": {},
   "outputs": [
    {
     "name": "stdout",
     "output_type": "stream",
     "text": [
      "[INFO] loading images...\n",
      "6\n",
      "[INFO]: Processed 500/11182\n",
      "[INFO]: Processed 1000/11182\n",
      "[INFO]: Processed 1500/11182\n",
      "[INFO]: Processed 2000/11182\n",
      "[INFO]: Processed 2500/11182\n",
      "[INFO]: Processed 3000/11182\n",
      "[INFO]: Processed 3500/11182\n",
      "[INFO]: Processed 4000/11182\n",
      "[INFO]: Processed 4500/11182\n",
      "[INFO]: Processed 5000/11182\n",
      "[INFO]: Processed 5500/11182\n",
      "[INFO]: Processed 6000/11182\n",
      "[INFO]: Processed 6500/11182\n",
      "[INFO]: Processed 7000/11182\n",
      "[INFO]: Processed 7500/11182\n",
      "[INFO]: Processed 8000/11182\n",
      "[INFO]: Processed 8500/11182\n",
      "[INFO]: Processed 9000/11182\n",
      "[INFO]: Processed 9500/11182\n",
      "[INFO]: Processed 10000/11182\n",
      "[INFO]: Processed 10500/11182\n",
      "[INFO]: Processed 11000/11182\n"
     ]
    }
   ],
   "source": [
    "from sklearn.preprocessing import LabelBinarizer\n",
    "from sklearn.model_selection import train_test_split\n",
    "from sklearn.metrics import classification_report\n",
    "from keras.preprocessing.image   import ImageDataGenerator\n",
    "from keras.optimizers import RMSprop\n",
    "from keras.layers import Input\n",
    "from keras.models import Model\n",
    "from keras .applications import VGG16\n",
    "from keras.optimizers import SGD\n",
    "from keras.models import Model\n",
    "from imutils import paths\n",
    "import numpy as np\n",
    "import os\n",
    "\n",
    "import sys\n",
    "sys.path.append('..')\n",
    "\n",
    "from utils.preprocessors.aspect_aware_preprocessor import AspectAwarePreprocessor\n",
    "from utils.preprocessors.image_to_array_preprocessor import ImageToArrayPreprocessor\n",
    "from utils.io.simple_dataset_loader import SimpleDatasetLoader\n",
    "\n",
    "# construct the image generator for data augmentation\n",
    "aug = ImageDataGenerator(   rotation_range=30,\n",
    "                            width_shift_range=0.1,\n",
    "                            height_shift_range=0.1,\n",
    "                            shear_range=0.2,\n",
    "                            zoom_range=0.2,\n",
    "                            horizontal_flip=True,\n",
    "                            fill_mode='nearest')\n",
    "\n",
    "def load_datasets(path_list):\n",
    "    # Load image paths\n",
    "    image_paths = []\n",
    "    print(\"[INFO] loading images...\")\n",
    "    for path in path_list:\n",
    "        image_paths.extend(list(paths.list_images(path)))\n",
    "        \n",
    "    # Get unique classnames\n",
    "\n",
    "    class_names = [pt.split(os.path.sep)[-2] for pt in image_paths]\n",
    "    class_names = [str(x) for x in np.unique(class_names)]\n",
    "    \n",
    "    print(len(class_names))\n",
    "\n",
    "    # Initial image preprocessing\n",
    "    aap = AspectAwarePreprocessor(input_width, input_height)\n",
    "    iap= ImageToArrayPreprocessor()\n",
    "\n",
    "    #Load image data and perform image data preprocessing\n",
    "    sdl = SimpleDatasetLoader(preprocessors=[aap,iap])\n",
    "    (data,labels)  = sdl.load(image_paths,verbose=500)\n",
    "    data = data.astype(\"float\") / 255.0\n",
    "\n",
    "\n",
    "    # train test split\n",
    "    (train_x,test_x,train_y,test_y) = train_test_split(data,labels,test_size=0.25,random_state=42)\n",
    "\n",
    "    # convert the labels from integers to vectors\n",
    "    train_y = LabelBinarizer().fit_transform(train_y)\n",
    "    test_y = LabelBinarizer().fit_transform(test_y)\n",
    "    \n",
    "    return (train_x,test_x,train_y,test_y, class_names)\n",
    "\n",
    "(train_x,test_x,train_y,test_y, class_names) = load_datasets(class_paths_training)\n",
    "\n"
   ]
  },
  {
   "cell_type": "markdown",
   "metadata": {},
   "source": [
    "\n",
    "# Load model"
   ]
  },
  {
   "cell_type": "code",
   "execution_count": 9,
   "metadata": {},
   "outputs": [
    {
     "name": "stderr",
     "output_type": "stream",
     "text": [
      "/usr/local/lib/python3.5/dist-packages/keras_applications/resnet50.py:265: UserWarning: The output shape of `ResNet50(include_top=False)` has been changed since Keras 2.2.0.\n",
      "  warnings.warn('The output shape of `ResNet50(include_top=False)` '\n"
     ]
    }
   ],
   "source": [
    "from keras.applications import ResNet50\n",
    "from keras.utils.vis_utils import plot_model\n",
    "from keras.layers import Input\n",
    "\n",
    "base_model = ResNet50(weights='imagenet',include_top=False,\n",
    "                  input_tensor=Input(shape = (input_width,input_height, input_depth)))\n",
    "\n",
    "# plot_save_path = 'diagram-base-resnet50.png'\n",
    "# plot_model(base_model, to_file=plot_save_path, show_shapes=True)"
   ]
  },
  {
   "cell_type": "markdown",
   "metadata": {},
   "source": [
    "# Custom FC layer"
   ]
  },
  {
   "cell_type": "code",
   "execution_count": 10,
   "metadata": {},
   "outputs": [],
   "source": [
    "from keras.layers.core import Dropout\n",
    "from keras.layers.core import Flatten\n",
    "from keras.layers.core import Dense\n",
    "from keras.layers import GlobalAveragePooling2D\n",
    "\n",
    "head_model = base_model.output\n",
    "head_model = GlobalAveragePooling2D()(head_model)\n",
    "# Add a softmaxc layer\n",
    "head_model = Dense(len(class_paths_training),activation='softmax')(head_model)"
   ]
  },
  {
   "cell_type": "markdown",
   "metadata": {},
   "source": [
    "# Attach custom head to model"
   ]
  },
  {
   "cell_type": "code",
   "execution_count": 11,
   "metadata": {},
   "outputs": [],
   "source": [
    "from keras.models import Model\n",
    "\n",
    "\n",
    "# place the head FC model on top of the base model \n",
    "model = Model(inputs=base_model.input, outputs = head_model)\n",
    "\n",
    "# plot_save_path = 'diagram-head-attached-resnet50.png'\n",
    "# plot_model(model, to_file=plot_save_path, show_shapes=True)"
   ]
  },
  {
   "cell_type": "markdown",
   "metadata": {},
   "source": [
    "# Freeze base model"
   ]
  },
  {
   "cell_type": "code",
   "execution_count": 12,
   "metadata": {},
   "outputs": [],
   "source": [
    "# traverse all layers and freeze the weight of the corresponding layer\n",
    "for layer in base_model.layers:\n",
    "    layer.trainable = False"
   ]
  },
  {
   "cell_type": "markdown",
   "metadata": {},
   "source": [
    "# Compile model"
   ]
  },
  {
   "cell_type": "code",
   "execution_count": 13,
   "metadata": {},
   "outputs": [],
   "source": [
    "model.compile(optimizer='rmsprop', loss='categorical_crossentropy', metrics=['accuracy'])\n",
    "# Since we only train the new fully connected layer, we do a few iterations"
   ]
  },
  {
   "cell_type": "code",
   "execution_count": 14,
   "metadata": {},
   "outputs": [
    {
     "name": "stdout",
     "output_type": "stream",
     "text": [
      "['loss', 'accuracy']\n"
     ]
    }
   ],
   "source": [
    "print(model.metrics_names)"
   ]
  },
  {
   "cell_type": "markdown",
   "metadata": {},
   "source": [
    "# Checkpoints"
   ]
  },
  {
   "cell_type": "code",
   "execution_count": 15,
   "metadata": {},
   "outputs": [],
   "source": [
    "from keras.callbacks import ModelCheckpoint\n",
    "\n",
    "\n",
    "checkpoint = ModelCheckpoint(checkpoint_path, monitor='val_loss', mode='min', \n",
    "save_best_only=True, verbose=1)\n",
    "\n",
    "callbacks = [checkpoint]\n",
    "\n"
   ]
  },
  {
   "cell_type": "code",
   "execution_count": 16,
   "metadata": {},
   "outputs": [],
   "source": [
    "#load checkpoints if existing\n",
    "\n",
    "import os\n",
    "\n",
    "if(os.path.exists(checkpoint_path)):\n",
    "    model.load_weights(checkpoint_path)"
   ]
  },
  {
   "cell_type": "markdown",
   "metadata": {},
   "source": [
    "# Training monitor"
   ]
  },
  {
   "cell_type": "code",
   "execution_count": 17,
   "metadata": {},
   "outputs": [],
   "source": [
    "from utils.callbacks.training_monitor import TrainingMonitor\n",
    "import pathlib\n",
    "import json\n",
    "import os\n",
    "\n",
    "fig_path = \"plot\"\n",
    "json_path = \"values.json\"\n",
    "values_path = 'values.json'\n",
    "\n",
    "callbacks.append(TrainingMonitor(fig_path, json_path, start_epoch))"
   ]
  },
  {
   "cell_type": "markdown",
   "metadata": {},
   "source": [
    "# Warm up head"
   ]
  },
  {
   "cell_type": "code",
   "execution_count": 18,
   "metadata": {},
   "outputs": [
    {
     "name": "stdout",
     "output_type": "stream",
     "text": [
      "Epoch 1/50\n",
      "262/262 [==============================] - 148s 565ms/step - loss: 0.3454 - accuracy: 0.8874 - val_loss: 2.2961 - val_accuracy: 0.0340\n",
      "\n",
      "Epoch 00001: val_loss improved from inf to 2.29609, saving model to checkpoints-warmup.hdf5\n",
      "Epoch 2/50\n",
      "262/262 [==============================] - 141s 538ms/step - loss: 0.1265 - accuracy: 0.9577 - val_loss: 2.1145 - val_accuracy: 0.0340\n",
      "\n",
      "Epoch 00002: val_loss improved from 2.29609 to 2.11446, saving model to checkpoints-warmup.hdf5\n",
      "Epoch 3/50\n",
      "262/262 [==============================] - 141s 537ms/step - loss: 0.0966 - accuracy: 0.9685 - val_loss: 1.9045 - val_accuracy: 0.1524\n",
      "\n",
      "Epoch 00003: val_loss improved from 2.11446 to 1.90447, saving model to checkpoints-warmup.hdf5\n",
      "Epoch 4/50\n",
      "262/262 [==============================] - 141s 538ms/step - loss: 0.0770 - accuracy: 0.9735 - val_loss: 2.1797 - val_accuracy: 0.1667\n",
      "\n",
      "Epoch 00004: val_loss did not improve from 1.90447\n",
      "Epoch 5/50\n",
      "262/262 [==============================] - 141s 537ms/step - loss: 0.0695 - accuracy: 0.9751 - val_loss: 2.0074 - val_accuracy: 0.1670\n",
      "\n",
      "Epoch 00005: val_loss did not improve from 1.90447\n",
      "Epoch 6/50\n",
      "262/262 [==============================] - 138s 525ms/step - loss: 0.0672 - accuracy: 0.9775 - val_loss: 1.9946 - val_accuracy: 0.1674\n",
      "\n",
      "Epoch 00006: val_loss did not improve from 1.90447\n",
      "Epoch 7/50\n",
      "262/262 [==============================] - 137s 521ms/step - loss: 0.0576 - accuracy: 0.9807 - val_loss: 1.9874 - val_accuracy: 0.1674\n",
      "\n",
      "Epoch 00007: val_loss did not improve from 1.90447\n",
      "Epoch 8/50\n",
      "262/262 [==============================] - 135s 517ms/step - loss: 0.0618 - accuracy: 0.9783 - val_loss: 2.0130 - val_accuracy: 0.1674\n",
      "\n",
      "Epoch 00008: val_loss did not improve from 1.90447\n",
      "Epoch 9/50\n",
      "262/262 [==============================] - 136s 520ms/step - loss: 0.0546 - accuracy: 0.9826 - val_loss: 2.2974 - val_accuracy: 0.1674\n",
      "\n",
      "Epoch 00009: val_loss did not improve from 1.90447\n",
      "Epoch 10/50\n",
      "262/262 [==============================] - 136s 521ms/step - loss: 0.0483 - accuracy: 0.9832 - val_loss: 2.0121 - val_accuracy: 0.1674\n",
      "\n",
      "Epoch 00010: val_loss did not improve from 1.90447\n",
      "Epoch 11/50\n",
      "262/262 [==============================] - 135s 516ms/step - loss: 0.0512 - accuracy: 0.9835 - val_loss: 2.3039 - val_accuracy: 0.1674\n",
      "\n",
      "Epoch 00011: val_loss did not improve from 1.90447\n",
      "Epoch 12/50\n",
      "262/262 [==============================] - 135s 516ms/step - loss: 0.0491 - accuracy: 0.9826 - val_loss: 2.0264 - val_accuracy: 0.1674\n",
      "\n",
      "Epoch 00012: val_loss did not improve from 1.90447\n",
      "Epoch 13/50\n",
      "262/262 [==============================] - 137s 522ms/step - loss: 0.0422 - accuracy: 0.9850 - val_loss: 2.0096 - val_accuracy: 0.1674\n",
      "\n",
      "Epoch 00013: val_loss did not improve from 1.90447\n",
      "Epoch 14/50\n",
      "262/262 [==============================] - 135s 514ms/step - loss: 0.0529 - accuracy: 0.9851 - val_loss: 1.9502 - val_accuracy: 0.1674\n",
      "\n",
      "Epoch 00014: val_loss did not improve from 1.90447\n",
      "Epoch 15/50\n",
      "262/262 [==============================] - 133s 508ms/step - loss: 0.0549 - accuracy: 0.9874 - val_loss: 2.3453 - val_accuracy: 0.1674\n",
      "\n",
      "Epoch 00015: val_loss did not improve from 1.90447\n",
      "Epoch 16/50\n",
      "262/262 [==============================] - 132s 505ms/step - loss: 0.0387 - accuracy: 0.9883 - val_loss: 2.0758 - val_accuracy: 0.1674\n",
      "\n",
      "Epoch 00016: val_loss did not improve from 1.90447\n",
      "Epoch 17/50\n",
      "262/262 [==============================] - 130s 495ms/step - loss: 0.0438 - accuracy: 0.9846 - val_loss: 2.1461 - val_accuracy: 0.1674\n",
      "\n",
      "Epoch 00017: val_loss did not improve from 1.90447\n",
      "Epoch 18/50\n",
      "262/262 [==============================] - 130s 497ms/step - loss: 0.0433 - accuracy: 0.9884 - val_loss: 2.3722 - val_accuracy: 0.1674\n",
      "\n",
      "Epoch 00018: val_loss did not improve from 1.90447\n",
      "Epoch 19/50\n",
      "262/262 [==============================] - 130s 495ms/step - loss: 0.0390 - accuracy: 0.9866 - val_loss: 2.7357 - val_accuracy: 0.1674\n",
      "\n",
      "Epoch 00019: val_loss did not improve from 1.90447\n",
      "Epoch 20/50\n",
      "262/262 [==============================] - 129s 492ms/step - loss: 0.0356 - accuracy: 0.9880 - val_loss: 2.6925 - val_accuracy: 0.1674\n",
      "\n",
      "Epoch 00020: val_loss did not improve from 1.90447\n",
      "Epoch 21/50\n",
      "262/262 [==============================] - 130s 498ms/step - loss: 0.0338 - accuracy: 0.9887 - val_loss: 2.9737 - val_accuracy: 0.1674\n",
      "\n",
      "Epoch 00021: val_loss did not improve from 1.90447\n",
      "Epoch 22/50\n",
      "262/262 [==============================] - 130s 497ms/step - loss: 0.0352 - accuracy: 0.9877 - val_loss: 2.6030 - val_accuracy: 0.1674\n",
      "\n",
      "Epoch 00022: val_loss did not improve from 1.90447\n",
      "Epoch 23/50\n",
      "262/262 [==============================] - 130s 498ms/step - loss: 0.0370 - accuracy: 0.9879 - val_loss: 3.1034 - val_accuracy: 0.1674\n",
      "\n",
      "Epoch 00023: val_loss did not improve from 1.90447\n",
      "Epoch 24/50\n",
      "262/262 [==============================] - 130s 495ms/step - loss: 0.0476 - accuracy: 0.9874 - val_loss: 2.8092 - val_accuracy: 0.1674\n",
      "\n",
      "Epoch 00024: val_loss did not improve from 1.90447\n",
      "Epoch 25/50\n",
      "262/262 [==============================] - 128s 489ms/step - loss: 0.0357 - accuracy: 0.9895 - val_loss: 2.6869 - val_accuracy: 0.1674\n",
      "\n",
      "Epoch 00025: val_loss did not improve from 1.90447\n",
      "Epoch 26/50\n",
      "262/262 [==============================] - 130s 495ms/step - loss: 0.0320 - accuracy: 0.9889 - val_loss: 3.3317 - val_accuracy: 0.1674\n",
      "\n",
      "Epoch 00026: val_loss did not improve from 1.90447\n",
      "Epoch 27/50\n",
      "262/262 [==============================] - 130s 496ms/step - loss: 0.0312 - accuracy: 0.9890 - val_loss: 3.7657 - val_accuracy: 0.1674\n",
      "\n",
      "Epoch 00027: val_loss did not improve from 1.90447\n",
      "Epoch 28/50\n",
      "262/262 [==============================] - 130s 494ms/step - loss: 0.0292 - accuracy: 0.9890 - val_loss: 3.1327 - val_accuracy: 0.1674\n",
      "\n",
      "Epoch 00028: val_loss did not improve from 1.90447\n",
      "Epoch 29/50\n",
      "262/262 [==============================] - 129s 493ms/step - loss: 0.0326 - accuracy: 0.9883 - val_loss: 2.6952 - val_accuracy: 0.1674\n",
      "\n",
      "Epoch 00029: val_loss did not improve from 1.90447\n",
      "Epoch 30/50\n",
      "262/262 [==============================] - 129s 493ms/step - loss: 0.0347 - accuracy: 0.9892 - val_loss: 2.7041 - val_accuracy: 0.1674\n",
      "\n",
      "Epoch 00030: val_loss did not improve from 1.90447\n",
      "Epoch 31/50\n",
      "262/262 [==============================] - 129s 492ms/step - loss: 0.0301 - accuracy: 0.9895 - val_loss: 2.3681 - val_accuracy: 0.1674\n",
      "\n",
      "Epoch 00031: val_loss did not improve from 1.90447\n",
      "Epoch 32/50\n",
      "262/262 [==============================] - 130s 497ms/step - loss: 0.0278 - accuracy: 0.9893 - val_loss: 2.5506 - val_accuracy: 0.1674\n",
      "\n",
      "Epoch 00032: val_loss did not improve from 1.90447\n",
      "Epoch 33/50\n",
      "262/262 [==============================] - 128s 490ms/step - loss: 0.0307 - accuracy: 0.9900 - val_loss: 2.3270 - val_accuracy: 0.1674\n",
      "\n",
      "Epoch 00033: val_loss did not improve from 1.90447\n",
      "Epoch 34/50\n",
      "262/262 [==============================] - 128s 489ms/step - loss: 0.0373 - accuracy: 0.9920 - val_loss: 2.5641 - val_accuracy: 0.1674\n",
      "\n",
      "Epoch 00034: val_loss did not improve from 1.90447\n",
      "Epoch 35/50\n",
      "262/262 [==============================] - 128s 488ms/step - loss: 0.0256 - accuracy: 0.9914 - val_loss: 2.2919 - val_accuracy: 0.1674\n",
      "\n",
      "Epoch 00035: val_loss did not improve from 1.90447\n",
      "Epoch 36/50\n",
      "262/262 [==============================] - 129s 494ms/step - loss: 0.0273 - accuracy: 0.9905 - val_loss: 2.8637 - val_accuracy: 0.1674\n",
      "\n",
      "Epoch 00036: val_loss did not improve from 1.90447\n",
      "Epoch 37/50\n",
      "262/262 [==============================] - 130s 495ms/step - loss: 0.0276 - accuracy: 0.9908 - val_loss: 2.5479 - val_accuracy: 0.1674\n",
      "\n",
      "Epoch 00037: val_loss did not improve from 1.90447\n",
      "Epoch 38/50\n",
      "262/262 [==============================] - 128s 490ms/step - loss: 0.0287 - accuracy: 0.9904 - val_loss: 2.9494 - val_accuracy: 0.1674\n",
      "\n",
      "Epoch 00038: val_loss did not improve from 1.90447\n",
      "Epoch 39/50\n",
      "262/262 [==============================] - 131s 500ms/step - loss: 0.0262 - accuracy: 0.9915 - val_loss: 2.6525 - val_accuracy: 0.1674\n",
      "\n",
      "Epoch 00039: val_loss did not improve from 1.90447\n",
      "Epoch 40/50\n",
      "262/262 [==============================] - 129s 492ms/step - loss: 0.0303 - accuracy: 0.9892 - val_loss: 2.8529 - val_accuracy: 0.1674\n",
      "\n",
      "Epoch 00040: val_loss did not improve from 1.90447\n",
      "Epoch 41/50\n",
      "262/262 [==============================] - 129s 491ms/step - loss: 0.0256 - accuracy: 0.9905 - val_loss: 2.7456 - val_accuracy: 0.1674\n",
      "\n",
      "Epoch 00041: val_loss did not improve from 1.90447\n",
      "Epoch 42/50\n",
      "262/262 [==============================] - 128s 489ms/step - loss: 0.0280 - accuracy: 0.9907 - val_loss: 3.0507 - val_accuracy: 0.1674\n",
      "\n",
      "Epoch 00042: val_loss did not improve from 1.90447\n",
      "Epoch 43/50\n",
      "262/262 [==============================] - 128s 490ms/step - loss: 0.0306 - accuracy: 0.9914 - val_loss: 3.0767 - val_accuracy: 0.1674\n",
      "\n",
      "Epoch 00043: val_loss did not improve from 1.90447\n",
      "Epoch 44/50\n",
      "262/262 [==============================] - 128s 490ms/step - loss: 0.0264 - accuracy: 0.9908 - val_loss: 3.0235 - val_accuracy: 0.1674\n",
      "\n",
      "Epoch 00044: val_loss did not improve from 1.90447\n",
      "Epoch 45/50\n",
      "262/262 [==============================] - 127s 485ms/step - loss: 0.0308 - accuracy: 0.9901 - val_loss: 3.2848 - val_accuracy: 0.1674\n",
      "\n",
      "Epoch 00045: val_loss did not improve from 1.90447\n",
      "Epoch 46/50\n",
      "262/262 [==============================] - 128s 487ms/step - loss: 0.0260 - accuracy: 0.9914 - val_loss: 3.8673 - val_accuracy: 0.1674\n",
      "\n",
      "Epoch 00046: val_loss did not improve from 1.90447\n",
      "Epoch 47/50\n",
      "262/262 [==============================] - 127s 486ms/step - loss: 0.0238 - accuracy: 0.9919 - val_loss: 3.3513 - val_accuracy: 0.1674\n",
      "\n",
      "Epoch 00047: val_loss did not improve from 1.90447\n",
      "Epoch 48/50\n",
      "262/262 [==============================] - 129s 493ms/step - loss: 0.0210 - accuracy: 0.9915 - val_loss: 3.2279 - val_accuracy: 0.1674\n",
      "\n",
      "Epoch 00048: val_loss did not improve from 1.90447\n",
      "Epoch 49/50\n",
      "262/262 [==============================] - 128s 489ms/step - loss: 0.0287 - accuracy: 0.9907 - val_loss: 2.7261 - val_accuracy: 0.1674\n",
      "\n",
      "Epoch 00049: val_loss did not improve from 1.90447\n",
      "Epoch 50/50\n",
      "262/262 [==============================] - 128s 489ms/step - loss: 0.0246 - accuracy: 0.9914 - val_loss: 3.1123 - val_accuracy: 0.1674\n",
      "\n",
      "Epoch 00050: val_loss did not improve from 1.90447\n"
     ]
    }
   ],
   "source": [
    "model.fit_generator(\n",
    "    aug.flow(train_x,train_y, batch_size = batch_size),\n",
    "             validation_data = (test_x,test_y),\n",
    "             epochs=num_of_epochs,\n",
    "             steps_per_epoch = len(train_x) //32,\n",
    "             verbose = 1,\n",
    "             callbacks=callbacks)\n",
    "\n",
    "model.save(model_save_path)"
   ]
  },
  {
   "cell_type": "markdown",
   "metadata": {},
   "source": [
    "# Evaluate with 20% test set from same dataset"
   ]
  },
  {
   "cell_type": "code",
   "execution_count": 19,
   "metadata": {},
   "outputs": [
    {
     "name": "stdout",
     "output_type": "stream",
     "text": [
      "[INFO] evaluating with test set...\n",
      "                           precision    recall  f1-score   support\n",
      "\n",
      "          ___Early_blight       0.00      0.00      0.00       249\n",
      "           ___Late_blight       0.17      1.00      0.29       468\n",
      "             ___Leaf_Mold       0.00      0.00      0.00       244\n",
      "          ___Mosaic_Virus       0.00      0.00      0.00        95\n",
      "___Yellow_Leaf_Curl_Virus       0.00      0.00      0.00      1326\n",
      "               ___healthy       0.00      0.00      0.00       414\n",
      "\n",
      "              avg / total       0.03      0.17      0.05      2796\n",
      "\n"
     ]
    },
    {
     "name": "stderr",
     "output_type": "stream",
     "text": [
      "/usr/local/lib/python3.5/site-packages/sklearn/metrics/classification.py:1135: UndefinedMetricWarning: Precision and F-score are ill-defined and being set to 0.0 in labels with no predicted samples.\n",
      "  'precision', 'predicted', average, warn_for)\n"
     ]
    }
   ],
   "source": [
    "from sklearn.metrics import classification_report\n",
    "\n",
    "print(\"[INFO] evaluating with test set...\")\n",
    "predictions = model.predict(test_x,batch_size=batch_size)\n",
    "print(classification_report(test_y.argmax(axis =1),\n",
    "                            predictions.argmax(axis =1),target_names=class_names))"
   ]
  },
  {
   "cell_type": "markdown",
   "metadata": {},
   "source": [
    "# Evaluate with validation images"
   ]
  },
  {
   "cell_type": "code",
   "execution_count": 20,
   "metadata": {},
   "outputs": [],
   "source": [
    "class_paths_validation = ['../datasets/validation/___Early_blight', '../datasets/validation/___Late_blight', '../datasets/validation/___healthy', '../datasets/validation/___Mosaic_Virus', '../datasets/validation/___Yellow_Leaf_Curl_Virus', '../datasets/validation/___Leaf_Mold']"
   ]
  },
  {
   "cell_type": "code",
   "execution_count": 21,
   "metadata": {},
   "outputs": [
    {
     "name": "stdout",
     "output_type": "stream",
     "text": [
      "[INFO] loading images...\n",
      "6\n",
      "[INFO] evaluating with validation set...\n",
      "                           precision    recall  f1-score   support\n",
      "\n",
      "          ___Early_blight     0.0000    0.0000    0.0000        12\n",
      "           ___Late_blight     0.4235    1.0000    0.5950        36\n",
      "             ___Leaf_Mold     0.0000    0.0000    0.0000        25\n",
      "          ___Mosaic_Virus     0.0000    0.0000    0.0000         6\n",
      "___Yellow_Leaf_Curl_Virus     0.0000    0.0000    0.0000         3\n",
      "               ___healthy     0.0000    0.0000    0.0000         3\n",
      "\n",
      "              avg / total     0.1794    0.4235    0.2520        85\n",
      "\n"
     ]
    }
   ],
   "source": [
    "(train_x,test_x,train_y,test_y, class_names) = load_datasets(class_paths_validation)\n",
    "\n",
    "from sklearn.metrics import classification_report\n",
    "\n",
    "print(\"[INFO] evaluating with validation set...\")\n",
    "predictions = model.predict(test_x,batch_size=batch_size)\n",
    "\n",
    "print(classification_report(test_y.argmax(axis =1),\n",
    "                            predictions.argmax(axis =1),\n",
    "                            target_names=class_names, \n",
    "                            digits=4))"
   ]
  },
  {
   "cell_type": "code",
   "execution_count": null,
   "metadata": {},
   "outputs": [],
   "source": []
  }
 ],
 "metadata": {
  "file_extension": ".py",
  "kernelspec": {
   "display_name": "Python 3",
   "language": "python",
   "name": "python3"
  },
  "language_info": {
   "codemirror_mode": {
    "name": "ipython",
    "version": 3
   },
   "file_extension": ".py",
   "mimetype": "text/x-python",
   "name": "python",
   "nbconvert_exporter": "python",
   "pygments_lexer": "ipython3",
   "version": "3.5.3"
  },
  "mimetype": "text/x-python",
  "name": "python",
  "npconvert_exporter": "python",
  "pygments_lexer": "ipython3",
  "version": 3
 },
 "nbformat": 4,
 "nbformat_minor": 4
}
